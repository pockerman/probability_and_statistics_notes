{
 "cells": [
  {
   "cell_type": "markdown",
   "id": "03610e7e-9f9a-48ce-829e-74a00c0c55b2",
   "metadata": {},
   "source": [
    "# Computing Frameworks"
   ]
  },
  {
   "cell_type": "markdown",
   "id": "e55340cd-031c-4380-bd4d-85651fb4e34b",
   "metadata": {},
   "source": [
    "In this chapter we introduce various frameworks for speeding up computations. \n",
    "In addition, we will introduce various patterns that are frequently encountered in computing."
   ]
  },
  {
   "cell_type": "code",
   "execution_count": null,
   "id": "6c73dcb7-63aa-4048-ac3e-0185d0d8aac7",
   "metadata": {},
   "outputs": [],
   "source": []
  }
 ],
 "metadata": {
  "kernelspec": {
   "display_name": "Python 3 (ipykernel)",
   "language": "python",
   "name": "python3"
  },
  "language_info": {
   "codemirror_mode": {
    "name": "ipython",
    "version": 3
   },
   "file_extension": ".py",
   "mimetype": "text/x-python",
   "name": "python",
   "nbconvert_exporter": "python",
   "pygments_lexer": "ipython3",
   "version": "3.10.6"
  }
 },
 "nbformat": 4,
 "nbformat_minor": 5
}
