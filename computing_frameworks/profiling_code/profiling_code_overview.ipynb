{
 "cells": [
  {
   "cell_type": "markdown",
   "id": "5ff82b04-38e9-4d7b-bb32-a6205fcb996d",
   "metadata": {},
   "source": [
    "# Profiling Code Overview"
   ]
  },
  {
   "cell_type": "code",
   "execution_count": null,
   "id": "8a2987a2-c1e6-42c5-aaac-484167637484",
   "metadata": {},
   "outputs": [],
   "source": []
  }
 ],
 "metadata": {
  "kernelspec": {
   "display_name": "Python 3 (ipykernel)",
   "language": "python",
   "name": "python3"
  },
  "language_info": {
   "codemirror_mode": {
    "name": "ipython",
    "version": 3
   },
   "file_extension": ".py",
   "mimetype": "text/x-python",
   "name": "python",
   "nbconvert_exporter": "python",
   "pygments_lexer": "ipython3",
   "version": "3.10.6"
  }
 },
 "nbformat": 4,
 "nbformat_minor": 5
}
