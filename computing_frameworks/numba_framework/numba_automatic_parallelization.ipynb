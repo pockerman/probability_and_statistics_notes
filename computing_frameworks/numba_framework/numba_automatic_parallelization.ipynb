{
 "cells": [
  {
   "cell_type": "markdown",
   "id": "48b547b4-1daf-430b-b42a-b1c79d683fc8",
   "metadata": {},
   "source": [
    "# Using ```numba```: Automatic parallelization with ```jit```\n"
   ]
  },
  {
   "cell_type": "markdown",
   "id": "cbecd8b5-67a5-4e6b-a7d3-280b3c9b090f",
   "metadata": {},
   "source": [
    "## Overview"
   ]
  },
  {
   "cell_type": "markdown",
   "id": "d0829bb5-0999-4fbe-9aee-b06eb42d1a41",
   "metadata": {},
   "source": [
    "In this section we introduce <a href=\"https://numba.pydata.org/\">numba</a>. Numba  is a Python framework for parallelizing computations.\n",
    "It translates Python functions to optimized machine code at runtime using the industry-standard LLVM compiler library. Numba-compiled numerical algorithms in Python can approach the speeds of C or FORTRAN. Numba offers a range of options for parallelizing your code for CPUs and GPUs, often with only minor code changes."
   ]
  },
  {
   "cell_type": "markdown",
   "id": "e37524c8-4822-4938-adaa-9797e32895e9",
   "metadata": {},
   "source": [
    "## Using ```numba```"
   ]
  },
  {
   "cell_type": "markdown",
   "id": "1b502587-dd35-498e-b7ed-bce2b9d25bcb",
   "metadata": {},
   "source": [
    "Setting the parallel option for ```jit()``` enables a Numba transformation pass that attempts to automatically parallelize and perform other optimizations on (part of) a function. At the moment, this feature only works on CPUs."
   ]
  },
  {
   "cell_type": "markdown",
   "id": "a767704f-7f37-43a2-aae3-516c02d8e668",
   "metadata": {
    "tags": []
   },
   "source": [
    "### Explicit parallel loops"
   ]
  },
  {
   "cell_type": "markdown",
   "id": "4c7b1743-65e9-46b9-ad48-63c48ea5b731",
   "metadata": {},
   "source": [
    "Another feature of the code transformation pass (when parallel=True) is support for explicit parallel loops. One can use Numba’s ```prange``` instead of range to specify that a loop can be parallelized. The user is required to make sure that the loop does not have cross iteration dependencies except for supported reductions. Here is an example."
   ]
  },
  {
   "cell_type": "code",
   "execution_count": 35,
   "id": "6bb2bac9-6171-445c-9374-07972d3e20c3",
   "metadata": {},
   "outputs": [],
   "source": [
    "import numpy as np\n",
    "from numba import njit, prange, jit\n",
    "from typing import Callable, Tuple\n",
    "import random\n",
    "import time"
   ]
  },
  {
   "cell_type": "code",
   "execution_count": 2,
   "id": "d3e2b119-1a98-4088-9e29-4feb7dc92fad",
   "metadata": {},
   "outputs": [],
   "source": [
    "\n",
    "\n",
    "@njit(parallel=True)\n",
    "def prange_test(arr):\n",
    "    s = 0\n",
    "    # Without \"parallel=True\" in the jit-decorator\n",
    "    # the prange statement is equivalent to range\n",
    "    for i in prange(arr.shape[0]):\n",
    "        s += arr[i]\n",
    "    return s"
   ]
  },
  {
   "cell_type": "code",
   "execution_count": 3,
   "id": "5c70f5f6-a18b-4097-8991-8c654714683e",
   "metadata": {},
   "outputs": [
    {
     "data": {
      "text/plain": [
       "499999500000"
      ]
     },
     "execution_count": 3,
     "metadata": {},
     "output_type": "execute_result"
    }
   ],
   "source": [
    "data = [i for i in range(1000000)]\n",
    "prange_test(np.array(data))"
   ]
  },
  {
   "cell_type": "markdown",
   "id": "2baedc84-672b-45ae-aa85-830e7c2f6a1d",
   "metadata": {},
   "source": [
    "We can also perform reductions into slices or elements of an array. However, if the elements specified by the slice or index are written simultaneously by multiple parallel threads then a race condition will occur and this may go undetected by the compiler. "
   ]
  },
  {
   "cell_type": "markdown",
   "id": "c7bb26f5-f9d6-4e36-b73b-0621ff8b2b76",
   "metadata": {},
   "source": [
    "## Example 1"
   ]
  },
  {
   "cell_type": "markdown",
   "id": "46665c40-2b78-4a2c-9f75-0175ad210bb9",
   "metadata": {},
   "source": [
    "In this example we use ```numba``` to parallelize the basic Monte Carlo integration method. "
   ]
  },
  {
   "cell_type": "code",
   "execution_count": 32,
   "id": "f186e456-3af1-4297-80d4-925af6f28349",
   "metadata": {},
   "outputs": [],
   "source": [
    "@jit(parallel=True, nopython=True)\n",
    "def mc_parallel(n: int, \n",
    "                interval: Tuple[float, float]) -> Tuple[float,float]:\n",
    "    \n",
    "    # the function to integrate. Numba\n",
    "    # gives warnings (nopython=False)\n",
    "    # or fails (nopython=True) if the function\n",
    "    # is passed as an argument\n",
    "    def f(x):\n",
    "        return x*x*x\n",
    "    \n",
    "    # initialize\n",
    "    integral = 0.0\n",
    "    y = np.zeros(n)\n",
    "    \n",
    "    a = interval[0]\n",
    "    b = interval[1]\n",
    "                 \n",
    "    for i in prange(n):\n",
    "        \n",
    "        # sample a point \n",
    "        point = random.uniform(a,b)\n",
    "        val_f = f(point)\n",
    "        integral += val_f\n",
    "        y[i] = val_f*(b-a)\n",
    "                 \n",
    "    # compute the answer\n",
    "    integral = integral *(b-a) / float(n) \n",
    "                 \n",
    "    # compute standard error\n",
    "    sum_2 = 0.0\n",
    "    for i in prange(len(y)):\n",
    "          sum_2 += (y[i] - integral)*(y[i] - integral)\n",
    "    \n",
    "                 \n",
    "    s2 = np.sqrt(sum_2/(n-1))\n",
    "    se_hat = s2/np.sqrt(n)\n",
    "                 \n",
    "    return integral, se_hat"
   ]
  },
  {
   "cell_type": "code",
   "execution_count": 36,
   "id": "502dcec1-52ab-4c8e-a5a7-f23f47c8ebc3",
   "metadata": {},
   "outputs": [
    {
     "name": "stdout",
     "output_type": "stream",
     "text": [
      "Calculated answer=0.25250796910413603\n",
      "Standard error of estimate 0.0028373751302988447\n",
      "95% C.I. for estimate=[0.2469467138487503, 0.2580692243595218\n",
      "Elapsed (with compilation) = 0.032784223556518555\n"
     ]
    }
   ],
   "source": [
    "interval = (0.0, 1.0)\n",
    "exact_answer = 1.0 / 4.0\n",
    "\n",
    "start = time.time()\n",
    "integral, se_hat = mc_parallel(n=10000, interval=interval)\n",
    "end = time.time()\n",
    "print(f\"Calculated answer={integral}\")\n",
    "print(f\"Standard error of estimate {se_hat}\")\n",
    "print(f\"95% C.I. for estimate=[{integral - 1.96*se_hat}, {integral + 1.96*se_hat}\")\n",
    "print(\"Elapsed (with compilation) = %s\" % (end - start))"
   ]
  },
  {
   "cell_type": "code",
   "execution_count": null,
   "id": "91f44035-221f-4864-ae07-1e57a922536d",
   "metadata": {},
   "outputs": [],
   "source": []
  },
  {
   "cell_type": "code",
   "execution_count": null,
   "id": "e18e3e43-9039-487c-b660-d478854365dc",
   "metadata": {},
   "outputs": [],
   "source": []
  }
 ],
 "metadata": {
  "kernelspec": {
   "display_name": "Python 3 (ipykernel)",
   "language": "python",
   "name": "python3"
  },
  "language_info": {
   "codemirror_mode": {
    "name": "ipython",
    "version": 3
   },
   "file_extension": ".py",
   "mimetype": "text/x-python",
   "name": "python",
   "nbconvert_exporter": "python",
   "pygments_lexer": "ipython3",
   "version": "3.10.6"
  }
 },
 "nbformat": 4,
 "nbformat_minor": 5
}
