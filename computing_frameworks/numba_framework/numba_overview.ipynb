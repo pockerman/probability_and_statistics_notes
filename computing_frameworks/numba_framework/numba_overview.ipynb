{
 "cells": [
  {
   "cell_type": "markdown",
   "id": "33b793cd-cc1a-4dad-9c62-e8189c9a5e58",
   "metadata": {},
   "source": [
    "# Numba"
   ]
  },
  {
   "cell_type": "markdown",
   "id": "cb03f935-f30f-45f1-862c-849d8271eea0",
   "metadata": {},
   "source": [
    "In this section we introduce <a href=\"https://numba.pydata.org/\">numba</a>. Numba  is a Python framework for parallelizing computations.\n",
    "It translates Python functions to optimized machine code at runtime using the industry-standard LLVM compiler library. Numba-compiled numerical algorithms in Python can approach the speeds of C or FORTRAN. Numba offers a range of options for parallelizing your code for CPUs and GPUs, often with only minor code changes."
   ]
  },
  {
   "cell_type": "markdown",
   "id": "e204faa2-7da5-425e-a63a-643749016913",
   "metadata": {},
   "source": [
    "## Installing ```numba```"
   ]
  },
  {
   "cell_type": "markdown",
   "id": "a28251bb-2660-455e-ba49-17ec4091eded",
   "metadata": {},
   "source": [
    "There are various ways to install ```numba```. You can find more information at the official numba <a href=\"https://numba.readthedocs.io/en/stable/user/installing.html\">Installation</a> page. Installing with ```pip```, translates to"
   ]
  },
  {
   "cell_type": "markdown",
   "id": "7f84936f-958a-4016-ab5e-51af03e5c0b6",
   "metadata": {},
   "source": [
    "```pip install numba```"
   ]
  },
  {
   "cell_type": "markdown",
   "id": "33f6d45b-69be-46c0-bbf4-2e29546beaa9",
   "metadata": {},
   "source": [
    "----\n",
    "**Remark**\n",
    "\n",
    "To use CUDA with Numba installed by ```pip```, you need to install the CUDA SDK from NVIDIA. \n",
    "\n",
    "----"
   ]
  },
  {
   "cell_type": "code",
   "execution_count": null,
   "id": "faa8b401-db0a-4dc4-9cf7-6ceee3288801",
   "metadata": {},
   "outputs": [],
   "source": []
  }
 ],
 "metadata": {
  "kernelspec": {
   "display_name": "Python 3 (ipykernel)",
   "language": "python",
   "name": "python3"
  },
  "language_info": {
   "codemirror_mode": {
    "name": "ipython",
    "version": 3
   },
   "file_extension": ".py",
   "mimetype": "text/x-python",
   "name": "python",
   "nbconvert_exporter": "python",
   "pygments_lexer": "ipython3",
   "version": "3.10.6"
  }
 },
 "nbformat": 4,
 "nbformat_minor": 5
}
