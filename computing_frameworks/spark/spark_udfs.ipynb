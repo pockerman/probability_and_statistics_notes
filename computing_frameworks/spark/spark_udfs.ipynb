{
 "cells": [
  {
   "cell_type": "markdown",
   "id": "e99fb103-d6e3-4afd-96e9-886f88a4d5ad",
   "metadata": {},
   "source": [
    "# Spark User Defined Functions"
   ]
  },
  {
   "cell_type": "markdown",
   "id": "f42a67c6-7294-4003-a477-04519ca76e6e",
   "metadata": {},
   "source": [
    "## Overview"
   ]
  },
  {
   "cell_type": "markdown",
   "id": "a87556f9-267e-496e-af83-27f00dbf55aa",
   "metadata": {},
   "source": [
    "Spark provides a powerful computational engine and we have seen some core aspects of it thus far. In this\n",
    "section, we will look into how to create user defined functions and integrate these in Spark."
   ]
  },
  {
   "cell_type": "markdown",
   "id": "27bfeda0-bc40-42dd-85ef-deb75f599fe9",
   "metadata": {},
   "source": [
    "## User defined functions in Spark"
   ]
  },
  {
   "cell_type": "markdown",
   "id": "2a2864f0-2075-46df-addc-af246e8957f7",
   "metadata": {},
   "source": []
  },
  {
   "cell_type": "markdown",
   "id": "d6576b29-1527-4d7b-acfa-a7206da7e8b2",
   "metadata": {},
   "source": [
    "## References"
   ]
  },
  {
   "cell_type": "markdown",
   "id": "d799d745-0f1e-42e9-8caa-368b873fd5b7",
   "metadata": {},
   "source": [
    "1. Jules S. Damji, Brooke Wenig, Tathagata Das, Deny Lee, _Learning Spark. Lighting-fasts data analytics_, 2nd Edition, O'Reilly."
   ]
  }
 ],
 "metadata": {
  "kernelspec": {
   "display_name": "Python 3 (ipykernel)",
   "language": "python",
   "name": "python3"
  },
  "language_info": {
   "codemirror_mode": {
    "name": "ipython",
    "version": 3
   },
   "file_extension": ".py",
   "mimetype": "text/x-python",
   "name": "python",
   "nbconvert_exporter": "python",
   "pygments_lexer": "ipython3",
   "version": "3.10.12"
  }
 },
 "nbformat": 4,
 "nbformat_minor": 5
}
