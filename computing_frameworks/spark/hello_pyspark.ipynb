{
 "cells": [
  {
   "cell_type": "markdown",
   "id": "9db9d807-a654-45c6-80b0-a584f7cd4303",
   "metadata": {},
   "source": [
    "# Hello PySprak"
   ]
  },
  {
   "cell_type": "markdown",
   "id": "a62364f7-e6f6-4d9a-abef-d19c9d882722",
   "metadata": {},
   "source": [
    "## Overview"
   ]
  },
  {
   "cell_type": "markdown",
   "id": "bb032766-ed9c-4dc8-9df7-beaf2c107a2d",
   "metadata": {},
   "source": [
    "In this section we will submit our first Python based script to be executed with Spark. You can find\n",
    "more examples on the official Apache Spark website. In particular the <a href=\"https://spark.apache.org/docs/latest/api/python/getting_started/quickstart_df.html\">Quickstart: DataFrame</a> covers many\n",
    "introductory topics."
   ]
  },
  {
   "cell_type": "markdown",
   "id": "e6956016-4fb9-4049-b191-87ea225ff240",
   "metadata": {},
   "source": [
    "## Example"
   ]
  },
  {
   "cell_type": "markdown",
   "id": "f3675fb2-b97a-4acb-bfef-50bb07168ff0",
   "metadata": {},
   "source": [
    "Spark applications start with initializing ```SparkSession``` which is the entry point of Spark. When\n",
    "executing spark via the REPL we are provided with a ```SparkSession``` named ```spark```.\n",
    "When creating scripts to be submitted to Spark, the script needs to create this variable.\n",
    "Given that creating multiple ```SparkSession```  and ```SparkContext``` instances can cause issues, so it's best practice to use the ```SparkSession.builder.getOrCreate()``` method as it is done in the script below. \n",
    "This returns an existing ```SparkSession``` if there's already one in the environment, or creates a new one if needed."
   ]
  },
  {
   "cell_type": "markdown",
   "id": "d163fd02-d82b-455e-b6ef-2469a124107b",
   "metadata": {},
   "source": [
    "```\n",
    "from pyspark.sql import SparkSession\n",
    "\n",
    "\n",
    "APP_NAME=\"Hello PySpark\"\n",
    "\n",
    "if __name__ == '__main__':\n",
    "\n",
    "    # we need a SparkSession object n order\n",
    "    # to be able to use the Spark API\n",
    "\n",
    "    spark = SparkSession.builder.appName(APP_NAME).getOrCreate()\n",
    "\n",
    "    print(f\"Running spark app {APP_NAME}\")\n",
    "    spark.stop()\n",
    "```"
   ]
  },
  {
   "cell_type": "markdown",
   "id": "e719e3ca-0f17-48eb-b0bb-bda3f16ec2ea",
   "metadata": {},
   "source": [
    "Submit your application to Spark by using the ```spark-submit``` script as shown beloww\n",
    "\n",
    "```\n",
    "<YOUR-PATH-TO-SPARK>/bin/spark-submit hello_pyspark.py\n",
    "```"
   ]
  },
  {
   "cell_type": "markdown",
   "id": "090bea7f-5278-42b4-a525-10c962f60b8e",
   "metadata": {},
   "source": [
    "Spark's default output can be quite verbose, we can however configure this aspect. Isolating the relevant output, you should be\n",
    "able to see something similar to what is shown below."
   ]
  },
  {
   "cell_type": "markdown",
   "id": "7e219f7f-fa62-4683-9f73-e484763ee1c2",
   "metadata": {},
   "source": [
    "```\n",
    "...\n",
    "\n",
    "Running spark app Hello PySpark\n",
    "\n",
    "...\n",
    "\n",
    "```"
   ]
  },
  {
   "cell_type": "markdown",
   "id": "7672eda8-29ad-476a-9bb1-9231453c3056",
   "metadata": {},
   "source": [
    "## Summary"
   ]
  },
  {
   "cell_type": "markdown",
   "id": "c41b5108-1bee-40c8-a58e-f86e876ed32a",
   "metadata": {},
   "source": [
    "## References"
   ]
  },
  {
   "cell_type": "markdown",
   "id": "095fbc4e-c75a-417a-b938-89444c1807c1",
   "metadata": {},
   "source": [
    "1. Jules S. Damji, Brooke Wenig, Tathagata Das, Deny Lee, _Learning Spark. Lighting-fasts data analytics_, 2nd Edition, O'Reilly."
   ]
  },
  {
   "cell_type": "code",
   "execution_count": null,
   "id": "dc633c68-89c9-4d3d-87bc-0a6443a96318",
   "metadata": {},
   "outputs": [],
   "source": []
  }
 ],
 "metadata": {
  "kernelspec": {
   "display_name": "Python 3 (ipykernel)",
   "language": "python",
   "name": "python3"
  },
  "language_info": {
   "codemirror_mode": {
    "name": "ipython",
    "version": 3
   },
   "file_extension": ".py",
   "mimetype": "text/x-python",
   "name": "python",
   "nbconvert_exporter": "python",
   "pygments_lexer": "ipython3",
   "version": "3.10.12"
  }
 },
 "nbformat": 4,
 "nbformat_minor": 5
}
