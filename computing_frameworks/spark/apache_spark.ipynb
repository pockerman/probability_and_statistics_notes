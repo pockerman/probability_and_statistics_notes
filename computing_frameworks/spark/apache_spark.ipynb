{
 "cells": [
  {
   "cell_type": "markdown",
   "id": "17e8f51c-4840-477b-9398-0ac5d3c4dd4d",
   "metadata": {},
   "source": [
    "# Apache Spark"
   ]
  },
  {
   "cell_type": "markdown",
   "id": "a8dd00d1-dbf2-4731-93a0-6df86494a2eb",
   "metadata": {},
   "source": [
    "In this part of the notes  we look into the <a href=\"https://spark.apache.org/\">Apache Spark</a> software. \n",
    "Apache Spark is one of the de facto tools to use when dealing with big data analytics. Specifically, we will discuss the\n",
    "following items"
   ]
  },
  {
   "cell_type": "markdown",
   "id": "2fd345f0-15b8-4338-b257-988a1750b533",
   "metadata": {},
   "source": [
    "- How Spark applications are structured\n",
    "- Performing analytics with Spark's built in functionality\n",
    "- Configuring and deploying a Spark cluster\n"
   ]
  },
  {
   "cell_type": "markdown",
   "id": "4ce060c1-80e2-4701-a5a2-4e9186edf506",
   "metadata": {},
   "source": [
    "## References"
   ]
  },
  {
   "cell_type": "markdown",
   "id": "23797231-bc07-4230-9888-df703393b427",
   "metadata": {},
   "source": [
    "1. Jules S. Damji, Brooke Wenig, Tathagata Das, Deny Lee, _Learning Spark. Lighting-fasts data analytics_, 2nd Edition, O'Reilly."
   ]
  }
 ],
 "metadata": {
  "kernelspec": {
   "display_name": "Python 3 (ipykernel)",
   "language": "python",
   "name": "python3"
  },
  "language_info": {
   "codemirror_mode": {
    "name": "ipython",
    "version": 3
   },
   "file_extension": ".py",
   "mimetype": "text/x-python",
   "name": "python",
   "nbconvert_exporter": "python",
   "pygments_lexer": "ipython3",
   "version": "3.10.12"
  }
 },
 "nbformat": 4,
 "nbformat_minor": 5
}
