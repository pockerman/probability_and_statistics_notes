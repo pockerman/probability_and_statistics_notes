{
 "cells": [
  {
   "cell_type": "markdown",
   "id": "b4886fff-e6dc-4d19-b999-717b55b97e4d",
   "metadata": {},
   "source": [
    "# Spark SQL Views"
   ]
  },
  {
   "cell_type": "markdown",
   "id": "9e062c84-e17d-42eb-b66e-7cea3217167f",
   "metadata": {},
   "source": [
    "## Overview"
   ]
  },
  {
   "cell_type": "markdown",
   "id": "a1e4fa4b-541d-40f4-8d94-9f939058e11b",
   "metadata": {},
   "source": [
    "The previous section introduced SQL tables in Spark. Tables persist beyond the Spark session that they were created. \n",
    "In this section, we will look into Spark views. A view in Spark refers to a table and can be either global i.e.\n",
    "accross all SparkSessions on a given cluster or session-scoped [1]. However, views are temporary i.e. once the Spark\n",
    "application terminates, they disappear [1]."
   ]
  },
  {
   "cell_type": "markdown",
   "id": "046b477c-0623-4b14-9e2f-a4b90b81fb76",
   "metadata": {},
   "source": [
    "## Spark SQL views"
   ]
  },
  {
   "cell_type": "markdown",
   "id": "5055930a-e384-4bc5-835d-585b3f84c54e",
   "metadata": {},
   "source": [
    "Creating a view in Spark has a similar syntax to creating a table. The difference between a table and a view\n",
    "is that a view does not actually hold any data [1]. Once a view is created, we cab query just like we\n",
    "can query a table. Creating a view of a table is simple. This is shown below\n",
    "\n",
    "\n",
    "```\n",
    "query = \"CREATE OR REPLACE GLOBAL TEMP VIEW iris_sepal_patal_width_view AS SELECT sepal_width, petal_width FROM iris_dataset\"\n",
    "spark.sql(query)\n",
    "```\n",
    "\n",
    "or a local view using\n",
    "\n",
    "\n",
    "```\n",
    "query = CREATE OR REPLACE TEMP VIEW iris_sepal_patal_width_view AS SELECT sepal_width, petal_width FROM iris_dataset\n",
    "spark.sql(query)\n",
    "\n",
    "```\n",
    "\n",
    "The same effect can be achived using the API exposed by _DataFrame_ as shown below\n",
    "\n",
    "\n",
    "```\n",
    "df.createOrReplaceGlobalTempView(\"iris_sepal_patal_width_view\")\n",
    "df.createOrReplaceTempView(\"iris_sepal_patal_width_view\")\n",
    "```\n",
    "\n",
    "Note that when using a a global temporary view we must use the prefix ```gloabl_temp.<your-view-name>```. This is\n",
    "because Spark creates gloabl temporary views in a global temporary database called ```global_temp``` [1]. For example,\n",
    "\n",
    "```\n",
    "SELECT * FROM global_temp.<your-view-name>\n",
    "```\n",
    "\n",
    "\n",
    "Similarly, we can drop a view using either SQL or the API exposed by the _DataFrame_ class.\n",
    "\n",
    "```\n",
    "DROP VIEW IF EXISTS <your-view-name>\n",
    "spark.catalog.dropGlobalTempView(\"<your-view-name>\")\n",
    "spark.catalog.dropTempView(\"<your-view-name>\")\n",
    "```\n",
    "\n"
   ]
  },
  {
   "cell_type": "markdown",
   "id": "2aaf1771-2573-48b7-a854-b8fb85dd6c18",
   "metadata": {},
   "source": [
    "## Summary"
   ]
  },
  {
   "cell_type": "markdown",
   "id": "a0bcfab2-c18a-4b1b-9026-c8e7272fc9e8",
   "metadata": {},
   "source": [
    "In this section we discussed views in Spark. Views are like tables but they are temporary i.e. after the \n",
    "_SparkSession_ that created the view exits. We can have either global or local views. The former can be accessed by\n",
    "every _SparkSession_ that is active on the Spark cluster whereas the latter only by the specific session that created it."
   ]
  },
  {
   "cell_type": "markdown",
   "id": "d384323d-ef9a-460b-8c23-8e601e8b2f68",
   "metadata": {},
   "source": [
    "## References"
   ]
  },
  {
   "cell_type": "markdown",
   "id": "b92b1314-a5ca-4b8a-93c9-fd438c900d04",
   "metadata": {},
   "source": [
    "1. Jules S. Damji, Brooke Wenig, Tathagata Das, Deny Lee, _Learning Spark. Lighting-fasts data analytics_, 2nd Edition, O'Reilly."
   ]
  }
 ],
 "metadata": {
  "kernelspec": {
   "display_name": "Python 3 (ipykernel)",
   "language": "python",
   "name": "python3"
  },
  "language_info": {
   "codemirror_mode": {
    "name": "ipython",
    "version": 3
   },
   "file_extension": ".py",
   "mimetype": "text/x-python",
   "name": "python",
   "nbconvert_exporter": "python",
   "pygments_lexer": "ipython3",
   "version": "3.10.12"
  }
 },
 "nbformat": 4,
 "nbformat_minor": 5
}
