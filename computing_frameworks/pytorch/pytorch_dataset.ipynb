{
 "cells": [
  {
   "cell_type": "markdown",
   "metadata": {},
   "source": [
    "#  PyTorch ```Dataset```"
   ]
  },
  {
   "cell_type": "markdown",
   "metadata": {},
   "source": [
    "## Contents"
   ]
  },
  {
   "cell_type": "markdown",
   "metadata": {},
   "source": [
    "\n",
    "* [Overview](#overview) \n",
    "* [PyTorch ```Dataset```](#ekf)\n",
    "* [PyTorch ```DataLoader```](#sub_sect_1)\n",
    "* [References](#refs)"
   ]
  },
  {
   "cell_type": "markdown",
   "metadata": {},
   "source": [
    "## <a name=\"overview\"></a> Overview"
   ]
  },
  {
   "cell_type": "markdown",
   "metadata": {},
   "source": [
    "In this notebook we will go over the abstract ```Dataset``` class.  As its name suggests, this class represents a dataset. Our custom dataset should inherit ```Dataset``` and override the  following two methods [1]\n"
   ]
  },
  {
   "cell_type": "markdown",
   "metadata": {},
   "source": [
    "- ```__len__``` i.e. ```len(dataset)``` should return the size of the data set\n",
    "- ```__getitem__``` to support the indexing such that ```dataset[i]``` can be used to get ith sample"
   ]
  },
  {
   "cell_type": "markdown",
   "metadata": {},
   "source": [
    "## <a name=\"ekf\"></a> PyTorch ```Dataset```"
   ]
  },
  {
   "cell_type": "code",
   "execution_count": 1,
   "metadata": {},
   "outputs": [],
   "source": [
    "import numpy as np\n",
    "from torch.utils.data import Dataset"
   ]
  },
  {
   "cell_type": "markdown",
   "metadata": {},
   "source": [
    "Define out own ```Dataset```"
   ]
  },
  {
   "cell_type": "code",
   "execution_count": 2,
   "metadata": {},
   "outputs": [],
   "source": [
    "X = np.array([[0.0, 1.0], [2.0, 1.0], [4.0, 5.5]])\n",
    "y = np.array([0, 1, 2])"
   ]
  },
  {
   "cell_type": "code",
   "execution_count": 5,
   "metadata": {},
   "outputs": [],
   "source": [
    "class ExampleDataSet(Dataset):\n",
    "    \n",
    "    def __init__(self, X, y, transform=None):\n",
    "        self._X = X\n",
    "        self._y = y\n",
    "        self._transform = transform\n",
    "        \n",
    "    def __getitem__(self, index):\n",
    "        \"\"\"\n",
    "        Returns the index-th training example and label\n",
    "        \n",
    "        \"\"\"\n",
    "        \n",
    "        if self._transform is not None:\n",
    "            x, y = elf._transform(self._X[index], self._y[index])\n",
    "        else:\n",
    "            \n",
    "            x = self._X[index] \n",
    "            y = self._y[index] \n",
    "        \n",
    "        return self._X[index], self._y[index] \n",
    "    \n",
    "    def __len__(self):\n",
    "        \"\"\"\n",
    "        Returns how many items are in the dataset\n",
    "        \"\"\"\n",
    "        return self._X.shape[0]\n",
    "    \n",
    "    "
   ]
  },
  {
   "cell_type": "code",
   "execution_count": 6,
   "metadata": {},
   "outputs": [],
   "source": [
    "dataset = ExampleDataSet(X=X, y=y)"
   ]
  },
  {
   "cell_type": "code",
   "execution_count": 8,
   "metadata": {},
   "outputs": [
    {
     "name": "stdout",
     "output_type": "stream",
     "text": [
      "Number of training examples=3\n"
     ]
    }
   ],
   "source": [
    "print(\"Number of training examples={0}\".format(len(dataset)))"
   ]
  },
  {
   "cell_type": "code",
   "execution_count": 9,
   "metadata": {},
   "outputs": [
    {
     "name": "stdout",
     "output_type": "stream",
     "text": [
      "The first training example is=[0. 1.] with label=0\n"
     ]
    }
   ],
   "source": [
    "print(\"The first training example is={0} with label={1}\".format(dataset[0][0], dataset[0][1]))"
   ]
  },
  {
   "cell_type": "markdown",
   "metadata": {},
   "source": [
    "### <a name=\"sub_sect_1\"></a> PyTorch ```DataLoader```"
   ]
  },
  {
   "cell_type": "markdown",
   "metadata": {},
   "source": [
    "A ```DataLoader``` takes in a dataset and defines rules for successively generating batches of data. For example"
   ]
  },
  {
   "cell_type": "markdown",
   "metadata": {},
   "source": [
    "```\n",
    "dataloader = DataLoader(dataset, batch_size=60, shuffle=True)\n",
    "```"
   ]
  },
  {
   "cell_type": "markdown",
   "metadata": {},
   "source": [
    "## <a name=\"refs\"></a> References"
   ]
  },
  {
   "cell_type": "markdown",
   "metadata": {},
   "source": [
    "1. <a href=\"https://pytorch.org/tutorials/beginner/data_loading_tutorial.html\">Writing Custom Datasets, DataLoaders and Transforms</a>"
   ]
  }
 ],
 "metadata": {
  "kernelspec": {
   "display_name": "Python 3",
   "language": "python",
   "name": "python3"
  },
  "language_info": {
   "codemirror_mode": {
    "name": "ipython",
    "version": 3
   },
   "file_extension": ".py",
   "mimetype": "text/x-python",
   "name": "python",
   "nbconvert_exporter": "python",
   "pygments_lexer": "ipython3",
   "version": "3.8.5"
  }
 },
 "nbformat": 4,
 "nbformat_minor": 4
}
