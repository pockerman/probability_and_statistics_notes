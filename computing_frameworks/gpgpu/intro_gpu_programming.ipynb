{
 "cells": [
  {
   "cell_type": "markdown",
   "id": "665534c0-9540-4144-82cb-a625312adc32",
   "metadata": {},
   "source": [
    "# Introduction to GPU Programming"
   ]
  },
  {
   "cell_type": "markdown",
   "id": "e09e120b-1167-4442-8891-6f109d2c7e44",
   "metadata": {},
   "source": [
    "## Overview"
   ]
  },
  {
   "cell_type": "markdown",
   "id": "57eb7470-d1d4-42ae-b9c9-cd75996b0885",
   "metadata": {},
   "source": [
    "Before looking into any frameworks for GPU programming let's have an overivew of what programming a GPU entails.\n",
    "This is an introductory section."
   ]
  },
  {
   "cell_type": "markdown",
   "id": "988cca4f-c59e-4154-80bc-4b656360de75",
   "metadata": {},
   "source": [
    "##  Introduction to GPU Programming"
   ]
  },
  {
   "cell_type": "markdown",
   "id": "e1f706e5-ed58-473d-8ffa-cd86cb9274cc",
   "metadata": {},
   "source": [
    "In general, the GPU\n",
    "provides much higher instruction throughput as well as memory bandwidth that a CPU with a similar operating envelope.\n",
    "Leveraging these capabilities allows an application to run faster on the GPU. This is because, the two are designed having\n",
    "different goals in mind. A CPU is designed to perform very well a sequence of operations, i.e. a thread. It is designed to do so as fast as possible and can exexcute a few tens of these [1]. On the other hand, GPU is designed to excel at executing thousands of threads in parallel.\n",
    " "
   ]
  },
  {
   "cell_type": "markdown",
   "id": "3393ca48-1a7f-4ccb-997e-138dc5575664",
   "metadata": {},
   "source": [
    "These twi different goals are reflected in the different architectures that a CPU and a  GPU is have. \n",
    "The figure below shows an example distribution of chip resources for a CPU versus a GPU.\n",
    "Notice that overall the CPU architecture is more complex than the GPU architecture."
   ]
  },
  {
   "cell_type": "markdown",
   "id": "1ca6ab8c-d533-48df-b0e2-2e90025a53ce",
   "metadata": {},
   "source": [
    "| ![cpu-vs-gpu-architecture](./images/gpu-devotes-more-transistors-to-data-processing.png) |\n",
    "|:--:|\n",
    "| **Figure: CPU vs GPU architectures. Image from [1]**|"
   ]
  },
  {
   "cell_type": "markdown",
   "id": "66530082-5e7b-4c21-ada2-15d6549f60e0",
   "metadata": {},
   "source": [
    "## References"
   ]
  },
  {
   "cell_type": "markdown",
   "id": "d2018970-13b8-4e6e-bfaa-f8d85201b0d8",
   "metadata": {},
   "source": [
    "1. <a href=\"https://docs.nvidia.com/cuda/cuda-c-programming-guide/index.html\">CUDA C++ Programming Guide</a>"
   ]
  }
 ],
 "metadata": {
  "kernelspec": {
   "display_name": "Python 3 (ipykernel)",
   "language": "python",
   "name": "python3"
  },
  "language_info": {
   "codemirror_mode": {
    "name": "ipython",
    "version": 3
   },
   "file_extension": ".py",
   "mimetype": "text/x-python",
   "name": "python",
   "nbconvert_exporter": "python",
   "pygments_lexer": "ipython3",
   "version": "3.10.6"
  }
 },
 "nbformat": 4,
 "nbformat_minor": 5
}
