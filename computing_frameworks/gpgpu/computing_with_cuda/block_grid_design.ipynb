{
 "cells": [
  {
   "cell_type": "markdown",
   "metadata": {},
   "source": [
    "# Block & Grid Design"
   ]
  },
  {
   "cell_type": "markdown",
   "metadata": {},
   "source": [
    "The optimization of the grid and block design depends on both the data layout of\n",
    "the problem and the hardware capabilities of the target device. In that regard, it is\n",
    "advisable to design an algorithm that adapts to the available CUDA hardware and\n",
    "dynamically deploys the threads as required to minimize the total execution time."
   ]
  },
  {
   "cell_type": "markdown",
   "metadata": {},
   "source": [
    "One of the aspects of the execution minimization problem is that the available\n",
    "computing hardware should be “occupied/busy” as much as possible. Two things\n",
    "must happen:"
   ]
  },
  {
   "cell_type": "markdown",
   "metadata": {},
   "source": [
    "- Enough work should be assigned to the CUDA cores (deployment/execution configuration phase)."
   ]
  },
  {
   "cell_type": "markdown",
   "metadata": {},
   "source": [
    "- The assigned work should allow execution with the minimum amount of stalling due to resource contention or slow memory access (execution phase)."
   ]
  },
  {
   "cell_type": "markdown",
   "metadata": {},
   "source": [
    "Block and grid designs influence the first aspect; the second one is a multifaceted\n",
    "aspect of CUDA program design. The total number of threads\n",
    "per block and the total number of blocks in the grid do."
   ]
  },
  {
   "cell_type": "markdown",
   "metadata": {},
   "source": [
    "The first step in designing a host front-end function that adjusts the execution\n",
    "configuration to the capabilities of the target device is the discovery of said capabilities and primarily the number of available SMs. Central to querying the capabilities\n",
    "of a device is the c```udaDeviceProp``` structure, which is populated by a call to the\n",
    "```cudaGetDeviceProperties()``` function"
   ]
  },
  {
   "cell_type": "markdown",
   "metadata": {},
   "source": [
    "The following is a generic approach that could be used for listing the names of\n",
    "the GPUs in a system equipped with multiple devices:"
   ]
  },
  {
   "cell_type": "code",
   "execution_count": null,
   "metadata": {},
   "outputs": [],
   "source": []
  }
 ],
 "metadata": {
  "kernelspec": {
   "display_name": "Python 3 (ipykernel)",
   "language": "python",
   "name": "python3"
  },
  "language_info": {
   "codemirror_mode": {
    "name": "ipython",
    "version": 3
   },
   "file_extension": ".py",
   "mimetype": "text/x-python",
   "name": "python",
   "nbconvert_exporter": "python",
   "pygments_lexer": "ipython3",
   "version": "3.10.6"
  }
 },
 "nbformat": 4,
 "nbformat_minor": 4
}
