{
 "cells": [
  {
   "cell_type": "markdown",
   "metadata": {},
   "source": [
    "# CUDA Threads"
   ]
  },
  {
   "cell_type": "markdown",
   "metadata": {},
   "source": [
    "* [Overview](#overview) \n",
    "* [CUDA threads](#ekf)\n",
    "* [References](#refs)"
   ]
  },
  {
   "cell_type": "markdown",
   "metadata": {},
   "source": [
    "## <a name=\"overview\"></a> Overview"
   ]
  },
  {
   "cell_type": "markdown",
   "metadata": {},
   "source": [
    "In this section we give an overview of CUDA threads. In general, threads in CUDA are arranged in blocks which themselves are arranged into grids. If any of the dimensions is not specified, is set to 1 by default. Each thread in CUDA is aware of its position within the grid/block hierarchy via the ```blockDim``` and ```gridDim``` structures provided by the SDK."
   ]
  },
  {
   "cell_type": "markdown",
   "metadata": {},
   "source": [
    "## <a name=\"ekf\"></a> CUDA threads"
   ]
  },
  {
   "cell_type": "markdown",
   "metadata": {},
   "source": [
    "In CUDA threads are organised into blocks. A block can be either 1D or 2D or 3D. Blocks are arranged into grids. Similar to blocks, a grid can  1D or 2D or 3D. A block as well as a grid are represented via the ```dim3``` data structure. For example the following launches a _kernel_ onto a grid of $(4, 3, 2)$ blocks where each block is a $(3,2)$ "
   ]
  },
  {
   "cell_type": "markdown",
   "metadata": {},
   "source": [
    "```\n",
    "dim3 block(3, 2);\n",
    "dim3 grid(4,3,2);\n",
    "foo<<<grid, block>>>();\n",
    "```"
   ]
  },
  {
   "cell_type": "markdown",
   "metadata": {},
   "source": [
    "If any of the dimensions is not specified, is set to 1 by default. Each thread in CUDA is aware of its position within the grid/block hierarchy via the ```blockDim``` and ```gridDim``` structures provided by the SDK. Thus"
   ]
  },
  {
   "cell_type": "markdown",
   "metadata": {},
   "source": [
    "- ```blockDim``` contains the size of each block $(B_x, B_y, B_z)$\n",
    "- ```gridDim``` contains the size of the grid in blocks $(G_x, G_y, G_z)$\n",
    "- ```threadIdx``` is the thread position within a block. It has three components as follows\n",
    "    - $x \\in [0, B_x -1]$\n",
    "    - $y \\in [0, B_y -1]$\n",
    "    - $z \\in [0, B_z -1]$\n",
    "- ```blockIdx``` is the $(b_x, b_y, b_z)$ position of a thread's block within the grid. Each of the $x,y$ and $z$ components follows the same constraints as the ```threadIdx``` above."
   ]
  },
  {
   "cell_type": "markdown",
   "metadata": {},
   "source": [
    "When launching multiple blocks a ```threadIdx``` is not unique since there could be two or more threads\n",
    "in different blocks with the same index. Given this, how can we calculate a unique global id for our thread?"
   ]
  },
  {
   "cell_type": "markdown",
   "metadata": {},
   "source": [
    "We can assume that each thread is an element of a 6D array that has the following arrangement"
   ]
  },
  {
   "cell_type": "markdown",
   "metadata": {},
   "source": [
    "```\n",
    "Thread t[G.z][G.y][G.x][B.z][B.y][B.x]\n",
    "```"
   ]
  },
  {
   "cell_type": "markdown",
   "metadata": {},
   "source": [
    "We can then calculate a unique id according to"
   ]
  },
  {
   "cell_type": "markdown",
   "metadata": {},
   "source": [
    "```\n",
    "int t_id = (blockIdx.z * gridDim.x*gridDim.y + \n",
    "            blockIdx . y ∗ gridDim . x +\n",
    "            blockIdx . x ) ∗ blockDim . x ∗ blockDim . y ∗ blockDim . z +\n",
    "            threadIdx . z ∗ blockDim . x ∗ blockDim . y +\n",
    "            threadIdx . y ∗ blockDim . x +\n",
    "            threadIdx . x ;\n",
    "```"
   ]
  },
  {
   "cell_type": "markdown",
   "metadata": {},
   "source": [
    "The global coordinates of the threads can be obtained according to"
   ]
  },
  {
   "cell_type": "markdown",
   "metadata": {},
   "source": [
    "```\n",
    "//start of block + local component\n",
    "x = blockIdx . x ∗ blockDim . x + threadIdx . x ;\n",
    "y = blockIdx . y ∗ blockDim . y + threadIdx . y ;\n",
    "z = blockIdx . z ∗ blockDim . z + threadIdx . z ;\n",
    "```"
   ]
  },
  {
   "cell_type": "markdown",
   "metadata": {},
   "source": [
    "In the next section we will discuss more on how the threads are arranged in CUDA. In particular, we will see that  the threads within a block do not run concurrently. Instead they are executed in groups called warps. The size of a warp is hardware-specific."
   ]
  },
  {
   "cell_type": "markdown",
   "metadata": {},
   "source": [
    "## <a name=\"ekf\"></a> References"
   ]
  }
 ],
 "metadata": {
  "kernelspec": {
   "display_name": "Python 3 (ipykernel)",
   "language": "python",
   "name": "python3"
  },
  "language_info": {
   "codemirror_mode": {
    "name": "ipython",
    "version": 3
   },
   "file_extension": ".py",
   "mimetype": "text/x-python",
   "name": "python",
   "nbconvert_exporter": "python",
   "pygments_lexer": "ipython3",
   "version": "3.10.6"
  }
 },
 "nbformat": 4,
 "nbformat_minor": 4
}
