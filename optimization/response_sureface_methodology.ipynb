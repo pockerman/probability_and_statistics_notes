{
 "cells": [
  {
   "cell_type": "markdown",
   "id": "382d8396-cce0-488b-ba7a-e519aa78b435",
   "metadata": {},
   "source": [
    "# Response Surface Methodology\n"
   ]
  },
  {
   "cell_type": "markdown",
   "id": "726dd505-98ac-4908-aa9c-d9647091e605",
   "metadata": {},
   "source": [
    "## Overview"
   ]
  },
  {
   "cell_type": "markdown",
   "id": "ede32a2a-eca0-4160-abd7-4a96530d336f",
   "metadata": {},
   "source": [
    "In this section we will look into another optimization methodology \n",
    "particularly suitable for continuous parameters. Namely, we will look into\n",
    "the <a href=\"#\">Response Surface Methodology</a> or RSM for short. Just like A/B testing, RSM\n",
    "allows us to optimize a system by experimenting on it. However, RSM does not have as a broad\n",
    "scope as A/B testing."
   ]
  },
  {
   "cell_type": "markdown",
   "id": "a01b55a9-3091-49fa-9353-b67e8e4bf2e2",
   "metadata": {},
   "source": [
    "## Response surface methodology"
   ]
  },
  {
   "cell_type": "markdown",
   "id": "10d68e0e-3057-4993-9cec-d01e3374243b",
   "metadata": {},
   "source": [
    "RSM is similar to A/B testing in the sense that it also involves the three stages we discussed when looking A/B testing namely; design, measure and analyze. However, the methods differ in how the analysis stage is carried out. In RSM, we generally, build a model, e.g. linear regression, that interpolates between measurements. We then optimze over that model to find good estimates of the optimal parameters settings. Therefore, RSM also involves an extra step; the validation stage."
   ]
  },
  {
   "cell_type": "markdown",
   "id": "31fe87cc-97e8-4326-8360-3a5763940885",
   "metadata": {},
   "source": [
    "The main innovation of RSM comes at the analysis stage, where we build a model\n",
    "to out of the measured system metric in order to get estimates of that metric without \n",
    "taking any measurements. In other words, we exchange meausrement with model estimates."
   ]
  },
  {
   "cell_type": "code",
   "execution_count": null,
   "id": "bc3633d9-824b-4964-a4c3-dfb36382a3a7",
   "metadata": {},
   "outputs": [],
   "source": []
  },
  {
   "cell_type": "code",
   "execution_count": null,
   "id": "a2c6ec79-9887-469b-816b-1c42faaf1b06",
   "metadata": {},
   "outputs": [],
   "source": []
  },
  {
   "cell_type": "markdown",
   "id": "b81b813f-200d-4ade-8883-e526af192c04",
   "metadata": {},
   "source": [
    "## Summary"
   ]
  },
  {
   "cell_type": "markdown",
   "id": "c8da0f1f-b9e1-40eb-a6d0-81b79d051109",
   "metadata": {},
   "source": [
    "## References"
   ]
  },
  {
   "cell_type": "markdown",
   "id": "857daadc-162a-4ce4-a52b-8ff4b2d7ac90",
   "metadata": {},
   "source": [
    "1. David Sweet _Experimentation for engineers_, Manning Publications, 2023."
   ]
  }
 ],
 "metadata": {
  "kernelspec": {
   "display_name": "Python 3 (ipykernel)",
   "language": "python",
   "name": "python3"
  },
  "language_info": {
   "codemirror_mode": {
    "name": "ipython",
    "version": 3
   },
   "file_extension": ".py",
   "mimetype": "text/x-python",
   "name": "python",
   "nbconvert_exporter": "python",
   "pygments_lexer": "ipython3",
   "version": "3.10.12"
  }
 },
 "nbformat": 4,
 "nbformat_minor": 5
}
