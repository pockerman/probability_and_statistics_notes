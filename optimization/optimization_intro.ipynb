{
 "cells": [
  {
   "cell_type": "markdown",
   "id": "bd6dab2c-ee45-464e-9382-1d9309c19f94",
   "metadata": {},
   "source": [
    "# Optimization"
   ]
  },
  {
   "cell_type": "markdown",
   "id": "7f5f1699-2112-43af-b7a4-283ff745dcd4",
   "metadata": {},
   "source": [
    "In this part of the notes, we will review various optimization methodologies used widedly in engineering, social sciences and other \n",
    "scientific fields. In general, terms, optimization methodologies try to provide answers to what would a good set of parameters, or even better, the \n",
    "best set of parameters given a specific input."
   ]
  },
  {
   "cell_type": "code",
   "execution_count": null,
   "id": "f5f2b750-2722-4db7-82d8-fdf35c821937",
   "metadata": {},
   "outputs": [],
   "source": []
  }
 ],
 "metadata": {
  "kernelspec": {
   "display_name": "Python 3 (ipykernel)",
   "language": "python",
   "name": "python3"
  },
  "language_info": {
   "codemirror_mode": {
    "name": "ipython",
    "version": 3
   },
   "file_extension": ".py",
   "mimetype": "text/x-python",
   "name": "python",
   "nbconvert_exporter": "python",
   "pygments_lexer": "ipython3",
   "version": "3.10.12"
  }
 },
 "nbformat": 4,
 "nbformat_minor": 5
}
