{
 "cells": [
  {
   "cell_type": "markdown",
   "metadata": {},
   "source": [
    "# Singular Value Decomposition"
   ]
  },
  {
   "cell_type": "markdown",
   "metadata": {},
   "source": [
    "## Singular Value Decomposition"
   ]
  },
  {
   "cell_type": "markdown",
   "metadata": {},
   "source": [
    "One of the most important matrix factorization techniques is the <a href=\"https://en.wikipedia.org/wiki/Singular_value_decomposition\">singular value decomposition</a> most often abbreviated as SVD. The reason why is so popular lies on the fact that it is the foundation for many other computational techniques. For example, just to name a few: \n"
   ]
  },
  {
   "cell_type": "markdown",
   "metadata": {},
   "source": [
    "- Computing pseudo-inverses\n",
    "- Obtaining low-rank matrix approximations\n",
    "- Dynamic mode decomposition\n",
    "- Proper orthogonal ecomposition\n",
    "- Principal components analysis"
   ]
  },
  {
   "cell_type": "markdown",
   "metadata": {},
   "source": [
    "For a complex matrix $A \\in \\mathbb{C}^{n\\times m}$, its SVD is "
   ]
  },
  {
   "cell_type": "markdown",
   "metadata": {},
   "source": [
    "$$A = U\\Sigma V^{*}$$"
   ]
  },
  {
   "cell_type": "markdown",
   "metadata": {},
   "source": [
    "where $V^{*}$ is the complex conjugate transpose. Both $U$ and $V$ are <a href=\"https://en.wikipedia.org/wiki/Unitary_matrix\">unitary matrices</a> that is the following holds "
   ]
  },
  {
   "cell_type": "markdown",
   "metadata": {},
   "source": [
    "$$UU^{*} = U^{*}U = I$$"
   ]
  },
  {
   "cell_type": "markdown",
   "metadata": {},
   "source": [
    "In general, if a matrix $W$ is a real matrix i.e. its entries are real numbers, then $W^{*} = W^T$. Thus, if $A \\in \\mathbb{R}^{n \\times m}$ the matrices $U$ and $V$ are real orthogonal matrices i.e. "
   ]
  },
  {
   "cell_type": "markdown",
   "metadata": {},
   "source": [
    "$$UU^{T} = U^{T}U = I$$"
   ]
  },
  {
   "cell_type": "markdown",
   "metadata": {},
   "source": [
    "The matrix $\\Sigma$ is a diagonal matrix with real and nonnegative entries on the diagonal. The entries $\\Sigma_{ii}$ are called the singular values of $A$. The number of the non-zero singular values corresponds to the rank of the matrix $A$."
   ]
  },
  {
   "cell_type": "markdown",
   "metadata": {},
   "source": [
    "Given the popularity of the SVD method, it is not surpsising that most linear algebra libraries provide a way to perform it. The following script shows how to compute the SVD in Python using ```numpy```"
   ]
  },
  {
   "cell_type": "markdown",
   "metadata": {},
   "source": [
    "```\n",
    "import numpy as np\n",
    "X = np.random.rand(10 , 10)\n",
    "U, S, V = np.linalg.svd(X, full_matrices=True)\n",
    "# or doing economy SVD\n",
    "U, S, V = np.linalg.svd(X, full_matrices=False)\n",
    "```"
   ]
  },
  {
   "cell_type": "markdown",
   "metadata": {},
   "source": [
    "You can find the documentation at <a href=\"https://numpy.org/doc/stable/reference/generated/numpy.linalg.svd.html\">numpy.linalg.svd</a>. Similarly, using the <a href=\"https://bitbucket.org/blaze-lib/blaze/src/master/\">Blaze</a> C++ library  "
   ]
  },
  {
   "cell_type": "markdown",
   "metadata": {},
   "source": [
    "```\n",
    "template< typename MT1, bool SO, typename VT, bool TF, typename MT2, typename MT3 >\n",
    "void svd( const DenseMatrix<MT1,SO>& A, DenseMatrix<MT2,SO>& U,\n",
    "          DenseVector<VT,TF>& s, DenseMatrix<MT3,SO>& V );\n",
    "```"
   ]
  },
  {
   "cell_type": "markdown",
   "metadata": {},
   "source": [
    "Overall, the SVD algorithm is a very important matrix decomposition technique used throughout numerical modeling control theory and system identification. We will see applications of the method in future posts."
   ]
  }
 ],
 "metadata": {
  "kernelspec": {
   "display_name": "Python 3 (ipykernel)",
   "language": "python",
   "name": "python3"
  },
  "language_info": {
   "codemirror_mode": {
    "name": "ipython",
    "version": 3
   },
   "file_extension": ".py",
   "mimetype": "text/x-python",
   "name": "python",
   "nbconvert_exporter": "python",
   "pygments_lexer": "ipython3",
   "version": "3.10.6"
  }
 },
 "nbformat": 4,
 "nbformat_minor": 4
}
