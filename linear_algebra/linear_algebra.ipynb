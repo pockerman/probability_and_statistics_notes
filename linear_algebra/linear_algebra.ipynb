{
 "cells": [
  {
   "cell_type": "markdown",
   "id": "3235d620-9dc8-4c5a-9ac2-cea66dafd373",
   "metadata": {},
   "source": [
    "## Linear Algebra"
   ]
  },
  {
   "cell_type": "markdown",
   "id": "4cb1d0d2-7809-41cd-a6cd-0e03fa406225",
   "metadata": {},
   "source": [
    "<a href=\"https://en.wikipedia.org/wiki/Linear_algebra\">Linear algebra</a> and in particular \n",
    "<a href=\"https://en.wikipedia.org/wiki/Numerical_linear_algebra\">computational linear algebra</a> plays\n",
    "a key role in almost all the material that will be discussed in these notes.\n",
    "\n",
    "In computational linear algebra we are concerned with the solution of linear systems of equations.\n",
    "We can express such a system in the form\n",
    "\n",
    "$$A \\mathbf{x} = \\mathbf{b}$$\n",
    "\n",
    "We will see under which conditions such a system is solvable. In any case, we when solve such a system\n",
    "we are interested in \n",
    "\n",
    "- accuracy; the algorithm stability as well as how well-conditioned the problem is play a crucial role\n",
    "- efficiency; in general we are interested in large systems of equations\n",
    "\n",
    "In general, the system of equations given above, will have a unique solution iff \n",
    "\n",
    "$$det(A) \\neq 0$$\n",
    "\n",
    "This condition implies that $A$ has linearly independent rows/columns and that A is invertible.\n",
    "In this case the system has a unique solution given by\n",
    "\n",
    "$$ \\mathbf{x} = A^{-1}\\mathbf{b}$$\n",
    "\n",
    "Notice however that for the systems we are interested in, computing the matrix inverse i.e. $A^{-1}$ is either\n",
    "computationally expensive or not feasible. So, although in theory we have a nice respresentation of the unique solution,\n",
    "in practice this may not always be very useful.\n",
    "\n",
    "\n",
    "When $$det(A) = 0$$\n",
    "\n",
    "the system may have infinite solutions or none. When $\\mathbf{b} \\in ~range(A)$\n",
    "then the system has an inifinite number of solutions. Whereas when $\\mathbf{b} \\notin ~range(A)$\n",
    "the system has no solutions.\n",
    "\n",
    "## Resources\n",
    "\n",
    "The following is a list of resources that have been used in one way or another in order to put this\n",
    "chapter together.\n",
    "\n",
    "- <a href=\"https://github.com/fastai/numerical-linear-algebra\">Computational Linear Algebra for Coders</a> GitHub repository with\n",
    "material related to Computational linear algebra with a focus on Machine Learning."
   ]
  }
 ],
 "metadata": {
  "kernelspec": {
   "display_name": "Python 3 (ipykernel)",
   "language": "python",
   "name": "python3"
  },
  "language_info": {
   "codemirror_mode": {
    "name": "ipython",
    "version": 3
   },
   "file_extension": ".py",
   "mimetype": "text/x-python",
   "name": "python",
   "nbconvert_exporter": "python",
   "pygments_lexer": "ipython3",
   "version": "3.10.6"
  }
 },
 "nbformat": 4,
 "nbformat_minor": 5
}
