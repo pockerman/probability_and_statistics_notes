{
 "cells": [
  {
   "cell_type": "markdown",
   "id": "d80b211f-a67e-4fce-980e-a39541900c26",
   "metadata": {},
   "source": [
    "# Law of Large Number and The Central Limit Theorem {#sec-limit-theorems-clt}"
   ]
  },
  {
   "cell_type": "markdown",
   "id": "6cbe5690-0397-4694-8d9c-cecb2946ecb6",
   "metadata": {},
   "source": [
    "## Overview"
   ]
  },
  {
   "cell_type": "markdown",
   "id": "1ea0580e-8446-424a-8368-f232a9bda42b",
   "metadata": {},
   "source": [
    "One of the most importan aspects of probability theory deals with the behaviour of sequences of random variables.\n",
    "This is often called <a href=\"https://en.wikipedia.org/wiki/Asymptotic_theory_(statistics)\">asymtpotic theory</a>\n",
    "or large sample theory or limit theory [2]. In this context, the basic question is this [2]:\n",
    "\n",
    "_What can we say about the limiting behaviour of the sequence of random variables $X_1, X_2, X_3, \\dots$?_\n",
    "\n",
    "This question is very important for statistics and when we gather more and more data.\n",
    "In this chapter, we will discuss some very useful limit theorems from probability theory.\n",
    "Specifically, we will discuss\n",
    "\n",
    "- The <a href=\"https://en.wikipedia.org/wiki/Law_of_large_numbers\">law of large numbers</a>\n",
    "- The <a href=\"https://en.wikipedia.org/wiki/Central_limit_theorem\">central limit theorem</a> or CLT for short\n",
    "\n",
    "\n",
    "The law of large numbers says that the sample average $\\bar{x}$ converges in probability to the expectation $\\mu$ i.e. that \n",
    "$\\bar{x}$ will get close to $\\mu$ with high probability. The central limit theorem tell us that the sample average has approximately \n",
    "a normal distribution for large $n$. Note that there are many central limit theorems having different degrees of abstraction and\n",
    "generality, [7], we will only be dealing with the simplest one herein.\n"
   ]
  },
  {
   "cell_type": "markdown",
   "id": "3efaa2ae-9f14-4a85-9ebd-cd8df65bcd96",
   "metadata": {},
   "source": [
    "## Law of large numbers\n",
    "Intuition tells us that if we toss a fair coin many times and we record the proportion of \n",
    "heads, this proportion will be close to $1/2$. This belief can be expressed mathematically via the law of large numbers.\n",
    "This can be done as follows. Each toss is modelled as an independent random trial. At each trial we record 1 if we get head or 0 if we\n",
    "get tails. Then the proportion of heads in $n$ trials is\n",
    "\n",
    "\\begin{equation}\n",
    "\\bar{x} = \\frac{1}{n} \\sum_{i=1}^{n} x_i\n",
    "\\end{equation}\n",
    "\n",
    "The law of large number tell us that the average obtained from a large number of i.i.d random variables converges to the true value [4]. More formally, the LLN states that given a sample of independent and identically distributed values, the sample mean converges to the true mean. Specifically, consider\n",
    "\n",
    "\n",
    "----\n",
    "**Theorem: Law of Large Numebers**\n",
    "\n",
    "Let $X_1, X_2, X_3, \\dots$ be a sequence of of i.i.d random variables with $E\\left[X_i\\right] = \\mu$ and $Var\\left[X_i\\right]=\\sigma^2$.\n",
    "Let $\\bar{x} = n^{-1}\\sum_i X_i$ then for any $\\epsilon >0$\n",
    "\n",
    "\\begin{equation}\n",
    "P(|\\bar{x} - \\mu | > \\epsilon) \\rightarrow 0, ~~ \\text{as} ~~ n \\rightarrow \\infty\n",
    "\\end{equation}\n",
    "\n",
    "_Proof_\n",
    "\n",
    "We know that the sample mean is an unbiased estimator, see  @sec-point-estimation, thus\n",
    "\n",
    "\n",
    "$$E\\left[\\bar{x}\\right ] = \\mu$$\n",
    "\n",
    "also \n",
    "\n",
    "\n",
    "$$Var\\left[\\bar{x}\\right ] = \\frac{\\sigma^2}{n}$$\n",
    "\n",
    "Then, using Chebyshev's inequality, see @sec-inequalites,\n",
    "\n",
    "\\begin{equation}\n",
    "P(|\\bar{x} - \\mu | > \\epsilon) \\leq \\frac{\\sigma^2}{n\\epsilon^2}\n",
    "\\end{equation}\n",
    "\n",
    "which tends to zero as $n\\rightarrow \\infty$.\n",
    "\n",
    "----\n",
    "\n",
    "The above theorem is usually referred to a that weak law of large numbers [2]. In addition, the type of convergence that the weak law of large number provides us is called convergence in probability to $\\mu$. Moreover, it's not just the first sample moment that converges in probability to the population first moment but all sample moments i.e.\n",
    "\n",
    "$$\\frac{1}{n}\\sum_i X_{i}^r$$\n",
    "\n",
    "converge in probability to the moments of $X$ i.e. to $E\\left[X^r\\right]$.\n",
    "Let's see some examples where the law of large numbers is utilised.\n",
    "\n",
    "#### Example 1: Monte Carlo Integration\n",
    "\n",
    "Monte Carlo integration, see @sec-basic-monte-carlo-integration, is based on the weak law of large numbers. Specifically, \n",
    "consider the integral\n",
    "\n",
    "$$I=\\int_a^b h(x) dx$$\n",
    "\n",
    "and assume that the integration cannot be done using elementary means or tables of integrals. We can use numerical methods and approximate\n",
    "the integral using \n",
    "\n",
    "$$\\hat{I} = \\frac{1}{n} \\sum_i f(x_i)$$\n",
    "\n",
    "where $x_i$ are random points within the interval $[a, b]$. Then the law of large numbers tells us that if we use a large enough number\n",
    "of points $x_i$ then in probability\n",
    "\n",
    "$$\\hat{I} \\rightarrow_{P} I$$\n",
    "\n",
    "\n",
    "#### Example 2: Coin flipping\n",
    "\n",
    "Let's assume that the probability of getting heads when tossing a coing is $p=1/2$. According to the LLN, if we toss a coin several times, say $n$, then $\\bar{x}_n = p$. How large $n$ should be so that $P(0.4 \\leq \\bar{x}_n \\leq 0.6 ) \\geq 0.7$? We can utilise Chebyshev's inquality.\n",
    "Specifically, let's rewrite the given probability as\n",
    "\n",
    "$$P(0.4 \\leq \\bar{x}_n \\leq 0.6 ) = P(| \\bar{x}_n -\\mu | \\leq  0.1 ) = 1 - P(| \\bar{x}_n -\\mu | >  0.1 )$$\n",
    "\n",
    "where $\\mu=1/2=p$. We can bound the right hand side using Chebyshev's inquality since\n",
    "\n",
    "$$ P(| \\bar{x}_n -\\mu | >  0.1 ) \\leq \\frac{1}{Var\\left[\\bar{x}_{n}\\right]0.1^2}$$\n",
    "\n",
    "where \n",
    "\n",
    "$$Var\\left[\\bar{x}_{n}\\right] = \\frac{\\sigma^2}{n} = \\frac{p(1-p)}{n}=\\frac{1}{4n}$$\n",
    "\n",
    "Thus\n",
    "\n",
    "$$1 - P(| \\bar{x}_n -\\mu | >  0.1 ) > 1 - \\frac{1}{Var\\left[\\bar{x}_{n}\\right]0.1^2}$$\n",
    "\n",
    "Therefore we have an expression we can solve for $n$."
   ]
  },
  {
   "cell_type": "markdown",
   "id": "fdd8ce1f-74b0-4c9d-b28d-097f4c2a71c3",
   "metadata": {},
   "source": [
    "## The Central Limit Theorem"
   ]
  },
  {
   "cell_type": "markdown",
   "id": "a0700450-a706-4cb6-afb8-1bc886776acc",
   "metadata": {},
   "source": [
    "The LLN tells us that the distribution of $\\bar{x}$ concentrates around $\\mu$ as the sample size $n$ increases.\n",
    "However, this is not enough when we want to approximate probaility statements abount $\\bar{x}$. The central limit theorem\n",
    "provides to us the to tool we need.\n",
    "\n",
    "The CLT is  a key proposition of probability theory that lies  at the heart of all classical statistics..\n",
    "The <a href=\"https://en.wikipedia.org/wiki/De_Moivre%E2%80%93Laplace_theorem\">De Moivre-Laplace theorem</a>, see below, is a a very special case of CLT [5].\n",
    "The CLT establishes that for independent and identically distributed random variables, the sampling\n",
    "distribution of the sampling mean tends towards the normal distribution \n",
    "even though the original variables themselves are not normally distributed. Specifically, suppose that \n",
    "$X_1, \\dots, X_n$ are i.i.d with mean $\\mu$ and variance $\\sigma^2$. The CLT says that the mean\n",
    "\n",
    "$$\\bar{x}_n =\\frac{1}{n}\\sum_i X_i$$\n",
    "\n",
    "has a distribution that that is approximately Normal with mean $\\mu$ and variance $\\sigma^2/n$. We have the following theorem [2]."
   ]
  },
  {
   "cell_type": "markdown",
   "id": "db8975bc-576e-409a-8630-8aa40212167b",
   "metadata": {},
   "source": [
    "----\n",
    "**Theorem: Central Limit Theorem**\n",
    "\n",
    "Let $X_1, \\dots, X_n$ be IID with mean $\\mu$ and variance $\\sigma^2$. Let the sample mean be\n",
    "the arithemetic mean\n",
    "\n",
    "$$\\bar{x}_n =\\frac{1}{n}\\sum_i X_i$$\n",
    "\n",
    "Then the variable\n",
    "\n",
    "$$Z_n = \\frac{\\bar{x}_n - \\mu}{\\sqrt{Var(\\bar{X}_n)}} = \\frac{\\sqrt{n}(\\bar{x}_n - \\mu)}{\\sigma} \\approx Z$$\n",
    "\n",
    "\n",
    "where\n",
    "\n",
    "\n",
    "$$Z \\approx N(0, 1)$$\n",
    "\n",
    "Thus,\n",
    "\n",
    "$$ lim_{n \\rightarrow \\infty}P(Z_n \\leq z )= \\Phi(z) = \\int_{-\\infty}^{z}\\frac{1}{\\sqrt{2\\pi}}e^{-x^2/2}dx$$\n",
    "\n",
    "----"
   ]
  },
  {
   "cell_type": "markdown",
   "id": "1a34fec2-93c9-40eb-a161-2a0e2f914893",
   "metadata": {},
   "source": [
    "The interpretation of CLT is that probability statements about $\\bar{X}_n$ can be \n",
    "approximated using the Normal distribution. However, note, that it is these probability statements that \n",
    "we are approximating  and not the random variable itself [2]. How accurate is this approximation? This is given by the <a href=\"https://encyclopediaofmath.org/wiki/Berry-Esseen_inequality\">Berry-Esseen inequality</a> as [2]:"
   ]
  },
  {
   "cell_type": "markdown",
   "id": "225f055e-affe-45c9-b8d9-c699dc784c05",
   "metadata": {},
   "source": [
    "\n",
    "----\n",
    "**Theorem: The Berry-Esseen Inquality**\n",
    "\n",
    "Suppose that $E|X_1|^3 < \\infty$. Then\n",
    "\n",
    "$$sup_z | P(Z_n \\leq z ) - \\Phi(z)  | \\leq \\frac{33}{4} \\frac{E|X_1 - \\mu|^3}{\\sqrt{n}\\sigma^3}$$\n",
    "\n",
    "\n",
    "----\n",
    "\n",
    "### The De Moivre-Laplace theorem\n",
    "\n",
    "The De Moivre-Laplace theorem is a special case of the CLT. It allows us to approximate the binomial distribution using the normal distribution,\n",
    "Specifically, consider a sequence of $n$ Bernoulli trials where each has proability of success $p$. Then the PMF converges to the PDF\n",
    "of the normal distribution when $n\\rightarrow \\infty$ assuming $p\\neq 0, 1$. The Normal distribution will have a mean given by\n",
    "\n",
    "$$E\\left[X\\right]=np$$\n",
    "\n",
    "and a variance given by\n",
    "\n",
    "$$Var\\left[X\\right]=np(1-p)$$\n",
    "\n",
    "The approximation is best when the binomial distribution is symmetric [7].\n",
    "\n",
    "Let's work out some examples using CLT.\n",
    "\n",
    "\n",
    "#### Example 3: Approximate Poisson distribution\n",
    "\n",
    "Suppose that the number of defects per part follows a Poisson distribution with $\\lambda=3$. Assume we examine 100 such parts.\n",
    "We want to know the probability $P(\\bar{x}<4.5)$.\n",
    "\n",
    "_Solution_\n",
    "\n",
    "Such probabilities can easily be solved by utilising continuous variables. We can approaximate the Poisson distribution using the Normal distribution.\n",
    "\n",
    "$$P(\\bar{x}<4.5) = P(\\frac{\\sqrt{n}\\left(\\bar{x} - \\mu\\right)}{\\sigma} < \\frac{\\sqrt{n}\\left(4.5 - \\mu\\right)}{\\sigma} \\approx P(Z < 8.66) = 0.99$$\n",
    "\n",
    "\n",
    "#### Example 4: Approximate probabilities\n",
    "\n",
    "Let's assume that we want to calculate the following probability\n",
    "\n",
    "$$P(|\\bar{x}-\\mu|<c)$$\n",
    "\n",
    "for some constant $c$. \n",
    "\n",
    "_Solution_\n",
    "\n",
    "Assume that we have i.i.d measurements. We can then use the CLT to approximate that probability.\n",
    "In order to do this, we need to first standardize:\n",
    "\n",
    "\n",
    "$$P(|\\bar{x}-\\mu|<c) = P(-c < \\bar{x} - \\mu < c) = P\\left(\\frac{-c}{\\sigma/\\sqrt{n}}<\\bar{x} - \\mu<\\frac{c}{\\sigma/\\sqrt{n}}\\right)\\approx \\Phi\\left(\\frac{c\\sqrt{n}}{\\sigma}\\right) - \\Phi\\left(\\frac{-c\\sqrt{n}}{\\sigma}\\right)$$ \n",
    "\n",
    "\n",
    "Let's now see some examples using Python."
   ]
  },
  {
   "cell_type": "markdown",
   "id": "c9414c71-02ab-4a3b-82e1-ed0ca9b10f1e",
   "metadata": {},
   "source": [
    "#### Example 5: Coing flipping\n",
    "\n",
    "In this example we want to verify the fact that we can approximate a binomial distribution\n",
    "using a normal distribution. Specifically, consider a sample containing either zeros or ones simulating\n",
    "success or failure. Then according to CLT as the sample size increases the sampling distribution should \n",
    "converge to a normal distribution."
   ]
  },
  {
   "cell_type": "code",
   "execution_count": 7,
   "id": "1676cec5-17f2-48bf-92c1-7b03f402584e",
   "metadata": {
    "tags": []
   },
   "outputs": [],
   "source": [
    "import numpy as np\n",
    "import matplotlib.pyplot as plt\n",
    "from scipy import stats"
   ]
  },
  {
   "cell_type": "code",
   "execution_count": 8,
   "id": "12500878-27f8-48f3-b347-467b14b60fc3",
   "metadata": {
    "tags": []
   },
   "outputs": [],
   "source": [
    "np.random.seed(0)\n",
    "sample_size = 1000\n",
    "frequencies = np.random.binomial(sample_size, 0.5, 100000) \n",
    "sample_means = frequencies / sample_size"
   ]
  },
  {
   "cell_type": "code",
   "execution_count": 9,
   "id": "4a7a6605-711d-4590-ae95-f9e79d17fe2f",
   "metadata": {
    "tags": []
   },
   "outputs": [
    {
     "data": {
      "image/png": "[encoded data removed]",
      "text/plain": [
       "<Figure size 432x288 with 1 Axes>"
      ]
     },
     "metadata": {
      "needs_background": "light"
     },
     "output_type": "display_data"
    }
   ],
   "source": [
    "likelihoods, bin_edges, _ = plt.hist(sample_means, bins='auto',\n",
    "                                     edgecolor='black', density=True)\n",
    "plt.xlabel('Binned Sample Mean')\n",
    "plt.ylabel('Relative Likelihood')\n",
    "plt.show()"
   ]
  },
  {
   "cell_type": "markdown",
   "id": "38848b5b-ec27-4c93-b6a5-75ab26bee899",
   "metadata": {},
   "source": [
    "The histogram of the sampling mean distribution approximates the normal distribution.\n",
    "What are the mean and variance of this distribution? We can use ```stats.norm.fit``` function\n",
    "to find out. This function will do a paramteric fit into the data."
   ]
  },
  {
   "cell_type": "code",
   "execution_count": 10,
   "id": "2f4d63b0-c94e-4f4f-82a5-2dfa009bbb22",
   "metadata": {
    "tags": []
   },
   "outputs": [
    {
     "name": "stdout",
     "output_type": "stream",
     "text": [
      "Mean is approximately 0.50\n",
      "Standard deviation is approximately  0.016\n"
     ]
    }
   ],
   "source": [
    "fitted_mean, fitted_std = stats.norm.fit(sample_means)\n",
    "print(f\"Mean is approximately {fitted_mean:.2f}\")\n",
    "print(f\"Standard deviation is approximately  {fitted_std:.3f}\")"
   ]
  },
  {
   "cell_type": "code",
   "execution_count": 12,
   "id": "22680732-b4ba-4505-8e90-7dfa737665c6",
   "metadata": {
    "tags": []
   },
   "outputs": [
    {
     "data": {
      "image/png": "[encoded data removed]",
      "text/plain": [
       "<Figure size 432x288 with 1 Axes>"
      ]
     },
     "metadata": {
      "needs_background": "light"
     },
     "output_type": "display_data"
    }
   ],
   "source": [
    "normal_likelihoods = stats.norm.pdf(bin_edges, fitted_mean, fitted_std)\n",
    "plt.plot(bin_edges, normal_likelihoods, color='k', linestyle='--',\n",
    "         label='Normal Curve')\n",
    "plt.hist(sample_means, bins='auto', alpha=0.2, color='r', density=True)\n",
    "plt.legend()\n",
    "plt.xlabel('Sample Mean')\n",
    "plt.ylabel('Relative Likelihood')\n",
    "plt.show()"
   ]
  },
  {
   "cell_type": "markdown",
   "id": "9fda42ae-6f2d-4ba3-9f93-165836d681b3",
   "metadata": {},
   "source": [
    "Further, let's try to verify that as the sample size increases the variance decreases. \n",
    "For that reason we will take a larger sample size of 40000 coin\n",
    "flips."
   ]
  },
  {
   "cell_type": "code",
   "execution_count": 13,
   "id": "e5366423-df76-4159-b013-8c39c45ad62b",
   "metadata": {
    "tags": []
   },
   "outputs": [
    {
     "data": {
      "image/png": "[encoded data removed]",
      "text/plain": [
       "<Figure size 432x288 with 1 Axes>"
      ]
     },
     "metadata": {
      "needs_background": "light"
     },
     "output_type": "display_data"
    }
   ],
   "source": [
    "np.random.seed(0)\n",
    "new_sample_size = 40000\n",
    "new_head_counts = np.random.binomial(new_sample_size, 0.5, 100000)\n",
    "new_mean, new_std = stats.norm.fit(new_head_counts / new_sample_size)\n",
    "new_likelihoods = stats.norm.pdf(bin_edges, new_mean, new_std)\n",
    "plt.plot(bin_edges, normal_likelihoods, color='k', linestyle='--',\n",
    "         label='A: Sample Size 10K')\n",
    "plt.plot(bin_edges, new_likelihoods, color='b', label='B: Sample Size 40K')\n",
    "plt.legend()\n",
    "plt.xlabel('Sample Mean')\n",
    "plt.ylabel('Relative Likelihood')\n",
    "plt.show()"
   ]
  },
  {
   "cell_type": "markdown",
   "id": "05b6ae26-8499-4eef-8d3b-12c61a9284f5",
   "metadata": {},
   "source": [
    "Clearly, both distributions are centered around the same sample mean i.e.  0.5. \n",
    "However, the distribution with the larger sample size is more narrowly centered around its peak. \n",
    "This verifies the fact that as the sample size increases,\n",
    "the peak location stays the same whilst the area around the peak becomes smaller.\n",
    "This also verifies the law of large numbers above.\n"
   ]
  },
  {
   "cell_type": "markdown",
   "id": "c884ceda-4f47-4f5f-93c5-664f0f492e9a",
   "metadata": {},
   "source": [
    "## Summary"
   ]
  },
  {
   "cell_type": "markdown",
   "id": "8846f7c7-70a5-4250-a1b0-c1c9bc1b1242",
   "metadata": {},
   "source": [
    "In this chapter we discussed two important concepts in probability theory. Namely, the law of large numbers and\n",
    "the central limit theorem. The LLN tells us about the concentrating behaviour of the sample mean; specifically it tells\n",
    "u that it converges in probability to the population mean. The CLT tells us about the distribution of the sample mean i.e.\n",
    "the sampling distribution and that this will be approximatelly normal as the sample size increases regardless of the distribution \n",
    "of the random variable itself. Specifically, the CLT tells us that the variable \n",
    "\n",
    "$$\\sqrt{n}(\\bar{X}_n - \\mu)$$\n",
    "\n",
    "converges in distribution to a Normal distribution. This will be true regardless of the actual distribution of the random varible $X$. This for example could follow the Poisson or the Gamma distribution. The accuracy of this convergence is described by the Berry-Esseen inequality. "
   ]
  },
  {
   "cell_type": "markdown",
   "id": "f9b2401a-b4d0-41e7-b534-0aa258a36bee",
   "metadata": {},
   "source": [
    "The CLT requires the variance of the random variable. This is applications is rarely known. We can approximate it using\n",
    "\n",
    "\n",
    "$$S_{n}^{2} = \\frac{1}{n - 1}\\sum_i (X_i - \\bar{X}_n)^2$$\n",
    "\n",
    "In this case the variable \n",
    "\n",
    "$$\\frac{\\sqrt{n}(\\bar{X}_n - \\mu)}{S_n} \\approx N(0,1)$$"
   ]
  },
  {
   "cell_type": "markdown",
   "id": "709af561-0eea-4d25-a052-fc0157552478",
   "metadata": {},
   "source": [
    "Finally, note that the CLT also holds for the case of multivariate variables [2]."
   ]
  },
  {
   "cell_type": "markdown",
   "id": "06919568-6156-4420-af48-25fd1337a826",
   "metadata": {},
   "source": [
    "## References"
   ]
  },
  {
   "cell_type": "markdown",
   "id": "e7ece15d-0faa-4146-b667-0a01f8813283",
   "metadata": {},
   "source": [
    "1. <a href=\"https://en.wikipedia.org/wiki/Central_limit_theorem\">Central Limit Theorem</a>\n",
    "2. Larry Wasserman, _All of Statistics. A Concise Course in Statistical Inference_, Springer 2003.\n",
    "3. <a href=\"https://encyclopediaofmath.org/wiki/Berry-Esseen_inequality\">Berry-Esseen inequality</a>\n",
    "4. <a href=\"https://en.wikipedia.org/wiki/Law_of_large_numbers\">Law of large numbers</a>\n",
    "5. Y. A. Rozanov, _Probability Theory: A Concise Course_, Dover Publications,1969.\n",
    "6. <a href=\"https://en.wikipedia.org/wiki/Asymptotic_theory_(statistics)\">Asymtpotic theory</a>\n",
    "7. John A. Rice, _Mathematical Statistics and Data Analysis_, Duxbury Press, 1995."
   ]
  }
 ],
 "metadata": {
  "kernelspec": {
   "display_name": "Python 3 (ipykernel)",
   "language": "python",
   "name": "python3"
  },
  "language_info": {
   "codemirror_mode": {
    "name": "ipython",
    "version": 3
   },
   "file_extension": ".py",
   "mimetype": "text/x-python",
   "name": "python",
   "nbconvert_exporter": "python",
   "pygments_lexer": "ipython3",
   "version": "3.11.0"
  }
 },
 "nbformat": 4,
 "nbformat_minor": 5
}
