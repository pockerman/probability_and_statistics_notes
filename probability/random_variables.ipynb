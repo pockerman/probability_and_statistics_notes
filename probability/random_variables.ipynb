{
 "cells": [
  {
   "cell_type": "markdown",
   "metadata": {},
   "source": [
    "# Random Variables {#sec-random-variables}\n",
    "\n"
   ]
  },
  {
   "cell_type": "markdown",
   "metadata": {},
   "source": [
    "## Overview"
   ]
  },
  {
   "cell_type": "markdown",
   "metadata": {},
   "source": [
    "The previous sections introduced some core concepts from probability theory such as the Bayes' rule and the\n",
    "law of total probability. However, Statistics and machine learning are concerned with data. We want to be able\n",
    "to link sample spaces and events to data. \n",
    "In this chapter, we will introduce the concept of a <a href=\"https://en.wikipedia.org/wiki/Random_variable\">random variable</a> that allows us to link between data and sample spaces. "
   ]
  },
  {
   "cell_type": "markdown",
   "metadata": {},
   "source": [
    "A random variable is a function of an outcome and therefore is depends on chance. Being a function it has a domain that it is defined; this is the sample space $\\Omega$. \n",
    "There are two types of random variables we will deal with herein, discrete and continuous variables. "
   ]
  },
  {
   "cell_type": "markdown",
   "metadata": {},
   "source": [
    "## Random Variables"
   ]
  },
  {
   "cell_type": "markdown",
   "metadata": {},
   "source": [
    "A random variable is a function of an outcome and therefore is depends on chance. Being a function it has a domain that it is defined; this is the sample space $\\Omega$. \n",
    "The range of a random variable is finite or countable. This means that their values can be listed or arranged in a sequence. Specifically, we have the following definition [1].\n",
    "\n",
    "\n",
    "----\n",
    "**Definition: Random Variable**\n",
    "\n",
    "A random variable is a mapping\n",
    "\n",
    "\n",
    "\n",
    "$$X: \\Omega \\rightarrow R$$\n",
    "\n",
    "that assigns a real number to each outcome $\\omega \\in \\Omega$. We denote this outcome with $X(\\omega)$\n",
    "\n",
    "\n",
    "----\n",
    "\n",
    "We will distinguish below between discrete and continuous random variables."
   ]
  },
  {
   "cell_type": "markdown",
   "metadata": {},
   "source": [
    "### Discrete random variables"
   ]
  },
  {
   "cell_type": "markdown",
   "metadata": {},
   "source": [
    "We have the following definition for a discrete variable [1]\n",
    "\n",
    "----\n",
    "**Definition: Discrete Random Variable**\n",
    "\n",
    "A ranodm variable $X$ is called discrete if it takes countably many values i.e the random variable can take values\n",
    "from a countable set $\\{x_1, x_2, \\dots \\}$. The probability function also referred as probability mass function or PMF for short is given by\n",
    "\n",
    "\n",
    "\\begin{equation}\n",
    "f_{X}(x) = P(X = x)\n",
    "\\end{equation}\n",
    "\n",
    "\n",
    "\n",
    "----\n",
    "\n",
    "\n",
    "Given that $f_X$ is a probability function, then it has to satisfy the following:\n",
    "\n",
    "- $f_X(x) \\geq 0$\n",
    "- $\\sum_i f_X(x_i) = 1$\n"
   ]
  },
  {
   "cell_type": "markdown",
   "metadata": {},
   "source": [
    "It is important to realize that for every outcome $\\omega$ the variable $X$ takes one and only one value $x$. \n",
    "Thus the events $\\{X=x\\}$ are disjoint and exhaustive."
   ]
  },
  {
   "cell_type": "markdown",
   "metadata": {},
   "source": [
    "---\n",
    "\n",
    "**Remark** \n",
    "\n",
    "Discrete\n",
    "variables don’t have to be integers. For example, the proportion of defective components in\n",
    "a lot of 100 can be 0, 1/100, 2/100, ..., 99/100, or 1. This variable assumes 101 different\n",
    "values, so it is discrete, although not an integer.\n",
    "\n",
    "---"
   ]
  },
  {
   "cell_type": "markdown",
   "metadata": {},
   "source": [
    "### Continuous random variables"
   ]
  },
  {
   "cell_type": "markdown",
   "metadata": {},
   "source": [
    "The second type of a random variable we are interested in, is a continuous random variable. We have the following definition [1]\n",
    "\n",
    "\n",
    "----\n",
    "**Definition: Continous Random Variable**\n",
    "\n",
    "A random variable $X$ is called continuous if there exists a function $f_X$ that has the following two properties\n",
    "\n",
    "\n",
    "- $f_X(x) \\geq 0$\n",
    "- $\\int_{-\\infty}^{\\infty} f_X(x) dx= 1$\n",
    "\n",
    "\n",
    "These are analogous to the properties we saw for the PMF above. In addition for every $a \\leq b$\n",
    "\n",
    "\\begin{equation}\n",
    "P(a < X < b) = \\int_{a}^{b} f_X(x) dx \n",
    "\\end{equation}\n",
    "\n",
    "The function $f_X$ is not called the probability density function or PDF for short\n",
    "\n",
    "----\n",
    "\n"
   ]
  },
  {
   "cell_type": "markdown",
   "metadata": {},
   "source": [
    "A continuous random variable assumes values in a whole interval. The latter can be a bounded interval e.g. $(a, b)$ or unbounded $(a, +\\infty)$ or $(-\\infty, b)$ or a union of such intervals. The important point here is that intervals are uncountable which means that contrary to the discrete case, we cannot list the values of the random variable.\n",
    "The latter implies that for a continuous random variable the probability of getting an exact value will always be zero i.e.\n",
    "\n",
    "\n",
    "$$P(X=x)=0$$\n"
   ]
  },
  {
   "cell_type": "markdown",
   "metadata": {},
   "source": [
    "## Summary"
   ]
  },
  {
   "cell_type": "markdown",
   "metadata": {},
   "source": [
    "## References"
   ]
  },
  {
   "cell_type": "markdown",
   "metadata": {},
   "source": [
    "1. Larry Wasserman, _All of Statistics. A Concise Course in Statistical Inference_, Springer 2003.\n",
    "2. <a href=\"https://en.wikipedia.org/wiki/Random_variable\">Random variable</a>"
   ]
  }
 ],
 "metadata": {
  "kernelspec": {
   "display_name": "Python 3 (ipykernel)",
   "language": "python",
   "name": "python3"
  },
  "language_info": {
   "codemirror_mode": {
    "name": "ipython",
    "version": 3
   },
   "file_extension": ".py",
   "mimetype": "text/x-python",
   "name": "python",
   "nbconvert_exporter": "python",
   "pygments_lexer": "ipython3",
   "version": "3.10.12"
  }
 },
 "nbformat": 4,
 "nbformat_minor": 4
}
