{
 "cells": [
  {
   "cell_type": "markdown",
   "id": "e197271d-acda-4933-aa38-14830366cf2b",
   "metadata": {},
   "source": [
    "# t and Cauchy distributions"
   ]
  },
  {
   "cell_type": "markdown",
   "id": "ec045f0a-5438-4253-9ae2-66ca7e19a68f",
   "metadata": {},
   "source": [
    "## Overview"
   ]
  },
  {
   "cell_type": "markdown",
   "id": "fb042616-2362-410d-97f6-9015ee8e143b",
   "metadata": {},
   "source": [
    "This section introduces two more continuous distributions namely <a href=\"https://en.wikipedia.org/wiki/Student's_t-distribution\">Student's t-distribution</a> and the <a href=\"https://en.wikipedia.org/wiki/Cauchy_distribution\">Cauchy distribution</a>"
   ]
  },
  {
   "cell_type": "markdown",
   "id": "d033fd96-10d1-4593-8370-24afbf67dbec",
   "metadata": {},
   "source": [
    "## Student's t-distribution"
   ]
  },
  {
   "cell_type": "markdown",
   "id": "ce86ac05-a3d5-451d-9e42-0774b96bb08e",
   "metadata": {},
   "source": [
    "Student's t-distribution  $t_{\\nu }$ is a continuous distribution that generalizes the standard normal distribution. Like the latter, it is symmetric around zero and bell-shaped. However, it has heavier tails. Specifically the amount of probability mass in the tails is controlled by the parameter \n",
    "$\\nu$ . For $\\nu = 1$ the Student's t distribution becomes the standard Cauchy distribution, whereas for \n",
    "$\\nu \\rightarrow \\infty $ it becomes the standard normal distribution. \n",
    "\n",
    "\n",
    "The PDF of $t_{\\nu }$ is given by [1]\n",
    "\n",
    "\\begin{equation}\n",
    "f(x) = \\frac{\\Gamma\\left(\\frac{\\nu + 1}{2}\\right)}{\\Gamma\\left(\\frac{\\nu}{2}\\right)}\\frac{1}{\\left(1 + \\frac{x^2}{\\nu}\\right)^{(v+1)/2}}\n",
    "\\end{equation}\n",
    "\n",
    "The Student's t-distribution plays a role in a number of widely used statistical analyses, including Student's t-test for assessing the statistical significance of the difference between two sample means, the construction of confidence intervals for the difference between two population means, and in linear regression analysis [2]."
   ]
  },
  {
   "cell_type": "markdown",
   "id": "bd9c5726-de86-4ebd-9f04-552dd3d69f23",
   "metadata": {},
   "source": [
    "## Example 1"
   ]
  },
  {
   "cell_type": "markdown",
   "id": "00e545a7-b1bc-466a-be57-35e8abf54054",
   "metadata": {},
   "source": [
    "This example is taken from Numpy's <a href=\"https://numpy.org/doc/stable/reference/random/generated/numpy.random.standard_t.html\">numpy.random.standard_t</a> \n",
    "documentation page."
   ]
  },
  {
   "cell_type": "code",
   "execution_count": 6,
   "id": "a8cf6375-a3fb-4b67-b504-90c25560ac1d",
   "metadata": {
    "tags": []
   },
   "outputs": [],
   "source": [
    "import numpy as np\n",
    "import matplotlib.pyplot as plt"
   ]
  },
  {
   "cell_type": "code",
   "execution_count": 2,
   "id": "88e4a98c-e317-4305-946d-d88fa46fae6f",
   "metadata": {
    "tags": []
   },
   "outputs": [],
   "source": [
    "intake = np.array([5260., 5470, 5640, 6180, 6390, 6515, 6805, 7515, 7515, 8230, 8770])"
   ]
  },
  {
   "cell_type": "code",
   "execution_count": 4,
   "id": "5a430d93-059d-4c94-b987-e292d2c2286b",
   "metadata": {
    "tags": []
   },
   "outputs": [],
   "source": [
    "mu = 7725\n",
    "x_bar = np.mean(intake)\n",
    "std = intake.std(ddof=1)\n",
    "t_statistic = (x_bar - mu)/(std/np.sqrt(len(intake)))"
   ]
  },
  {
   "cell_type": "markdown",
   "id": "19795009-8b59-46cc-90c7-348d86c3d1a5",
   "metadata": {},
   "source": [
    "Draw 1000000 samples from Student’s t distribution with the adequate degrees of freedom."
   ]
  },
  {
   "cell_type": "code",
   "execution_count": 5,
   "id": "97a1dd9c-6457-48e9-88c4-ac1016b82d7b",
   "metadata": {
    "tags": []
   },
   "outputs": [
    {
     "data": {
      "image/png": "[encoded data removed]",
      "text/plain": [
       "<Figure size 432x288 with 1 Axes>"
      ]
     },
     "metadata": {
      "needs_background": "light"
     },
     "output_type": "display_data"
    }
   ],
   "source": [
    "s = np.random.standard_t(10, size=1000000)\n",
    "h = plt.hist(s, bins=100, density=True)\n",
    "plt.show()"
   ]
  },
  {
   "cell_type": "markdown",
   "id": "5d3ebdcf-678e-419b-96f1-0bf3f3230ccf",
   "metadata": {},
   "source": [
    "## Cauchy diostribution"
   ]
  },
  {
   "cell_type": "markdown",
   "id": "33e4b9f3-f849-439c-890e-71a141c09d63",
   "metadata": {},
   "source": [
    "The Cauchy distribution, is a special case of the $t_{\\nu}$. Specifically for $\\nu=1$. It is also known, especially among physicists, as the Lorentz distribution or Breit–Wigner distribution. It has the following PDF [1]\n",
    "\n",
    "\\begin{equation}\n",
    "f(x) = \\frac{1}{\\pi(1 + x^2)}\n",
    "\\end{equation}\n",
    "\n",
    "The Cauchy distribution is often used in statistics as the canonical example of a _pathological_ distribution since both its expected value and its variance are undefined [3]. The Cauchy distribution does not have finite moments of order greater than or equal to one; only fractional absolute moments exist. In addition, the Cauchy distribution has no moment generating function. It is also the distribution of the ratio of two independent normally distributed random variables with mean zero."
   ]
  },
  {
   "cell_type": "markdown",
   "id": "fed777e4-d4de-4a75-94bb-794cd0394e0f",
   "metadata": {},
   "source": [
    "## Summary"
   ]
  },
  {
   "cell_type": "markdown",
   "id": "0ca45cd0-e8ce-4c9d-b9d3-4bf1c0e478cb",
   "metadata": {},
   "source": [
    "This section introduced two continous probability distributions namely Student's t-distribution and the Cauchy distribution.\n",
    "The former is a generalization of the normal distribution and converges to it when $\\nu \\rightarrow \\infty $. In contrast, the Cauchy \n",
    "distribution is obtained when $\\nu=1 $.  "
   ]
  },
  {
   "cell_type": "markdown",
   "id": "9c1a755e-ca21-4c2c-8ab4-69ead37fa416",
   "metadata": {},
   "source": [
    "The Cauchy distribution is often used in statistics as the canonical example of a _pathological_ distribution since both its expected value and its variance are undefined [3]. The Cauchy distribution does not have finite moments of order greater than or equal to one; only fractional absolute moments exist. In addition, the Cauchy distribution has no moment generating function. It is also the distribution of the ratio of two independent normally distributed random variables with mean zero."
   ]
  },
  {
   "cell_type": "markdown",
   "id": "e689aceb-82f8-4d28-8a83-82cef3823a4d",
   "metadata": {},
   "source": [
    "## References"
   ]
  },
  {
   "cell_type": "markdown",
   "id": "7cef5af2-420b-4856-b727-974126831dee",
   "metadata": {},
   "source": [
    "1. Larry Wasserman, _All of Statistics. A Concise Course in Statistical Inference_, Springer 2003.\n",
    "2. <a href=\"https://en.wikipedia.org/wiki/Student's_t-distribution\">Student's t-distribution</a>\n",
    "3. <a href=\"https://en.wikipedia.org/wiki/Cauchy_distribution\">Cauchy distribution</a>"
   ]
  }
 ],
 "metadata": {
  "kernelspec": {
   "display_name": "Python 3 (ipykernel)",
   "language": "python",
   "name": "python3"
  },
  "language_info": {
   "codemirror_mode": {
    "name": "ipython",
    "version": 3
   },
   "file_extension": ".py",
   "mimetype": "text/x-python",
   "name": "python",
   "nbconvert_exporter": "python",
   "pygments_lexer": "ipython3",
   "version": "3.10.12"
  }
 },
 "nbformat": 4,
 "nbformat_minor": 5
}
