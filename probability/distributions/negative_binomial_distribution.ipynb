{
 "cells": [
  {
   "cell_type": "markdown",
   "metadata": {},
   "source": [
    "# Negative binomial distribution"
   ]
  },
  {
   "cell_type": "markdown",
   "metadata": {},
   "source": [
    "* [Overview](#overview) \n",
    "* [Negative binomial distribution](#sec1)\n",
    "* [References](#refs)"
   ]
  },
  {
   "cell_type": "markdown",
   "metadata": {},
   "source": [
    "## Overview\n"
   ]
  },
  {
   "cell_type": "markdown",
   "metadata": {},
   "source": [
    "In this section we introduce the <a href=\"https://en.wikipedia.org/wiki/Negative_binomial_distribution\">negative binomial distribution</a>. This is a discrete probability distribution that models the number of successes in a sequence of independent and identically distributed Bernoulli trials before a specified (non-random) number of failures (denoted $r$) occurs."
   ]
  },
  {
   "cell_type": "markdown",
   "metadata": {},
   "source": [
    "## Negative binomial distribution"
   ]
  },
  {
   "cell_type": "markdown",
   "metadata": {},
   "source": [
    "Recall that the geometric distribution is concerned with the first success in a series of Bernoulli experiments. In the case of the negative binomial we are concerned with the first $r$ successes. So the number of games played until we reach $r$ successes follows a negative binomial distribution. "
   ]
  },
  {
   "cell_type": "markdown",
   "metadata": {},
   "source": [
    "The binomial distribution and the negative binomial distribution are in a sense opposite to each other. The binomial distribution counts the number of successes in a fixed number of trials whereas the negative binomial distribution counts the number of trials needed in order to see a fixed number of successes $r$."
   ]
  },
  {
   "cell_type": "markdown",
   "metadata": {},
   "source": [
    "The PMF of the negative binomial is given below"
   ]
  },
  {
   "cell_type": "markdown",
   "metadata": {},
   "source": [
    "$$P(x) = \\binom{x - 1}{r - 1}(1 - p)^{x - r}p^r$$"
   ]
  },
  {
   "cell_type": "markdown",
   "metadata": {},
   "source": [
    "This formula accounts for the probability of k successes, the remaining (x − k) failures, and\n",
    "the number of outcomes–sequences with the k-th success coming on the x-th trial.\n",
    "Negative Binomial distribution has two parameters, k and p. With k = 1, it becomes Geo-\n",
    "metric. Also, each Negative Binomial variable can be represented as a sum of independent\n",
    "Geometric variables,"
   ]
  },
  {
   "cell_type": "markdown",
   "metadata": {},
   "source": [
    "## References\n"
   ]
  },
  {
   "cell_type": "markdown",
   "metadata": {},
   "source": [
    "1. Michael Baron, _Probability and statistics for computer scientists_, 2nd Edition, CRC Press."
   ]
  }
 ],
 "metadata": {
  "kernelspec": {
   "display_name": "Python 3",
   "language": "python",
   "name": "python3"
  },
  "language_info": {
   "codemirror_mode": {
    "name": "ipython",
    "version": 3
   },
   "file_extension": ".py",
   "mimetype": "text/x-python",
   "name": "python",
   "nbconvert_exporter": "python",
   "pygments_lexer": "ipython3",
   "version": "3.8.10"
  }
 },
 "nbformat": 4,
 "nbformat_minor": 4
}
