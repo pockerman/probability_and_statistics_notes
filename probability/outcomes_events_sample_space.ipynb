{
 "cells": [
  {
   "cell_type": "markdown",
   "metadata": {},
   "source": [
    "# Outcomes, events and the sample space"
   ]
  },
  {
   "cell_type": "markdown",
   "metadata": {},
   "source": [
    "## Overview"
   ]
  },
  {
   "cell_type": "markdown",
   "metadata": {},
   "source": [
    "In this section, we will review the notions of sample space,\n",
    "outcomes and events. Once we define these, in the next section, we will look into\n",
    "the probability function $P$.\n",
    "\n"
   ]
  },
  {
   "cell_type": "markdown",
   "metadata": {},
   "source": [
    "## Sample space"
   ]
  },
  {
   "cell_type": "markdown",
   "metadata": {},
   "source": [
    "The sample space, denoted herein by $\\Omega$, consists of all elementary results or outcomes of \n",
    "an experiment [1]. Consider the scenario of tossing a coin. There are only two possible outcomes in this experiment; heads and tails i.e.  "
   ]
  },
  {
   "cell_type": "markdown",
   "metadata": {},
   "source": [
    "$$\\Omega = \\{H, T\\}$$"
   ]
  },
  {
   "cell_type": "markdown",
   "metadata": {},
   "source": [
    "If the coin is fair then the probability of each outcome is $1/2$. Another example is tossing  a die. The sample \n",
    "space in this case is \n",
    "\n",
    "\\begin{equation}\n",
    "\\Omega = \\{1, 2, 3, 4, 5, 6 \\}\n",
    "\\end{equation}\n"
   ]
  },
  {
   "cell_type": "markdown",
   "metadata": {},
   "source": [
    "Every point $\\omega$ in $\\Omega$ is called an outcome or realizations [1]."
   ]
  },
  {
   "cell_type": "markdown",
   "metadata": {},
   "source": [
    "## Events\n"
   ]
  },
  {
   "cell_type": "markdown",
   "metadata": {},
   "source": [
    "Any subset of $\\Omega$ is called an event [1]. Clearly, events can contain single elements from $\\Omega$ since \n",
    "we know that these\n",
    "constitute legitimate subsets of a set.  events are subsets of the sample space. \n",
    "Let's consider a three-sided die. For example consider the experiment that we toss twice a coin. What is the event, $E$ that first toss is $T$ i.e. tails? "
   ]
  },
  {
   "cell_type": "markdown",
   "metadata": {},
   "source": [
    "The sample space in this case is\n",
    "\n",
    "\\begin{equation}\n",
    "\\Omega = \\{HH, TT, HT, TH, TT \\}\n",
    "\\end{equation}"
   ]
  },
  {
   "cell_type": "markdown",
   "metadata": {},
   "source": [
    "and the event $E$ is \n",
    "\n",
    "\n",
    "\\begin{equation}\n",
    "E = \\{TT, TH, TT \\}\n",
    "\\end{equation}"
   ]
  },
  {
   "cell_type": "markdown",
   "metadata": {},
   "source": [
    "## Computational example"
   ]
  },
  {
   "cell_type": "markdown",
   "metadata": {},
   "source": [
    "Let's try to use Python in order to model a sample space. We can easily do this using \n",
    "the ```set``` data structure. For example, the sample space for tossing a coin will be"
   ]
  },
  {
   "cell_type": "code",
   "execution_count": 1,
   "metadata": {
    "tags": []
   },
   "outputs": [],
   "source": [
    "omega = {'H', 'T'}"
   ]
  },
  {
   "cell_type": "markdown",
   "metadata": {},
   "source": [
    "----\n",
    "\n",
    "**Remark**\n",
    "\n",
    "If you are using C++ check the <a href=\"https://en.cppreference.com/w/cpp/container/set\">std::set</a> data structure.\n",
    "\n",
    "----"
   ]
  },
  {
   "cell_type": "markdown",
   "metadata": {},
   "source": [
    "Let's consider an imaginary die with three sides. The sample space will be: "
   ]
  },
  {
   "cell_type": "markdown",
   "metadata": {},
   "source": [
    "----\n",
    "**Remark**\n",
    "\n",
    "This example has been adapted from [2].\n",
    "\n",
    "----"
   ]
  },
  {
   "cell_type": "code",
   "execution_count": null,
   "metadata": {},
   "outputs": [],
   "source": [
    "omega = {1, 2, 3}"
   ]
  },
  {
   "cell_type": "code",
   "execution_count": 20,
   "metadata": {
    "tags": []
   },
   "outputs": [],
   "source": [
    "from typing import Union"
   ]
  },
  {
   "cell_type": "markdown",
   "metadata": {},
   "source": [
    "Let's define the following boolean functions"
   ]
  },
  {
   "cell_type": "code",
   "execution_count": 12,
   "metadata": {
    "tags": []
   },
   "outputs": [],
   "source": [
    "def is_one_or_two_or_three(outcome: int) -> bool:\n",
    "    return outcome in omega\n",
    "\n",
    "def not_one_and_not_two_and_not_three(outcome: int) -> bool:\n",
    "    return not is_one_or_two_or_three(outcome)\n",
    "\n",
    "def is_one(outcome: int) -> bool:\n",
    "    return outcome == 1\n",
    "\n",
    "def is_two(outcome: int) -> bool:\n",
    "    return outcome == 2\n",
    "\n",
    "def is_three(outcome: int) -> bool:\n",
    "    return outcome == 3"
   ]
  },
  {
   "cell_type": "markdown",
   "metadata": {},
   "source": [
    "Let us also introduce a utility function that allows us to compute events"
   ]
  },
  {
   "cell_type": "code",
   "execution_count": 13,
   "metadata": {
    "tags": []
   },
   "outputs": [],
   "source": [
    "def get_events(event_condition, sample_space: set):\n",
    "    return set([outcome for outcome in sample_space\n",
    "                if event_condition(outcome)])"
   ]
  },
  {
   "cell_type": "code",
   "execution_count": 14,
   "metadata": {
    "tags": []
   },
   "outputs": [
    {
     "name": "stdout",
     "output_type": "stream",
     "text": [
      "Event condition name: is_one_or_two_or_three\n",
      "Event: {1, 2, 3}\n",
      "\n",
      "Event condition name: not_one_and_not_two_and_not_three\n",
      "Event: set()\n",
      "\n",
      "Event condition name: is_one\n",
      "Event: {1}\n",
      "\n",
      "Event condition name: is_two\n",
      "Event: {2}\n",
      "\n",
      "Event condition name: is_three\n",
      "Event: {3}\n",
      "\n"
     ]
    }
   ],
   "source": [
    "event_conditions = [is_one_or_two_or_three, \n",
    "                    not_one_and_not_two_and_not_three, \n",
    "                    is_one, is_two, is_three]\n",
    " \n",
    "for event_condition in event_conditions:\n",
    "    print(f\"Event condition name: {event_condition.__name__}\")\n",
    "    event = get_matching_event(event_condition, omega)\n",
    "    print(f'Event: {event}\\n')"
   ]
  },
  {
   "cell_type": "markdown",
   "metadata": {},
   "source": [
    "Assuming that our three-sided die is fair, the probability of \n",
    "getting either 1 or 2 or 3 is simply 1/3. We can generalize this, in order,\n",
    "to include events that have more than one elements e.g. the event ```{1,2}```"
   ]
  },
  {
   "cell_type": "code",
   "execution_count": 15,
   "metadata": {
    "tags": []
   },
   "outputs": [],
   "source": [
    "def compute_probability(event_condition, sample_space: set):\n",
    "    event = get_events(event_condition, sample_space)\n",
    "    return len(event) / len(sample_space)"
   ]
  },
  {
   "cell_type": "code",
   "execution_count": 16,
   "metadata": {
    "tags": []
   },
   "outputs": [
    {
     "name": "stdout",
     "output_type": "stream",
     "text": [
      "Probability of event arising from 'is_one_or_two_or_three' is 1.0\n",
      "Probability of event arising from 'not_one_and_not_two_and_not_three' is 0.0\n",
      "Probability of event arising from 'is_one' is 0.3333333333333333\n",
      "Probability of event arising from 'is_two' is 0.3333333333333333\n",
      "Probability of event arising from 'is_three' is 0.3333333333333333\n"
     ]
    }
   ],
   "source": [
    "for event_condition in event_conditions:\n",
    "    prob = compute_probability(event_condition, omega)\n",
    "    name = event_condition.__name__\n",
    "    print(f\"Probability of event arising from '{name}' is {prob}\")"
   ]
  },
  {
   "cell_type": "markdown",
   "metadata": {},
   "source": [
    "## Biased sample space"
   ]
  },
  {
   "cell_type": "markdown",
   "metadata": {},
   "source": [
    "Let's expand on the above by considering a biased sample space. In particular,\n",
    "let's assume that getting 1 is three times more likely than getting 2 or three. \n",
    "Let's model this using a map"
   ]
  },
  {
   "cell_type": "code",
   "execution_count": 21,
   "metadata": {
    "tags": []
   },
   "outputs": [],
   "source": [
    "weighted_omega = {1:3, 2:1, 3:1}"
   ]
  },
  {
   "cell_type": "code",
   "execution_count": 22,
   "metadata": {
    "tags": []
   },
   "outputs": [],
   "source": [
    "one_or_two_or_three_event = get_events(is_one_or_two_or_three, weighted_omega)\n",
    "event_size = sum(weighted_omega[outcome] for outcome in one_or_two_or_three_event)\n",
    "assert event_size == 5"
   ]
  },
  {
   "cell_type": "markdown",
   "metadata": {},
   "source": [
    "Let's rewrite the ```compute_probability``` function so that it accounts \n",
    "for a weighted sample space."
   ]
  },
  {
   "cell_type": "code",
   "execution_count": 23,
   "metadata": {
    "tags": []
   },
   "outputs": [],
   "source": [
    "def compute_probability(event_condition, sample_space: Union[set, dict]):\n",
    "    event = get_events(event_condition, sample_space)\n",
    "    \n",
    "    if type(sample_space) == type(set()):\n",
    "        return len(event) / len(sample_space)\n",
    "    \n",
    "    event_size = sum(sample_space[outcome] \n",
    "                     for outcome in event)\n",
    "    \n",
    "    return event_size / sum(sample_space.values())"
   ]
  },
  {
   "cell_type": "code",
   "execution_count": 25,
   "metadata": {
    "tags": []
   },
   "outputs": [
    {
     "name": "stdout",
     "output_type": "stream",
     "text": [
      "Probability of event arising from 'is_one_or_two_or_three' is 1.0\n",
      "Probability of event arising from 'not_one_and_not_two_and_not_three' is 0.0\n",
      "Probability of event arising from 'is_one' is 0.6\n",
      "Probability of event arising from 'is_two' is 0.2\n",
      "Probability of event arising from 'is_three' is 0.2\n"
     ]
    }
   ],
   "source": [
    "for event_condition in event_conditions:\n",
    "    prob = compute_probability(event_condition, weighted_omega)\n",
    "    name = event_condition.__name__\n",
    "    print(f\"Probability of event arising from '{name}' is {prob}\")\n"
   ]
  },
  {
   "cell_type": "markdown",
   "metadata": {},
   "source": [
    "## Summary\n"
   ]
  },
  {
   "cell_type": "markdown",
   "metadata": {},
   "source": [
    "## Questions"
   ]
  },
  {
   "cell_type": "markdown",
   "metadata": {},
   "source": []
  },
  {
   "cell_type": "markdown",
   "metadata": {},
   "source": [
    "## References"
   ]
  },
  {
   "cell_type": "markdown",
   "metadata": {},
   "source": [
    "1. Larry Wasserman, _All of Statistics. A Concise Course in Statistical Inference_, Springer 2003.\n",
    "2. Leonard Apeltsin, _Data Science Bookcamp_, Manning Publications, 2021."
   ]
  }
 ],
 "metadata": {
  "kernelspec": {
   "display_name": "Python 3 (ipykernel)",
   "language": "python",
   "name": "python3"
  },
  "language_info": {
   "codemirror_mode": {
    "name": "ipython",
    "version": 3
   },
   "file_extension": ".py",
   "mimetype": "text/x-python",
   "name": "python",
   "nbconvert_exporter": "python",
   "pygments_lexer": "ipython3",
   "version": "3.10.12"
  }
 },
 "nbformat": 4,
 "nbformat_minor": 4
}
