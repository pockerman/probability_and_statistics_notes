{
 "cells": [
  {
   "cell_type": "markdown",
   "metadata": {},
   "source": [
    "# The Sample Space, Outcomes and  Events {#sec-sample-space-outcomes-events}"
   ]
  },
  {
   "cell_type": "markdown",
   "metadata": {},
   "source": [
    "## Overview"
   ]
  },
  {
   "cell_type": "markdown",
   "metadata": {},
   "source": [
    "In chapter @sec-basic-set-theory we discussed elements of set theory. We now want to extend these ideas with some notions that\n",
    "are more relevant to probability. In particular, in this chapter, we will review the notions of <a href=\"https://en.wikipedia.org/wiki/Sample_space\">sample space</a>, outcomes and events. Once we define these, in the next chapter @sec-probability-function, we will look into\n",
    "the probability function $P$."
   ]
  },
  {
   "cell_type": "markdown",
   "metadata": {},
   "source": [
    "## Sample space"
   ]
  },
  {
   "cell_type": "markdown",
   "metadata": {},
   "source": [
    "The sample space, denoted herein by $\\Omega$, consists of all elementary results or outcomes of \n",
    "an experiment [1]. Consider the scenario of tossing a coin. There are only two possible outcomes in this experiment; heads and tails i.e.  "
   ]
  },
  {
   "cell_type": "markdown",
   "metadata": {},
   "source": [
    "$$\\Omega = \\{H, T\\}$$"
   ]
  },
  {
   "cell_type": "markdown",
   "metadata": {},
   "source": [
    "If the coin is fair then the probability of each outcome is $1/2$. Another example is tossing  a die. The sample \n",
    "space in this case is \n",
    "\n",
    "\\begin{equation}\n",
    "\\Omega = \\{1, 2, 3, 4, 5, 6 \\}\n",
    "\\end{equation}\n"
   ]
  },
  {
   "cell_type": "markdown",
   "metadata": {},
   "source": [
    "Every point $\\omega$ in $\\Omega$ is called an **outcome** or realizations [1]. Thus, the sample space constitutes the set of all possible \n",
    "outcomes of an experiment. We will also need the notion of an event which is presented below. "
   ]
  },
  {
   "cell_type": "markdown",
   "metadata": {},
   "source": [
    "## Events\n"
   ]
  },
  {
   "cell_type": "markdown",
   "metadata": {},
   "source": [
    "Any subset of $\\Omega$ is called an event [1] that is any set of outcomes is an event. Clearly, events can contain single elements from $\\Omega$ since \n",
    "we know that these\n",
    "constitute legitimate subsets of a set.  For example consider the experiment that we toss twice a coin. \n",
    "What is the event, $E$ that first toss is $T$ i.e. tails? "
   ]
  },
  {
   "cell_type": "markdown",
   "metadata": {},
   "source": [
    "The sample space in this case is\n",
    "\n",
    "\\begin{equation}\n",
    "\\Omega = \\{HH, TT, HT, TH, TT \\}\n",
    "\\end{equation}"
   ]
  },
  {
   "cell_type": "markdown",
   "metadata": {},
   "source": [
    "and the event $E$ is \n",
    "\n",
    "\n",
    "\\begin{equation}\n",
    "E = \\{TT, TH, TT \\}\n",
    "\\end{equation}"
   ]
  },
  {
   "cell_type": "markdown",
   "metadata": {},
   "source": [
    "Given that an event is a subset of the sample space and given what we said in the previous chapter, $\\Omega$ is also an event. We call this the certain event. \n",
    "\n",
    "----\n",
    "**Remark**\n",
    "\n",
    "A sample space of $N$ possible outcomes will yield $2^N$ possible events. If the union of the events $E_i$ \n",
    "makes up the whole sample space $\\Omega$ we call them **exhaustive** [3].\n",
    "Among a collection of exhaustive events, at least one occurs with certainty.\n",
    "\n",
    "----\n",
    "\n",
    "Events can be both exhaustive and mutually disjoint. The standard example for that is the event $E$ and its complement $E^c$.\n",
    "In this case we have, $E\\bigcup E^c = \\Omega$ i.e. the two events are exhaustive, and also $E\\bigcap E^c=\\emptyset$ that is the two events are mutually exclusive.\n",
    "\n",
    "Let's use Python in order to compute the events on an elementary example. "
   ]
  },
  {
   "cell_type": "markdown",
   "metadata": {},
   "source": [
    "### Example"
   ]
  },
  {
   "cell_type": "markdown",
   "metadata": {},
   "source": [
    "Let's consider an imaginary die with three sides marked with 5, 10, 25. The sample space will be: "
   ]
  },
  {
   "cell_type": "code",
   "execution_count": 2,
   "metadata": {},
   "outputs": [],
   "source": [
    "omega = {5, 10, 25}"
   ]
  },
  {
   "cell_type": "markdown",
   "metadata": {},
   "source": [
    "Let's define the following boolean functions that will help us compute the events in omega:"
   ]
  },
  {
   "cell_type": "code",
   "execution_count": 5,
   "metadata": {
    "tags": []
   },
   "outputs": [],
   "source": [
    "def is_5_or_10_or_20(outcome: int) -> bool:\n",
    "    return outcome in omega\n",
    "\n",
    "def not_5_and_not_10_and_not_20(outcome: int) -> bool:\n",
    "    return not is_5_or_10_or_20(outcome)\n",
    "\n",
    "def is_5(outcome: int) -> bool:\n",
    "    return outcome == 5\n",
    "\n",
    "def is_10(outcome: int) -> bool:\n",
    "    return outcome == 10\n",
    "\n",
    "def is_20(outcome: int) -> bool:\n",
    "    return outcome == 20"
   ]
  },
  {
   "cell_type": "markdown",
   "metadata": {},
   "source": [
    "Let us also introduce a utility function that allows us to compute events"
   ]
  },
  {
   "cell_type": "code",
   "execution_count": 6,
   "metadata": {
    "tags": []
   },
   "outputs": [],
   "source": [
    "def get_events(event_condition, sample_space: set):\n",
    "    return set([outcome for outcome in sample_space\n",
    "                if event_condition(outcome)])"
   ]
  },
  {
   "cell_type": "code",
   "execution_count": 8,
   "metadata": {
    "tags": []
   },
   "outputs": [
    {
     "name": "stdout",
     "output_type": "stream",
     "text": [
      "Event condition name: is_5_or_10_or_20\n",
      "Event: {25, 10, 5}\n",
      "\n",
      "Event condition name: not_5_and_not_10_and_not_20\n",
      "Event: set()\n",
      "\n",
      "Event condition name: is_5\n",
      "Event: {5}\n",
      "\n",
      "Event condition name: is_10\n",
      "Event: {10}\n",
      "\n",
      "Event condition name: is_20\n",
      "Event: set()\n",
      "\n"
     ]
    }
   ],
   "source": [
    "event_conditions = [is_5_or_10_or_20, \n",
    "                    not_5_and_not_10_and_not_20, \n",
    "                    is_5, is_10, is_20]\n",
    " \n",
    "for event_condition in event_conditions:\n",
    "    print(f\"Event condition name: {event_condition.__name__}\")\n",
    "    event = get_events(event_condition, omega)\n",
    "    print(f'Event: {event}\\n')"
   ]
  },
  {
   "cell_type": "markdown",
   "metadata": {},
   "source": [
    "## Summary\n"
   ]
  },
  {
   "cell_type": "markdown",
   "metadata": {},
   "source": [
    "In this chapter we reviewd the ideas of sample space, outcome and event. Given an experiment, the sample space constitutes all the\n",
    "possible outcomes of the experiment. An event is any subset of the sample space. As such, the sample space is also an event.\n",
    "\n",
    "The next chapter introduces the probability function $P$ this is a mapping that assigns a real number $P(E)$ to each event $E$."
   ]
  },
  {
   "cell_type": "markdown",
   "metadata": {},
   "source": [
    "## References"
   ]
  },
  {
   "cell_type": "markdown",
   "metadata": {},
   "source": [
    "1. Larry Wasserman, _All of Statistics. A Concise Course in Statistical Inference_, Springer 2003.\n",
    "2. Leonard Apeltsin, _Data Science Bookcamp_, Manning Publications, 2021.\n",
    "3. Michael Baron, _Probability and Statistics for Computer Scientists_, 2nd Edition, CRC Press."
   ]
  }
 ],
 "metadata": {
  "kernelspec": {
   "display_name": "Python 3 (ipykernel)",
   "language": "python",
   "name": "python3"
  },
  "language_info": {
   "codemirror_mode": {
    "name": "ipython",
    "version": 3
   },
   "file_extension": ".py",
   "mimetype": "text/x-python",
   "name": "python",
   "nbconvert_exporter": "python",
   "pygments_lexer": "ipython3",
   "version": "3.10.12"
  }
 },
 "nbformat": 4,
 "nbformat_minor": 4
}
