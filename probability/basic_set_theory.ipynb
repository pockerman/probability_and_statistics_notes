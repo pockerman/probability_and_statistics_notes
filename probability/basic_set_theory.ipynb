{
 "cells": [
  {
   "cell_type": "markdown",
   "id": "e1a190a9-f81a-4100-a0ea-0d1ea3a10232",
   "metadata": {},
   "source": [
    "# Basic Set Theory"
   ]
  },
  {
   "cell_type": "markdown",
   "id": "fe85e1ef-80d2-4770-9510-767950461df2",
   "metadata": {},
   "source": [
    "## Overview"
   ]
  },
  {
   "cell_type": "markdown",
   "id": "85dd5ab6-a1be-4f77-8185-74ddb2d240b4",
   "metadata": {},
   "source": [
    "In this section we will introduce some important elements from set theory that they are needed in order to better comprehend the\n",
    "material further in these notes."
   ]
  },
  {
   "cell_type": "markdown",
   "id": "6ffd0803-d0d8-404e-8869-89b9f00e8808",
   "metadata": {},
   "source": [
    "## Basic set theory"
   ]
  },
  {
   "cell_type": "markdown",
   "id": "ff29a58b-987f-4017-8467-324c2a6c7641",
   "metadata": {},
   "source": [
    "We will start this chapter with a definition. Namely what constitutes a set."
   ]
  },
  {
   "cell_type": "markdown",
   "id": "92e449ec-08d5-4510-8bab-2070a1b23e53",
   "metadata": {},
   "source": [
    "----\n",
    "**Definition 1: What is a set**\n",
    "\n",
    "In simple terms, a set is a collection of elements that satisfy a common property. Examples of a set are the set of even numbers.\n",
    "The set of odd numbers. The set of adults that are above say the age of 40. We will use capital letters to denote a set. For example the set of all nonnegative real numbers is \n",
    "\n",
    "$$A=\\{x: x \\geq 0 \\}$$\n",
    "\n",
    "----\n",
    "\n",
    "When an item $x$ belongs to a set $A$ we will write $x \\in A$.\n",
    "Now that we have a definition of a set, let's also introduce its complement $A^c$. The complement of a set $A$ is defined as\n",
    "all the items that do not belong in it i.e.\n",
    "\n",
    "$$A^c =\\{x : x \\notin A \\}$$\n",
    "\n",
    "Let's us also introduce the empty set denoted with $\\emptyset$. The set $\\emptyset$ contains no elements. "
   ]
  },
  {
   "cell_type": "markdown",
   "id": "27ed04e4-686f-4217-9f60-6cd4c315e3ae",
   "metadata": {},
   "source": [
    "### Basic operations on sets\n",
    "\n",
    "When working with probabilities we are often interested in the following operations between sets:\n",
    "\n",
    "- $A\\bigcup B$: the union of two sets\n",
    "- $A\\bigcap B$ the intersection of two sets\n",
    "\n",
    "The union of two sets, $A,B$, is the set that contains all the elements that belong to either $A$ or $B$ i.e.\n",
    "\n",
    "$$A\\bigcup B=\\{x: x \\in A ~~\\text{or}~~ x \\in B \\}$$\n",
    "\n",
    "Thus the union operations always results in a set that is larger in terms of elements  than what $A$ or $B$ containts.\n",
    "The following propertis hold for the union operation\n",
    "\n",
    "$$A\\bigcup B=B\\bigcup A$$\n",
    "$$A\\bigcup \\left(B \\bigcup C\\right)=\\left(A\\bigcup B\\right)\\bigcup C$$\n",
    "\n",
    "\n",
    "The intersection of two sets $A,B$ is the set that contains all the elements that belong to $A$ and $B$ i.e.\n",
    "\n",
    "$$A\\bigcap B=\\{x: x \\in A ~~\\text{and}~~ x \\in B \\}$$\n",
    "\n",
    "Thus, the intersection will typically be smaller than $A$ or $B$. When the intersection of two sets is empty i.e.\n",
    "\n",
    "$$A\\bigcap B = \\emptyset$$\n",
    "\n",
    "we will say that $A$ and $B$ are independent."
   ]
  },
  {
   "cell_type": "code",
   "execution_count": null,
   "id": "573a3254-961e-4890-9293-8685287f0ec1",
   "metadata": {},
   "outputs": [],
   "source": []
  },
  {
   "cell_type": "markdown",
   "id": "7b566447-85cc-427f-adf3-2002084b12f5",
   "metadata": {},
   "source": [
    "### De Morgans' rules"
   ]
  },
  {
   "cell_type": "markdown",
   "id": "63793480-725c-4c14-aa68-ad42ad300210",
   "metadata": {},
   "source": [
    "A set is countable if it is either finite or we can arrange somehow its elements in a one-to-one correspondence with the set of integeres."
   ]
  },
  {
   "cell_type": "markdown",
   "id": "be790e80-86a0-4157-8df5-29ea04fb4b70",
   "metadata": {},
   "source": [
    "## Summary"
   ]
  },
  {
   "cell_type": "markdown",
   "id": "d74fec0b-ee77-42df-a7c9-704ea8f2db1f",
   "metadata": {},
   "source": [
    "## References"
   ]
  },
  {
   "cell_type": "code",
   "execution_count": null,
   "id": "fadb162d-f008-4905-b8d2-f629bbfa5f5a",
   "metadata": {},
   "outputs": [],
   "source": []
  }
 ],
 "metadata": {
  "kernelspec": {
   "display_name": "Python 3 (ipykernel)",
   "language": "python",
   "name": "python3"
  },
  "language_info": {
   "codemirror_mode": {
    "name": "ipython",
    "version": 3
   },
   "file_extension": ".py",
   "mimetype": "text/x-python",
   "name": "python",
   "nbconvert_exporter": "python",
   "pygments_lexer": "ipython3",
   "version": "3.10.12"
  }
 },
 "nbformat": 4,
 "nbformat_minor": 5
}
