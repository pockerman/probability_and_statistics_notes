{
 "cells": [
  {
   "cell_type": "markdown",
   "id": "e1a190a9-f81a-4100-a0ea-0d1ea3a10232",
   "metadata": {},
   "source": [
    "# Basic Set Theory {#sec-basic-set-theory}"
   ]
  },
  {
   "cell_type": "markdown",
   "id": "fe85e1ef-80d2-4770-9510-767950461df2",
   "metadata": {},
   "source": [
    "## Overview"
   ]
  },
  {
   "cell_type": "markdown",
   "id": "85dd5ab6-a1be-4f77-8185-74ddb2d240b4",
   "metadata": {},
   "source": [
    "In this section we will introduce some important elements from set theory. These are foundational concepts\n",
    "that we  need in order to better comprehend the material further in these notes.\n",
    "Specifically, we discuss the notion of a set and of a <a href=\"https://en.wikipedia.org/wiki/Subset\">subset</a>, the <a href=\"https://en.wikipedia.org/wiki/Union_(set_theory)\">union</a> and the <a href=\"https://en.wikipedia.org/wiki/Intersection_(set_theory)\">intersection</a> of two sets  and <a href=\"https://en.wikipedia.org/wiki/De_Morgan's_laws\">De Morgan's laws</a>."
   ]
  },
  {
   "cell_type": "markdown",
   "id": "6ffd0803-d0d8-404e-8869-89b9f00e8808",
   "metadata": {},
   "source": [
    "## Basic set theory"
   ]
  },
  {
   "cell_type": "markdown",
   "id": "ff29a58b-987f-4017-8467-324c2a6c7641",
   "metadata": {},
   "source": [
    "We will start this chapter with a definition. Namely what constitutes a set."
   ]
  },
  {
   "cell_type": "markdown",
   "id": "92e449ec-08d5-4510-8bab-2070a1b23e53",
   "metadata": {},
   "source": [
    "----\n",
    "**Definition 1: What is a set**\n",
    "\n",
    "In simple terms, a set is a collection of elements that satisfy a common property. Examples of a set are the set of even numbers.\n",
    "The set of odd numbers. The set of adults that are above say the age of 40. We will use capital letters to denote a set. For example the set of all nonnegative real numbers is \n",
    "\n",
    "$$A=\\{x: x \\geq 0 \\}$$\n",
    "\n",
    "----\n",
    "\n",
    "When an item $x$ belongs to a set $A$ we will write $x \\in A$.\n",
    "Now that we have a definition of a set, let's also introduce its complement $A^c$. The complement of a set $A$ is defined as\n",
    "all the items that do not belong in it i.e.\n",
    "\n",
    "$$A^c =\\{x : x \\notin A \\}$$\n",
    "\n",
    "Let's us also introduce the empty set denoted with $\\emptyset$. The empty set contains no elements. \n",
    "\n",
    "### Subset\n",
    "\n",
    "One other very important idea is that of the subset. In simple terms a set $A$ is a subset of a set $B$ if and only if every element in $A$ is also in $B$.\n",
    "We denote that $A$ is a subset of $B$ by writing \n",
    "\n",
    "$$A \\subset B$$\n",
    "\n",
    "For example $A=\\{1,2,3\\}$ is a subset of $B=\\{1,2,3,4,5,6\\}$. Given the definition of a subset above, it follows that a set $A$ is always a subet of itself i.e.\n",
    "\n",
    "$$A \\subset A$$\n",
    "\n",
    "\n",
    "We can use the notion of a subset to discuss set equality. In this sense, two set $A$ and $B$ are equal if and only if\n",
    "\n",
    "\n",
    "$$A \\subset B ~~\\text{and} ~~ B \\subset A \\Longrightarrow A=B$$\n",
    "\n",
    "Finally note that the empty set is a subset of every set $A$ i.e.\n",
    "\n",
    "$$\\emptyset \\subset A$$\n",
    "\n",
    "Let's now review some basic operations on sets."
   ]
  },
  {
   "cell_type": "markdown",
   "id": "27ed04e4-686f-4217-9f60-6cd4c315e3ae",
   "metadata": {},
   "source": [
    "### Basic operations on sets\n",
    "\n",
    "When working with probabilities we are often interested in the following operations between sets:\n",
    "\n",
    "- $A\\bigcup B$: the union of two sets\n",
    "- $A\\bigcap B$ the intersection of two sets\n",
    "- $A\\setminus B$ the difference of two sets\n",
    "\n",
    "The union of two sets, $A,B$, is the set that contains all the elements that belong to either $A$ or $B$ i.e.\n",
    "\n",
    "$$A\\bigcup B=\\{x: x \\in A ~~\\text{or}~~ x \\in B \\}$$\n",
    "\n",
    "Thus the union operations always results in a set that is larger in terms of elements  than what $A$ or $B$ containts.\n",
    "The following propertis hold for the union operation\n",
    "\n",
    "$$A\\bigcup B=B\\bigcup A$$\n",
    "$$A\\bigcup \\left(B \\bigcup C\\right)=\\left(A\\bigcup B\\right)\\bigcup C$$\n",
    "\n",
    "\n",
    "The intersection of two sets $A,B$ is the set that contains all the elements that belong to $A$ and $B$ i.e.\n",
    "\n",
    "$$A\\bigcap B=\\{x: x \\in A ~~\\text{and}~~ x \\in B \\}$$\n",
    "\n",
    "Thus, the intersection will typically be smaller than $A$ or $B$. When the intersection of two sets is empty i.e.\n",
    "\n",
    "$$A\\bigcap B = \\emptyset$$\n",
    "\n",
    "we will say that $A$ and $B$ are independent. The following are a some operations that we can use\n",
    "\n",
    "$$A\\bigcap B = B\\bigcap A$$\n",
    "\n",
    "$$\\left(A\\bigcap B\\right)\\bigcap C = A\\bigcap \\left( B \\bigcap C \\right)=A\\bigcap  B \\bigcap C $$\n",
    "\n",
    "The difference between two sets $A,B$ is define as the set of elements that belong in $A$ but not in $B$ i.e.\n",
    "\n",
    "$$A\\setminus B= \\{x: x \\in A~~\\text{and}~~ x \\notin A \\}$$\n",
    "\n",
    "Obviously if the two sets do not inetrsect then \n",
    "\n",
    "$$A\\setminus B = A$$\n",
    "\n",
    "For both the intersection and the union operation the following is true\n",
    "\n",
    "$$A\\bigcup \\emptyset=A$$\n",
    "\n",
    "$$A\\bigcap \\emptyset = \\emptyset$$\n"
   ]
  },
  {
   "cell_type": "markdown",
   "id": "5219caaf-c130-4086-aa34-84c22c599d7e",
   "metadata": {},
   "source": [
    "We also have the following operations for when mixing unitions and intersections\n",
    "\n",
    "$$A\\bigcap \\left( B \\bigcup C \\right) = \\left(A\\bigcap B\\right) \\bigcup \\left( A \\bigcap C \\right)$$\n",
    "$$A\\bigcup \\left( B \\bigcap C \\right) = \\left(A\\bigcup B\\right) \\bigcap \\left( A \\bigcup C \\right)$$\n",
    "\n",
    "Notice that we just swapped the symbols of intersection and union. "
   ]
  },
  {
   "cell_type": "markdown",
   "id": "7b566447-85cc-427f-adf3-2002084b12f5",
   "metadata": {},
   "source": [
    "### De Morgans' rules"
   ]
  },
  {
   "cell_type": "markdown",
   "id": "63793480-725c-4c14-aa68-ad42ad300210",
   "metadata": {},
   "source": [
    "The following two rules are known as <a herf=\"https://en.wikipedia.org/wiki/De_Morgan's_laws\">De Morgan's laws</a>.\n",
    "\n",
    "$$\\left(A \\bigcup B \\right)^c = A^c \\bigcap B^c$$\n",
    "$$\\left(A \\bigcap B \\right)^c = A^c \\bigcup B^c$$\n",
    "\n",
    "Again notice that we swapped the symbols of intersection and union."
   ]
  },
  {
   "cell_type": "markdown",
   "id": "be790e80-86a0-4157-8df5-29ea04fb4b70",
   "metadata": {},
   "source": [
    "## Summary"
   ]
  },
  {
   "cell_type": "markdown",
   "id": "217cd5dc-47fc-45a5-b989-c2a3ec8490a8",
   "metadata": {},
   "source": [
    "In this chapter we saw some foundational concepts of set theory that we will use in sebesequent ones. \n",
    "Sets are a cornestone of mathematics. We discussed the ideas of set union, intersection and difference. We also discussed\n",
    "some operations we can do on sets and also presented De Morgan's laws."
   ]
  },
  {
   "cell_type": "markdown",
   "id": "d74fec0b-ee77-42df-a7c9-704ea8f2db1f",
   "metadata": {},
   "source": [
    "## References"
   ]
  },
  {
   "cell_type": "markdown",
   "id": "55af7c55-4996-4380-b2a7-66cf1e05eea1",
   "metadata": {},
   "source": [
    "1. <a href=\"https://en.wikipedia.org/wiki/Subset\">subset</a>\n",
    "2. <a href=\"https://en.wikipedia.org/wiki/Union_(set_theory)\">union</a> \n",
    "3. <a href=\"https://en.wikipedia.org/wiki/Intersection_(set_theory)\">intersection</a> \n",
    "4. <a href=\"https://en.wikipedia.org/wiki/De_Morgan's_laws\">De Morgan's laws</a>."
   ]
  }
 ],
 "metadata": {
  "kernelspec": {
   "display_name": "Python 3 (ipykernel)",
   "language": "python",
   "name": "python3"
  },
  "language_info": {
   "codemirror_mode": {
    "name": "ipython",
    "version": 3
   },
   "file_extension": ".py",
   "mimetype": "text/x-python",
   "name": "python",
   "nbconvert_exporter": "python",
   "pygments_lexer": "ipython3",
   "version": "3.10.12"
  }
 },
 "nbformat": 4,
 "nbformat_minor": 5
}
