{
 "cells": [
  {
   "cell_type": "markdown",
   "id": "e1a190a9-f81a-4100-a0ea-0d1ea3a10232",
   "metadata": {},
   "source": [
    "# Basic Set Theory"
   ]
  },
  {
   "cell_type": "markdown",
   "id": "fe85e1ef-80d2-4770-9510-767950461df2",
   "metadata": {},
   "source": [
    "## Overview"
   ]
  },
  {
   "cell_type": "markdown",
   "id": "85dd5ab6-a1be-4f77-8185-74ddb2d240b4",
   "metadata": {},
   "source": [
    "In this section we will introduce some important elements from set theory that they are needed in order to better comprehend the\n",
    "material further in these notes."
   ]
  },
  {
   "cell_type": "markdown",
   "id": "6ffd0803-d0d8-404e-8869-89b9f00e8808",
   "metadata": {},
   "source": [
    "## Basic set theory"
   ]
  },
  {
   "cell_type": "markdown",
   "id": "92e449ec-08d5-4510-8bab-2070a1b23e53",
   "metadata": {},
   "source": [
    "----\n",
    "**Definition: What is a set**\n",
    "\n",
    "\n",
    "----"
   ]
  },
  {
   "cell_type": "markdown",
   "id": "7b566447-85cc-427f-adf3-2002084b12f5",
   "metadata": {},
   "source": [
    "### De Morgans' rules"
   ]
  },
  {
   "cell_type": "markdown",
   "id": "63793480-725c-4c14-aa68-ad42ad300210",
   "metadata": {},
   "source": [
    "A set is countable if it is either finite or we can arrange somehow its elements in a one-to-one correspondence with the set of integeres."
   ]
  },
  {
   "cell_type": "markdown",
   "id": "be790e80-86a0-4157-8df5-29ea04fb4b70",
   "metadata": {},
   "source": [
    "## Summary"
   ]
  },
  {
   "cell_type": "markdown",
   "id": "d74fec0b-ee77-42df-a7c9-704ea8f2db1f",
   "metadata": {},
   "source": [
    "## References"
   ]
  },
  {
   "cell_type": "code",
   "execution_count": null,
   "id": "fadb162d-f008-4905-b8d2-f629bbfa5f5a",
   "metadata": {},
   "outputs": [],
   "source": []
  }
 ],
 "metadata": {
  "kernelspec": {
   "display_name": "Python 3 (ipykernel)",
   "language": "python",
   "name": "python3"
  },
  "language_info": {
   "codemirror_mode": {
    "name": "ipython",
    "version": 3
   },
   "file_extension": ".py",
   "mimetype": "text/x-python",
   "name": "python",
   "nbconvert_exporter": "python",
   "pygments_lexer": "ipython3",
   "version": "3.10.12"
  }
 },
 "nbformat": 4,
 "nbformat_minor": 5
}
