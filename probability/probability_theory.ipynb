{
 "cells": [
  {
   "cell_type": "markdown",
   "metadata": {},
   "source": [
    "# Probability Theory"
   ]
  },
  {
   "cell_type": "markdown",
   "metadata": {},
   "source": [
    "In this chapter, we review some foundational concepts on probability theory. \n",
    "We will see that the probability, $P(E)$ of an event $E$ is a real number in the range $[0,1]$. \n",
    "The function $P$ that assigns a real number to each event $E$ has \n",
    "to  satisfy three axioms [1]. However, there are many interpretations of $P(A)$. The two most common ones are frequencies and degrees of belief [1]. \n",
    "\n",
    "The first interpretation \n",
    "assigns $P(E)$ the proportion of times the event $E$ is true in repetitions. The degree-of-belief interpretation\n",
    "assigns $P(E)$ the belief of an observer that the event $E$ is true [1]. This difference will manifest itself when we look into\n",
    "statistical inference. \n",
    " "
   ]
  },
  {
   "cell_type": "markdown",
   "metadata": {},
   "source": [
    "In addition, we will look into some common probability distributions i.e. some common \n",
    "functions $P$ that assign a real number to an event $A$. Furthermore, we will look into some simulation methods. \n",
    "In aprticular, we will review Monte Carlo simulations. In Monte Carlo simulation, we learn properties of a random\n",
    "variable (mean, variance, etc.) by simulating it over many trials. "
   ]
  },
  {
   "cell_type": "markdown",
   "metadata": {},
   "source": [
    "As an application of Monte Carlo methods we look into Monte Carlo integration. \n",
    "This is a form of stochastic integration used to\n",
    "approximate expectations by invoking the law of large numbers. Standard Monte Carlo integration is great if we can sample from\n",
    "the target distribution (i.e. the desired distribution). However, this is not always possible. Importance sampling can be used to overcome this limitation of standard Monte Carlo. The idea behind importance sampling is simple; \n",
    "draw the sample from a proposal distribution and then re-weight the integral using importance weights so that the correct distribution is targeted [3].\n",
    "\n",
    "\n",
    "A very nice and concise overview of the topics covered in this part can be found at <a href=\"https://betanalpha.github.io/assets/case_studies/probability_theory.html\">Probability Theory (For Scientists and Engineers)</a> by Michael Betancourt and Larry Wasserman's book _All of Statistics. A Concise Course in Statistical Inference_."
   ]
  },
  {
   "cell_type": "markdown",
   "metadata": {},
   "source": [
    "## References\n"
   ]
  },
  {
   "cell_type": "markdown",
   "metadata": {},
   "source": [
    "1. Larry Wasserman, _All of Statistics. A Concise Course in Statistical Inference_, Springer 2003.\n",
    "2. <a href=\"https://astrostatistics.psu.edu/su14/lectures/cisewski_is.pdf\">Imporatnce sampling</a>\n",
    "3. <a href=\"https://people.duke.edu/~ccc14/sta-663/index.html\">Computational Statistics in Python</a> "
   ]
  }
 ],
 "metadata": {
  "kernelspec": {
   "display_name": "Python 3 (ipykernel)",
   "language": "python",
   "name": "python3"
  },
  "language_info": {
   "codemirror_mode": {
    "name": "ipython",
    "version": 3
   },
   "file_extension": ".py",
   "mimetype": "text/x-python",
   "name": "python",
   "nbconvert_exporter": "python",
   "pygments_lexer": "ipython3",
   "version": "3.10.12"
  }
 },
 "nbformat": 4,
 "nbformat_minor": 4
}
