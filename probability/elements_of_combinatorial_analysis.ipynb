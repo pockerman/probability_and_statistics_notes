{
 "cells": [
  {
   "cell_type": "markdown",
   "id": "84a4fc73-4f07-4dbd-abcf-5ef6050a71dc",
   "metadata": {},
   "source": [
    "# Elements of Combinatorial Analysis {#sec-combinatorial-analysis}"
   ]
  },
  {
   "cell_type": "markdown",
   "id": "bb31cf8c-bee9-4ef3-afc5-6c107bbdfd3b",
   "metadata": {},
   "source": [
    "## Overview\n",
    "\n",
    "We have seen that in order to calculate the probability of an event $E$ we can use formula\n",
    "\n",
    "\\begin{equation}\n",
    "P(E)=\\frac{|E|}{|\\Omega|} \n",
    "\\end{equation}\n",
    "\n",
    "This formula requires that we calculate $|E|$ however this may not be easy. In this chapter, we will discuss some useful results from\n",
    "combinatorial analysis that can be used to order to calculate $|E|$\n",
    "\n",
    "\n",
    "## Combinatorial analysis\n",
    "\n",
    "Combinatorial formulas are of great use in calculating probabilities. We will present the most important of these formulas.\n",
    "You can find a more detailed discussion about these formulas in [1]\n",
    "\n",
    "----\n",
    "**Theorem 1**\n",
    "\n",
    "Given $N_1$ elements of some type and $N_2$ elements of some other type. Then there can be $N_1N_2$  distinct ordered pairs containing\n",
    "one element of each type.\n",
    "\n",
    "----\n",
    "\n",
    "#### Example 1\n",
    "\n",
    "For example lets' say we have 5 shirts and 6 neck ties. How many distinct pairs can we have? Using the theorem above this is 30 pairs.\n",
    "We can in fact generalize **Theorem 1** this is addressed below\n",
    "\n",
    "----\n",
    "**Theorem 1**\n",
    "\n",
    "Given $r$ distinct types and each for the first type we  $N_1$ elements for the second type $N_2$ and so on up to the $r$th type \n",
    "that we have $N_r$ elements. Then there can be $N_1\\times N_2\\times \\dots \\times N_r$ distinct ordered tuples containing\n",
    "one element of each type.\n",
    "\n",
    "----\n",
    "\n",
    "#### Example 2\n",
    "For example, taken from [1], lets assume we have three dice. How many different outcomes can we have? Using **Theorem 2** this is $6^3=216$.\n",
    "\n",
    "#### Example 3\n",
    "Sampling with replacement is a commonly used sampling tactic is data science. Let's assume we have a population with $N$ objects. Each time\n",
    "we sample from the population an object and then return it back. We sample in total $r$ objects. \n",
    "How many distinct samples can we form? According to **Theorem 2** there can be in total $N^r$ distinct samples. \n",
    "We can derive this by treating each object drawn from the population as a distinct type. So the sample will be an ordered tuple of the form [1]:\n",
    "\n",
    "\\begin{equation}\n",
    "(a_{i_1}, a_{i_2}, \\dots a_{i_r})\n",
    "\\end{equation}\n",
    "\n",
    "Each type $a_{i_j}$ can be selected from $N$ elements, since we sample with replacement, so according to **Theorem 2**\n",
    "we will have in total $N^r$ distinct samples.\n",
    "\n",
    " \n",
    "**Theorem 2** can also be used to derive the number of permutations of $N$ objects. We know that this $N!$. This is infact the number of distinct samples\n",
    "we can get when sampling without replacement.\n",
    "\n",
    "----\n",
    "**Theorem 3**\n",
    "\n",
    "A population of size $N$ can be arranged in $C_{r}^{N}$ subpopulations where each has size $r$ and $r \\leq N$.\n",
    "\n",
    "\\begin{equation}\n",
    "C_{r}^{N} = \\frac{N!}{r!(N - r)!}\n",
    "\\end{equation}\n",
    "\n",
    "----"
   ]
  },
  {
   "cell_type": "markdown",
   "id": "a90918fc-6f0a-4fa4-b492-5ead9cd43c1e",
   "metadata": {},
   "source": [
    "## References\n",
    "\n",
    "1. Y.A. Rozanov _Probability Theory: A Concise Course_, Dover Publications, 1969.\n"
   ]
  },
  {
   "cell_type": "code",
   "execution_count": null,
   "id": "7a8f0bf8-e862-4ee0-883a-0742ad1d1c74",
   "metadata": {},
   "outputs": [],
   "source": []
  }
 ],
 "metadata": {
  "kernelspec": {
   "display_name": "Python 3 (ipykernel)",
   "language": "python",
   "name": "python3"
  },
  "language_info": {
   "codemirror_mode": {
    "name": "ipython",
    "version": 3
   },
   "file_extension": ".py",
   "mimetype": "text/x-python",
   "name": "python",
   "nbconvert_exporter": "python",
   "pygments_lexer": "ipython3",
   "version": "3.10.12"
  }
 },
 "nbformat": 4,
 "nbformat_minor": 5
}
