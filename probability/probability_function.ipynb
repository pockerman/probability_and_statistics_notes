{
 "cells": [
  {
   "cell_type": "markdown",
   "id": "c9e668bc-c677-404e-8967-c606a45c84ea",
   "metadata": {},
   "source": [
    "# Probability Function {#sec-probability-function}"
   ]
  },
  {
   "cell_type": "markdown",
   "id": "02ff7548-b9d9-4bde-81f4-44e5ca6bf0e9",
   "metadata": {},
   "source": [
    "## Overview"
   ]
  },
  {
   "cell_type": "markdown",
   "id": "58ba545d-4b8f-4cdb-af86-e560074bfd38",
   "metadata": {},
   "source": [
    "In this section we review the probability function $P$ and state some of its properties. \n",
    "This function assigns a real number $P(E)$ to each event $E$ has \n",
    "to  satisfy three axioms [1]. There are many interpretations of $P(E)$. The two most common ones are frequencies and degrees of belief [1]. The first interpretation \n",
    "assigns $P(E)$ the proportion of times the event $E$ is true in repetitions. The degree-of-belief interpretation\n",
    "assigns $P(E)$ the belief of an observer that the event $E$ is true [1]. This difference will manifest itself when we look into\n",
    "statistical inference. \n",
    " "
   ]
  },
  {
   "cell_type": "markdown",
   "id": "3a0c19a0-95a2-46b9-8b43-f7bee9e09296",
   "metadata": {},
   "source": [
    "## Probability function"
   ]
  },
  {
   "cell_type": "markdown",
   "id": "5947fe70-7a6f-4160-a64d-674744920b6e",
   "metadata": {},
   "source": [
    "Let's start this section with a definition."
   ]
  },
  {
   "cell_type": "markdown",
   "id": "fa0f7c36-160b-4b7b-ae67-8406af30ee7c",
   "metadata": {},
   "source": [
    "----\n",
    "**Definition 1:**\n",
    "\n",
    "A function $P$ that assigns a real number $P(E)$ to an event $E$ is a probability measure if it satisfies the following axioms [1]:\n",
    "\n",
    "$$P(E) \\geq 0, \\forall E$$\n",
    "$$P(\\Omega) = 1$$\n",
    "If $E_i$ are disjoint then\n",
    "\n",
    "$$P( \\bigcup_{i=1}^{\\infty} E_i) = \\sum_{i=1}^{\\infty}P(E_i)$$\n",
    "\n",
    "----\n",
    "\n",
    "\n",
    "The last property is called sigma-additivity, [3], or the addition law for probabilities [6], and only holds for disjoint events i.e.\n",
    "$E_i \\bigcap E_j = \\emptyset$. Note that if $E_i$ are not mutially disjoint, then we need to account for their intersection. For example for two events:\n",
    "\n",
    "\n",
    "$$P( E_i \\bigcup E_j) = P(E_i) + P(E_j) - P(E_i \\bigcap E_j)$$"
   ]
  },
  {
   "cell_type": "markdown",
   "id": "d77c6481-09b5-4917-a1fe-5d4d3eefbd02",
   "metadata": {},
   "source": [
    "There are many ways to interpret $P(E)$ but the two most common ones are frequencies and degrees of belief [1].\n",
    "The first interpretation \n",
    "assigns $P(E)$ the proportion of times the event $E$ is true in repetitions. The degree-of-belief interpretation\n",
    "assigns $P(E)$ the belief of an observer that the event $E$ is true [1]. This difference will manifest itself when we look into\n",
    "statistical inference. Note however that the axioms given above should hold for either interpretation.\n",
    "\n",
    "For discrete random variables, see [chapter @sec-random-variables], we call the function $P$ the probability mass function or PMF. For continuous\n",
    "random variables we call $P$ the probability density function."
   ]
  },
  {
   "cell_type": "markdown",
   "id": "6921c0eb-09d4-4c6a-acd6-44fc119336c8",
   "metadata": {},
   "source": [
    "Let's now look at how we can calculate the probability of events on finite sample spaces."
   ]
  },
  {
   "cell_type": "markdown",
   "id": "529e4086-bcad-4cda-8b88-8d548aeacc6b",
   "metadata": {},
   "source": [
    "### Calculate probability on finite sample spaces"
   ]
  },
  {
   "cell_type": "markdown",
   "id": "120160a0-7b4e-41ae-a99d-126d72a144b7",
   "metadata": {},
   "source": [
    "Let's assume that the sample space $\\Omega$ we are working on is finite. A finite sample space has a finitie\n",
    "number of elements and therefore it is always countable i.e. its members can be labelled \n",
    "somehow by positive integers [5]. For example, when we toss a coin, the sample space $\\Omega$ \n",
    "has only two elements; heads and tails:\n",
    "\n",
    "\\begin{equation}\n",
    "\\Omega=\\{H, T\\} \n",
    "\\end{equation}\n",
    "\n",
    "If we toss the coin twice then $\\Omega$  will be\n",
    "\n",
    "\\begin{equation}\n",
    "\\Omega=\\{HH, TT, HT, TH\\} \n",
    "\\end{equation}\n",
    "\n",
    "Similarly, when we toss a die the sample space is:\n",
    "\n",
    "\\begin{equation}\n",
    "\\Omega=\\{1,2,3,4,5,6\\} \n",
    "\\end{equation}"
   ]
  },
  {
   "cell_type": "markdown",
   "id": "703bcff5-2a6a-4889-b54c-0448eb364383",
   "metadata": {},
   "source": [
    "For such sample spaces, if we assume that each outcome is equally likely, then the probability\n",
    "of an event $E$ is given by [1]:\n",
    "\n",
    "\\begin{equation}\n",
    "P(E)=\\frac{|E|}{|\\Omega|} \n",
    "\\end{equation}"
   ]
  },
  {
   "cell_type": "markdown",
   "id": "31aa2ebf-6faa-4458-b3ea-4b0c6bf5dcc5",
   "metadata": {},
   "source": [
    "Thus for a fair coin, the probability of getting $H$ or $T$ is 0.5:\n",
    "\n",
    "\\begin{equation}\n",
    "P(H)=P(T) = \\frac{1}{|\\Omega|}\n",
    "\\end{equation}\n",
    "\n",
    "Similarly, when tossing a die, the probability of getting any outcome within the sample space is 1/36.\n",
    "Let's see how we can use Python to compute the probabilities above."
   ]
  },
  {
   "cell_type": "markdown",
   "id": "c3130641-84c1-4bf8-9522-53adbf067f59",
   "metadata": {},
   "source": [
    "**Example** Let's say we flip a fair coin 5 times. What is the probability that we see at least one head?"
   ]
  },
  {
   "cell_type": "markdown",
   "id": "eeaf256c-9267-49a8-85bc-5981eb670063",
   "metadata": {},
   "source": [
    "### Example 1: Coin toss  "
   ]
  },
  {
   "cell_type": "code",
   "execution_count": 4,
   "id": "9157e7bc-ba2a-4ae7-b576-b5a814809058",
   "metadata": {
    "tags": []
   },
   "outputs": [],
   "source": [
    "coin_toss_omega = {'H', 'T'}"
   ]
  },
  {
   "cell_type": "code",
   "execution_count": 5,
   "id": "1750cd8b-e07d-4355-9a42-99e0a58adc86",
   "metadata": {
    "tags": []
   },
   "outputs": [],
   "source": [
    "def h_or_t(outcome: str) -> bool:\n",
    "    return outcome == 'H' or outcome == 'T' \n",
    "\n",
    "def h(outcome: str) -> bool:\n",
    "    return outcome == 'H'\n",
    "\n",
    "def t(outcome: str) -> bool:\n",
    "    return outcome == 'T'"
   ]
  },
  {
   "cell_type": "markdown",
   "id": "72a3b589-061f-4950-af00-677c578cc3e9",
   "metadata": {},
   "source": [
    "Let's write a function that will compute the events we are interested in"
   ]
  },
  {
   "cell_type": "code",
   "execution_count": 6,
   "id": "008b97ae-77cb-431a-a7eb-618722899fc7",
   "metadata": {
    "tags": []
   },
   "outputs": [],
   "source": [
    "def get_events(event_condition, sample_space: set):\n",
    "    return set([outcome for outcome in sample_space\n",
    "                if event_condition(outcome)])"
   ]
  },
  {
   "cell_type": "markdown",
   "id": "03e445cd-aad2-4738-8b55-6380702c62e4",
   "metadata": {},
   "source": [
    "Now we can easily compute the probabilities we are interested in"
   ]
  },
  {
   "cell_type": "code",
   "execution_count": 7,
   "id": "d72a4ad4-e667-4689-b714-9510a51b499f",
   "metadata": {
    "tags": []
   },
   "outputs": [
    {
     "name": "stdout",
     "output_type": "stream",
     "text": [
      "Probability of heads=0.5\n",
      "Probability of tails=0.5\n"
     ]
    }
   ],
   "source": [
    "number_of_heads = len(get_events(h, coin_toss_omega))\n",
    "\n",
    "# this should have size 1\n",
    "assert number_of_heads == 1\n",
    "\n",
    "# the probability of getting heads is\n",
    "print(f\"Probability of heads={number_of_heads / len(coin_toss_omega)}\")\n",
    "\n",
    "# similarly for tails\n",
    "number_of_tails = len(get_events(t, coin_toss_omega))\n",
    "\n",
    "# this should have size 1\n",
    "assert number_of_tails == 1\n",
    "\n",
    "# the probability of getting heads is\n",
    "print(f\"Probability of tails={number_of_tails / len(coin_toss_omega)}\")"
   ]
  },
  {
   "cell_type": "markdown",
   "id": "3341788c-2d7e-4d5b-9e01-80532019bc7c",
   "metadata": {},
   "source": [
    "### Example 2: Tossing a coin twice  "
   ]
  },
  {
   "cell_type": "code",
   "execution_count": 8,
   "id": "705faa32-6e58-4bb7-b5db-d45ce6637fdf",
   "metadata": {
    "tags": []
   },
   "outputs": [],
   "source": [
    "twice_coin_toss_omega = {'HH', 'TT', 'HT', 'TH'}"
   ]
  },
  {
   "cell_type": "code",
   "execution_count": 9,
   "id": "1ad7be35-09f1-4d1c-a511-dfe1dd437992",
   "metadata": {
    "tags": []
   },
   "outputs": [
    {
     "name": "stdout",
     "output_type": "stream",
     "text": [
      "Probability of heads=0.75\n"
     ]
    }
   ],
   "source": [
    "def at_least_one_h(outcome: str) -> bool:\n",
    "    return outcome == 'HH' or outcome == 'HT' or outcome == 'TH'\n",
    "\n",
    "number_of_heads_at_least_once = len(get_events(at_least_one_h, twice_coin_toss_omega))\n",
    "\n",
    "# this should have size 3\n",
    "assert number_of_heads_at_least_once == 3\n",
    "\n",
    "\n",
    "# the probability of getting heads at least one is\n",
    "print(f\"Probability of heads={number_of_heads_at_least_once / len(twice_coin_toss_omega)}\")"
   ]
  },
  {
   "cell_type": "markdown",
   "id": "733d5dfd-905c-42a9-b905-36ee6fe93e85",
   "metadata": {},
   "source": [
    "### Example 3: Extreme cases"
   ]
  },
  {
   "cell_type": "markdown",
   "id": "bc480167-95c0-4102-bb88-9d50079307bf",
   "metadata": {},
   "source": [
    "For some extreme cases is fairly easy to calculate their probability. Such cases are the probability\n",
    "$P(\\Omega)$ and the probability of the empty set $P(\\emptyset)$ these are respectively:\n",
    "\n",
    "$$P(\\Omega) = 1, P(\\emptyset) = 0$$"
   ]
  },
  {
   "cell_type": "markdown",
   "id": "d8fd3be0-e927-417d-be2a-ce9d473db0d2",
   "metadata": {},
   "source": [
    "## Examples"
   ]
  },
  {
   "cell_type": "markdown",
   "id": "42e4e5d8-5cbe-4567-89e9-c419db962232",
   "metadata": {},
   "source": [
    "Let's see some simple examples of computing probabilities. These examples are taken from [1, 2, 3, 4]. \n",
    "We first introduce some utility functions"
   ]
  },
  {
   "cell_type": "code",
   "execution_count": 14,
   "id": "8370cd16-d5c5-443e-b09e-d7c9aa286888",
   "metadata": {
    "tags": []
   },
   "outputs": [],
   "source": [
    "from collections import defaultdict\n",
    "from typing import Union\n",
    "from itertools import product"
   ]
  },
  {
   "cell_type": "code",
   "execution_count": 15,
   "id": "a17aba40-9450-42d6-8f05-be2a140fae2d",
   "metadata": {
    "tags": []
   },
   "outputs": [],
   "source": [
    "def get_events(event_condition, sample_space: set):\n",
    "    return set([outcome for outcome in sample_space\n",
    "                if event_condition(outcome)])\n",
    "\n",
    "def compute_probability(event_condition, sample_space: Union[set, dict]):\n",
    "    event = get_events(event_condition, sample_space)\n",
    "    \n",
    "    if type(sample_space) == type(set()):\n",
    "        return len(event) / len(sample_space)\n",
    "    \n",
    "    event_size = sum(sample_space[outcome] \n",
    "                     for outcome in event)\n",
    "    \n",
    "    return event_size / sum(sample_space.values())\n",
    "\n"
   ]
  },
  {
   "cell_type": "markdown",
   "id": "38a8e0f2-467f-42c5-8f5a-e51d95d0d811",
   "metadata": {},
   "source": [
    "### Example 3"
   ]
  },
  {
   "cell_type": "markdown",
   "id": "63d12c84-0dc0-4016-8b8e-63e82f4a8aa5",
   "metadata": {},
   "source": [
    "Let's assume that a family has 5 children. What is the probability that \n",
    "the family has exactly two boys? Forming the sample space for this problem may be involved. We can use Python\n",
    "however, to compute the probability. We will assume that a child is equally likely\n",
    "to be either a boy or a girl."
   ]
  },
  {
   "cell_type": "code",
   "execution_count": 16,
   "id": "181f7f68-b2a3-45a3-8fc0-2f3bdc5d6a74",
   "metadata": {
    "tags": []
   },
   "outputs": [
    {
     "name": "stdout",
     "output_type": "stream",
     "text": [
      "Size of sample space 32\n",
      "\n",
      "\n",
      "('G', 'G', 'G', 'B', 'G')\n",
      "('G', 'B', 'G', 'G', 'B')\n",
      "('B', 'G', 'G', 'G', 'B')\n",
      "('B', 'G', 'B', 'B', 'G')\n",
      "('G', 'G', 'G', 'G', 'B')\n",
      "('G', 'G', 'B', 'B', 'G')\n",
      "('G', 'B', 'B', 'G', 'G')\n",
      "('G', 'B', 'B', 'B', 'G')\n",
      "('G', 'B', 'G', 'B', 'B')\n",
      "('B', 'B', 'B', 'G', 'G')\n",
      "('B', 'B', 'G', 'B', 'B')\n",
      "('B', 'G', 'B', 'G', 'B')\n",
      "('B', 'G', 'G', 'B', 'B')\n",
      "('B', 'B', 'G', 'G', 'G')\n",
      "('G', 'G', 'B', 'G', 'B')\n",
      "('G', 'G', 'G', 'B', 'B')\n",
      "('B', 'B', 'B', 'B', 'G')\n",
      "('B', 'G', 'G', 'G', 'G')\n",
      "('B', 'G', 'B', 'B', 'B')\n",
      "('G', 'B', 'G', 'G', 'G')\n",
      "('G', 'G', 'G', 'G', 'G')\n",
      "('G', 'G', 'B', 'B', 'B')\n",
      "('G', 'G', 'B', 'G', 'G')\n",
      "('G', 'B', 'B', 'G', 'B')\n",
      "('G', 'B', 'B', 'B', 'B')\n",
      "('G', 'B', 'G', 'B', 'G')\n",
      "('B', 'B', 'B', 'G', 'B')\n",
      "('B', 'B', 'G', 'B', 'G')\n",
      "('B', 'G', 'B', 'G', 'G')\n",
      "('B', 'G', 'G', 'B', 'G')\n",
      "('B', 'B', 'B', 'B', 'B')\n",
      "('B', 'B', 'G', 'G', 'B')\n"
     ]
    }
   ],
   "source": [
    "children_type = ['B', 'G']\n",
    "omega = set( product(children_type, repeat=5) )\n",
    "    \n",
    "print(f\"Size of sample space {len(omega)}\")\n",
    "\n",
    "print(\"\\n\")\n",
    "# print the sample space\n",
    "for outcome in omega:\n",
    "    print(outcome)"
   ]
  },
  {
   "cell_type": "markdown",
   "id": "e007bba6-c1cb-4c7d-9954-e214921548f6",
   "metadata": {},
   "source": [
    "Similar to what we did in in the previous section, we define the \n",
    "following boolean function:"
   ]
  },
  {
   "cell_type": "code",
   "execution_count": 17,
   "id": "e120b3ee-2817-42bf-881b-f0d8f2e9a1c9",
   "metadata": {
    "tags": []
   },
   "outputs": [],
   "source": [
    "def two_boys(outcome: tuple):\n",
    "    return len([c for c in outcome if c == 'B']) == 2\n"
   ]
  },
  {
   "cell_type": "markdown",
   "id": "01ba0c45-198e-4e1b-a70d-5b240f782bec",
   "metadata": {},
   "source": [
    "We will feed this function to the ```compute_probability``` function in order to calculate the needed probability"
   ]
  },
  {
   "cell_type": "code",
   "execution_count": 18,
   "id": "71ce11a4-5108-4977-93e5-ccc70efa0c39",
   "metadata": {
    "tags": []
   },
   "outputs": [
    {
     "name": "stdout",
     "output_type": "stream",
     "text": [
      "Probability of a family with 5 children to have exactly two boys is=0.3125\n"
     ]
    }
   ],
   "source": [
    "probability = compute_probability(two_boys, omega)\n",
    "print(f\"Probability of a family with 5 children to have exactly two boys is={probability}\")"
   ]
  },
  {
   "cell_type": "markdown",
   "id": "46532075-f12d-4a59-a450-4477b47da8aa",
   "metadata": {},
   "source": [
    "What is the probability of having at least three boys? "
   ]
  },
  {
   "cell_type": "code",
   "execution_count": 21,
   "id": "734f38dd-6334-4b50-95b4-0b4d41c41d34",
   "metadata": {
    "tags": []
   },
   "outputs": [],
   "source": [
    "def at_least_three_boys(outcome: tuple):\n",
    "    return len([c for c in outcome if c == 'B']) >= 3"
   ]
  },
  {
   "cell_type": "code",
   "execution_count": 22,
   "id": "47e82531-8ce1-4e80-9f15-5db22ee74982",
   "metadata": {
    "tags": []
   },
   "outputs": [
    {
     "name": "stdout",
     "output_type": "stream",
     "text": [
      "Probability of a family with 5 children to have at least three boys is=0.5\n"
     ]
    }
   ],
   "source": [
    "probability_at_least_3_boys = compute_probability(at_least_three_boys, omega)\n",
    "print(f\"Probability of a family with 5 children to have at least three boys is={probability_at_least_3_boys}\")"
   ]
  },
  {
   "cell_type": "code",
   "execution_count": 24,
   "id": "7231aab7-6350-4895-8703-b7a3d767049b",
   "metadata": {
    "tags": []
   },
   "outputs": [
    {
     "name": "stdout",
     "output_type": "stream",
     "text": [
      "('G', 'B', 'B', 'B', 'B')\n",
      "('G', 'G', 'B', 'B', 'B')\n",
      "('B', 'B', 'G', 'G', 'B')\n",
      "('B', 'B', 'B', 'G', 'G')\n",
      "('B', 'B', 'B', 'B', 'B')\n",
      "('B', 'B', 'G', 'B', 'G')\n",
      "('B', 'B', 'B', 'B', 'G')\n",
      "('B', 'G', 'B', 'B', 'G')\n",
      "('B', 'G', 'G', 'B', 'B')\n",
      "('G', 'B', 'B', 'B', 'G')\n",
      "('G', 'B', 'B', 'G', 'B')\n",
      "('B', 'G', 'B', 'G', 'B')\n",
      "('B', 'B', 'G', 'B', 'B')\n",
      "('B', 'B', 'B', 'G', 'B')\n",
      "('G', 'B', 'G', 'B', 'B')\n",
      "('B', 'G', 'B', 'B', 'B')\n",
      "Number of events that have at least three boys=16\n"
     ]
    }
   ],
   "source": [
    "events = get_events(at_least_three_boys, omega)\n",
    "print(f\"Number of events that have at least three boys={len(events)}\")"
   ]
  },
  {
   "cell_type": "markdown",
   "id": "19f3202b-aee2-4fcc-9fad-45fc69012531",
   "metadata": {},
   "source": [
    "Let's now turn attention on how to compute probabilities \n",
    "when dealing with intervals. This is useful as often we want\n",
    "to evaluate whether the data is too extreme. in such cases we want to\n",
    "somehow evaluate whether the observed data is rather unsusual to have occurred by chance [1]. For example assume that we toss a fair coin ten times, then we want to know what is the probability that we get more than say eight heads? "
   ]
  },
  {
   "cell_type": "markdown",
   "id": "186ab982-0078-4e8c-a32f-cf416f0a271b",
   "metadata": {},
   "source": [
    "### Example 4: Biased sample space\n",
    "\n",
    "Let's expand on the above by considering a biased sample space. In particular,\n",
    "let's assume that getting 5 is three times more likely than getting 10 or 20. \n",
    "Let's model this using a map."
   ]
  },
  {
   "cell_type": "code",
   "execution_count": 27,
   "id": "04a4260f-5388-4918-b79e-86db854528a9",
   "metadata": {},
   "outputs": [],
   "source": [
    "weighted_omega = {5:3, 10:1, 20:1}"
   ]
  },
  {
   "cell_type": "code",
   "execution_count": 28,
   "id": "b28128a1-fcef-4c98-b46b-b5c6c34991f5",
   "metadata": {
    "tags": []
   },
   "outputs": [],
   "source": [
    "def is_5_or_10_or_20(outcome: int) -> bool:\n",
    "    return outcome in weighted_omega\n",
    "\n",
    "def not_5_and_not_10_and_not_20(outcome: int) -> bool:\n",
    "    return not is_5_or_10_or_20(outcome)\n",
    "\n",
    "def is_5(outcome: int) -> bool:\n",
    "    return outcome == 5\n",
    "\n",
    "def is_10(outcome: int) -> bool:\n",
    "    return outcome == 10\n",
    "\n",
    "def is_20(outcome: int) -> bool:\n",
    "    return outcome == 20"
   ]
  },
  {
   "cell_type": "code",
   "execution_count": 30,
   "id": "8d53dc25-ad8a-468e-ba9c-be290db64909",
   "metadata": {},
   "outputs": [],
   "source": [
    "five_or_ten_or_twenty_event = get_events(is_5_or_10_or_20, weighted_omega)\n",
    "event_size = sum(weighted_omega[outcome] for outcome in five_or_ten_or_twenty_event)\n",
    "assert event_size == 5"
   ]
  },
  {
   "cell_type": "markdown",
   "id": "8d588ed5-85eb-4a51-b4c3-cedc9a1e0aed",
   "metadata": {},
   "source": [
    "Let's rewrite the ```compute_probability``` function so that it accounts \n",
    "for a weighted sample space."
   ]
  },
  {
   "cell_type": "code",
   "execution_count": 31,
   "id": "b447fadf-0ccf-411f-9f1d-c5fd62684e2e",
   "metadata": {},
   "outputs": [],
   "source": [
    "def compute_probability(event_condition, sample_space: Union[set, dict]):\n",
    "    event = get_events(event_condition, sample_space)\n",
    "    \n",
    "    if type(sample_space) == type(set()):\n",
    "        return len(event) / len(sample_space)\n",
    "    \n",
    "    event_size = sum(sample_space[outcome] \n",
    "                     for outcome in event)\n",
    "    \n",
    "    return event_size / sum(sample_space.values())"
   ]
  },
  {
   "cell_type": "code",
   "execution_count": 34,
   "id": "ca4b1b7b-45d7-4c1b-ab14-d5e51cc9bdb2",
   "metadata": {},
   "outputs": [
    {
     "name": "stdout",
     "output_type": "stream",
     "text": [
      "Probability of event arising from 'is_5' is 0.6\n",
      "Probability of event arising from 'is_10' is 0.2\n",
      "Probability of event arising from 'is_20' is 0.2\n"
     ]
    }
   ],
   "source": [
    "events = [is_5, is_10, is_20]\n",
    "for event_condition in events:\n",
    "    prob = compute_probability(event_condition, weighted_omega)\n",
    "    name = event_condition.__name__\n",
    "    print(f\"Probability of event arising from '{name}' is {prob}\")\n"
   ]
  },
  {
   "cell_type": "markdown",
   "id": "40016589-6ee5-4358-af25-76fe020a24c6",
   "metadata": {},
   "source": [
    "## Summary"
   ]
  },
  {
   "cell_type": "markdown",
   "id": "eb04e951-7c8a-49bf-810e-d62ebc8a3b9b",
   "metadata": {},
   "source": [
    "In this section we reviewed the probability function $P$ and some of its properties. The function $P$ assigns a real number $P(E)$ \n",
    "to each event $E$ in a sample space $\\Omega$. It has to satify the following requirements:\n",
    "\n",
    "- $P(E) \\geq 0, \\forall E$\n",
    "- $P(\\Omega) = 1$\n",
    "- If $E_i$ are disjoint then\n",
    "\n",
    "$$P( \\bigcup_{i=1}^{\\infty} E_i) = \\sum_{i=1}^{\\infty}P(E_i)$$\n"
   ]
  },
  {
   "cell_type": "markdown",
   "id": "5b6f35e9-ff21-4201-9806-ce484bef1ff8",
   "metadata": {},
   "source": [
    "In addition, we saw how to use the ```product``` function from Python's ```itertools```. This function takes as an input\n",
    "an iterable such as a list or a set and returns the possible pairs for a given number of repeats. "
   ]
  },
  {
   "cell_type": "markdown",
   "id": "7c0291cc-bcb1-41d6-99cd-85638a4fbf17",
   "metadata": {},
   "source": [
    "## References"
   ]
  },
  {
   "cell_type": "markdown",
   "id": "7aa2a198-4978-445a-9294-0e97aaae247a",
   "metadata": {},
   "source": [
    "1. Larry Wasserman, _All of Statistics. A Concise Course in Statistical Inference_, Springer 2003.\n",
    "2. Jose Unpingco, _Python for probability, statistics and machine learning_, Springer, 2016\n",
    "3. Michael Baron, _Probability and Statistics for Computer Scientists_, 2nd Edition, CRC Press.\n",
    "4. Leonard Apeltsin, _Data Science Bookcamp_, Manning Publications, 2021.\n",
    "5. B. Daya Reddy, _Introductory Functional Analysis with Applications to Boundary Value Problems and Finite Elements_, Springer, 1998\n",
    "6. Y.A. Rozanov _Probability Theory: A Concise Course_, Dover Publications, 1969."
   ]
  }
 ],
 "metadata": {
  "kernelspec": {
   "display_name": "Python 3 (ipykernel)",
   "language": "python",
   "name": "python3"
  },
  "language_info": {
   "codemirror_mode": {
    "name": "ipython",
    "version": 3
   },
   "file_extension": ".py",
   "mimetype": "text/x-python",
   "name": "python",
   "nbconvert_exporter": "python",
   "pygments_lexer": "ipython3",
   "version": "3.10.12"
  }
 },
 "nbformat": 4,
 "nbformat_minor": 5
}
