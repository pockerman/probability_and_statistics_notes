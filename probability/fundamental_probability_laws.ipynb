{
 "cells": [
  {
   "cell_type": "markdown",
   "id": "47879841-a761-4f49-9977-78d76adc1b38",
   "metadata": {},
   "source": [
    "# Joint  and Conditional Probability"
   ]
  },
  {
   "cell_type": "markdown",
   "id": "69d5afa8-3ecd-427f-8258-132ad73f271f",
   "metadata": {},
   "source": [
    "## Overview"
   ]
  },
  {
   "cell_type": "markdown",
   "id": "4e173e20-5cb3-4578-a0d5-111c98ab5013",
   "metadata": {},
   "source": [
    "In this chapter, we will look into some fundamental concepts of probability theory namely <a href=\"https://en.wikipedia.org/wiki/Joint_probability_distribution\">joint</a> and conditional probability.\n",
    "We will also introduce the law of <a href=\"https://en.wikipedia.org/wiki/Law_of_total_probability\">total probability</a>.\n"
   ]
  },
  {
   "cell_type": "markdown",
   "id": "04186331-9bf1-4d3a-bc74-011a36deabb7",
   "metadata": {},
   "source": [
    "## Joint and conditional probaility"
   ]
  },
  {
   "cell_type": "markdown",
   "id": "834384f6-d13e-4cd3-b159-06e101c3da81",
   "metadata": {},
   "source": [
    "### Joint probability"
   ]
  },
  {
   "cell_type": "markdown",
   "id": "bb351f6e-b000-4a4c-a92e-697e1ef74f55",
   "metadata": {},
   "source": [
    "Let's say we toss two dice and we want to compute the probability that the first dice returns $X$ and the second $Y$. In other words, we \n",
    "want to compute the joint probability $P(X,Y)$. Specifically, given two random variables, $X$ and $Y$ which are defined on the same probability space, the joint probability distribution is the corresponding probability distribution on all possible pairs of outputs [1]. \n",
    "\n",
    "\n",
    "The joint distribution can just as well be considered for any given number of random variables. The joint distribution encodes the marginal distributions, i.e. the distributions of each of the individual random variables and the conditional probability distributions, which deal with how the outputs of one random variable are distributed when given information on the outputs of the other random variable(s).\n",
    "\n",
    "\n",
    "\n",
    "\n",
    "\n",
    "Given that the two dice are independent, then "
   ]
  },
  {
   "cell_type": "markdown",
   "id": "306033d3-a90f-48ff-9231-432aa98be0cb",
   "metadata": {},
   "source": [
    "$$P(X,Y)=P(X)P(Y)$$"
   ]
  },
  {
   "cell_type": "markdown",
   "id": "f34c3767-f2fe-464f-b976-c1776e611b89",
   "metadata": {},
   "source": [
    "### Conditional probability"
   ]
  },
  {
   "cell_type": "markdown",
   "id": "db7aa889-ef11-483b-b876-ae4f95b2c484",
   "metadata": {},
   "source": [
    "The conditional proability of two events $E_1$ and $E_2$ is defined as follows\n",
    "\n",
    "\n",
    "----\n",
    "**Definition: Conditional Probability**\n",
    "\n",
    "\n",
    "The conditional probability $E_1$ and $E_2$ is defined as \n",
    "\n",
    "$$P(E_1|E_2) = \\frac{P(E_1 \\bigcap E_2)}{P(E_2)}$$\n",
    "\n",
    "----\n",
    "\n",
    "Obviously the definition above assumes that $P(E_2)=0$. Notice also, that if the events $E_1$ and $E_2$ are independent, then \n",
    "\n",
    "$$P(E_1|E_2) = P(E_1)$$\n",
    "\n",
    "In addtion, from the definition above we have the multiplication law\n",
    "\n",
    "\n",
    "----\n",
    "**Multiplication Law**\n",
    "\n",
    "$$P(E_1 \\bigcap E_2) = P(E_1|E_2)P(E_2)$$\n",
    "\n",
    "----\n",
    "\n",
    "The multiplication law is very useful when we want to calculate the probabilities of intersections."
   ]
  },
  {
   "cell_type": "markdown",
   "id": "8fab69e0-ef38-4652-bfcd-5ca444131d8f",
   "metadata": {},
   "source": [
    "### Law of total of probability\n",
    "\n",
    "Let $E_1, E_2,\\dots, E_n$ be such that their union makes up the entire sample space $\\Omega$ i.e $\\bigcup_{i=1}^{\\infty}E_i = \\Omega$. Also let $E_i \\bigcap E_j = \\emptyset$ for $i \\neq j$.\n",
    "Let also that $P(B_i)>0$ for all i. Then, for any even event $A$  \n",
    "\n",
    "$$P(A) = \\sum_{i=1}^n P(A|E_i)P(E_i)$$\n",
    "\n",
    "The law of total probability is very useful when we want to calculate $P(A)$ but doing so is not so obvious but calculating $P(A|E_i)$ and $P(E_i)$ is more straightforward. \n",
    "\n",
    "\n"
   ]
  },
  {
   "cell_type": "markdown",
   "id": "1e51f299-eaff-458c-afdd-e4b874c41115",
   "metadata": {},
   "source": [
    "### Bayes' rule\n",
    "\n",
    "Another importan law in probability theory is <a href=\"https://en.wikipedia.org/wiki/Bayes'_theorem\">Bayes' theorem</a>.\n",
    "Bayes' law allows us to calculate the probability of an event, based on prior knowledge of conditions that might be related to the event. Specifically, Bayes' law for two events $A$ and $B$ is \n",
    "\n",
    "$$P(A|B) = \\frac{P(B|A)P(B)}{P(A)}$$\n",
    "\n",
    "Bayesian inference is heavily based on Bayes' theorem. Adopting a Bayesian interpretation of probability, Bayes' theorem expresses \n",
    "how a degree of belief, expressed as a probability, should rationally change to account for the availability of related evidence.\n",
    "\n",
    "We can also state Bayes' theorem for a series of mututally disjoint events that span the sample space $\\Omega$. Specifically, see [4],\n",
    "\n",
    "----\n",
    "**Bayes' Rule**\n",
    "\n",
    "Let $A$ and $B_1, \\dots, B_n$ be events such that $\\bigcup_{i=1}^{n} B_i = \\Omega$. Lets also $P(B_i)>0$ $\\forall$ i.\n",
    "Then\n",
    "\n",
    "$$P(B_j|A) = \\frac{P(A|B_j)P(B_j)}{\\sum_{i=1}^{n}P(A|B_i)P(B_i)}$$\n",
    "\n",
    "----"
   ]
  },
  {
   "cell_type": "code",
   "execution_count": 3,
   "id": "51dced44-5b7d-487d-aa3a-e119144c58f1",
   "metadata": {
    "tags": []
   },
   "outputs": [],
   "source": [
    "from collections import defaultdict"
   ]
  },
  {
   "cell_type": "code",
   "execution_count": 4,
   "id": "3cdc4a63-738a-4157-9b0a-bad8593827a1",
   "metadata": {
    "tags": []
   },
   "outputs": [],
   "source": [
    "omega={(i,j):i+j for i in range(1,7) for j in range(1,7)}"
   ]
  },
  {
   "cell_type": "code",
   "execution_count": 5,
   "id": "1bb1cf81-f629-4d75-8726-0b39943f1971",
   "metadata": {
    "tags": []
   },
   "outputs": [],
   "source": [
    "dinv = defaultdict(list)\n",
    "for i,j in omega.items():\n",
    "    dinv[j].append(i)"
   ]
  },
  {
   "cell_type": "code",
   "execution_count": 6,
   "id": "3b761106-a13a-4688-8f6a-99361ee49397",
   "metadata": {
    "tags": []
   },
   "outputs": [
    {
     "data": {
      "text/plain": [
       "{2: 0.027777777777777776,\n",
       " 3: 0.05555555555555555,\n",
       " 4: 0.08333333333333333,\n",
       " 5: 0.1111111111111111,\n",
       " 6: 0.1388888888888889,\n",
       " 7: 0.16666666666666666,\n",
       " 8: 0.1388888888888889,\n",
       " 9: 0.1111111111111111,\n",
       " 10: 0.08333333333333333,\n",
       " 11: 0.05555555555555555,\n",
       " 12: 0.027777777777777776}"
      ]
     },
     "execution_count": 6,
     "metadata": {},
     "output_type": "execute_result"
    }
   ],
   "source": [
    "X={i:len(j)/36. for i,j in dinv.items() }\n",
    "X"
   ]
  },
  {
   "cell_type": "markdown",
   "id": "0fc86854-4989-45c8-adfc-f942ea7fe02e",
   "metadata": {},
   "source": [
    "## Summary"
   ]
  },
  {
   "cell_type": "markdown",
   "id": "a49416a0-00e7-401f-997c-c56ba1b359aa",
   "metadata": {},
   "source": [
    "In this chapter we looked into some fundamental, and frequently used in practice, laws of probability theory"
   ]
  },
  {
   "cell_type": "markdown",
   "id": "748240f7-b9eb-412e-b8cb-3f336fb3a028",
   "metadata": {},
   "source": [
    "## References"
   ]
  },
  {
   "cell_type": "markdown",
   "id": "93faa5ae-f624-4725-8f69-749381f04073",
   "metadata": {},
   "source": [
    "1. <a href=\"https://en.wikipedia.org/wiki/Joint_probability_distribution\">Joint probability</a>\n",
    "2. <a href=\"https://en.wikipedia.org/wiki/Law_of_total_probability\">Law of total probability</a>.\n",
    "3. <a href=\"https://en.wikipedia.org/wiki/Bayes'_theorem\">Bayes' theorem</a>\n",
    "4. Larry Wasserman, _All of Statistics. A Concise Course in Statistical Inference_, Springer 2003."
   ]
  }
 ],
 "metadata": {
  "kernelspec": {
   "display_name": "Python 3 (ipykernel)",
   "language": "python",
   "name": "python3"
  },
  "language_info": {
   "codemirror_mode": {
    "name": "ipython",
    "version": 3
   },
   "file_extension": ".py",
   "mimetype": "text/x-python",
   "name": "python",
   "nbconvert_exporter": "python",
   "pygments_lexer": "ipython3",
   "version": "3.10.12"
  }
 },
 "nbformat": 4,
 "nbformat_minor": 5
}
