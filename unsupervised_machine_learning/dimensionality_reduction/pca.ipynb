{
 "cells": [
  {
   "cell_type": "markdown",
   "metadata": {},
   "source": [
    "# Principal Component Analysis {#sec-principal-components-analysis}"
   ]
  },
  {
   "cell_type": "markdown",
   "metadata": {},
   "source": [
    "## <a name=\"overview\"></a> Overview"
   ]
  },
  {
   "cell_type": "markdown",
   "metadata": {},
   "source": [
    "Working with high dimensional data is not easy as  it is difficult to process and to visualize. We would like therefore to be able to transform the data such that by loosing only a small amount of information we amend it into a more practical form. One such methodology, is \n",
    "<a href=\"https://en.wikipedia.org/wiki/Principal_component_analysis\">principal component analysis or PCA</a>. PCA is an unsupervised learning algorithm as it does not\n",
    "involve any labels."
   ]
  },
  {
   "cell_type": "markdown",
   "metadata": {},
   "source": [
    "PCA is the process of computing the principal components and using them to perform a change of basis on the data, sometimes using only the first few principal components and ignoring the rest. PCA is used in exploratory data analysis and for making predictive models. It is commonly used for dimensionality reduction by projecting each data point onto only the first few principal components to obtain lower-dimensional data while preserving as much of the data's variation as possible. The first principal component can equivalently be defined as a direction that maximizes the variance of the projected data. The $i-$th principal component can be taken as a direction orthogonal to the first $i − 1$ principal components that maximizes the variance of the projected data [1]. In this section we discuss the classical PCA. The following section discusses the probabilistic PCA.\n",
    "\n",
    "PCA is a versatile methodology and as a dimensionality reduction techinque, it can be used for visualization of high-dimensional data, for noise filtering, and for feature selection. "
   ]
  },
  {
   "cell_type": "markdown",
   "metadata": {},
   "source": [
    "## <a name=\"ekf\"></a> Principal component analysis"
   ]
  },
  {
   "cell_type": "markdown",
   "metadata": {},
   "source": [
    "Let's consider a dataset $\\mathbf{D}$ that has $m$ features and $n$ observations. PCA finds a low-dimensional representation of $\\mathbf{D}$ \n",
    "such that it contains as much as possible of the variation. \n",
    "The idea is that not all of the $m$ dimensions are equally interesting. Thus PCA seeks a small number of dimensions that are as interesting as possible, where the concept of interesting is measured by the amount that the observations vary along each dimension. Each of the dimensions found by PCA is a linear combination of the $m$ features. \n",
    "Let's see how we can construct these components\n",
    "\n",
    "The first principal component, $C_1$, is a normalized linear combination of the features i.e.\n",
    "\n",
    "$$C_1 = w_{11}d_1 + \\dots + w_{p1}d_p $$\n",
    "\n",
    "with \n",
    "\n",
    "$$\\sum_{i=1}^m w_{i1}^2 = 1$$\n",
    "\n",
    "The component $C_1$ is chosen as the component that has the largest variance.\n",
    "\n",
    "\n",
    "----\n",
    "**Remark**\n",
    "\n",
    "The coefficients $w_{ij}$ are known as the loadings of the component. They make up the principal component loading vector\n",
    "\n",
    "$$\\mathbf{w}_1 = \\left(w_{11},w_{21}, \\dots, w_{m1} \\right)$$\n",
    "\n",
    "We constrain the loadings so that\n",
    "their sum of squares is equal to one, since otherwise setting these elements\n",
    "to be arbitrarily large in absolute value could result in an arbitrarily large\n",
    "variance.\n",
    "\n",
    "----\n",
    "\n",
    "So how can we compute $C_1$? We look for the linear combination of the sample feature values of the form\n",
    "\n",
    "$$C_{i1} = w_{11}d_{i1} + \\dots + w_{p1}d_{ip}$$\n",
    "\n",
    "that has the largest sample variance subject to the constraint\n",
    "\n",
    "$$\\sum_{i=1}^m w_{i1}^2 = 1$$\n",
    "\n",
    "In other words, we are trying to solve the following optimization problem \n",
    "\n",
    "\n",
    "$$\\text{maximize}_{w_{11},\\dots, w_{m1}} \\frac{1}{n}\\sum_{i}^{n} \\left (\\sum_{j=1}^m w_{j1}d_{ij}\\right)^2$$\n",
    "\n",
    "subject to \n",
    "\n",
    "$$\\sum_{i=1}^m w_{i1}^2 = 1$$\n",
    "\n",
    "One way to solve the problem above, is to use eigen decomposition.\n",
    "\n",
    "----\n",
    "**Remark**\n",
    "\n",
    "We can interpret the first principal component defines a direction in the feature space along which the data\n",
    "vary the most. If we project the $n$ data points  onto this direction, the projected values are the princi-pal component \n",
    "scores $w_{i1}$.\n",
    "\n",
    "----\n",
    "\n",
    "After the first principal component $C_1$ of the features has been computed, we can look into the second principal component $C_2$. \n",
    "This again will be a linear combination of features that has maximal variance out of all linear combinations that are _uncorrelated_ with $C_1$.\n",
    "In order to find $C_2$ i.e. the loading vector coefficients, we solve a similar optimzation problem as we did above with the additional constraint \n",
    "that $C_2$ has to be uncorrelated with $C_1$. The latter constraint implies that we seek $\\mathbf{w}_2$ such that it is orthogonal to $\\mathbf{w}_1$.\n",
    " \n",
    "\n",
    "Now that we have a conceptual understanding about what PCA is, let's see an example. This is taken from [4]."
   ]
  },
  {
   "cell_type": "markdown",
   "metadata": {},
   "source": [
    "#### Example 1 {#sec-pca-example-1}"
   ]
  },
  {
   "cell_type": "code",
   "execution_count": 7,
   "metadata": {
    "tags": []
   },
   "outputs": [],
   "source": [
    "import numpy as np\n",
    "import matplotlib.pyplot as plt\n",
    "from sklearn.decomposition import PCA\n",
    "import seaborn as sns\n",
    "from mlutils.utils.plotutils.plot_pca_arrows import plot_pca_arrows\n",
    "sns.set()"
   ]
  },
  {
   "cell_type": "markdown",
   "metadata": {},
   "source": [
    "Let's generate some data and visualize it. There is clearly a linear relationship between the two variables."
   ]
  },
  {
   "cell_type": "code",
   "execution_count": 8,
   "metadata": {
    "tags": []
   },
   "outputs": [
    {
     "data": {
      "image/png": "[encoded data removed]",
      "text/plain": [
       "<Figure size 432x288 with 1 Axes>"
      ]
     },
     "metadata": {},
     "output_type": "display_data"
    }
   ],
   "source": [
    "rng = np.random.RandomState(1)\n",
    "X = np.dot(rng.rand(2, 2), rng.randn(2, 200)).T\n",
    "plt.scatter(X[:, 0], X[:, 1])\n",
    "plt.axis('equal');"
   ]
  },
  {
   "cell_type": "markdown",
   "metadata": {},
   "source": [
    "Let's use the <a href=\"#\">PCA</a>  class from scikit-learn package"
   ]
  },
  {
   "cell_type": "code",
   "execution_count": 9,
   "metadata": {
    "tags": []
   },
   "outputs": [
    {
     "data": {
      "text/html": [
       "<style>#sk-container-id-2 {color: black;background-color: white;}#sk-container-id-2 pre{padding: 0;}#sk-container-id-2 div.sk-toggleable {background-color: white;}#sk-container-id-2 label.sk-toggleable__label {cursor: pointer;display: block;width: 100%;margin-bottom: 0;padding: 0.3em;box-sizing: border-box;text-align: center;}#sk-container-id-2 label.sk-toggleable__label-arrow:before {content: \"▸\";float: left;margin-right: 0.25em;color: #696969;}#sk-container-id-2 label.sk-toggleable__label-arrow:hover:before {color: black;}#sk-container-id-2 div.sk-estimator:hover label.sk-toggleable__label-arrow:before {color: black;}#sk-container-id-2 div.sk-toggleable__content {max-height: 0;max-width: 0;overflow: hidden;text-align: left;background-color: #f0f8ff;}#sk-container-id-2 div.sk-toggleable__content pre {margin: 0.2em;color: black;border-radius: 0.25em;background-color: #f0f8ff;}#sk-container-id-2 input.sk-toggleable__control:checked~div.sk-toggleable__content {max-height: 200px;max-width: 100%;overflow: auto;}#sk-container-id-2 input.sk-toggleable__control:checked~label.sk-toggleable__label-arrow:before {content: \"▾\";}#sk-container-id-2 div.sk-estimator input.sk-toggleable__control:checked~label.sk-toggleable__label {background-color: #d4ebff;}#sk-container-id-2 div.sk-label input.sk-toggleable__control:checked~label.sk-toggleable__label {background-color: #d4ebff;}#sk-container-id-2 input.sk-hidden--visually {border: 0;clip: rect(1px 1px 1px 1px);clip: rect(1px, 1px, 1px, 1px);height: 1px;margin: -1px;overflow: hidden;padding: 0;position: absolute;width: 1px;}#sk-container-id-2 div.sk-estimator {font-family: monospace;background-color: #f0f8ff;border: 1px dotted black;border-radius: 0.25em;box-sizing: border-box;margin-bottom: 0.5em;}#sk-container-id-2 div.sk-estimator:hover {background-color: #d4ebff;}#sk-container-id-2 div.sk-parallel-item::after {content: \"\";width: 100%;border-bottom: 1px solid gray;flex-grow: 1;}#sk-container-id-2 div.sk-label:hover label.sk-toggleable__label {background-color: #d4ebff;}#sk-container-id-2 div.sk-serial::before {content: \"\";position: absolute;border-left: 1px solid gray;box-sizing: border-box;top: 0;bottom: 0;left: 50%;z-index: 0;}#sk-container-id-2 div.sk-serial {display: flex;flex-direction: column;align-items: center;background-color: white;padding-right: 0.2em;padding-left: 0.2em;position: relative;}#sk-container-id-2 div.sk-item {position: relative;z-index: 1;}#sk-container-id-2 div.sk-parallel {display: flex;align-items: stretch;justify-content: center;background-color: white;position: relative;}#sk-container-id-2 div.sk-item::before, #sk-container-id-2 div.sk-parallel-item::before {content: \"\";position: absolute;border-left: 1px solid gray;box-sizing: border-box;top: 0;bottom: 0;left: 50%;z-index: -1;}#sk-container-id-2 div.sk-parallel-item {display: flex;flex-direction: column;z-index: 1;position: relative;background-color: white;}#sk-container-id-2 div.sk-parallel-item:first-child::after {align-self: flex-end;width: 50%;}#sk-container-id-2 div.sk-parallel-item:last-child::after {align-self: flex-start;width: 50%;}#sk-container-id-2 div.sk-parallel-item:only-child::after {width: 0;}#sk-container-id-2 div.sk-dashed-wrapped {border: 1px dashed gray;margin: 0 0.4em 0.5em 0.4em;box-sizing: border-box;padding-bottom: 0.4em;background-color: white;}#sk-container-id-2 div.sk-label label {font-family: monospace;font-weight: bold;display: inline-block;line-height: 1.2em;}#sk-container-id-2 div.sk-label-container {text-align: center;}#sk-container-id-2 div.sk-container {/* jupyter's `normalize.less` sets `[hidden] { display: none; }` but bootstrap.min.css set `[hidden] { display: none !important; }` so we also need the `!important` here to be able to override the default hidden behavior on the sphinx rendered scikit-learn.org. See: https://github.com/scikit-learn/scikit-learn/issues/21755 */display: inline-block !important;position: relative;}#sk-container-id-2 div.sk-text-repr-fallback {display: none;}</style><div id=\"sk-container-id-2\" class=\"sk-top-container\"><div class=\"sk-text-repr-fallback\"><pre>PCA(n_components=2)</pre><b>In a Jupyter environment, please rerun this cell to show the HTML representation or trust the notebook. <br />On GitHub, the HTML representation is unable to render, please try loading this page with nbviewer.org.</b></div><div class=\"sk-container\" hidden><div class=\"sk-item\"><div class=\"sk-estimator sk-toggleable\"><input class=\"sk-toggleable__control sk-hidden--visually\" id=\"sk-estimator-id-2\" type=\"checkbox\" checked><label for=\"sk-estimator-id-2\" class=\"sk-toggleable__label sk-toggleable__label-arrow\">PCA</label><div class=\"sk-toggleable__content\"><pre>PCA(n_components=2)</pre></div></div></div></div></div>"
      ],
      "text/plain": [
       "PCA(n_components=2)"
      ]
     },
     "execution_count": 9,
     "metadata": {},
     "output_type": "execute_result"
    }
   ],
   "source": [
    "pca = PCA(n_components=2)\n",
    "pca.fit(X)"
   ]
  },
  {
   "cell_type": "markdown",
   "metadata": {},
   "source": [
    "Fitting the PCA instance, gives us access to the computed components and the explained variance."
   ]
  },
  {
   "cell_type": "code",
   "execution_count": 10,
   "metadata": {
    "tags": []
   },
   "outputs": [
    {
     "name": "stdout",
     "output_type": "stream",
     "text": [
      "PCA components: \n",
      "[[-0.94446029 -0.32862557]\n",
      " [-0.32862557  0.94446029]]\n",
      "PCA explained variance: \n",
      "[0.7625315 0.0184779]\n"
     ]
    }
   ],
   "source": [
    "print(\"PCA components: \")\n",
    "print(pca.components_)\n",
    "print(\"PCA explained variance: \")\n",
    "print(pca.explained_variance_)"
   ]
  },
  {
   "cell_type": "markdown",
   "metadata": {},
   "source": [
    "Let's try to plot the components predicted by PCA"
   ]
  },
  {
   "cell_type": "code",
   "execution_count": 14,
   "metadata": {
    "tags": []
   },
   "outputs": [
    {
     "data": {
      "image/png": "[encoded data removed]",
      "text/plain": [
       "<Figure size 432x288 with 1 Axes>"
      ]
     },
     "metadata": {},
     "output_type": "display_data"
    }
   ],
   "source": [
    "def draw_vector(v0, v1, ax=None):\n",
    "    ax = ax or plt.gca()\n",
    "    arrowprops=dict(arrowstyle='->',\n",
    "                    linewidth=2,\n",
    "                    shrinkA=0, shrinkB=0,\n",
    "                   color='black')\n",
    "    ax.annotate('', v1, v0, arrowprops=arrowprops)\n",
    "\n",
    "# plot data\n",
    "plt.scatter(X[:, 0], X[:, 1], alpha=0.2)\n",
    "for length, vector in zip(pca.explained_variance_, pca.components_):\n",
    "    v = vector * 3 * np.sqrt(length)\n",
    "    draw_vector(pca.mean_, pca.mean_ + v)\n",
    "plt.axis('equal');"
   ]
  },
  {
   "cell_type": "markdown",
   "metadata": {},
   "source": [
    "The plotted vectors represent the principal axes of the data. The length of the vector is an indication of the importance of that axis is in describing the distribution of the data. Specifically, it is a measure of the variance of the data when projected onto that axis [4]. \n",
    "\n",
    "\n",
    "----\n",
    "**Remark**\n",
    "\n",
    "The transformation from data axes to principal axes is an <a href=\"https://en.wikipedia.org/wiki/Affine_transformation\">affine transformation</a>.\n",
    "This means that the transformation is a composition of translation, rotation, and uniform scaling [4].\n",
    "\n",
    "----"
   ]
  },
  {
   "cell_type": "markdown",
   "metadata": {},
   "source": [
    "### Dimensionality reduction"
   ]
  },
  {
   "cell_type": "markdown",
   "metadata": {},
   "source": [
    "One of the applications of PCA is to reduce the dimensions of a given dataset. When using PCA for  this task, it involves zeroing out one or more of the smallest principal components, resulting in a lower-dimensional projection of the data that preserves the maximal data variance [4]. \n",
    "Qualitatively, PCA drops the features with low variance as it assumes this to be noise and accepts the high variance features which assumes to be informative. So how do we chose how many components to keep? A good choice is the intrinsic dimension of the data set assuming of course that we do know it. Alternatively, we can experiment according to the study in hand.\n",
    "\n",
    "----\n",
    "**Remark 1: Intrinsic Dimension**\n",
    "\n",
    "The intrinsic dimension of a dataset is the number of features needed to approximate it.\n",
    "We can detect it by visualizing the datase using a scatter plot. However, this will work if we have up to three features. \n",
    "PCA identifies the intrinsic dimension for any number of features. \n",
    "In the latter case, the intinsic dimension will be equal to the number of PCA features with significant variance. \n",
    "The intrinsic data set dimension is a useful idea to guide us. However, it can be ambiguous; there is not always one correct answer.\n",
    "\n",
    "----"
   ]
  },
  {
   "cell_type": "markdown",
   "metadata": {},
   "source": [
    "Let's repeat example [example @sec-pca-example-1] but this time we will get the number of components that PCA suggests.\n",
    "The ```PCA``` class in  ```sklearn```  does the decorrelation step when calling the ```fit()``` method. It applies the learnt transformation when calling ```transform()```."
   ]
  },
  {
   "cell_type": "markdown",
   "metadata": {},
   "source": [
    "#### Example 2 {#sec-pca-example-2}"
   ]
  },
  {
   "cell_type": "code",
   "execution_count": 16,
   "metadata": {
    "tags": []
   },
   "outputs": [],
   "source": [
    "import numpy as np\n",
    "import matplotlib.pyplot as plt\n",
    "from sklearn.decomposition import PCA"
   ]
  },
  {
   "cell_type": "code",
   "execution_count": 36,
   "metadata": {
    "tags": []
   },
   "outputs": [],
   "source": [
    "rng = np.random.RandomState(1)\n",
    "X = np.dot(rng.rand(2, 2), rng.randn(2, 200)).T\n",
    "pca = PCA(n_components=1)\n",
    "X_pca = pca.fit_transform(X)"
   ]
  },
  {
   "cell_type": "code",
   "execution_count": 37,
   "metadata": {
    "tags": []
   },
   "outputs": [
    {
     "name": "stdout",
     "output_type": "stream",
     "text": [
      "PCA components: \n",
      "[[-0.94446029 -0.32862557]]\n",
      "PCA explained variance: \n",
      "[0.7625315]\n"
     ]
    }
   ],
   "source": [
    "print(\"PCA components: \")\n",
    "print(pca.components_)\n",
    "print(\"PCA explained variance: \")\n",
    "print(pca.explained_variance_)"
   ]
  },
  {
   "cell_type": "code",
   "execution_count": 38,
   "metadata": {
    "tags": []
   },
   "outputs": [
    {
     "name": "stdout",
     "output_type": "stream",
     "text": [
      "original shape:    (200, 2)\n",
      "transformed shape: (200, 1)\n"
     ]
    }
   ],
   "source": [
    "print(\"original shape:   \", X.shape)\n",
    "print(\"transformed shape:\", X_pca.shape)"
   ]
  },
  {
   "cell_type": "code",
   "execution_count": 39,
   "metadata": {
    "tags": []
   },
   "outputs": [
    {
     "data": {
      "image/png": "[encoded data removed]",
      "text/plain": [
       "<Figure size 432x288 with 1 Axes>"
      ]
     },
     "metadata": {},
     "output_type": "display_data"
    }
   ],
   "source": [
    "X_new = pca.inverse_transform(X_pca)\n",
    "plt.scatter(X[:, 0], X[:, 1], alpha=0.2)\n",
    "plt.scatter(X_new[:, 0], X_new[:, 1], alpha=0.8)\n",
    "plt.axis('equal');"
   ]
  },
  {
   "cell_type": "markdown",
   "metadata": {},
   "source": [
    "### How to choose the number of components? {#sec-pca-choose-number-components}"
   ]
  },
  {
   "cell_type": "markdown",
   "metadata": {},
   "source": [
    "From what we have discussed above, one theme that arises is how can we choose the correct number of components as the\n",
    "input to the PCA algorithm. We have a similar problem when we were looking into [K-means @sec-k-means] for example.\n",
    "One way to do find the number of components is by looking at the cumulative explained variance ratio as a function of the number of components [4].\n",
    "Let's use another dataset that has more components in order to see this."
   ]
  },
  {
   "cell_type": "code",
   "execution_count": null,
   "metadata": {},
   "outputs": [],
   "source": []
  },
  {
   "cell_type": "code",
   "execution_count": null,
   "metadata": {},
   "outputs": [],
   "source": [
    "# Perform the necessary imports\n",
    "from sklearn.decomposition import PCA\n",
    "from sklearn.preprocessing import StandardScaler\n",
    "from sklearn.pipeline import make_pipeline\n",
    "import matplotlib.pyplot as plt\n",
    "\n",
    "# Create scaler: scaler\n",
    "scaler = StandardScaler()\n",
    "\n",
    "# Create a PCA instance: pca\n",
    "pca = PCA()\n",
    "\n",
    "# Create pipeline: pipeline\n",
    "pipeline = make_pipeline(scaler, pca)\n",
    "\n",
    "# Fit the pipeline to 'samples'\n",
    "pipeline.fit(samples)\n",
    "\n",
    "# Plot the explained variances\n",
    "features = range(pca.n_components_)\n",
    "plt.bar(features, pca.explained_variance_)\n",
    "plt.xlabel('PCA feature')\n",
    "plt.ylabel('variance')\n",
    "plt.xticks(features)\n",
    "plt.show()"
   ]
  },
  {
   "cell_type": "markdown",
   "metadata": {},
   "source": [
    "Let's consider the following $\\boldsymbol{\\Psi}$ matrix"
   ]
  },
  {
   "cell_type": "markdown",
   "metadata": {},
   "source": [
    "$$\\boldsymbol{\\Psi} = \\sigma^2 \\boldsymbol{I}$$ "
   ]
  },
  {
   "cell_type": "markdown",
   "metadata": {},
   "source": [
    "and also assume that $\\mathbf{W}$ to be orthonormal. As $\\sigma^2\\rightarrow 0$ this model reduces to classical PCA, see [2] and references therein. For $\\sigma^2 > 0$ is known as probabilistic PCA [2]."
   ]
  },
  {
   "cell_type": "markdown",
   "metadata": {},
   "source": [
    "According to [2] the synthesis view of classical PCA is summarized in the following theorem"
   ]
  },
  {
   "cell_type": "markdown",
   "metadata": {},
   "source": [
    "----\n",
    "**Theorem**"
   ]
  },
  {
   "cell_type": "markdown",
   "metadata": {},
   "source": [
    "_Suppose we want to find an orthogonal set of $L$ linear basis vectors $\\mathbf{w}_j \\in \\mathbb{R}^D$ and the corresponding scores $\\mathbf{z}_i \\in \\mathbb{R}^L$ such that we minimize the average reconstruction error_"
   ]
  },
  {
   "cell_type": "markdown",
   "metadata": {},
   "source": [
    "$$J(\\mathbf{W}, \\mathbf{Z}) = \\frac{1}{N}\\sum_{i=1}^{N}||\\mathbf{x}_i - \\hat{\\mathbf{x}}_i||^2$$"
   ]
  },
  {
   "cell_type": "markdown",
   "metadata": {},
   "source": [
    "_where $\\hat{\\mathbf{x}}_i=\\mathbf{W}\\mathbf{z}_i$ subject to the constraint that $\\mathbf{w}$ is orthonormal. Equivalently, we can write the objective above as_"
   ]
  },
  {
   "cell_type": "markdown",
   "metadata": {},
   "source": [
    "$$J(\\mathbf{W}, \\mathbf{Z}) = ||\\mathbf{X} - \\mathbf{W}\\mathbf{z}||^{2}_{F}$$"
   ]
  },
  {
   "cell_type": "markdown",
   "metadata": {},
   "source": [
    "_where $\\mathbf{Z}$ is an $N\\times L$ matrix with the $\\mathbf{z}_i$ in its rows and $||\\mathbf{A}||_F$ is the Frobenius norm of the matrix $\\mathbf{A}$._"
   ]
  },
  {
   "cell_type": "markdown",
   "metadata": {},
   "source": [
    "_The optimal solution is obtained by setting $\\hat{\\mathbf{W}}=\\mathbf{V}_L$ where $\\mathbf{V}_L$ contains the $L$ eigenvectors with largests eigenvalues of the empirical covariance matrix_ "
   ]
  },
  {
   "cell_type": "markdown",
   "metadata": {},
   "source": [
    "$$\\hat{\\boldsymbol{\\Sigma}} = \\frac{1}{N}\\sum_{i=1}^{N}\\mathbf{x}_i\\mathbf{x}_{i}^T$$"
   ]
  },
  {
   "cell_type": "markdown",
   "metadata": {},
   "source": [
    "_The optimal low-dimensional encoding of the data is given by $\\hat{\\mathbf{z}}_i = \\mathbf{W}^T\\mathbf{x}_i$ which is an orthogonal projection of the data onto the column spanned by the eigenvectors._"
   ]
  },
  {
   "cell_type": "markdown",
   "metadata": {},
   "source": [
    "----"
   ]
  },
  {
   "cell_type": "markdown",
   "metadata": {},
   "source": [
    "The principal directions are the ones along which the data shows maximal variance. This means the PCA can be misled by directions in which the variance is high because of the measurement scale. Therefore, in practice  we will standardize the data first or equivalently work with <a href=\"https://en.wikipedia.org/wiki/Correlation_and_dependence\">correlation matrices</a> rather than <a href=\"https://en.wikipedia.org/wiki/Covariance_matrix\">covariance matrices</a>."
   ]
  },
  {
   "cell_type": "markdown",
   "metadata": {},
   "source": [
    "### <a name=\"sub_sect_1\"></a> Singular value decomposition"
   ]
  },
  {
   "cell_type": "markdown",
   "metadata": {},
   "source": [
    "<a href=\"https://en.wikipedia.org/wiki/Singular_value_decomposition\">Singular value decomposition or SVD</a> is a factorization of a real or complex matrix that generalizes the eigendecomposition of a square normal matrix to any $m \\times n$ matrix via an extension of the polar decomposition. Concretely any $m \\times n$ can be decomposed as [2]"
   ]
  },
  {
   "cell_type": "markdown",
   "metadata": {},
   "source": [
    "$$\\mathbf{X}_{m\\times n} = \\mathbf{U}_{m\\times m}\\mathbf{S}_{m\\times n}\\mathbf{V}_{n\\times n}^T$$"
   ]
  },
  {
   "cell_type": "markdown",
   "metadata": {},
   "source": [
    "where"
   ]
  },
  {
   "cell_type": "markdown",
   "metadata": {},
   "source": [
    "- $\\mathbf{U}_{m\\times m}$ is an orthonormal matrix i.e. $\\mathbf{U}^T\\mathbf{U}=\\mathbf{I}$\n",
    "- $\\mathbf{V}_{n\\times n}$ is a matrix whose columns and rows are orthonormal i.e. $\\mathbf{V}^T\\mathbf{V}=\\mathbf{V}\\mathbf{V}^T=\\mathbf{I}$\n",
    "- $\\mathbf{S}_{m\\times n}$ is a matrix containing the $r=min(m,n)$ singular values $\\sigma_i \\geq 0$ on the main diagonal "
   ]
  },
  {
   "cell_type": "markdown",
   "metadata": {},
   "source": [
    "The columns of $\\mathbf{U}_{m\\times m}$ are the left singular vectors and the columns of $\\mathbf{V}_{n\\times n}$ are the right singular vectors [2]."
   ]
  },
  {
   "cell_type": "markdown",
   "metadata": {},
   "source": [
    "PCA is the best low rank approximation to the data [2]. Concrtely, "
   ]
  },
  {
   "cell_type": "markdown",
   "metadata": {},
   "source": [
    "$$\\hat{\\mathbf{X}} = \\mathbf{U}\\mathbf{S}\\mathbf{V}^T$$"
   ]
  },
  {
   "cell_type": "code",
   "execution_count": 1,
   "metadata": {},
   "outputs": [],
   "source": [
    "import numpy as np\n",
    "from sklearn.decomposition import PCA"
   ]
  },
  {
   "cell_type": "code",
   "execution_count": 2,
   "metadata": {},
   "outputs": [],
   "source": [
    "X = np.array([[-1, -1], [-2, -1], [-3, -2], [1, 1], [2, 1], [3, 2]])"
   ]
  },
  {
   "cell_type": "code",
   "execution_count": 3,
   "metadata": {},
   "outputs": [
    {
     "name": "stdout",
     "output_type": "stream",
     "text": [
      "[0.99244289 0.00755711]\n"
     ]
    }
   ],
   "source": [
    "pca = PCA(n_components=2, svd_solver='full')\n",
    "pca.fit(X)\n",
    "print(pca.explained_variance_ratio_)"
   ]
  },
  {
   "cell_type": "markdown",
   "metadata": {},
   "source": [
    "Unlike NMF, PCA doesn't learn the parts of things. Its components do not correspond to topics (in the case of documents) or to parts of images, when trained on images. Verify this for yourself by inspecting the components of a PCA model fit to the dataset of LED digit images from the previous exercise. The images are available as a 2D array samples. Also available is a modified version of the show_as_image() function which colors a pixel red if the value is negative."
   ]
  },
  {
   "cell_type": "markdown",
   "metadata": {},
   "source": [
    "## Summary"
   ]
  },
  {
   "cell_type": "markdown",
   "metadata": {},
   "source": [
    "## <a name=\"refs\"></a> References"
   ]
  },
  {
   "cell_type": "markdown",
   "metadata": {},
   "source": [
    "1. <a href=\"https://en.wikipedia.org/wiki/Principal_component_analysis\">Principal component analysis</a>.\n",
    "2. Kevin P. Murphy, ```Machine Learning A Probabilistic Perspective```, The MIT Press.\n",
    "3. <a href=\"https://en.wikipedia.org/wiki/Singular_value_decomposition\">Singular value decomposition</a>\n",
    "4. <a href=\"https://jakevdp.github.io/PythonDataScienceHandbook/05.09-principal-component-analysis.html\">In Depth: Principal Component Analysis</a>\n",
    "5. Gareth James, Daniela Witten, Trevor Hastie, Robert Tibshirani, Jonathan Taylor, _An Introduction to Statistical Learning_, 2nd Edition, Springer, 2021."
   ]
  }
 ],
 "metadata": {
  "kernelspec": {
   "display_name": "Python 3 (ipykernel)",
   "language": "python",
   "name": "python3"
  },
  "language_info": {
   "codemirror_mode": {
    "name": "ipython",
    "version": 3
   },
   "file_extension": ".py",
   "mimetype": "text/x-python",
   "name": "python",
   "nbconvert_exporter": "python",
   "pygments_lexer": "ipython3",
   "version": "3.10.12"
  }
 },
 "nbformat": 4,
 "nbformat_minor": 4
}
