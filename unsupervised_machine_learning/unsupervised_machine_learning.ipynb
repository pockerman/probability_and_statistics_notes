{
 "cells": [
  {
   "cell_type": "markdown",
   "id": "687c9cdb-6711-4946-a0fd-229e5698314e",
   "metadata": {},
   "source": [
    "# Unsupervised Machine Learning"
   ]
  },
  {
   "cell_type": "markdown",
   "id": "5c1e7546-bf47-4aa7-a378-0e5e57a3a81f",
   "metadata": {},
   "source": [
    "In this part of the notes we will be looking into unsupervised learning. This is another form of learning that differentiates\n",
    "itself from supervised learning since in this scenario there are no labels associated with the data points. In unsupervised learning, we\n",
    "try to dsicover structure in the data without wanting to predict anything e.g. when we want to do customer segmentation. "
   ]
  }
 ],
 "metadata": {
  "kernelspec": {
   "display_name": "Python 3 (ipykernel)",
   "language": "python",
   "name": "python3"
  },
  "language_info": {
   "codemirror_mode": {
    "name": "ipython",
    "version": 3
   },
   "file_extension": ".py",
   "mimetype": "text/x-python",
   "name": "python",
   "nbconvert_exporter": "python",
   "pygments_lexer": "ipython3",
   "version": "3.10.12"
  }
 },
 "nbformat": 4,
 "nbformat_minor": 5
}
