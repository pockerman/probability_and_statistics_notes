{
 "cells": [
  {
   "cell_type": "markdown",
   "id": "687c9cdb-6711-4946-a0fd-229e5698314e",
   "metadata": {},
   "source": [
    "# Unsupervised Machine Learning"
   ]
  },
  {
   "cell_type": "markdown",
   "id": "5c1e7546-bf47-4aa7-a378-0e5e57a3a81f",
   "metadata": {},
   "source": [
    "In this part of the notes we will be looking into unsupervised learning. This is another form of learning that differentiates\n",
    "itself from supervised learning since in this scenario there are no labels associated with the data points. In unsupervised learning, we\n",
    "try to dsicover structure in the data without wanting to predict anything e.g. when we want to do customer segmentation.\n",
    "\n",
    "Unsupervised learning algorithms can be categorized into: \n",
    "\n",
    "- Clustering analysis algorithms\n",
    "- Dimensionality reduction techniques like principal component analysis\n",
    "\n",
    "\n",
    "At a high level we can identify two broad clustering methods: hard clustering and soft clustering. When the decision is clear as to which cluster data pointt belongs to,  this is referred as aard clustering. In hard clustering an algorithm is quite sure of an object’s class. On the other hand, soft clustering assigns a likelihood score for an object\n",
    "to belong to a particular cluster. So a soft clustering method will not put an object into a\n",
    "cluster, rather an object can belong to multiple clusters. Soft clustering sometimes is also\n",
    "called fuzzy clustering.\n",
    "\n",
    "The following table shows a classification of clustering methodologies\n",
    "\n"
   ]
  },
  {
   "cell_type": "code",
   "execution_count": null,
   "id": "681ec54d-1e0d-41c3-96a3-2667b520398f",
   "metadata": {},
   "outputs": [],
   "source": []
  }
 ],
 "metadata": {
  "kernelspec": {
   "display_name": "Python 3 (ipykernel)",
   "language": "python",
   "name": "python3"
  },
  "language_info": {
   "codemirror_mode": {
    "name": "ipython",
    "version": 3
   },
   "file_extension": ".py",
   "mimetype": "text/x-python",
   "name": "python",
   "nbconvert_exporter": "python",
   "pygments_lexer": "ipython3",
   "version": "3.10.12"
  }
 },
 "nbformat": 4,
 "nbformat_minor": 5
}
