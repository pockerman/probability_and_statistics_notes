{
 "cells": [
  {
   "cell_type": "markdown",
   "id": "687c9cdb-6711-4946-a0fd-229e5698314e",
   "metadata": {},
   "source": [
    "# Unsupervised Machine Learning"
   ]
  },
  {
   "cell_type": "markdown",
   "id": "5c1e7546-bf47-4aa7-a378-0e5e57a3a81f",
   "metadata": {},
   "source": [
    "In this part of the notes we will be looking into unsupervised learning. This is another form of learning that differentiates\n",
    "itself from supervised learning since in this scenario there are no labels associated with the data points. In unsupervised learning, we\n",
    "try to dsicover structure in the data without wanting to predict anything e.g. when we want to do customer segmentation.\n",
    "\n",
    "Unsupervised learning algorithms can be categorized into: \n",
    "\n",
    "- Clustering analysis algorithms\n",
    "- Dimensionality reduction techniques like principal component analysis\n",
    "\n",
    "\n",
    "\n",
    "## Cluster analysis\n",
    "\n",
    "Perhaps the most well known unspervised learning paradigm is <a href=\"https://en.wikipedia.org/wiki/Cluster_analysis\">cluster analysis</a>.  Clustering is the process of grouping similar objects together [1]. We have two types of clustering: \n",
    "\n",
    "- flat or partitional clustering where we partition the items into disjoint sets\n",
    "- hierarchical clustering in which a nested tree of partitions is created\n",
    "\n",
    "In addition, we can identify two broad clustering approaches:\n",
    "\n",
    "- hard clustering and\n",
    "- soft clustering. \n",
    "\n",
    "When the decision is clear as to which cluster data pointt belongs to,  this is referred as aard clustering. In hard clustering an algorithm is quite sure of an object’s class. On the other hand, soft clustering assigns a likelihood score for an object\n",
    "to belong to a particular cluster. So a soft clustering method will not put an object into a\n",
    "cluster, rather an object can belong to multiple clusters. Soft clustering sometimes is also\n",
    "called fuzzy clustering. Clustering algorihms typically require that we specify a way to measure the similarity between two items. \n",
    "\n",
    "\n",
    "Clustering is often used to:\n",
    "\n",
    "- find hidden groupings in data (e.g. customer segmentation)\n",
    "- Data visualization\n",
    "- Outlier identification\n",
    "\n",
    "\n",
    "## Dimensionality reduction\n",
    "\n",
    "The other facet of unsupervised learning is <a href=\"https://en.wikipedia.org/wiki/Dimensionality_reduction\">dimensionality reduction</a>. Dimensionality reduction, or dimension reduction, is the transformation of data from a high-dimensional space into a low-dimensional space so that the low-dimensional representation retains some meaningful properties of the original data, ideally close to its intrinsic dimension. Working in high-dimensional spaces can be undesirable for many reasons; \n",
    "\n",
    "- Raw data is often sparse as a consequence of the curse of dimensionality, and analyzing the data is usually computationally intractable\n",
    "- Visualization\n",
    "\n",
    "Dimensionality reduction is common in fields that deal with large numbers of observations and/or large numbers of variables, such as signal processing, speech recognition, neuroinformatics, and bioinformatics. Methods are commonly divided into linear and non-linear approaches. Approaches can also be divided into <a href=\"https://en.wikipedia.org/wiki/Feature_selection\">feature selection</a> and <a href=\"https://en.wikipedia.org/wiki/Feature_extraction\">feature extraction</a>. Dimensionality reduction can be used for noise reduction, data visualization, cluster analysis, or as an intermediate step to facilitate other analyses\n"
   ]
  }
 ],
 "metadata": {
  "kernelspec": {
   "display_name": "Python 3 (ipykernel)",
   "language": "python",
   "name": "python3"
  },
  "language_info": {
   "codemirror_mode": {
    "name": "ipython",
    "version": 3
   },
   "file_extension": ".py",
   "mimetype": "text/x-python",
   "name": "python",
   "nbconvert_exporter": "python",
   "pygments_lexer": "ipython3",
   "version": "3.10.12"
  }
 },
 "nbformat": 4,
 "nbformat_minor": 5
}
