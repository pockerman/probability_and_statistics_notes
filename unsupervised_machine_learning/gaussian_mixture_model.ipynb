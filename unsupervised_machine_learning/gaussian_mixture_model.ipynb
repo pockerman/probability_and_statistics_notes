{
 "cells": [
  {
   "cell_type": "markdown",
   "id": "071c5f1b-a2eb-45a2-8660-4c16f9c7b4bd",
   "metadata": {},
   "source": [
    "# Gaussian Mixture Model"
   ]
  },
  {
   "cell_type": "markdown",
   "id": "d4ab8039-83a1-4d70-a0ce-ae410b09d0e1",
   "metadata": {},
   "source": [
    "## Overview"
   ]
  },
  {
   "cell_type": "markdown",
   "id": "076bbe47-1f6a-4a60-8b95-05d3e522d0ab",
   "metadata": {},
   "source": [
    "With <a href=\"https://scikit-learn.org/stable/modules/mixture.html\">Gaussian mixture models</a>, a cluster is represented by using three elements; mean, variance and a weight. In this method each sample belongs to all clusters with a given probability. In many situations, however, we would like to have a single cluster per sample. One way to do so, is to use hard-clustering techniques."
   ]
  },
  {
   "cell_type": "code",
   "execution_count": null,
   "id": "f30896a1-ff64-4240-9aff-a1af63ad7747",
   "metadata": {},
   "outputs": [],
   "source": []
  }
 ],
 "metadata": {
  "kernelspec": {
   "display_name": "Python 3 (ipykernel)",
   "language": "python",
   "name": "python3"
  },
  "language_info": {
   "codemirror_mode": {
    "name": "ipython",
    "version": 3
   },
   "file_extension": ".py",
   "mimetype": "text/x-python",
   "name": "python",
   "nbconvert_exporter": "python",
   "pygments_lexer": "ipython3",
   "version": "3.10.12"
  }
 },
 "nbformat": 4,
 "nbformat_minor": 5
}
