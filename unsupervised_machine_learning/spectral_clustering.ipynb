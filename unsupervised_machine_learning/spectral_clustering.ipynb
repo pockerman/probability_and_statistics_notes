{
 "cells": [
  {
   "cell_type": "markdown",
   "id": "5807b740-6860-432f-a6d7-793837a3158c",
   "metadata": {},
   "source": [
    "# Spectral Clustering"
   ]
  },
  {
   "cell_type": "markdown",
   "id": "707ce208-3046-4784-9c33-573cdb64c8c6",
   "metadata": {},
   "source": [
    "## Overview"
   ]
  },
  {
   "cell_type": "markdown",
   "id": "c9741d7e-190e-483e-9919-2d8d1ebdd2b1",
   "metadata": {},
   "source": [
    "K-means assigns a cluster to a data point $p$ according to the closest deistance between $p$ and the centroids.\n",
    "Thus the resulting geometry is absed on hyperspheres where all points share condition to be closer to the same centroid.\n",
    "However, such an approach may be problematic when we deal with datasets that they are not separable using regular shapes.\n",
    "\n",
    "In this section, we will consider <a href=\"https://en.wikipedia.org/wiki/Spectral_clustering\">spectral clustering</a>.\n",
    "Spectral clustering attacks the problem of clustering points from a different perspective. The approach that we will discuss herein\n",
    "is similar to <a href=\"https://en.wikipedia.org/wiki/Label_propagation_algorithm\">label propagation</a>."
   ]
  },
  {
   "cell_type": "markdown",
   "id": "ada2df82-efbe-447c-9508-1cce8b862e54",
   "metadata": {},
   "source": [
    "## Spectral clustering"
   ]
  },
  {
   "cell_type": "markdown",
   "id": "eb0b20a1-1f23-465a-88cf-530625010047",
   "metadata": {},
   "source": [
    "Given a collection of data points, we can always construct a graph $G=\\{V,E\\}$ where the vertices of the graph are the data points.\n",
    "The question now is how do we construct the edges? The edges may be labelled accroding to how close a point $p$ may be to the\n",
    "rest of the points. Thus we can have an affinity matrix $W$. \n",
    "\n",
    "The matrix $W$ can be built using different approaches. Usually, these are\n",
    "\n",
    "- K-nearest neighbours\n",
    "- Radial basis functions"
   ]
  },
  {
   "cell_type": "markdown",
   "id": "ab47c0fe-3d99-4717-9086-86b85b0cecfe",
   "metadata": {},
   "source": [
    "## References"
   ]
  },
  {
   "cell_type": "markdown",
   "id": "12123175-d94b-48c7-8b4d-830b2463d45f",
   "metadata": {},
   "source": [
    "1. <a href=\"https://en.wikipedia.org/wiki/Spectral_clustering\">Spectral clustering</a>"
   ]
  }
 ],
 "metadata": {
  "kernelspec": {
   "display_name": "Python 3 (ipykernel)",
   "language": "python",
   "name": "python3"
  },
  "language_info": {
   "codemirror_mode": {
    "name": "ipython",
    "version": 3
   },
   "file_extension": ".py",
   "mimetype": "text/x-python",
   "name": "python",
   "nbconvert_exporter": "python",
   "pygments_lexer": "ipython3",
   "version": "3.10.12"
  }
 },
 "nbformat": 4,
 "nbformat_minor": 5
}
