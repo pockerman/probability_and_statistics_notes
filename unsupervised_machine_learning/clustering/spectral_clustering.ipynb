{
 "cells": [
  {
   "cell_type": "markdown",
   "id": "5807b740-6860-432f-a6d7-793837a3158c",
   "metadata": {},
   "source": [
    "# Spectral Clustering"
   ]
  },
  {
   "cell_type": "markdown",
   "id": "707ce208-3046-4784-9c33-573cdb64c8c6",
   "metadata": {},
   "source": [
    "## Overview"
   ]
  },
  {
   "cell_type": "markdown",
   "id": "c9741d7e-190e-483e-9919-2d8d1ebdd2b1",
   "metadata": {},
   "source": [
    "K-means assigns a cluster to a data point $p$ according to the closest deistance between $p$ and the centroids.\n",
    "Thus the resulting geometry is absed on hyperspheres where all points share condition to be closer to the same centroid.\n",
    "However, such an approach may be problematic when we deal with datasets that they are not separable using regular shapes.\n",
    "\n",
    "In this section, we will consider <a href=\"https://en.wikipedia.org/wiki/Spectral_clustering\">spectral clustering</a>.\n",
    "Spectral clustering attacks the problem of clustering points from a different perspective. The approach that we will discuss herein\n",
    "is similar to <a href=\"https://en.wikipedia.org/wiki/Label_propagation_algorithm\">label propagation</a>."
   ]
  },
  {
   "cell_type": "markdown",
   "id": "ada2df82-efbe-447c-9508-1cce8b862e54",
   "metadata": {},
   "source": [
    "## Spectral clustering"
   ]
  },
  {
   "cell_type": "markdown",
   "id": "eb0b20a1-1f23-465a-88cf-530625010047",
   "metadata": {},
   "source": [
    "Given a collection of data points, we can always construct a graph $G=\\{V,E\\}$ where the vertices of the graph are the data points.\n",
    "The question now is how do we construct the edges? The edges may be labelled accroding to how close a point $p$ may be to the\n",
    "rest of the points. Thus we can have an affinity matrix $W$. \n",
    "\n",
    "The matrix $W$ can be built using different approaches. Usually, these are\n",
    "\n",
    "- K-nearest neighbours\n",
    "- Radial basis functions or RBF\n",
    "\n",
    "When using a K-nearest neighbours approach to constuct $W$, then $w_{ij}$ can be given by either of the following options\n",
    "\n",
    "$$w_{ij} = \\begin{cases}1, ~~ \\text{if} ~~ x_j ~~ \\in ~~ Ball(x_i) \\\\ 0, ~~ \\text{otherwise} \\end{cases}$$\n",
    "\n",
    "$$w_{ij} = \\begin{cases}d(x_i, x_j), ~~ \\text{if} ~~ x_j ~~ \\in ~~ Ball(x_i) \\\\ 0, ~~ \\text{otherwise} \\end{cases}$$\n",
    "\n",
    "In the latter case $W$ will represent a distance matrix. With K-nearest neighbours we are segmenting the original dataset into smaller regions that have high level \n",
    "of cohesion. However, this approach may lead to a graph $G$ that is not fully connected as samples\n",
    "that have no neighbors may exist. Alternatively, we can use radial basis function. Then the elements in $W$ are given by\n",
    "\n",
    "$$w_{ij} = exp\\left(\\gamma ||x_i - x_j||^2 \\right)$$\n",
    "\n",
    "With RBF the graph $G$ will be fully connected. The paramter $\\gamma$ controls the amplitude of the Gaussian function and therefore it controls the number of points\n",
    "with a large weight. We will see RBF again when we discuss ensemble learning and the <a href=\"https://en.wikipedia.org/wiki/Self-organizing_map\">Kohonen map algorithm</a>.\n",
    "In either case, $W$ represents a measure of affinity between the data points, whilst no restrictions have been imposed on the global geometry.\n",
    "This is in contrast to what K-means does. "
   ]
  },
  {
   "cell_type": "markdown",
   "id": "83e2e750-1cdf-47ab-8349-22e83e5512b8",
   "metadata": {},
   "source": [
    "Assuming that we have $W$ at our disposal, the normalized <a href=\"https://en.wikipedia.org/wiki/Laplacian_matrix\">graph Laplacian</a> is defined as\n",
    "\n",
    "$$L = I - D^{-1}W$$\n",
    "\n",
    "where $D$ is defined as\n",
    "\n",
    "$$D=diag \\left( \\sum_j w_{ij} \\right)$$\n",
    "\n",
    "The matrix $L$ contains information about the number of connected components. Therefore, we can use it as a new basis where the cluseters can be separated using regular geometric shapes."
   ]
  },
  {
   "cell_type": "markdown",
   "id": "09254c9a-25b1-4b16-b6e5-8b0561fda049",
   "metadata": {},
   "source": [
    "## Example"
   ]
  },
  {
   "cell_type": "markdown",
   "id": "d263537a-4741-4103-a314-5922165f940e",
   "metadata": {},
   "source": [
    "This example uses  spectral clustering in order to cluster the anisotropic blob we have seen in the previous examples."
   ]
  },
  {
   "cell_type": "code",
   "execution_count": 1,
   "id": "6507f210-6bfb-4cd8-9deb-2de9f166288f",
   "metadata": {
    "tags": []
   },
   "outputs": [],
   "source": [
    "import numpy as np\n",
    "import matplotlib.pyplot as plt\n",
    "from sklearn.datasets import make_blobs\n",
    "from sklearn.cluster import SpectralClustering"
   ]
  },
  {
   "cell_type": "code",
   "execution_count": 2,
   "id": "c6cbf0d2-9342-4a3a-a38f-95a3f91d5e5d",
   "metadata": {
    "tags": []
   },
   "outputs": [],
   "source": [
    "n_samples = 1500\n",
    "random_state = 170\n",
    "transformation = [[0.60834549, -0.63667341], [-0.40887718, 0.85253229]]\n",
    "\n",
    "X, y = make_blobs(n_samples=n_samples, random_state=random_state)\n",
    "X_aniso = np.dot(X, transformation)"
   ]
  },
  {
   "cell_type": "code",
   "execution_count": 3,
   "id": "24af01fe-5f4b-4c96-820e-89d63a1195a5",
   "metadata": {
    "tags": []
   },
   "outputs": [
    {
     "data": {
      "image/png": "[encoded data removed]",
      "text/plain": [
       "<Figure size 432x288 with 1 Axes>"
      ]
     },
     "metadata": {
      "needs_background": "light"
     },
     "output_type": "display_data"
    }
   ],
   "source": [
    "common_params = {\n",
    "    \"n_init\": 4,\n",
    "    \"random_state\": random_state,\n",
    "    'affinity':'nearest_neighbors',\n",
    "    'n_neighbors': 20\n",
    "}\n",
    "y_pred = SpectralClustering(n_clusters=3, **common_params).fit_predict(X_aniso)\n",
    "plt.scatter(X_aniso[:, 0], X_aniso[:, 1], c=y_pred)\n",
    "plt.title(\"Spectral clustering Anisotropically Distributed Blobs\")\n",
    "plt.show()"
   ]
  },
  {
   "cell_type": "markdown",
   "id": "b61afd08-89ca-4dce-8f04-f1216420e67d",
   "metadata": {},
   "source": [
    "As can be seen, spectral clustering performs very good on the anisotropically distributed blob."
   ]
  },
  {
   "cell_type": "markdown",
   "id": "05364de2-19eb-4c11-9fab-04660d8a2b10",
   "metadata": {},
   "source": [
    "## Summary"
   ]
  },
  {
   "cell_type": "markdown",
   "id": "e2d00e82-5564-4cc5-b77a-cb7ff67cd4b5",
   "metadata": {},
   "source": [
    "In this section, we reviewed spectral clustering. In this approach, an affinity matrix is constructed for the points in the dataset.\n",
    "We saw two approaches to construct the affinity matrix; the K-nearest neighbors and RBF. This approach does not impose any geometrical constraints\n",
    "such these that K-means uses. The approach also requires the number of clusters as an input."
   ]
  },
  {
   "cell_type": "markdown",
   "id": "ab47c0fe-3d99-4717-9086-86b85b0cecfe",
   "metadata": {},
   "source": [
    "## References"
   ]
  },
  {
   "cell_type": "markdown",
   "id": "12123175-d94b-48c7-8b4d-830b2463d45f",
   "metadata": {},
   "source": [
    "1. <a href=\"https://en.wikipedia.org/wiki/Spectral_clustering\">Spectral clustering</a>"
   ]
  }
 ],
 "metadata": {
  "kernelspec": {
   "display_name": "Python 3 (ipykernel)",
   "language": "python",
   "name": "python3"
  },
  "language_info": {
   "codemirror_mode": {
    "name": "ipython",
    "version": 3
   },
   "file_extension": ".py",
   "mimetype": "text/x-python",
   "name": "python",
   "nbconvert_exporter": "python",
   "pygments_lexer": "ipython3",
   "version": "3.10.12"
  }
 },
 "nbformat": 4,
 "nbformat_minor": 5
}
