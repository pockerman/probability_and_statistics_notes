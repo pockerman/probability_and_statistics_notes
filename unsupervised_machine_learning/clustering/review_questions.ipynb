{
 "cells": [
  {
   "cell_type": "markdown",
   "id": "e021103e-7c32-496f-ab31-4ef029c8f35c",
   "metadata": {},
   "source": [
    "# Review Questions"
   ]
  },
  {
   "cell_type": "markdown",
   "id": "a874be99-80f7-4fd1-afbc-eb00d7ee5516",
   "metadata": {},
   "source": [
    "1. Describe the K-means algorithm in simple terms\n",
    "2. What are the limitations of the K-means algorithm\n",
    "3. Describe the Gaussian mixture model\n",
    "4. Discuss the differences between K-means and DBSCAN\n",
    "5. Discuss the differences between K-means and spectral clustering"
   ]
  }
 ],
 "metadata": {
  "kernelspec": {
   "display_name": "Python 3 (ipykernel)",
   "language": "python",
   "name": "python3"
  },
  "language_info": {
   "codemirror_mode": {
    "name": "ipython",
    "version": 3
   },
   "file_extension": ".py",
   "mimetype": "text/x-python",
   "name": "python",
   "nbconvert_exporter": "python",
   "pygments_lexer": "ipython3",
   "version": "3.10.12"
  }
 },
 "nbformat": 4,
 "nbformat_minor": 5
}
