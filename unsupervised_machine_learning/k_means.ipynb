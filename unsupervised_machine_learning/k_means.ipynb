{
 "cells": [
  {
   "cell_type": "markdown",
   "id": "7b6c10a4-2bdf-41e8-a6e3-f3fd2ee5eb6f",
   "metadata": {},
   "source": [
    "# The K-means Method"
   ]
  },
  {
   "cell_type": "markdown",
   "id": "29c03a15-70f3-44f1-afc4-a7f0e3fcd6c7",
   "metadata": {},
   "source": [
    "## Overview"
   ]
  },
  {
   "cell_type": "markdown",
   "id": "bc7df8d6-1f64-41be-9cc2-a1658fb43224",
   "metadata": {},
   "source": [
    "In this section, we will review one of the most used clustering methods i.e <a href=\"https://en.wikipedia.org/wiki/K-means_clustering\">k-means clustering</a>. This  is a clustering methodology originating from the field of signal processing.\n",
    "It aims to partition $N$ observations into $k$ clusters such that  each observation belongs to the cluster with the nearest mean serving as a prototype of the cluster [1]. The prototype of each cluster is also called the cluster centroid. This approach results in a partitioning of the data space into Voronoi cells [1]. The algorithm we will discuss, minimizes within-cluster variances (squared Euclidean distances), but not regular Euclidean distances, which would be the more difficult Weber problem: the mean optimizes squared errors, whereas only the geometric median minimizes Euclidean distances [1]. \n",
    "\n",
    "The algorithm determines a single cluster for each data point and tends to find clusters of comparable spatial extent.\n",
    "This is in contrast to the GMM that allows clusters to have different shapes. K-means can be considered the hard version of\n",
    "the Gaussian mixture model. In addition, the algorithm has different flavours such as k-medians and k-medoids.\n",
    "\n",
    "A nice tutorial illustrating the assumptions of the K-means algorithm can be found at <a href=\"https://scikit-learn.org/stable/auto_examples/cluster/plot_kmeans_assumptions.html#sphx-glr-auto-examples-cluster-plot-kmeans-assumptions-py\">Demonstration of k-means assumptions</a>. This example is meant to illustrate situations where k-means will produce unintuitive and possibly unexpected clusters. "
   ]
  },
  {
   "cell_type": "markdown",
   "id": "fb030afa-82a1-48c2-aa89-8591afb4d260",
   "metadata": {},
   "source": [
    "##  The K-means method"
   ]
  },
  {
   "cell_type": "markdown",
   "id": "a3292cbe-1113-42c6-a632-a4f96a721fa6",
   "metadata": {},
   "source": [
    "Let's consider a dataset $D$ we would like to group the data points into $k$ distinct groups. This is shown in\n",
    "the image below"
   ]
  },
  {
   "cell_type": "code",
   "execution_count": 2,
   "id": "2729c37c-d5e0-4ceb-8b55-2fa726f7228c",
   "metadata": {
    "tags": []
   },
   "outputs": [],
   "source": [
    "import numpy as np\n",
    "import matplotlib.pyplot as plt"
   ]
  },
  {
   "cell_type": "code",
   "execution_count": 4,
   "id": "dbe8688f-9ffc-4180-9a9d-52583cdcb240",
   "metadata": {
    "tags": []
   },
   "outputs": [
    {
     "data": {
      "image/png": "[encoded data removed]",
      "text/plain": [
       "<Figure size 432x288 with 1 Axes>"
      ]
     },
     "metadata": {
      "needs_background": "light"
     },
     "output_type": "display_data"
    }
   ],
   "source": [
    "np.random.seed(4)\n",
    "\n",
    "x1 = np.random.normal(1.0, 0.1, 50)\n",
    "y1 = np.random.normal(1.0, 0.1, 50)\n",
    "\n",
    "x2 = np.random.normal(3.0, 0.6, 50)\n",
    "y2 = np.random.normal(3.0, 0.6, 50)\n",
    "\n",
    "x3 = np.random.normal(5.0, 0.8, 50)\n",
    "y3 = np.random.normal(5.0, 0.8, 50)\n",
    "\n",
    "\n",
    "plt.scatter(x1, y1, color='r', label=\"group 1\")\n",
    "plt.scatter(x2, y2, color='b', label=\"group 2\")\n",
    "plt.scatter(x3, y3, color='g', label=\"group 3\")\n",
    "\n",
    "plt.title(\"Dataset to partition\")\n",
    "plt.legend(loc=\"upper left\")\n",
    "plt.show()"
   ]
  },
  {
   "cell_type": "markdown",
   "id": "4a42412f-0cc9-497e-a5c7-4628b7ed58a6",
   "metadata": {},
   "source": [
    "Let's denote the centroid of cluster $j$ as $\\mu_j$. The centroid is just the mean of all the points within the\n",
    "cluster $C_j$:\n",
    "\n",
    "\\begin{equation}\n",
    "\\mu_j = \\frac{1}{n_j}\\sum_{i\\in C_j}x_i\n",
    "\\end{equation}\n",
    "\n",
    "where $i \\in C_j$ denotes that the $i-th$ data point belonging in cluster $C_j$\n",
    "The intra-cluster average distance between samples and centroids is defined as\n",
    "\n",
    "\\begin{equation}\n",
    "S = \\sum_{j=1}^k \\sum_{i\\in C_j}||x_i - \\mu_j||^2\n",
    "\\end{equation}\n",
    "\n",
    "$S$ is also called the inertia. High levels of inertia imply low cohesion; too many points belong to clusters whose centroids are far away. Minimizing the expression above is <a href=\"https://en.wikipedia.org/wiki/NP-hardness\">NP-hard</a>. Thus the K-means algorithm employs an approach known as <a href=\"https://en.wikipedia.org/wiki/Lloyd's_algorithm\">Looyd's algorithm</a>.\n",
    "\n",
    "Lloyd's algorithm, also known as Voronoi iteration or relaxation, finds evenly spaced sets of points in subsets of Euclidean spaces and partitions of these subsets into well-shaped and uniformly sized convex cells. The algorithm repeatedly finds the centroid of each set in the partition and then re-partitions the input according to which of these centroids is closest. \n",
    "\n",
    "For a dataset $\\mathbf{D}$, we start the process by choosing the initial centroids. There are no specific restrictions\n",
    "on the initial values, however the choice can influence the convergence of the algorithm as well as the minimum that is found.\n",
    "The procedure llop over the dataset and computes the Euclidean distance between $x_i \\in \\mathbf{D}$ and $\\mu_j$ i.e. $d(x_i, \\mu_j)$. The algorithm assigns the point $x_i$ to the cluster with the smallest $d(x_i, \\mu_j)$. Once  all the points have been\n",
    "clustered, a new set of centroids is computed. This procedure is repeated either until a specified number of iterations is reached or if the new $S$ is smaller than a predefined threshold. This is summrised below\n",
    "\n",
    "----\n",
    "**Algorithm: K-means**\n",
    "\n",
    "1. Input:\n",
    "    - Set number of iterations $N$\n",
    "    - Set the number of clusters $k$\n",
    "    - Set the tolerance $T$ denoting the convergence\n",
    "2. Execute\n",
    "    - Initialize the centroids $\\mu_j$\n",
    "    - Compute the initial inertia $S_0$\n",
    "3. Iterate\n",
    "    - While $i<N$ or $||S_i-S_{i-1}||>T$ do\n",
    "        - For every point $x_j \\in \\mathbf{D}$ assign a cluster $C_k$ according to the shortest distance found\n",
    "        - Recompute the centroids accounting the new assignment of the points\n",
    "        - Recompute the inertia $S_{i}$\n",
    "\n",
    "\n",
    "\n",
    "\n",
    "---"
   ]
  },
  {
   "cell_type": "markdown",
   "id": "ab0b9a40-6202-4558-9ba4-3d0e5c774b7a",
   "metadata": {},
   "source": [
    "----\n",
    "**Remark: Cluster Initialization**\n",
    "\n",
    "There are several alternatives as to how to initialize the clusters. For example, we could usedrawing each coordinate from the domain’s boundaries randomly, or using actual points from the  dataset [2]. However, a solution that has several advantages is randomly perturbing $k$ points casually drawn from the\n",
    "dataset [2]. This has the following advantages [2]:\n",
    "\n",
    "- If each coordinate of a centroid was generated completely at random, we would have to first scan the dataset to find the acceptable range for each coordinate. We avoid this by randomly perturbing $k$ points drawn from the dataset\n",
    "- By uniformly drawing points from the dataset, the centroids will be close to points in the data and centroids will be drawn with higher probability in areas with higher density of points.\n",
    "- Randomly perturbing the points,  reduces the risk that all the generated points will be concentrated in the denser areas.\n",
    "\n",
    "----"
   ]
  },
  {
   "cell_type": "markdown",
   "id": "883d5e96-73d2-4e9b-9a4a-2f64fd473972",
   "metadata": {},
   "source": [
    "### Issues"
   ]
  },
  {
   "cell_type": "markdown",
   "id": "22c3ed15-e6eb-4b70-b8b3-b2eee5eefc12",
   "metadata": {},
   "source": [
    "The K-means algorithm is simple that is why it has gained popularity. In addition, when the clusters \n",
    "have approximately a spherical shape and are <a href=\"https://en.wikipedia.org/wiki/Linear_separability\">linearly separable</a> the algorithm does  a pretty good job, see Example 1 below. It should also be noted that the algorithm is able to correctly identify clusters with different density.\n",
    "\n",
    "However, the algorithm has several weaknesses which we discuss bellow. \n",
    "\n",
    "The first weakness of the algorithm is that it cannot detect outliers [2]. In fact, outlier points are added to the closest clusters. Recall that in general the mean is sensitive to outliers.  Since centroids are computed as the centers of the mass of the clusters, the centroids of the clusters will be pulled by outliers away from the best position they could hold. Therefore, we should remove outliers from the data set before performing k-means clustering.\n",
    "\n",
    "The second point to notice, is that the algorithm can only produce/distinguish spherical clusters [2]. However, in real data sets not all clusters are spherical.\n",
    "\n",
    "Furthermore, if the clusters in the data set are not linearly separable, then it is difficult to approximate them with spherical clusters. As a result  k-means cannot separate non-convex clusters e.g. clusters shaped as two concentric rings [2]. Thus, in these situations, the algorithm will have some hard time in order to find good solutions.\n",
    "\n",
    "The fourth point to remember is that the algorithm cannot automatically find the number of clusters present in the data set. Instead it expects this as an input. This\n",
    "means that unless we have some insight deriving from domain knowledge that indicates the number of clusters,\n",
    "we will need to run the algorithm multiple times, trying different values for the number of centroids, and comparing the results using some kind of metric.\n",
    "\n",
    "In fact, one way to determine the number of clusters using the so-called <a href=\"https://www.scikit-yb.org/en/latest/api/cluster/elbow.html\">elbow method</a>. In this method,  we select the optimal number of clusters by fitting the model with a range of values for $k$ . If the line chart resembles an arm, then the “elbow” (the point of inflection on the curve) is a good indication that the underlying model fits best at that point [4]. "
   ]
  },
  {
   "cell_type": "markdown",
   "id": "95e4fd5b-b634-4dbc-bfec-b81c44ce6946",
   "metadata": {},
   "source": [
    "## Example 1"
   ]
  },
  {
   "cell_type": "markdown",
   "id": "7c873582-54fd-458d-b84a-4aa5b32e3eb1",
   "metadata": {},
   "source": [
    "In this example we want to cluster points coming from three diifferent normal distributions."
   ]
  },
  {
   "cell_type": "code",
   "execution_count": 11,
   "id": "f80d2919-9b31-411f-abf4-5cbc8860edde",
   "metadata": {
    "tags": []
   },
   "outputs": [],
   "source": [
    "import numpy as np\n",
    "import matplotlib.pyplot as plt\n",
    "from sklearn.cluster import KMeans"
   ]
  },
  {
   "cell_type": "code",
   "execution_count": 19,
   "id": "b84bf2e4-d35e-428f-bbf3-3d4d8ea1d32b",
   "metadata": {
    "tags": []
   },
   "outputs": [],
   "source": [
    "np.random.seed(4)\n",
    "\n",
    "x1 = np.random.normal(1.0, 0.1, 50)\n",
    "y1 = np.random.normal(1.0, 0.1, 50)\n",
    "\n",
    "x2 = np.random.normal(3.0, 0.6, 50)\n",
    "y2 = np.random.normal(3.0, 0.6, 50)\n",
    "\n",
    "x3 = np.random.normal(5.0, 0.8, 50)\n",
    "y3 = np.random.normal(5.0, 0.8, 50)"
   ]
  },
  {
   "cell_type": "code",
   "execution_count": 20,
   "id": "686cbf8a-0e85-4604-9144-0611ed758b23",
   "metadata": {
    "tags": []
   },
   "outputs": [
    {
     "data": {
      "image/png": "[encoded data removed]",
      "text/plain": [
       "<Figure size 432x288 with 1 Axes>"
      ]
     },
     "metadata": {
      "needs_background": "light"
     },
     "output_type": "display_data"
    }
   ],
   "source": [
    "plt.scatter(x1, y1, color='r', label=\"group 1\")\n",
    "plt.scatter(x2, y2, color='b', label=\"group 2\")\n",
    "plt.scatter(x3, y3, color='g', label=\"group 3\")\n",
    "\n",
    "plt.title(\"Dataset to partition\")\n",
    "plt.legend(loc=\"upper left\")\n",
    "plt.show()"
   ]
  },
  {
   "cell_type": "code",
   "execution_count": 24,
   "id": "b01f4812-db3d-48a4-a793-eb9427be9139",
   "metadata": {
    "tags": []
   },
   "outputs": [],
   "source": [
    "# mix the data\n",
    "x = []\n",
    "y = []\n",
    "z = []\n",
    "\n",
    "for i in range(50):\n",
    "    x.append([x1[i], y1[i]])\n",
    "    y.append([x2[i], y2[i]])\n",
    "    z.append([x3[i], y3[i]])\n",
    "\n",
    "X = np.vstack([x, y,z])"
   ]
  },
  {
   "cell_type": "code",
   "execution_count": 25,
   "id": "5b39325c-3466-4d56-acca-27e1edb7e5f4",
   "metadata": {
    "tags": []
   },
   "outputs": [],
   "source": [
    "kmeans = KMeans(n_clusters=3, n_init=4, random_state=42)\n",
    "pred = kmeans.fit_predict(X)"
   ]
  },
  {
   "cell_type": "code",
   "execution_count": 27,
   "id": "b6fd121b-ed05-41c8-b8b0-10f5943b0dc0",
   "metadata": {
    "tags": []
   },
   "outputs": [
    {
     "data": {
      "image/png": "[encoded data removed]",
      "text/plain": [
       "<Figure size 432x288 with 1 Axes>"
      ]
     },
     "metadata": {
      "needs_background": "light"
     },
     "output_type": "display_data"
    }
   ],
   "source": [
    "centroids = kmeans.cluster_centers_\n",
    "plt.scatter(\n",
    "    centroids[:, 0],\n",
    "    centroids[:, 1],\n",
    "    marker=\"x\",\n",
    "    s=169,\n",
    "    linewidths=3,\n",
    "    color=\"red\",\n",
    "    zorder=10,\n",
    ")\n",
    "\n",
    "plt.scatter(X[:, 0], X[:, 1], c=pred)\n",
    "plt.show()"
   ]
  },
  {
   "cell_type": "markdown",
   "id": "e6363f49-30b8-45dc-a252-93999a5d8a47",
   "metadata": {},
   "source": [
    "## Example 2"
   ]
  },
  {
   "cell_type": "markdown",
   "id": "7adf58ef-0228-4f86-b811-782e0b2942ad",
   "metadata": {},
   "source": [
    "## Summary"
   ]
  },
  {
   "cell_type": "markdown",
   "id": "d4088d11-f5ce-4838-9435-938478c3d29b",
   "metadata": {},
   "source": [
    "In this section we reviewed the k-means algorithm. K-means is a centroid-based hard-clustering method. It is a good option only for low-to-medium-dimensional (with at most around 20 dimensions) datasets where we know that clusters can be accurately approximated with hyperspheres i.e. cluster shapes are spherical and the number of clusters can be estimated a priori [2]. It also works well even if the dataset does not have a homogeneous distribution. On the other hand, the algorithm works poorly on high-dimensional data, and when clusters cannot be approximated with hyperspheres [2]."
   ]
  },
  {
   "cell_type": "markdown",
   "id": "952768c5-55b8-4e79-9b42-2118771b9a8c",
   "metadata": {},
   "source": [
    "## References"
   ]
  },
  {
   "cell_type": "markdown",
   "id": "aad18de2-8ead-416e-8317-3ac9d59684ce",
   "metadata": {},
   "source": [
    "1. <a href=\"https://en.wikipedia.org/wiki/K-means_clustering\">k-means clustering</a>\n",
    "2. 1. Marcello La Rocca, _Advanced algorithms and data structures_, Manning Publications."
   ]
  }
 ],
 "metadata": {
  "kernelspec": {
   "display_name": "Python 3 (ipykernel)",
   "language": "python",
   "name": "python3"
  },
  "language_info": {
   "codemirror_mode": {
    "name": "ipython",
    "version": 3
   },
   "file_extension": ".py",
   "mimetype": "text/x-python",
   "name": "python",
   "nbconvert_exporter": "python",
   "pygments_lexer": "ipython3",
   "version": "3.10.12"
  }
 },
 "nbformat": 4,
 "nbformat_minor": 5
}
