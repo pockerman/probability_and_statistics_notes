{
 "cells": [
  {
   "cell_type": "markdown",
   "id": "7b6c10a4-2bdf-41e8-a6e3-f3fd2ee5eb6f",
   "metadata": {},
   "source": [
    "# The K-means Method"
   ]
  },
  {
   "cell_type": "markdown",
   "id": "29c03a15-70f3-44f1-afc4-a7f0e3fcd6c7",
   "metadata": {},
   "source": [
    "## Overview"
   ]
  },
  {
   "cell_type": "markdown",
   "id": "bc7df8d6-1f64-41be-9cc2-a1658fb43224",
   "metadata": {},
   "source": [
    "In this section, we will review one of the most used clustering methods i.e <a href=\"https://en.wikipedia.org/wiki/K-means_clustering\">k-means clustering</a>. This  clustering methodology originating from the field of signal processing.\n",
    "It aims to partition $N$ observations into $k$ clusters such that  each observation belongs to the cluster with the nearest mean serving as a prototype of the cluster [1]. The prototype of each cluster is also called the cluster centroid. This approach results in a partitioning of the data space into Voronoi cells [1]. The algorithm we will discuss, minimizes within-cluster variances (squared Euclidean distances), but not regular Euclidean distances, which would be the more difficult Weber problem: the mean optimizes squared errors, whereas only the geometric median minimizes Euclidean distances [1]. \n",
    "\n",
    "The algorithm determines a single cluster for each data point and tends to find tends clusters of comparable spatial extent.\n",
    "This is in contrast to the GMM that allows clusters to have different shapes. K-means can be considered the hard version of\n",
    "the Gaussina mixture model.\n",
    "\n",
    "In addition, the algorithm has differebt flavours such as k-medians and k-medoids."
   ]
  },
  {
   "cell_type": "markdown",
   "id": "fb030afa-82a1-48c2-aa89-8591afb4d260",
   "metadata": {},
   "source": [
    "##  The K-means method"
   ]
  },
  {
   "cell_type": "markdown",
   "id": "4a42412f-0cc9-497e-a5c7-4628b7ed58a6",
   "metadata": {},
   "source": [
    "Let's denote the centroid of cluster $j$ as $\\mu_j$. The centroid is just the mean of all the points within the\n",
    "cluster $C_j$:\n",
    "\n",
    "\\begin{equation}\n",
    "\\mu_j = \\frac{1}{n_j}\\sum_{i\\in C_j}x_i\n",
    "\\end{equation}\n",
    "\n",
    "where $i \\in C_j$ denotes that the $i-th$ data point belongs in cluster $C_j$\n",
    "The intra-cluster average distance between samples and centroids is defined as\n",
    "\n",
    "\\begin{equation}\n",
    "S = \\sum_{j=1}^k \\sum_{i\\in C_j}||x_i - \\mu_j||^2\n",
    "\\end{equation}\n",
    "\n",
    "$S$ is also called the inertia.High levels of inertia imply low cohesion; too many points belong to clusters whose centroids are far away. "
   ]
  },
  {
   "cell_type": "markdown",
   "id": "95e4fd5b-b634-4dbc-bfec-b81c44ce6946",
   "metadata": {},
   "source": [
    "## Example 1"
   ]
  },
  {
   "cell_type": "markdown",
   "id": "7c873582-54fd-458d-b84a-4aa5b32e3eb1",
   "metadata": {},
   "source": [
    "In this example we want to cluster points coming from four diifferent normal distributions."
   ]
  },
  {
   "cell_type": "code",
   "execution_count": 33,
   "id": "f80d2919-9b31-411f-abf4-5cbc8860edde",
   "metadata": {
    "tags": []
   },
   "outputs": [],
   "source": [
    "import numpy as np\n",
    "import matplotlib.pyplot as plt\n",
    "from sklearn.cluster import KMeans"
   ]
  },
  {
   "cell_type": "code",
   "execution_count": 34,
   "id": "b84bf2e4-d35e-428f-bbf3-3d4d8ea1d32b",
   "metadata": {
    "tags": []
   },
   "outputs": [],
   "source": [
    "np.random.seed(4)\n",
    "\n",
    "x1 = np.random.normal(1.0, 0.1, 50)\n",
    "y1 = np.random.normal(1.0, 0.1, 50)\n",
    "\n",
    "x2 = np.random.normal(3.0, 1.2, 50)\n",
    "y2 = np.random.normal(3.0, 1.2, 50)\n",
    "\n",
    "x3 = np.random.normal(2.5, 0.8, 50)\n",
    "y3 = np.random.normal(2.5, 0.8, 50)"
   ]
  },
  {
   "cell_type": "code",
   "execution_count": 37,
   "id": "686cbf8a-0e85-4604-9144-0611ed758b23",
   "metadata": {
    "tags": []
   },
   "outputs": [
    {
     "data": {
      "image/png": "[encoded data removed]",
      "text/plain": [
       "<Figure size 432x288 with 1 Axes>"
      ]
     },
     "metadata": {
      "needs_background": "light"
     },
     "output_type": "display_data"
    }
   ],
   "source": [
    "plt.scatter(x1, y1, color='r', label=\"sample 1\")\n",
    "plt.scatter(x2, y2, color='b', label=\"sample 2\")\n",
    "plt.scatter(x3, y3, color='g', label=\"sample 3\")\n",
    "\n",
    "plt.title(\"Normal distribution\")\n",
    "plt.legend(loc=\"upper left\")\n",
    "plt.show()"
   ]
  },
  {
   "cell_type": "code",
   "execution_count": 39,
   "id": "b01f4812-db3d-48a4-a793-eb9427be9139",
   "metadata": {
    "tags": []
   },
   "outputs": [],
   "source": [
    "# mix the data\n",
    "x = []\n",
    "y = []\n",
    "z = []\n",
    "\n",
    "for i in range(50):\n",
    "    x.append([x1[i], y1[i]])\n",
    "    y.append([x2[i], y2[i]])\n",
    "    z.append([x3[i], y3[i]])\n",
    "\n",
    "x = np.vstack([x, y,z])"
   ]
  },
  {
   "cell_type": "code",
   "execution_count": 42,
   "id": "5b39325c-3466-4d56-acca-27e1edb7e5f4",
   "metadata": {
    "tags": []
   },
   "outputs": [
    {
     "data": {
      "text/html": [
       "<style>#sk-container-id-3 {color: black;background-color: white;}#sk-container-id-3 pre{padding: 0;}#sk-container-id-3 div.sk-toggleable {background-color: white;}#sk-container-id-3 label.sk-toggleable__label {cursor: pointer;display: block;width: 100%;margin-bottom: 0;padding: 0.3em;box-sizing: border-box;text-align: center;}#sk-container-id-3 label.sk-toggleable__label-arrow:before {content: \"▸\";float: left;margin-right: 0.25em;color: #696969;}#sk-container-id-3 label.sk-toggleable__label-arrow:hover:before {color: black;}#sk-container-id-3 div.sk-estimator:hover label.sk-toggleable__label-arrow:before {color: black;}#sk-container-id-3 div.sk-toggleable__content {max-height: 0;max-width: 0;overflow: hidden;text-align: left;background-color: #f0f8ff;}#sk-container-id-3 div.sk-toggleable__content pre {margin: 0.2em;color: black;border-radius: 0.25em;background-color: #f0f8ff;}#sk-container-id-3 input.sk-toggleable__control:checked~div.sk-toggleable__content {max-height: 200px;max-width: 100%;overflow: auto;}#sk-container-id-3 input.sk-toggleable__control:checked~label.sk-toggleable__label-arrow:before {content: \"▾\";}#sk-container-id-3 div.sk-estimator input.sk-toggleable__control:checked~label.sk-toggleable__label {background-color: #d4ebff;}#sk-container-id-3 div.sk-label input.sk-toggleable__control:checked~label.sk-toggleable__label {background-color: #d4ebff;}#sk-container-id-3 input.sk-hidden--visually {border: 0;clip: rect(1px 1px 1px 1px);clip: rect(1px, 1px, 1px, 1px);height: 1px;margin: -1px;overflow: hidden;padding: 0;position: absolute;width: 1px;}#sk-container-id-3 div.sk-estimator {font-family: monospace;background-color: #f0f8ff;border: 1px dotted black;border-radius: 0.25em;box-sizing: border-box;margin-bottom: 0.5em;}#sk-container-id-3 div.sk-estimator:hover {background-color: #d4ebff;}#sk-container-id-3 div.sk-parallel-item::after {content: \"\";width: 100%;border-bottom: 1px solid gray;flex-grow: 1;}#sk-container-id-3 div.sk-label:hover label.sk-toggleable__label {background-color: #d4ebff;}#sk-container-id-3 div.sk-serial::before {content: \"\";position: absolute;border-left: 1px solid gray;box-sizing: border-box;top: 0;bottom: 0;left: 50%;z-index: 0;}#sk-container-id-3 div.sk-serial {display: flex;flex-direction: column;align-items: center;background-color: white;padding-right: 0.2em;padding-left: 0.2em;position: relative;}#sk-container-id-3 div.sk-item {position: relative;z-index: 1;}#sk-container-id-3 div.sk-parallel {display: flex;align-items: stretch;justify-content: center;background-color: white;position: relative;}#sk-container-id-3 div.sk-item::before, #sk-container-id-3 div.sk-parallel-item::before {content: \"\";position: absolute;border-left: 1px solid gray;box-sizing: border-box;top: 0;bottom: 0;left: 50%;z-index: -1;}#sk-container-id-3 div.sk-parallel-item {display: flex;flex-direction: column;z-index: 1;position: relative;background-color: white;}#sk-container-id-3 div.sk-parallel-item:first-child::after {align-self: flex-end;width: 50%;}#sk-container-id-3 div.sk-parallel-item:last-child::after {align-self: flex-start;width: 50%;}#sk-container-id-3 div.sk-parallel-item:only-child::after {width: 0;}#sk-container-id-3 div.sk-dashed-wrapped {border: 1px dashed gray;margin: 0 0.4em 0.5em 0.4em;box-sizing: border-box;padding-bottom: 0.4em;background-color: white;}#sk-container-id-3 div.sk-label label {font-family: monospace;font-weight: bold;display: inline-block;line-height: 1.2em;}#sk-container-id-3 div.sk-label-container {text-align: center;}#sk-container-id-3 div.sk-container {/* jupyter's `normalize.less` sets `[hidden] { display: none; }` but bootstrap.min.css set `[hidden] { display: none !important; }` so we also need the `!important` here to be able to override the default hidden behavior on the sphinx rendered scikit-learn.org. See: https://github.com/scikit-learn/scikit-learn/issues/21755 */display: inline-block !important;position: relative;}#sk-container-id-3 div.sk-text-repr-fallback {display: none;}</style><div id=\"sk-container-id-3\" class=\"sk-top-container\"><div class=\"sk-text-repr-fallback\"><pre>KMeans(n_clusters=3, n_init=4, random_state=42)</pre><b>In a Jupyter environment, please rerun this cell to show the HTML representation or trust the notebook. <br />On GitHub, the HTML representation is unable to render, please try loading this page with nbviewer.org.</b></div><div class=\"sk-container\" hidden><div class=\"sk-item\"><div class=\"sk-estimator sk-toggleable\"><input class=\"sk-toggleable__control sk-hidden--visually\" id=\"sk-estimator-id-3\" type=\"checkbox\" checked><label for=\"sk-estimator-id-3\" class=\"sk-toggleable__label sk-toggleable__label-arrow\">KMeans</label><div class=\"sk-toggleable__content\"><pre>KMeans(n_clusters=3, n_init=4, random_state=42)</pre></div></div></div></div></div>"
      ],
      "text/plain": [
       "KMeans(n_clusters=3, n_init=4, random_state=42)"
      ]
     },
     "execution_count": 42,
     "metadata": {},
     "output_type": "execute_result"
    }
   ],
   "source": [
    "kmeans = KMeans(n_clusters=3, n_init=4, random_state=42)\n",
    "kmeans.fit(x)"
   ]
  },
  {
   "cell_type": "code",
   "execution_count": 43,
   "id": "b6fd121b-ed05-41c8-b8b0-10f5943b0dc0",
   "metadata": {
    "tags": []
   },
   "outputs": [
    {
     "data": {
      "image/png": "[encoded data removed]",
      "text/plain": [
       "<Figure size 432x288 with 1 Axes>"
      ]
     },
     "metadata": {
      "needs_background": "light"
     },
     "output_type": "display_data"
    }
   ],
   "source": [
    "centroids = kmeans.cluster_centers_\n",
    "plt.scatter(\n",
    "    centroids[:, 0],\n",
    "    centroids[:, 1],\n",
    "    marker=\"x\",\n",
    "    s=169,\n",
    "    linewidths=3,\n",
    "    color=\"black\",\n",
    "    zorder=10,\n",
    ")\n",
    "\n",
    "plt.scatter(x1, y1, color='r', label=\"sample 1\")\n",
    "plt.scatter(x2, y2, color='b', label=\"sample 2\")\n",
    "plt.scatter(x3, y3, color='g', label=\"sample 3\")\n",
    "plt.title(\"Normal distribution\")\n",
    "plt.legend(loc=\"upper left\")\n",
    "plt.show()"
   ]
  },
  {
   "cell_type": "markdown",
   "id": "7adf58ef-0228-4f86-b811-782e0b2942ad",
   "metadata": {},
   "source": [
    "## Summary"
   ]
  },
  {
   "cell_type": "markdown",
   "id": "952768c5-55b8-4e79-9b42-2118771b9a8c",
   "metadata": {},
   "source": [
    "## References"
   ]
  },
  {
   "cell_type": "markdown",
   "id": "aad18de2-8ead-416e-8317-3ac9d59684ce",
   "metadata": {},
   "source": [
    "1. <a href=\"https://en.wikipedia.org/wiki/K-means_clustering\">k-means clustering</a>"
   ]
  }
 ],
 "metadata": {
  "kernelspec": {
   "display_name": "Python 3 (ipykernel)",
   "language": "python",
   "name": "python3"
  },
  "language_info": {
   "codemirror_mode": {
    "name": "ipython",
    "version": 3
   },
   "file_extension": ".py",
   "mimetype": "text/x-python",
   "name": "python",
   "nbconvert_exporter": "python",
   "pygments_lexer": "ipython3",
   "version": "3.10.12"
  }
 },
 "nbformat": 4,
 "nbformat_minor": 5
}
