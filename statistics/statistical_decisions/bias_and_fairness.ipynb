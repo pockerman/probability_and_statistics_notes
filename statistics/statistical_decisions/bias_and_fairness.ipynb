{
 "cells": [
  {
   "cell_type": "markdown",
   "id": "f7bcd57c-5a46-4ef3-80bf-04ac251f8623",
   "metadata": {},
   "source": [
    "# Bias and fairness"
   ]
  },
  {
   "cell_type": "markdown",
   "id": "a9848344-d992-490d-b745-f98864827dc2",
   "metadata": {},
   "source": [
    "## Overview"
   ]
  },
  {
   "cell_type": "markdown",
   "id": "db75ad05-0d9b-4e60-9583-883917fb524a",
   "metadata": {},
   "source": [
    "In this section, we look into the topic of bias and fairness of the decisions we make."
   ]
  },
  {
   "cell_type": "markdown",
   "id": "465d3c3d-7d57-4bb8-a9ff-38dff3ba158a",
   "metadata": {},
   "source": [
    "## Bias and fairness"
   ]
  },
  {
   "cell_type": "markdown",
   "id": "3b343ac4-bb32-4c8b-a573-4be339972bc8",
   "metadata": {},
   "source": [
    "In general, a model—or really, any predictive or decision-making process—can suffer from two forms of bias: disparate treatment and disparate impact. A model is considered to suffer from disparate treatment if predictions are in some way based on a sensitive attribute (e.g., sex or race). A model could also have a disparate impact if the predictions or downstream outcomes of the predictions disproportionately hurt or benefit people with specific sensitive features, which can look like predicting higher rates of recidivism for one race over another."
   ]
  },
  {
   "cell_type": "markdown",
   "id": "589feeeb-3f23-4fff-98a2-1f4a839d78fa",
   "metadata": {},
   "source": [
    "There are at least dozens of ways of defining fairness in a model, but let’s focus on three for now. When we are building our baseline model, we will see these again and more.\n",
    "\n",
    "- Unawareness\n",
    "- Statistical parity\n",
    "- Equalized odds"
   ]
  },
  {
   "cell_type": "code",
   "execution_count": null,
   "id": "c62c200e-dcce-4fcb-98dd-54539e6fad17",
   "metadata": {},
   "outputs": [],
   "source": []
  }
 ],
 "metadata": {
  "kernelspec": {
   "display_name": "Python 3 (ipykernel)",
   "language": "python",
   "name": "python3"
  },
  "language_info": {
   "codemirror_mode": {
    "name": "ipython",
    "version": 3
   },
   "file_extension": ".py",
   "mimetype": "text/x-python",
   "name": "python",
   "nbconvert_exporter": "python",
   "pygments_lexer": "ipython3",
   "version": "3.10.12"
  }
 },
 "nbformat": 4,
 "nbformat_minor": 5
}
