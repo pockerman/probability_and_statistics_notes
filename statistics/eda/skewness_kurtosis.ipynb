{
 "cells": [
  {
   "cell_type": "markdown",
   "id": "b00f285a-2f5a-444a-9994-059bd64a8e73",
   "metadata": {},
   "source": [
    "# Skewness and Kurtosis"
   ]
  },
  {
   "cell_type": "markdown",
   "id": "3fd633d1-cdd8-495f-91eb-e65cb777b139",
   "metadata": {},
   "source": [
    "## Overview"
   ]
  },
  {
   "cell_type": "markdown",
   "id": "aaac1de1-acdd-4bfd-b8db-337bc0ba77e5",
   "metadata": {},
   "source": [
    "In this section we will introduce two more statistics about the data namely <a href=\"https://www.itl.nist.gov/div898/handbook/eda/section3/eda35b.htm\">skewness and kurtosis</a>.\n",
    "The first statistic meansure the lack of symmetry of the observed data. The second coefficient measures \n",
    "whether the data are heavy-tailed or light-tailed relative to the normal distribution [2]. Hence, data sets with high kurtosis tend to have heavy tails, or outliers. Data sets with low kurtosis tend to have light tails, or lack of outliers."
   ]
  },
  {
   "cell_type": "markdown",
   "id": "67ea3f3f-821a-4b4c-aca4-c51750d0aa35",
   "metadata": {},
   "source": [
    "## Skewness and Kurtosis"
   ]
  },
  {
   "cell_type": "markdown",
   "id": "b1505c02-a16c-4c87-916d-7b5add03ec39",
   "metadata": {},
   "source": [
    "### Skewness"
   ]
  },
  {
   "cell_type": "markdown",
   "id": "d6440d14-a3de-42f5-979c-1a063e8708e2",
   "metadata": {},
   "source": [
    "The skewness $k$ measures the lack of symmetry of a distribution. It is defined as [1]\n",
    "\n",
    "\n",
    "\n",
    "\\begin{equation}\n",
    "k = \\frac{E\\left[X-\\mu\\right]^3}{\\sigma^3}\n",
    "\\end{equation}"
   ]
  },
  {
   "cell_type": "markdown",
   "id": "0ca29438-6ef8-4f28-a6e7-2d1863976c18",
   "metadata": {},
   "source": [
    "The skewness for the normal distribution will be zero as the distribution is symmetric"
   ]
  },
  {
   "cell_type": "markdown",
   "id": "193b58b2-7180-4687-b5e4-84f8517e0ed8",
   "metadata": {},
   "source": [
    "### Kurtosis"
   ]
  },
  {
   "cell_type": "markdown",
   "id": "2924f8ba-895b-418e-b65d-932277c8ed83",
   "metadata": {},
   "source": [
    "The kurtosis is a measure of whether the data are heavy-tailed or light-tailed relative to a normal distribution. \n",
    "That is, data sets with high kurtosis tend to have heavy tails, or outliers. Data sets with low kurtosis tend to have light tails, or lack of outliers. \n",
    "It is given by"
   ]
  },
  {
   "cell_type": "markdown",
   "id": "3b62b227-090b-4bd9-a6fb-bbc2e8aa010e",
   "metadata": {},
   "source": [
    "\\begin{equation}\n",
    "b_2 = \\frac{E\\left[X-\\mu\\right]^4}{\\sigma^4}\n",
    "\\end{equation}"
   ]
  },
  {
   "cell_type": "markdown",
   "id": "9382cdbd-c2e5-4262-b1a3-b4e19fc7697e",
   "metadata": {},
   "source": [
    "The kurtosis for the standard normal distribution is 3 [2]. Thus in many cases the following definition is ised\n",
    "\n",
    "\\begin{equation}\n",
    "b_2 = \\frac{E\\left[X-\\mu\\right]^4}{\\sigma^4} -3 \n",
    "\\end{equation}"
   ]
  },
  {
   "cell_type": "markdown",
   "id": "f61e66bc-7a40-4d65-8782-1aee946bc1db",
   "metadata": {},
   "source": [
    "### Example 1"
   ]
  },
  {
   "cell_type": "markdown",
   "id": "8639be5f-0b02-4beb-b845-eb06adbacc5c",
   "metadata": {},
   "source": [
    "The following example shows how to calculate skewness and kurtosis with Python."
   ]
  },
  {
   "cell_type": "code",
   "execution_count": 3,
   "id": "9a9d4855-3715-4cf9-8260-a870529f2cf7",
   "metadata": {
    "tags": []
   },
   "outputs": [],
   "source": [
    "import numpy as np\n",
    "from scipy.stats import kurtosis, skew"
   ]
  },
  {
   "cell_type": "code",
   "execution_count": 4,
   "id": "fe542931-23e7-43a2-994a-4b21be3bf319",
   "metadata": {
    "tags": []
   },
   "outputs": [
    {
     "name": "stdout",
     "output_type": "stream",
     "text": [
      "kurtosis of normal distribution (should be 0): 0.05469279202667954\n",
      "skewness of normal distribution (should be 0): -0.04329816932976951\n"
     ]
    }
   ],
   "source": [
    "x = np.random.normal(0, 2, 10000)   \n",
    "\n",
    "print('kurtosis of normal distribution (should be 0): {}'.format( kurtosis(x) ))\n",
    "print('skewness of normal distribution (should be 0): {}'.format( skew(x) ))"
   ]
  },
  {
   "cell_type": "markdown",
   "id": "54264867-08eb-42e1-9e96-56c695648f05",
   "metadata": {},
   "source": [
    "## Summary"
   ]
  },
  {
   "cell_type": "markdown",
   "id": "636bfe50-a9ee-4c93-bb26-abd63fe40d4d",
   "metadata": {},
   "source": [
    "This section introduced two statistics, skewness and kurtosis. They allow us to evaluate whether the observed data is symmetric or the \n",
    "lack of symmetry, skewnees, and the departure of the data from\n",
    "the normal distribution the kurtosis coefficient. The two coefficients overall can be used to assess the deviation of the \n",
    "observed data from the normal distribution"
   ]
  },
  {
   "cell_type": "markdown",
   "id": "eaf56fb0-03a5-42c6-860e-41c0fdebde63",
   "metadata": {},
   "source": [
    "## References"
   ]
  },
  {
   "cell_type": "markdown",
   "id": "31da5a89-f925-4407-9a53-1829cb35b180",
   "metadata": {},
   "source": [
    "1. Larry Wasserman, _All of Statistics. A Concise Course in Statistical Inference_, Springer 2003.\n",
    "2. <a href=\"https://www.itl.nist.gov/div898/handbook/eda/section3/eda35b.htm\">Measures of skewness and kurtosis</a>"
   ]
  }
 ],
 "metadata": {
  "kernelspec": {
   "display_name": "Python 3 (ipykernel)",
   "language": "python",
   "name": "python3"
  },
  "language_info": {
   "codemirror_mode": {
    "name": "ipython",
    "version": 3
   },
   "file_extension": ".py",
   "mimetype": "text/x-python",
   "name": "python",
   "nbconvert_exporter": "python",
   "pygments_lexer": "ipython3",
   "version": "3.10.12"
  }
 },
 "nbformat": 4,
 "nbformat_minor": 5
}
