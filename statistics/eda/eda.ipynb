{
 "cells": [
  {
   "cell_type": "markdown",
   "metadata": {},
   "source": [
    "# Exploratory Data Analysis"
   ]
  },
  {
   "cell_type": "markdown",
   "metadata": {},
   "source": [
    "In this first chapter we dive into the exploratory data analysis or EDA. This step is a prerequisite of any statistical modeling approach as it allows us to get an understanding of the data. Specifically, in this chapter we will review "
   ]
  },
  {
   "cell_type": "markdown",
   "metadata": {},
   "source": [
    "- Measures of central tendency\n",
    "- Measures of dispersion\n",
    "- Empirical CDF\n",
    "- Common plots such histogram, boxplot, and Q-Q plot"
   ]
  },
  {
   "cell_type": "markdown",
   "metadata": {},
   "source": [
    "However, before we begin, let's discuss a little bit out the data that we will be working on.  We will organise these predominantly into structured and unstuctured data."
   ]
  },
  {
   "cell_type": "markdown",
   "metadata": {},
   "source": [
    "### Structure data"
   ]
  },
  {
   "cell_type": "markdown",
   "metadata": {},
   "source": [
    "A large proportion of the data we will work is structured and typically come in the form tables.\n",
    "Examples are\n",
    "\n",
    "- Relational databases; by definition organise the data into tables\n",
    "- Excel/Libre documents\n",
    "- CSV files"
   ]
  },
  {
   "cell_type": "markdown",
   "metadata": {},
   "source": [
    "### Unstructured data"
   ]
  },
  {
   "cell_type": "markdown",
   "metadata": {},
   "source": [
    "We will use the term unstructured to capture all the data that does not fit into the table format.\n",
    "Although this may not be entirely correct, it will simplify things for us withou affecting much.\n",
    "Unstructured data, therefore, have no predefined design and do not follow any particular data model. \n",
    "Examples of unstructured data include\n",
    "\n",
    "- Images\n",
    "- Videos\n",
    "- Text\n",
    "- Audio"
   ]
  },
  {
   "cell_type": "markdown",
   "metadata": {},
   "source": [
    "The table below shows some characteristics of structured vs unstructured data\n",
    "\n",
    "| Structured data                 | Unstructured                      |\n",
    "|---------------------------------| ----------------------------------|\n",
    "| Represented in tables           | Cannot be represented as tables   | \n",
    "| Easier to use                   | More difficult to use             |\n",
    "| Require less storage capacity   | Require more storage capacity     | \n",
    "\n"
   ]
  },
  {
   "cell_type": "markdown",
   "metadata": {},
   "source": [
    "In addition to structured/unstructured categorization of the data we also have the quantitative/qualitative categirzation.\n",
    "Broadly speaking, a variable can be either quantitative i.e. numerical, or qualitative i.e. categorical. \n",
    "Most of the time will be easy to see/understand to which category the data belongs to. Examples of numerical\n",
    "data include temperature, weight, height, prices e.t.c. In principal anything else that it is not numerical will be qualitative e.g.\n",
    "hair color, eyes color, text such as tweets or logs coming from a system.\n",
    "\n",
    "\n",
    "We also distinguish four categories for the two groups above;\n",
    "\n",
    "\n",
    "- Nominal\n",
    "- Ordinal\n",
    "- Interval\n",
    "- Ratio\n",
    "\n",
    "Nominal data is qualitative. Typically, we can't say much about it other than then value of the variable and computing\n",
    "counts about the occured values. Expressions such the mean or variance have no meaning for such variables.\n",
    "\n",
    "Ordinal data is also qualitative in nature but this time some sort of order is attached. Consider for example satisfaction\n",
    "from a give service. This may be happy, neutral, unhappy or any other states we choose. Ordinal data can be turned into\n",
    "numerical data by using numbers to represent each category. We need however how these are used and the meanings we extract \n",
    "as this is still oridnal data.\n",
    "\n",
    "Interval data are quantitative. The differences between values have a consistent meaning. We can compute expressions\n",
    "about the mean and ask questions about standard deviations. But there is a catch. Data at this level lack the concept of \n",
    "zero. Zero represents an absence of what we are trying to measure. However, when you say zero degrees Celcious to express temperature\n",
    "this does not mean that you don't have a measurement. \n",
    "In fact zero is a legitimate temperature measurement. The consequence of this is that we can only subtract and add such variables\n",
    "but not divide or multiply them.\n",
    "In addition, they lack the notion of ratio; e.g. 40 degrees does not mean twice as hot when 20 degrees.\n",
    "\n",
    "\n",
    "Data at the ratio level is the data that most people think when discussing quantitative data. It is the same as interval data encompassed with a true meaning of zero. At the ratio level, with the concept of a true zero, we can divide and multiply values together and have their results be meaningful. "
   ]
  },
  {
   "cell_type": "markdown",
   "metadata": {},
   "source": []
  },
  {
   "cell_type": "markdown",
   "metadata": {},
   "source": [
    "## References"
   ]
  }
 ],
 "metadata": {
  "kernelspec": {
   "display_name": "Python 3 (ipykernel)",
   "language": "python",
   "name": "python3"
  },
  "language_info": {
   "codemirror_mode": {
    "name": "ipython",
    "version": 3
   },
   "file_extension": ".py",
   "mimetype": "text/x-python",
   "name": "python",
   "nbconvert_exporter": "python",
   "pygments_lexer": "ipython3",
   "version": "3.10.12"
  }
 },
 "nbformat": 4,
 "nbformat_minor": 4
}
