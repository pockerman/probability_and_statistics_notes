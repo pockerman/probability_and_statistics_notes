{
 "cells": [
  {
   "cell_type": "markdown",
   "metadata": {},
   "source": [
    "# Exploratory Data Analysis and Feature Engineering"
   ]
  },
  {
   "cell_type": "markdown",
   "metadata": {},
   "source": [
    "In this part of the notes, we dive into the exploratory data analysis or EDA topic. This step is a prerequisite of any statistical modeling approach as it allows us to get an understanding of the data and therefore create better quality datasets. Specifically, in this chapter we will review: \n",
    "\n",
    "- Measures of central tendency\n",
    "- Measures of dispersion\n",
    "- Empirical CDF\n",
    "- Common plots such histogram, boxplot, and Q-Q plot\n",
    "\n",
    "In addition, we will look into how to evaluate the quality of a dataset and how to evaluate the quality of statistical model.\n",
    "We will need the latter metrics when we discuss the various models in the forthcoming parts of the notes."
   ]
  },
  {
   "cell_type": "markdown",
   "metadata": {},
   "source": [
    "However, before we begin, let's discuss a little bit out the data that we will be working on.  We will organise these predominantly into structured and unstuctured data. Let's briefly see what these constitute\n",
    "\n",
    "**Structured data**\n",
    "\n",
    "A large proportion of the data we will work is structured and typically come in the form tables.\n",
    "Examples are:\n",
    "\n",
    "- Relational databases; by definition organise the data into tables\n",
    "- Excel/Libre documents\n",
    "- CSV files\n",
    "\n",
    "Note that although a number of different models  of databases exist, typically these will allow us to have some\n",
    "structure when reading the data i.e. having a predefined schema. We will categorize this data as structured data.\n",
    "\n",
    "**Unstructured data**\n",
    "\n",
    "We will use the term unstructured to capture all the data that does not fit into the table format.\n",
    "Although this may not be entirely correct, it will simplify things for us withou affecting much.\n",
    "Unstructured data, therefore, have no predefined design and do not follow any particular data model. \n",
    "Examples of unstructured data include\n",
    "\n",
    "- Images\n",
    "- Videos\n",
    "- Text\n",
    "- Audio\n",
    "\n",
    "The table below shows some characteristics of structured vs unstructured data\n",
    "\n",
    "| Structured data                 | Unstructured                      |\n",
    "|---------------------------------| ----------------------------------|\n",
    "| Represented in tables           | Cannot be represented as tables   | \n",
    "| Easier to use                   | More difficult to use             |\n",
    "| Require less storage capacity   | Require more storage capacity     | \n",
    "\n",
    "\n",
    "In addition to the structured/unstructured categorization of the data we also have the quantitative/qualitative arrangement.\n",
    "Broadly speaking, a variable can be either quantitative i.e. numerical, or qualitative i.e. categorical. \n",
    "Most of the time, it will be easy to see/understand to which category the data belongs to. Examples of numerical\n",
    "data include temperature, weight, height, prices e.t.c. In principal, anything else that it is not numerical will be qualitative e.g.\n",
    "hair color, eyes color, text such as tweets or logs coming from a system.\n",
    "We will also distinguish four categories for the two groups above;\n",
    "\n",
    "\n",
    "- Nominal\n",
    "- Ordinal\n",
    "- Interval\n",
    "- Ratio\n",
    "\n",
    "**Nominal:** This type data is always qualitative. For most cases,  we won't be able to say much about it other than then value of the variable and computing counts about the occured values. Expressions such as the mean or variance have no meaning for such variables.\n",
    "\n",
    "**Ordinal:** This type of data is also qualitative in nature but this time some sort of order is attached. Consider for example satisfaction from a given service. This may be happy, neutral, unhappy or any other states we choose. Ordinal data can be turned into\n",
    "numerical data by using numbers to represent each category. We need to know however how these are used and the meanings we extract \n",
    "as this is still oridnal data.\n",
    "\n",
    "**Interval** data are quantitative. The differences between values have a consistent meaning. We can compute expressions\n",
    "about the mean and ask questions about standard deviations. However,  the data in this category,  lack the concept of \n",
    "zero. Zero represents an absence of what we are trying to measure. However, when you say zero degrees Celcious to express temperature\n",
    "this does not mean that you don't have a measurement.  In fact zero is a legitimate temperature measurement. The consequence of this is that we can only subtract and add such variables but not divide or multiply them.\n",
    "In addition, they lack the notion of ratio; e.g. 40 degrees does not mean twice as hot when 20 degrees.\n",
    "\n",
    "**Ratio:** This is the type of data that most people think when discussing quantitative data. It is the same as interval data encompassed with a true meaning of zero. At the ratio level, with the concept of a true zero, we can divide and multiply values together and have their results be meaningful. \n",
    "\n",
    "Note that in general we will assume that we are working with a single data generating process $P_{data}$. This will represent\n",
    "the broadest and most abstract representation of the data. If we knew $P_{data}$, then most, if not all, of the material discussed\n",
    "herein would have been unneccessary or of theoretical value only."
   ]
  },
  {
   "cell_type": "markdown",
   "metadata": {},
   "source": [
    "## References"
   ]
  }
 ],
 "metadata": {
  "kernelspec": {
   "display_name": "Python 3 (ipykernel)",
   "language": "python",
   "name": "python3"
  },
  "language_info": {
   "codemirror_mode": {
    "name": "ipython",
    "version": 3
   },
   "file_extension": ".py",
   "mimetype": "text/x-python",
   "name": "python",
   "nbconvert_exporter": "python",
   "pygments_lexer": "ipython3",
   "version": "3.10.12"
  }
 },
 "nbformat": 4,
 "nbformat_minor": 4
}
