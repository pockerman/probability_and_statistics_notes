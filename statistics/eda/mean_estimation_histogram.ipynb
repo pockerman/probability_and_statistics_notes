{
 "cells": [
  {
   "cell_type": "markdown",
   "id": "75907ef1-ff9d-4656-9761-24af50a5a086",
   "metadata": {},
   "source": [
    "# Mean Estimation from Histogram"
   ]
  },
  {
   "cell_type": "code",
   "execution_count": null,
   "id": "d8b9dec9-bae0-4759-87bd-236def021ddb",
   "metadata": {},
   "outputs": [],
   "source": []
  }
 ],
 "metadata": {
  "kernelspec": {
   "display_name": "Python 3 (ipykernel)",
   "language": "python",
   "name": "python3"
  },
  "language_info": {
   "codemirror_mode": {
    "name": "ipython",
    "version": 3
   },
   "file_extension": ".py",
   "mimetype": "text/x-python",
   "name": "python",
   "nbconvert_exporter": "python",
   "pygments_lexer": "ipython3",
   "version": "3.10.12"
  }
 },
 "nbformat": 4,
 "nbformat_minor": 5
}
