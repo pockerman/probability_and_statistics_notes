{
 "cells": [
  {
   "cell_type": "markdown",
   "metadata": {},
   "source": [
    "# Estimation of standard errors with bootstrap"
   ]
  },
  {
   "cell_type": "markdown",
   "metadata": {},
   "source": [
    "* [Overview](#overview) \n",
    "* [Boostrap](#sec1)\n",
    "    * [Monte Carlo simulations](#subsec1)\n",
    "* [Summary](#sum)\n",
    "* [References](#refs)"
   ]
  },
  {
   "cell_type": "markdown",
   "metadata": {},
   "source": [
    "## Overview"
   ]
  },
  {
   "cell_type": "markdown",
   "metadata": {},
   "source": [
    "In the previous section, we saw how to estimate the error associated with a parameter estimator. Specifically, we talked about the standard error associated with estimating the $\\lambda$ of a Poisson distribution."
   ]
  },
  {
   "cell_type": "markdown",
   "metadata": {},
   "source": [
    "In many cases an analytical formula for the standard deviation of the estimator may not exist. In this case we can use boostrap. Indeed, bootstrap is used to estimate population parameters by Monte Carlo simulations when it is too difficult to do it analytically."
   ]
  },
  {
   "cell_type": "markdown",
   "metadata": {},
   "source": [
    "## Bootstrap"
   ]
  },
  {
   "cell_type": "markdown",
   "metadata": {},
   "source": [
    "The difficulty with evaluating the performance of parameters estimators i.e. their standard errors, is that we can observe an estimator $\\hat{\\theta}$ only once; we only have one sample for the population. If we had many samples we could compute $\\hat{\\theta}$ on each sample and then compute the variance of these estimators."
   ]
  },
  {
   "cell_type": "markdown",
   "metadata": {},
   "source": [
    "Bootstrap is a simple technique that consists of taking all possible samples from a given sample $S$ compute $\\hat{\\theta}$ on all these samples and then compute the sample variance of those estimators in order to obtain an estimate for the variance of the estimator."
   ]
  },
  {
   "cell_type": "markdown",
   "metadata": {},
   "source": [
    "----\n",
    "\n",
    "**Remark**\n",
    "\n",
    "Recall that sampling from the observed sample $S$ is  called resampling. Thus bootstrap is a resampling method and the obtained samples from $S$ are called bootstrap samples.\n",
    "\n",
    "----"
   ]
  },
  {
   "cell_type": "markdown",
   "metadata": {},
   "source": [
    "Thus, a bootstrap sample is a random sample drawn with replacement from the observed sample $S$ of the same size as $S$. The distribution of a statistic across bootstrap samples is called a **bootstrap distribution**. Similarly, an estimator that is computed on basis of bootstrap samples is a **bootstrap estimator**."
   ]
  },
  {
   "cell_type": "markdown",
   "metadata": {},
   "source": [
    "### Monte Carlo simulations"
   ]
  },
  {
   "cell_type": "markdown",
   "metadata": {},
   "source": [
    "For a sample of size $n$ there are $n^n$ possible bootstrap samples. Thus for a large sample computing all the bootstrap samples is infeasible.  The alternative is just generate a large number of them.  "
   ]
  },
  {
   "cell_type": "markdown",
   "metadata": {},
   "source": [
    "The number of generated bootstrap samples, $n_{MC}$, can be very large. As $n_{MC} \\rightarrow \\infty$, our estimator  becomes just as good as if we had a complete list of bootstrap samples. Typically, thousands or tens of thousands of bootstrap samples are being generated."
   ]
  },
  {
   "cell_type": "markdown",
   "metadata": {},
   "source": [
    "The following code snippet demonstrates the Monte Carlo based bootstrap simulation"
   ]
  },
  {
   "cell_type": "code",
   "execution_count": 2,
   "metadata": {},
   "outputs": [],
   "source": [
    "import numpy as np"
   ]
  },
  {
   "cell_type": "code",
   "execution_count": 3,
   "metadata": {},
   "outputs": [],
   "source": [
    "sample = [3, 5, 8, 5, 5, 8, 5, 4, 2]\n",
    "n_mc = 10000\n",
    "median = np.median(sample)"
   ]
  },
  {
   "cell_type": "code",
   "execution_count": 4,
   "metadata": {},
   "outputs": [
    {
     "name": "stdout",
     "output_type": "stream",
     "text": [
      "Median of sample=5.0\n"
     ]
    }
   ],
   "source": [
    "print(\"Median of sample={0}\".format(median))"
   ]
  },
  {
   "cell_type": "code",
   "execution_count": 9,
   "metadata": {},
   "outputs": [],
   "source": [
    "means = []\n",
    "\n",
    "for itr in range(n_mc):\n",
    "    bootstrap_sample = np.random.choice(sample, size=len(sample), replace=True)\n",
    "    means.append(np.mean(bootstrap_sample))\n",
    "    \n",
    "bootstrap_mean = np.mean(means)"
   ]
  },
  {
   "cell_type": "code",
   "execution_count": 12,
   "metadata": {},
   "outputs": [
    {
     "name": "stdout",
     "output_type": "stream",
     "text": [
      "Mean=4.9919\n",
      "Bias of mean=-0.008099999999999774\n",
      "Std of mean=0.6346164934066114\n"
     ]
    }
   ],
   "source": [
    "print(\"Mean={0}\".format(bootstrap_mean))\n",
    "print(\"Bias of mean={0}\".format(bootstrap_mean - median))\n",
    "print(\"Std of mean={0}\".format(np.std(means)))"
   ]
  },
  {
   "cell_type": "markdown",
   "metadata": {},
   "source": [
    "## Summary"
   ]
  },
  {
   "cell_type": "markdown",
   "metadata": {},
   "source": [
    "## References"
   ]
  },
  {
   "cell_type": "code",
   "execution_count": null,
   "metadata": {},
   "outputs": [],
   "source": []
  }
 ],
 "metadata": {
  "kernelspec": {
   "display_name": "Python 3 (ipykernel)",
   "language": "python",
   "name": "python3"
  },
  "language_info": {
   "codemirror_mode": {
    "name": "ipython",
    "version": 3
   },
   "file_extension": ".py",
   "mimetype": "text/x-python",
   "name": "python",
   "nbconvert_exporter": "python",
   "pygments_lexer": "ipython3",
   "version": "3.10.6"
  }
 },
 "nbformat": 4,
 "nbformat_minor": 4
}
