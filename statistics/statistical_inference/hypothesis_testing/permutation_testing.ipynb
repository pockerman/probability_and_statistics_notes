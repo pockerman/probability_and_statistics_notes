{
 "cells": [
  {
   "cell_type": "markdown",
   "id": "66176362-d1dd-4749-8d74-321261af537c",
   "metadata": {},
   "source": [
    "# Permutation Testing\n"
   ]
  },
  {
   "cell_type": "markdown",
   "id": "6a919f50-cd02-408b-88fe-3baee62f7030",
   "metadata": {},
   "source": [
    "## Overview"
   ]
  },
  {
   "cell_type": "markdown",
   "id": "f69e949a-06c0-4df5-a81b-26dc888b1c09",
   "metadata": {},
   "source": [
    "In this section we will review <a href=\"https://en.wikipedia.org/wiki/Permutation_test\">permutation testing</a>. This is a nonparametric method for testign whether two distributions are the same."
   ]
  },
  {
   "cell_type": "markdown",
   "id": "5efb664b-6bd0-4b79-a082-65da97be7266",
   "metadata": {},
   "source": [
    "## Permutation testing"
   ]
  },
  {
   "cell_type": "markdown",
   "id": "ca931024-dbb8-4e9c-b4fb-0c73e954c439",
   "metadata": {},
   "source": [
    "A permutation test is an exact hypothesis test meaning that it is not based on large sample theory \n",
    "approximations [1]. A permutation test involves two or more samples. \n",
    "The null hypothesis is that all samples come from the same distribution. Specifically, assume that\n",
    "$X_1, \\dots, X_m \\sim F_X$ and $Y_1, \\dots, Y_n \\sim F_Y$ then in permutation testing we test [1]\n",
    "\n",
    "\\begin{equation}\n",
    "H_0: F_X = F_Y ~~ \\text{versus} ~~ H_a: F_X \\neq F_Y\n",
    "\\end{equation}\n",
    "\n",
    "This type of testing we would consider when testing if a developed treatment differs from a placebo.\n"
   ]
  },
  {
   "cell_type": "markdown",
   "id": "2693b311-dde4-4f0e-9e1c-f465117a62bd",
   "metadata": {},
   "source": [
    "The permuation test, considers all the possible permuations of the combined data.\n",
    "Specifically, let $N=m+n$ and consider all the permutations, $N!$, of the combined data\n",
    "$X_1, \\dots, X_m, Y_1, \\dots, Y_n$. For each permutation compute the test statistic $T$. \n",
    "Under $H_0$ each of the $N!$ computated statistics is equally likely [1].\n",
    "We call the distribution that puts mass $1/N!$ on each $T_j$ the permutation distribution of $T$ [1].\n"
   ]
  },
  {
   "cell_type": "markdown",
   "id": "66689415-4e86-40f4-9994-3a6c7e69fd9d",
   "metadata": {},
   "source": [
    "Consider now $t_{obs}$ to be the observed value of the test statistic. The $p-$value is [1]\n",
    "\n",
    "\n",
    "\\begin{equation}\n",
    "p-\\text{value}=P_0(T>t_{obs})=\\frac{1}{N!}\\sum_{j=1}^{N!}I(T_j>t_{obs})\n",
    "\\end{equation}"
   ]
  },
  {
   "cell_type": "markdown",
   "id": "28e188dc-8d62-42a9-8fb4-296bef252e81",
   "metadata": {},
   "source": [
    "## Example 1"
   ]
  },
  {
   "cell_type": "markdown",
   "id": "f30c9712-7914-4798-bd7c-4cb93c17c55f",
   "metadata": {},
   "source": [
    "This example is taken from [1]. Assume the dataset $(X_1, X_2, Y_1)=(1,9,3)$. The assumed test statistic is \n",
    "the mean difference i.e. $T = |\\bar{x}-\\bar{y}|$. Let's use Python to form all possible permuatations. We already know these\n",
    "will be $3!=6$ in total"
   ]
  },
  {
   "cell_type": "code",
   "execution_count": 8,
   "id": "d69636de-77b9-4851-98d8-b901e2d393ad",
   "metadata": {
    "tags": []
   },
   "outputs": [],
   "source": [
    "import numpy as np\n",
    "import itertools"
   ]
  },
  {
   "cell_type": "markdown",
   "id": "dd6c5704-b913-453e-8a4b-e89102ca1d4a",
   "metadata": {},
   "source": [
    "The observed statistic is "
   ]
  },
  {
   "cell_type": "code",
   "execution_count": 12,
   "id": "28e11517-84d7-4fb3-b007-b6378ea2e5ce",
   "metadata": {
    "tags": []
   },
   "outputs": [
    {
     "name": "stdout",
     "output_type": "stream",
     "text": [
      "2.0\n"
     ]
    }
   ],
   "source": [
    "t_obs = abs((1+9)*0.5 - 3)\n",
    "print(t_obs)"
   ]
  },
  {
   "cell_type": "code",
   "execution_count": 11,
   "id": "972a2a1b-7e2c-4431-9023-517e2d0e99c1",
   "metadata": {
    "tags": []
   },
   "outputs": [
    {
     "name": "stdout",
     "output_type": "stream",
     "text": [
      "[(1, 9, 3), (1, 3, 9), (9, 1, 3), (9, 3, 1), (3, 1, 9), (3, 9, 1)]\n"
     ]
    }
   ],
   "source": [
    "data = [1,9,3]\n",
    "permutations = list(itertools.permutations(data))\n",
    "print(permutations)"
   ]
  },
  {
   "cell_type": "markdown",
   "id": "28d1c731-f0bf-41b2-b19c-31b78d1138cd",
   "metadata": {},
   "source": [
    "For each permutation compute the value of $T = |\\bar{x} - \\bar{y}|$"
   ]
  },
  {
   "cell_type": "code",
   "execution_count": 19,
   "id": "62c62b26-c115-488f-a9f3-adda76f1e296",
   "metadata": {
    "tags": []
   },
   "outputs": [
    {
     "name": "stdout",
     "output_type": "stream",
     "text": [
      "[2.0, 7.0, 2.0, 5.0, 7.0, 5.0]\n"
     ]
    }
   ],
   "source": [
    "statistics = []\n",
    "for item in permutations:\n",
    "    item_mean_diff = abs((item[0]+item[1])*0.5 - item[2])\n",
    "    statistics.append(item_mean_diff)\n",
    "    \n",
    "print(statistics)"
   ]
  },
  {
   "cell_type": "markdown",
   "id": "b0ae9fe7-dfe2-4892-aa87-9b5ce3bd11f8",
   "metadata": {},
   "source": [
    "Compute the $p-$value"
   ]
  },
  {
   "cell_type": "code",
   "execution_count": 23,
   "id": "c0b342eb-c38f-4c49-a326-eb65d112cdec",
   "metadata": {
    "tags": []
   },
   "outputs": [
    {
     "name": "stdout",
     "output_type": "stream",
     "text": [
      "Computed p-value 0.6666666666666666\n"
     ]
    }
   ],
   "source": [
    "p_value = sum([1 if t > t_obs else 0 for t in statistics]) / len(statistics)\n",
    "print(f\"Computed p-value {p_value}\")"
   ]
  },
  {
   "cell_type": "markdown",
   "id": "353ad97c-6099-40dd-9461-233be9827111",
   "metadata": {},
   "source": [
    "## Summary"
   ]
  },
  {
   "cell_type": "markdown",
   "id": "d59fe2fc-645e-4054-a6c4-1c237297666a",
   "metadata": {},
   "source": [
    "In this section we reviewd permuation testing. This is a methodology we want to use for testing \n",
    "that two samples follow the \n",
    "same distribution. The test is exact that is it is not based on large sample theory approximations. \n",
    "The test considers all possible permuations of the combined samples i.e. $X_1, \\dots, X_m, Y_1, \\dots, Y_n$.\n",
    "Given that it may not be prectical to compute all $N!$ permuations, we can approximate the $p-$value by sampling \n",
    "randomly from these. The fraction of times that $T_j>t_{obs}$ among these samples will approximate the $p-$value."
   ]
  },
  {
   "cell_type": "markdown",
   "id": "29b4a7ff-f82c-4700-85d9-47e611f102cb",
   "metadata": {},
   "source": [
    "In large samples, the permuatation test usually will deliver similar results as a test that is based\n",
    "on large sample theory [1]. Therefore, a permutation test is most useful when dealing with small samples."
   ]
  },
  {
   "cell_type": "markdown",
   "id": "efb4fee3-4d04-4400-992d-42e0ccf9df4d",
   "metadata": {},
   "source": [
    "## References"
   ]
  },
  {
   "cell_type": "markdown",
   "id": "24fd2c87-5180-4ac1-a511-7e2edeadf5ef",
   "metadata": {},
   "source": [
    "1. Larry Wasserman, _All of Statistics. A Concise Course in Statistical Inference_, Springer 2003."
   ]
  }
 ],
 "metadata": {
  "kernelspec": {
   "display_name": "Python 3 (ipykernel)",
   "language": "python",
   "name": "python3"
  },
  "language_info": {
   "codemirror_mode": {
    "name": "ipython",
    "version": 3
   },
   "file_extension": ".py",
   "mimetype": "text/x-python",
   "name": "python",
   "nbconvert_exporter": "python",
   "pygments_lexer": "ipython3",
   "version": "3.10.12"
  }
 },
 "nbformat": 4,
 "nbformat_minor": 5
}
