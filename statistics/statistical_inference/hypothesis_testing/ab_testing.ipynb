{
 "cells": [
  {
   "cell_type": "markdown",
   "id": "e3ef0b9d-1989-47f2-b069-8591eb3feb1f",
   "metadata": {},
   "source": [
    "# A/B Testing {#sec-ab-testing}"
   ]
  },
  {
   "cell_type": "markdown",
   "id": "93e64ef5-d140-434d-b18a-61fd4ba6b92f",
   "metadata": {},
   "source": [
    "## Overview"
   ]
  },
  {
   "cell_type": "markdown",
   "id": "ed445693-668d-4c13-9ad7-b3e7fd32a81b",
   "metadata": {},
   "source": [
    "In this chapter we will review one of the most commonly used testing methodologies\n",
    "that is used in practice. Specificaally, we will look into <a href=\"https://en.wikipedia.org/wiki/A/B_testing\">A/B testing</a>.\n",
    "With A/B testing the aim is to drive businees decisions based on experimentation. It employs many of the elements of\n",
    "hypothesis testign that we have seen so far in particular two-sample hypothesis testing.\n",
    "\n",
    "A/B tests are useful when we want to understand user engagement and.or satisfaction of online features like a new feature or product. In this aspect, large social media sites like LinkedIn and  Facebook use A/B testing to make user experiences more successful and as a way to streamline their services [1]."
   ]
  },
  {
   "cell_type": "markdown",
   "id": "3caf4260-ccde-4d38-95a6-3652af075354",
   "metadata": {},
   "source": [
    "## A/B testing"
   ]
  },
  {
   "cell_type": "markdown",
   "id": "3b3baff2-3c39-41a9-a2bb-04f134e551d8",
   "metadata": {},
   "source": [
    "A/B testing is, in principle, a randomized controlled experiment where a number of samples, e.g. A and B, of a single variable are compared [1]. Typically, the two sample will represent different variations of the variable. Our aim is to compare\n",
    "which variation of the varaible is more efficient or better optimizes a given metric. \n",
    "Consider for example an e-shop like Amazon. One of our aims is to increase use interaction. How can we do this?\n",
    "The marketing team prepares two flavours of the e-shop. Which one do we choose? A/B testing poses a framewok that allows\n",
    "us to make such decisions.\n",
    "\n",
    "### A/B testign stages\n",
    "\n",
    "A/B testing typically involves three stages as shown in the figure below.\n",
    "\n",
    "| ![simple-linear-regression](../../../imgs/statistics/hypothesis_testing/ab_testing_stages.png) |\n",
    "|:--:|\n",
    "| **Figure 1: Stages of A/B testing.**|\n",
    "\n",
    "Let's briefly outline what is happening in every stage.\n",
    "\n",
    "- **Design statge**: In this stage we need to decide how many measurement to record, and which metric or metrics we want to evaluate. Typically, we want to take as many measurements as possible, a process called **replication**, in order to reduce **natural variation** in the final estimate the selected business metrics.\n",
    "- **Take measurements stage**: In this stage we measure the metrics we agreed upon in the previous stage. Notice however that we need to be careful and measure only the effect of switching from version A to version B. This can be done by using randomizaton. Randomization is essential in order to inadvertently include the impact of other factors that affect may affect the  business metric; e.g. time of day, user demographics, location of a data center e.t.c.\n",
    "- **Analysis stage**: In this stage we analyse the measurements using various statistical techniques including hypothesis testing"
   ]
  },
  {
   "cell_type": "markdown",
   "id": "7993e94f-a860-4888-b5f3-81461ca7d10d",
   "metadata": {},
   "source": [
    "Let's try to work out an example in order to better understand what all these imply."
   ]
  },
  {
   "cell_type": "markdown",
   "id": "5b1a778f-5dc2-407f-add1-7dc12721b1f6",
   "metadata": {},
   "source": [
    "#### A/B testing example\n",
    "\n",
    "Let's consider we need to test two versions of component to be integrated into our overall system.\n",
    "Let's call these versions A and B respectivelly."
   ]
  },
  {
   "cell_type": "code",
   "execution_count": 1,
   "id": "c211fd43-4c67-478c-a403-1e520a7ae25b",
   "metadata": {
    "tags": []
   },
   "outputs": [],
   "source": [
    "import numpy as np"
   ]
  },
  {
   "cell_type": "code",
   "execution_count": 5,
   "id": "2fc9605a-6a4f-4dbb-8ce4-014da9c2c1af",
   "metadata": {
    "tags": []
   },
   "outputs": [],
   "source": [
    "def sim_system(sys_name: str, error_mean: float=0.0, error_std: float =1.0) -> float:\n",
    "    \"\"\"Simulate a system by adding noise to the system cost\n",
    "    \"\"\"\n",
    "    sys_cost = {'A': 25.0, 'B': 28.0}\n",
    "    total_cost = sys_cost[sys_name] + np.random.nomal(error_mean, error_std)\n",
    "    return total_cost\n",
    "        "
   ]
  },
  {
   "cell_type": "markdown",
   "id": "90a53927-ca2f-4808-827c-38faf093ab58",
   "metadata": {},
   "source": [
    "## Summary"
   ]
  },
  {
   "cell_type": "markdown",
   "id": "a49611d9-d960-43a4-9f0b-956c9f346333",
   "metadata": {},
   "source": [
    "## References"
   ]
  },
  {
   "cell_type": "markdown",
   "id": "35bc64be-615f-47e8-bcdb-d9597d5a31ec",
   "metadata": {},
   "source": [
    "1. <a href=\"https://en.wikipedia.org/wiki/A/B_testing\">A/B testing</a>."
   ]
  }
 ],
 "metadata": {
  "kernelspec": {
   "display_name": "Python 3 (ipykernel)",
   "language": "python",
   "name": "python3"
  },
  "language_info": {
   "codemirror_mode": {
    "name": "ipython",
    "version": 3
   },
   "file_extension": ".py",
   "mimetype": "text/x-python",
   "name": "python",
   "nbconvert_exporter": "python",
   "pygments_lexer": "ipython3",
   "version": "3.10.12"
  }
 },
 "nbformat": 4,
 "nbformat_minor": 5
}
