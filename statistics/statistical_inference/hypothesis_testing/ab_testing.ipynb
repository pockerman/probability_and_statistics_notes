{
 "cells": [
  {
   "cell_type": "markdown",
   "id": "e3ef0b9d-1989-47f2-b069-8591eb3feb1f",
   "metadata": {},
   "source": [
    "# A/B Testing {#sec-ab-testing}"
   ]
  },
  {
   "cell_type": "markdown",
   "id": "93e64ef5-d140-434d-b18a-61fd4ba6b92f",
   "metadata": {},
   "source": [
    "## Overview"
   ]
  },
  {
   "cell_type": "markdown",
   "id": "ed445693-668d-4c13-9ad7-b3e7fd32a81b",
   "metadata": {},
   "source": [
    "In this chapter we will review one of the most commonly used testing methodologies. Specificaally, we will look into <a href=\"https://en.wikipedia.org/wiki/A/B_testing\">A/B testing</a>.\n",
    "With A/B testing the aim is to drive businees decisions based on experimentation. It employs many of the elements of\n",
    "hypothesis testign that we have seen so far and in particular two-sample hypothesis testing.\n",
    "A/B tests are useful when we want to understand user engagement and.or satisfaction of online features like a new feature or product. In this aspect, large social media sites like LinkedIn and  Facebook use A/B testing to make user experiences more successful and as a way to streamline their services [1]."
   ]
  },
  {
   "cell_type": "markdown",
   "id": "3caf4260-ccde-4d38-95a6-3652af075354",
   "metadata": {},
   "source": [
    "## A/B testing"
   ]
  },
  {
   "cell_type": "markdown",
   "id": "3b3baff2-3c39-41a9-a2bb-04f134e551d8",
   "metadata": {},
   "source": [
    "A/B testing is, in principle, a randomized controlled experiment where a number of samples, e.g. A and B, of a single variable are compared [1]. Typically, the two samples will represent different variations of the variable. Our aim is to compare\n",
    "which variation of the variable is more efficient in terms of a given metric. \n",
    "Consider for example an e-shop like Amazon. One of our aims is to increase use interaction. How can we do this?\n",
    "The marketing team prepares two flavours of the e-shop. Which one do we choose? A/B testing poses a framewok that allows\n",
    "us to make such decisions.\n",
    "\n",
    "### A/B testign stages\n",
    "\n",
    "A/B testing typically involves three stages as shown in the figure below.\n",
    "\n",
    "| ![simple-linear-regression](../../../imgs/statistics/hypothesis_testing/ab_testing_stages.png) |\n",
    "|:--:|\n",
    "| **Figure 1: Stages of A/B testing.**|\n",
    "\n",
    "Let's briefly outline what is happening in every stage.\n",
    "\n",
    "#### Design statge\n",
    " \n",
    "In this stage we need to decide how many measurement to record, and which metric or metrics we want to evaluate. Typically, we want to take as many measurements as possible, a process called **replication**. Replication is needed in order to reduce the **natural variation** in the final estimate of the selected business metrics. Variation is both unpredictable and out of our control.\n",
    "By taking a high enough number of measurement, we ensure that the variation of these is neigher too high nor too low.\n",
    "A/B testing has many nuances, see [section @sec-pitfalls-ab-testing]. \n",
    " \n",
    "#### Take measurements stage\n",
    "\n",
    "In this stage we measure the metrics we agreed upon in the previous stage. Notice however that we need to be careful and measure only the effect of switching from version A to version B. This can be done by using **randomizaton**. Randomization is essential in order to inadvertently include the impact of other factors that affect may affect the  business metric; e.g. time of day, user demographics, location of a data center e.t.c.\n",
    "\n",
    "However, when taking meauserements, we need to look out for sampling bias i.e. taking a measurement under different conditions will consistently yield different results.  When the bias is applied differently and consistently to the two versions of the system being compared, we call it **confounder bias**.  As you can understand , confounder bias can lead to incorrect decisions about whether to make changes to out system. Randomization is a method  we can use in order to remove confounder bias.\n",
    "\n",
    "#### Analysis stage\n",
    "\n",
    "The final stage of A/B testing is the analysis stage. In this stage we analyse the measurements using various statistical techniques including hypothesis testing.\n"
   ]
  },
  {
   "cell_type": "markdown",
   "id": "17799c27-d385-4997-8eae-88c981e3836c",
   "metadata": {},
   "source": [
    "### Ptifalls with A/B tesing {#sec-pitfalls-ab-testing}"
   ]
  },
  {
   "cell_type": "markdown",
   "id": "de16df08-5df4-4c6a-a596-8ec7be7470d2",
   "metadata": {},
   "source": [
    "Let's now discuss some of the pitfalls of A/B testing that we need to look out for.\n",
    "\n",
    "#### Testing an unclear hypothesis\n",
    "\n",
    "When using A/B testing is essential that we have a clear hypothesis to work with.\n",
    "A clear hypothesis helps us determine which metrics to measure and analyze. A clear hypothesis\n",
    "to an extend will dictate some if not all of the metrics that we need to measure.\n",
    "\n",
    "#### Neglecting seasonality\n",
    "\n",
    "Use behavior can change depending on the season. Indeed people may take time off or focus on different\n",
    "activities. This seasonality affect the decision making of individuals and of businesses. Thus when\n",
    "we design our A/B testing we need to be aware of any seasonality effects that may creep in our experiment.\n",
    "In addition, it may be altogether better to avoid performing A/B testing during time periods that \n",
    "seasonal effect may affect our results significantly. Typically, performing A/B tests during these periods can result in biased outcomes that may not represent typical user behavior.\n",
    "\n",
    "#### Executing an A/B test without testing your infrastructure\n",
    "\n",
    "On of the difficulties with A/B testing is that we need two maintain two aspects of the feature we want to roll out.\n",
    "Depending on the system this may be easier said than done. In any case, before rolling out an A/B testing experiment, we\n",
    "need to test the functionality properly and ensure that it is  working as expected. This is essential since if we need to bring down\n",
    "the system in order to fix any bugs, then this will affect our resutls because some of the users will have already seen the changes.\n",
    "\n",
    "#### Perform A/B testing without a predetermined duration\n",
    "\n",
    "Performing A/B testing, and perhaps any experiment for this matter, without knowing how long it \n",
    "will last can be problematic. One common problem that arises is the so called _peeking problem_; when you check the intermediate results for statistical significance, make decisions based on them, and end your experiment too early. \n",
    "Thus determing the duration of the experiment allows us to differentiate between intermediate and final results.\n",
    "This does not mean that we need to design experiments that run for long periords. Indeed if we don't have enough users in order to obtain a significant result i.e the test has low statistical power, we don't want to waste weeks waiting for the results. One way to mitigate\n",
    "this problem is  to use an A/B test running time calculator to determine if you have the required statistical power to run your experiment and for how long you should run your experiment. \n",
    "\n",
    "\n",
    "#### Accounting for unaffected users in the experiment\n",
    "\n",
    "Not all users of the system will be affected by the proposed changes. Therefore, accounting for unaffected users\n",
    "may skew the results and making it more difficult to interpret these. In order to avoid such a situation we need to \n",
    "make sure  make sure to filter out users that are not really relevant to your experiment.\n",
    "\n",
    "\n",
    "#### Neglecting negative side-effects of the experiment\n",
    "\n",
    "A/B testing typically examine two variants of the same variable in order to determine which one is better in some sense.\n",
    "However, changes always have  unintended negative side-effects that we need to measure during our experiment. \n",
    "This is essential otherwise we may end up rolling out unwanted changes that result in a worse user experience.\n"
   ]
  },
  {
   "cell_type": "markdown",
   "id": "90a53927-ca2f-4808-827c-38faf093ab58",
   "metadata": {},
   "source": [
    "## Summary"
   ]
  },
  {
   "cell_type": "markdown",
   "id": "f98a635f-93d7-42c5-8cf4-06e8ec07642d",
   "metadata": {},
   "source": [
    "In this chapter, we looked into the details of A/B testing. An A/B test aims at  deciding whether to use version A or version B of\n",
    "a given system, approach or implementation; basically anything we can take measurements of. It has three main stages\n",
    "\n",
    "\n",
    "- Design statge\n",
    "- Take measurements stage\n",
    "- Analysis stage\n",
    "\n",
    "Since we need to take measurements of the two systems, we need to be aware of both variation and bias. We address the latter by taking\n",
    "multiple measuremnts and averaging these. We strive to reduce the variance of these averaged measurements in order to tackle the variation of the\n",
    "individual measurements. We address bias by using randomization i.e. randomly sampling for measurements.\n",
    "\n",
    "A/B testing is a relatively simple framework however it involves an number of nuances that we need to be aware of and act upon these\n",
    "accordingly."
   ]
  },
  {
   "cell_type": "markdown",
   "id": "a49611d9-d960-43a4-9f0b-956c9f346333",
   "metadata": {},
   "source": [
    "## References"
   ]
  },
  {
   "cell_type": "markdown",
   "id": "35bc64be-615f-47e8-bcdb-d9597d5a31ec",
   "metadata": {},
   "source": [
    "1. <a href=\"https://en.wikipedia.org/wiki/A/B_testing\">A/B testing</a>."
   ]
  }
 ],
 "metadata": {
  "kernelspec": {
   "display_name": "Python 3 (ipykernel)",
   "language": "python",
   "name": "python3"
  },
  "language_info": {
   "codemirror_mode": {
    "name": "ipython",
    "version": 3
   },
   "file_extension": ".py",
   "mimetype": "text/x-python",
   "name": "python",
   "nbconvert_exporter": "python",
   "pygments_lexer": "ipython3",
   "version": "3.10.12"
  }
 },
 "nbformat": 4,
 "nbformat_minor": 5
}
