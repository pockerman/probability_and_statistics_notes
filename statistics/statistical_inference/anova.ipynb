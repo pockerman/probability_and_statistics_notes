{
 "cells": [
  {
   "cell_type": "markdown",
   "id": "14905a13-b533-4521-949b-5830c415e37c",
   "metadata": {},
   "source": [
    "# Analysis of Variance (ANOVA)"
   ]
  },
  {
   "cell_type": "markdown",
   "id": "441c5e81-f799-4554-853f-8af81ebf872a",
   "metadata": {},
   "source": [
    "## Overview"
   ]
  },
  {
   "cell_type": "markdown",
   "id": "575108df-d143-40a1-8e2c-9aff831a9bb3",
   "metadata": {},
   "source": [
    "Experiments frquently involve more than two samples. We need therefore methodologies to statistically analyse such experiments.\n",
    "Analysis of variance (ANOVA) is one such a methodology.  In this section we will consider the two most elementary multisample designs; \n",
    "<a href=\"https://en.wikipedia.org/wiki/One-way_analysis_of_variance\">one-way</a> and two-way analysis.\n",
    "\n",
    "Analysis of variance (ANOVA) explores variation among the observed responses. A\n",
    "portion of this variation can be explained by predictors. The rest is attributed to “error.”\n",
    "\n",
    "For example, there exists some variation among the house sale prices on Figure 11.2. Why\n",
    "are the houses priced differently? Well, the price depends on the house area, and bigger\n",
    "houses tend to be more expensive. So, to some extent, variation among prices is explained\n",
    "by variation among house areas. However, two houses with the same area may still have\n",
    "different prices. These differences cannot be explained by the area."
   ]
  },
  {
   "cell_type": "markdown",
   "id": "7cd6c555-6132-49a1-944c-646f7023bfcd",
   "metadata": {},
   "source": [
    "## One-way ANOVA"
   ]
  },
  {
   "cell_type": "markdown",
   "id": "81d4db72-0f70-43e5-8b14-fd89de69b43d",
   "metadata": {},
   "source": [
    "One-way ANOVA is a methodology for  comparing whether two samples' means are significantly different. This is typically done the $F-$distribution. It is called one-way as it requires a numeric response variable $Y$ and one explanatory variable $X$ [1]. The methodology\n",
    "produces an $F-$statistic; the ratio of the variance calculated among the means to the variance within the samples:\n",
    "\n",
    "\\begin{equation}\n",
    "F= \\frac{\\frac{SS_B}{I-1}}{\\frac{SS_W}{I(J-1)}}\n",
    "\\end{equation}\n",
    "\n",
    "where $SS_B$, $I$, $J$, $SS_W$ are\n",
    " To do this, two estimates are made of the population variance. These estimates rely on various assumptions (see below). The ANOVA produces an F-statistic, the ratio of the variance calculated among the means to the variance within the samples. If the group means are drawn from populations with the same mean values, the variance between the group means should be lower than the variance of the samples, following the central limit theorem. A higher ratio therefore implies that the samples were drawn from populations with different mean values.[1]\n",
    " \n",
    "The ANOVA tests the null hypothesis, which states that samples in all groups are drawn from populations with the same mean values."
   ]
  },
  {
   "cell_type": "markdown",
   "id": "c108fc5c-0842-4214-a4c8-dbaca3415c18",
   "metadata": {},
   "source": [
    "The total variation among observed responses is measured by the total sum of squares:\n",
    "This is the variation of yi about their sample mean regardless of our regression model.\n",
    "A portion of this total variation is attributed to predictor X and the regression model"
   ]
  },
  {
   "cell_type": "markdown",
   "id": "bde2d096-8fc5-4e50-9042-6084af762c0f",
   "metadata": {},
   "source": [
    "## ANOVA F-test\n",
    "\n",
    "ANOVA F-test is always one-sided and right-tail because only large values of the F-statistic\n",
    "show a large portion of explained variation and the overall significance of the model."
   ]
  },
  {
   "cell_type": "code",
   "execution_count": null,
   "id": "ef5cbccc-5c45-46e0-814d-779109516d81",
   "metadata": {},
   "outputs": [],
   "source": []
  },
  {
   "cell_type": "code",
   "execution_count": null,
   "id": "d5039e74-23e4-4d27-a7fa-aa226317a631",
   "metadata": {},
   "outputs": [],
   "source": []
  },
  {
   "cell_type": "markdown",
   "id": "e37bc095-a0e5-4b20-80c1-a35d113e509f",
   "metadata": {},
   "source": [
    "## References"
   ]
  },
  {
   "cell_type": "markdown",
   "id": "81dae3f4-763a-476e-9f8c-43cd180fd141",
   "metadata": {},
   "source": [
    "1. <a href=\"https://en.wikipedia.org/wiki/One-way_analysis_of_variance\">One-way analysis of variance</a>"
   ]
  }
 ],
 "metadata": {
  "kernelspec": {
   "display_name": "Python 3 (ipykernel)",
   "language": "python",
   "name": "python3"
  },
  "language_info": {
   "codemirror_mode": {
    "name": "ipython",
    "version": 3
   },
   "file_extension": ".py",
   "mimetype": "text/x-python",
   "name": "python",
   "nbconvert_exporter": "python",
   "pygments_lexer": "ipython3",
   "version": "3.10.12"
  }
 },
 "nbformat": 4,
 "nbformat_minor": 5
}
