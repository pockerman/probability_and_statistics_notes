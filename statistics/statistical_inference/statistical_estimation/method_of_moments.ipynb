{
 "cells": [
  {
   "cell_type": "markdown",
   "id": "6c636f89-dd85-46d0-a573-4550ede212ee",
   "metadata": {},
   "source": [
    "# Method of Moments"
   ]
  },
  {
   "cell_type": "markdown",
   "id": "30080d1e-69ce-4a28-a2b7-b3dd7174ee8b",
   "metadata": {},
   "source": [
    "## Overview"
   ]
  },
  {
   "cell_type": "markdown",
   "id": "1aef834d-d71e-49d3-ab4d-310c32e67b4f",
   "metadata": {},
   "source": [
    "One of the approaches available in order to derive point estimates \n",
    "is the <a href=\"https://en.wikipedia.org/wiki/Method_of_moments_(statistics)\">method of moments</a>. In this approach, we estimate parameters by finding expressions in terms of the lowest possible order moments and the substituting sample moments into the expressions [2].\n",
    "Provided that the know the distribution of the data, the method of moments estimates are usually easy to compute. Therefore they can serve as quick tool\n",
    "for estimating parameters of interst."
   ]
  },
  {
   "cell_type": "markdown",
   "id": "305943d5-b36f-444e-a2f8-51a7df898a57",
   "metadata": {},
   "source": [
    "## Method of moments"
   ]
  },
  {
   "cell_type": "markdown",
   "id": "2045e624-6a41-4976-ba3f-b7844b9db015",
   "metadata": {},
   "source": [
    "Recall that the $k-th$ moment of a variable $X$ is given by\n",
    "\n",
    "$$\\mu_k = E\\left[X^k\\right]$$\n",
    "\n",
    "The $k-th$ sample moment is given by\n",
    "\n",
    "$$m_k = \\frac{1}{n}\\sum_i X_{i}^{k}$$\n",
    "\n",
    "The method of moments starts by expressing the population moments as functions of the parameters of interest [1]. \n",
    "We then set these expressions equal to the sample moments. We form as many equations as the number of parameters we want to estimatehe. \n",
    "The solution of these equations are the estimates of the parameters. Let's see some examples.\n",
    "\n",
    "\n",
    "----\n",
    "**Example 1**\n",
    "\n",
    "The first moment i.e. $k=1$ is the mean. For the Poisson distribution then this will be the $\\lambda$ parameter i.e. $\\lambda=E\\left[X\\right]$\n",
    "The first sample moment is\n",
    "\n",
    "$$m_1 = \\frac{1}{n}\\sum_i X_{i}$$\n",
    "\n",
    "\n",
    "Hence, according to the method of moments\n",
    "\n",
    "$$\\lambda = m_1 =  \\frac{1}{n}\\sum_i X_{i}$$\n",
    "\n",
    "----\n"
   ]
  },
  {
   "cell_type": "markdown",
   "id": "d89fd0a1-e60a-4864-99e5-db29d560c2ea",
   "metadata": {},
   "source": [
    "### Central moments"
   ]
  },
  {
   "cell_type": "markdown",
   "id": "651fe86e-f384-4fa0-b109-59a8974d07ac",
   "metadata": {},
   "source": [
    "Similar to the idea of the $k-th$ moment we have the idea of the $k-th$  central moment. This is defined as\n",
    "\n",
    "$$\\mu_{k}^{c} = E\\left(X - \\mu_1\\right)^k$$\n",
    "\n",
    "Notice that the definition above uses $\\mu_1$. That is central moments are computed after centralizing the data i.e. subtracting the mean.\n",
    "Accordingly, the $k-th$ central sample moment is given by\n",
    "\n",
    "$$m_{k}^{c} = \\frac{1}{n}\\sum_i \\left( X_{i} - m_1\\right)^{k}$$\n",
    "\n",
    "\n",
    "----\n",
    "**Example 2**\n",
    "\n",
    "Suppose we know the mean $\\mu$ of a normal distribution. We want to estimate the variance $\\sigma^2$.\n",
    "We already know that the first moment does not contain $\\sigma^2$ so we need to look higher moments.\n",
    "The second central moment is given by\n",
    "\n",
    "$$\\mu_{2}^{c} = E\\left(X - \\mu_1\\right)^2$$\n",
    "\n",
    "we will equate this, with the sample second central moment\n",
    "\n",
    "$$\\mu_{2}^{c} = m_{2}^{c} = \\frac{1}{n}\\sum_i \\left( X_{i} - m_1\\right)^{2}$$"
   ]
  },
  {
   "cell_type": "markdown",
   "id": "4ccfeb67-ce95-4d45-85ad-a5e61c09882a",
   "metadata": {},
   "source": [
    "## Summary"
   ]
  },
  {
   "cell_type": "markdown",
   "id": "35e74a42-5e54-446d-bfb4-2dcf62649645",
   "metadata": {},
   "source": [
    "In this section, we looked into the method of moments for estimating population parameters. In this approach,\n",
    "we express the population moments as functions of the parameters of interest [1]. \n",
    "We then set these expressions equal to the sample moments. We form as many equations as the number of parameters we want to estimatehe. \n",
    "The solution of these equations are the estimates of the parameters.\n",
    "\n",
    "Provided that the know the distribution of the data, the method of moments estimates are usually easy to compute. Therefore they can serve as quick tool\n",
    "for estimating parameters of interst."
   ]
  },
  {
   "cell_type": "markdown",
   "id": "4cb8a5cc-b6ed-4713-b1e7-ff5f2d329d5a",
   "metadata": {},
   "source": [
    "## References"
   ]
  },
  {
   "cell_type": "markdown",
   "id": "d31bf5b3-7cc2-488d-b8a9-5635d3c1c793",
   "metadata": {},
   "source": [
    "1. <a href=\"https://en.wikipedia.org/wiki/Method_of_moments_(statistics)\">Method of moments</a>\n",
    "2. John A. Rice, _Mathematical Statistics and Data Analysis_, 2nd Edition, Duxbury Press."
   ]
  }
 ],
 "metadata": {
  "kernelspec": {
   "display_name": "Python 3 (ipykernel)",
   "language": "python",
   "name": "python3"
  },
  "language_info": {
   "codemirror_mode": {
    "name": "ipython",
    "version": 3
   },
   "file_extension": ".py",
   "mimetype": "text/x-python",
   "name": "python",
   "nbconvert_exporter": "python",
   "pygments_lexer": "ipython3",
   "version": "3.10.12"
  }
 },
 "nbformat": 4,
 "nbformat_minor": 5
}
