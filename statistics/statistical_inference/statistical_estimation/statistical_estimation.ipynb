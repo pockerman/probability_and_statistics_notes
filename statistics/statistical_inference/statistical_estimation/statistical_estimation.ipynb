{
 "cells": [
  {
   "cell_type": "markdown",
   "id": "3eca581e-e59a-4ba2-810e-4e8f15e3bad4",
   "metadata": {},
   "source": [
    "# Statistical Estimation"
   ]
  },
  {
   "cell_type": "markdown",
   "id": "9c661c8c-5821-4ef0-aee0-e5824c6dfe6c",
   "metadata": {},
   "source": [
    "In this section of the notes we will dive into the statistical estimation methodologies. Recall from the EDA chapter,\n",
    "that we have used functions of the data to estimate population parameters e.g. the sample mean $\\bar{x}$ to\n",
    "estimate the population mean $\\mu$. This is a type of a point estimate. How this estimate came about?\n",
    "\n",
    "We will see three common techniques to obtain point estimates. Namely:\n",
    "\n",
    "- <a href=\"https://en.wikipedia.org/wiki/Method_of_moments_(statistics)\">Method of moments</a>\n",
    "- <a href=\"https://en.wikipedia.org/wiki/Maximum_likelihood_estimation\">Maximum likelihood estimation</a>\n",
    "- <a href=\"https://en.wikipedia.org/wiki/Maximum_a_posteriori_estimation\">Maximum aposteriori probability estimate</a>\n",
    "\n",
    "We will also discuss some properties that we require that these point estimates to satisfy in order to be useful in practice.\n",
    "Then we will look into confidence intervals and how to construct these. "
   ]
  }
 ],
 "metadata": {
  "kernelspec": {
   "display_name": "Python 3 (ipykernel)",
   "language": "python",
   "name": "python3"
  },
  "language_info": {
   "codemirror_mode": {
    "name": "ipython",
    "version": 3
   },
   "file_extension": ".py",
   "mimetype": "text/x-python",
   "name": "python",
   "nbconvert_exporter": "python",
   "pygments_lexer": "ipython3",
   "version": "3.10.12"
  }
 },
 "nbformat": 4,
 "nbformat_minor": 5
}
