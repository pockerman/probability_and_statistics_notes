{
 "cells": [
  {
   "cell_type": "markdown",
   "id": "290ba982-9b4e-4245-8ed9-1cdd62e4bb6f",
   "metadata": {},
   "source": [
    "# Principal Component Analysis"
   ]
  },
  {
   "cell_type": "markdown",
   "id": "440432ef-4258-4af2-9fc0-c329bf780794",
   "metadata": {},
   "source": [
    "## Overview"
   ]
  },
  {
   "cell_type": "markdown",
   "id": "db3b1502-dde5-4361-b3e0-d0719cfda245",
   "metadata": {},
   "source": [
    "In this section we will introduce on of the most commonly used dimensionality \n",
    "reduction techniques namely principal component analysis often abbreviated as PCA"
   ]
  },
  {
   "cell_type": "markdown",
   "id": "bd9d78c3-02d0-4000-85d9-6cde708d8b29",
   "metadata": {},
   "source": [
    "##  Principal Component Analysis\n"
   ]
  },
  {
   "cell_type": "markdown",
   "id": "ecb76e32-a76e-44f6-a442-cbff1689c9df",
   "metadata": {},
   "source": [
    "In summary, the PCA algorithm works as follows:\n",
    "\n",
    "1. Centralize the given data i.e. subtract the mean from each data point.\n",
    "2. Compute principal components. \n",
    "3. Take the matrix product between the centralized data and the principal components. "
   ]
  },
  {
   "cell_type": "markdown",
   "id": "2dd9a0c7-5cb3-45ea-8997-fa5804a7ad04",
   "metadata": {},
   "source": [
    "Let's use Python to perform PCA"
   ]
  },
  {
   "cell_type": "code",
   "execution_count": 1,
   "id": "476533a5-3954-4bba-adfb-53baa8b0c83a",
   "metadata": {
    "tags": []
   },
   "outputs": [],
   "source": [
    "from sklearn.decomposition import PCA"
   ]
  },
  {
   "cell_type": "code",
   "execution_count": 2,
   "id": "e2898896-f09c-4877-9a8b-5a3bceeef2b5",
   "metadata": {
    "tags": []
   },
   "outputs": [],
   "source": [
    "pca_object = PCA()"
   ]
  },
  {
   "cell_type": "code",
   "execution_count": null,
   "id": "524bee0c-4b8d-4f06-82b1-19ef9a037e54",
   "metadata": {},
   "outputs": [],
   "source": [
    "pca_transformed_data = pca_object.fit_transform(measurements.T)\n",
    "plt.scatter(pca_transformed_data[:,0], pca_transformed_data[:,1])\n",
    "plt.axhline(0, c='black')\n",
    "plt.axvline(0, c='black')\n",
    "plt.axis('equal')\n",
    "plt.show()"
   ]
  },
  {
   "cell_type": "markdown",
   "id": "8818337d-fa13-4fbc-9b02-8dd713db5bbd",
   "metadata": {},
   "source": [
    "## Summary"
   ]
  },
  {
   "cell_type": "markdown",
   "id": "53d0e5d7-27c9-4f5d-846f-b534d4199707",
   "metadata": {},
   "source": [
    "## References"
   ]
  },
  {
   "cell_type": "code",
   "execution_count": null,
   "id": "071980b9-e234-4ad2-89e8-45e7052e0684",
   "metadata": {},
   "outputs": [],
   "source": []
  }
 ],
 "metadata": {
  "kernelspec": {
   "display_name": "Python 3 (ipykernel)",
   "language": "python",
   "name": "python3"
  },
  "language_info": {
   "codemirror_mode": {
    "name": "ipython",
    "version": 3
   },
   "file_extension": ".py",
   "mimetype": "text/x-python",
   "name": "python",
   "nbconvert_exporter": "python",
   "pygments_lexer": "ipython3",
   "version": "3.10.12"
  }
 },
 "nbformat": 4,
 "nbformat_minor": 5
}
