{
 "cells": [
  {
   "cell_type": "markdown",
   "id": "87632d39-cb21-42dd-b7d9-1eb0b87efbfb",
   "metadata": {},
   "source": [
    "# Simulation Methods\n"
   ]
  },
  {
   "cell_type": "markdown",
   "id": "0e7b4d34-fe31-402a-8b07-e19e990116c4",
   "metadata": {},
   "source": [
    "Simulation methods play a key role in modern computational statistics. In this section, we discuss some \n",
    "common simulation methods frequently used in statistics. Namely, Monte Carlo integration, Metropolis-Hastings algorithm \n",
    "and importance sampling. We begin however, with the <a href=\"https://en.wikipedia.org/wiki/Bootstrapping_(statistics)\">boostrap algorithm</a>."
   ]
  },
  {
   "cell_type": "markdown",
   "id": "9bd71bcf-3f45-48af-ae87-187c172ccb2d",
   "metadata": {},
   "source": [
    "## References"
   ]
  },
  {
   "cell_type": "code",
   "execution_count": null,
   "id": "f21f9c0f-5157-49ea-8725-efe783731d63",
   "metadata": {},
   "outputs": [],
   "source": []
  }
 ],
 "metadata": {
  "kernelspec": {
   "display_name": "Python 3 (ipykernel)",
   "language": "python",
   "name": "python3"
  },
  "language_info": {
   "codemirror_mode": {
    "name": "ipython",
    "version": 3
   },
   "file_extension": ".py",
   "mimetype": "text/x-python",
   "name": "python",
   "nbconvert_exporter": "python",
   "pygments_lexer": "ipython3",
   "version": "3.10.6"
  }
 },
 "nbformat": 4,
 "nbformat_minor": 5
}
