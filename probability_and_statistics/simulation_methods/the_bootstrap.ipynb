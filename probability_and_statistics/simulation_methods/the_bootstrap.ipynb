{
 "cells": [
  {
   "cell_type": "markdown",
   "metadata": {},
   "source": [
    "# The Bootstrap"
   ]
  },
  {
   "cell_type": "markdown",
   "metadata": {},
   "source": [
    "## Overview"
   ]
  },
  {
   "cell_type": "markdown",
   "metadata": {},
   "source": [
    "In this section we introduce a commonly used data simulation technique. Specifically, we will see how to generate data samples from a sole sample. \n",
    "This technique is called <a href=\"https://en.wikipedia.org/wiki/Bootstrapping_(statistics)\">bootstrap</a>. The boostrap was published by <a href=\"https://en.wikipedia.org/wiki/Bradley_Efron\">Bradley Efron</a>  in 1979.\n",
    "It is a mehod for computing standard errors and computing confidence intervals [2]. Overall, it is a resampling technique\n",
    "and as such it can be used to estimate statistics on a population by sampling over a dataset with replacement."
   ]
  },
  {
   "cell_type": "markdown",
   "metadata": {},
   "source": [
    "## Bootstrap"
   ]
  },
  {
   "cell_type": "markdown",
   "metadata": {},
   "source": [
    "Bootstrap refers to a methodology whereby we use resampled data in order to perform statistical inference. \n",
    "Each resampled dataset is called a **bootstrap sample**. Furthermore, a **bootstrap replicate** is the value of the summary statistic computed from the bootstrap sample. Let's see how this can be done. "
   ]
  },
  {
   "cell_type": "markdown",
   "metadata": {},
   "source": [
    "Assume that we want to know some statistic of the general population under study. This could be the mean value or the median or any other \n",
    "statistic of interest. Let's assume that we are interested in the mean value. We know that an ubiased estimate of the population mean is the sample mean \n",
    "$\\bar{x}$"
   ]
  },
  {
   "cell_type": "markdown",
   "metadata": {},
   "source": [
    "$$\\bar{x}=\\frac{1}{n}\\sum_i x_i$$"
   ]
  },
  {
   "cell_type": "markdown",
   "metadata": {},
   "source": [
    "In this scenario, we also have an estimate for the standard error, $\\hat{se}$ given by [2],"
   ]
  },
  {
   "cell_type": "markdown",
   "metadata": {},
   "source": [
    "$$\\hat{se} = \\frac{\\hat{\\sigma}^2}{n}$$"
   ]
  },
  {
   "cell_type": "markdown",
   "metadata": {},
   "source": [
    "Boostrap is not of a lot of help with this simple example, however in many cases variance estimation is not as easy as for the case of the mean.\n",
    "This is where simulation and boostrap in particular step in. The idea behind boostrap is that we use resampling over the original dataset \n",
    "in order to estimate the quantity of interest."
   ]
  },
  {
   "cell_type": "markdown",
   "metadata": {},
   "source": [
    "### Sampling with replacement"
   ]
  },
  {
   "cell_type": "markdown",
   "metadata": {},
   "source": [
    "Sampling with replacement is a procedure where we sample from a given dataset by replacing the sampled data value back in it. \n",
    "This means that when samplig with replacement, it is possible that a value will be selected multiple times. When we discussed sampling techniques, we saw\n",
    "how to use Python and sample with replacement. In any case, this is illustrated below. "
   ]
  },
  {
   "cell_type": "code",
   "execution_count": 1,
   "metadata": {},
   "outputs": [],
   "source": [
    "import numpy as np\n",
    "import matplotlib.pyplot as plt\n",
    "import seaborn as sns"
   ]
  },
  {
   "cell_type": "code",
   "execution_count": 2,
   "metadata": {},
   "outputs": [],
   "source": [
    "np.random.seed(42)\n",
    "sns.set()"
   ]
  },
  {
   "cell_type": "code",
   "execution_count": 3,
   "metadata": {},
   "outputs": [],
   "source": [
    "sample = np.random.normal(0.0, 1.0, size=30)\n",
    "bootstrap_sample = np.random.choice(sample, size=len(sample), replace=True)"
   ]
  },
  {
   "cell_type": "markdown",
   "metadata": {},
   "source": [
    "This is as simple as using ```replace=True```.  Now let's go back to the boostrap."
   ]
  },
  {
   "cell_type": "markdown",
   "metadata": {},
   "source": [
    "### Boostrap for the mean"
   ]
  },
  {
   "cell_type": "markdown",
   "metadata": {},
   "source": [
    "Although we argued above that obtaining an estimate for the population mean is rather easy, let's use boostrap to do that. In the code\n",
    "below, we obtain a sample of size $n=30$ from the normal distribution. Then we resaple a number of times over it.\n",
    "For each boostrap sample, we compute the statistic of interest and store it in the ```means``` array."
   ]
  },
  {
   "cell_type": "code",
   "execution_count": 4,
   "metadata": {},
   "outputs": [],
   "source": [
    "sample = np.random.normal(0.0, 1.0, size=30)\n",
    "means = []\n",
    "for itr in range(10000):\n",
    "    bootstrap_sample = np.random.choice(sample, size=len(sample), replace=True)\n",
    "    \n",
    "    # compute the bootstrap replicate and\n",
    "    # store it in the sample means array\n",
    "    means.append(np.mean(bootstrap_sample))\n",
    " "
   ]
  },
  {
   "cell_type": "markdown",
   "metadata": {},
   "source": [
    "Let's also plot the empirical distribution of the obtained estimates."
   ]
  },
  {
   "cell_type": "code",
   "execution_count": 5,
   "metadata": {},
   "outputs": [
    {
     "data": {
      "image/png": "[encoded data removed]",
      "text/plain": [
       "<Figure size 432x288 with 1 Axes>"
      ]
     },
     "metadata": {
      "needs_background": "light"
     },
     "output_type": "display_data"
    }
   ],
   "source": [
    "# Generate plot\n",
    "_ = plt.hist(means, bins=30)\n",
    "\n",
    "# Label the axes\n",
    "_ = plt.xlabel(\"mean\")\n",
    "_ = plt.ylabel(\"frequency\")\n",
    "\n",
    "\n",
    "# Display the plot\n",
    "plt.show()"
   ]
  },
  {
   "cell_type": "markdown",
   "metadata": {},
   "source": [
    "We know that the population has mean zero but the obtained empirical distribution seems slighlty shifted. Increasing the sample size\n",
    "should improve the situation. In any case, below we also compute the standard error."
   ]
  },
  {
   "cell_type": "code",
   "execution_count": 6,
   "metadata": {},
   "outputs": [
    {
     "data": {
      "text/plain": [
       "'Standard error for means=0.0019166307240398456'"
      ]
     },
     "execution_count": 6,
     "metadata": {},
     "output_type": "execute_result"
    }
   ],
   "source": [
    "se = np.sqrt(np.var(means)/float(len(means)))\n",
    "f\"Standard error for means={se}\"\n",
    "             "
   ]
  },
  {
   "cell_type": "markdown",
   "metadata": {},
   "source": [
    "However, obtaining a large sample sometimes is simply not possible. How can we obtain an estimate about the population mean? We can use sampling with replacement to compensate for the luck of data. This is easy with Python; use ```np.random.choice``` to sample with replacement from the original sample."
   ]
  },
  {
   "cell_type": "markdown",
   "metadata": {},
   "source": [
    "### Bootstrap confidence intervals"
   ]
  },
  {
   "cell_type": "markdown",
   "metadata": {},
   "source": [
    "Previously, we saw how to use sampling with replacement and get an estimate of the needed statistic. We called this value the bootstrap replicate. Now the questions arises; how precise is the estimate we obtained? Recall that a confidence interval expresses precision.  In particular, a confidence interval expresses a range of plausible values for the population parameter we want to estimate."
   ]
  },
  {
   "cell_type": "markdown",
   "metadata": {},
   "source": [
    "There are several ways to construct boostrap confidence intervals [2]."
   ]
  },
  {
   "cell_type": "markdown",
   "metadata": {},
   "source": [
    "- The normal interval\n",
    "- Pivotal interval\n",
    "- Boostrap percentile interval"
   ]
  },
  {
   "cell_type": "markdown",
   "metadata": {},
   "source": [
    "For an estimator $\\hat{\\theta}$, the normal interval involves the boostrap estimate for the standard error and its given by"
   ]
  },
  {
   "cell_type": "markdown",
   "metadata": {},
   "source": [
    "$$\\hat{\\theta} \\pm z_{\\alpha/2}\\hat{se}_{boot}$$"
   ]
  },
  {
   "cell_type": "markdown",
   "metadata": {},
   "source": [
    "This will be accurate as long as the distribution of  $\\hat{\\theta}$ follows the normal distribution [2]."
   ]
  },
  {
   "cell_type": "markdown",
   "metadata": {},
   "source": [
    "The pivotal interval is defined as, [2],"
   ]
  },
  {
   "cell_type": "markdown",
   "metadata": {},
   "source": [
    "$$(2\\hat{\\theta} - \\hat{\\theta^{*}_{1-\\alpha/2}},2\\hat{\\theta} - \\hat{\\theta^{*}_{\\alpha/2}})$$"
   ]
  },
  {
   "cell_type": "markdown",
   "metadata": {},
   "source": [
    "where $\\hat{\\theta^{*}}$ is a boostrap replicate of $\\hat{\\theta}$."
   ]
  },
  {
   "cell_type": "markdown",
   "metadata": {},
   "source": [
    "The percentile interval is defined as, [2],"
   ]
  },
  {
   "cell_type": "markdown",
   "metadata": {},
   "source": [
    "$$(\\hat{\\theta^{*}_{\\alpha/2}}, \\hat{\\theta^{*}_{1-\\alpha/2}})$$"
   ]
  },
  {
   "cell_type": "markdown",
   "metadata": {},
   "source": [
    "Let's compute a $95\\%$ confidence interval for the mean. We can do this using ```np.percentile``` as follows"
   ]
  },
  {
   "cell_type": "code",
   "execution_count": 29,
   "metadata": {},
   "outputs": [
    {
     "name": "stdout",
     "output_type": "stream",
     "text": [
      "95% confidence interval for the mean [-0.0622946   0.63267489]\n"
     ]
    }
   ],
   "source": [
    "print(f\"95% confidence interval for the mean {np.percentile(sample_means, [2.5, 97.5])}\")"
   ]
  },
  {
   "cell_type": "markdown",
   "metadata": {},
   "source": [
    "## Summary"
   ]
  },
  {
   "cell_type": "markdown",
   "metadata": {},
   "source": [
    "In this section we reviewed the bootstrap methodology. It allows us to generate samples from a given sample. We can use bootstrap when there is little data available in order to generate more data for us. Furthermore, it can be used to estimate population parameters by Monte Carlo simulations when it is too difficult to do it analytically. We will see the latter in the next section."
   ]
  },
  {
   "cell_type": "markdown",
   "metadata": {},
   "source": [
    "## References"
   ]
  },
  {
   "cell_type": "markdown",
   "metadata": {},
   "source": [
    "1. <a href=\"https://en.wikipedia.org/wiki/Bootstrapping_(statistics)\">Bootstrapping (statistics)</a>\n",
    "2. Larry Wasserman, _All of Statistics. A Concise Course in Statistical Inference_, Springer 2003."
   ]
  }
 ],
 "metadata": {
  "kernelspec": {
   "display_name": "Python 3 (ipykernel)",
   "language": "python",
   "name": "python3"
  },
  "language_info": {
   "codemirror_mode": {
    "name": "ipython",
    "version": 3
   },
   "file_extension": ".py",
   "mimetype": "text/x-python",
   "name": "python",
   "nbconvert_exporter": "python",
   "pygments_lexer": "ipython3",
   "version": "3.10.6"
  }
 },
 "nbformat": 4,
 "nbformat_minor": 4
}
