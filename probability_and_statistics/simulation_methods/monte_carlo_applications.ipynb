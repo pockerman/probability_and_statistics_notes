{
 "cells": [
  {
   "cell_type": "markdown",
   "metadata": {},
   "source": [
    "# Monte Carlo Applications"
   ]
  },
  {
   "cell_type": "markdown",
   "metadata": {},
   "source": [
    "## Contents\n",
    "* [Acknowledgements](#ackw)\n",
    "* [Overview](#overview) \n",
    "* [Monte Carlo methods](#ekf)\n",
    "    * [Example: Tossing a coin 4 times](#test_case_1)\n",
    "    * [Areas of applicability](#test_case_2)\n",
    "        * [Estimate probabilities](#test_case_2_1)\n",
    "    * [Size of $N$](#test_case_3)\n",
    "        * [Example: Shared computer](#test_case_3_1)\n",
    "    * [Example: New software release](#test_case_4)\n",
    "* [References](#refs)"
   ]
  },
  {
   "cell_type": "markdown",
   "metadata": {},
   "source": [
    "## <a name=\"overview\"></a> Overview"
   ]
  },
  {
   "cell_type": "markdown",
   "metadata": {},
   "source": [
    "This notebook introduces the <a href=\"https://en.wikipedia.org/wiki/Monte_Carlo_method\"> Monte Carlo</a> method or MC for short. Monte Carlo methods are mostly used for the computation of probabilities, expected values,\n",
    "and other distribution characteristics [1]. \n"
   ]
  },
  {
   "cell_type": "markdown",
   "metadata": {},
   "source": [
    "## <a name=\"overview\"></a> Monte Carlo methods"
   ]
  },
  {
   "cell_type": "markdown",
   "metadata": {},
   "source": [
    "The  general idea behind MC methods is the sampling of a process in order to determine some statistical properties. \n",
    "Recall that probability can be defined as a long-run proportion. With the help of random number generators, computers can actually simulate a long run. Then, the probability can be estimated via the  observed frequency [1]. The longer the run is simulated, the more accurate result is obtained."
   ]
  },
  {
   "cell_type": "markdown",
   "metadata": {},
   "source": [
    "Consider for example the case where we toss a coin four times. We want to calculate the probability that the outcome will be 3 heads and 1 tail. We know how to calculate this probability using the formula below"
   ]
  },
  {
   "cell_type": "markdown",
   "metadata": {},
   "source": [
    "$$P(3H) = \\begin{pmatrix}4 \\\\ 3\\end{pmatrix} \\left(\\frac{1}{2}\\right)^3\\left(1 - \\frac{1}{2}\\right)^1 = \\frac{1}{4}$$"
   ]
  },
  {
   "cell_type": "markdown",
   "metadata": {},
   "source": [
    "However, we can simulation to calculate this as the next example shows."
   ]
  },
  {
   "cell_type": "markdown",
   "metadata": {},
   "source": [
    "### <a name=\"test_case_1\"></a> Example: Tossing a coin 4 times"
   ]
  },
  {
   "cell_type": "code",
   "execution_count": 1,
   "metadata": {},
   "outputs": [],
   "source": [
    "from random import randint"
   ]
  },
  {
   "cell_type": "code",
   "execution_count": 6,
   "metadata": {},
   "outputs": [],
   "source": [
    "def simulate(nsims):\n",
    "    success = 0\n",
    "    \n",
    "    for i in range(nsims):\n",
    "        if randint(0,1) + randint(0,1) + randint(0,1) + randint(0,1) == 3:\n",
    "            success += 1\n",
    "            \n",
    "    print(\"Number of simulations: \",nsims)\n",
    "    print(\"Number of success: \", success)\n",
    "    \n",
    "    "
   ]
  },
  {
   "cell_type": "code",
   "execution_count": 7,
   "metadata": {},
   "outputs": [
    {
     "name": "stdout",
     "output_type": "stream",
     "text": [
      "Number of simulations:  10\n",
      "Number of success:  2\n",
      "Number of simulations:  100\n",
      "Number of success:  21\n",
      "Number of simulations:  1000\n",
      "Number of success:  262\n",
      "Number of simulations:  10000\n",
      "Number of success:  2414\n",
      "Number of simulations:  100000\n",
      "Number of success:  25097\n"
     ]
    }
   ],
   "source": [
    "simulate(10)\n",
    "simulate(100)\n",
    "simulate(1000)\n",
    "simulate(10000)\n",
    "simulate(100000)"
   ]
  },
  {
   "cell_type": "markdown",
   "metadata": {},
   "source": [
    "As the number of iterations increases the algorithm converges towards the correct answer of 0.25."
   ]
  },
  {
   "cell_type": "markdown",
   "metadata": {},
   "source": [
    "However, we need more than that in order to convence ourselves for the effort. Let's see some areas of application of the MCM."
   ]
  },
  {
   "cell_type": "markdown",
   "metadata": {},
   "source": [
    "### <a name=\"test_case_2\"></a> Areas of applicability"
   ]
  },
  {
   "cell_type": "markdown",
   "metadata": {},
   "source": [
    "MC moethos have various fields of application. Just to mention a few, see also [1], forecasting, percolation, queuing and Markov chain MC."
   ]
  },
  {
   "cell_type": "markdown",
   "metadata": {},
   "source": [
    "Below, we discuss one of the most basic MC applications namely probability estimation."
   ]
  },
  {
   "cell_type": "markdown",
   "metadata": {},
   "source": [
    "#### <a name=\"test_case_2_1\"></a> Estimate probabilities"
   ]
  },
  {
   "cell_type": "markdown",
   "metadata": {},
   "source": [
    "The most basic application of MC methods is in the estiamtion of probabilities. Recall, that probabilities can be viewed as long-run proportions. Thus, we can generate a long-run Of experiments and compute the proportion of times when our event occured. "
   ]
  },
  {
   "cell_type": "markdown",
   "metadata": {},
   "source": [
    "Assume that the random variable $X$  follows the probability distribution $F$. Then we can compute the probability $P(X \\in A)$, for some set $A$, via the formula"
   ]
  },
  {
   "cell_type": "markdown",
   "metadata": {},
   "source": [
    "$$P(X \\in A) = \\frac{\\text{number of} ~ X_i \\in A}{N}$$"
   ]
  },
  {
   "cell_type": "markdown",
   "metadata": {},
   "source": [
    "where $N$ is the size of  a  MC  experiment,  $X_i$ are  generated  random variables with the same distribution as $X$. Note that this is just an estimation and following common statistic literature we should  instead write\n"
   ]
  },
  {
   "cell_type": "markdown",
   "metadata": {},
   "source": [
    "$$\\hat{P}(X \\in A) = \\frac{\\text{number of} ~ X_i \\in A}{N}$$"
   ]
  },
  {
   "cell_type": "markdown",
   "metadata": {},
   "source": [
    "Whenever we deal with an estimation method, we should ask how much accurate this is. In order to answer this question we must compute $E[\\hat{P}]$ and the $Var[\\hat{P}]$ [1]. The number of $X_i$ that fall within the set $A$ follows the <a href=\"https://en.wikipedia.org/wiki/Binomial_distribution\">Binomial distribution</a> with parameters $N,p$.  Thus, "
   ]
  },
  {
   "cell_type": "markdown",
   "metadata": {},
   "source": [
    "$$E[\\hat{P}] = \\frac{1}{N}Np = p$$"
   ]
  },
  {
   "cell_type": "markdown",
   "metadata": {},
   "source": [
    "$$Var[\\hat{P}] = \\frac{1}{N^2}Npq = \\frac{1}{N}pq$$"
   ]
  },
  {
   "cell_type": "markdown",
   "metadata": {},
   "source": [
    "From the variance formula, we see that the variance, i.e. the error, of the estimator decreases with $N$. We also see that our estimator is an <a href=\"https://en.wikipedia.org/wiki/Bias_of_an_estimator\">unbiased estimator</a>."
   ]
  },
  {
   "cell_type": "markdown",
   "metadata": {},
   "source": [
    "### <a name=\"test_case_3\"></a> Size of $N$"
   ]
  },
  {
   "cell_type": "markdown",
   "metadata": {},
   "source": [
    "The question that pops up naturally is how large $N$ should be for a given error margin $\\epsilon$. Let's how we can do this. To start with, the variable, see [1], the following variable follows the standard normal distribution:"
   ]
  },
  {
   "cell_type": "markdown",
   "metadata": {},
   "source": [
    "$$\\frac{\\hat{p}-p}{\\sqrt{\\frac{p(1-p)}{N}}} \\sim N(0,1)$$"
   ]
  },
  {
   "cell_type": "markdown",
   "metadata": {},
   "source": [
    "therefore, "
   ]
  },
  {
   "cell_type": "markdown",
   "metadata": {},
   "source": [
    "$$P(|\\hat{p}-p| > \\epsilon) \\approx 2 \\Phi\\left(- \\frac{\\epsilon \\sqrt{N}}{\\sqrt{p(1-p)}}\\right)$$"
   ]
  },
  {
   "cell_type": "markdown",
   "metadata": {},
   "source": [
    "This is simply the probability of the error exceeding $\\epsilon$. We can design a MC simulation that attains this accuracy by choosing $N$ so that the error does not exceed $\\epsilon$ with probability $(1-\\alpha)$ i.e. we will find $N$ so that"
   ]
  },
  {
   "cell_type": "markdown",
   "metadata": {},
   "source": [
    "$$P(|\\hat{p}-p| > \\epsilon) \\leq \\alpha$$"
   ]
  },
  {
   "cell_type": "markdown",
   "metadata": {},
   "source": [
    "Assume that we use an intelligent guess for $p$ say $\\bar{p}$. Then"
   ]
  },
  {
   "cell_type": "markdown",
   "metadata": {},
   "source": [
    "$$2 \\Phi\\left(- \\frac{\\epsilon \\sqrt{N}}{\\sqrt{\\bar{p}(1-\\bar{p})}}\\right) \\leq \\alpha$$"
   ]
  },
  {
   "cell_type": "markdown",
   "metadata": {},
   "source": [
    "solving this inequality leads to:"
   ]
  },
  {
   "cell_type": "markdown",
   "metadata": {},
   "source": [
    "$$N \\geq \\bar{p}(1-\\bar{p})\\left(\\frac{z_{\\alpha/2}}{\\epsilon}\\right)^2$$"
   ]
  },
  {
   "cell_type": "markdown",
   "metadata": {},
   "source": [
    "Alternatively, we could also bound the term $p(1-p)\\leq 0.25, 0 \\leq p \\leq 1$ and solve"
   ]
  },
  {
   "cell_type": "markdown",
   "metadata": {},
   "source": [
    "$$2 \\Phi\\left(- 2\\epsilon \\sqrt{N}\\right) \\leq \\alpha$$"
   ]
  },
  {
   "cell_type": "markdown",
   "metadata": {},
   "source": [
    "which leads to "
   ]
  },
  {
   "cell_type": "markdown",
   "metadata": {},
   "source": [
    "$$N \\geq 0.25\\left(\\frac{z_{\\alpha/2}}{\\epsilon}\\right)^2$$"
   ]
  },
  {
   "cell_type": "markdown",
   "metadata": {},
   "source": [
    "#### <a name=\"test_case_3_1\"></a> Example: Shared computer"
   ]
  },
  {
   "cell_type": "markdown",
   "metadata": {},
   "source": [
    "This example is edited from example 5.14 from [1]. A supercomputer is shared by 250 independent subscribers. Each day, each subscriber uses\n",
    "the facility with probability 0.3. The number of tasks sent by each active user follows a <a href=\"https://en.wikipedia.org/wiki/Uniform_distribution_(continuous)\">uniform distribution</a> $U(1, 50)$. The time each task takes, follows a uniform distribution with $U(0.01, 1.5)$ in minutes. Tasks are processed consecutively. What is the probability that all the\n",
    "tasks will be processed, that is, the total requested computer time is less than 24 hours?\n",
    "Estimate this probability, attaining the margin of error $\\pm 0.01$ with probability 0.99.\n"
   ]
  },
  {
   "cell_type": "markdown",
   "metadata": {},
   "source": [
    "Assuming that we have in hand an $N$ that satisfies the marginal error, $\\pm 0.01$,  with the given probability, 0.99, we can proceed as follows. For every iteration generate the number of users that are active. This number follows a <a href=\"https://en.wikipedia.org/wiki/Binomial_distribution\">Binomial distribution</a>, $B(n,p)$ where $n=250$ and $p=0.3$. For each active user we generate the number of tasks he is going to submit. This follows a uniform distribution. For each task we compute the time it takes to finish and sum this into a global variable. "
   ]
  },
  {
   "cell_type": "markdown",
   "metadata": {},
   "source": [
    "We can compute $N$ using "
   ]
  },
  {
   "cell_type": "markdown",
   "metadata": {},
   "source": [
    "$$N \\geq 0.25\\left(\\frac{z_{\\alpha/2}}{\\epsilon}\\right)^2$$"
   ]
  },
  {
   "cell_type": "markdown",
   "metadata": {},
   "source": [
    "as we don't have an intelligent guess. Thus $N=0.25\\left(\\frac{2.575}{0.01}\\right)^2 = 16577$"
   ]
  },
  {
   "cell_type": "code",
   "execution_count": 15,
   "metadata": {},
   "outputs": [],
   "source": [
    "import numpy as np\n",
    "import random\n",
    "import math\n",
    "\n",
    "N=16577\n",
    "total_time = [0.0]*N\n",
    "C = 250\n",
    "p = 0.3\n",
    "a = 0.01\n",
    "b = 1.5 \n",
    "\n",
    "for itr in range(N):\n",
    "    \n",
    "    itr_time = 0.0\n",
    "    \n",
    "    # generate the number of active users\n",
    "    n_users = 0\n",
    "    for u in range(C):\n",
    "        \n",
    "        experiment = np.random.binomial(size=1, n=1, p=p)\n",
    "        \n",
    "        if experiment == 1:\n",
    "            n_users += 1\n",
    "    \n",
    "    #print(\"For iteration {0} number of users {1}\".format(itr, n_users))\n",
    "    for user in range(n_users):\n",
    "        \n",
    "        # for each active user generate the total \n",
    "        # number of tasks he submits.\n",
    "        n_total_tasks = random.randint(1, 50)\n",
    "        \n",
    "        for task in range(n_total_tasks):\n",
    "            itr_time += np.random.uniform(a, b)\n",
    "    \n",
    "    total_time[itr] = itr_time\n",
    "\n"
   ]
  },
  {
   "cell_type": "code",
   "execution_count": 16,
   "metadata": {},
   "outputs": [
    {
     "name": "stdout",
     "output_type": "stream",
     "text": [
      "p_hat is:  0.49960789045062437\n"
     ]
    }
   ],
   "source": [
    "# the established probability is the proportion\n",
    "# of T<1440 over all N\n",
    "counter = 0\n",
    "for t in range(len(total_time)):\n",
    "    if total_time[t]< 1440.0:\n",
    "        counter += 1\n",
    "        \n",
    "        \n",
    "print(\"p_hat is: \", counter/len(total_time))"
   ]
  },
  {
   "cell_type": "markdown",
   "metadata": {},
   "source": [
    "### <a name=\"test_case_4\"></a> New software release"
   ]
  },
  {
   "cell_type": "markdown",
   "metadata": {},
   "source": [
    "Let's see one more example of how MC methods can be used. This is example 5.16 page 119 from [1]. "
   ]
  },
  {
   "cell_type": "markdown",
   "metadata": {},
   "source": [
    "The example develops a simple stochastic model for the number of errors in a new software. Every day the developers find a random number of errors and fix them. Let $X_t$ denote the number of errors found on day $t$. Assume that $X_t \\sim Poisson(\\lambda_t)$ where the Poissong parameter is chosen as the lowest number of errors found during the previous three days i.e."
   ]
  },
  {
   "cell_type": "markdown",
   "metadata": {},
   "source": [
    "$$\\lambda_t = min (X_{t-1}, X_{t-2}, X_{t-3})$$"
   ]
  },
  {
   "cell_type": "markdown",
   "metadata": {},
   "source": [
    "Assume that the first three days the developers found 28, 22 and 18 errors. We want to:"
   ]
  },
  {
   "cell_type": "markdown",
   "metadata": {},
   "source": [
    "- Predict the time it will take to find all the errors.\n",
    "- Estimate the probability that some errors will remain undetected after 21 days.\n",
    "- Predict the total number of errors in the release.\n"
   ]
  },
  {
   "cell_type": "markdown",
   "metadata": {},
   "source": [
    "Below is the Python script that executes the MC simulation. We use $N=1000$ runs. "
   ]
  },
  {
   "cell_type": "code",
   "execution_count": 32,
   "metadata": {},
   "outputs": [],
   "source": [
    "import numpy as np\n",
    "from scipy.stats import poisson\n",
    "import random\n",
    "\n",
    "N=1000\n",
    "time=[0.0]*N\n",
    "errors=[0]*N\n",
    "\n",
    "for itr in range(N):\n",
    "    \n",
    "    last=[28, 22, 18]\n",
    "    detected_errors = sum(last)\n",
    "    \n",
    "    t=0\n",
    "    x = min(last)\n",
    "    \n",
    "    while x > 0:\n",
    "        \n",
    "        l = min(last)\n",
    "        x = poisson.rvs(l, size=1)\n",
    "        \n",
    "        detected_errors += x\n",
    "        t += 1\n",
    "        \n",
    "        # update how we choose lambda\n",
    "        last = last[1:3] \n",
    "        last.append(x)\n",
    "    time[itr] = t - 1\n",
    "    errors[itr] = detected_errors"
   ]
  },
  {
   "cell_type": "code",
   "execution_count": 33,
   "metadata": {
    "scrolled": true
   },
   "outputs": [
    {
     "name": "stdout",
     "output_type": "stream",
     "text": [
      "Expected detection time:  16.5\n",
      "Expected total number of errors:  215.938\n"
     ]
    }
   ],
   "source": [
    "#  the expected time it takes to detect all the errors \n",
    "print(\"Expected detection time: \", np.mean(time))\n",
    "\n",
    "# expected total number of errors\n",
    "print(\"Expected total number of errors: \", np.mean(errors))"
   ]
  },
  {
   "cell_type": "markdown",
   "metadata": {},
   "source": [
    "## <a name=\"refs\"></a> References"
   ]
  },
  {
   "cell_type": "markdown",
   "metadata": {},
   "source": [
    "1. Michael Baron, ```Probability  and Statistics for Computer Scientists.``` CRC Press. \n",
    "2. Reuven Y. Rubinstein, Dirk P. Kroese ```SIMULATION AND THE MONTE CARLO METHOD, Third Edition.``` Wiley.\n",
    "\n",
    "\n"
   ]
  }
 ],
 "metadata": {
  "kernelspec": {
   "display_name": "Python 3 (ipykernel)",
   "language": "python",
   "name": "python3"
  },
  "language_info": {
   "codemirror_mode": {
    "name": "ipython",
    "version": 3
   },
   "file_extension": ".py",
   "mimetype": "text/x-python",
   "name": "python",
   "nbconvert_exporter": "python",
   "pygments_lexer": "ipython3",
   "version": "3.10.6"
  }
 },
 "nbformat": 4,
 "nbformat_minor": 4
}
