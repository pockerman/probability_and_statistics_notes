{
 "cells": [
  {
   "cell_type": "markdown",
   "id": "ce17ef47-213d-425f-b761-e8226e4c0741",
   "metadata": {},
   "source": [
    "# Metropolis-Hastings Algorithm"
   ]
  },
  {
   "cell_type": "markdown",
   "id": "28017709-f559-4f1f-9006-7ad82696d63d",
   "metadata": {},
   "source": [
    "## Overview"
   ]
  },
  {
   "cell_type": "markdown",
   "id": "b0f399e8-2d9d-4cd3-9762-80b920b0d329",
   "metadata": {},
   "source": [
    "The <a href=\"https://en.wikipedia.org/wiki/Metropolis%E2%80%93Hastings_algorithm\">Metropolis-Hastings algorithm</a> \n",
    "is another methodology which we can use in order to obtain a sequence of random \n",
    "samples from a probability distribution from which direct sampling is difficult."
   ]
  },
  {
   "cell_type": "markdown",
   "id": "973500c5-6a05-4522-a34c-b9d213418a63",
   "metadata": {},
   "source": [
    "## Metropolis-Hastings Algorithm"
   ]
  },
  {
   "cell_type": "markdown",
   "id": "7e5e33eb-5a66-46bd-bcc8-ac219b7c29a3",
   "metadata": {},
   "source": [
    "Let's consider once more the integral "
   ]
  },
  {
   "cell_type": "markdown",
   "id": "7e87791b-8c03-4936-bbe9-664520576a75",
   "metadata": {},
   "source": [
    "$$ I = \\int h(x)f(x)dx$$"
   ]
  },
  {
   "cell_type": "markdown",
   "id": "adeffd7e-dd04-4776-836e-975154abdaae",
   "metadata": {},
   "source": [
    "The Metropolis-Hastings algorithm belongs to \n",
    "<a href=\"https://en.wikipedia.org/wiki/Markov_chain_Monte_Carlo\">Markov chain Monte Carlo (MCMC)</a> class of algorithms. The idea in MCMC is to construct a Markov chain say $X_1, X_2, \\dots, $whose stationary distribution is $f$ [1]. Under certain conditions, and due to the law of large numbers"
   ]
  },
  {
   "cell_type": "markdown",
   "id": "7cf03f4c-9eec-46ae-9b3e-2e64dcc7332d",
   "metadata": {},
   "source": [
    "$$\\frac{1}{N}\\sum_i h(X_i) \\rightarrow_{P} E\\left[h(X)\\right]=I$$"
   ]
  },
  {
   "cell_type": "markdown",
   "id": "ed235fec-3af7-4086-9b28-a28ba68ce4ec",
   "metadata": {},
   "source": [
    "Simialr to <a href=\"importance_sampling\">importance sampling</a>, the Metropolis-Hastings algorithm assumes an\n",
    "easy to sample proposal distribution $q(y|x)$. The algorithm then works as follows, see [1],"
   ]
  },
  {
   "cell_type": "markdown",
   "id": "d2e2f32e-ff12-4499-93e7-6199a945af0e",
   "metadata": {},
   "source": [
    "1. Start by choosing $X_0$ arbitrarily\n",
    "2. Use the proposal distribution to sample $Y\\sim g(Y|X_i)$\n",
    "3.Evaluate $r$ according to \n",
    "\n",
    "$$r(x,y) = min \\{\\frac{f(y)}{f(x)}\\frac{q(x|y)}{q(y|x)}, 1\\}$$\n",
    "\n",
    "and set\n",
    "\n",
    "$$X_{i+1}=\\begin{cases}Y & \\text{with probability} & r \\\\ X_i & \\text{with probability} & 1- r \\end{cases}$$"
   ]
  },
  {
   "cell_type": "markdown",
   "id": "00699311-a726-41cf-882b-94be0e3bda1b",
   "metadata": {},
   "source": [
    "----\n",
    "**Remark**\n",
    "\n",
    "A simple way for the final step is to generate a random value, say $V$ form $U(0,1)$ then set $X_{i+1}=Y$ if $V < r$ and\n",
    "$X_{i+1}=X_i$ otherwise.\n",
    "\n",
    "----"
   ]
  },
  {
   "cell_type": "markdown",
   "id": "fda83ce7-4230-4aee-8a42-83778c31bd08",
   "metadata": {},
   "source": [
    "Note that if we choose $q(y|x)$ to be the normal distribution with some variance $\\sigma^2$ centered at $x$ i.e. \n",
    "the current value\n",
    "we are looking at, the $q$ will be  symatric, since the normal distribution is symmetric [1]. In this case, the expression\n",
    "for $r$ above is written as [1]"
   ]
  },
  {
   "cell_type": "markdown",
   "id": "68babb5b-90a5-4f50-8381-2f4b7ac1889c",
   "metadata": {},
   "source": [
    "$$r(x,y) = min \\{\\frac{f(y)}{f(x_i)}, 1\\}$$"
   ]
  },
  {
   "cell_type": "markdown",
   "id": "e4ef4f1a-ea4e-4d0e-8b4f-df765dc74e54",
   "metadata": {},
   "source": [
    "The performance of the algorithm in terms of approximating $f$ depends on the proposal distribution\n",
    "and its parameters. This is shown in the following example. "
   ]
  },
  {
   "cell_type": "markdown",
   "id": "f0f80647-164b-4205-8726-533de6ce8d62",
   "metadata": {},
   "source": [
    "## Computational example"
   ]
  },
  {
   "cell_type": "markdown",
   "id": "779826d3-3fd1-416e-a7f8-a4eec5839cd8",
   "metadata": {},
   "source": [
    "Consider the <a href=\"https://en.wikipedia.org/wiki/Cauchy_distribution\">Cauchy distribution</a> \n",
    "which has desnity function given by, [1], for $\\gamma=1$"
   ]
  },
  {
   "cell_type": "markdown",
   "id": "864d7baa-c72a-4316-8527-2dc64ac4b246",
   "metadata": {},
   "source": [
    "$$f(x)=\\frac{1}{\\pi(1 + x^2)}$$"
   ]
  },
  {
   "cell_type": "markdown",
   "id": "40934d28-e4c6-4e6d-8a75-c11f8fd10403",
   "metadata": {},
   "source": [
    "We want to simulate a Markov chain whose stationary distribution is $f$. We will take the proposal distibution to\n",
    "to the normal distribution $N(x,\\sigma^2)$"
   ]
  },
  {
   "cell_type": "code",
   "execution_count": 14,
   "id": "c432987a-d892-4cfc-a684-2ca0da014586",
   "metadata": {},
   "outputs": [],
   "source": [
    "import numpy as np\n",
    "from scipy.stats import norm\n",
    "import matplotlib.pyplot as plt"
   ]
  },
  {
   "cell_type": "code",
   "execution_count": 15,
   "id": "2aeaca3e-f823-4254-88a1-b08a348bfbac",
   "metadata": {},
   "outputs": [],
   "source": [
    "# set seed so that we can repeat the experiment\n",
    "np.random.seed(42)"
   ]
  },
  {
   "cell_type": "code",
   "execution_count": 21,
   "id": "99971840-0733-48b3-9c85-001452860e15",
   "metadata": {},
   "outputs": [
    {
     "data": {
      "image/png": "[encoded data removed]",
      "text/plain": [
       "<Figure size 432x288 with 1 Axes>"
      ]
     },
     "metadata": {
      "needs_background": "light"
     },
     "output_type": "display_data"
    }
   ],
   "source": [
    "# set seed so that we can repeat the experiment\n",
    "cauchy_sample = np.random.standard_cauchy(size=1000)\n",
    "\n",
    "plt.plot(cauchy_sample)\n",
    "plt.grid(True)\n",
    "plt.show()"
   ]
  },
  {
   "cell_type": "code",
   "execution_count": 16,
   "id": "8c7ce965-9ee8-4c0e-9dcf-5907e6cf5cc1",
   "metadata": {},
   "outputs": [],
   "source": [
    "# the length of the chains\n",
    "N= 1000\n",
    "sigmas = [0.1, 1.0, 10.0]"
   ]
  },
  {
   "cell_type": "markdown",
   "id": "96e040a1-95aa-4088-8cbe-21f0e94d4699",
   "metadata": {},
   "source": [
    "The Metropolis-Hastings algorithm, chooses $X_0$ arbitrarily so let $X_0=0$"
   ]
  },
  {
   "cell_type": "code",
   "execution_count": 17,
   "id": "684b8dd3-a0c3-4ddf-9927-ca1fbc471211",
   "metadata": {},
   "outputs": [],
   "source": [
    "chains = {}\n",
    "cauchy_betas = {}\n",
    "X_0 = 0\n",
    "for sigma in sigmas:\n",
    "    \n",
    "    \n",
    "    Xcurrent = X_0\n",
    "    \n",
    "    chains[str(sigma)]=[Xcurrent]\n",
    "    cauchy_betas[str(sigma)] = [np.random.standard_cauchy]\n",
    "    for _ in range(N):\n",
    "        \n",
    "        # draw Y\n",
    "        y = np.random.normal(size=1 , loc=Xcurrent , scale=sigma)\n",
    "        \n",
    "        cauchy_ratios = (1 + Xcurrent**2) / (1 + y**2) \n",
    "        r = min(cauchy_ratios, 1)\n",
    "        \n",
    "        # generate a number from the uniform distribution\n",
    "        U = np.random.uniform(low=0.0, high=1.0, size=1)\n",
    "        \n",
    "        if U < r:\n",
    "            Xcurrent = y\n",
    "        \n",
    "        chains[str(sigma)].append(Xcurrent)\n",
    "        \n",
    "        "
   ]
  },
  {
   "cell_type": "code",
   "execution_count": 18,
   "id": "764b3c3e-a9f2-47c5-bd86-84ef10ad0564",
   "metadata": {},
   "outputs": [
    {
     "data": {
      "image/png": "[encoded data removed]",
      "text/plain": [
       "<Figure size 432x288 with 1 Axes>"
      ]
     },
     "metadata": {
      "needs_background": "light"
     },
     "output_type": "display_data"
    }
   ],
   "source": [
    "for chain in chains:\n",
    "    plt.plot(chains[chain], label=chain)\n",
    "   \n",
    "plt.legend(loc='best')\n",
    "plt.grid(True)\n",
    "plt.show()"
   ]
  },
  {
   "cell_type": "markdown",
   "id": "20bf805f-8051-472e-967d-f9aa5e181d5d",
   "metadata": {},
   "source": [
    "## Summary"
   ]
  },
  {
   "cell_type": "markdown",
   "id": "e6f0eb56-e0f4-4ac1-9fc1-c7adac0bc404",
   "metadata": {},
   "source": [
    "In this section, we introduced the Metropolis-Hastings algorithm. The Metropolis-Hastings algorithm belongs to \n",
    "<a href=\"https://en.wikipedia.org/wiki/Markov_chain_Monte_Carlo\">Markov chain Monte Carlo (MCMC)</a> class of algorithms. \n",
    "The idea in MCMC is to construct a Markov chain say $X_1, X_2, \\dots, $whose stationary distribution is $f$ [1]."
   ]
  },
  {
   "cell_type": "markdown",
   "id": "10fc6afd-c394-449c-b6a1-996e2573e2cc",
   "metadata": {},
   "source": [
    "Just like importance sampling, the Metropolis-Hastings alorithm utilises a proposal distribution. The resulting \n",
    "chain therefore depends on the parameters of proposal distribution."
   ]
  },
  {
   "cell_type": "markdown",
   "id": "c7a43d22-8e78-47f5-9557-4194f8a7cc5f",
   "metadata": {},
   "source": [
    "## References"
   ]
  },
  {
   "cell_type": "markdown",
   "id": "702bd40e-e95b-4477-bf5c-3550c729ba33",
   "metadata": {},
   "source": [
    "1. Larry Wasserman, _All of Statistics. A Concise Course in Statistical Inference_, Springer 2003."
   ]
  }
 ],
 "metadata": {
  "kernelspec": {
   "display_name": "Python 3 (ipykernel)",
   "language": "python",
   "name": "python3"
  },
  "language_info": {
   "codemirror_mode": {
    "name": "ipython",
    "version": 3
   },
   "file_extension": ".py",
   "mimetype": "text/x-python",
   "name": "python",
   "nbconvert_exporter": "python",
   "pygments_lexer": "ipython3",
   "version": "3.10.6"
  }
 },
 "nbformat": 4,
 "nbformat_minor": 5
}
