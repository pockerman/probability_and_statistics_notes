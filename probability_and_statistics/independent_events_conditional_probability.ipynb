{
 "cells": [
  {
   "cell_type": "markdown",
   "id": "47879841-a761-4f49-9977-78d76adc1b38",
   "metadata": {},
   "source": [
    "# Independent Events and Conditional Probability"
   ]
  },
  {
   "cell_type": "markdown",
   "id": "bb351f6e-b000-4a4c-a92e-697e1ef74f55",
   "metadata": {},
   "source": [
    "Let's say we toss two dice and we want to compute the probability that the first dice returns $X$ and the second $Y$. In other words, we \n",
    "want to compute the joint probability $P(X,Y)$. Given that the two dice are independent, then "
   ]
  },
  {
   "cell_type": "markdown",
   "id": "306033d3-a90f-48ff-9231-432aa98be0cb",
   "metadata": {},
   "source": [
    "$$P(X,Y)=P(X)P(Y)$$"
   ]
  },
  {
   "cell_type": "markdown",
   "id": "fcd09e34-3217-48bb-a95c-3d7fb348fe34",
   "metadata": {},
   "source": [
    "Let's construct the sample space. "
   ]
  },
  {
   "cell_type": "code",
   "execution_count": 3,
   "id": "51dced44-5b7d-487d-aa3a-e119144c58f1",
   "metadata": {
    "tags": []
   },
   "outputs": [],
   "source": [
    "from collections import defaultdict"
   ]
  },
  {
   "cell_type": "code",
   "execution_count": 4,
   "id": "3cdc4a63-738a-4157-9b0a-bad8593827a1",
   "metadata": {
    "tags": []
   },
   "outputs": [],
   "source": [
    "omega={(i,j):i+j for i in range(1,7) for j in range(1,7)}"
   ]
  },
  {
   "cell_type": "code",
   "execution_count": 5,
   "id": "1bb1cf81-f629-4d75-8726-0b39943f1971",
   "metadata": {
    "tags": []
   },
   "outputs": [],
   "source": [
    "dinv = defaultdict(list)\n",
    "for i,j in omega.items():\n",
    "    dinv[j].append(i)"
   ]
  },
  {
   "cell_type": "code",
   "execution_count": 6,
   "id": "3b761106-a13a-4688-8f6a-99361ee49397",
   "metadata": {
    "tags": []
   },
   "outputs": [
    {
     "data": {
      "text/plain": [
       "{2: 0.027777777777777776,\n",
       " 3: 0.05555555555555555,\n",
       " 4: 0.08333333333333333,\n",
       " 5: 0.1111111111111111,\n",
       " 6: 0.1388888888888889,\n",
       " 7: 0.16666666666666666,\n",
       " 8: 0.1388888888888889,\n",
       " 9: 0.1111111111111111,\n",
       " 10: 0.08333333333333333,\n",
       " 11: 0.05555555555555555,\n",
       " 12: 0.027777777777777776}"
      ]
     },
     "execution_count": 6,
     "metadata": {},
     "output_type": "execute_result"
    }
   ],
   "source": [
    "X={i:len(j)/36. for i,j in dinv.items() }\n",
    "X"
   ]
  },
  {
   "cell_type": "code",
   "execution_count": null,
   "id": "0eb8a2ec-5109-45c4-aeb5-f6f980823c2c",
   "metadata": {},
   "outputs": [],
   "source": []
  }
 ],
 "metadata": {
  "kernelspec": {
   "display_name": "Python 3 (ipykernel)",
   "language": "python",
   "name": "python3"
  },
  "language_info": {
   "codemirror_mode": {
    "name": "ipython",
    "version": 3
   },
   "file_extension": ".py",
   "mimetype": "text/x-python",
   "name": "python",
   "nbconvert_exporter": "python",
   "pygments_lexer": "ipython3",
   "version": "3.10.12"
  }
 },
 "nbformat": 4,
 "nbformat_minor": 5
}
