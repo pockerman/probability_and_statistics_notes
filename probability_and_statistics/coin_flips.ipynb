{
 "cells": [
  {
   "cell_type": "markdown",
   "metadata": {},
   "source": [
    "# Coin flips"
   ]
  },
  {
   "cell_type": "markdown",
   "metadata": {},
   "source": [
    "Let's assume we have four coins. We want to calculate the probability of getting four heads when tossing these four coins. The answer to this question is straightforward if we assume that the coins are fair. "
   ]
  },
  {
   "cell_type": "markdown",
   "metadata": {},
   "source": [
    "$$P(\\text{all heads}) = \\frac{1}{2}\\frac{1}{2}\\frac{1}{2}\\frac{1}{2} = 0.0625$$"
   ]
  },
  {
   "cell_type": "markdown",
   "metadata": {},
   "source": [
    "Let's use Python to simulate this."
   ]
  },
  {
   "cell_type": "code",
   "execution_count": 1,
   "metadata": {},
   "outputs": [],
   "source": [
    "import numpy as np\n"
   ]
  },
  {
   "cell_type": "code",
   "execution_count": 2,
   "metadata": {},
   "outputs": [],
   "source": [
    "n_coins = 4"
   ]
  },
  {
   "cell_type": "markdown",
   "metadata": {},
   "source": [
    "Compute the probability for one trial"
   ]
  },
  {
   "cell_type": "code",
   "execution_count": 5,
   "metadata": {},
   "outputs": [
    {
     "name": "stdout",
     "output_type": "stream",
     "text": [
      "Probability of heads is 0.75\n"
     ]
    }
   ],
   "source": [
    "np.random.seed(42)\n",
    "\n",
    "n_heads = 0\n",
    "\n",
    "nums = np.random.random(size=n_coins)\n",
    "n_heads = sum(nums > 0.5)\n",
    "\n",
    "\n",
    "    \n",
    "print(f\"Probability of heads is {n_heads / n_coins}\")"
   ]
  },
  {
   "cell_type": "code",
   "execution_count": 6,
   "metadata": {},
   "outputs": [
    {
     "name": "stdout",
     "output_type": "stream",
     "text": [
      "Probability of heads is 0.0625\n"
     ]
    }
   ],
   "source": [
    "n_trials = 10000\n",
    "\n",
    "all_heads = 0\n",
    "\n",
    "for itr in range(n_trials):\n",
    "    \n",
    "    nums = np.random.random(size=n_coins)\n",
    "    n_heads = sum(nums > 0.5)\n",
    "    \n",
    "    if n_heads == 4:\n",
    "        all_heads += 1\n",
    "        \n",
    "print(f\"Probability of heads is {all_heads / n_trials}\")       \n",
    "    "
   ]
  },
  {
   "cell_type": "code",
   "execution_count": null,
   "metadata": {},
   "outputs": [],
   "source": []
  }
 ],
 "metadata": {
  "kernelspec": {
   "display_name": "Python 3 (ipykernel)",
   "language": "python",
   "name": "python3"
  },
  "language_info": {
   "codemirror_mode": {
    "name": "ipython",
    "version": 3
   },
   "file_extension": ".py",
   "mimetype": "text/x-python",
   "name": "python",
   "nbconvert_exporter": "python",
   "pygments_lexer": "ipython3",
   "version": "3.10.6"
  }
 },
 "nbformat": 4,
 "nbformat_minor": 4
}
