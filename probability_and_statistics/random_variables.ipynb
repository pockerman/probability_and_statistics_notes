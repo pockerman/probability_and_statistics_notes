{
 "cells": [
  {
   "cell_type": "markdown",
   "metadata": {},
   "source": [
    "# Random Variables\n",
    "\n"
   ]
  },
  {
   "cell_type": "markdown",
   "metadata": {},
   "source": [
    "## Overview"
   ]
  },
  {
   "cell_type": "markdown",
   "metadata": {},
   "source": [
    "The previous sections introduced some core concepts from probability theory such as the Bayes' rule and the\n",
    "law of total probability. However, Statistics and machine learning are concerned with data. We want to be able\n",
    "to link sample spaces and events to data. \n",
    "In this chapter, we will introduce the concept of a random variable and study discrete distributions."
   ]
  },
  {
   "cell_type": "markdown",
   "metadata": {},
   "source": [
    "## Random Variables"
   ]
  },
  {
   "cell_type": "markdown",
   "metadata": {},
   "source": [
    "Let's start with a definition"
   ]
  },
  {
   "cell_type": "markdown",
   "metadata": {},
   "source": [
    "---\n",
    "\n",
    "**Definition**\n",
    "\n",
    "\n",
    "A random variable isa function of an outcome i.e.\n",
    "\n",
    "$$X = f(\\omega)$$\n",
    "\n",
    "Therefore, a random variable is a quantity that depends on chance. Moreover, the domain of a random variable is the sample space $\\Omega$. The range of a random variable is finite or countable. This means that their values can be listed or arranged in a sequence.\n",
    "\n",
    "---"
   ]
  },
  {
   "cell_type": "markdown",
   "metadata": {},
   "source": [
    "---\n",
    "\n",
    "**Remark** \n",
    "\n",
    "Discrete\n",
    "variables don’t have to be integers. For example, the proportion of defective components in\n",
    "a lot of 100 can be 0, 1/100, 2/100, ..., 99/100, or 1. This variable assumes 101 different\n",
    "values, so it is discrete, although not an integer.\n",
    "\n",
    "---"
   ]
  },
  {
   "cell_type": "markdown",
   "metadata": {},
   "source": [
    "The collection of all the probabilities relate to $X$ is called the distribution of $X$. Specifically,"
   ]
  },
  {
   "cell_type": "markdown",
   "metadata": {},
   "source": [
    "---\n",
    "\n",
    "**Definition**\n",
    "\n",
    "\n",
    "The function \n",
    "\n",
    "$$P(x) = P(X = x)$$\n",
    "\n",
    "is the probability mass function or PMF. In addition we have the concept of the cumulative distribution function or CDF defined as\n",
    "\n",
    "\n",
    "\n",
    "$$F(x) = P(X \\leq x) = \\sum_{y \\leq x} P(y)$$\n",
    "\n",
    "The set of possible values of X is called the support of the distribution $F$.\n",
    "\n",
    "---"
   ]
  },
  {
   "cell_type": "markdown",
   "metadata": {},
   "source": [
    "It is important to realize that for every outcome $\\omega$ the variable $X$ takes one and only one value $x$. Thus the events $\\{X=x\\}$ are disjoint and exhaustive. This means that"
   ]
  },
  {
   "cell_type": "markdown",
   "metadata": {},
   "source": [
    "$$\\sum_x P(x) = 1$$"
   ]
  },
  {
   "cell_type": "markdown",
   "metadata": {},
   "source": [
    "We can use the CDF in order to calculate probabilities of the form\n"
   ]
  },
  {
   "cell_type": "markdown",
   "metadata": {},
   "source": [
    "$$P(a < X \\leq b ) = F(b) - F(a)$$"
   ]
  },
  {
   "cell_type": "markdown",
   "metadata": {},
   "source": [
    "### Continuous random variables"
   ]
  },
  {
   "cell_type": "markdown",
   "metadata": {},
   "source": [
    "The second type of a random variable we are interested in, is a continuous random variable."
   ]
  },
  {
   "cell_type": "markdown",
   "metadata": {},
   "source": [
    "---\n",
    "\n",
    "**Definition**\n",
    "\n",
    "A continuous random variable assumes values in a whole interval. The latter can be a bounded interval e.g. $(a, b)$ or unbounded $(a, +\\infty)$ or $(-\\infty, b)$ or a union of such intervals. The important point here is that intervals are uncountable which means that contrary to the discrete case, we cannot list the values of the random variable.\n",
    "\n",
    "---"
   ]
  },
  {
   "cell_type": "markdown",
   "metadata": {},
   "source": [
    "## References"
   ]
  },
  {
   "cell_type": "markdown",
   "metadata": {},
   "source": [
    "1. Larry Wasserman, _All of Statistics. A Concise Course in Statistical Inference_, Springer 2003."
   ]
  }
 ],
 "metadata": {
  "kernelspec": {
   "display_name": "Python 3 (ipykernel)",
   "language": "python",
   "name": "python3"
  },
  "language_info": {
   "codemirror_mode": {
    "name": "ipython",
    "version": 3
   },
   "file_extension": ".py",
   "mimetype": "text/x-python",
   "name": "python",
   "nbconvert_exporter": "python",
   "pygments_lexer": "ipython3",
   "version": "3.10.12"
  }
 },
 "nbformat": 4,
 "nbformat_minor": 4
}
