{
 "cells": [
  {
   "cell_type": "markdown",
   "id": "c9e668bc-c677-404e-8967-c606a45c84ea",
   "metadata": {},
   "source": [
    "# Probability Function"
   ]
  },
  {
   "cell_type": "markdown",
   "id": "02ff7548-b9d9-4bde-81f4-44e5ca6bf0e9",
   "metadata": {},
   "source": [
    "## Overview"
   ]
  },
  {
   "cell_type": "markdown",
   "id": "58ba545d-4b8f-4cdb-af86-e560074bfd38",
   "metadata": {},
   "source": [
    "In this section we review the probability function $P$ and state some of its properties. \n",
    "The function $P$ that assigns a real number $P(A)$ to each event $A$ has \n",
    "to  satisfy three axioms [1]. There are many interpretations of $P(A)$. The two most common ones are frequencies and degrees of belief [1]. The first interpretation \n",
    "assigns $P(A)$ the proportion of times the event $A$ is true in repetitions. The degree-of-belief interpretation\n",
    "assigns $P(A)$ the belief of an observer that the event $A$ is true [1]. This difference will manifest itself when we look into\n",
    "statistical inference. \n",
    " "
   ]
  },
  {
   "cell_type": "markdown",
   "id": "3a0c19a0-95a2-46b9-8b43-f7bee9e09296",
   "metadata": {},
   "source": [
    "## Probability function"
   ]
  },
  {
   "cell_type": "markdown",
   "id": "2b68cb8b-edec-4bae-ba8f-1e930686939d",
   "metadata": {},
   "source": [
    "## Random variables"
   ]
  },
  {
   "cell_type": "markdown",
   "id": "48f89227-98f8-4585-95e3-0d5efa8008b3",
   "metadata": {},
   "source": [
    "Consider the scenario of tossing a coin. There are only two possible outcomes in this experiment; heads and tails i.e. "
   ]
  },
  {
   "cell_type": "markdown",
   "id": "76235bbe-13ad-4382-a2a8-da9c3c2c354b",
   "metadata": {},
   "source": [
    "$$\\Omega = \\{H, T\\}$$"
   ]
  },
  {
   "cell_type": "markdown",
   "id": "d65e8199-6d9d-4701-bbd3-bc11eda793fe",
   "metadata": {},
   "source": [
    "If the coin is fair then the probability of each outcome is $1/2$."
   ]
  },
  {
   "cell_type": "markdown",
   "id": "d8fd3be0-e927-417d-be2a-ce9d473db0d2",
   "metadata": {},
   "source": [
    "## Examples"
   ]
  },
  {
   "cell_type": "markdown",
   "id": "42e4e5d8-5cbe-4567-89e9-c419db962232",
   "metadata": {},
   "source": [
    "Let's see some simple examples of computing probabilities. These examples are taken from [1, 2, 3]. "
   ]
  },
  {
   "cell_type": "code",
   "execution_count": 2,
   "id": "8370cd16-d5c5-443e-b09e-d7c9aa286888",
   "metadata": {},
   "outputs": [],
   "source": [
    "from collections import defaultdict"
   ]
  },
  {
   "cell_type": "markdown",
   "id": "4d526cfe-3246-4870-b4d3-238b8fa46481",
   "metadata": {},
   "source": [
    "### Example 1"
   ]
  },
  {
   "cell_type": "markdown",
   "id": "85f194f8-47e1-4d13-9300-53e2bcf74fc5",
   "metadata": {},
   "source": [
    "Let's say we toss two dice and we want to compute the probability that the first dice returns $X$ and the second $Y$. In other words, we \n",
    "want to compute the joint probability $P(X,Y)$. Given that the tow dice are independent, then "
   ]
  },
  {
   "cell_type": "markdown",
   "id": "167b0af2-de41-43ac-9692-2e9b5126eef7",
   "metadata": {},
   "source": [
    "$$P(X,Y)=P(X)P(Y)$$"
   ]
  },
  {
   "cell_type": "markdown",
   "id": "330d4a05-f46f-49a9-a313-6b06cf1561de",
   "metadata": {},
   "source": [
    "Let's construct the sample space. "
   ]
  },
  {
   "cell_type": "code",
   "execution_count": 3,
   "id": "c305529c-0bb4-49d5-b0b4-35be18f20256",
   "metadata": {},
   "outputs": [],
   "source": [
    "omega={(i,j):i+j for i in range(1,7) for j in range(1,7)}"
   ]
  },
  {
   "cell_type": "code",
   "execution_count": 6,
   "id": "5bb35d28-1bba-4f87-a9d3-d5499483e8c4",
   "metadata": {},
   "outputs": [],
   "source": [
    "dinv = defaultdict(list)\n",
    "for i,j in omega.items():\n",
    "    dinv[j].append(i)"
   ]
  },
  {
   "cell_type": "code",
   "execution_count": 8,
   "id": "b11ab815-4154-49de-b9e4-c0dc8040a3b2",
   "metadata": {},
   "outputs": [
    {
     "data": {
      "text/plain": [
       "{2: 0.027777777777777776,\n",
       " 3: 0.05555555555555555,\n",
       " 4: 0.08333333333333333,\n",
       " 5: 0.1111111111111111,\n",
       " 6: 0.1388888888888889,\n",
       " 7: 0.16666666666666666,\n",
       " 8: 0.1388888888888889,\n",
       " 9: 0.1111111111111111,\n",
       " 10: 0.08333333333333333,\n",
       " 11: 0.05555555555555555,\n",
       " 12: 0.027777777777777776}"
      ]
     },
     "execution_count": 8,
     "metadata": {},
     "output_type": "execute_result"
    }
   ],
   "source": [
    "X={i:len(j)/36. for i,j in dinv.items() }\n",
    "X"
   ]
  },
  {
   "cell_type": "markdown",
   "id": "7c0291cc-bcb1-41d6-99cd-85638a4fbf17",
   "metadata": {},
   "source": [
    "## References"
   ]
  },
  {
   "cell_type": "markdown",
   "id": "7aa2a198-4978-445a-9294-0e97aaae247a",
   "metadata": {},
   "source": [
    "1. Larry Wasserman, _All of Statistics. A Concise Course in Statistical Inference_, Springer 2003.\n",
    "2. Jose Unpingco, _Python for probability, statistics and machine learning_, Springer, 2016\n",
    "3. Michael Baron, _Probability and statistics for computer scientists_, 2nd Edition, CRC Press."
   ]
  },
  {
   "cell_type": "code",
   "execution_count": null,
   "id": "f892a7b9-8d57-4470-96be-77b8c75f9c39",
   "metadata": {},
   "outputs": [],
   "source": []
  }
 ],
 "metadata": {
  "kernelspec": {
   "display_name": "Python 3 (ipykernel)",
   "language": "python",
   "name": "python3"
  },
  "language_info": {
   "codemirror_mode": {
    "name": "ipython",
    "version": 3
   },
   "file_extension": ".py",
   "mimetype": "text/x-python",
   "name": "python",
   "nbconvert_exporter": "python",
   "pygments_lexer": "ipython3",
   "version": "3.10.6"
  }
 },
 "nbformat": 4,
 "nbformat_minor": 5
}
