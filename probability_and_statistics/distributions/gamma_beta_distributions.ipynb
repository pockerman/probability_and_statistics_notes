{
 "cells": [
  {
   "cell_type": "markdown",
   "id": "61088320-740b-47d9-b2b3-68b9c4b8daff",
   "metadata": {},
   "source": [
    "# Gamma and Beta distributions"
   ]
  },
  {
   "cell_type": "markdown",
   "id": "2f6eb00b-8d94-415e-9f03-296faf799867",
   "metadata": {},
   "source": [
    "## Overview"
   ]
  },
  {
   "cell_type": "markdown",
   "id": "6c7594d6-7e8c-4273-8d56-eec0cfb8f052",
   "metadata": {},
   "source": [
    "In this section we introduce the <a href=\"https://en.wikipedia.org/wiki/Gamma_distribution\">Gamma</a> and <a href=\"https://en.wikipedia.org/wiki/Beta_distribution\">Beta</a> distributions.\n"
   ]
  },
  {
   "cell_type": "markdown",
   "id": "346f1e6a-4696-4f73-97b3-ffd9d4f673bd",
   "metadata": {},
   "source": [
    "## Gamma distribution"
   ]
  },
  {
   "cell_type": "markdown",
   "id": "38e469d5-6016-4033-bfea-81b4a00b17af",
   "metadata": {},
   "source": [
    "The gamma distribution is a two-parameter family of continuous probability distributions. The exponential distribution, Erlang distribution, and chi-squared distribution are special cases of the gamma distribution. The PDF of the gamma distribution is defined as\n",
    "\n",
    "\\begin{equation}\n",
    "f(x) = \\frac{1}{\\beta^{\\alpha}\\Gamma(\\alpha)}x^{\\alpha - 1}exp\\{-x/\\beta\\}, ~~ x>0, ~~ \\alpha, \\beta>0\n",
    "\\end{equation}\n",
    "\n",
    "where $\\Gamma(\\alpha)$ is the Gamma function defined as [1]\n",
    "\n",
    "\\begin{equation}\n",
    "\\Gamma(\\alpha) = \\int_{0}^{\\infty}y^{\\alpha - 1}exp\\{-y\\}dy\n",
    "\\end{equation}"
   ]
  },
  {
   "cell_type": "markdown",
   "id": "ce67686b-c111-47f7-b1c2-b8b5d0e1a908",
   "metadata": {},
   "source": [
    "The Gamma distribution has the following property [1]. If $X_i \\sim Gamma\\left(\\alpha_i, \\beta\\right)$ then \n",
    "\n",
    "\\begin{equation}\n",
    "\\sum_i X_i \\sim Gamma \\left(\\sum_i \\alpha_i, \\beta\\right)\n",
    "\\end{equation}\n",
    "\n",
    "----\n",
    "**Remark**\n",
    "\n",
    "The exponential distribution is simply $Gamma(1, \\beta)$.\n",
    "\n",
    "----"
   ]
  },
  {
   "cell_type": "markdown",
   "id": "588341c2-f0ce-4a21-9bfa-68c9ff55ad50",
   "metadata": {},
   "source": [
    "## Beta distribution"
   ]
  },
  {
   "cell_type": "markdown",
   "id": "13ec39fb-ae18-477f-8c74-63e116fe140d",
   "metadata": {},
   "source": [
    "The Beta distribtion is a family of continuous probability distributions defined on the interval $[0, 1]$ or $(0, 1)$.\n",
    "The beta distribution has been applied to model the behavior of random variables limited to intervals of finite length in a wide variety of disciplines. The beta distribution is a suitable model for the random behavior of percentages and proportions. The PDF is defined by [1]\n",
    "\n",
    "\n",
    "\\begin{equation}\n",
    "f(x) = \\frac{\\Gamma(\\alpha + \\beta)}{\\Gamma(\\alpha)\\Gamma(\\beta)}x^{\\alpha - 1}(1-x)^{\\beta - 1}, ~~ 0<x<1\n",
    "\\end{equation}"
   ]
  },
  {
   "cell_type": "markdown",
   "id": "d343cb99-8042-45ed-8d72-d07a8501403a",
   "metadata": {},
   "source": [
    "## References"
   ]
  },
  {
   "cell_type": "markdown",
   "id": "25d8e94e-eaf6-4d5e-bfbc-593b5218f7a2",
   "metadata": {},
   "source": [
    "1. Larry Wasserman, _All of Statistics. A Concise Course in Statistical Inference_, Springer 2003."
   ]
  }
 ],
 "metadata": {
  "kernelspec": {
   "display_name": "Python 3 (ipykernel)",
   "language": "python",
   "name": "python3"
  },
  "language_info": {
   "codemirror_mode": {
    "name": "ipython",
    "version": 3
   },
   "file_extension": ".py",
   "mimetype": "text/x-python",
   "name": "python",
   "nbconvert_exporter": "python",
   "pygments_lexer": "ipython3",
   "version": "3.10.12"
  }
 },
 "nbformat": 4,
 "nbformat_minor": 5
}
