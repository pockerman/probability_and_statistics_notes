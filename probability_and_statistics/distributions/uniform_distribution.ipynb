{
 "cells": [
  {
   "cell_type": "markdown",
   "id": "c7f86445-a8c1-4be3-8012-e00718e68bcd",
   "metadata": {},
   "source": [
    "# Uniform Distribution"
   ]
  },
  {
   "cell_type": "markdown",
   "id": "11f831a5-af28-4b75-a3b0-2c370bcee9f1",
   "metadata": {},
   "source": [
    "## Overview"
   ]
  },
  {
   "cell_type": "markdown",
   "id": "6dbf85ad-a9e5-4d77-91ec-6acb81e076a8",
   "metadata": {},
   "source": [
    "In this section we will discuss the uniform distribution. We will see two versions of it; one for <a href=\"https://en.wikipedia.org/wiki/Discrete_uniform_distribution\">discrete</a> variables and\n",
    "one for <a href=\"https://en.wikipedia.org/wiki/Continuous_uniform_distribution\">continuous</a> ones."
   ]
  },
  {
   "cell_type": "markdown",
   "id": "09f313a2-e298-45ac-a282-c5de0791979c",
   "metadata": {},
   "source": [
    "## Uniform distribution"
   ]
  },
  {
   "cell_type": "markdown",
   "id": "f3909c0e-8f26-4073-b77b-f18ff0953a81",
   "metadata": {},
   "source": [
    "### Discrete uniform distribuion"
   ]
  },
  {
   "cell_type": "markdown",
   "id": "5d99b109-96c7-459b-8e2e-a453cc2bbad6",
   "metadata": {},
   "source": [
    "The discrete unifor distribution equilibrates the probability mass to every event. In aprticular, consider $k>1$ be an integer.\n",
    "The discrete uniform distribution has a PMF described by [1]\n",
    "\n",
    "\\begin{equation}\n",
    "f(x) = \\begin{cases}\n",
    "1/k, ~~ \\text{for} ~~ x=1, \\dots, k \\\\\n",
    "0, ~~ \\text{otherwise}\n",
    "\\end{cases}\n",
    "\\end{equation}\n",
    "\n",
    "We have seen the discrete uniform distribution in various examples; e.g. when assuming that the probability of getting a 5 when rolling a fair die\n",
    "is $1/6$.\n",
    "\n",
    "\n",
    "The expected value is given by\n",
    "\n",
    "\\begin{equation}\n",
    "E[X] = \\sum_{x=1}^{k}x \\frac{1}{k} = \\frac{k+1}{2}\n",
    "\\end{equation}\n",
    "\n",
    "The variance is given by\n",
    "\n",
    "\\begin{equation}\n",
    "Var[X] = \\sum_{x=1}^{k}  (x - E[X])^2 \\frac{1}{k} \n",
    "\\end{equation}\n",
    "\n",
    "\n"
   ]
  },
  {
   "cell_type": "markdown",
   "id": "4e8a76c8-2d14-40d3-a537-a49a2995dec3",
   "metadata": {},
   "source": [
    "### Continuous uniform distribuion"
   ]
  },
  {
   "cell_type": "markdown",
   "id": "917df2af-b04f-4d53-93ed-66ced54ef70d",
   "metadata": {},
   "source": [
    "The uniform distribution for the continuous case has the following PDF [1]\n",
    "\n",
    "\\begin{equation}\n",
    "f(x) = \\begin{cases}\n",
    "\\frac{1}{b-a}, ~~ \\text{for} ~~ x \\in [a,b] \\\\\n",
    "0, ~~ \\text{otherwise}\n",
    "\\end{cases}\n",
    "\\end{equation}\n",
    "\n",
    "\n",
    "In this case we write $X\\sim U(a,b)$. The mean and the variance are given as\n",
    "\n",
    "\\begin{equation}\n",
    "E[x] = \\int_{a}^{b} \\frac{1}{b-a} x dx = \\frac{1}{b-a} \\frac{b^2-a^2}{2} = \\frac{b + a}{2} \n",
    "\\end{equation}\n",
    "\n",
    "\\begin{equation}\n",
    "Var[x] = \\int_{a}^{b} \\frac{1}{b-a} x^2 dx = \\frac{1}{b-a} \\frac{b^3-a^3}{3} = \\frac{(b-a)^2}{12} \n",
    "\\end{equation}"
   ]
  },
  {
   "cell_type": "markdown",
   "id": "fcf84029-7c7b-440b-9f95-a9504f76e903",
   "metadata": {},
   "source": [
    "When drawing $n$ samples from $U(a, b)$ we can calculate the MLE estimates for $a$ and $b$ as follows. The likelihood function\n",
    "for the two paramters given the sample $x_1, \\dots, x_n$ is\n",
    "\n",
    "\\begin{equation}\n",
    "f(a, b | \\mathbf{x}) = \\left(\\frac{1}{b-a}\\right)^n\n",
    "\\end{equation}\n",
    "\n",
    "This expression is maximized when $b$ takes the maximum value and $a$ takes on the minimum. Hence, the MLE estimates for the two endpoints are\n",
    "\n",
    "\\begin{equation}\n",
    "\\hat{a}_{MLE}=min(x_1, \\dots, x_n), ~~ \\hat{b}_{MLE}=max(x_1, \\dots, x_n)\n",
    "\\end{equation}"
   ]
  },
  {
   "cell_type": "markdown",
   "id": "324893fe-6d1a-4207-9532-e3da0049c520",
   "metadata": {},
   "source": [
    "#### Standard uniform distribution"
   ]
  },
  {
   "cell_type": "markdown",
   "id": "0a2964f5-764c-415a-b176-274ffe433b7a",
   "metadata": {},
   "source": [
    "The distribution $U(0, 1)$ is called standard uniform distribution [2]. The density of $U(0, 1)$ is $f(x) = 1, ~ 0 < x < 1$. Most random number generators return a standard uniform random variable. All uniform distributions are related according to the following rule [2]. If $X\\sim U(a,b)$ then \n",
    "\n",
    "$$Y= \\frac{X-a}{b-a} \\sim U(0,1)$$\n",
    "\n",
    "Similarly, if $Y\\sim U(0,1)$ then \n",
    "\n",
    "$$X = a + (b-a)Y \\sim U(a,b)$$\n",
    "\n",
    "The expected value and variance of the standard normal distribution are given below [2].\n",
    "\n",
    "$$E\\left[Y\\right] = \\int_{0}^{1} yf(y)dy = \\left[\\frac{y^2}{2}\\right]_{0}^{1} = \\frac{1}{2}$$\n",
    "\n",
    "$$Var\\left[Y\\right] = \\int_{0}^{1} y^2f(y)dy - E\\left[Y\\right]= \\left[\\frac{y^3}{3}\\right]_{0}^{1} - \\frac{1}{2} = \\frac{1}{12}$$"
   ]
  },
  {
   "cell_type": "markdown",
   "id": "d2673354-9792-4516-9725-02cd8a1c165a",
   "metadata": {},
   "source": [
    "## Summary"
   ]
  },
  {
   "cell_type": "markdown",
   "id": "3119a06a-4cec-4284-bce2-ae53173cbee5",
   "metadata": {},
   "source": [
    "In this section we discussed the uniform distribution. We saw two versions of the distribution corresponding to discrete and\n",
    "continuous variables. The uniform distribution equilibrates the PMF or the PDF so it can be used as an initial belief we have\n",
    "on a given process."
   ]
  },
  {
   "cell_type": "markdown",
   "id": "38fc8385-49fa-4eb8-8af7-b92b2f0bf266",
   "metadata": {},
   "source": [
    "## References"
   ]
  },
  {
   "cell_type": "markdown",
   "id": "25c325bd-0d75-4137-9612-a0a156a7c3e7",
   "metadata": {},
   "source": [
    "1. Larry Wasserman, _All of Statistics. A Concise Course in Statistical Inference_, Springer 2003.\n",
    "2. Michael Baron, _Probability and statistics for computer scientists_, 2nd Edition, CRC Press."
   ]
  }
 ],
 "metadata": {
  "kernelspec": {
   "display_name": "Python 3 (ipykernel)",
   "language": "python",
   "name": "python3"
  },
  "language_info": {
   "codemirror_mode": {
    "name": "ipython",
    "version": 3
   },
   "file_extension": ".py",
   "mimetype": "text/x-python",
   "name": "python",
   "nbconvert_exporter": "python",
   "pygments_lexer": "ipython3",
   "version": "3.10.12"
  }
 },
 "nbformat": 4,
 "nbformat_minor": 5
}
