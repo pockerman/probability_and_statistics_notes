{
 "cells": [
  {
   "cell_type": "markdown",
   "id": "07b79571-546c-4901-a9c9-da5a5ab9f972",
   "metadata": {},
   "source": [
    "# Geometric Distribution"
   ]
  },
  {
   "cell_type": "markdown",
   "id": "a25443ba-d5a4-4de7-837a-29ef1bbffe5b",
   "metadata": {},
   "source": [
    "## Overview"
   ]
  },
  {
   "cell_type": "markdown",
   "id": "5d7981b0-29f0-4135-a725-62e868643847",
   "metadata": {},
   "source": [
    "In this section we discuss the <a href=\"https://en.wikipedia.org/wiki/Geometric_distribution\">geometric distribution</a>.\n",
    "We use the geometric distribution in order to model the number of experiments we need to perform in order to observe the \n",
    "first time the event of interest."
   ]
  },
  {
   "cell_type": "markdown",
   "id": "c73ad77e-22af-4409-955d-942b028695e4",
   "metadata": {},
   "source": [
    "## Geometric distribution"
   ]
  },
  {
   "cell_type": "markdown",
   "id": "22653415-5046-402e-ab0a-dbe87a78c670",
   "metadata": {},
   "source": [
    "Let's consider the following question. Assume you draw from the standard normal distribution. What is the aprroximate expected \n",
    "number of draws we need to do to a get a value greater than 5? Similarly assume you roll a die, how many rolls you need to do in order to get a 6? \n",
    "The geometric distribution can help us answer these kind of questions."
   ]
  },
  {
   "cell_type": "markdown",
   "id": "d5705039-fe12-42b3-8de9-d8611cfd249a",
   "metadata": {},
   "source": [
    "A variable $X$ has a geometric distribution with parameter of success $p\\in (0,1)$ if [1]\n",
    "\n",
    "\\begin{equation}\n",
    "P(X=k) = p(1-p)^{k-1}, k \\geq 1\n",
    "\\end{equation}\n",
    "\n",
    "We then say that $X \\sim Geom(p)$. The expected value and variance of $X$ are given by\n",
    "\n",
    "\\begin{equation}\n",
    "E[X] = \\frac{1}{p}, ~~ Var[X] = \\frac{1-p}{p^2}\n",
    "\\end{equation}\n",
    "\n",
    "----\n",
    "**Remark**\n",
    "\n",
    "The expected value may also be given by \n",
    "\n",
    "\\begin{equation}\n",
    "E[X] = \\frac{1 - p}{p}\n",
    "\\end{equation}\n",
    "\n",
    "this will be the case if $k \\geq 0$ i.e. $k$ can assume the value zero.\n",
    "\n",
    "----"
   ]
  },
  {
   "cell_type": "markdown",
   "id": "66a64ccc-01e7-4404-b1a2-f8084b559af4",
   "metadata": {},
   "source": [
    "Let's now use the geometric distribution to answer the questions posed above. We start with the fair die."
   ]
  },
  {
   "cell_type": "markdown",
   "id": "7db53124-6ade-4823-bd8b-2e03cb86d5de",
   "metadata": {},
   "source": [
    "### Example 1\n",
    "\n",
    "Assume you have a fair die. How many rolls we need to do until we see a 6? "
   ]
  },
  {
   "cell_type": "markdown",
   "id": "a5ede980-25ba-45cc-9fc7-0e81c0e9a125",
   "metadata": {},
   "source": [
    "**_ANS_**\n",
    "\n",
    "We can use the geometric distribution to answer this. We have $p=1/6$. So the expected number of rolls we need to do is\n",
    "\n",
    "\\begin{equation}\n",
    "E[X] = \\frac{1}{p} = 6 \\text{rolls}\n",
    "\\end{equation}\n",
    "\n",
    "Notice that this will be the same for every face of the die."
   ]
  },
  {
   "cell_type": "markdown",
   "id": "de842104-9a42-40fe-948f-39f6ce41ca61",
   "metadata": {},
   "source": [
    "### Example 2\n",
    "\n",
    "Assume you draw from the standard normal distribution. What is the aprroximate expected \n",
    "number of draws we need to do to a get a value greater than 5?"
   ]
  },
  {
   "cell_type": "markdown",
   "id": "e5031efa-5572-42d2-a54b-0a28a3dd0327",
   "metadata": {},
   "source": [
    "**_ANS_**\n",
    "\n",
    "\n",
    "Again we can use the geometric distribution for answering this. However, we need to feed it with $p$. This is given by\n",
    "\n",
    "\n",
    "\\begin{equation}\n",
    "P(X > 5) = 1 -P(X\\leq 5) = 1- \\Phi(5)\n",
    "\\end{equation}\n",
    "\n",
    "\n",
    "I don't know $\\Phi(5)$ so I will use Python for this."
   ]
  },
  {
   "cell_type": "code",
   "execution_count": 4,
   "id": "6e08c837-b990-4ba0-8277-849cbbbc008a",
   "metadata": {
    "tags": []
   },
   "outputs": [
    {
     "name": "stdout",
     "output_type": "stream",
     "text": [
      "0.9772498680518208\n",
      "0.9999997133484281\n"
     ]
    }
   ],
   "source": [
    "from scipy.stats import norm\n",
    "phi_2 = norm.cdf(2)\n",
    "print(phi_2)\n",
    "phi_5 = norm.cdf(5)\n",
    "print(phi_5)"
   ]
  },
  {
   "cell_type": "markdown",
   "id": "b0f89c20-1737-4db8-9ee7-d575bfc4b776",
   "metadata": {},
   "source": [
    "Thus $p=1-0.9999$. Hence, the expected number of experiments we need to perform until see 5 for the first time is"
   ]
  },
  {
   "cell_type": "code",
   "execution_count": 3,
   "id": "4a0efcbd-b2ae-4de5-9f8c-599747cd62a2",
   "metadata": {
    "tags": []
   },
   "outputs": [
    {
     "name": "stdout",
     "output_type": "stream",
     "text": [
      "Number of experiments 10000\n"
     ]
    }
   ],
   "source": [
    "p = 1.0 - 0.9999\n",
    "print(f\"Number of experiments {int(1.0/p)}\")"
   ]
  },
  {
   "cell_type": "markdown",
   "id": "79ce14de-f234-4967-a483-892a29dd5370",
   "metadata": {},
   "source": [
    "## Summary"
   ]
  },
  {
   "cell_type": "markdown",
   "id": "eb1d49af-84df-41bd-b40b-d5e66355bb0d",
   "metadata": {},
   "source": [
    "This section discussed the geometric distribution. This distribution models the probability that the first occurrence of success requires \n",
    "$k$ independent trials, each with success probability $p$. If the probability of success on each trial is $p$, then the probability that the \n",
    "$k$-th trial is the first success is\n",
    "\n",
    "\\begin{equation}\n",
    "P(X=k) = p(1-p)^{k-1}, k \\geq 1\n",
    "\\end{equation}\n",
    "\n",
    "It has the following mean and variance values\n",
    "\n",
    "\\begin{equation}\n",
    "E[X] = \\frac{1}{p}, ~~ Var[X] = \\frac{1-p}{p^2}\n",
    "\\end{equation}"
   ]
  },
  {
   "cell_type": "markdown",
   "id": "b0a0edb7-eb04-4e5a-b803-d8204361da8e",
   "metadata": {},
   "source": [
    "The continuous counterpart of the geometric distribution is the <a href=\"https://en.wikipedia.org/wiki/Exponential_distribution\">exponential distribution</a> which we will see later on."
   ]
  },
  {
   "cell_type": "markdown",
   "id": "3297625f-667e-4065-8b6b-50206e54807e",
   "metadata": {},
   "source": [
    "## References"
   ]
  },
  {
   "cell_type": "markdown",
   "id": "47eeb643-b658-49bf-a879-d1d09c48d181",
   "metadata": {},
   "source": [
    "1. Larry Wasserman, _All of Statistics. A Concise Course in Statistical Inference_, Springer 2003."
   ]
  }
 ],
 "metadata": {
  "kernelspec": {
   "display_name": "Python 3 (ipykernel)",
   "language": "python",
   "name": "python3"
  },
  "language_info": {
   "codemirror_mode": {
    "name": "ipython",
    "version": 3
   },
   "file_extension": ".py",
   "mimetype": "text/x-python",
   "name": "python",
   "nbconvert_exporter": "python",
   "pygments_lexer": "ipython3",
   "version": "3.10.12"
  }
 },
 "nbformat": 4,
 "nbformat_minor": 5
}
