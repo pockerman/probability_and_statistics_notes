{
 "cells": [
  {
   "cell_type": "markdown",
   "metadata": {},
   "source": [
    "# $\\chi^2$ Distribution"
   ]
  },
  {
   "cell_type": "markdown",
   "metadata": {},
   "source": [
    "## <a name=\"overview\"></a> Overview"
   ]
  },
  {
   "cell_type": "markdown",
   "metadata": {},
   "source": [
    "The <a href=\"https://en.wikipedia.org/wiki/Chi-square_distribution\">$\\chi^2$ distribution</a> arises when we consider squares of random variables with standard normal distribution meaning when we consider variables of the form\n",
    "\n",
    "\n",
    "\\begin{equation}\n",
    "X = \\sum_{i}^k Z_{i}^2\n",
    "\\end{equation}\n",
    "\n",
    "In this case, we say that the variable $X$ follows the $\\chi^2$ distribution with $k$ degrees of freedom. The $\\chi^2$ distribution is used in Pearson's \n",
    "$\\chi^2$ test for multinomial data [3], the likelihood ratio test and for testing the goodness of fit i.e. we want to test the hypothesis\n",
    "that data come from an assumed parametric model."
   ]
  },
  {
   "cell_type": "markdown",
   "metadata": {},
   "source": [
    "## <a name=\"ekf\"></a> $\\chi^2$ distribution"
   ]
  },
  {
   "cell_type": "markdown",
   "metadata": {},
   "source": [
    "The <a href=\"https://en.wikipedia.org/wiki/Chi-square_distribution\">$\\chi^2$ distribution</a> arises when we consider squares of random variables with standard normal distribution. Specifically, if $Z$ is a random variable with standard normal distribution, we want to consider $X = Z^2$. Since $Z$ is a random variable so is $X$. However, the density function of $X$ is not normal as $X$ only takes positive values. In contrast\n",
    "we say that $X$ has an $\\chi^2$ distribution with one degree of freedom. We can expand this to a sum of random variables."
   ]
  },
  {
   "cell_type": "markdown",
   "metadata": {},
   "source": [
    "Thus, a variable of the form"
   ]
  },
  {
   "cell_type": "markdown",
   "metadata": {},
   "source": [
    "$$Y = Z_{1}^2 + \\cdots + Z_{k}^2  $$"
   ]
  },
  {
   "cell_type": "markdown",
   "metadata": {},
   "source": [
    "follows the $\\chi^2$ distribution with $k$ degrees of freedom. The PDF of $\\chi^2$ distribution is: "
   ]
  },
  {
   "cell_type": "markdown",
   "metadata": {},
   "source": [
    "$$\\chi^2(x, k) = \\begin{cases} \\frac{x^{k/2-1}e^{-x/2}}{2^{k/2}\\Gamma(\\frac{k}{2})}, x >0, \\\\ 0, \\text{otherwise}\\end{cases}$$"
   ]
  },
  {
   "cell_type": "markdown",
   "metadata": {},
   "source": [
    "The $\\chi^2$ distribution is a special case of the Gamma distribution. Indeed we can write\n",
    "\n",
    "$$\\chi^2(k) = \\Gamma(\\nu/2, 1/2)$$\n",
    "\n",
    "In addition, the $\\chi^2$ distribution with $k=2$ is Exponential with $\\lambda=1/2$. The script below plots the PDF of the $\\chi^2$ distribution\n",
    "with 55 degrees of freedom"
   ]
  },
  {
   "cell_type": "code",
   "execution_count": 2,
   "metadata": {
    "tags": []
   },
   "outputs": [],
   "source": [
    "from scipy.stats import chi2\n",
    "import matplotlib.pyplot as plt\n",
    "import numpy as np"
   ]
  },
  {
   "cell_type": "code",
   "execution_count": 4,
   "metadata": {
    "tags": []
   },
   "outputs": [
    {
     "data": {
      "image/png": "[encoded data removed]",
      "text/plain": [
       "<Figure size 432x288 with 1 Axes>"
      ]
     },
     "metadata": {
      "needs_background": "light"
     },
     "output_type": "display_data"
    }
   ],
   "source": [
    "fig, ax = plt.subplots(1, 1)\n",
    "df = 55\n",
    "x = np.linspace(chi2.ppf(0.01, df),\n",
    "                chi2.ppf(0.99, df), 100)\n",
    "ax.plot(x, chi2.pdf(x, df),\n",
    "          'r-', lw=5, alpha=0.6) #, label='chi2 PDF')\n",
    "#ax.legend(loc='best', frameon=False)\n",
    "plt.title(\"$\\chi^2$ PDF\")\n",
    "plt.show()"
   ]
  },
  {
   "cell_type": "markdown",
   "metadata": {},
   "source": [
    "### Expected value and variance"
   ]
  },
  {
   "cell_type": "markdown",
   "metadata": {},
   "source": [
    "The expected value and variance are given by [3]\n",
    "\n",
    "\n",
    "$$E\\left[X\\right] = k$$\n",
    "$$Var\\left[X\\right] = 2k$$"
   ]
  },
  {
   "cell_type": "markdown",
   "metadata": {},
   "source": [
    "## Summary"
   ]
  },
  {
   "cell_type": "markdown",
   "metadata": {},
   "source": [
    "This section introduced the $\\chi^2$ distribution. This distribution arises when we consider squares of random variables with standard normal distribution meaning when we consider variables of the form\n",
    "\n",
    "\n",
    "\\begin{equation}\n",
    "X = \\sum_{i}^k Z_{i}^2\n",
    "\\end{equation}\n",
    "\n",
    "In this case, we say that the variable $X$ follows the $\\chi^2$ distribution with $k$ degrees of freedom. The $\\chi^2$ distribution is used in Pearson's \n",
    "$\\chi^2$ test for multinomial data [3]. It is also used to costruct confidence intervals for the variance $\\sigma^2$. We will later see\n",
    "that such an interval has the following form\n",
    "\n",
    "\\begin{equation}\n",
    "\\left(\\frac{n\\hat{\\sigma^2}}{\\chi^{2}_{n-1, \\alpha/2}}, \\frac{n\\hat{\\sigma^2}}{\\chi^{2}_{n-1, 1- \\alpha/2}}\\right)\n",
    "\\end{equation}"
   ]
  },
  {
   "cell_type": "markdown",
   "metadata": {},
   "source": [
    "## <a name=\"refs\"></a> References"
   ]
  },
  {
   "cell_type": "markdown",
   "metadata": {},
   "source": [
    "1. <a href=\"https://en.wikipedia.org/wiki/Chi-square_distribution\">Chi-square distribution</a>\n",
    "2. <a href=\"https://docs.scipy.org/doc/scipy/reference/generated/scipy.stats.chi2.html\">scipy.stats.chi2</a>\n",
    "3. Larry Wasserman, _All of Statistics. A Concise Course in Statistical Inference_, Springer 2003."
   ]
  }
 ],
 "metadata": {
  "kernelspec": {
   "display_name": "Python 3 (ipykernel)",
   "language": "python",
   "name": "python3"
  },
  "language_info": {
   "codemirror_mode": {
    "name": "ipython",
    "version": 3
   },
   "file_extension": ".py",
   "mimetype": "text/x-python",
   "name": "python",
   "nbconvert_exporter": "python",
   "pygments_lexer": "ipython3",
   "version": "3.10.12"
  }
 },
 "nbformat": 4,
 "nbformat_minor": 4
}
