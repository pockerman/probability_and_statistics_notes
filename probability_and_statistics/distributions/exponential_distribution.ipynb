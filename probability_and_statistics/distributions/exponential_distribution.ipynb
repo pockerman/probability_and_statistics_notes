{
 "cells": [
  {
   "cell_type": "markdown",
   "metadata": {},
   "source": [
    "# Exponential distribution"
   ]
  },
  {
   "cell_type": "markdown",
   "metadata": {},
   "source": [
    "## Overview"
   ]
  },
  {
   "cell_type": "markdown",
   "metadata": {},
   "source": [
    "In this section we introduce the <a href=\"https://en.wikipedia.org/wiki/Exponential_distribution\">exponential distribution</a>. The exponential distribution is used to model time: waiting time, interarrival time, hardware lifetime, failure time, time between telephone calls, etc [2]. According to wikipedia \n"
   ]
  },
  {
   "cell_type": "markdown",
   "metadata": {},
   "source": [
    "_...the exponential distribution is the probability distribution of the time between events in a Poisson point process, i.e., a process in which events occur continuously and independently at a constant average rate_. "
   ]
  },
  {
   "cell_type": "markdown",
   "metadata": {},
   "source": [
    "## The exponential distribution"
   ]
  },
  {
   "cell_type": "markdown",
   "metadata": {},
   "source": [
    "Recall the geometric distribution. We use this distribution to model the number of experiments we need to perform in order to observe the \n",
    "first time the event of interest. Its continuous counterpart, is the exponential distribution. The exponential distribution has the key property of being memoryless. It has the following PDF"
   ]
  },
  {
   "cell_type": "markdown",
   "metadata": {},
   "source": [
    "$$f_X(x) = \\begin{cases} \\lambda exp\\{-\\lambda x\\}, x > 0 \\\\ 0, \\text{otherwise}\\end{cases}$$"
   ]
  },
  {
   "cell_type": "markdown",
   "metadata": {},
   "source": [
    "Let's use Python to plot of the PDF of exponential distribution"
   ]
  },
  {
   "cell_type": "code",
   "execution_count": 3,
   "metadata": {},
   "outputs": [],
   "source": [
    "import matplotlib.pyplot as plt\n",
    "import numpy as np\n",
    "import seaborn as sns"
   ]
  },
  {
   "cell_type": "code",
   "execution_count": 4,
   "metadata": {},
   "outputs": [],
   "source": [
    "# set tdefault seaborn\n",
    "sns.set()"
   ]
  },
  {
   "cell_type": "code",
   "execution_count": 6,
   "metadata": {},
   "outputs": [],
   "source": [
    "#fixing the seed for reproducibility\n",
    "#of the result\n",
    "np.random.seed(42)\n",
    "\n",
    "# size of sample\n",
    "size = 10000"
   ]
  },
  {
   "cell_type": "code",
   "execution_count": 7,
   "metadata": {},
   "outputs": [
    {
     "data": {
      "image/png": "[encoded data removed]",
      "text/plain": [
       "<Figure size 432x288 with 1 Axes>"
      ]
     },
     "metadata": {},
     "output_type": "display_data"
    }
   ],
   "source": [
    "\n",
    "#drawing 10000 sample from \n",
    "#exponential distribution\n",
    "sample = np.random.exponential(1, size)\n",
    "bin = np.arange(0,10,0.1)\n",
    "\n",
    "plt.hist(sample, bins=bin, edgecolor='blue') \n",
    "plt.title(\"Exponential Distribution\") \n",
    "plt.show()"
   ]
  },
  {
   "cell_type": "markdown",
   "metadata": {},
   "source": [
    "The exponential distribution is characterized by one parameter only i.e. the rate $\\lambda$. The expected value and variance are given below"
   ]
  },
  {
   "cell_type": "markdown",
   "metadata": {},
   "source": [
    "$$E\\left[x\\right] = \\frac{1}{\\lambda}$$"
   ]
  },
  {
   "cell_type": "markdown",
   "metadata": {},
   "source": [
    "$$Var\\left[x\\right] = \\frac{1}{\\lambda^2}$$"
   ]
  },
  {
   "cell_type": "markdown",
   "metadata": {},
   "source": [
    "The relationship between the expected value and $\\lambda$ allows us to interpret the latter as the frequency. Thus, if $X$ is the time measured in minutes, the $\\lambda$ is measured in $\\text{minutes}^{-1}$. Thus $\\lambda$ represents the number of events per time unit."
   ]
  },
  {
   "cell_type": "markdown",
   "metadata": {},
   "source": [
    "Let's compare visually the various distributions that we can obtain as we vary this parameter. This is done in the script below "
   ]
  },
  {
   "cell_type": "code",
   "execution_count": 8,
   "metadata": {},
   "outputs": [
    {
     "data": {
      "image/png": "[encoded data removed]",
      "text/plain": [
       "<Figure size 432x288 with 1 Axes>"
      ]
     },
     "metadata": {},
     "output_type": "display_data"
    }
   ],
   "source": [
    "#plot different exponential distributions\n",
    "sns.kdeplot(np.random.exponential(1, size))\n",
    "sns.kdeplot(np.random.exponential(2, size))\n",
    "sns.kdeplot(np.random.exponential(3, size))\n",
    "\n",
    "plt.legend([r\"$\\beta = 1$\", \n",
    "            r\"$\\beta = 2$\", \n",
    "            r\"$\\beta = 3$\"])\n",
    "plt.show()"
   ]
  },
  {
   "cell_type": "markdown",
   "metadata": {},
   "source": [
    "### The memoryless property"
   ]
  },
  {
   "cell_type": "markdown",
   "metadata": {},
   "source": [
    "Exponentially distributed variables are called memoryless. Let's see what this means. Assume that an exponentially distributed variable $X$ represents waiting time. "
   ]
  },
  {
   "cell_type": "markdown",
   "metadata": {},
   "source": [
    "_The memoryless property means that the fact of having waited for $t$ minutes gets “forgotten,” and it does not affect the future waiting time.  Regardless of the event $X > t$, when the total waiting time exceeds $t$, the remaining waiting time still has Exponential distribution with the same parameter._ [2]. "
   ]
  },
  {
   "cell_type": "markdown",
   "metadata": {},
   "source": [
    "Mathematically, we can write"
   ]
  },
  {
   "cell_type": "markdown",
   "metadata": {},
   "source": [
    "$$p(X > t + x | X > t) = P(X > x), ~~\\text{for}~~t,x > 0$$"
   ]
  },
  {
   "cell_type": "markdown",
   "metadata": {},
   "source": [
    "This property is unique for the exponential distribution. No other continuous variable $X\\in  (0, \\infty)$ is memoryless. Among discrete variables, such a property belongs to Geometric\n",
    "distribution [2]."
   ]
  },
  {
   "cell_type": "markdown",
   "metadata": {},
   "source": [
    "## Summary"
   ]
  },
  {
   "cell_type": "markdown",
   "metadata": {},
   "source": [
    "## References"
   ]
  },
  {
   "cell_type": "markdown",
   "metadata": {},
   "source": [
    "1. <a href=\"https://en.wikipedia.org/wiki/Exponential_distribution\">Exponential distribution</a>\n",
    "2. Michael Baron, _Probability and statistics for computer scientists_, 2nd Edition, CRC Press."
   ]
  }
 ],
 "metadata": {
  "kernelspec": {
   "display_name": "Python 3 (ipykernel)",
   "language": "python",
   "name": "python3"
  },
  "language_info": {
   "codemirror_mode": {
    "name": "ipython",
    "version": 3
   },
   "file_extension": ".py",
   "mimetype": "text/x-python",
   "name": "python",
   "nbconvert_exporter": "python",
   "pygments_lexer": "ipython3",
   "version": "3.10.12"
  }
 },
 "nbformat": 4,
 "nbformat_minor": 4
}
