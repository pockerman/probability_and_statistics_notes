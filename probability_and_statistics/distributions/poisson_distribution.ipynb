{
 "cells": [
  {
   "cell_type": "markdown",
   "metadata": {},
   "source": [
    "# Poisson Distribution"
   ]
  },
  {
   "cell_type": "markdown",
   "metadata": {},
   "source": [
    "## Overview"
   ]
  },
  {
   "cell_type": "markdown",
   "metadata": {},
   "source": [
    "In this section we introduce the <a href=\"https://en.wikipedia.org/wiki/Poisson_distribution\">Poisson distribution</a>. The Poisson distribution is related to the number of rare events. Essentially\n",
    "it means that two such events are extremely unlikely to occur simultaneously or within a very short period of time. Moreover, the Poisson distribution can be used as an approximation to the Binomial distribution. "
   ]
  },
  {
   "cell_type": "markdown",
   "metadata": {},
   "source": [
    "## Poisson distribution"
   ]
  },
  {
   "cell_type": "markdown",
   "metadata": {},
   "source": [
    "The Poisson distribution is related to the number of rare events. Specifically, the number of rare events occurring within a fixed period of time has Poisson\n",
    "distribution.  The PMF for the Poisson distribution is given by [1]\n",
    "\n",
    "\\begin{equation}\n",
    "f(x)=P(X=x)=exp{-\\lambda}\\frac{\\lambda^x}{x!}, ~~ x\\leq 0\n",
    "\\end{equation}\n",
    "\n",
    "For a variable $X$ that follows the Poisson distribution we have that\n",
    "\n",
    "$$E\\left[X\\right] = \\lambda$$\n",
    "$$Var\\left[X\\right] = \\lambda$$"
   ]
  },
  {
   "cell_type": "markdown",
   "metadata": {},
   "source": [
    "Hence the paramter $\\lambda$ denotes the average number of events. A Poisson variable can take **any nonnegative integer** value because no rare events may exist within the chosen period. The possible number of events is not limited. We have the following property. If $X_1 \\sim Poisson(\\lambda_1)$ and\n",
    "$X_2 \\sim Poisson(\\lambda_2)$, then $X_1 + X_2 \\sim Poisson(\\lambda_1 + \\lambda_2)$ [2]."
   ]
  },
  {
   "cell_type": "markdown",
   "metadata": {},
   "source": [
    "The following code snipper illustrates how generate a histogram plot for the Poisson distribution using\n",
    "```numpy``` and ```matplotlib```."
   ]
  },
  {
   "cell_type": "code",
   "execution_count": 2,
   "metadata": {},
   "outputs": [
    {
     "data": {
      "image/png": "[encoded data removed]",
      "text/plain": [
       "<Figure size 432x288 with 1 Axes>"
      ]
     },
     "metadata": {
      "needs_background": "light"
     },
     "output_type": "display_data"
    }
   ],
   "source": [
    "import numpy as np\n",
    "import matplotlib.pyplot as plt\n",
    "s = np.random.poisson(5, 10000)\n",
    "count, bins, ignored = plt.hist(s, 14)\n",
    "plt.show()"
   ]
  },
  {
   "cell_type": "markdown",
   "metadata": {},
   "source": [
    "### Poisson approximation of Binomial distribution"
   ]
  },
  {
   "cell_type": "markdown",
   "metadata": {},
   "source": [
    "The Poisson distribution can be used to approximate the Binomial distribution [1]. In particular, when the number of trials $n$ is large and the probability of success $p$ is small. Specifically we have the following rule of thumb"
   ]
  },
  {
   "cell_type": "markdown",
   "metadata": {},
   "source": [
    "----\n",
    "\n",
    "**Poisson approximation of Binomial distribution**\n",
    "\n",
    "\n",
    "$$\\text{Binomial}(n,p) \\approx \\text{Poisson}(\\lambda)$$\n",
    "\n",
    "where \n",
    "\n",
    "$$n \\geq 30, ~~ p \\leq 0.05, ~~np=\\lambda$$ \n",
    "\n",
    "\n",
    "----"
   ]
  },
  {
   "cell_type": "markdown",
   "metadata": {},
   "source": [
    "## Summary"
   ]
  },
  {
   "cell_type": "markdown",
   "metadata": {},
   "source": [
    "This section introduced the Poisson distribution. The Poisson distribution is used  to model  the number of rare events occurring \n",
    "within a fixed period of time. It is characterised by one parameter namely $\\lambda$. It has the following expected value and variance \n",
    "\n",
    "$$E\\left[X\\right] = \\lambda$$\n",
    "$$Var\\left[X\\right] = \\lambda$$"
   ]
  },
  {
   "cell_type": "markdown",
   "metadata": {},
   "source": [
    "The Poissong distribution can also be used to approximate the Binomial distribution. This will be the case when $n\\geq30$ and the\n",
    "probability of success is low i.e. $p\\leq 0.05$. The time interval between the rare events can be modelled using the <a href=\"https://en.wikipedia.org/wiki/Exponential_distribution\">exponential distribution</a> which we will see later on."
   ]
  },
  {
   "cell_type": "markdown",
   "metadata": {},
   "source": [
    "## References"
   ]
  },
  {
   "cell_type": "markdown",
   "metadata": {},
   "source": [
    "1. Michael Baron, _Probability and statistics for computer scientists_, 2nd Edition, CRC Press.\n",
    "2. Larry Wasserman, _All of Statistics. A Concise Course in Statistical Inference_, Springer 2003."
   ]
  }
 ],
 "metadata": {
  "kernelspec": {
   "display_name": "Python 3 (ipykernel)",
   "language": "python",
   "name": "python3"
  },
  "language_info": {
   "codemirror_mode": {
    "name": "ipython",
    "version": 3
   },
   "file_extension": ".py",
   "mimetype": "text/x-python",
   "name": "python",
   "nbconvert_exporter": "python",
   "pygments_lexer": "ipython3",
   "version": "3.10.12"
  }
 },
 "nbformat": 4,
 "nbformat_minor": 4
}
