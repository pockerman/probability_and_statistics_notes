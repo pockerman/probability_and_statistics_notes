{
 "cells": [
  {
   "cell_type": "markdown",
   "metadata": {},
   "source": [
    "# Bernoulli Distribution"
   ]
  },
  {
   "cell_type": "markdown",
   "metadata": {},
   "source": [
    "## Overview "
   ]
  },
  {
   "cell_type": "markdown",
   "metadata": {},
   "source": [
    "In this section we discuss the <a href=\"https://en.wikipedia.org/wiki/Bernoulli_distribution\">Bernoulli distribution</a>."
   ]
  },
  {
   "cell_type": "markdown",
   "metadata": {},
   "source": [
    "## Bernoulli distribution"
   ]
  },
  {
   "cell_type": "markdown",
   "metadata": {},
   "source": [
    "The simplest random variable takes just two possible values. Let's call them 0 and 1. We have the following definition."
   ]
  },
  {
   "cell_type": "markdown",
   "metadata": {},
   "source": [
    "----\n",
    "\n",
    "**Definition 1: Bernoulli variable and Bernoulli trial**\n",
    "\n",
    "\n",
    "A random variable with two possible values, 0 and 1, is called a Bernoulli variable. Its distribution is the Bernoulli distribution, and any experiment with a binary outcome is called a Bernoulli trial.\n",
    "\n",
    "\n",
    "----"
   ]
  },
  {
   "cell_type": "markdown",
   "metadata": {},
   "source": [
    "Some examples of Bernoulli trials are the following. Good or defective components, parts that pass or fail tests, transmitted or lost signals,\n",
    "working or malfunctioning hardware, benign or malicious attachments, sites that contain\n",
    "or do not contain a keyword, girls and boys, heads and tails, and so on. All the above  are examples of\n",
    "Bernoulli trials and therefore fit the same Bernoulli model. We can use\n",
    "generic names for the two outcomes such as _successes_ and _failures_. These are nothing but commonly used generic names; in fact, successes do not have to be good, and failures do not have to be bad."
   ]
  },
  {
   "cell_type": "markdown",
   "metadata": {},
   "source": [
    "Let's assume that $p$ is the probability of success. Then the probability of failure is $q=1-p$. \n",
    "The PMF therefore for a Bernoulli variable is [1]\n",
    "\n",
    "\\begin{equation}\n",
    "f(x)=P(X=x) \\begin{cases}\n",
    "p, ~~ \\text{if} ~~ x = 1 \\\\\n",
    "q, ~~ \\text{if} ~~ x = 0 \n",
    "\\end{cases}\n",
    "\\end{equation}\n",
    "\n",
    "or\n",
    "\n",
    "\\begin{equation}\n",
    "f(x)=P(X=x) = p^x(1-p)^{1-x}\n",
    "\\end{equation}\n",
    "\n",
    "for some $p\\in[0,1]$ and  $x \\in [0,1]$\n",
    "\n",
    "The expectation and variance of a Bernoulli variable are given by\n",
    "\n",
    "$$E\\left[X\\right] = p$$\n",
    "$$Var\\left[X\\right] = pq$$\n",
    "\n",
    "\n",
    "----\n",
    "**Remark**\n",
    "\n",
    "Given that $p$ lies in the range $[0, 1]$ implies that there is a whole family of Bernoulli distributions indexed by $p$. Every $p$ between 0 and 1 defines another Bernoulli distribution. The distribution with\n",
    "$p = 0.5$ carries the highest level of uncertainty because $Var\\left[X\\right] = pq$ is maximized by\n",
    "$p = q = 0.5$. Distributions with lower or higher $p$ have lower variances. \n",
    "\n",
    "----\n",
    "\n",
    "\n",
    "----\n",
    "**Remark**\n",
    "\n",
    "Extreme parameters\n",
    "$p = 0$ and $p = 1$ define non-random variables 0 and 1, respectively; their variance is 0.\n",
    "\n",
    "----"
   ]
  },
  {
   "cell_type": "markdown",
   "metadata": {},
   "source": [
    "## Summary"
   ]
  },
  {
   "cell_type": "markdown",
   "metadata": {},
   "source": [
    "This section introduced the Bernoulli distribution. This can be used to model random variables that their\n",
    "output can be either 0 or 1, true or false, success or failure and so on. The distribution is definde via \n",
    "one parameter $p$ which models the probability of _success_."
   ]
  },
  {
   "cell_type": "markdown",
   "metadata": {},
   "source": [
    "## References"
   ]
  },
  {
   "cell_type": "markdown",
   "metadata": {},
   "source": [
    "1. Larry Wasserman, _All of Statistics. A Concise Course in Statistical Inference_, Springer 2003."
   ]
  }
 ],
 "metadata": {
  "kernelspec": {
   "display_name": "Python 3 (ipykernel)",
   "language": "python",
   "name": "python3"
  },
  "language_info": {
   "codemirror_mode": {
    "name": "ipython",
    "version": 3
   },
   "file_extension": ".py",
   "mimetype": "text/x-python",
   "name": "python",
   "nbconvert_exporter": "python",
   "pygments_lexer": "ipython3",
   "version": "3.10.12"
  }
 },
 "nbformat": 4,
 "nbformat_minor": 4
}
