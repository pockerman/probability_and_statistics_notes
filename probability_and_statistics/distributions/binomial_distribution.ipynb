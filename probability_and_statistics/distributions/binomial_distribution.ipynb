{
 "cells": [
  {
   "cell_type": "markdown",
   "metadata": {},
   "source": [
    "# Binomial Distribution"
   ]
  },
  {
   "cell_type": "markdown",
   "metadata": {},
   "source": [
    "## Overview"
   ]
  },
  {
   "cell_type": "markdown",
   "metadata": {},
   "source": [
    "In this section, we will review the <a href=\"https://en.wikipedia.org/wiki/Binomial_distribution\">Binomial distribution</a>. This distribution has many applications in\n",
    "real life.  Consider for example the statistical estimation of defective computers in a shipment.\n",
    "We randomly select a computer and check whether this is defective or not. This process will form a sequence\n",
    "of independent Bernoulli trials. "
   ]
  },
  {
   "cell_type": "markdown",
   "metadata": {},
   "source": [
    "Morever, in this section, we will look into the <a href=\"https://scipy.org/\">SciPy</a> library standing for\n",
    "Scientific Python. You can easily install the librayr using ```pip```\n",
    "\n",
    "```\n",
    "pip install scipy\n",
    "```"
   ]
  },
  {
   "cell_type": "markdown",
   "metadata": {},
   "source": [
    "## Binomial distribution"
   ]
  },
  {
   "cell_type": "markdown",
   "metadata": {},
   "source": [
    "Let's start with the definition of the Binomial distribution. "
   ]
  },
  {
   "cell_type": "markdown",
   "metadata": {},
   "source": [
    "----\n",
    "\n",
    "**Definition: Binomial distribution**\n",
    "\n",
    "Consider a sequence of **independent** Bernoulli trials. The variable that describes the number of successes\n",
    "in this sequence follows the Binomial distribution. The Binomial distribution is characterized by\n",
    "two parameters; $n$, the number of trials, and $p$, the probability of success.\n",
    "\n",
    "----"
   ]
  },
  {
   "cell_type": "markdown",
   "metadata": {},
   "source": [
    "The probability mass function, PMF, of the Binomial distribution is given by "
   ]
  },
  {
   "cell_type": "markdown",
   "metadata": {},
   "source": [
    "$$P_X(x) = \\binom{n}{x}p^xq^{n - x}, x=0,1,\\cdots,n$$"
   ]
  },
  {
   "cell_type": "markdown",
   "metadata": {},
   "source": [
    "which is the probability of exactly $x$ successes in $n$ trials. In this formula, $p^x$ is the probability of $x$ successes, probabilities being multiplied due to independence of trials. Here us an example."
   ]
  },
  {
   "cell_type": "markdown",
   "metadata": {},
   "source": [
    "----\n",
    "\n",
    "**Example 1**\n",
    "\n",
    "Let's assume we toss a coin 10 times. Every time we record the outcome of the toss. What is the probability we get four heads in the 10 times we toss the coin?\n",
    "\n",
    "The Binomial distribution, gives us the probability of getting exactly $x$ successes in  $n$  trials. We assume that the coin is fair with $p=0.5$. Thus the probability is given by \n",
    "\n",
    "$$P_X(4) = \\binom{10}{4}p^4q^{6}, p=0.5, q=0.5$$\n",
    "\n",
    "We can use Python to calculate this probability. \n",
    "\n"
   ]
  },
  {
   "cell_type": "code",
   "execution_count": 1,
   "metadata": {
    "tags": []
   },
   "outputs": [],
   "source": [
    "from scipy.stats import binom\n",
    "from scipy import stats\n",
    "import matplotlib.pyplot as plt"
   ]
  },
  {
   "cell_type": "code",
   "execution_count": 8,
   "metadata": {},
   "outputs": [
    {
     "name": "stdout",
     "output_type": "stream",
     "text": [
      "Probability of getting 4 heads in 10 coin tosses is 0.2050781249999999\n"
     ]
    }
   ],
   "source": [
    "n, p = 10, 0.5\n",
    "k=4\n",
    "\n",
    "print(f\"Probability of getting {k} heads in {n} coin tosses is {binom.pmf(k=k, n=n, p=p)}\")"
   ]
  },
  {
   "cell_type": "markdown",
   "metadata": {},
   "source": [
    "----"
   ]
  },
  {
   "cell_type": "markdown",
   "metadata": {},
   "source": [
    "----\n",
    "**Example 2**\n",
    "\n",
    "This time we roll a die 10 times. This is not a Bernoully experiment as there five possible outcomes.\n",
    "However, if we restrict ourselves to the scenario of getting say a six or not, then this should be Bernoully experiment.\n",
    "Thus, what is the probability we get a 6 four times. Assuming the the die is fair then $p=1/6$. \n",
    "Hence:"
   ]
  },
  {
   "cell_type": "code",
   "execution_count": 4,
   "metadata": {
    "tags": []
   },
   "outputs": [
    {
     "name": "stdout",
     "output_type": "stream",
     "text": [
      "Probability of getting 4 6s in 10 die rolls is 0.054265875850988195\n"
     ]
    }
   ],
   "source": [
    "n, p = 10, 1.0/6.0\n",
    "k=4\n",
    "\n",
    "print(f\"Probability of getting {k} 6s in {n} die rolls is {binom.pmf(k=k, n=n, p=p)}\")"
   ]
  },
  {
   "cell_type": "markdown",
   "metadata": {},
   "source": [
    "----"
   ]
  },
  {
   "cell_type": "markdown",
   "metadata": {},
   "source": [
    "The ```binom.pmf``` function returns the probability of observing exactly 4 heads, or tails for that matter, are observed.\n",
    "Notice, that the ```stats.binom.pmf``` can also be used to compute multiple probabilities simultaneously. \n",
    "In this case the function should return an array that its number of elements is equal to the number of elements of the\n",
    "input array [4]:\n"
   ]
  },
  {
   "cell_type": "code",
   "execution_count": 27,
   "metadata": {
    "tags": []
   },
   "outputs": [
    {
     "name": "stdout",
     "output_type": "stream",
     "text": [
      "Probability of getting [4, 5] 6s in 10 die rolls is [0.05426588 0.01302381]\n"
     ]
    }
   ],
   "source": [
    "n, p = 10, 1.0/6.0\n",
    "\n",
    "# four and five 6s in the sequence\n",
    "k=[4, 5]\n",
    "\n",
    "print(f\"Probability of getting {k} 6s in {n} die rolls is {binom.pmf(k=k, n=n, p=p)}\")"
   ]
  },
  {
   "cell_type": "markdown",
   "metadata": {},
   "source": [
    "Let's now consider a sequence of 10 die rolls.  "
   ]
  },
  {
   "cell_type": "code",
   "execution_count": 19,
   "metadata": {
    "tags": []
   },
   "outputs": [
    {
     "name": "stdout",
     "output_type": "stream",
     "text": [
      "Total sum of probabilities equals 1.00000000000000\n"
     ]
    }
   ],
   "source": [
    "n, p = 20, 1.0/6.0\n",
    "interval_all_counts = range(n + 1)\n",
    "probabilities = stats.binom.pmf(interval_all_counts, n, p)\n",
    "total_prob = probabilities.sum()\n",
    "print(f\"Total sum of probabilities equals {total_prob:.14f}\")\n"
   ]
  },
  {
   "cell_type": "markdown",
   "metadata": {},
   "source": [
    "Let's try to plot the Binomial distribution for number of experiments"
   ]
  },
  {
   "cell_type": "code",
   "execution_count": 23,
   "metadata": {
    "tags": []
   },
   "outputs": [
    {
     "data": {
      "image/png": "[encoded data removed]",
      "text/plain": [
       "<Figure size 432x288 with 1 Axes>"
      ]
     },
     "metadata": {
      "needs_background": "light"
     },
     "output_type": "display_data"
    }
   ],
   "source": [
    "p = 1.0/6.0\n",
    "roll_counts = [20, 40, 80, 160]\n",
    "linestyles = ['-', '--', '-.', ':']\n",
    "colors = ['b', 'g', 'r', 'k']\n",
    " \n",
    "for num_rolls, linestyle, color in zip(roll_counts, linestyles, colors):\n",
    "    x_values = range(num_rolls + 1)\n",
    "    y_values = stats.binom.pmf(x_values, num_rolls, p)\n",
    "    plt.plot(x_values, y_values, linestyle=linestyle, color=color,\n",
    "             label=f'{num_rolls} rolls')\n",
    "plt.legend()\n",
    "plt.xlabel('Face-6 count')\n",
    "plt.ylabel('Probability')\n",
    "plt.show()"
   ]
  },
  {
   "cell_type": "markdown",
   "metadata": {},
   "source": [
    "As the number of dies rolls increases the distribution center shifts to the right.\n",
    "In addition, the dispersion of the values seems to increase [4]. As we will see below, the variance of the Binomial distribution\n",
    "is given by \n",
    "\n",
    "$$Var\\left[X\\right] = npq$$\n",
    "\n",
    "Let's use the formula to compute the variance for the given number or folls:"
   ]
  },
  {
   "cell_type": "code",
   "execution_count": 26,
   "metadata": {
    "tags": []
   },
   "outputs": [
    {
     "name": "stdout",
     "output_type": "stream",
     "text": [
      "Variance for roll count 20 is 2.7777777777777777\n",
      "Variance for roll count 40 is 5.555555555555555\n",
      "Variance for roll count 80 is 11.11111111111111\n",
      "Variance for roll count 160 is 22.22222222222222\n"
     ]
    }
   ],
   "source": [
    "for num_rolls in roll_counts:\n",
    "    print(f\"Variance for roll count {num_rolls} is {num_rolls * p * (1.0 -p)}\")\n",
    "   "
   ]
  },
  {
   "cell_type": "markdown",
   "metadata": {},
   "source": [
    "### Mean and variance"
   ]
  },
  {
   "cell_type": "markdown",
   "metadata": {},
   "source": [
    "Graphically, visualising the distribution is useful, but we also want to be able to numerically describe the data.\n",
    "The mean and the variance of a distribution are frequently used to describe it. So in this section, we will see how to\n",
    "compute the mean and the variance of a Binomial distribution. Recall that the for a discrete variable $X$ the mean and variance\n",
    "can be computed according to\n",
    "\n",
    "$$\\mu = E(X) = \\sum_x xP_X(x)$$\n",
    "\n",
    "$$\\sigma^2 = Var(X) = E(X - E[X])^2 = \\sum_x (x-\\mu)^2P_X(x)$$\n",
    "\n",
    "\n",
    "where $P_X$ is the PMF of the distribution describing the variable. For the Binomial distribution the PMF is\n",
    "\n",
    "$$P_X(x) = \\binom{n}{x}p^xq^{n - x}, x=0,1,\\cdots,n$$"
   ]
  },
  {
   "cell_type": "markdown",
   "metadata": {},
   "source": [
    "The PMF above can be simplify by observing that each Bernoulli trial is associated with a Bernoulli variable that equals either 1 or 0 [3].  If we sum all these variables, we get the overall number of successes. Thus, we can represent any Binomial variable $X$ as a sum of independent Bernoulli variables:"
   ]
  },
  {
   "cell_type": "markdown",
   "metadata": {},
   "source": [
    "$$X = X_1 + X_2 + \\dots  +X_n$$"
   ]
  },
  {
   "cell_type": "markdown",
   "metadata": {},
   "source": [
    "It is now easy to compute the mean and the variance of the Binomial distribution; "
   ]
  },
  {
   "cell_type": "markdown",
   "metadata": {},
   "source": [
    "$$E\\left[X\\right] = np$$"
   ]
  },
  {
   "cell_type": "markdown",
   "metadata": {},
   "source": [
    "$$Var\\left[X\\right] = npq$$"
   ]
  },
  {
   "cell_type": "markdown",
   "metadata": {},
   "source": [
    "Both quantities are fairly easy to compute. With SciPy we can do"
   ]
  },
  {
   "cell_type": "code",
   "execution_count": 3,
   "metadata": {
    "tags": []
   },
   "outputs": [
    {
     "name": "stdout",
     "output_type": "stream",
     "text": [
      "Mean of Binomial distribution for n=10 experiments with sucesse p=0.16666666666666666 is 1.6666666666666665\n",
      "Variance of Binomial distribution for n=10 experiments with sucesse p=0.16666666666666666 is 1.3888888888888888\n"
     ]
    }
   ],
   "source": [
    "n=10\n",
    "p = 1./6.\n",
    "\n",
    "mean = stats.binom.mean(n, p)\n",
    "print(f\"Mean of Binomial distribution for n={n} experiments with sucesse p={p} is {mean}\")\n",
    "var = stats.binom.var(n, p)\n",
    "print(f\"Variance of Binomial distribution for n={n} experiments with sucesse p={p} is {var}\")"
   ]
  },
  {
   "cell_type": "markdown",
   "metadata": {},
   "source": [
    "In the next section, we will introduce the Poisson distribution and \n",
    "how to use it in order to approximate the Binomial distribution."
   ]
  },
  {
   "cell_type": "markdown",
   "metadata": {},
   "source": [
    "## Summary"
   ]
  },
  {
   "cell_type": "markdown",
   "metadata": {},
   "source": [
    "In this section we discussed the Binomial distribution. This distribution describes the number of successes\n",
    "in a series of independent Bernoulli trials. The Binomial distribution is characterized by two parameters; \n",
    "$n$, the number of trials, and $p$, the probability of success. The mean and the variance are\n",
    "\n",
    "$$E\\left[X\\right] = np$$\n",
    "$$Var\\left[X\\right] = npq$$\n",
    "\n"
   ]
  },
  {
   "cell_type": "markdown",
   "metadata": {},
   "source": [
    "## References"
   ]
  },
  {
   "cell_type": "markdown",
   "metadata": {},
   "source": [
    "1. <a href=\"https://en.wikipedia.org/wiki/Binomial_distribution\">Binomial distribution</a>\n",
    "2. <a href=\"https://scipy.org/\">SciPy</a>\n",
    "3. Michael Baron, _Probability and statistics for computer scientists_, 2nd Edition, CRC Press.\n",
    "4. Leonard Apeltsin, _Data Science Bookcamp_, Manning Publications, 2021."
   ]
  }
 ],
 "metadata": {
  "kernelspec": {
   "display_name": "Python 3 (ipykernel)",
   "language": "python",
   "name": "python3"
  },
  "language_info": {
   "codemirror_mode": {
    "name": "ipython",
    "version": 3
   },
   "file_extension": ".py",
   "mimetype": "text/x-python",
   "name": "python",
   "nbconvert_exporter": "python",
   "pygments_lexer": "ipython3",
   "version": "3.10.12"
  }
 },
 "nbformat": 4,
 "nbformat_minor": 4
}
