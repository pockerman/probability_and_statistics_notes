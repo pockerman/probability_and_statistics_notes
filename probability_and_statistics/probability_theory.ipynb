{
 "cells": [
  {
   "cell_type": "markdown",
   "metadata": {},
   "source": [
    "# Probability Theory"
   ]
  },
  {
   "cell_type": "markdown",
   "metadata": {},
   "source": [
    "In this chapter, we review some foundational concepts on probability theory. \n",
    "We will see that the probability, $P(A)$ of an event $A$ is a real number. \n",
    "The function $P$ that assigns a real number $P(A)$ to each event $A$ has \n",
    "to  satisfy three axioms [1]. There are many interpretations of $P(A)$. The two most common ones are frequencies and degrees of belief [1]. The first interpretation \n",
    "assigns $P(A)$ the proportion of times the event $A$ is true in repetitions. The degree-of-belief interpretation\n",
    "assigns $P(A)$ the belief of an observer that the event $A$ is true [1]. This difference will manifest itself when we look into\n",
    "statistical inference. \n",
    " "
   ]
  },
  {
   "cell_type": "markdown",
   "metadata": {},
   "source": [
    "In addition, we will look into some common probability distributions i.e. some common \n",
    "functions $P$ that assign a real number to an event $A$. "
   ]
  },
  {
   "cell_type": "markdown",
   "metadata": {},
   "source": [
    "Furthermore, we will look into some simulation methods. \n",
    "In aprticular, we will review Monte Carlo simulations. In Monte Carlo simulation, we learn properties of a random\n",
    "variable (mean, variance, etc.) by simulating it over many trials. "
   ]
  },
  {
   "cell_type": "markdown",
   "metadata": {},
   "source": [
    "As an application of Monte Carlo methods we look into Monte Carlo integration. \n",
    "This is a form of stochastic integration used to\n",
    "approximate expectations by invoking the law of large numbers. Standard Monte Carlo integration is great if we can sample from\n",
    "the target distribution (i.e. the desired distribution). However, this is not always possible."
   ]
  },
  {
   "cell_type": "markdown",
   "metadata": {},
   "source": [
    "Importance sampling can be used to overcome this limitation of standard Monte Carlo. The idea behind importance sampling is simple; \n",
    "draw the sample from a proposal distribution and then re-weight the integral using importance weights so that the correct distribution is targeted [3]."
   ]
  },
  {
   "cell_type": "markdown",
   "metadata": {},
   "source": [
    "A very nice and concise overview of the topic can be found at <a href=\"https://betanalpha.github.io/assets/case_studies/probability_theory.html\">Probability Theory (For Scientists and Engineers)</a> by Michael Betancourt."
   ]
  },
  {
   "cell_type": "markdown",
   "metadata": {},
   "source": [
    "## References\n"
   ]
  },
  {
   "cell_type": "markdown",
   "metadata": {},
   "source": [
    "1. Larry Wasserman, _All of Statistics. A Concise Course in Statistical Inference_, Springer 2003.\n",
    "2. <a href=\"https://astrostatistics.psu.edu/su14/lectures/cisewski_is.pdf\">Imporatnce sampling</a>\n",
    "3. <a href=\"https://people.duke.edu/~ccc14/sta-663/index.html\">Computational Statistics in Python</a> "
   ]
  }
 ],
 "metadata": {
  "kernelspec": {
   "display_name": "Python 3 (ipykernel)",
   "language": "python",
   "name": "python3"
  },
  "language_info": {
   "codemirror_mode": {
    "name": "ipython",
    "version": 3
   },
   "file_extension": ".py",
   "mimetype": "text/x-python",
   "name": "python",
   "nbconvert_exporter": "python",
   "pygments_lexer": "ipython3",
   "version": "3.10.6"
  }
 },
 "nbformat": 4,
 "nbformat_minor": 4
}
