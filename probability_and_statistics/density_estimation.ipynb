{
 "cells": [
  {
   "cell_type": "markdown",
   "id": "72d377c7-faa1-45d1-bc2c-cf4f9fc7afe0",
   "metadata": {},
   "source": [
    "# Density Estimation"
   ]
  },
  {
   "cell_type": "markdown",
   "id": "798e583a-1e6e-42cb-95a7-7b8698877b1f",
   "metadata": {},
   "source": [
    "## Overview\n"
   ]
  },
  {
   "cell_type": "markdown",
   "id": "2ae96e07-57e5-4cc4-af33-b975f2c86fc4",
   "metadata": {},
   "source": [
    "Very frequently, we want to be able to say something about the PDF that \n",
    "governs a data generating process. However, given that we do not know this we need to somehow estimate\n",
    "the PDF from the data. "
   ]
  },
  {
   "cell_type": "markdown",
   "id": "cbbeacf2-1e18-4d97-b032-dc5708575ac9",
   "metadata": {},
   "source": [
    "In this section, we discuss various <a href=\"https://en.wikipedia.org//wiki/Density_estimation\">density estimation</a> techniques. \n",
    "Some of them such as <a href=\"#\">Gaussian mixtures</a> will pop up when we discuss soft clustering \n",
    "methodologies."
   ]
  },
  {
   "cell_type": "markdown",
   "id": "63797347-4028-4731-9135-0474b4bdea6d",
   "metadata": {},
   "source": [
    "## Density estimation"
   ]
  },
  {
   "cell_type": "markdown",
   "id": "9bfce8c5-88cb-4066-864d-12a9b6953872",
   "metadata": {},
   "source": [
    "### Histograms"
   ]
  },
  {
   "cell_type": "markdown",
   "id": "a8384421-2092-4f1b-a199-0e1f5562c67f",
   "metadata": {},
   "source": [
    "One of the most commonly used technique for density estimation is the histogram.\n",
    "The histogram is a data plot where bins are defined, and the number of data points within each bin is tallied."
   ]
  },
  {
   "cell_type": "markdown",
   "id": "2078304f-c1aa-4957-b4ea-9f69b1cef236",
   "metadata": {},
   "source": [
    "Despite their simplicity, histograms have a major proble; the choice of binning can  have a disproportionate effect on the resulting visualization and this can seriously affect the choice of the assumed PDF we make based on the visualization."
   ]
  },
  {
   "cell_type": "markdown",
   "id": "664bd8a5-a12d-4044-99a4-f810f28e5868",
   "metadata": {},
   "source": [
    "### Kernel density estimation"
   ]
  },
  {
   "cell_type": "markdown",
   "id": "b3478ce1-34f1-4cb3-a6ca-1e361ff7ac96",
   "metadata": {},
   "source": [
    "## Summary"
   ]
  },
  {
   "cell_type": "markdown",
   "id": "024e6597-20d7-49aa-b1be-c3ae99ecc4e5",
   "metadata": {},
   "source": [
    "## References"
   ]
  },
  {
   "cell_type": "code",
   "execution_count": null,
   "id": "6f31ddba-665b-4bfd-a770-9a88fbba42dc",
   "metadata": {},
   "outputs": [],
   "source": []
  }
 ],
 "metadata": {
  "kernelspec": {
   "display_name": "Python 3 (ipykernel)",
   "language": "python",
   "name": "python3"
  },
  "language_info": {
   "codemirror_mode": {
    "name": "ipython",
    "version": 3
   },
   "file_extension": ".py",
   "mimetype": "text/x-python",
   "name": "python",
   "nbconvert_exporter": "python",
   "pygments_lexer": "ipython3",
   "version": "3.10.6"
  }
 },
 "nbformat": 4,
 "nbformat_minor": 5
}
