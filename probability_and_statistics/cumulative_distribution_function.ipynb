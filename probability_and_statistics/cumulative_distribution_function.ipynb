{
 "cells": [
  {
   "cell_type": "markdown",
   "metadata": {},
   "source": [
    "# Cumulative Distribution Function"
   ]
  },
  {
   "cell_type": "markdown",
   "metadata": {},
   "source": [
    "## Overview"
   ]
  },
  {
   "cell_type": "markdown",
   "metadata": {},
   "source": [
    "In this section, we will discuss the \n",
    "<a href=\"https://en.wikipedia.org/wiki/Cumulative_distribution_function\">cumulative distribution function</a> or CDF for short.\n",
    "We will give the definition of CDF as well as the properties that a mapping $F$ has to satisfy in order to qualify for a CDF.\n",
    "We will also discuss how to compute the empirical CDF from available data.\n",
    "The CDF completely determines the probability distribution of a random variable. "
   ]
  },
  {
   "cell_type": "markdown",
   "metadata": {},
   "source": [
    "## Cumulative distribution function"
   ]
  },
  {
   "cell_type": "markdown",
   "metadata": {},
   "source": [
    "We start this section with a definition. The CDF is defined as [1]:\n",
    "\n",
    "----\n",
    "**Definition 1: Cumulative Distribution Function**\n",
    "\n",
    "The CDF of a real-valued random variable $X$ is the function $F_X: R \\rightarrow [0,1]$ defined by\n",
    "\n",
    "\\begin{equation}\n",
    "F_X(x) = P(X \\leq x)\n",
    "\\end{equation}\n",
    "\n",
    "----\n",
    "\n",
    "Thus, by definition, the CDF shows the probability that a random variable $X$ with take a value less than or equal to a specific value $x$ in $R$.\n",
    "One of the advantages of a CDF is that it contains all the information about the random variable [1].  \n",
    "\n",
    "For a discrete random variable the dfinition above implies that\n",
    "\n",
    "\\begin{equation}\n",
    "F_X(x) = P(X \\leq x) = \\sum_{y \\leq x} P(y)\n",
    "\\end{equation}\n",
    "\n",
    "For continuous random variables the definition above implies\n",
    "\n",
    "\\begin{equation}\n",
    "F_X(x) = P(X \\leq x) = \\int_{-\\infty}^{x} P(z) dz\n",
    "\\end{equation}"
   ]
  },
  {
   "cell_type": "markdown",
   "metadata": {},
   "source": [
    "A function $F$ in order to qualify as a CDF, it must comply with the following theorem [1]:\n",
    "\n",
    "\n",
    "----\n",
    "\n",
    "**Theorem 1:**\n",
    "\n",
    "A function $F: R \\rightarrow [0,1]$ is a CDF for some probability $P$ if and only if $F$ satisfies the following three conditions\n",
    "\n",
    "- It is non-decreasing i.e. $x_1 < x_2$ implies $F_X(x_1) < F_X(x_2)$\n",
    "- $F$ is normalized i.e. \n",
    "\n",
    "$$lim_{x \\rightarrow -\\infty} F(x)=0$$\n",
    "$$lim_{x \\rightarrow \\infty} F(x)=1$$\n",
    "\n",
    "- $F$ is right-continuous $F(x)=lim_{y \\rightarrow x, y > x} F(y)$\n",
    "\n",
    "----\n",
    "\n"
   ]
  },
  {
   "cell_type": "markdown",
   "metadata": {},
   "source": [
    "## Example: CDF of coin flips"
   ]
  },
  {
   "cell_type": "markdown",
   "metadata": {},
   "source": [
    "Let's consider the case where we flip a coin twice. Let $X$ be the number we record tails, $T$, in the experiment. \n",
    "Then $X$ can take the following values\n",
    "\n",
    "\n",
    "| x   | P(X=x) |\n",
    "|-----| -------|\n",
    "| 0   | 0.25   |\n",
    "| 1   | 0.5    |\n",
    "| 2   | 0.25   |\n",
    "\n",
    "The plotted CDF is shown below"
   ]
  },
  {
   "cell_type": "code",
   "execution_count": 5,
   "metadata": {
    "tags": []
   },
   "outputs": [],
   "source": [
    "import matplotlib.pyplot as plt\n",
    "import numpy as np"
   ]
  },
  {
   "cell_type": "code",
   "execution_count": null,
   "metadata": {},
   "outputs": [],
   "source": [
    "def ecdf(data):\n",
    "    \"\"\"Compute ECDF for a one-dimensional array of measurements.\n",
    "    \"\"\"\n",
    "    \n",
    "    # Number of data points: n\n",
    "    n = len(data)\n",
    "\n",
    "    # x-data for the ECDF: x\n",
    "    x = np.sort(data)\n",
    "\n",
    "    # y-data for the ECDF: y\n",
    "    y = np.arange(1, n + 1) / n\n",
    "\n",
    "    return x, y"
   ]
  },
  {
   "cell_type": "code",
   "execution_count": 15,
   "metadata": {
    "tags": []
   },
   "outputs": [
    {
     "data": {
      "image/png": "[encoded data removed]",
      "text/plain": [
       "<Figure size 432x288 with 1 Axes>"
      ]
     },
     "metadata": {
      "needs_background": "light"
     },
     "output_type": "display_data"
    }
   ],
   "source": [
    "x = [0, 1, 2]\n",
    "x, y = ecdf(x)\n",
    "\n",
    "# Generate plot. TICKLEFT\n",
    "_ = plt.plot(x, y, marker=0, color=\"red\", linestyle='none')\n",
    "\n",
    "# Label the axes\n",
    "_ = plt.xlabel(\"$X=x$\")\n",
    "_ = plt.ylabel(\"$F_X$\")\n",
    "plt.title(\"CDF for flipping a coin twice\")\n",
    "\n",
    "\n",
    "# Display the plot\n",
    "plt.show()"
   ]
  },
  {
   "cell_type": "markdown",
   "metadata": {},
   "source": [
    "## Example: CDF of uniform distribution"
   ]
  },
  {
   "cell_type": "markdown",
   "metadata": {},
   "source": [
    "The following function computes the ECDF for an 1D array of measurements"
   ]
  },
  {
   "cell_type": "code",
   "execution_count": 3,
   "metadata": {},
   "outputs": [],
   "source": [
    "import numpy as np\n",
    "import matplotlib.pyplot as plt\n",
    "import seaborn as sns"
   ]
  },
  {
   "cell_type": "code",
   "execution_count": 4,
   "metadata": {},
   "outputs": [],
   "source": [
    "sns.set()"
   ]
  },
  {
   "cell_type": "code",
   "execution_count": 2,
   "metadata": {},
   "outputs": [],
   "source": [
    "def ecdf(data):\n",
    "    \"\"\"Compute ECDF for a one-dimensional array of measurements.\n",
    "    \"\"\"\n",
    "    \n",
    "    # Number of data points: n\n",
    "    n = len(data)\n",
    "\n",
    "    # x-data for the ECDF: x\n",
    "    x = np.sort(data)\n",
    "\n",
    "    # y-data for the ECDF: y\n",
    "    y = np.arange(1, n + 1) / n\n",
    "\n",
    "    return x, y"
   ]
  },
  {
   "cell_type": "code",
   "execution_count": 6,
   "metadata": {},
   "outputs": [],
   "source": [
    "iris = sns.load_dataset(\"iris\")"
   ]
  },
  {
   "cell_type": "code",
   "execution_count": 8,
   "metadata": {},
   "outputs": [],
   "source": [
    "versicolor_petal_length = iris.loc[iris['species'] == \"versicolor\"][\"petal_length\"]"
   ]
  },
  {
   "cell_type": "code",
   "execution_count": 9,
   "metadata": {},
   "outputs": [
    {
     "data": {
      "image/png": "[encoded data removed]",
      "text/plain": [
       "<Figure size 432x288 with 1 Axes>"
      ]
     },
     "metadata": {},
     "output_type": "display_data"
    }
   ],
   "source": [
    "\n",
    "\n",
    "# Compute ECDF for versicolor data: x_vers, y_vers\n",
    "x_vers, y_vers = ecdf(versicolor_petal_length)\n",
    "\n",
    "# Generate plot\n",
    "_ = plt.plot(x_vers, y_vers, marker='.', linestyle='none')\n",
    "\n",
    "# Label the axes\n",
    "_ = plt.xlabel(\"Percenatge\")\n",
    "_ = plt.ylabel(\"ECDF\")\n",
    "\n",
    "\n",
    "# Display the plot\n",
    "plt.show()"
   ]
  },
  {
   "cell_type": "markdown",
   "metadata": {},
   "source": [
    "The CDF completely determines the probability distribution of a random variable. This is established by the\n",
    "following theorem. For more information you should look into [1] and references therein."
   ]
  },
  {
   "cell_type": "markdown",
   "metadata": {},
   "source": [
    "----\n",
    "**Theorem 2**\n",
    "\n",
    "Let $F$ be the CDF of $F$ and let $G$ be the CDF of $Y$. If $F(x)=G(y)$ for all $x$ then $P(X \\in A)=P(Y \\in A)$ for all $A$.\n",
    "\n",
    "----\n",
    "\n"
   ]
  },
  {
   "cell_type": "markdown",
   "metadata": {},
   "source": [
    "The following result shows how to use the CDF to calculate probabilities."
   ]
  },
  {
   "cell_type": "markdown",
   "metadata": {},
   "source": [
    "## Summary"
   ]
  },
  {
   "cell_type": "code",
   "execution_count": null,
   "metadata": {},
   "outputs": [],
   "source": []
  },
  {
   "cell_type": "markdown",
   "metadata": {},
   "source": [
    "## References\n"
   ]
  },
  {
   "cell_type": "markdown",
   "metadata": {},
   "source": [
    "1. Larry Wasserman, _All of Statistics. A Concise Course in Statistical Inference_, Springer 2003."
   ]
  }
 ],
 "metadata": {
  "kernelspec": {
   "display_name": "Python 3 (ipykernel)",
   "language": "python",
   "name": "python3"
  },
  "language_info": {
   "codemirror_mode": {
    "name": "ipython",
    "version": 3
   },
   "file_extension": ".py",
   "mimetype": "text/x-python",
   "name": "python",
   "nbconvert_exporter": "python",
   "pygments_lexer": "ipython3",
   "version": "3.10.12"
  }
 },
 "nbformat": 4,
 "nbformat_minor": 4
}
