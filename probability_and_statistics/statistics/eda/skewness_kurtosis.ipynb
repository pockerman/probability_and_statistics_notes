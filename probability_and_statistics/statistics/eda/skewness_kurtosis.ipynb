{
 "cells": [
  {
   "cell_type": "markdown",
   "id": "b00f285a-2f5a-444a-9994-059bd64a8e73",
   "metadata": {},
   "source": [
    "# Skewness and Kurtosis"
   ]
  },
  {
   "cell_type": "markdown",
   "id": "3fd633d1-cdd8-495f-91eb-e65cb777b139",
   "metadata": {},
   "source": [
    "## Overview"
   ]
  },
  {
   "cell_type": "markdown",
   "id": "67ea3f3f-821a-4b4c-aca4-c51750d0aa35",
   "metadata": {},
   "source": [
    "## Skewness and Kurtosis"
   ]
  },
  {
   "cell_type": "markdown",
   "id": "b1505c02-a16c-4c87-916d-7b5add03ec39",
   "metadata": {},
   "source": [
    "#### Skewness"
   ]
  },
  {
   "cell_type": "markdown",
   "id": "d6440d14-a3de-42f5-979c-1a063e8708e2",
   "metadata": {},
   "source": [
    "The skewness $k$ measure the lack of symmetry of a distribution. It is defined as [1]\n",
    "\n",
    "\n",
    "\n",
    "\\begin{equation}\n",
    "k = \\frac{E\\left[X-\\mu\\right]^3}{\\sigma^3}\n",
    "\\end{equation}"
   ]
  },
  {
   "cell_type": "markdown",
   "id": "54264867-08eb-42e1-9e96-56c695648f05",
   "metadata": {},
   "source": [
    "## Summary"
   ]
  },
  {
   "cell_type": "markdown",
   "id": "eaf56fb0-03a5-42c6-860e-41c0fdebde63",
   "metadata": {},
   "source": [
    "## References"
   ]
  },
  {
   "cell_type": "markdown",
   "id": "31da5a89-f925-4407-9a53-1829cb35b180",
   "metadata": {},
   "source": [
    "1. Larry Wasserman, _All of Statistics. A Concise Course in Statistical Inference_, Springer 2003."
   ]
  }
 ],
 "metadata": {
  "kernelspec": {
   "display_name": "Python 3 (ipykernel)",
   "language": "python",
   "name": "python3"
  },
  "language_info": {
   "codemirror_mode": {
    "name": "ipython",
    "version": 3
   },
   "file_extension": ".py",
   "mimetype": "text/x-python",
   "name": "python",
   "nbconvert_exporter": "python",
   "pygments_lexer": "ipython3",
   "version": "3.10.12"
  }
 },
 "nbformat": 4,
 "nbformat_minor": 5
}
