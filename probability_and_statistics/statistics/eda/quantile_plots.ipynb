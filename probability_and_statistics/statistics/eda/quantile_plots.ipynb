{
 "cells": [
  {
   "cell_type": "markdown",
   "id": "c509a7d2-2975-4099-ac65-147c4f0c9135",
   "metadata": {},
   "source": [
    "# Quantile plots"
   ]
  },
  {
   "cell_type": "markdown",
   "id": "52ab3398-3925-4d6f-955a-7592caca2a08",
   "metadata": {},
   "source": [
    "## Overview"
   ]
  },
  {
   "cell_type": "markdown",
   "id": "fca9cb1e-8d04-43a8-8e0e-851083a6e38d",
   "metadata": {},
   "source": [
    "Histograms are very useful as they represent a first approximation of the empircal density function i.e. the\n",
    "density function that governs the observed data. In this sense, they pose a desnity estimation approach. \n",
    "Often however, we want to compare distributions. Quantile-quantile plots "
   ]
  }
 ],
 "metadata": {
  "kernelspec": {
   "display_name": "Python 3 (ipykernel)",
   "language": "python",
   "name": "python3"
  },
  "language_info": {
   "codemirror_mode": {
    "name": "ipython",
    "version": 3
   },
   "file_extension": ".py",
   "mimetype": "text/x-python",
   "name": "python",
   "nbconvert_exporter": "python",
   "pygments_lexer": "ipython3",
   "version": "3.10.12"
  }
 },
 "nbformat": 4,
 "nbformat_minor": 5
}
