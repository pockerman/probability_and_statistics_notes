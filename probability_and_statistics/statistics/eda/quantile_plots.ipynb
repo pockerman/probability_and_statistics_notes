{
 "cells": [
  {
   "cell_type": "markdown",
   "id": "c509a7d2-2975-4099-ac65-147c4f0c9135",
   "metadata": {},
   "source": [
    "# Quantile Plot"
   ]
  },
  {
   "cell_type": "markdown",
   "id": "52ab3398-3925-4d6f-955a-7592caca2a08",
   "metadata": {},
   "source": [
    "## Overview"
   ]
  },
  {
   "cell_type": "markdown",
   "id": "fca9cb1e-8d04-43a8-8e0e-851083a6e38d",
   "metadata": {},
   "source": [
    "Histograms are very useful as they represent a first approximation of the empircal density function i.e. the\n",
    "density function that governs the observed data. In this sense, they pose a desnity estimation approach. \n",
    "Often however, we want to compare distributions. <a href=\"https://en.wikipedia.org/wiki/Q%E2%80%93Q_plot\">Quantile-quantile plots</a>\n",
    "or Q-Q plot is a graphical method from comparing two probability distribution."
   ]
  },
  {
   "cell_type": "markdown",
   "id": "15219e07-a883-4cf0-9f25-5440c409fc26",
   "metadata": {},
   "source": [
    "## Quantile plot"
   ]
  },
  {
   "cell_type": "markdown",
   "id": "7a869d1c-d856-4e66-b1c2-2fee24d637c3",
   "metadata": {},
   "source": [
    "A Q-Q plot is a probability plot for comparing two probability distributions by plotting their quantiles against each other.\n",
    "Specifically, a point $(x, y)$ represents a quantile of the first distribution (x-coordinate) versus the same quantile\n",
    "of the second distribution (y-coordinate). This defines a parametric curve where the parameter is the index of the quantile interval.\n",
    "\n",
    "If the two distributions being compared are similar, the points in the Q–Q plot will approximately lie on the identity line $y = x$. If the distributions are linearly related, the points in the Q–Q plot will approximately lie on a line, but not necessarily on the line $y = x$ [2]. \n",
    "Q–Q plots can also be used as a graphical means of estimating parameters in a location-scale family of distributions.\n",
    "\n",
    "In general a Q–Q plot is more diagnostic than comparing the samples' histograms. Q–Q plots are commonly used to compare a data set to a theoretical model. This can provide an assessment of goodness of fit that is graphical, rather than reducing to a numerical summary statistic. Since Q–Q plots compare distributions, there is no need for the values to be observed as pairs, as in a scatter plot, or even for the numbers of values in the two groups being compared to be equal.\n",
    "\n",
    "The first scenario, as already mentioned, is that all points lie on or close to the straight line $y=x$. This indicates that two samples have similar distributions. The second scenario is The y quantiles are lower than the x quantiles. This indicates that the y values have a tendency to be lower than the x values. The x  quantiles are lower than the y  quantiles. This indicates x values have a tendency to be lower than the y values. "
   ]
  },
  {
   "cell_type": "markdown",
   "id": "700cd84a-5abf-40c6-8f91-b092a7470b02",
   "metadata": {},
   "source": [
    "### Example 1"
   ]
  },
  {
   "cell_type": "markdown",
   "id": "46602ef6-8435-47cf-8a14-6e7f7392ad95",
   "metadata": {},
   "source": [
    "In this example we will use Python to create a Q-Q plot. Specifically, we sample from the normal distribution and then plot\n",
    "the quantiles againt the the line $y=x$."
   ]
  },
  {
   "cell_type": "code",
   "execution_count": 4,
   "id": "21271997-b61d-4d5e-81d4-06a83748a7d7",
   "metadata": {
    "tags": []
   },
   "outputs": [],
   "source": [
    "import numpy as np \n",
    "import statsmodels.api as sm \n",
    "import matplotlib.pyplot as plt "
   ]
  },
  {
   "cell_type": "code",
   "execution_count": 3,
   "id": "82d02224-dfeb-406f-8e28-2c08d938a77d",
   "metadata": {
    "tags": []
   },
   "outputs": [
    {
     "data": {
      "image/png": "[encoded data removed]",
      "text/plain": [
       "<Figure size 432x288 with 1 Axes>"
      ]
     },
     "metadata": {
      "needs_background": "light"
     },
     "output_type": "display_data"
    }
   ],
   "source": [
    "np.random.seed(42)\n",
    "\n",
    "# sample from standard normal\n",
    "data_points = np.random.normal(0, 1, size=100)     \n",
    "  \n",
    "sm.qqplot(data_points, line ='45') \n",
    "plt.show() "
   ]
  },
  {
   "cell_type": "markdown",
   "id": "f6169e65-9b8d-47a3-b537-d338fdd5ead2",
   "metadata": {},
   "source": [
    "## Summary"
   ]
  },
  {
   "cell_type": "markdown",
   "id": "cd4dceeb-6fb1-41f0-9022-b4f5a3dd0d86",
   "metadata": {},
   "source": [
    "This section introduced the Q-Q plot. This is used in order to compare the similarity of two probability distributions."
   ]
  },
  {
   "cell_type": "markdown",
   "id": "0159e958-930b-4d45-bbc9-891ef2a36c2c",
   "metadata": {},
   "source": [
    "## References"
   ]
  },
  {
   "cell_type": "markdown",
   "id": "88b6e488-3e7c-4d42-9bc9-c6b958e96fa9",
   "metadata": {},
   "source": [
    "1. John A. Rice, _Mathematical Statistics and Data Analysis_, Duxbury Press, 2nd Edition.\n",
    "2. <a href=\"https://en.wikipedia.org/wiki/Q%E2%80%93Q_plot\">Quantile-quantile plots</a>"
   ]
  }
 ],
 "metadata": {
  "kernelspec": {
   "display_name": "Python 3 (ipykernel)",
   "language": "python",
   "name": "python3"
  },
  "language_info": {
   "codemirror_mode": {
    "name": "ipython",
    "version": 3
   },
   "file_extension": ".py",
   "mimetype": "text/x-python",
   "name": "python",
   "nbconvert_exporter": "python",
   "pygments_lexer": "ipython3",
   "version": "3.10.12"
  }
 },
 "nbformat": 4,
 "nbformat_minor": 5
}
