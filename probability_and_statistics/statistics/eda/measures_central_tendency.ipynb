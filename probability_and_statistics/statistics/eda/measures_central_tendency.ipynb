{
 "cells": [
  {
   "cell_type": "markdown",
   "metadata": {},
   "source": [
    "# Measures of central tendency"
   ]
  },
  {
   "cell_type": "markdown",
   "metadata": {},
   "source": [
    "----\n",
    "\n",
    "**Expected value (discrete variable)**\n",
    "\n",
    "\n",
    "$$E\\left[X\\right] = \\sum xP_X(x)$$\n",
    "\n",
    "----"
   ]
  },
  {
   "cell_type": "markdown",
   "metadata": {},
   "source": [
    "----\n",
    "\n",
    "**Expected value (continuous variable)**\n",
    "\n",
    "\n",
    "$$E\\left[X\\right] = \\int_x xP_X(x)dx$$\n",
    "\n",
    "----"
   ]
  },
  {
   "cell_type": "markdown",
   "metadata": {},
   "source": [
    "The following are some properties of the expected value"
   ]
  },
  {
   "cell_type": "markdown",
   "metadata": {},
   "source": [
    "----\n",
    "\n",
    "**Properties of expectations**\n",
    "\n",
    "\n",
    "- $E\\left[X + Y \\right] = E\\left[X \\right] + E\\left[Y \\right]$\n",
    "- $E\\left[aX \\right] = aE\\left[X\\right]$\n",
    "- $E\\left[c\\right] = c$\n",
    "\n",
    "For independent variables $X,Y$ we have\n",
    "\n",
    "- $E\\left[XY \\right] = E\\left[X\\right]  E\\left[Y \\right]$\n",
    "\n",
    "----"
   ]
  },
  {
   "cell_type": "code",
   "execution_count": null,
   "metadata": {},
   "outputs": [],
   "source": []
  }
 ],
 "metadata": {
  "kernelspec": {
   "display_name": "Python 3 (ipykernel)",
   "language": "python",
   "name": "python3"
  },
  "language_info": {
   "codemirror_mode": {
    "name": "ipython",
    "version": 3
   },
   "file_extension": ".py",
   "mimetype": "text/x-python",
   "name": "python",
   "nbconvert_exporter": "python",
   "pygments_lexer": "ipython3",
   "version": "3.10.12"
  }
 },
 "nbformat": 4,
 "nbformat_minor": 4
}
