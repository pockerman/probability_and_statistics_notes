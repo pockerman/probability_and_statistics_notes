{
 "cells": [
  {
   "cell_type": "markdown",
   "metadata": {},
   "source": [
    "# Measures of central tendency"
   ]
  },
  {
   "cell_type": "markdown",
   "metadata": {},
   "source": [
    "## Overview"
   ]
  },
  {
   "cell_type": "markdown",
   "metadata": {},
   "source": [
    "In the previous section we went over various visualization methodologies such as histgram and box plots. \n",
    "However, useful these plot may be, we still need to be able to describe the data numerically. In this section therefore, we \n",
    "dsicuss mesaures of central tendency. Namely the median and the mean values respectively."
   ]
  },
  {
   "cell_type": "markdown",
   "metadata": {},
   "source": [
    "## Mean value"
   ]
  },
  {
   "cell_type": "markdown",
   "metadata": {},
   "source": [
    "Perhaps the most frequently use measure of data centrality is the (arithmetic) mean or expected\n",
    "value. Recall that this is calulated differently depending on if the data we are handling are\n",
    "continuous or discrete variables."
   ]
  },
  {
   "cell_type": "markdown",
   "metadata": {},
   "source": [
    "----\n",
    "\n",
    "**Expected value (discrete variable)**\n",
    "\n",
    "\n",
    "$$E\\left[X\\right] = \\sum xP_X(x)$$\n",
    "\n",
    "\n",
    "**Expected value (continuous variable)**\n",
    "\n",
    "$$E\\left[X\\right] = \\int_x xP_X(x)dx$$\n",
    "\n",
    "----"
   ]
  },
  {
   "cell_type": "markdown",
   "metadata": {},
   "source": [
    "Below are some properties of the mean function:"
   ]
  },
  {
   "cell_type": "markdown",
   "metadata": {},
   "source": [
    "----\n",
    "\n",
    "**Properties of expectations**\n",
    "\n",
    "\n",
    "- $E\\left[X + Y \\right] = E\\left[X \\right] + E\\left[Y \\right]$\n",
    "- $E\\left[aX \\right] = aE\\left[X\\right]$\n",
    "- $E\\left[c\\right] = c$\n",
    "\n",
    "For independent variables $X,Y$ we have\n",
    "\n",
    "- $E\\left[XY \\right] = E\\left[X\\right]  E\\left[Y \\right]$\n",
    "\n",
    "----"
   ]
  },
  {
   "cell_type": "markdown",
   "metadata": {},
   "source": [
    "Let's see an example using Python."
   ]
  },
  {
   "cell_type": "code",
   "execution_count": 1,
   "metadata": {
    "tags": []
   },
   "outputs": [],
   "source": [
    "import numpy as np\n",
    "import matplotlib.pyplot as plt"
   ]
  },
  {
   "cell_type": "markdown",
   "metadata": {},
   "source": [
    "Create some data to play around with."
   ]
  },
  {
   "cell_type": "code",
   "execution_count": 2,
   "metadata": {
    "tags": []
   },
   "outputs": [
    {
     "name": "stdout",
     "output_type": "stream",
     "text": [
      "Mean of the data=5.5\n"
     ]
    }
   ],
   "source": [
    "data = np.array(list(range(1, 11)))\n",
    "\n",
    "# numpy allows us to easily calculate the mean\n",
    "print(f\"Mean of the data={np.mean(data)}\")"
   ]
  },
  {
   "cell_type": "markdown",
   "metadata": {},
   "source": [
    "Let's plot the data and find the midpoint"
   ]
  },
  {
   "cell_type": "code",
   "execution_count": 3,
   "metadata": {
    "tags": []
   },
   "outputs": [
    {
     "data": {
      "image/png": "[encoded data removed]",
      "text/plain": [
       "<Figure size 432x288 with 1 Axes>"
      ]
     },
     "metadata": {
      "needs_background": "light"
     },
     "output_type": "display_data"
    }
   ],
   "source": [
    "data.sort()\n",
    "number_of_measurements = data.size\n",
    "plt.plot(range(1, number_of_measurements + 1), data)\n",
    "plt.scatter(range(1, number_of_measurements + 1), data)\n",
    "plt.ylabel('Rainfall in mm')\n",
    "plt.show()"
   ]
  },
  {
   "cell_type": "markdown",
   "metadata": {},
   "source": [
    "Computing the midpoint of the data can be done in various ways as shown below.\n",
    "The range i.e. the difference between the maximum and minimum value in the data\n",
    "is variability measure that we will discuss in the next section."
   ]
  },
  {
   "cell_type": "code",
   "execution_count": 5,
   "metadata": {
    "tags": []
   },
   "outputs": [
    {
     "name": "stdout",
     "output_type": "stream",
     "text": [
      "The midpoint is 5.5\n"
     ]
    }
   ],
   "source": [
    "rainfall_range = data.max() - data.min()\n",
    "\n",
    "# calculate the midpoint one way\n",
    "midpoint_1 = data.min() + rainfall_range * 0.5\n",
    "\n",
    "# calculate the midpoint another way\n",
    "midpoint_2 = (data.max() + data.min()) * 0.5\n",
    "\n",
    "# these should be the same\n",
    "assert midpoint_1 == midpoint_2 \n",
    "\n",
    "print(f\"The midpoint is {midpoint_1}\")\n"
   ]
  },
  {
   "cell_type": "markdown",
   "metadata": {},
   "source": [
    "Add the midpoint to our plot."
   ]
  },
  {
   "cell_type": "code",
   "execution_count": 7,
   "metadata": {
    "tags": []
   },
   "outputs": [
    {
     "data": {
      "image/png": "[encoded data removed]",
      "text/plain": [
       "<Figure size 432x288 with 1 Axes>"
      ]
     },
     "metadata": {
      "needs_background": "light"
     },
     "output_type": "display_data"
    }
   ],
   "source": [
    "data.sort()\n",
    "number_of_measurements = data.size\n",
    "plt.plot(range(1, number_of_measurements + 1), data)\n",
    "plt.scatter(range(1, number_of_measurements + 1), data)\n",
    "plt.axhline(midpoint_1, color='r', linestyle='--')\n",
    "plt.ylabel('Rainfall in mm')\n",
    "plt.show()"
   ]
  },
  {
   "cell_type": "markdown",
   "metadata": {},
   "source": [
    "The way we generated the data, made the whole drill rather easy. The midpoint, as expected,\n",
    "splits the values in half; half of the observed values are below the mean and half of them above it.\n",
    "However, this may not always be the case. This is a typical scenario when the distribution is really asymmetric. \n",
    "In these cases computing the median value makes more sense."
   ]
  },
  {
   "cell_type": "markdown",
   "metadata": {},
   "source": [
    "# Median value"
   ]
  },
  {
   "cell_type": "markdown",
   "metadata": {},
   "source": [
    "The median, $M$ is the value in the middle of a dataset. That is 50% of the data point will be below it and 50$ above it. \n",
    "Let's consider the following values. Notice that these are already sorted."
   ]
  },
  {
   "cell_type": "code",
   "execution_count": 38,
   "metadata": {
    "tags": []
   },
   "outputs": [
    {
     "name": "stdout",
     "output_type": "stream",
     "text": [
      "Number of measurements=19\n"
     ]
    }
   ],
   "source": [
    "median_data = np.array([23.9, 24.1, 24.85, 25.0, 25.2, 25.6, 25.7, 25.9, 26.1, 26.3, 26.5, 26.8, 27.4, 27.5, 27.8, 28.5, 28.7, 29.3, 30.2])\n",
    "print(f\"Number of measurements={median_data.size}\")"
   ]
  },
  {
   "cell_type": "markdown",
   "metadata": {},
   "source": [
    "Histogram plots tells us about the shape of the empircal distribution. "
   ]
  },
  {
   "cell_type": "code",
   "execution_count": 35,
   "metadata": {
    "tags": []
   },
   "outputs": [
    {
     "data": {
      "image/png": "[encoded data removed]",
      "text/plain": [
       "<Figure size 432x288 with 1 Axes>"
      ]
     },
     "metadata": {
      "needs_background": "light"
     },
     "output_type": "display_data"
    }
   ],
   "source": [
    "plt.hist(median_data, bins='auto', edgecolor='black', density=True)\n",
    "plt.show()"
   ]
  },
  {
   "cell_type": "code",
   "execution_count": 36,
   "metadata": {
    "tags": []
   },
   "outputs": [
    {
     "name": "stdout",
     "output_type": "stream",
     "text": [
      "Mean of median data=26.59736842105263\n",
      "Median of median data=26.3\n"
     ]
    }
   ],
   "source": [
    "mean = np.mean(median_data)\n",
    "median = np.median(median_data)\n",
    "print(f\"Mean of median data={mean}\")\n",
    "print(f\"Median of median data={median}\")\n",
    "midpoint = (median_data.max() + median_data.min()) * 0.5"
   ]
  },
  {
   "cell_type": "code",
   "execution_count": 37,
   "metadata": {
    "tags": []
   },
   "outputs": [
    {
     "data": {
      "image/png": "[encoded data removed]",
      "text/plain": [
       "<Figure size 432x288 with 1 Axes>"
      ]
     },
     "metadata": {
      "needs_background": "light"
     },
     "output_type": "display_data"
    }
   ],
   "source": [
    "measurements = median_data.size\n",
    "plt.plot(range(1, measurements + 1), median_data)\n",
    "plt.scatter(range(1, measurements + 1), median_data)\n",
    "plt.axhline(midpoint, color='r', linestyle='--', label=\"midpoint\")\n",
    "plt.axhline(median, color='g', linestyle='--', label=\"median\")\n",
    "plt.axhline(mean, color='b', linestyle='--', label=\"mean\")\n",
    "plt.ylabel('Running time in seconds')\n",
    "plt.legend()\n",
    "plt.show()"
   ]
  },
  {
   "cell_type": "markdown",
   "metadata": {},
   "source": [
    "The mean value and the median are almost the same but the midpoint does not properly \n",
    "split the values. In order to compute the median of a numeric dataset, we need first to sort\n",
    "the data. This is probably one of the disadvantages when computing this statistic. When the size of the data\n",
    "is an odd number, just like the scenario herein, the median is calulated according to\n",
    "\n",
    "$$M = \\frac{N + 1}{2}$$\n",
    "\n",
    "where $N$ is the size of the dataset. Notice that $M$ is the index of the median value within the dataset and not the median itself.\n",
    "The mean is hugely affected by extreme values either \n",
    "very large or very small value. Let's see this by extending our example. Notice that now the data size is an even number"
   ]
  },
  {
   "cell_type": "code",
   "execution_count": 39,
   "metadata": {
    "tags": []
   },
   "outputs": [
    {
     "name": "stdout",
     "output_type": "stream",
     "text": [
      "Number of measurements=20\n"
     ]
    }
   ],
   "source": [
    "median_data = np.array([23.9, 24.1, 24.85, 25.0, 25.2, 25.6, 25.7, 25.9, 26.1, 26.3, 26.5, 26.8, 27.4, 27.5, 27.8, 28.5, 28.7, 29.3, 30.2, 70.0])\n",
    "print(f\"Number of measurements={median_data.size}\")"
   ]
  },
  {
   "cell_type": "code",
   "execution_count": 40,
   "metadata": {
    "tags": []
   },
   "outputs": [
    {
     "name": "stdout",
     "output_type": "stream",
     "text": [
      "Mean of median data=28.767499999999995\n",
      "Median of median data=26.4\n"
     ]
    }
   ],
   "source": [
    "mean = np.mean(median_data)\n",
    "median = np.median(median_data)\n",
    "print(f\"Mean of median data={mean}\")\n",
    "print(f\"Median of median data={median}\")\n",
    "midpoint = (median_data.max() + median_data.min()) * 0.5"
   ]
  },
  {
   "cell_type": "code",
   "execution_count": 41,
   "metadata": {
    "tags": []
   },
   "outputs": [
    {
     "data": {
      "image/png": "[encoded data removed]",
      "text/plain": [
       "<Figure size 432x288 with 1 Axes>"
      ]
     },
     "metadata": {
      "needs_background": "light"
     },
     "output_type": "display_data"
    }
   ],
   "source": [
    "measurements = median_data.size\n",
    "plt.plot(range(1, measurements + 1), median_data)\n",
    "plt.scatter(range(1, measurements + 1), median_data)\n",
    "plt.axhline(midpoint, color='r', linestyle='--', label=\"midpoint\")\n",
    "plt.axhline(median, color='g', linestyle='--', label=\"median\")\n",
    "plt.axhline(mean, color='b', linestyle='--', label=\"mean\")\n",
    "plt.ylabel('Running time in seconds')\n",
    "plt.legend()\n",
    "plt.show()"
   ]
  },
  {
   "cell_type": "markdown",
   "metadata": {},
   "source": [
    "Observe, how the outlier 70 affected the mean and the midpoint.\n",
    "The median however remained more or less unaffected. This is because the median ranks the data. When the data size is even,\n",
    "the median can be calculated as the average of the data point of rank $N/2$ and the data point of rank $(N/2) + 1$."
   ]
  },
  {
   "cell_type": "markdown",
   "metadata": {},
   "source": [
    "## Weighted mean"
   ]
  },
  {
   "cell_type": "markdown",
   "metadata": {},
   "source": [
    "Sometimes when computing the mean we want to weight the importance of an observed value. \n",
    "In this case\n",
    "we can compute the weighted arithmetic mean\n",
    "\n",
    "$$\\mu = \\frac{\\sum_i w_ix_i}{N}$$\n",
    "\n",
    "where $w_i$ is the weight associated with the observation $x_i$."
   ]
  },
  {
   "cell_type": "markdown",
   "metadata": {},
   "source": [
    "Python makes it easy for us to compute the weighted mean via the ```average``` function."
   ]
  },
  {
   "cell_type": "code",
   "execution_count": 2,
   "metadata": {
    "tags": []
   },
   "outputs": [
    {
     "name": "stdout",
     "output_type": "stream",
     "text": [
      "Arithmetic mean=28.818181818181817\n",
      "Weighted mean=24.238095238095237\n"
     ]
    }
   ],
   "source": [
    "data = [50, 25, 36, 89, 36, 12, 8, 36, 9, 8, 8]\n",
    "weights = [1,1,3,1,3,1,3,1,1,3,3]\n",
    "\n",
    "weighted_mean = np.average(data, weights=weights)\n",
    "print(f\"Arithmetic mean={np.mean(data)}\")\n",
    "print(f\"Weighted mean={weighted_mean}\")"
   ]
  },
  {
   "cell_type": "markdown",
   "metadata": {},
   "source": [
    "## Geometric mean"
   ]
  },
  {
   "cell_type": "markdown",
   "metadata": {},
   "source": [
    "## Mode"
   ]
  },
  {
   "cell_type": "markdown",
   "metadata": {},
   "source": [
    "Another statistic of centrality is the mode. This is simply the most frequently occurying value in the dataset. For example, given the data $[50, 25, 36, 89, 36, 12, 8, 36]$ then the mode is 36. When there is only one mode the dataset is single mode. However, this need not be the case. The following dataset is multi-mode $[50, 25, 36, 89, 36, 12, 8, 36, 9, 8, 8]$.The two modes as 36 and 8."
   ]
  },
  {
   "cell_type": "markdown",
   "metadata": {},
   "source": [
    "## Summary"
   ]
  },
  {
   "cell_type": "markdown",
   "metadata": {},
   "source": [
    "In this section we reviewed the mean and the median as a means of estimating the centrality of the data.\n",
    "Computing the mean is not difficult and this is one of the reasons that makes this statistic appealing to report.\n",
    "However, if the data is severely asymmetric it may not appropriate to use. In this latter case computing the median $M$ is \n",
    "a better option."
   ]
  },
  {
   "cell_type": "markdown",
   "metadata": {},
   "source": [
    "## References"
   ]
  },
  {
   "cell_type": "markdown",
   "metadata": {},
   "source": [
    "1. <a href=\"https://statistics.laerd.com/statistical-guides/measures-central-tendency-mean-mode-median.php\">Measures of Central Tendency</a>"
   ]
  }
 ],
 "metadata": {
  "kernelspec": {
   "display_name": "Python 3 (ipykernel)",
   "language": "python",
   "name": "python3"
  },
  "language_info": {
   "codemirror_mode": {
    "name": "ipython",
    "version": 3
   },
   "file_extension": ".py",
   "mimetype": "text/x-python",
   "name": "python",
   "nbconvert_exporter": "python",
   "pygments_lexer": "ipython3",
   "version": "3.10.12"
  }
 },
 "nbformat": 4,
 "nbformat_minor": 4
}
