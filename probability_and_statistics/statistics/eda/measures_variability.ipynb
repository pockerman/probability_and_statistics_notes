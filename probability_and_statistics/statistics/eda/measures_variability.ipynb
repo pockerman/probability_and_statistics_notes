{
 "cells": [
  {
   "cell_type": "markdown",
   "metadata": {},
   "source": [
    "# Measures of variability"
   ]
  },
  {
   "cell_type": "markdown",
   "metadata": {},
   "source": [
    "## Overview"
   ]
  },
  {
   "cell_type": "markdown",
   "metadata": {},
   "source": [
    "Expectation shows where the average value of a random variable is located, or where the\n",
    "variable is expected to be, plus or minus some error. How much can a variable vary around the expectation? \n",
    "Obviously, the smaller variability a dataset has the more predictable the data.\n",
    "In this section, we review some measures of variability. We will use the same examples that we used in the \n",
    "centrality section. Before proceeding to the various measures however, we will try to justify why need such measures."
   ]
  },
  {
   "cell_type": "markdown",
   "metadata": {},
   "source": [
    "## Why calculate dispersion measures"
   ]
  },
  {
   "cell_type": "markdown",
   "metadata": {},
   "source": [
    "Let's queckly try to justify why we need to calculate disperion measures. \n",
    "Consider the following data"
   ]
  },
  {
   "cell_type": "code",
   "execution_count": 1,
   "metadata": {
    "tags": []
   },
   "outputs": [],
   "source": [
    "import numpy as np\n",
    "import matplotlib.pyplot as plt"
   ]
  },
  {
   "cell_type": "code",
   "execution_count": 2,
   "metadata": {
    "tags": []
   },
   "outputs": [
    {
     "name": "stdout",
     "output_type": "stream",
     "text": [
      "Mean ds_1=25.0\n",
      "Mean ds_2=24.997500000000002\n"
     ]
    }
   ],
   "source": [
    "ds_1 = np.array([10.0, 20.0, 30.0, 40.0])\n",
    "ds_2 = np.array([22.5, 23.4, 26.0, 28.09])                 \n",
    "                 \n",
    "print(f\"Mean ds_1={np.mean(ds_1)}\")\n",
    "print(f\"Mean ds_2={np.mean(ds_2)}\")"
   ]
  },
  {
   "cell_type": "markdown",
   "metadata": {},
   "source": [
    "The two datasets have the same mean, however, their dispersion is quite different:"
   ]
  },
  {
   "cell_type": "code",
   "execution_count": 4,
   "metadata": {
    "tags": []
   },
   "outputs": [
    {
     "name": "stdout",
     "output_type": "stream",
     "text": [
      "Range of ds_1=30.0\n",
      "Range of ds_2=5.59\n"
     ]
    }
   ],
   "source": [
    "print(f\"Range of ds_1={ds_1.max() - ds_1.min()}\")\n",
    "print(f\"Range of ds_2={ds_2.max() - ds_2.min()}\")"
   ]
  },
  {
   "cell_type": "code",
   "execution_count": 11,
   "metadata": {
    "tags": []
   },
   "outputs": [
    {
     "data": {
      "image/png": "[encoded data removed]",
      "text/plain": [
       "<Figure size 432x288 with 1 Axes>"
      ]
     },
     "metadata": {
      "needs_background": "light"
     },
     "output_type": "display_data"
    }
   ],
   "source": [
    "plt.plot(range(len(ds_1)), ds_1, color='b', label='ds_1')\n",
    "plt.scatter(range(len(ds_1)), ds_1, color='b')\n",
    "plt.plot(range(len(ds_1)), ds_2, color='r', linestyle='-.', label='ds_2')\n",
    "plt.scatter(range(len(ds_1)), ds_2, color='r')\n",
    "plt.axhline(25.0, color='k', linestyle='--', label='Mean')\n",
    "plt.legend()\n",
    "plt.show()"
   ]
  },
  {
   "cell_type": "markdown",
   "metadata": {},
   "source": [
    "## Range"
   ]
  },
  {
   "cell_type": "markdown",
   "metadata": {},
   "source": [
    "Perhaps the simplest variability measure is the range $R$ of the observed data points. As shown above, this is simply the difference \n",
    "between the maximum and minimum value\n",
    "of the data points.\n",
    "\n",
    "$$R = max(D) - min(D)$$\n",
    "\n",
    "where $D$ indicates the entire dataset. For example:"
   ]
  },
  {
   "cell_type": "code",
   "execution_count": 12,
   "metadata": {
    "tags": []
   },
   "outputs": [
    {
     "name": "stdout",
     "output_type": "stream",
     "text": [
      "Range of the data=9\n"
     ]
    }
   ],
   "source": [
    "data = np.array(list(range(1, 11)))\n",
    "\n",
    "# numpy allows us to easily calculate the mean\n",
    "print(f\"Range of the data={data.max() - data.min()}\")"
   ]
  },
  {
   "cell_type": "markdown",
   "metadata": {},
   "source": [
    "## The variance"
   ]
  },
  {
   "cell_type": "markdown",
   "metadata": {},
   "source": [
    "Another variability measure is the variance. It shows how much the datapoints are discpersed around the mean. It is defined as\n",
    "mean of the squared difference of the data point from the mean. \n",
    "\n",
    "$$\\sigma^2 = \\frac{1}{N}\\sum_{i}^{n}(x_i - \\mu)^2$$\n",
    "\n",
    "Obviously $\\sigma^2 \\geq 0$.\n",
    "\n",
    "\n",
    "Notice that the formula above uses the population mean $\\mu$. This however, may  be unknown.\n",
    "In this case, the variance has to be estimated. An unbiased and consistent estimator is \n",
    "\n",
    "$$s^2 = \\frac{1}{n-1}\\sum_{i}^{n}(x_i - \\bar{x})^2$$\n"
   ]
  },
  {
   "cell_type": "markdown",
   "metadata": {},
   "source": [
    "----\n",
    "\n",
    "**Remark**\n",
    "\n",
    "The variance calculation depends on the mean. Thus, if we compute a weighted mean, see the previous section, then we should also\n",
    "compute a weighted variance. The ```numpy.average``` function can be used for this\n",
    "\n",
    "\n",
    "----"
   ]
  },
  {
   "cell_type": "markdown",
   "metadata": {},
   "source": [
    "Numpy allows us to easilly calculate the variance of an array of data points:"
   ]
  },
  {
   "cell_type": "code",
   "execution_count": 5,
   "metadata": {
    "tags": []
   },
   "outputs": [
    {
     "name": "stdout",
     "output_type": "stream",
     "text": [
      "Variance of ds_1=125.0\n",
      "Variance of ds_2=4.839518750000002\n"
     ]
    }
   ],
   "source": [
    "print(f\"Variance of ds_1={np.var(ds_1)}\")\n",
    "print(f\"Variance of ds_2={np.var(ds_2)}\")"
   ]
  },
  {
   "cell_type": "markdown",
   "metadata": {},
   "source": [
    "## Standard deviation"
   ]
  },
  {
   "cell_type": "markdown",
   "metadata": {},
   "source": [
    "The variance has units squared i.e. $[U]^2$ where $U$ is the metric unit of the data points. As such sometimes\n",
    "it may be difficult to interpret. The standard deviation, $\\sigma$ expressed as the square root of the varince allows us to\n",
    "think in terms of the actual metric unit $U$. "
   ]
  },
  {
   "cell_type": "markdown",
   "metadata": {},
   "source": [
    "$$\\sigma = \\sqrt{\\sigma^2} = \\sqrt{\\frac{1}{N}\\sum_{i}^{n}(x_i - \\mu)^2}$$"
   ]
  },
  {
   "cell_type": "code",
   "execution_count": 6,
   "metadata": {
    "tags": []
   },
   "outputs": [
    {
     "name": "stdout",
     "output_type": "stream",
     "text": [
      "Standard deviation of ds_1=11.180339887498949\n",
      "Standard deviation of ds_2=2.1998906222810266\n"
     ]
    }
   ],
   "source": [
    "print(f\"Standard deviation of ds_1={np.std(ds_1)}\")\n",
    "print(f\"Standard deviation of ds_2={np.std(ds_2)}\")"
   ]
  },
  {
   "cell_type": "markdown",
   "metadata": {},
   "source": [
    "----\n",
    "\n",
    "**Comparing variances**\n",
    "\n",
    "Unlike population means or proportions, variances are scale factors, and they are compared\n",
    "through their ratio\n",
    "\n",
    "----"
   ]
  },
  {
   "cell_type": "markdown",
   "metadata": {},
   "source": [
    "## Summary"
   ]
  },
  {
   "cell_type": "markdown",
   "metadata": {},
   "source": [
    "In this section we reviewed three commonly used metrics for assessing the variability in a dataset.\n",
    "The variability in a dataset conrtols how spread the data is for example around the mean. \n",
    "A high dataset variability is useually interpreted as low trust in the given dataset."
   ]
  },
  {
   "cell_type": "markdown",
   "metadata": {},
   "source": [
    "We saw three such metrics; the range $R$, the variance $\\sigma^2$ and the standard deviation $\\sigma$. The range\n",
    "is the simplest to understand as it is the difference between the maximum and minimum observed values. However,\n",
    "this does not tell us much about the overall structure of the variability. The vairance is computed as the mean\n",
    "of the squared difference between the population mean and the data point. The standard deviation is defined as the\n",
    "square root of the variance and has the same units as the observed variable."
   ]
  },
  {
   "cell_type": "markdown",
   "metadata": {},
   "source": [
    "## References"
   ]
  }
 ],
 "metadata": {
  "kernelspec": {
   "display_name": "Python 3 (ipykernel)",
   "language": "python",
   "name": "python3"
  },
  "language_info": {
   "codemirror_mode": {
    "name": "ipython",
    "version": 3
   },
   "file_extension": ".py",
   "mimetype": "text/x-python",
   "name": "python",
   "nbconvert_exporter": "python",
   "pygments_lexer": "ipython3",
   "version": "3.10.12"
  }
 },
 "nbformat": 4,
 "nbformat_minor": 4
}
