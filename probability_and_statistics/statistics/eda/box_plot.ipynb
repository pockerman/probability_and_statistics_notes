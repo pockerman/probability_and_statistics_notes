{
 "cells": [
  {
   "cell_type": "markdown",
   "metadata": {},
   "source": [
    "# Boxplots"
   ]
  },
  {
   "cell_type": "markdown",
   "metadata": {},
   "source": [
    "## Overview"
   ]
  },
  {
   "cell_type": "markdown",
   "metadata": {},
   "source": [
    "This section introduces <a href=\"https://en.wikipedia.org/wiki/Box_plot\">boxplots</a>. Boxplots are very useful in  terms of visualising locality, spread and skewness groups of numerical data through their quartiles."
   ]
  },
  {
   "cell_type": "markdown",
   "metadata": {},
   "source": [
    "## Boxplots"
   ]
  },
  {
   "cell_type": "markdown",
   "metadata": {},
   "source": [
    "A box plot is a graphical display that shows three things [1]:\n",
    "\n",
    "- A measure of location, the median $M$\n",
    "- A measure of dispersion interquartile range\n",
    "- The presence of possible outliers\n",
    "\n",
    "It also given an indication of the symmetry or skewness of the distribution.\n",
    "\n",
    "Although boxplots are not standardized, they have the following basic structure [1]. Horizontal lines are drawn at the median and\n",
    "upper (75%) and lower (25%) quantiles. Vertical lines are drawn from the upper and lower quartiles to the most extreme data point that\n",
    "it is within a distance of 1.5IQR. Short horizontal lines are added to mark the ends of these verical lines.\n",
    "Typically, every point beyond the 1.5IQR mark is treated as an outlier, but this is application dependent."
   ]
  },
  {
   "cell_type": "markdown",
   "metadata": {},
   "source": [
    "### Compute boxplots with ```matplotlib```"
   ]
  },
  {
   "cell_type": "markdown",
   "metadata": {},
   "source": [
    "Let's use ```matplotlib``` to compute some boxplots. You can find more information at <a href=\"https://matplotlib.org/stable/api/_as_gen/matplotlib.pyplot.boxplot.html\">matplotlib.pyplot.boxplot</a>"
   ]
  },
  {
   "cell_type": "code",
   "execution_count": 14,
   "metadata": {
    "tags": []
   },
   "outputs": [],
   "source": [
    "import matplotlib.pyplot as plt\n",
    "import numpy as np\n",
    "np.random.seed(0)"
   ]
  },
  {
   "cell_type": "code",
   "execution_count": 15,
   "metadata": {
    "tags": []
   },
   "outputs": [],
   "source": [
    "size = 500\n",
    "sample = np.random.normal(2.0, 1.0, size)"
   ]
  },
  {
   "cell_type": "code",
   "execution_count": 16,
   "metadata": {
    "tags": []
   },
   "outputs": [
    {
     "data": {
      "image/png": "[encoded data removed]",
      "text/plain": [
       "<Figure size 432x288 with 1 Axes>"
      ]
     },
     "metadata": {
      "needs_background": "light"
     },
     "output_type": "display_data"
    }
   ],
   "source": [
    "plt.boxplot(sample)\n",
    "plt.title(\"Basic boxplot\")\n",
    "plt.show()"
   ]
  },
  {
   "cell_type": "code",
   "execution_count": 17,
   "metadata": {
    "tags": []
   },
   "outputs": [],
   "source": [
    "# make the first 10 entries and the last 10 entries\n",
    "# to be outliers\n",
    "for i in range(0, 10):\n",
    "    sample[i] = -2*sample[i]\n",
    "    \n",
    "for i in range(len(sample) - 10, len(sample)):\n",
    "    sample[i] = 2*sample[i]\n",
    "    "
   ]
  },
  {
   "cell_type": "code",
   "execution_count": 18,
   "metadata": {
    "tags": []
   },
   "outputs": [
    {
     "data": {
      "image/png": "[encoded data removed]",
      "text/plain": [
       "<Figure size 432x288 with 1 Axes>"
      ]
     },
     "metadata": {
      "needs_background": "light"
     },
     "output_type": "display_data"
    }
   ],
   "source": [
    "plt.boxplot(sample, 0, 'gD')\n",
    "plt.title(\"Basic boxplot with outliers\")\n",
    "plt.show()"
   ]
  },
  {
   "cell_type": "markdown",
   "metadata": {},
   "source": [
    "## Summary"
   ]
  },
  {
   "cell_type": "markdown",
   "metadata": {},
   "source": [
    "This section introduced boxplots. A box plot is a graphical display that shows three things:\n",
    "\n",
    "- A measure of location, the median $M$\n",
    "- A measure of dispersion interquartile range\n",
    "- The presence of possible outliers\n",
    "\n",
    "It also given an indication of the symmetry or skewness of the distribution."
   ]
  },
  {
   "cell_type": "markdown",
   "metadata": {},
   "source": [
    "We also saw how to plot basic boxplots with Python's ```matplotlib```."
   ]
  },
  {
   "cell_type": "markdown",
   "metadata": {},
   "source": [
    "## References"
   ]
  },
  {
   "cell_type": "markdown",
   "metadata": {},
   "source": [
    "1. John A. Rice, _Mathematical Statistics and Data Analysis_, Duxbury Press, 2nd Edition."
   ]
  }
 ],
 "metadata": {
  "kernelspec": {
   "display_name": "Python 3 (ipykernel)",
   "language": "python",
   "name": "python3"
  },
  "language_info": {
   "codemirror_mode": {
    "name": "ipython",
    "version": 3
   },
   "file_extension": ".py",
   "mimetype": "text/x-python",
   "name": "python",
   "nbconvert_exporter": "python",
   "pygments_lexer": "ipython3",
   "version": "3.10.12"
  }
 },
 "nbformat": 4,
 "nbformat_minor": 4
}
