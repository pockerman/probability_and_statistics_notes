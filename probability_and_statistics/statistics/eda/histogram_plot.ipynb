{
 "cells": [
  {
   "cell_type": "markdown",
   "metadata": {},
   "source": [
    "# Histogram Plot"
   ]
  },
  {
   "cell_type": "markdown",
   "metadata": {},
   "source": [
    "## Overview"
   ]
  },
  {
   "cell_type": "markdown",
   "metadata": {},
   "source": [
    "In this section we will introduce a frequently used plot when performing EDA. specifically, we \n",
    "introduce histograms.  We will be using Python's ```matplotlib.pyplot``` for the plots presented  in this\n",
    "section. For an introduction to ```matplotlib.pyplot``` checkout the relevant appendix. For more information\n",
    "about ```matplotlib.pyplot``` check the official <a href=\"https://matplotlib.org/\">documentation</a>."
   ]
  },
  {
   "cell_type": "markdown",
   "metadata": {},
   "source": [
    "## Histogram plot"
   ]
  },
  {
   "cell_type": "markdown",
   "metadata": {},
   "source": [
    "A histogram plot simply shows the frequencies of items that have been collected into bins.\n",
    "Thus, in order to build a  histogram plot we must first group the observations into bins and then\n",
    "count the number of events that fall into each bin. \n",
    "The counts, or frequencies of observations, in each bin are then plotted as a bar graph with the \n",
    "bins on the x-axis and the frequency on the y-axis. Let's see an example below. Notice that\n",
    "all the heavy lifting is done by ```matplotlib.pyplot```"
   ]
  },
  {
   "cell_type": "code",
   "execution_count": 2,
   "metadata": {
    "tags": []
   },
   "outputs": [],
   "source": [
    "import matplotlib.pyplot as plt\n",
    "import numpy as np\n",
    "np.random.seed(0)"
   ]
  },
  {
   "cell_type": "code",
   "execution_count": 3,
   "metadata": {
    "tags": []
   },
   "outputs": [
    {
     "data": {
      "image/png": "[encoded data removed]",
      "text/plain": [
       "<Figure size 432x288 with 1 Axes>"
      ]
     },
     "metadata": {
      "needs_background": "light"
     },
     "output_type": "display_data"
    }
   ],
   "source": [
    "sample = np.random.normal(size=1000)\n",
    "plt.hist(sample, bins=10, edgecolor='black')\n",
    "plt.show()"
   ]
  },
  {
   "cell_type": "markdown",
   "metadata": {},
   "source": [
    "Histograms pose, or can be, the starting point towards establishing\n",
    "the empirical distribution of the observed data. However,\n",
    "towards this direction, the choice of the number of bins is\n",
    "important. Indeed the number of bins controls the \n",
    "coarseness of the distribution i.e. number of bars and, in turn, how well the density of the observations is plotted. Thus it is always a good idea to experiment with different bin sizes for a given data sample to get multiple perspectives or views on the same data. \n",
    "Notice that we can pass ```bins='auto'``` and let ```matplotlib.pyplot``` to select the\n",
    "proper number of bins. "
   ]
  },
  {
   "cell_type": "code",
   "execution_count": 4,
   "metadata": {
    "tags": []
   },
   "outputs": [
    {
     "data": {
      "image/png": "[encoded data removed]",
      "text/plain": [
       "<Figure size 432x288 with 1 Axes>"
      ]
     },
     "metadata": {
      "needs_background": "light"
     },
     "output_type": "display_data"
    }
   ],
   "source": [
    "plt.hist(sample, bins='auto', edgecolor='black')\n",
    "plt.show()"
   ]
  },
  {
   "cell_type": "markdown",
   "metadata": {},
   "source": [
    "In contrast, running the example with bins set to 3 makes the normal distribution less obvious. This is shown below"
   ]
  },
  {
   "cell_type": "code",
   "execution_count": 5,
   "metadata": {
    "tags": []
   },
   "outputs": [
    {
     "data": {
      "image/png": "[encoded data removed]",
      "text/plain": [
       "<Figure size 432x288 with 1 Axes>"
      ]
     },
     "metadata": {
      "needs_background": "light"
     },
     "output_type": "display_data"
    }
   ],
   "source": [
    "# plot a histogram of the sample\n",
    "plt.hist(sample, bins=3, edgecolor='black')\n",
    "plt.show()"
   ]
  },
  {
   "cell_type": "markdown",
   "metadata": {},
   "source": [
    "Reviewing a histogram of a data sample with a range of different numbers of bins will help to identify whether the density looks like a common probability distribution or not."
   ]
  },
  {
   "cell_type": "markdown",
   "metadata": {},
   "source": [
    "----\n",
    "**Remark**\n",
    "\n",
    "A common rule of thumb in order to choose the number of bins is the following\n",
    "\n",
    "$$\\text{Bins} = \\sqrt{N}$$\n",
    "\n",
    "where $N$ is the number of data points available. \n",
    "\n",
    "----"
   ]
  },
  {
   "cell_type": "markdown",
   "metadata": {},
   "source": [
    "The ```matplotlib.pyplot.hist``` function returns some useful \n",
    "information such as the total number of binned groups, the bin edges e.t.c"
   ]
  },
  {
   "cell_type": "code",
   "execution_count": 6,
   "metadata": {
    "tags": []
   },
   "outputs": [
    {
     "name": "stdout",
     "output_type": "stream",
     "text": [
      "Number of Bins: 23\n",
      "Bin width: 0.2524129638618047\n"
     ]
    },
    {
     "data": {
      "image/png": "[encoded data removed]",
      "text/plain": [
       "<Figure size 432x288 with 1 Axes>"
      ]
     },
     "metadata": {
      "needs_background": "light"
     },
     "output_type": "display_data"
    }
   ],
   "source": [
    "counts, bin_edges, _ = plt.hist(sample, bins='auto', edgecolor='black')\n",
    "print(f\"Number of Bins: {counts.size}\")\n",
    "\n",
    "bin_width = bin_edges[1] - bin_edges[0]\n",
    "print(f\"Bin width: {bin_width}\")"
   ]
  },
  {
   "cell_type": "markdown",
   "metadata": {},
   "source": [
    "We can use the ```bin_edges``` array above alongside ```counts``` in order infert the element count and coverage range for any specified bin. This is done below"
   ]
  },
  {
   "cell_type": "code",
   "execution_count": 7,
   "metadata": {
    "tags": []
   },
   "outputs": [],
   "source": [
    "def get_bin_coverage(i, hist_counts: list, bin_edges: list):\n",
    "    \n",
    "    count = int(hist_counts[i])\n",
    "    range_start, range_end = bin_edges[i], bin_edges[i+1]\n",
    "    return count, range_start, range_end\n",
    "    "
   ]
  },
  {
   "cell_type": "code",
   "execution_count": 8,
   "metadata": {
    "tags": []
   },
   "outputs": [
    {
     "name": "stdout",
     "output_type": "stream",
     "text": [
      "The bin for frequency range -3.0461430547999266 - -2.793730090938122 contains 2 elements\n"
     ]
    }
   ],
   "source": [
    "count, range_start, range_end = get_bin_coverage(0, \n",
    "                                                 counts, bin_edges)\n",
    "range_string = f\"{range_start} - {range_end}\"\n",
    "print((f\"The bin for frequency range {range_string} contains \"\n",
    "           f\"{count} element{'' if count == 1 else 's'}\"))"
   ]
  },
  {
   "cell_type": "code",
   "execution_count": 9,
   "metadata": {
    "tags": []
   },
   "outputs": [
    {
     "name": "stdout",
     "output_type": "stream",
     "text": [
      "The bin for frequency range -0.5220134161818795 - -0.2696004523200748 contains 108 elements\n"
     ]
    }
   ],
   "source": [
    "count, range_start, range_end = get_bin_coverage(counts.argmax(), \n",
    "                                                 counts, bin_edges)\n",
    "range_string = f\"{range_start} - {range_end}\"\n",
    "print((f\"The bin for frequency range {range_string} contains \"\n",
    "           f\"{count} element{'' if count == 1 else 's'}\"))"
   ]
  },
  {
   "cell_type": "markdown",
   "metadata": {},
   "source": [
    "## Compute probabilities from histograms"
   ]
  },
  {
   "cell_type": "markdown",
   "metadata": {},
   "source": [
    "As mentioned above, a histogram can be used in order to derive the empirical density\n",
    "function of the observed data. Moreover, we know that the area under a PDF should be equal to one.\n",
    "This is not necessarily true for the histogram above and in general this will be the case. ```matplotlib.pyplot.hist``` function allows us to easilly deal with this case.  We can turn the histogram into relative likelihoods by passing ```density=True```"
   ]
  },
  {
   "cell_type": "code",
   "execution_count": 10,
   "metadata": {
    "tags": []
   },
   "outputs": [
    {
     "data": {
      "image/png": "[encoded data removed]",
      "text/plain": [
       "<Figure size 432x288 with 1 Axes>"
      ]
     },
     "metadata": {
      "needs_background": "light"
     },
     "output_type": "display_data"
    }
   ],
   "source": [
    "rel_likelihoods, bin_edges, _ = plt.hist(sample, bins='auto', \n",
    "                                         edgecolor='black', density=True)\n",
    "plt.xlabel('Binned Frequency')\n",
    "plt.ylabel('Relative Likelihood')\n",
    "plt.show()\n"
   ]
  },
  {
   "cell_type": "markdown",
   "metadata": {},
   "source": [
    "Observe that the $y-axis$ now does not show counts but the relative likelihood. The area under the\n",
    "histogram should now be equal to one"
   ]
  },
  {
   "cell_type": "code",
   "execution_count": 32,
   "metadata": {
    "tags": []
   },
   "outputs": [
    {
     "name": "stdout",
     "output_type": "stream",
     "text": [
      "Area under histogram=0.9999999999999999\n"
     ]
    }
   ],
   "source": [
    "bin_width = bin_edges[1] - bin_edges[0]\n",
    "print(f\"Area under histogram={rel_likelihoods.sum() * bin_width}\")"
   ]
  },
  {
   "cell_type": "markdown",
   "metadata": {},
   "source": [
    "Now the area beneath each bin, will equal the probability of finding an observation within that bin.\n",
    "Let's calculate the two extreme probabilities"
   ]
  },
  {
   "cell_type": "code",
   "execution_count": 11,
   "metadata": {
    "tags": []
   },
   "outputs": [
    {
     "name": "stdout",
     "output_type": "stream",
     "text": [
      "probability of falling in the max interval -0.5220134161818795 - -0.2696004523200748 is 0.10800000000000001\n",
      "probability of falling in the min interval -3.0461430547999266 - -2.793730090938122 is 0.002\n"
     ]
    }
   ],
   "source": [
    "index = rel_likelihoods.argmax()\n",
    "area = rel_likelihoods[index] * bin_width\n",
    "range_start, range_end = bin_edges[index], bin_edges[index+1]\n",
    "range_string = f\"{range_start} - {range_end}\"\n",
    "print(f\"probability of falling in the max interval {range_string} is {area}\")\n",
    "\n",
    "\n",
    "index = rel_likelihoods.argmin()\n",
    "area = rel_likelihoods[index] * bin_width\n",
    "range_start, range_end = bin_edges[index], bin_edges[index+1]\n",
    "range_string = f\"{range_start} - {range_end}\"\n",
    "print(f\"probability of falling in the min interval {range_string} is {area}\")"
   ]
  },
  {
   "cell_type": "markdown",
   "metadata": {},
   "source": [
    "## Summary"
   ]
  },
  {
   "cell_type": "markdown",
   "metadata": {},
   "source": [
    "In this section we reviewd histogram plots. A histogram plot simply shows the frequencies of items that have been collected into bins.\n",
    "Thus, in order to build a  histogram plot we must first group the observations into bins and then\n",
    "count the number of events that fall into each bin. Histograms are easy to construct and this is one of their major\n",
    "advantage."
   ]
  },
  {
   "cell_type": "markdown",
   "metadata": {},
   "source": [
    "However, the selected number of bins affects the quality of the plot.  A common rule of thumb in order to choose the number of bins is the following\n",
    "\n",
    "$$\\text{Bins} = \\sqrt{N}$$\n",
    "\n",
    "where $N$ is the number of data points available. \n"
   ]
  },
  {
   "cell_type": "markdown",
   "metadata": {},
   "source": [
    "A histogram can also be used to show probabilities. In this case the area under the \n",
    "histogram should be appoximately equal to 1. In this case we can calculate the probability of \n",
    "an observation falling within a bin as the area occupied by the bin i.e.\n",
    "\n",
    "\n",
    "$$\\text{Area of bin} = \\text{Relative probability assigned to bin}\\times \\text{Bin width}$$"
   ]
  },
  {
   "cell_type": "markdown",
   "metadata": {},
   "source": [
    "We also saw how to use the ```matplotlib.pyplot.hist```. This function does most of the heavy duty for us.\n",
    "The choice ```bins='auto'``` can be used in order to instruct ```matplotlib``` to infer the appropriate number of\n",
    "bins to be used in the plot. The ```matplotlib.pyplot.hist``` returns some useful information such as the number of counts each\n",
    "bin contains and the bin width. We can instruct ```matplotlib.pyplot.hist``` to generate probabilties by setting ```density=True```."
   ]
  },
  {
   "cell_type": "markdown",
   "metadata": {},
   "source": [
    "You can find more about ```matplotlib.pyplot.hist``` in [1]. One way to overcome the limitations of a histogram plot due to the number of\n",
    "bins specification is to use a bee swarm plot. We will review this in the next section."
   ]
  },
  {
   "cell_type": "markdown",
   "metadata": {},
   "source": [
    "## References"
   ]
  },
  {
   "cell_type": "markdown",
   "metadata": {},
   "source": [
    "1. <a href=\"https://matplotlib.org/stable/api/_as_gen/matplotlib.pyplot.hist.html\">matplotlib.pyplot.hist</a>\n",
    "2. Leonard Apeltsin, _Data Science Bootcamp_, Manning Publications, 20212."
   ]
  }
 ],
 "metadata": {
  "kernelspec": {
   "display_name": "Python 3 (ipykernel)",
   "language": "python",
   "name": "python3"
  },
  "language_info": {
   "codemirror_mode": {
    "name": "ipython",
    "version": 3
   },
   "file_extension": ".py",
   "mimetype": "text/x-python",
   "name": "python",
   "nbconvert_exporter": "python",
   "pygments_lexer": "ipython3",
   "version": "3.10.12"
  }
 },
 "nbformat": 4,
 "nbformat_minor": 4
}
