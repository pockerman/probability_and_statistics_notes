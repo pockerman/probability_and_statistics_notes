{
 "cells": [
  {
   "cell_type": "markdown",
   "metadata": {},
   "source": [
    "# Confidence intervals"
   ]
  },
  {
   "cell_type": "markdown",
   "metadata": {},
   "source": [
    "## Overview"
   ]
  },
  {
   "cell_type": "markdown",
   "metadata": {},
   "source": [
    "We already know that when estimating a parameter $\\theta$ of a population, using an estimator $\\hat{\\theta}$, we are subject to errors. In fact, we have also derived some error estimates which we called them standard errors. The question now we want to address is how much we want to trust $\\hat{\\theta}$. Specifically, we are interested in the following questions: "
   ]
  },
  {
   "cell_type": "markdown",
   "metadata": {},
   "source": [
    "- How much can we trust the reported estimator? \n",
    "- How far can it be from the actual parameter of interest? \n",
    "- What is the probability that it will be reasonably close? \n",
    "- If we observed an estimator $\\hat{\\theta}$ then what can the actual parameter $\\theta$ be?"
   ]
  },
  {
   "cell_type": "markdown",
   "metadata": {},
   "source": [
    "We can address the questions above by constructing <a href=\"https://en.wikipedia.org/wiki/Confidence_interval\">_confidence intervals_</a> (CI). Thus, in this section, we will review the following"
   ]
  },
  {
   "cell_type": "markdown",
   "metadata": {},
   "source": [
    "- What is a CI\n",
    "- Constructing of CI for population mean\n",
    "- Construct CI, for difference between means\n",
    "- Construct CI for proportions\n",
    "- Construct CI for difference between proportions\n",
    "- Sample size selection"
   ]
  },
  {
   "cell_type": "markdown",
   "metadata": {},
   "source": [
    "## Confidence intervals"
   ]
  },
  {
   "cell_type": "markdown",
   "metadata": {},
   "source": [
    "In order to answer the questions above, we  can use _confidence intervals_. We have the following definition [1, 2, 4]."
   ]
  },
  {
   "cell_type": "markdown",
   "metadata": {},
   "source": [
    "----\n",
    "\n",
    "**Definition.**\n",
    "\n",
    "An interval $[a,b]$ is a $(1-\\alpha)$ confidence interval for the parameter $\\theta$ if it contains the parameter with probability $(1-\\alpha)$ i.e.\n",
    "\n",
    "$$P(a \\leq \\theta \\leq b) \\geq 1 - \\alpha$$\n",
    "\n",
    "We usually refer to  $(1-\\alpha)$ as the **coverage probability** or as the **confidence level**.\n",
    "\n",
    "\n",
    "Notice that bothe $a,b$ are random variables as they depend on the data.\n",
    "\n",
    "----"
   ]
  },
  {
   "cell_type": "markdown",
   "metadata": {},
   "source": [
    "Given that the population parameter of interest is not random but constant, then the coverage probability represents the probability that our interval contains a constant parameter $\\theta$. The coverage probability therefore refers to the chance that our interval covers a constant parameter $\\theta$ and not a probability\n",
    "statement about $\\theta$."
   ]
  },
  {
   "cell_type": "markdown",
   "metadata": {},
   "source": [
    "----\n",
    "\n",
    "**Remark.**\n",
    "\n",
    "When interpreting confidence intervals we should think that it is more accurate to say that there is a $(1-\\alpha)$ probability that the specific sample confidence interval is one of the confidence intervals that actually capture the population parameter [2]\n",
    "\n",
    "\n",
    "----"
   ]
  },
  {
   "cell_type": "markdown",
   "metadata": {},
   "source": [
    "----\n",
    "\n",
    "**Remark: Credibility set**\n",
    "\n",
    "We will see that when adopting a bayesian framework, we no longer have to explain the condifence level $(1-\\alpha)$ in terms of long run of samples. Instead we can have an interval that has a posterior probability  $(1-\\alpha)$ and state that the parameter $\\theta$ belongs to this set with that probabiltiy. This interval or, more abstractly, this set $C$ is a called a **credible set** [1].\n",
    "\n",
    "----"
   ]
  },
  {
   "cell_type": "markdown",
   "metadata": {},
   "source": [
    "## Construction of confidence intervals\n"
   ]
  },
  {
   "cell_type": "markdown",
   "metadata": {},
   "source": [
    "Now that we know how to interpret confidence intervals, let's turn our attention onto how to construct one. In particular, we are interested in how to construct a CI that will satisfy the following "
   ]
  },
  {
   "cell_type": "markdown",
   "metadata": {},
   "source": [
    "$$P(a \\leq \\theta \\leq b) = 1 - \\alpha$$"
   ]
  },
  {
   "cell_type": "markdown",
   "metadata": {},
   "source": [
    "We will look into various case. However, we start with the general case."
   ]
  },
  {
   "cell_type": "markdown",
   "metadata": {},
   "source": [
    "**Normally distributed data**"
   ]
  },
  {
   "cell_type": "markdown",
   "metadata": {},
   "source": [
    "In this section, we show the general mechanics of constructing a confidence interval. We will specialize it further below.  Assume that there is an unbiased estimator $\\hat{\\theta}$ that is normally distributed. We can standardize it and get a standard normal variable"
   ]
  },
  {
   "cell_type": "markdown",
   "metadata": {},
   "source": [
    "$$ z = \\frac{\\hat{\\theta} - E\\left[\\hat{\\theta}\\right]}{se(\\hat{\\theta})} \\sim N(0, 1)$$"
   ]
  },
  {
   "cell_type": "markdown",
   "metadata": {},
   "source": [
    "where $se(\\hat{\\theta})$ is the standard error associated with the estimator. Furthermore, we know that"
   ]
  },
  {
   "cell_type": "markdown",
   "metadata": {},
   "source": [
    "$$P(z_{-\\alpha/2} \\leq z \\leq z_{\\alpha/2}) = 1 - \\alpha$$"
   ]
  },
  {
   "cell_type": "markdown",
   "metadata": {},
   "source": [
    "by substituting in the equation above the representation for $z$ and solving the inequality for $\\theta$, we can solve for the bounds of the interval:"
   ]
  },
  {
   "cell_type": "markdown",
   "metadata": {},
   "source": [
    "$$a = \\hat{\\theta} - z_{\\alpha/2}\\sigma(\\hat{\\theta}), ~~ b = \\hat{\\theta} + z_{\\alpha/2}\\sigma(\\hat{\\theta})$$"
   ]
  },
  {
   "cell_type": "markdown",
   "metadata": {},
   "source": [
    "Thus, we arrive at the following conclusion.\n"
   ]
  },
  {
   "cell_type": "markdown",
   "metadata": {},
   "source": [
    "----\n",
    "\n",
    "**CI for normal distribution.**\n",
    "\n",
    "If $\\hat{\\theta}$ is an unbiased estimator for $\\theta$ and $\\hat{\\theta}$ is normally distributed then\n",
    "\n",
    "$$[a = \\hat{\\theta} - z_{\\alpha/2}se(\\hat{\\theta}), ~~ b = \\hat{\\theta} + z_{\\alpha/2}se(\\hat{\\theta})]$$\n",
    "\n",
    "\n",
    "is a $(1- \\alpha)\\%$ C.I. for $\\theta$.\n",
    "\n",
    "If the distribution of $\\hat{\\theta}$ is approximately normal,\n",
    "we get an approximately $(1- \\alpha)$ CI.\n",
    "\n",
    "----"
   ]
  },
  {
   "cell_type": "markdown",
   "metadata": {},
   "source": [
    "In this formula, $\\hat{\\theta}$ is the center of the interval, and $z_{\\alpha /2}se(\\theta)$ is the margin. The margin of error is often reported along with poll and survey results. In newspapers and\n",
    "press releases, it is usually computed for a 95\\% confidence interval. We will see below that by constraining the margin not to exceed a certain threshold, we can get a formula for the required sample size in order to satisfy this threshold."
   ]
  },
  {
   "cell_type": "markdown",
   "metadata": {},
   "source": [
    "We now turn our attention onto constructing confidence intervals for some frequently occurring cases.\n",
    "In general, we distinguish between the following scenarios"
   ]
  },
  {
   "cell_type": "markdown",
   "metadata": {},
   "source": [
    "- Large sample and known variance\n",
    "- Large sample and unknown variance\n",
    "- Small sample and unknown variance"
   ]
  },
  {
   "cell_type": "markdown",
   "metadata": {},
   "source": [
    "When the variance is unknown we need to estimate it from the sample. However, when the sample is small $s$ is not an accurate estimate of the population $\\sigma$. In this case we need to adjust the confidence interval. "
   ]
  },
  {
   "cell_type": "markdown",
   "metadata": {},
   "source": [
    "###  CI for population mean"
   ]
  },
  {
   "cell_type": "markdown",
   "metadata": {},
   "source": [
    "One of the most common scenarios, is to construct a C.I. for the population mean. Let's assume that the variance $\\sigma^2$ is known. Then, the CI is given by the formula "
   ]
  },
  {
   "cell_type": "markdown",
   "metadata": {},
   "source": [
    "$$\\bar{x} \\pm z_{\\alpha/2}\\frac{\\sigma}{\\sqrt{n}} $$"
   ]
  },
  {
   "cell_type": "markdown",
   "metadata": {},
   "source": [
    "The following Scala code shows how to calculate the C.I"
   ]
  },
  {
   "cell_type": "markdown",
   "metadata": {},
   "source": [
    "```\n",
    "import breeze.linalg.DenseVector\n",
    "import breeze.stats.distributions.Gaussian\n",
    "\n",
    "class CINormalDistBuilder(val alpha: Double, val sigma: Double) {\n",
    "\n",
    "  def build(sample: DenseVector[Double]): Interval = {\n",
    "\n",
    "    val mu = breeze.stats.mean(sample)\n",
    "    val gaussian  = Gaussian(mu = mu, sigma = sigma)\n",
    "    val n: Int = sample.size\n",
    "    val zAlpha2 = gaussian.inverseCdf(0.5 * alpha)\n",
    "    val low = mu - zAlpha2 * ( sigma / math.sqrt(n) )\n",
    "    val high = mu + zAlpha2 * ( sigma / math.sqrt(n) )\n",
    "    Interval(L = low, U = high)\n",
    "  }\n",
    "\n",
    "}\n",
    "\n",
    "```"
   ]
  },
  {
   "cell_type": "markdown",
   "metadata": {},
   "source": [
    "----\n",
    "\n",
    "**Remark.**\n",
    "\n",
    "If a sample comes from any distribution, but the sample size $n$ is large, then $\\bar{x}$ has an approximately normal distribution according to the CLT.\n",
    "\n",
    "\n",
    "----"
   ]
  },
  {
   "cell_type": "markdown",
   "metadata": {},
   "source": [
    "**Unknown variance**"
   ]
  },
  {
   "cell_type": "markdown",
   "metadata": {},
   "source": [
    "The calculation above is rather straightforward. However, what happens when $\\sigma$ is not known. In this case we need to estimate it using the sample. If the sample size is large, then we can use the following estimator $\\hat{s}$ "
   ]
  },
  {
   "cell_type": "markdown",
   "metadata": {},
   "source": [
    "$$\\hat{s} = \\frac{1}{n-1}\\sum_i (x_i - \\bar{x})^2$$"
   ]
  },
  {
   "cell_type": "markdown",
   "metadata": {},
   "source": [
    "Thus, the formula now becomes"
   ]
  },
  {
   "cell_type": "markdown",
   "metadata": {},
   "source": [
    "$$\\bar{x} \\pm z_{\\alpha/2}\\frac{\\hat{s}}{\\sqrt{n}} $$"
   ]
  },
  {
   "cell_type": "markdown",
   "metadata": {},
   "source": [
    "However, when the sample size is small, a sample standard deviation $s$ is not an\n",
    "accurate estimator of the population standard deviation $\\sigma$. Thus, we need to adjust the C.I. We do so by using the <a href=\"https://en.wikipedia.org/wiki/Student%27s_t-distribution\">Student's t-distribution</a> and arrive at the following interval"
   ]
  },
  {
   "cell_type": "markdown",
   "metadata": {},
   "source": [
    "$$\\bar{x} \\pm t_{\\alpha/2}\\frac{\\hat{s}}{\\sqrt{n}} $$"
   ]
  },
  {
   "cell_type": "markdown",
   "metadata": {},
   "source": [
    "----\n",
    "\n",
    "**Remark**\n",
    "\n",
    "The density function of the $t-$distribution is similar to that of the normal distribution.\n",
    "In general, its peak is lower and its tails are thicker when compared with the normal distribution.\n",
    "Thus, a larger $t_{\\alpha}$ is needed to cut area $\\alpha$ from the right tail meaning\n",
    "\n",
    "$$t_{\\alpha} > z_{\\alpha}$$\n",
    "\n",
    "for small $\\alpha$. Consequently, the confidence interval that uses $t_{\\alpha}$ is wider than the interval that uses $z_{\\alpha}$ when $\\sigma$ is known. This is exactly the price we pay for not knowing the standard\n",
    "deviation $\\sigma$. Thus, when we lack a certain piece of information, we cannot get a more accurate\n",
    "estimator\n",
    "\n",
    "\n",
    "----"
   ]
  },
  {
   "cell_type": "markdown",
   "metadata": {},
   "source": [
    "### <a name=\"subsec2\"></a> Selection of sample size"
   ]
  },
  {
   "cell_type": "markdown",
   "metadata": {},
   "source": [
    "Very often we are interested in how large the sample size should be in order to have a desired precision of our estimator. The equation above specifies a C.I. in the form"
   ]
  },
  {
   "cell_type": "markdown",
   "metadata": {},
   "source": [
    "$$\\text{center} ~~ \\pm ~~ \\text{margin}$$"
   ]
  },
  {
   "cell_type": "markdown",
   "metadata": {},
   "source": [
    "where $\\text{center}=\\hat{\\theta}$ and $\\text{margin}=z_{\\alpha/2}\\sigma(\\hat{\\theta})$. "
   ]
  },
  {
   "cell_type": "markdown",
   "metadata": {},
   "source": [
    "What we now ask is  what sample size $n$ guarantees that the margin of a $(1-\\alpha)100\\%$ confidence interval does not exceed a specified limit $\\Delta$?In order to answer this question, we can solve the following inequality"
   ]
  },
  {
   "cell_type": "markdown",
   "metadata": {},
   "source": [
    "$$\\text{margin} \\leq \\Delta$$"
   ]
  },
  {
   "cell_type": "markdown",
   "metadata": {},
   "source": [
    "in terms of $n$"
   ]
  },
  {
   "cell_type": "markdown",
   "metadata": {},
   "source": [
    "Typically, parameters are estimated more accurately based on larger samples, so that the standard error $\\sigma(\\hat{\\theta})$ and the margin are decreasing functions of sample size $n$.\n",
    "Then, the equation above must be satisfied for sufficiently large $n$. Hence, we arrive at"
   ]
  },
  {
   "cell_type": "markdown",
   "metadata": {},
   "source": [
    "----\n",
    "\n",
    "**Sample size for a given precision**\n",
    "\n",
    "\n",
    "In order to attain a margin of error $\\Delta$ for estimating\n",
    "a population mean with a confidence level $(1-\\alpha)$, a sample of size \n",
    "\n",
    "\n",
    "$$n \\geq \\left(\\frac{z_{\\alpha/2}\\sigma}{\\Delta}\\right)^2$$\n",
    "\n",
    "is required. Notice that we can only round it up to the nearest integer sample size. If we round it down, our margin will exceed $\\Delta$.\n",
    "\n",
    "\n",
    "----"
   ]
  },
  {
   "cell_type": "markdown",
   "metadata": {},
   "source": [
    "### <a name=\"subsec3\"></a> C.I for difference between means "
   ]
  },
  {
   "cell_type": "markdown",
   "metadata": {},
   "source": [
    "Let's now consider the scenario, where we want to compare two populations e.g.  a comparison of two\n",
    "materials, two suppliers, two service providers, two communication channels, two labs, etc. We collect a sample from each population. We assume that the samples are are collected independently of each other"
   ]
  },
  {
   "cell_type": "markdown",
   "metadata": {},
   "source": [
    "Again we assume that "
   ]
  },
  {
   "cell_type": "markdown",
   "metadata": {},
   "source": [
    "- Normal distribution of data or\n",
    "- Sufficiently large sample size"
   ]
  },
  {
   "cell_type": "markdown",
   "metadata": {},
   "source": [
    "An unbiased estimator for the difference between two means is"
   ]
  },
  {
   "cell_type": "markdown",
   "metadata": {},
   "source": [
    "$$\\hat{\\theta} = \\bar{x} - \\bar{y}$$"
   ]
  },
  {
   "cell_type": "markdown",
   "metadata": {},
   "source": [
    "The standard error associated with $\\hat{\\theta}$ is given by"
   ]
  },
  {
   "cell_type": "markdown",
   "metadata": {},
   "source": [
    "$$\\sigma(\\hat{\\theta}) = \\sqrt{\\frac{\\sigma_{X}^2}{n} +\\frac{\\sigma_{Y}^2}{m}}$$"
   ]
  },
  {
   "cell_type": "markdown",
   "metadata": {},
   "source": [
    "Thus we arrive at the following formula"
   ]
  },
  {
   "cell_type": "markdown",
   "metadata": {},
   "source": [
    "$$\\bar{x} - \\bar{y} \\pm z_{\\alpha/2}\\sigma(\\hat{\\theta})$$"
   ]
  },
  {
   "cell_type": "markdown",
   "metadata": {},
   "source": [
    "----\n",
    "\n",
    "**C.I. for for difference between means with known standard deviations**\n",
    "\n",
    "\n",
    "$$\\bar{x} - \\bar{y} \\pm z_{\\alpha/2}\\sigma(\\hat{\\theta})$$\n",
    "\n",
    "where\n",
    "\n",
    "$$\\sigma(\\hat{\\theta}) = \\sqrt{\\frac{\\sigma_{X}^2}{n} +\\frac{\\sigma_{Y}^2}{m}}$$\n",
    "\n",
    "----"
   ]
  },
  {
   "cell_type": "markdown",
   "metadata": {},
   "source": [
    "The following Scala code shows how to calculate the C.I"
   ]
  },
  {
   "cell_type": "markdown",
   "metadata": {},
   "source": [
    "```\n",
    "import breeze.linalg.DenseVector\n",
    "import breeze.stats.distributions.Gaussian\n",
    "\n",
    "class CINormalDistTwoMeansBuilder(val alpha: Double, val sigma1: Double, val sigma2: Double) {\n",
    "\n",
    "  def build(sample1: DenseVector[Double], sample2: DenseVector[Double]): Interval = {\n",
    "\n",
    "    val mu1 = breeze.stats.mean(sample1)\n",
    "    val mu2 = breeze.stats.mean(sample2)\n",
    "    val sigma = math.sqrt((sigma1 * sigma1) / sample1.size + (sigma2 * sigma2) / sample2.size)\n",
    "    val gaussian  = Gaussian(mu = mu1 - mu2, sigma = sigma)\n",
    "\n",
    "    val zAlpha2 = gaussian.inverseCdf(0.5 * alpha)\n",
    "    val low = mu1 - mu2 - zAlpha2 * sigma\n",
    "    val high = mu1 - mu2 + zAlpha2 *  sigma\n",
    "    Interval(L = low, U = high)\n",
    "  }\n",
    "  \n",
    "}\n",
    "\n",
    "```"
   ]
  },
  {
   "cell_type": "markdown",
   "metadata": {},
   "source": [
    "**Unknown standard deviation** "
   ]
  },
  {
   "cell_type": "markdown",
   "metadata": {},
   "source": [
    "Knowing the standard deviation of the two populations is most likely an exception rather than the rule. When the standard deviations are unknown, we use their estimates. When the sample sizes are large we can estimate $s_X$ and $s_Y$ and use these estimates in our formula. Hence we have the following C.I."
   ]
  },
  {
   "cell_type": "markdown",
   "metadata": {},
   "source": [
    "----\n",
    "\n",
    "**C.I. for for difference between means with unknown standard deviations (large samples)**\n",
    "\n",
    "\n",
    "$$\\bar{x} - \\bar{y} \\pm z_{\\alpha/2}\\sigma(\\hat{\\theta})$$\n",
    "\n",
    "where\n",
    "\n",
    "$$\\sigma(\\hat{\\theta}) = \\sqrt{\\frac{s_{X}^2}{n} +\\frac{s_{Y}^2}{m}}$$\n",
    "\n",
    "----"
   ]
  },
  {
   "cell_type": "markdown",
   "metadata": {},
   "source": [
    "When the sample size is small, and in contrast to the population mean case, we need to consider two important cases "
   ]
  },
  {
   "cell_type": "markdown",
   "metadata": {},
   "source": [
    "- In one case, there exists an exact and simple solution based on $t$-distribution. \n",
    "\n",
    "- The other case suddenly appears to be a famous Behrens-Fisher problem, where no exact solution exists, and only approximations are available."
   ]
  },
  {
   "cell_type": "markdown",
   "metadata": {},
   "source": [
    "**Case 1: Equal variances**"
   ]
  },
  {
   "cell_type": "markdown",
   "metadata": {},
   "source": [
    "Suppose there are reasons to assume that the two populations have equal, but unknown, variances. For example, two sets of data are collected with the same measurement device. Thus, measurements have different means but the same precision. In this case, "
   ]
  },
  {
   "cell_type": "markdown",
   "metadata": {},
   "source": [
    "$$\\sigma^{2}_{X} = \\sigma^{2}_{Y} = \\sigma^{2}$$"
   ]
  },
  {
   "cell_type": "markdown",
   "metadata": {},
   "source": [
    "In this case, there is only one variance $\\sigma^2$ to estimate instead of two. We should use both\n",
    "samples $X$ and $Y$ to estimate their common variance. This estimator of $\\sigma^2$  is called a\n",
    "**pooled sample variance**, and it is computed as"
   ]
  },
  {
   "cell_type": "markdown",
   "metadata": {},
   "source": [
    "$$s^{2}_p = \\frac{(n-1)s^{2}_X + (m-1)s^{2}_Y}{n + m -2}$$"
   ]
  },
  {
   "cell_type": "markdown",
   "metadata": {},
   "source": [
    "Thus, we can construct the following C.I."
   ]
  },
  {
   "cell_type": "markdown",
   "metadata": {},
   "source": [
    "----\n",
    "\n",
    "**Confidence interval for the difference of means; equal, unknown\n",
    "standard deviations**\n",
    "\n",
    "\n",
    "$$\\hat{X} - \\hat{Y} \\pm t_{\\alpha/2}s_p \\sqrt{\\frac{1}{n} + \\frac{1}{m}}$$\n",
    "\n",
    "\n",
    "where $s_p$ is the pooled standard deviation,; the root of the pooled variance  and $t_{\\alpha/2}$ is a critical value from $t-$distribution with $(n + m - 2)$ degrees of freedom.\n",
    "\n",
    "\n",
    "----"
   ]
  },
  {
   "cell_type": "markdown",
   "metadata": {},
   "source": [
    "**Case 2: Unequal variances**"
   ]
  },
  {
   "cell_type": "markdown",
   "metadata": {},
   "source": [
    "The most difficult case is when both variances are unknown and unequal. This is known as the <a href=\"https://en.wikipedia.org/wiki/Behrens%E2%80%93Fisher_problem\">Behrens-Fisher</a> problem. If we replace $\\sigma_X$ and $\\sigma_Y$ by their estimates $s_X$ and $s_Y$ and form the ratio "
   ]
  },
  {
   "cell_type": "markdown",
   "metadata": {},
   "source": [
    "$$t = \\frac{(\\bar{x} - \\bar{y}) - (\\mu_X - \\mu_Y)}{\\sqrt{\\frac{s_{X}^{2}}{n} + \\frac{s_{Y}^{2}}{m}}}$$"
   ]
  },
  {
   "cell_type": "markdown",
   "metadata": {},
   "source": [
    "Then $t$ will not follow the $t-$distribution. Instead, we need to use the following approximation to the number of degrees of freedom."
   ]
  },
  {
   "cell_type": "markdown",
   "metadata": {},
   "source": [
    "$$\\nu = \\frac{\\left(\\frac{s^{2}_X}{n} + \\frac{s^{2}_Y}{m}\\right)^2}{\\frac{s^{4}_X}{n^2(n-1)} + \\frac{s^{4}_Y}{m^2(m-1)}}$$"
   ]
  },
  {
   "cell_type": "markdown",
   "metadata": {},
   "source": [
    "This is known as the  <a href=\"https://en.wikipedia.org/wiki/Welch%E2%80%93Satterthwaite_equation\">Satterthwaite approximation</a>."
   ]
  },
  {
   "cell_type": "markdown",
   "metadata": {},
   "source": [
    "----\n",
    "\n",
    "**C.I. for for difference between means with unequal and unknown standard deviations (small samples)**\n",
    "\n",
    "\n",
    "$$\\bar{x} - \\bar{y} \\pm t_{\\alpha/2}\\sigma(\\hat{\\theta})$$\n",
    "\n",
    "where\n",
    "\n",
    "$$\\sigma(\\hat{\\theta}) = \\sqrt{\\frac{s_{X}^2}{n} +\\frac{s_{Y}^2}{m}}$$\n",
    "\n",
    "and the degrees of freedom for the $t-$ distribution are given by the formula for $\\nu$ above.\n",
    "\n",
    "----"
   ]
  },
  {
   "cell_type": "markdown",
   "metadata": {},
   "source": [
    "### <a name=\"subsec4\"></a> C.I for proportions "
   ]
  },
  {
   "cell_type": "markdown",
   "metadata": {},
   "source": [
    "We now look into proportions and how to construct confidence intervals for them.  Assume that we have a subpopulation $A$ of items with  a certain attribute. By the population proportion we mean the probability "
   ]
  },
  {
   "cell_type": "markdown",
   "metadata": {},
   "source": [
    "$$p = P\\{ i \\in A\\}$$"
   ]
  },
  {
   "cell_type": "markdown",
   "metadata": {},
   "source": [
    "for a randomly selected item $i$ to have this attribute. A sample proportion $\\hat{p}$ is used to estimate $p$ according to "
   ]
  },
  {
   "cell_type": "markdown",
   "metadata": {},
   "source": [
    "$$\\hat{p} = \\frac{\\text{number of sampled items from }A}{n}$$"
   ]
  },
  {
   "cell_type": "markdown",
   "metadata": {},
   "source": [
    "The difficulty here is that we don't know the standard deviation. As usual, we will estimate it by "
   ]
  },
  {
   "cell_type": "markdown",
   "metadata": {},
   "source": [
    "$$s(\\hat{p}) = \\sqrt{\\frac{\\hat{p}(1-\\hat{p})}{n}}$$"
   ]
  },
  {
   "cell_type": "markdown",
   "metadata": {},
   "source": [
    "And construct an approximate $(1-\\alpha)100\\%$ C.I according to "
   ]
  },
  {
   "cell_type": "markdown",
   "metadata": {},
   "source": [
    "----\n",
    "\n",
    "**Confidence interval for a population propotion**\n",
    "\n",
    "$$s(\\hat{p}) \\pm z_{\\alpha/2}\\sqrt{\\frac{\\hat{p}(1-\\hat{p})}{n}}$$\n",
    "\n",
    "----"
   ]
  },
  {
   "cell_type": "markdown",
   "metadata": {},
   "source": [
    "### <a name=\"subsec5\"></a> C.I for difference between two proportions "
   ]
  },
  {
   "cell_type": "markdown",
   "metadata": {},
   "source": [
    "Similarly, we can construct a confidence interval for the difference between two proportions.\n",
    "In this scenario, we have proportions $p_1$ and $p_2$ of items with an attribute. We assume that independent sample of size $n_1$ and $n_2$ are collected respectively. Both parameters are estimated by sample proportions $\\hat{p}_1$ and $\\hat{p}_2$. Thus, we can construct the following C.I."
   ]
  },
  {
   "cell_type": "markdown",
   "metadata": {},
   "source": [
    "----\n",
    "\n",
    "**Confidence interval for the difference of proportions**\n",
    "\n",
    "\n",
    "$$\\hat{p}_1 + \\hat{p}_2 \\pm z_{\\alpha/2} \\sqrt{\\frac{\\hat{p}_1(1-\\hat{p}_1)}{n_1} + \\frac{\\hat{p}_2(1-\\hat{p}_2)}{n_2}}$$\n",
    "\n",
    "\n",
    "----\n"
   ]
  },
  {
   "cell_type": "markdown",
   "metadata": {},
   "source": [
    "### <a name=\"subsec6\"></a> Estimate proportions"
   ]
  },
  {
   "cell_type": "markdown",
   "metadata": {},
   "source": [
    "A related theme that occurs is how do we estimate the sample size $n$ such that a desired level of margin $\\Delta$. We will proceed just like we did for the population mean in section <a name=\"subsec3\">Selection of sample size</a>. In the same pace, the margin is "
   ]
  },
  {
   "cell_type": "markdown",
   "metadata": {},
   "source": [
    "$$\\text{margin} = z_{\\alpha/2}\\sqrt{\\frac{\\hat{p}(1-\\hat{p})}{n}}$$"
   ]
  },
  {
   "cell_type": "markdown",
   "metadata": {},
   "source": [
    "and the standard way of finding the sample size that provides the desired margin $\\Delta$ is by solving the inequality"
   ]
  },
  {
   "cell_type": "markdown",
   "metadata": {},
   "source": [
    "$$\\text{margin} \\leq \\Delta$$"
   ]
  },
  {
   "cell_type": "markdown",
   "metadata": {},
   "source": [
    "which leads to "
   ]
  },
  {
   "cell_type": "markdown",
   "metadata": {},
   "source": [
    "$$n \\geq \\hat{p}(1 - \\hat{p})\\left(\\frac{z_{\\alpha/2}}{\\Delta}\\right)^2$$"
   ]
  },
  {
   "cell_type": "markdown",
   "metadata": {},
   "source": [
    "However, the difficulty here is that the inequality includes $\\hat{p}$ To know $\\hat{p}$, we first need to collect a sample, but to know the sample size, we first need to know $\\hat{p}$. The way to break the ties here is to observe that the function $\\hat{p}(1-\\hat{p})$ has a global maximum at 0.25. Thus, we can replace  $\\hat{p}(1-\\hat{p})$ in the formula above using this value. In this case, we may end up with a sample size larger than we actually need.  However, this  will ensure that we estimate$\\hat{p}$  with a margin that does\n",
    "not exceed $\\Delta$. Therefore, we conclude with the following sample size"
   ]
  },
  {
   "cell_type": "markdown",
   "metadata": {},
   "source": [
    "$$ n \\geq 0.25 \\left( \\frac{z_{\\alpha/2}}{\\Delta}\\right)^2$$"
   ]
  },
  {
   "cell_type": "markdown",
   "metadata": {},
   "source": [
    "## <a name=\"sum\"></a> Summary"
   ]
  },
  {
   "cell_type": "markdown",
   "metadata": {},
   "source": [
    "In this section we reviewed various methods to construct confidence intervals. In general, we want an as much small as possible confidence interval. Large intervals may be more likely to contain the value of the population parameter but they are less accurate and thus not desirable. "
   ]
  },
  {
   "cell_type": "markdown",
   "metadata": {},
   "source": [
    "For statistical functions with symmetric sampling distributions like the normal distributions or the $t-$distribution we take equal areas from the edges of the distribution. Otherwise, when the sampling distribution is not symmetric like the $\\chi^2$ we need to control differently the edge areas in order to get the smallest interval."
   ]
  },
  {
   "cell_type": "markdown",
   "metadata": {},
   "source": [
    "We also saw a new variance namely the pooled sample variance given by"
   ]
  },
  {
   "cell_type": "markdown",
   "metadata": {},
   "source": [
    "$$s^{2}_p = \\frac{(n-1)s^{2}_X + (m-1)s^{2}_Y}{n + m -2}$$"
   ]
  },
  {
   "cell_type": "markdown",
   "metadata": {},
   "source": [
    "and the Satterthwaite approximation for the degrees of freedom of the $t-$distribution given by "
   ]
  },
  {
   "cell_type": "markdown",
   "metadata": {},
   "source": [
    "$$\\nu = \\frac{\\left(\\frac{s^{2}_X}{n} + \\frac{s^{2}_Y}{m}\\right)^2}{\\frac{s^{4}_X}{n^2(n-1)} + \\frac{s^{4}_Y}{m^2(m-1)}}$$"
   ]
  },
  {
   "cell_type": "markdown",
   "metadata": {},
   "source": [
    "Finally, we saw how to obtain the sample size $n$ such that the constructed C.I. satisfies a certain margin."
   ]
  },
  {
   "cell_type": "markdown",
   "metadata": {},
   "source": [
    "When we deal with confidence intervals we should think precision. A narrow confidence interval tells us that the estimate is fairly precise whereas a wide confidence interval tells us that the estimate is relatively imprecise."
   ]
  },
  {
   "cell_type": "markdown",
   "metadata": {},
   "source": [
    "## <a name=\"refs\"></a> References"
   ]
  },
  {
   "cell_type": "markdown",
   "metadata": {},
   "source": [
    "1. Michael Baron, _Probability and statistics for computer scientists_, 2nd Edition, CRC Press.\n",
    "2. Larry Hatcher, _Advanced statistics in research_, Shadow Finch Media.\n",
    "3. Murray R. Spiegel, _Probability and statistics_, Schaum's Outline Series.\n",
    "4. Larry Wasserman, _All of Statistics. A Concise Course in Statistical Inference_, Springer 2003."
   ]
  }
 ],
 "metadata": {
  "kernelspec": {
   "display_name": "Python 3 (ipykernel)",
   "language": "python",
   "name": "python3"
  },
  "language_info": {
   "codemirror_mode": {
    "name": "ipython",
    "version": 3
   },
   "file_extension": ".py",
   "mimetype": "text/x-python",
   "name": "python",
   "nbconvert_exporter": "python",
   "pygments_lexer": "ipython3",
   "version": "3.10.6"
  }
 },
 "nbformat": 4,
 "nbformat_minor": 4
}
