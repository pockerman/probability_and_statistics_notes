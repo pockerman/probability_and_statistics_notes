{
 "cells": [
  {
   "cell_type": "markdown",
   "metadata": {},
   "source": [
    "# Maximum Likelihood Estimation"
   ]
  },
  {
   "cell_type": "markdown",
   "metadata": {},
   "source": [
    "## Overview"
   ]
  },
  {
   "cell_type": "markdown",
   "metadata": {},
   "source": [
    "Perhaps the most common approach for deriving estimators, is the maximum likelihood method.\n",
    "This is a frequentist probabilistic framework that seeks a set of parameters for the model \n",
    "that maximizes a likelihood function. In particular, we wish to maximize the conditional probability \n",
    "of observing the data $D$ given a specific probability distribution and its parameters $\\theta$."
   ]
  },
  {
   "cell_type": "markdown",
   "metadata": {},
   "source": [
    "Maximum likelihood parameter estimation is a technique that can be used\n",
    "when we are willing to make assumptions about the probability distribution of\n",
    "the data. Based on the theoretical probability distribution and the observed data,\n",
    "the likelihood function is a probability statement that can be made about a\n",
    "particular set of parameter values. If two sets of parameters values are being\n",
    "identified, the set with the larger likelihood would be deemed more consistent\n",
    "with the observed data."
   ]
  },
  {
   "cell_type": "markdown",
   "metadata": {},
   "source": [
    "## Maximum likelihood estimation"
   ]
  },
  {
   "cell_type": "markdown",
   "metadata": {},
   "source": [
    "We define the likelihood function as follows [1]\n",
    "\n",
    "----\n",
    "**Definition**\n",
    "\n",
    "The likelihood function is defined by\n",
    "\n",
    "\\begin{equation}\n",
    "L_{n}(\\theta) = \\prod_{i=1}^{n} f(X;\\theta)\n",
    "\\end{equation}\n",
    "\n",
    "\n",
    "It often easier to work with the logarithm of $L_{n}(\\theta)$. Hence, the log-likelihood function as \n",
    "\n",
    "\\begin{equation}\n",
    "l_{n}(\\theta) = log L_{n}(\\theta)\n",
    "\\end{equation}\n",
    "\n",
    "\n",
    "----\n",
    "\n",
    "\n",
    "The likelihood function $L_{n}(\\theta)$ is the joint  density of the data, assuming that the data is i.i.d. We treat it as a function\n",
    "of the parameter $\\theta$ i.e. [1]\n",
    "\n",
    "\\begin{equation}\n",
    "L_{n}(\\theta):\\Theta \\rightarrow [0, \\infty]\n",
    "\\end{equation}\n",
    "\n",
    "\n",
    "----\n",
    "**Remark**\n",
    "\n",
    "The function $L_{n}(\\theta)$ is not a density function. That is it is not true that integrates to 1 with respect to $\\theta$ [1].\n",
    "\n",
    "----"
   ]
  },
  {
   "cell_type": "markdown",
   "metadata": {},
   "source": [
    "The maximum likelihood estimator or MLE is the value of $\\theta$ that maximizes $L_{n}(\\theta)$. We \n",
    "will denote this value with $\\hat{\\theta}$. In addition, given that the maximum of the log-likelihood occurs\n",
    "at the same point as the maximum of $L_{n}(\\theta)$, we will often maximize $l_n(\\theta)$. Let's see some theoretical\n",
    "examples in order to solidify the process."
   ]
  },
  {
   "cell_type": "markdown",
   "metadata": {},
   "source": [
    "### Example 1\n",
    "\n",
    "This is a classical example often cited when discussing maximum likelihood estaimators.  Specifically, let the data\n",
    "follow the normal distribution with parameters $\\mu$ and $\\sigma^2$."
   ]
  },
  {
   "cell_type": "markdown",
   "metadata": {},
   "source": [
    "## Summary"
   ]
  },
  {
   "cell_type": "markdown",
   "metadata": {},
   "source": [
    "## References"
   ]
  },
  {
   "cell_type": "markdown",
   "metadata": {},
   "source": [
    "1. Larry Wasserman, _All of Statistics. A Concise Course in Statistical Inference_, Springer 2003."
   ]
  }
 ],
 "metadata": {
  "kernelspec": {
   "display_name": "Python 3 (ipykernel)",
   "language": "python",
   "name": "python3"
  },
  "language_info": {
   "codemirror_mode": {
    "name": "ipython",
    "version": 3
   },
   "file_extension": ".py",
   "mimetype": "text/x-python",
   "name": "python",
   "nbconvert_exporter": "python",
   "pygments_lexer": "ipython3",
   "version": "3.10.12"
  }
 },
 "nbformat": 4,
 "nbformat_minor": 4
}
