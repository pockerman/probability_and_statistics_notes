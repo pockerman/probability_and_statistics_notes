{
 "cells": [
  {
   "cell_type": "markdown",
   "metadata": {},
   "source": [
    "# Inference about variances"
   ]
  },
  {
   "cell_type": "markdown",
   "metadata": {},
   "source": [
    "## Overview"
   ]
  },
  {
   "cell_type": "markdown",
   "metadata": {},
   "source": [
    "In this section, we’ll derive confidence intervals and tests for the population variance σ 2 =\n",
    "2\n",
    "Var(X) and for the comparison of two variances σ X\n",
    "= Var(X) and σ Y 2 = Var(Y ). This will\n",
    "be a new type of inference for us because\n",
    "(a) variance is a scale and not a location parameter,\n",
    "(b) the distribution of its estimator, the sample variance, is not symmetric."
   ]
  },
  {
   "cell_type": "markdown",
   "metadata": {},
   "source": [
    "The population variance $\\sigma^2$ can be estimated from an observed sample. An unbiased and consistent estimator is "
   ]
  },
  {
   "cell_type": "markdown",
   "metadata": {},
   "source": [
    "$$s^2 = \\frac{1}{n-1}\\sum_{i}^{n}(x_i - \\bar{x})^2$$"
   ]
  },
  {
   "cell_type": "markdown",
   "metadata": {},
   "source": [
    "The summands X i − X̄ are not quite independent, as the Central Limit Theorem on p. 93\n",
    "requires, because they all depend on X̄. Nevertheless, the distribution of s 2 is approximately\n",
    "Normal, under mild conditions, when the sample is large."
   ]
  },
  {
   "cell_type": "markdown",
   "metadata": {},
   "source": [
    "For small to moderate samples, the distribution of s 2 is not Normal at all. It is not even\n",
    "symmetric. Indeed, why should it be symmetric if s 2 is always non-negative!"
   ]
  },
  {
   "cell_type": "markdown",
   "metadata": {},
   "source": [
    "----\n",
    "\n",
    "**Distribution of the sample variance**\n",
    "\n",
    "When the sample observations $x_i$ are independent and normal with variance $\\sigma^2$. The distribution of \n",
    "\n",
    "\n",
    "$$\\frac{(n-1)s^2}{\\sigma^2} = \\sum_{i=1}^{n}\\left(\\frac{x_i - \\bar{x}}{\\sigma}\\right)^2$$\n",
    "\n",
    "\n",
    "is $\\chi^2$ with (n-1) degrees of freedom [1].\n",
    "\n",
    "\n",
    "----"
   ]
  },
  {
   "cell_type": "markdown",
   "metadata": {},
   "source": [
    "### Confidence interval"
   ]
  },
  {
   "cell_type": "markdown",
   "metadata": {},
   "source": [
    "Let us construct a $(1 − \\alpha)100\\%$ confidence interval for the population variance $\\sigma^2$ , based on a sample of size $n$. As always, we start with the estimator, the sample variance s 2 . However, since the distri-\n",
    "bution of s 2 is no"
   ]
  },
  {
   "cell_type": "markdown",
   "metadata": {},
   "source": [
    "### Hypothesis testing"
   ]
  },
  {
   "cell_type": "markdown",
   "metadata": {},
   "source": [
    "Suppose now that we need to test the population variance, for example, to make sure that\n",
    "the actual variability, uncertainty, volatility, or risk does not exceed the promised value.\n",
    "We’ll derive a level $\\alpha$ test based on the $\\chi^2$ distribution of the rescaled sample\n",
    "variance."
   ]
  },
  {
   "cell_type": "markdown",
   "metadata": {},
   "source": [
    "Assume that we have a sample from the normal distribution with unknown variance $\\sigma^2$. We want to test"
   ]
  },
  {
   "cell_type": "markdown",
   "metadata": {},
   "source": [
    "$$H_0: \\sigma = \\sigma_{0}^{2}$$"
   ]
  },
  {
   "cell_type": "markdown",
   "metadata": {},
   "source": [
    "## References"
   ]
  },
  {
   "cell_type": "code",
   "execution_count": null,
   "metadata": {},
   "outputs": [],
   "source": []
  }
 ],
 "metadata": {
  "kernelspec": {
   "display_name": "Python 3",
   "language": "python",
   "name": "python3"
  },
  "language_info": {
   "codemirror_mode": {
    "name": "ipython",
    "version": 3
   },
   "file_extension": ".py",
   "mimetype": "text/x-python",
   "name": "python",
   "nbconvert_exporter": "python",
   "pygments_lexer": "ipython3",
   "version": "3.8.10"
  }
 },
 "nbformat": 4,
 "nbformat_minor": 4
}
