{
 "cells": [
  {
   "cell_type": "markdown",
   "metadata": {},
   "source": [
    "# Estimation of standard errors"
   ]
  },
  {
   "cell_type": "markdown",
   "metadata": {},
   "source": [
    "* [Overview](#overview) \n",
    "* [Estimation of standard errors](#sec1)\n",
    "* [Summary](#sum)\n",
    "* [References](#refs)"
   ]
  },
  {
   "cell_type": "markdown",
   "metadata": {},
   "source": [
    "## Overview"
   ]
  },
  {
   "cell_type": "markdown",
   "metadata": {},
   "source": [
    "We have seen two methods to estimate parameters; method of moments and maximum likelihood estimation. We now ask the question how good are these estimates? Standard errors\n",
    "can serve as measures of their accuracy. To estimate them, we derive an expression for the\n",
    "**standard error** and estimate all the unknown parameters in it."
   ]
  },
  {
   "cell_type": "markdown",
   "metadata": {},
   "source": [
    "## Estimation of standard errors"
   ]
  },
  {
   "cell_type": "markdown",
   "metadata": {},
   "source": [
    "Recall that maximum likelihood estimator for the Poisson parameter $\\lambda$ is given by the sample mean i.e."
   ]
  },
  {
   "cell_type": "markdown",
   "metadata": {},
   "source": [
    "$$\\hat{\\lambda} = \\bar{x}$$"
   ]
  },
  {
   "cell_type": "markdown",
   "metadata": {},
   "source": [
    "For the Poisson distribution $\\sigma = \\sqrt{\\lambda}$. So we can derive an estimation for that the standard error for $\\hat{\\lambda}$ as "
   ]
  },
  {
   "cell_type": "markdown",
   "metadata": {},
   "source": [
    "$$s_1 = \\sqrt{\\frac{\\bar{x}}{n}}$$"
   ]
  },
  {
   "cell_type": "markdown",
   "metadata": {},
   "source": [
    "Or we can use the sample divergence $s^2$ and derive the following standard error estimator for $\\hat{\\lambda}$"
   ]
  },
  {
   "cell_type": "markdown",
   "metadata": {},
   "source": [
    "$$s_2 = \\frac{s}{\\sqrt{n}}$$"
   ]
  },
  {
   "cell_type": "markdown",
   "metadata": {},
   "source": [
    "The standard error is a special type of standard deviation; it is a standard deviation of a sampling distribution. The specific name given to a standard error is determined by the nature of the investigation [1]."
   ]
  },
  {
   "cell_type": "markdown",
   "metadata": {},
   "source": [
    "In general, estimation of standard errors can become hard. In many cases an analytical formula for the standard deviation of the estimator may not exist. For example, try to derive standard errors of other statistics; sample median, sample variance, sample interquartile range, and so on. Each of these will require\n",
    "a substantial amount of work. In this case we can use boostrap. Indeed, bootstrap is used to estimate population parameters by Monte Carlo simulations when it is too difficult to do it analytically."
   ]
  },
  {
   "cell_type": "markdown",
   "metadata": {},
   "source": [
    "## Summary"
   ]
  },
  {
   "cell_type": "markdown",
   "metadata": {},
   "source": [
    "Estimation of parameters involves some error which we call it the standard error. In this section we went over a methodology to estimate this standard error.  In general, estimation of standard errors can become hard. In many cases an analytical formula for the standard deviation of the estimator may not exist. For example, try to derive standard errors of other statistics; sample median, sample variance, sample interquartile range, and so on. Each of these will require a substantial amount of work. In this case we can use boostrap. Indeed, bootstrap is used to estimate population parameters by Monte Carlo simulations when it is too difficult to do it analytically."
   ]
  },
  {
   "cell_type": "markdown",
   "metadata": {},
   "source": [
    "## References"
   ]
  },
  {
   "cell_type": "markdown",
   "metadata": {},
   "source": [
    "1. Larry Hatcher, _Advanced statistics in research. Reading, understanding and writing up data analysis results._ Shadow Finch Media LLC."
   ]
  }
 ],
 "metadata": {
  "kernelspec": {
   "display_name": "Python 3 (ipykernel)",
   "language": "python",
   "name": "python3"
  },
  "language_info": {
   "codemirror_mode": {
    "name": "ipython",
    "version": 3
   },
   "file_extension": ".py",
   "mimetype": "text/x-python",
   "name": "python",
   "nbconvert_exporter": "python",
   "pygments_lexer": "ipython3",
   "version": "3.10.6"
  }
 },
 "nbformat": 4,
 "nbformat_minor": 4
}
