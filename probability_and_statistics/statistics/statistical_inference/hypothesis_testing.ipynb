{
 "cells": [
  {
   "cell_type": "markdown",
   "metadata": {},
   "source": [
    "# Hypothesis Testing"
   ]
  },
  {
   "cell_type": "markdown",
   "metadata": {},
   "source": [
    "## <a name=\"overview\"></a> Overview"
   ]
  },
  {
   "cell_type": "markdown",
   "metadata": {},
   "source": [
    "This section introduces <a href=\"https://en.wikipedia.org/wiki/Statistical_hypothesis_testing\">statistical hypothesis testing</a>.\n",
    "Hypothesis testing is ubiquitous in statistical analysis. Their purpose is to help us understand whether a \n",
    "random chance might be responsible for an observed effect. In other words, it is a methodology that allows us \n",
    "to argue whether what we observe can be attributed to chance solely or not. In hypothesis testing, we start with a default theory,\n",
    "typically called the null hypothesis. We then ask if the collected data support the null hypothesis, $H_0$, or not. The null hypothesis represents the common belief. It serves the idea of nothing special occurs. In other words, is always an equality or absence of an effect or relation [2]. In order to reject the null hypothesis, we need significant evidence which is provided  by the data [2] . Only when such evidence is found, and when it strongly supports the alternative $H_a$ , can the hypothesis $H_0$ be rejected in favor of $H_a$."
   ]
  },
  {
   "cell_type": "markdown",
   "metadata": {},
   "source": [
    "There are several methodologies one could use to do hypothesis testing: "
   ]
  },
  {
   "cell_type": "markdown",
   "metadata": {},
   "source": [
    "- <a href=\"https://en.wikipedia.org/wiki/Null_hypothesis\">Fisher null hypothesis testing</a>\n",
    "- Neyman-Pearson decision theory\n",
    "- <a href=\"https://en.wikipedia.org/wiki/Bayesian_inference\">Bayesian inference</a> "
   ]
  },
  {
   "cell_type": "markdown",
   "metadata": {},
   "source": [
    "We will discuss a subset of all three that makes up most of what we use in practice. Statistical hypothesis testing and confidence interval estimation of parameters are the fundamental methods used at the data analysis stage of a comparative experiment."
   ]
  },
  {
   "cell_type": "markdown",
   "metadata": {},
   "source": [
    "## <a name=\"sec1\"></a> Hypothesis testing"
   ]
  },
  {
   "cell_type": "markdown",
   "metadata": {},
   "source": [
    "When discussing statistical hypothesis testing, there are a few terms involved that we will go over before proceeding into the testing theory itself. Namely, "
   ]
  },
  {
   "cell_type": "markdown",
   "metadata": {},
   "source": [
    "- Statistical significance\n",
    "- Statistic\n",
    "- Sampling distribution\n",
    "- Sampling error and standard error\n",
    "- Critical value and the region of rejection"
   ]
  },
  {
   "cell_type": "markdown",
   "metadata": {},
   "source": [
    "So let's first try to understand these before getting into the actual mechanics of the null hypothesis testing framework"
   ]
  },
  {
   "cell_type": "markdown",
   "metadata": {},
   "source": [
    "### Statistical significance"
   ]
  },
  {
   "cell_type": "markdown",
   "metadata": {},
   "source": [
    "Statistical significance is one of these concepts we need to get clear before moving on to hypothesis testing. So the term statistical significance should be translated into probability or likelihood [1]. In other words, when we read that the results are statistically significant, we are actually reading that "
   ]
  },
  {
   "cell_type": "markdown",
   "metadata": {},
   "source": [
    "_if $H_0$ were true it is unlikely we would have obtained sample results like these._ [1]"
   ]
  },
  {
   "cell_type": "markdown",
   "metadata": {},
   "source": [
    "### Sampling distribution"
   ]
  },
  {
   "cell_type": "markdown",
   "metadata": {},
   "source": [
    "Within the null hypothesis testing framework, the researcher computes a predetermined statistic. This statistic assumes some possible values that would have been obtained if an infinite number of samples of the same  size where drawn from the population(s) described by the null hypothesis. This set of possible values is called the **sampling distribution**"
   ]
  },
  {
   "cell_type": "markdown",
   "metadata": {},
   "source": [
    "### Critical value and the region of rejection"
   ]
  },
  {
   "cell_type": "markdown",
   "metadata": {},
   "source": [
    "The sampling distribution is divided into two regions [1]"
   ]
  },
  {
   "cell_type": "markdown",
   "metadata": {},
   "source": [
    "- The region of nonsignificance or acceptance region\n",
    "- The region of rejection or critical region"
   ]
  },
  {
   "cell_type": "markdown",
   "metadata": {},
   "source": [
    "The size of the two regions is determined by the level of significance $\\alpha$ which denotes the probability of making a Type I error; reject $H_0$ even though it is true:"
   ]
  },
  {
   "cell_type": "markdown",
   "metadata": {},
   "source": [
    "$$\\alpha = P(\\text{reject} ~~ H_0 | H_0 ~~ \\text{is true})$$"
   ]
  },
  {
   "cell_type": "markdown",
   "metadata": {},
   "source": [
    "Hence, $\\alpha$ represents the probability that if $H_0$ were true, then there is only an $\\alpha$ probability that we would have obtained a statistic this large or larger. Collectively, $\\alpha$ represents two things"
   ]
  },
  {
   "cell_type": "markdown",
   "metadata": {},
   "source": [
    "- The size of the rejection region\n",
    "- The probability of making a Type I error"
   ]
  },
  {
   "cell_type": "markdown",
   "metadata": {},
   "source": [
    "Hence, the region of non significance represents the $1-\\alpha$ portion of the sampling distribution. When $H_0$ is true, there is a $1-\\alpha$ probability that the statistic produced by a given research will fall in this section."
   ]
  },
  {
   "cell_type": "markdown",
   "metadata": {},
   "source": [
    "### Sampling error"
   ]
  },
  {
   "cell_type": "markdown",
   "metadata": {},
   "source": [
    "In statistics we estimate population parameters via samples drawn from the population. However, samples, typically, are not representative of the population. Therefore, a difference exists between the population parameter and its estimate obtained from the sample. Hence, we want to have an estimate of the sampling error. The **standard error** tells us how much variability appears in the sampling distribution."
   ]
  },
  {
   "cell_type": "markdown",
   "metadata": {},
   "source": [
    "## Hypothesis testing (details)"
   ]
  },
  {
   "cell_type": "markdown",
   "metadata": {},
   "source": [
    "Hypothesis testing is a framework for determining whether the current results are statistically significant [1]. Specifically, is a procedure to calculate the probability that we would have obtained a sample statistic as large as we did if the null hypothesis was correct."
   ]
  },
  {
   "cell_type": "markdown",
   "metadata": {},
   "source": [
    "Consider the case where we want to answer the question that the mean of a population $\\mu$ is greater than a certain value say $\\mu_0$. We only have at our disposal a sample from that population. We know that the sample mean $\\bar{x}$ is an unbiased estimator for $\\mu$. Thus, we could answer the question above based solely on $\\bar{x}$. However how certain are we about this answer? Similarly, we may be interested in a question about the population mean that involves equality. We can encode what we said above in words as follows: "
   ]
  },
  {
   "cell_type": "markdown",
   "metadata": {},
   "source": [
    "$$H_0: \\mu \\geq \\mu_0, \\text{vs}~ H_{\\alpha}: \\mu < \\mu_0$$"
   ]
  },
  {
   "cell_type": "markdown",
   "metadata": {},
   "source": [
    "and"
   ]
  },
  {
   "cell_type": "markdown",
   "metadata": {},
   "source": [
    "$$H_0: \\mu = \\mu_0, \\text{vs}~ H_{\\alpha}: \\mu \\neq \\mu_0$$"
   ]
  },
  {
   "cell_type": "markdown",
   "metadata": {},
   "source": [
    "In our setting, $H_0$ will be the system  state based on the assumption that the apparent effect is not real. On the other hand, $H_a$ is what we want to prove or establish. $H_0$ and $H_{a}$ are two mutually exclusive statements. A statistical hypothesis test results either in accepting $H_0$ or rejecting it in favor of $H_{a}$"
   ]
  },
  {
   "cell_type": "markdown",
   "metadata": {},
   "source": [
    "The two tests above illustrate the two broad categories of statistical hypothesis testing. Namely,"
   ]
  },
  {
   "cell_type": "markdown",
   "metadata": {},
   "source": [
    "- One-sided\n",
    "- Two-sided"
   ]
  },
  {
   "cell_type": "markdown",
   "metadata": {},
   "source": [
    "----\n",
    "\n",
    "**Remark**\n",
    "\n",
    "In general, one-sided tests are more powerful than two-sided tests provided that we correctly establish the direction of the results [1]. This is because, for the former, the critical region is concentrated in just one tail of the sampling distribution and the critical value of the statistic is somewhat lower [1].\n",
    "\n",
    "----"
   ]
  },
  {
   "cell_type": "markdown",
   "metadata": {},
   "source": [
    "Testing a hypothesis is an assessment of how reasonable the observed data is assuming a hypothesis is true. Within that framework, we obtain a statistic which indicates where the results from the current sample are located within the sampling distribution of the statistic [1]."
   ]
  },
  {
   "cell_type": "markdown",
   "metadata": {},
   "source": [
    "### Test procedure"
   ]
  },
  {
   "cell_type": "markdown",
   "metadata": {},
   "source": [
    "Let's assume that we want to test about the mean value of a population."
   ]
  },
  {
   "cell_type": "markdown",
   "metadata": {},
   "source": [
    "$$\\begin{eqnarray}\n",
    "H_0: \\mu = 50 \\\\\n",
    "H_a: \\mu \\neq 50\n",
    "\\end{eqnarray}\n",
    "$$"
   ]
  },
  {
   "cell_type": "markdown",
   "metadata": {},
   "source": [
    "Assume that we collect a sample of $n=10$ and calculate the sample mean $\\bar{x}$. We know that the sample mean is an estimate of the true population mean $\\mu$. A value of $\\bar{x}$ that falls close to the hypothesized value of $\\mu=50$ does not conflict $H_0$. On the other hand an $\\bar{x}$ that is considerably different than 50 is evidence in support of $H_a$. Hence, $\\bar{x}$ is the test statistic in this scenario."
   ]
  },
  {
   "cell_type": "markdown",
   "metadata": {},
   "source": [
    "#### Critical and acceptance regions"
   ]
  },
  {
   "cell_type": "markdown",
   "metadata": {},
   "source": [
    "The sample mean can take on many different values. Assume that if $47.9\\leq \\bar{x}\\leq51.2$ then we will not reject $H_0$. If either $\\bar{x}< 47.9$ or $\\bar{x}> 51.2$ we will reject the $H_0$. The values less than 47.9 and greater than 51.2 constitute the **critical region** for the test. As already mentioned above, all the values for which we fail to reject $H_0$ constitute the so-called **acceptance region**. The boundaries between the critical regions and the acceptance region are called the critical values. \n"
   ]
  },
  {
   "cell_type": "markdown",
   "metadata": {},
   "source": [
    "Below are the steps required to establish a two-sided test. Namely:"
   ]
  },
  {
   "cell_type": "markdown",
   "metadata": {},
   "source": [
    "- Define a null hypothesis, $H_0$ which is a model of the system based on the assumption that the apparent effect is not real. In other words, the null hypothesis is the logical construct embodying the notion that nothing special has happened and any effect you observe is due to random chance.\n",
    "- Define an alternative hypothesis, $H_a$. $H_a$ is what we want to prove or establish.\n",
    "- Choose a test statistic, $G$ that quantifies the size of the apparent effect. $G$ is a function of the sample.\n",
    "- Compute the so-called $p-$value, which is the probability of seeing the apparent effect if the null hypothesis is true. We can write this as:"
   ]
  },
  {
   "cell_type": "markdown",
   "metadata": {},
   "source": [
    "$$p-value = P(G|H_0~~\\text{were true})$$"
   ]
  },
  {
   "cell_type": "markdown",
   "metadata": {},
   "source": [
    "- Decide about the result. If the $p-$value is low, the effect is said to be statistically significant, which means that it is unlikely to have occurred by chance. In that case, we infer that the effect is more likely to appear in the larger population and therefore we reject $H_0$."
   ]
  },
  {
   "cell_type": "markdown",
   "metadata": {},
   "source": [
    "The logic of this process one could say is similar to a proof by contradiction; to prove a mathematical\n",
    "statement, $A$, you assume temporarily that $A$ is false. If that assumption leads to a contradiction, you conclude that $A$ must actually be true. Similarly, to test a hypothesis like, _This effect is real_, we assume, temporarily, that it is not i.e. that $H_0$ is true. Based on that assumption, we compute the probability\n",
    "of the apparent effect i.e the $p-$value. If the $p-$value is low, we conclude that the null hypothesis is unlikely to be true [1]."
   ]
  },
  {
   "cell_type": "markdown",
   "metadata": {},
   "source": [
    "### Factors affecting hypothesis testing"
   ]
  },
  {
   "cell_type": "markdown",
   "metadata": {},
   "source": [
    "We have established a framework in order to test statistical significance. However, there are a few things we need to remark. Let's start with the power of a test."
   ]
  },
  {
   "cell_type": "markdown",
   "metadata": {},
   "source": [
    "#### Test power"
   ]
  },
  {
   "cell_type": "markdown",
   "metadata": {},
   "source": [
    "The power of a test, $\\beta$ is the probability that we will reject $H_0$ when there is really an effect in the population \n",
    "i.e. we have significant results [1]:"
   ]
  },
  {
   "cell_type": "markdown",
   "metadata": {},
   "source": [
    "$$\\beta = P(\\text{reject}~~ H_0 | H_0 ~~ \\text{is false})$$"
   ]
  },
  {
   "cell_type": "markdown",
   "metadata": {},
   "source": [
    "The power is influenced by a number of factors [1]"
   ]
  },
  {
   "cell_type": "markdown",
   "metadata": {},
   "source": [
    "- Actual size of the effect in the population. One definition of the effect size may be the strength of the relationship between a predictor variable and a criterion variable.\n",
    "- The $\\alpha$ level\n",
    "- Sample size"
   ]
  },
  {
   "cell_type": "markdown",
   "metadata": {},
   "source": [
    "Although it is desirable to find the test with the highest power under $H_1$ among\n",
    "all tests, this is very hard and in many cases such tests do not even exist [4]."
   ]
  },
  {
   "cell_type": "markdown",
   "metadata": {},
   "source": [
    "## Summary"
   ]
  },
  {
   "cell_type": "markdown",
   "metadata": {},
   "source": [
    "This section went over the notion of the statistical hypothesis testing and in particular  the null hypothesis testing framework.\n",
    "Within the introduced framework a hypothesis is rejected or accepted based on the value of a computed test statistic $G$ and a predetermined critical value.\n",
    "The critical value forms the boundary between the rejection and acceptance regions. There are two categories of hypothesis testing; one-sided and \n",
    "two-sided. Typically, the former will be more accurate than the latter. "
   ]
  },
  {
   "cell_type": "markdown",
   "metadata": {},
   "source": [
    "One of the most confusing topics when discussing hypothesis testing is the so called $p-$value. This is not the probability that the null hypothesis\n",
    "is true. Instead it is the probability of the apparent effect. Given that the apparent effect is conveyed via the computed test statistic $G$, then the \n",
    "$p-$value is the probability of observing $G$ given that $H_0$ was true."
   ]
  },
  {
   "cell_type": "markdown",
   "metadata": {},
   "source": [
    "Finally, this section also introduce the power of a test $\\beta$. Although it is desirable to find the test with the highest power under $H_1$ among\n",
    "all tests, this is very hard and in many cases such tests do not even exist. This latter point implies that we should you hypothesis testing only when there\n",
    "is a well-defined hypothesis available."
   ]
  },
  {
   "cell_type": "markdown",
   "metadata": {},
   "source": [
    "In the next section, we continue our exploration of statistical hypothesis testing and discuss error rates. Specifically, we will review the following "
   ]
  },
  {
   "cell_type": "markdown",
   "metadata": {},
   "source": [
    "- Type I error rate\n",
    "- Type II error rate\n",
    "- Bonferonni adjustment\n",
    "- Comparison-wise Type I error rate\n",
    "- Familywise Type I error rate"
   ]
  },
  {
   "cell_type": "markdown",
   "metadata": {},
   "source": [
    "## <a name=\"refs\"></a> References"
   ]
  },
  {
   "cell_type": "markdown",
   "metadata": {},
   "source": [
    "1. Larry Hatcher, _Advanced statistics in research. Reading, understanding and writing up data analysis results._ Shadow Finch Media LLC.\n",
    "2. Michael Baron, _Probability and statistics for computer scientists_, 2nd Edition, CRC Press.\n",
    "3. <a href=\"https://www.ncbi.nlm.nih.gov/pmc/articles/PMC2996198/?report=printable\">Hypothesis testing, type I and type II errors</a>.\n",
    "4. Larry Wasserman, _All of Statistics. A Concise Course in Statistical Inference_, Springer 2003."
   ]
  }
 ],
 "metadata": {
  "kernelspec": {
   "display_name": "Python 3 (ipykernel)",
   "language": "python",
   "name": "python3"
  },
  "language_info": {
   "codemirror_mode": {
    "name": "ipython",
    "version": 3
   },
   "file_extension": ".py",
   "mimetype": "text/x-python",
   "name": "python",
   "nbconvert_exporter": "python",
   "pygments_lexer": "ipython3",
   "version": "3.10.6"
  }
 },
 "nbformat": 4,
 "nbformat_minor": 4
}
