{
 "cells": [
  {
   "cell_type": "markdown",
   "metadata": {},
   "source": [
    "# Statistical Inference"
   ]
  },
  {
   "cell_type": "markdown",
   "metadata": {},
   "source": [
    " <a href=\"https://en.wikipedia.org/wiki/Statistical_inference\">Statistical inference</a>, is the process of using data to infer the distribution of the generated data [3]. According to Wikipedia:\n"
   ]
  },
  {
   "cell_type": "markdown",
   "metadata": {},
   "source": [
    "_Statistical inference is the process of using data analysis to infer properties of an underlying distribution of probability. Inferential statistical analysis infers properties of a population, for example by testing hypotheses and deriving estimates. It is assumed that the observed data set is sampled from a larger population._"
   ]
  },
  {
   "cell_type": "markdown",
   "metadata": {},
   "source": [
    " Thus, statistical inference is the process by which we link measured data to probabilistic conclusions about what we might expect for the population of interest if we collected from it  data over and over again. Therefore, statistical inference methods allow us to draw more general conclusions from relatively few measurements or observations."
   ]
  },
  {
   "cell_type": "markdown",
   "metadata": {},
   "source": [
    "A typical statistical inference question is the following:"
   ]
  },
  {
   "cell_type": "markdown",
   "metadata": {},
   "source": [
    "_Given a sample $X_1, \\dots X_n \\sim F$ how do we infer $F$?_"
   ]
  },
  {
   "cell_type": "markdown",
   "metadata": {},
   "source": [
    "Many inferential problems can be identified as being one of the three [3]:"
   ]
  },
  {
   "cell_type": "markdown",
   "metadata": {},
   "source": [
    "- Estimation\n",
    "- Confidence intervals\n",
    "- Hypothesis testing"
   ]
  },
  {
   "cell_type": "markdown",
   "metadata": {},
   "source": [
    "In particular, in this chapter of the notes we examine the following topics"
   ]
  },
  {
   "cell_type": "markdown",
   "metadata": {},
   "source": [
    "- Point estimators and their properties\n",
    "- <a href=\"https://en.wikipedia.org/wiki/Statistical_hypothesis_testing\">Statistical hypothesis testing</a> also known as significance testing\n",
    "- <a href=\"https://en.wikipedia.org/wiki/Confidence_interval\">Confidence intervals</a>\n",
    "- <a href=\"https://en.wikipedia.org/wiki/Effect_size\">Index of effect size</a>\n",
    "- Non parametric inference"
   ]
  },
  {
   "cell_type": "markdown",
   "metadata": {},
   "source": [
    "We have already seen point estimates, for example, the sample mean $\\bar{x}$ is a point estimate of the population mean $\\mu$ or the sample variance $s^2$ is a point estimate of the population variance $\\sigma^2$. In this chapter, we try to formalize things and present a set of desired properties  that these estimators should satisfy. "
   ]
  },
  {
   "cell_type": "markdown",
   "metadata": {},
   "source": [
    "Furthermore, we discuss the topics of statistical hypothesis testing, confidence intervals, and indexes of effect size. Each of these items communicates  a different perspective regarding the findings of an investigation [1]. More specifically,"
   ]
  },
  {
   "cell_type": "markdown",
   "metadata": {},
   "source": [
    "- Hypothesis testing communicate **probability**; i.e. it tells us how likely the results we obtained under the current investigation are if the null hypothesis were true\n",
    "- Confidence intervals express **precision**. A confidence interval expresses a range of plausible values  for the population parameter we want to estimate.\n",
    "- The index of effect size expresses **strength**; it tells us how strong the relationship is between a predictor and dependent variables."
   ]
  },
  {
   "cell_type": "markdown",
   "metadata": {},
   "source": [
    "There are two primary schools of thought when discussing inference"
   ]
  },
  {
   "cell_type": "markdown",
   "metadata": {},
   "source": [
    "- Frequentist inference\n",
    "- Bayesian inference"
   ]
  },
  {
   "cell_type": "markdown",
   "metadata": {},
   "source": [
    "## References"
   ]
  },
  {
   "cell_type": "markdown",
   "metadata": {},
   "source": [
    "1. <a href=\"https://en.wikipedia.org/wiki/Statistical_inference\">Statistical inference</a>.\n",
    "2. Larry Hatcher, _Advanced statistics in research. Reading, understanding and writing up data analysis results._ Shadow Finch Media LLC.\n",
    "3. Larry Wasserman, _All of Statistics. A Concise Course in Statistical Inference_, Springer 2003."
   ]
  }
 ],
 "metadata": {
  "kernelspec": {
   "display_name": "Python 3 (ipykernel)",
   "language": "python",
   "name": "python3"
  },
  "language_info": {
   "codemirror_mode": {
    "name": "ipython",
    "version": 3
   },
   "file_extension": ".py",
   "mimetype": "text/x-python",
   "name": "python",
   "nbconvert_exporter": "python",
   "pygments_lexer": "ipython3",
   "version": "3.10.6"
  }
 },
 "nbformat": 4,
 "nbformat_minor": 4
}
