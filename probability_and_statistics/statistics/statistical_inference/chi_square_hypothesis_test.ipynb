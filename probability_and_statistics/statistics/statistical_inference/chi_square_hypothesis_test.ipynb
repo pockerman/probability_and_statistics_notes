{
 "cells": [
  {
   "cell_type": "markdown",
   "metadata": {},
   "source": [
    "# $\\chi^2$ hypothesis test"
   ]
  },
  {
   "cell_type": "markdown",
   "metadata": {},
   "source": [
    "## Overview"
   ]
  },
  {
   "cell_type": "markdown",
   "metadata": {},
   "source": [
    "In this section we introduce the <a href=\"https://en.wikipedia.org/wiki/Chi-squared_test\">$\\chi^2$ hypothesis test</a>. The are various applications of this test such as [2]\n",
    "\n",
    "- Testing whether the data belong to a particular distribution\n",
    "- Testing a family of distributions\n",
    "- Testing independence of two factors"
   ]
  },
  {
   "cell_type": "markdown",
   "metadata": {},
   "source": [
    "The $\\chi^2$ test is based on observed and expected counts of categories. \n",
    "Therefore, it will  always be a one-sided, right-tail test. This is because only the low values of $\\chi^2$ show that the observed counts are close to what we expect them to be under the null hypotheses.\n",
    "On the contrary, large $\\chi^2$ occurs when the observed counts are far from the expected counts [2]."
   ]
  },
  {
   "cell_type": "markdown",
   "metadata": {},
   "source": [
    "## The $\\chi^2$ hypothesis test"
   ]
  },
  {
   "cell_type": "markdown",
   "metadata": {},
   "source": [
    "The $\\chi^2$ test is based on the following statistic "
   ]
  },
  {
   "cell_type": "markdown",
   "metadata": {},
   "source": [
    "$$\\chi^2 = \\sum_{i=1}^N \\frac{Obs\\left(i\\right)-E\\left[i\\right]}{E\\left[i\\right]}$$"
   ]
  },
  {
   "cell_type": "markdown",
   "metadata": {},
   "source": [
    "where $N$ is the number of categories (not the sample size), $Obs(i)$ is the observed number of sampling units in category $i$ and $E\\left[i\\right]$ is the expected number of sampling units in category $i$ if $H_0$ is true i.e."
   ]
  },
  {
   "cell_type": "markdown",
   "metadata": {},
   "source": [
    "$$E\\left[i\\right] = E\\left[Obs(i) | H_0\\right]$$"
   ]
  },
  {
   "cell_type": "markdown",
   "metadata": {},
   "source": [
    "Because only the low values of $\\chi^2$ show that the observed counts are close to what we expect them to be under the null hypotheses, the $\\chi^2$ test is always a one-sided, right tail test. \n",
    "On the contrary, large $\\chi^2$ occurs when $Obs$ are far from\n",
    "$Exp$, which shows inconsistency of the data and the null hypothesis and does not support $H_0$ ."
   ]
  },
  {
   "cell_type": "markdown",
   "metadata": {},
   "source": [
    "A level $\\alpha$ rejection region is given by [2]"
   ]
  },
  {
   "cell_type": "markdown",
   "metadata": {},
   "source": [
    "$$R = [\\chi_{\\alpha}^2, +\\infty)$$"
   ]
  },
  {
   "cell_type": "markdown",
   "metadata": {},
   "source": [
    "the $p-$value is always calculated as the following probability"
   ]
  },
  {
   "cell_type": "markdown",
   "metadata": {},
   "source": [
    "$$p = P(\\chi^2 \\geq \\chi_{obs}^2)$$"
   ]
  },
  {
   "cell_type": "markdown",
   "metadata": {},
   "source": [
    "## Example"
   ]
  },
  {
   "cell_type": "markdown",
   "metadata": {},
   "source": [
    "Let's use Python to perform a $\\chi^2$ test. The example below is taken for the official <a href=\"https://docs.scipy.org/doc/scipy/reference/generated/scipy.stats.chisquare.html\">scipy.stats</a>."
   ]
  },
  {
   "cell_type": "code",
   "execution_count": 1,
   "metadata": {},
   "outputs": [],
   "source": [
    "from scipy.stats import chisquare"
   ]
  },
  {
   "cell_type": "code",
   "execution_count": 2,
   "metadata": {},
   "outputs": [
    {
     "data": {
      "text/plain": [
       "Power_divergenceResult(statistic=3.5, pvalue=0.6233876277495822)"
      ]
     },
     "execution_count": 2,
     "metadata": {},
     "output_type": "execute_result"
    }
   ],
   "source": [
    "# observed frequencies in each category\n",
    "f_obs=[16, 18, 16, 14, 12, 12]\n",
    "\n",
    "# expected frequencies in each category\n",
    "f_exp=[16, 16, 16, 16, 16, 8]\n",
    "\n",
    "chisquare(f_obs, f_exp)"
   ]
  },
  {
   "cell_type": "markdown",
   "metadata": {},
   "source": [
    "The p-value is the probability that"
   ]
  },
  {
   "cell_type": "markdown",
   "metadata": {},
   "source": [
    "$$p = P(\\chi^2 \\geq 3.5) = 0.623$$"
   ]
  },
  {
   "cell_type": "markdown",
   "metadata": {},
   "source": [
    "## Summary"
   ]
  },
  {
   "cell_type": "markdown",
   "metadata": {},
   "source": [
    "In this section we introduced the $\\chi^2$ hypothesis test. This is a one-sided  right-tail test. The test statistic is "
   ]
  },
  {
   "cell_type": "markdown",
   "metadata": {},
   "source": [
    "$$\\chi^2 = \\sum_{i=1}^N \\frac{Obs\\left(i\\right)-E\\left[i\\right]}{E\\left[i\\right]}$$"
   ]
  },
  {
   "cell_type": "markdown",
   "metadata": {},
   "source": [
    "Chi-square tests is a technique that is based on counts; we compare the counts expected under $H_0$ with the observed through the chi-square statistic.\n",
    "This way we are able to test for the goodness of fit and for the independence of two factors. Furthermore, contingency tables can \n",
    "be used for the detection of significant relations between categorical variables [2]."
   ]
  },
  {
   "cell_type": "markdown",
   "metadata": {},
   "source": [
    "In the next section we will review some of the applications of the $\\chi^2$ test."
   ]
  },
  {
   "cell_type": "markdown",
   "metadata": {},
   "source": [
    "## References"
   ]
  },
  {
   "cell_type": "markdown",
   "metadata": {},
   "source": [
    "1. <a href=\"https://en.wikipedia.org/wiki/Chi-squared_test\">Chi-squared test</a>\n",
    "2. Michael Baron, _Probability and statistics for computer scientists_, 2nd Edition, CRC Press"
   ]
  }
 ],
 "metadata": {
  "kernelspec": {
   "display_name": "Python 3 (ipykernel)",
   "language": "python",
   "name": "python3"
  },
  "language_info": {
   "codemirror_mode": {
    "name": "ipython",
    "version": 3
   },
   "file_extension": ".py",
   "mimetype": "text/x-python",
   "name": "python",
   "nbconvert_exporter": "python",
   "pygments_lexer": "ipython3",
   "version": "3.10.6"
  }
 },
 "nbformat": 4,
 "nbformat_minor": 4
}
