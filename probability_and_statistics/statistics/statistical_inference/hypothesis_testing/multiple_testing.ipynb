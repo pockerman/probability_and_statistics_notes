{
 "cells": [
  {
   "cell_type": "markdown",
   "id": "05810fab-252b-45fe-b990-44ad1da2e7aa",
   "metadata": {},
   "source": [
    "# Multiple Testing"
   ]
  },
  {
   "cell_type": "markdown",
   "id": "eb3bc2f6-b92f-4b35-b9bc-c0c5cc62dff1",
   "metadata": {},
   "source": [
    "## Overview"
   ]
  },
  {
   "cell_type": "markdown",
   "id": "db6b3587-a153-4837-95fd-bb5e3e16c87e",
   "metadata": {},
   "source": [
    "The previous sections concentrated on testing just one hypothesis. This need not be the case however. In this section,\n",
    "we will look at how to work when more than one hypothesis has to be tested. Recall, that for a single hypothesis testing, the\n",
    "chance of falsely rejecting the null hypothesis is $\\alpha$. But when dealing with multiple hypothesis the chance of a\n",
    "at least one false rejection is much higher. This is the multiple testing problem [1].\n",
    "\n",
    "We will see two such methods. Namely\n",
    "\n",
    "- The <a href=\"https://en.wikipedia.org/wiki/Bonferroni_correction\">Bonferroni method</a>\n",
    "- The <a href=\"https://en.wikipedia.org/wiki/False_discovery_rate\">Benjamini-Hochberg method</a> or False Discovery Rate (FDR) method."
   ]
  },
  {
   "cell_type": "markdown",
   "id": "1e2bb747-b531-41ca-8836-885848688943",
   "metadata": {},
   "source": [
    "## Multiple testing"
   ]
  },
  {
   "cell_type": "markdown",
   "id": "86414cee-fa93-4fd4-b747-650751f835ed",
   "metadata": {},
   "source": [
    "In this section,\n",
    "we will look at how to work when more than one hypothesis has to be tested. Recall, that for a single hypothesis testing, the\n",
    "chance of falsely rejecting the null hypothesis is $\\alpha$. But when dealing with multiple hypothesis the chance of a\n",
    "at least one false rejection is much higher. This is the multiple testing problem [1]. \n",
    "We call the probability of making at least one type I error out of all of the comparison tests performed on the same data set \n",
    "as the <a href=\"https://en.wikipedia.org/wiki/Family-wise_error_rate\">familywise type I error rate</a> and we denote this as $\\alpha_{FW}$ [3].\n",
    "Specifically, when the individual significance tests are independent of one another and the same level of alpha is used for each comparison, $\\alpha_{FW}$ can be estimated as [3]: \n",
    "\n",
    "\\begin{equation}\n",
    "\\alpha_{FW} = 1 -(1-a)^k\n",
    "\\end{equation}\n",
    "\n",
    "where $k$ is the total number of comparisons to be made."
   ]
  },
  {
   "cell_type": "markdown",
   "id": "ca69db39-fbb7-4cdd-8f10-339f6247a809",
   "metadata": {},
   "source": [
    "### Bonferonni adjustment"
   ]
  },
  {
   "cell_type": "markdown",
   "id": "df6cbaa0-4e5a-454b-873e-0ea64e61e65d",
   "metadata": {},
   "source": [
    "With the Bonferonni adjustment the researcher divides the desired familywise error rate by the number comparisons to be made. \n",
    "The result is the **adjusted alpha level** $\\alpha_{ADJ}$ [3] i.e.\n",
    "\n",
    "\\begin{equation}\n",
    "\\alpha_{ADJ} = \\frac{\\alpha_{FW}}{k}\n",
    "\\end{equation}\n",
    "\n",
    "or \n",
    "\n",
    "\\begin{equation}\n",
    "\\alpha_{ADJ} = \\frac{\\alpha}{k}\n",
    "\\end{equation}\n",
    "\n",
    "For the latter case, we have the following theorem from [1]\n",
    "\n",
    "\n",
    "----\n",
    "**Theorem**\n",
    "\n",
    "Using the Bonferroni method, the probability of falsely rejecting any $H_0$ in the family is less than or equal to $\\alpha$\n",
    "\n",
    "----\n",
    "\n",
    "In this case, given $p-$values for every of the $k$ tests, we reject the null hypothesis associated with test $i$ if \n",
    "\n",
    "\n",
    "\\begin{equation}\n",
    "p_i-value <  \\frac{\\alpha}{k}\n",
    "\\end{equation}"
   ]
  },
  {
   "cell_type": "markdown",
   "id": "9fc8ca4e-87ff-42b2-884c-284287ee8029",
   "metadata": {},
   "source": [
    "Therefore, when using the Bonferroni method, the researcher views a given comparison as being statistically significant only if the obtained $p$ value is less than $\\alpha_{ADJ}$ [3]."
   ]
  },
  {
   "cell_type": "markdown",
   "id": "48c214cd-b0f4-4623-bb73-15cebf231b8b",
   "metadata": {},
   "source": [
    "### FDR"
   ]
  },
  {
   "cell_type": "markdown",
   "id": "bab917ef-c145-4a8d-91a9-91275779e1ac",
   "metadata": {},
   "source": [
    "The Bonferroni method is conservative in the sense that it is trying to make it difficult (i.e. unlikely) \n",
    "that we would even make one false rejection [1]. In practice is more reasonable to use the false discovery rate (FDR) and in particular\n",
    "the rate of type I errors. The FDR is defined as the mean of the number of false rejections divided by the total number or rejections [1].\n",
    "The total number of rejections of the null include both the number of false positives (FP) and true positives (TP). Thus\n",
    "\n",
    "\\begin{equation}\n",
    "FDR = \\frac{FP}{FP + TP}\n",
    "\\end{equation}\n",
    "\n",
    "FDR-controlling procedures provide less stringent control of Type I errors compared to family-wise error rate (FWER) controlling procedures (such as the Bonferroni correction), which control the probability of at least one Type I error. Thus, FDR-controlling procedures have greater power, at the cost of increased numbers of Type I errors.[5]"
   ]
  },
  {
   "cell_type": "markdown",
   "id": "d2c6f089-6097-42ad-a815-f7b8c12ea6c0",
   "metadata": {},
   "source": [
    "The FDR method works as follows see also [1]\n",
    "\n",
    "1. Collect the ordered $p-$values $P_1 < \\dots < P_m$\n",
    "2. Define the FDR rejection ratio $T$\n",
    "3. Compuet $l_i$ and $R$\n",
    "\n",
    "\\begin{equation}\n",
    "l_i = \\frac{i\\alpha}{C_m m}, ~~ \\text{and} ~~ R=max \\{i: P_i < l_i\\}\n",
    "\\end{equation}\n",
    "\n",
    "4. Reject all null hypothesis $H_{0i}$ for which $P_i < T$\n"
   ]
  },
  {
   "cell_type": "markdown",
   "id": "6c09e63e-0b1b-4d91-a357-b29af6d1c7bf",
   "metadata": {},
   "source": [
    "In the formula above $C_m$ is defined to be 1 if the $p-$values are independent. Otherwise is given by [1]\n",
    "\n",
    "\\begin{equation}\n",
    "C_m = \\sum_{i=1}^{m} \\frac{1}{i}\n",
    "\\end{equation}\n",
    "\n",
    "We have the following theorem [1]\n",
    "\n",
    "----\n",
    "**Theorem**\n",
    "\n",
    "Regardless of how many nulls hypotheses are true and regardless of the distribution of the $p-$values when the null hypothesis is false, the \n",
    "following is true\n",
    "\n",
    "\\begin{equation}\n",
    "FDR \\leq \\frac{m_0}{m} < \\alpha\n",
    "\\end{equation}\n",
    "\n",
    "where $m_0$ is the number of the null hypotheses that are true.\n",
    "\n",
    "----"
   ]
  },
  {
   "cell_type": "markdown",
   "id": "9362cfe1-e13d-4b79-8e1a-9c75c5e5bddb",
   "metadata": {},
   "source": [
    "## Summary"
   ]
  },
  {
   "cell_type": "markdown",
   "id": "b77a0277-669e-47c0-8163-72fd7b1c0d0f",
   "metadata": {},
   "source": [
    "In this section we discussed two approaches to use when dealing with a number of hypotheses testing simultaneously. Specifically,\n",
    "we reviewd the Bonferroni method and the Benjamini-Hochberg method also known as FDR method. The Bonferonni method is simpler but\n",
    "it is also a lot more conservative. The FDR method is somehow more involed but more reasonable to use. "
   ]
  },
  {
   "cell_type": "markdown",
   "id": "dcd5dc01-1cca-44dd-af90-a38cf54ae2c0",
   "metadata": {},
   "source": [
    "## References"
   ]
  },
  {
   "cell_type": "markdown",
   "id": "ecaae786-463a-4fba-a2b2-3e9ac5aa26c7",
   "metadata": {},
   "source": [
    "1. Larry Wasserman, _All of Statistics. A Concise Course in Statistical Inference_, Springer 2003.\n",
    "2. <a href=\"https://en.wikipedia.org/wiki/Family-wise_error_rate\">Familywise Type I error rate</a>.\n",
    "3. Larry Hatcher, _Advanced statistics in research. Reading, understanding and writing up data analysis results._ Shadow Finch Media LLC.\n",
    "4. <a href=\"https://en.wikipedia.org/wiki/Bonferroni_correction\">Bonferroni method</a>\n",
    "5. <a href=\"https://en.wikipedia.org/wiki/False_discovery_rate\">Benjamini-Hochberg method</a>"
   ]
  }
 ],
 "metadata": {
  "kernelspec": {
   "display_name": "Python 3 (ipykernel)",
   "language": "python",
   "name": "python3"
  },
  "language_info": {
   "codemirror_mode": {
    "name": "ipython",
    "version": 3
   },
   "file_extension": ".py",
   "mimetype": "text/x-python",
   "name": "python",
   "nbconvert_exporter": "python",
   "pygments_lexer": "ipython3",
   "version": "3.10.12"
  }
 },
 "nbformat": 4,
 "nbformat_minor": 5
}
