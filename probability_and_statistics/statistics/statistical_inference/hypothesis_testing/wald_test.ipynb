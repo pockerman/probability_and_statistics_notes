{
 "cells": [
  {
   "cell_type": "markdown",
   "id": "9c4dd5b0-24d7-438e-b155-45f6894e9b4d",
   "metadata": {},
   "source": [
    "# The Wald Test"
   ]
  },
  {
   "cell_type": "markdown",
   "id": "ec657d9e-bd4b-4302-a94a-5c1624866513",
   "metadata": {},
   "source": [
    "## Overview"
   ]
  },
  {
   "cell_type": "markdown",
   "id": "0f0a39f4-36c6-4b5e-a540-a67250f4eda4",
   "metadata": {},
   "source": [
    "In this section we will be looking at the <a href=\"https://en.wikipedia.org/wiki/Wald_test\">Wald test</a>."
   ]
  },
  {
   "cell_type": "markdown",
   "id": "af267300-267c-4381-9c1d-c1774218eac6",
   "metadata": {},
   "source": [
    "## The Wald test\n"
   ]
  },
  {
   "cell_type": "markdown",
   "id": "82d0e14f-fd3f-4319-b57b-b57fd7d5dda1",
   "metadata": {},
   "source": [
    "## Summary"
   ]
  },
  {
   "cell_type": "markdown",
   "id": "4f0e9f45-a281-4fc7-8e68-2203077d6f09",
   "metadata": {},
   "source": [
    "## References"
   ]
  },
  {
   "cell_type": "code",
   "execution_count": null,
   "id": "95228168-2411-47a7-9bb6-954f636463ef",
   "metadata": {},
   "outputs": [],
   "source": []
  }
 ],
 "metadata": {
  "kernelspec": {
   "display_name": "Python 3 (ipykernel)",
   "language": "python",
   "name": "python3"
  },
  "language_info": {
   "codemirror_mode": {
    "name": "ipython",
    "version": 3
   },
   "file_extension": ".py",
   "mimetype": "text/x-python",
   "name": "python",
   "nbconvert_exporter": "python",
   "pygments_lexer": "ipython3",
   "version": "3.10.12"
  }
 },
 "nbformat": 4,
 "nbformat_minor": 5
}
