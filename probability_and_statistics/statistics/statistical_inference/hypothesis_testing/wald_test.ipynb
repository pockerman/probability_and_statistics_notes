{
 "cells": [
  {
   "cell_type": "markdown",
   "id": "9c4dd5b0-24d7-438e-b155-45f6894e9b4d",
   "metadata": {},
   "source": [
    "# The Wald Test"
   ]
  },
  {
   "cell_type": "markdown",
   "id": "ec657d9e-bd4b-4302-a94a-5c1624866513",
   "metadata": {},
   "source": [
    "## Overview"
   ]
  },
  {
   "cell_type": "markdown",
   "id": "0f0a39f4-36c6-4b5e-a540-a67250f4eda4",
   "metadata": {},
   "source": [
    "In this section we will be looking at the <a href=\"https://en.wikipedia.org/wiki/Wald_test\">Wald test</a>."
   ]
  },
  {
   "cell_type": "markdown",
   "id": "af267300-267c-4381-9c1d-c1774218eac6",
   "metadata": {},
   "source": [
    "## The Wald test\n"
   ]
  },
  {
   "cell_type": "markdown",
   "id": "486a1f77-b19b-4883-a800-6b52b142d715",
   "metadata": {},
   "source": [
    "The Wald test considers testing hypothesis of the form\n",
    "\n",
    "\n",
    "\\begin{equation}\n",
    "H_0: \\theta = \\theta_0, \\text{vs}~ H_{\\alpha}: \\theta \\neq \\theta_0\n",
    "\\end{equation}\n",
    "\n",
    "Lete's consider $\\theta$ to be a scalar parameter and as usual let $\\hat{\\theta}$ denoting an estimate of it. Let $\\hat{se}$ be an estimate \n",
    "of the standard error. W have the followinf definition [1]\n",
    "\n",
    "\n",
    "\n",
    "----\n",
    "\n",
    "**Definition: The Wald test**\n",
    "\n",
    "Consider testing the following hypothesis\n",
    "\n",
    "\\begin{equation}\n",
    "H_0: \\theta = \\theta_0, \\text{vs}~ H_{\\alpha}: \\theta \\neq \\theta_0\n",
    "\\end{equation}\n",
    "\n",
    "\n",
    "Let $\\hat{\\theta}$ be asymptotically normal. Then the Wald test of size $\\alpha$ is using the following statistic\n",
    "\n",
    "\n",
    "\\begin{equation}\n",
    "W = \\frac{\\hat{\\theta} - \\theta_0}{\\hat{se}}\n",
    "\\end{equation}\n",
    "\n",
    "and rejects the $H_0$ when $|W| > z_{\\alpha/2}$\n",
    "\n",
    "----"
   ]
  },
  {
   "cell_type": "markdown",
   "id": "b5c40443-8a10-4b4a-8394-41449a4ccd59",
   "metadata": {},
   "source": [
    "The following theorem, see [1], confirms that the Wald test has size $\\alpha$ asymptotically.\n",
    "\n",
    "\n",
    "----\n",
    "**Theorem 1**\n",
    "\n",
    "As $n \\rightarrow \\infty$ then \n",
    "\n",
    "\\begin{equation}\n",
    "P_{\\theta_0}(|W| > z_{\\alpha/2}) \\rightarrow \\alpha\n",
    "\\end{equation}\n",
    "\n",
    "----\n",
    "\n",
    "See the excellent book in [1] for a proof of the theorem."
   ]
  },
  {
   "cell_type": "markdown",
   "id": "b1c0ce22-4deb-4a49-86d9-e4e447500853",
   "metadata": {},
   "source": [
    "The definition above involves $\\hat{se}$ alternatively we could use $se_0$ i.e. the standard error computed at $\\theta=\\theta_0$ [1].\n",
    "The following theorem connects testing the hypothesis as stated in the definition above with confidence intervals [1].\n",
    "\n",
    "\n",
    "----\n",
    "**Theorem 2**\n",
    "\n",
    "A size $\\alpha$ Wald test rejects the hypothesis\n",
    "\n",
    "\n",
    "\\begin{equation}\n",
    "H_0: \\theta = \\theta_0, \\text{vs}~ H_{\\alpha}: \\theta \\neq \\theta_0\n",
    "\\end{equation}\n",
    "\n",
    "if and only if $\\theta_0 \\notin C$ where $C$ is a confidence interval given by\n",
    "\n",
    "\n",
    "\\begin{equation}\n",
    "C=\\hat{\\theta}\\pm \\hat{se}z_{\\alpha/2}\n",
    "\\end{equation}\n",
    "\n",
    "\n",
    "Therefore, testing the hypothesis is equivalent to checking whether the null value is in the confidence interval [1].\n",
    "\n",
    "----"
   ]
  },
  {
   "cell_type": "markdown",
   "id": "82d0e14f-fd3f-4319-b57b-b57fd7d5dda1",
   "metadata": {},
   "source": [
    "## Summary"
   ]
  },
  {
   "cell_type": "markdown",
   "id": "4f0e9f45-a281-4fc7-8e68-2203077d6f09",
   "metadata": {},
   "source": [
    "## References"
   ]
  },
  {
   "cell_type": "markdown",
   "id": "8f9f0006-884e-4bdf-9b91-da415ed1fcf3",
   "metadata": {},
   "source": [
    "1. Larry Wasserman, _All of Statistics. A Concise Course in Statistical Inference_, Springer 2003."
   ]
  }
 ],
 "metadata": {
  "kernelspec": {
   "display_name": "Python 3 (ipykernel)",
   "language": "python",
   "name": "python3"
  },
  "language_info": {
   "codemirror_mode": {
    "name": "ipython",
    "version": 3
   },
   "file_extension": ".py",
   "mimetype": "text/x-python",
   "name": "python",
   "nbconvert_exporter": "python",
   "pygments_lexer": "ipython3",
   "version": "3.10.12"
  }
 },
 "nbformat": 4,
 "nbformat_minor": 5
}
