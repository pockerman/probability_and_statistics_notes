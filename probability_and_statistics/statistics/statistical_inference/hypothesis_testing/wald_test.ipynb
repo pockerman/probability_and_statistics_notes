{
 "cells": [
  {
   "cell_type": "markdown",
   "id": "9c4dd5b0-24d7-438e-b155-45f6894e9b4d",
   "metadata": {},
   "source": [
    "# The Wald Test"
   ]
  },
  {
   "cell_type": "markdown",
   "id": "ec657d9e-bd4b-4302-a94a-5c1624866513",
   "metadata": {},
   "source": [
    "## Overview"
   ]
  },
  {
   "cell_type": "markdown",
   "id": "0f0a39f4-36c6-4b5e-a540-a67250f4eda4",
   "metadata": {},
   "source": [
    "In this section we will be looking at the <a href=\"https://en.wikipedia.org/wiki/Wald_test\">Wald test</a>. This test deals with two\n",
    "sideded tests i.e.  \n",
    "\n",
    "\\begin{equation}\n",
    "H_0: \\theta = \\theta_0, \\text{vs}~ H_{\\alpha}: \\theta \\neq \\theta_0\n",
    "\\end{equation}\n"
   ]
  },
  {
   "cell_type": "markdown",
   "id": "af267300-267c-4381-9c1d-c1774218eac6",
   "metadata": {},
   "source": [
    "## The Wald test\n"
   ]
  },
  {
   "cell_type": "markdown",
   "id": "486a1f77-b19b-4883-a800-6b52b142d715",
   "metadata": {},
   "source": [
    "The Wald test considers testing hypothesis of the form\n",
    "\n",
    "\n",
    "\\begin{equation}\n",
    "H_0: \\theta = \\theta_0, \\text{vs}~ H_{\\alpha}: \\theta \\neq \\theta_0\n",
    "\\end{equation}\n",
    "\n",
    "Let's consider $\\theta$ to be a scalar parameter and as usual let $\\hat{\\theta}$ denoting an estimate of it. Let $\\hat{se}$ be an estimate \n",
    "of the standard error. We have the followinf definition [1]\n",
    "\n",
    "\n",
    "----\n",
    "\n",
    "**Definition: The Wald test**\n",
    "\n",
    "Consider testing the following hypothesis\n",
    "\n",
    "\\begin{equation}\n",
    "H_0: \\theta = \\theta_0, \\text{vs}~ H_{\\alpha}: \\theta \\neq \\theta_0\n",
    "\\end{equation}\n",
    "\n",
    "\n",
    "Let $\\hat{\\theta}$ be asymptotically normal. Then the Wald test of size $\\alpha$ is using the following statistic\n",
    "\n",
    "\n",
    "\\begin{equation}\n",
    "W = \\frac{\\hat{\\theta} - \\theta_0}{\\hat{se}}\n",
    "\\end{equation}\n",
    "\n",
    "and rejects the $H_0$ when $|W| > z_{\\alpha/2}$\n",
    "\n",
    "----"
   ]
  },
  {
   "cell_type": "markdown",
   "id": "b5c40443-8a10-4b4a-8394-41449a4ccd59",
   "metadata": {},
   "source": [
    "The following theorem, see [1], confirms that the Wald test has size $\\alpha$ asymptotically.\n",
    "\n",
    "\n",
    "----\n",
    "**Theorem 1**\n",
    "\n",
    "As $n \\rightarrow \\infty$ then \n",
    "\n",
    "\\begin{equation}\n",
    "P_{\\theta_0}(|W| > z_{\\alpha/2}) \\rightarrow \\alpha\n",
    "\\end{equation}\n",
    "\n",
    "----\n",
    "\n",
    "See the excellent book in [1] for a proof of the theorem."
   ]
  },
  {
   "cell_type": "markdown",
   "id": "b1c0ce22-4deb-4a49-86d9-e4e447500853",
   "metadata": {},
   "source": [
    "The definition above involves $\\hat{se}$ alternatively we could use $se_0$ i.e. the standard error computed at $\\theta=\\theta_0$ [1].\n",
    "The following theorem connects testing the hypothesis as stated in the definition above with confidence intervals [1].\n",
    "\n",
    "\n",
    "----\n",
    "**Theorem 2**\n",
    "\n",
    "A size $\\alpha$ Wald test rejects the hypothesis\n",
    "\n",
    "\n",
    "\\begin{equation}\n",
    "H_0: \\theta = \\theta_0, \\text{vs}~ H_{\\alpha}: \\theta \\neq \\theta_0\n",
    "\\end{equation}\n",
    "\n",
    "if and only if $\\theta_0 \\notin C$ where $C$ is a confidence interval given by\n",
    "\n",
    "\n",
    "\\begin{equation}\n",
    "C=\\hat{\\theta}\\pm \\hat{se}z_{\\alpha/2}\n",
    "\\end{equation}\n",
    "\n",
    "\n",
    "Therefore, testing the hypothesis is equivalent to checking whether the null value is in the confidence interval [1].\n",
    "\n",
    "----"
   ]
  },
  {
   "cell_type": "markdown",
   "id": "b6d5a690-d7b2-4d44-8983-9885dd004a77",
   "metadata": {},
   "source": [
    "The power of a Wald test is given approximately by the following fomula, see Theorem 10.6 in [1],\n",
    "\n",
    "\n",
    "\\begin{equation}\n",
    "\\beta(\\theta) = 1- \\Phi(\\frac{\\theta_0 - \\theta_*}{\\hat{se}} + z_{\\alpha/2}) + \\Phi(\\frac{\\theta_0 - \\theta_*}{\\hat{se}} - z_{\\alpha/2})\n",
    "\\end{equation}"
   ]
  },
  {
   "cell_type": "markdown",
   "id": "8fd4faa1-f180-414e-994d-2f8c579683d6",
   "metadata": {},
   "source": [
    "If the sample size increases the $\\hat{se}$ decreases which makes the $\\Phi$ terms small therefore increasing the power\n",
    "of the test. Similarly, if $\\theta_*$ is far from $\\theta_0$. Below we give two theorems regarding the $p-$value in a Wald test. \n",
    "These theorems can be found in [1]."
   ]
  },
  {
   "cell_type": "markdown",
   "id": "c8febdf0-50ec-4d2e-8558-1f7617e13cda",
   "metadata": {},
   "source": [
    "----\n",
    "**Theorem 3**\n",
    "\n",
    "Let $W$ be the Wald statistic. The $p-$value is given by\n",
    "\n",
    "\\begin{equation}\n",
    "p-value=P_{\\theta_0}(|W|>|w|) \\approx P_{\\theta_0}(|Z|>|w|) = 2 \\Phi(-|w|)\n",
    "\\end{equation}\n",
    "\n",
    "where $Z\\sim N(0,1)$ and $\\Phi$ is the CDF of $N(0,1)$.\n",
    "\n",
    "----"
   ]
  },
  {
   "cell_type": "markdown",
   "id": "c07bde1f-3011-4454-94f1-a118bad85872",
   "metadata": {},
   "source": [
    "The following theorem describes the distribution of the $p-$value when $W$ follows a continous distribution."
   ]
  },
  {
   "cell_type": "markdown",
   "id": "c9193045-22de-477f-8afd-1707ec3613dd",
   "metadata": {},
   "source": [
    "----\n",
    "**Theorem 4**\n",
    "\n",
    "If the test statistic has a continuous distribution, then under the null hypothesis, the $p-$value has a uniform distribution i.e.\n",
    "\n",
    "\\begin{equation}\n",
    "p-value \\sim U(0,1)\n",
    "\\end{equation}\n",
    "\n",
    "This implies that rejecting $H_0$ when the $p$-value is less than $\\alpha$ the probability of type I error will be $\\alpha$ [1].\n",
    "\n",
    "----"
   ]
  },
  {
   "cell_type": "markdown",
   "id": "7fe39bb3-539f-480e-9920-4b290998b979",
   "metadata": {},
   "source": [
    "## Examples\n"
   ]
  },
  {
   "cell_type": "markdown",
   "id": "bf13d19a-9625-4280-9bed-ad19c94afe1e",
   "metadata": {},
   "source": [
    "In the following examples, we show how to perform two sided test for the following scenarios\n",
    "\n",
    "- Population mean whilst population variance is known\n",
    "- Population mean whilst variance is unknown\n",
    "- Test the difference of the means of two samples"
   ]
  },
  {
   "cell_type": "markdown",
   "id": "ffa31dbe-72a5-4597-9571-8e0e652d0d9e",
   "metadata": {},
   "source": [
    "### Example 1: Hypothesis testing for the mean (known variance)\n"
   ]
  },
  {
   "cell_type": "markdown",
   "id": "f4b2182a-758e-463a-a229-be154bf3f8ed",
   "metadata": {},
   "source": [
    "Generate a random sample from the normal distribution and perform two \n",
    "sided tests about the real value of the population mean."
   ]
  },
  {
   "cell_type": "code",
   "execution_count": 15,
   "id": "4bd5bd88-d674-463a-9f91-cddac790fa9e",
   "metadata": {
    "tags": []
   },
   "outputs": [],
   "source": [
    "import numpy as np\n",
    "from scipy.stats import norm\n",
    "from typing import List"
   ]
  },
  {
   "cell_type": "code",
   "execution_count": 26,
   "id": "606388b7-2217-4195-8d27-f3d2b56262ab",
   "metadata": {
    "tags": []
   },
   "outputs": [],
   "source": [
    "def make_wald_test_for_mean(sample: List[float], mu_0: float,\n",
    "                            std: float, alpha: float):\n",
    "    sample_mean = np.mean(sample)\n",
    "    \n",
    "    print(f\"Sample mean {sample_mean}\")\n",
    "    \n",
    "    if std is None:\n",
    "        std = np.std(sample)\n",
    "\n",
    "    w = (sample_mean - mu_0)/std\n",
    "    print(f\"Wald test statistic {w}\")\n",
    "    \n",
    "    # compute p-value\n",
    "    p_val = 2*norm.cdf(-abs(w))\n",
    "    print(f\"p-value {p_val}\")\n",
    "    \n",
    "    if p_val < alpha:\n",
    "        print(\"H_0 should be rejected\")\n",
    "    else:\n",
    "        print(\"H_0 should be rejected\")\n",
    "              \n",
    "    return p_val"
   ]
  },
  {
   "cell_type": "code",
   "execution_count": 27,
   "id": "efaa088b-7911-4451-b924-ff2b5c706249",
   "metadata": {
    "tags": []
   },
   "outputs": [],
   "source": [
    "np.random.seed(42)\n",
    "mu = 5.6\n",
    "std = 0.6\n",
    "alpha = 0.05"
   ]
  },
  {
   "cell_type": "code",
   "execution_count": 28,
   "id": "1dc0bd14-a210-48cc-869a-8ef43ec55b48",
   "metadata": {
    "tags": []
   },
   "outputs": [],
   "source": [
    "# sample size of 10\n",
    "n = 10\n",
    "sample = np.random.normal(mu, std, n)"
   ]
  },
  {
   "cell_type": "markdown",
   "id": "871759a3-f32d-4738-a6b5-c1ebc0d9bbcb",
   "metadata": {},
   "source": [
    "Test the hypothesis that $\\mu=5.6$ versus that it is something else i.e.\n",
    "\n",
    "\\begin{equation}\n",
    "H_0: \\mu = 5.6, \\text{vs}~ H_{\\alpha}: \\mu \\neq 5.6\n",
    "\\end{equation}"
   ]
  },
  {
   "cell_type": "markdown",
   "id": "0570a246-09e6-4bcb-81fc-5eb7fa0b78ca",
   "metadata": {},
   "source": [
    "The Wald test statistic is given by\n",
    "\n",
    "\\begin{equation}\n",
    "w= \\frac{\\bar{x} - \\mu_0}{\\hat{se}}\n",
    "\\end{equation}\n",
    "\n",
    "Recall that the general form of the standard error $se$ is given as \n",
    "\n",
    "\\begin{equation}\n",
    "se = \\sqrt{Var(\\hat{\\theta}})\n",
    "\\end{equation}\n",
    "\n",
    "For this case howver we will assume that the population variance is known  $\\sigma^2 = (std)^2$."
   ]
  },
  {
   "cell_type": "code",
   "execution_count": 33,
   "id": "2a3be0de-69b2-4512-82eb-8990f3b091c7",
   "metadata": {
    "tags": []
   },
   "outputs": [
    {
     "name": "stdout",
     "output_type": "stream",
     "text": [
      "Sample mean 5.868836667019254\n",
      "Wald test statistic 0.4480611116987573\n",
      "p-value 0.6541090927924242\n",
      "H_0 should be rejected\n"
     ]
    }
   ],
   "source": [
    "p_val = make_wald_test_for_mean(sample=sample, mu_0=mu, std=std, alpha=alpha)"
   ]
  },
  {
   "cell_type": "markdown",
   "id": "e4978c80-bf29-403d-a057-c878f9d9a27f",
   "metadata": {},
   "source": [
    "As it can been seen, the $p-$value is rather high suggesting that there is little or no evidence against $H_0$. Let's\n",
    "repeat this test by checking upon a different mean value."
   ]
  },
  {
   "cell_type": "code",
   "execution_count": 34,
   "id": "86f259c7-458b-439b-a574-1681d4d5373f",
   "metadata": {
    "tags": []
   },
   "outputs": [
    {
     "name": "stdout",
     "output_type": "stream",
     "text": [
      "Sample mean 5.868836667019254\n",
      "Wald test statistic 4.448061111698757\n",
      "p-value 8.664888015886373e-06\n",
      "H_0 should be rejected\n"
     ]
    }
   ],
   "source": [
    "p_val = make_wald_test_for_mean(sample=sample, mu_0=3.2, std=std, alpha=alpha)"
   ]
  },
  {
   "cell_type": "markdown",
   "id": "92215f48-975f-4938-af46-d1f9c4f72b4f",
   "metadata": {},
   "source": [
    "This time the test suggests we should reject $H_0$ as the computed $p-$value is really small."
   ]
  },
  {
   "cell_type": "markdown",
   "id": "d404bb32-b497-48d5-9199-62845f050779",
   "metadata": {},
   "source": [
    "### Example 1: Hypothesis testing for the mean (unknown variance)"
   ]
  },
  {
   "cell_type": "markdown",
   "id": "82d0e14f-fd3f-4319-b57b-b57fd7d5dda1",
   "metadata": {},
   "source": [
    "## Summary"
   ]
  },
  {
   "cell_type": "code",
   "execution_count": null,
   "id": "b8353b04-a427-4f52-b369-e1a560326038",
   "metadata": {},
   "outputs": [],
   "source": []
  },
  {
   "cell_type": "markdown",
   "id": "4f0e9f45-a281-4fc7-8e68-2203077d6f09",
   "metadata": {},
   "source": [
    "## References"
   ]
  },
  {
   "cell_type": "markdown",
   "id": "8f9f0006-884e-4bdf-9b91-da415ed1fcf3",
   "metadata": {},
   "source": [
    "1. Larry Wasserman, _All of Statistics. A Concise Course in Statistical Inference_, Springer 2003."
   ]
  }
 ],
 "metadata": {
  "kernelspec": {
   "display_name": "Python 3 (ipykernel)",
   "language": "python",
   "name": "python3"
  },
  "language_info": {
   "codemirror_mode": {
    "name": "ipython",
    "version": 3
   },
   "file_extension": ".py",
   "mimetype": "text/x-python",
   "name": "python",
   "nbconvert_exporter": "python",
   "pygments_lexer": "ipython3",
   "version": "3.10.12"
  }
 },
 "nbformat": 4,
 "nbformat_minor": 5
}
