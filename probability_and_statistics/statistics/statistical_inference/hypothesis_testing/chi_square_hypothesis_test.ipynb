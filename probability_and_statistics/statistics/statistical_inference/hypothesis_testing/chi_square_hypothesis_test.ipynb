{
 "cells": [
  {
   "cell_type": "markdown",
   "metadata": {},
   "source": [
    "# $\\chi^2$ hypothesis test"
   ]
  },
  {
   "cell_type": "markdown",
   "metadata": {},
   "source": [
    "## Overview"
   ]
  },
  {
   "cell_type": "markdown",
   "metadata": {},
   "source": [
    "In this section we introduce the <a href=\"https://en.wikipedia.org/wiki/Chi-squared_test\">$\\chi^2$ hypothesis test</a>. The are various applications of this test such as [2]\n",
    "\n",
    "- Testing whether the data belong to a particular distribution\n",
    "- Testing a family of distributions\n",
    "- Testing independence of two factors"
   ]
  },
  {
   "cell_type": "markdown",
   "metadata": {},
   "source": [
    "The $\\chi^2$ test is based on observed and expected counts of categories. \n",
    "Therefore, it will  always be a one-sided, right-tail test. This is because only the low values of $\\chi^2$ show that the observed counts are close to what we expect them to be under the null hypotheses.\n",
    "On the contrary, large $\\chi^2$ occurs when the observed counts are far from the expected counts [2]."
   ]
  },
  {
   "cell_type": "markdown",
   "metadata": {},
   "source": [
    "## The $\\chi^2$ hypothesis test"
   ]
  },
  {
   "cell_type": "markdown",
   "metadata": {},
   "source": [
    "The $\\chi^2$ test is based on the Pearson's statistic "
   ]
  },
  {
   "cell_type": "markdown",
   "metadata": {},
   "source": [
    "$$T = \\sum_{i=1}^N \\frac{(X_i -E\\left[X_i\\right])^2}{E\\left[X_i\\right]}$$"
   ]
  },
  {
   "cell_type": "markdown",
   "metadata": {},
   "source": [
    "where $N$ is the number of categories (not the sample size), $X_i$ is the observed number of sampling units in category $i$ and $E\\left[X_i\\right]$ is the expected number of sampling units in category $i$ if $H_0$ is true i.e."
   ]
  },
  {
   "cell_type": "markdown",
   "metadata": {},
   "source": [
    "$$E\\left[X_i\\right] = E\\left[E\\left[X_i\\right] | H_0\\right]$$"
   ]
  },
  {
   "cell_type": "markdown",
   "metadata": {},
   "source": [
    "Because only the low values of $\\chi^2$ show that the observed counts are close to what we expect them to be under the null hypotheses, the $\\chi^2$ test is always a one-sided, right tail test. \n",
    "On the contrary, large $\\chi^2$ occurs when $X_i$ are far from the expected, which shows inconsistency of the data and the null hypothesis and does not support $H_0$ . We have the following theorem for the statistic $T$ [3]\n",
    "\n",
    "\n",
    "----\n",
    "**Theorem 1**\n",
    "\n",
    "Under $H_0$, the $T$ statistic follows asymptotically the $\\chi^{2}_{k-1}$ distribution. \n",
    "The $p-$value is always calculated as the following probability\n",
    "\n",
    "\\begin{equation}\n",
    "p = P(\\chi^{2}_{k-1} \\geq t_{obs})\n",
    "\\end{equation}\n",
    "\n",
    "where $t_{obs}$ is the observed value of the test statistic.\n",
    "\n",
    "----"
   ]
  },
  {
   "cell_type": "markdown",
   "metadata": {},
   "source": [
    "A level $\\alpha$ rejection region is given by [2]"
   ]
  },
  {
   "cell_type": "markdown",
   "metadata": {},
   "source": [
    "$$R = [T, +\\infty)$$"
   ]
  },
  {
   "cell_type": "markdown",
   "metadata": {},
   "source": [
    "----\n",
    "**Remark**\n",
    "\n",
    "When using the $\\chi^2$ test the data must be grouped into bins [4]. If the model parameters are estimated from ungrouped data\n",
    "and then the expected counts in each bin are estimated using the estimated parameter, then the limiting distribution of $T$ is no longer $\\chi^2$ [4].\n",
    "\n",
    "----"
   ]
  },
  {
   "cell_type": "markdown",
   "metadata": {},
   "source": [
    "### Example 1"
   ]
  },
  {
   "cell_type": "markdown",
   "metadata": {},
   "source": [
    "Let's use Python to perform a $\\chi^2$ test. The example below is taken for the official <a href=\"https://docs.scipy.org/doc/scipy/reference/generated/scipy.stats.chisquare.html\">scipy.stats</a>."
   ]
  },
  {
   "cell_type": "code",
   "execution_count": 1,
   "metadata": {},
   "outputs": [],
   "source": [
    "from scipy.stats import chisquare"
   ]
  },
  {
   "cell_type": "code",
   "execution_count": 2,
   "metadata": {},
   "outputs": [
    {
     "data": {
      "text/plain": [
       "Power_divergenceResult(statistic=3.5, pvalue=0.6233876277495822)"
      ]
     },
     "execution_count": 2,
     "metadata": {},
     "output_type": "execute_result"
    }
   ],
   "source": [
    "# observed frequencies in each category\n",
    "f_obs=[16, 18, 16, 14, 12, 12]\n",
    "\n",
    "# expected frequencies in each category\n",
    "f_exp=[16, 16, 16, 16, 16, 8]\n",
    "\n",
    "chisquare(f_obs, f_exp)"
   ]
  },
  {
   "cell_type": "markdown",
   "metadata": {},
   "source": [
    "The p-value is the probability that"
   ]
  },
  {
   "cell_type": "markdown",
   "metadata": {},
   "source": [
    "$$p = P(\\chi^2 \\geq 3.5) = 0.623$$"
   ]
  },
  {
   "cell_type": "markdown",
   "metadata": {},
   "source": [
    "For a level $\\alpha=0.05$, we cannot reject the null hypothesis."
   ]
  },
  {
   "cell_type": "markdown",
   "metadata": {},
   "source": [
    "## Summary"
   ]
  },
  {
   "cell_type": "markdown",
   "metadata": {},
   "source": [
    "In this section we introduced the $\\chi^2$ hypothesis test. This is a one-sided  right-tail test. The test statistic is "
   ]
  },
  {
   "cell_type": "markdown",
   "metadata": {},
   "source": [
    "$$T = \\sum_{i=1}^N \\frac{(X_i -E\\left[X_i\\right])^2}{E\\left[X_ii\\right]}$$"
   ]
  },
  {
   "cell_type": "markdown",
   "metadata": {},
   "source": [
    "Chi-square tests is a technique that is based on counts; we compare the counts expected under $H_0$ with the observed through the chi-square statistic.\n",
    "This way we are able to test for the goodness of fit and for the independence of two factors. Furthermore, contingency tables can \n",
    "be used for the detection of significant relations between categorical variables [2]."
   ]
  },
  {
   "cell_type": "markdown",
   "metadata": {},
   "source": [
    "## References"
   ]
  },
  {
   "cell_type": "markdown",
   "metadata": {},
   "source": [
    "1. <a href=\"https://en.wikipedia.org/wiki/Chi-squared_test\">Chi-squared test</a>\n",
    "2. Michael Baron, _Probability and statistics for computer scientists_, 2nd Edition, CRC Press\n",
    "3. Larry Wasserman, _All of Statistics. A Concise Course in Statistical Inference_, Springer 2003.\n",
    "4. John A. Rice, _Mathematical statistics and data analysis_, 2nd Edition, Duxbury Press."
   ]
  }
 ],
 "metadata": {
  "kernelspec": {
   "display_name": "Python 3 (ipykernel)",
   "language": "python",
   "name": "python3"
  },
  "language_info": {
   "codemirror_mode": {
    "name": "ipython",
    "version": 3
   },
   "file_extension": ".py",
   "mimetype": "text/x-python",
   "name": "python",
   "nbconvert_exporter": "python",
   "pygments_lexer": "ipython3",
   "version": "3.10.12"
  }
 },
 "nbformat": 4,
 "nbformat_minor": 4
}
