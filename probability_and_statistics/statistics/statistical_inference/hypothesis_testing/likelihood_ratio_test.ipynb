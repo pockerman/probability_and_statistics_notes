{
 "cells": [
  {
   "cell_type": "markdown",
   "id": "0b7e7cf7-36fc-4a67-88cb-86c390866179",
   "metadata": {},
   "source": [
    "# The Likelihood Ratio Test"
   ]
  },
  {
   "cell_type": "markdown",
   "id": "5003db8f-8821-471b-bb3c-a1416d412860",
   "metadata": {},
   "source": [
    "## Overview"
   ]
  },
  {
   "cell_type": "markdown",
   "id": "67758aeb-f29d-49a3-bd05-0a358e5b81d6",
   "metadata": {},
   "source": [
    "We have seen how to use the Wald test in order to evaluate hypothesis of the form\n",
    "\n",
    "\\begin{equation}\n",
    "H_0: \\theta = \\theta_0, \\text{vs}~ H_{\\alpha}: \\theta \\neq \\theta_0\n",
    "\\end{equation}\n",
    "\n",
    "However, often we want to test a vector-valued parameter i.e. we want to test\n",
    "\n",
    "\n",
    "\\begin{equation}\n",
    "H_0: \\theta \\in \\Theta_0, \\text{vs}~ H_{\\alpha}: \\theta \\notin \\Theta_0\n",
    "\\end{equation}\n",
    "\n",
    "The <a href=\"https://en.wikipedia.org/wiki/Likelihood-ratio_test\">likelihood ratio test</a> is a more general test and can be used for such a \n",
    "scenario."
   ]
  },
  {
   "cell_type": "markdown",
   "id": "b2176584-8069-4528-8fad-8950ff0ff23c",
   "metadata": {},
   "source": [
    "# The likelihood ratio test"
   ]
  },
  {
   "cell_type": "markdown",
   "id": "20570195-105a-4d96-a3aa-315729c47bd3",
   "metadata": {},
   "source": [
    "Let's consider the parameter space $\\Theta$ and some restriction of it $\\Theta_0$ i.e. $\\Theta_0 \\subset \\Theta$. \n",
    "We want to test the hypothesis\n",
    "that the vector-valued parameter $\\theta$ takes values in $\\Theta_0$. We can consider two statistical models one defined over the entire $\\Theta$ and the\n",
    "other one under $\\Theta_0$. Assume that under the  null hyptothesis $\\theta \\in \\Theta_0$. Then the ratio of the two statistics should not differ much.\n"
   ]
  },
  {
   "cell_type": "markdown",
   "id": "3910ff8e-25cd-4628-b818-2b2383d122c1",
   "metadata": {},
   "source": [
    "How can we form the ratio statistic then? We can use the following definition from [1]\n",
    "\n",
    "\n",
    "----\n",
    "**Definition**\n",
    "\n",
    "The likelihood ratio statistic is defined as\n",
    "\n",
    "\n",
    "\\begin{equation}\n",
    "\\lambda = 2 log\\left(\\frac{L(\\hat{\\theta})}{L(\\hat{\\theta_0})}\\right)\n",
    "\\end{equation}\n",
    "\n",
    "where $\\hat{\\theta}$ is the MLE and $\\hat{\\theta_0}$ is the MLE when $\\hat{\\theta}$ is restricted in $\\Theta_0$ \n",
    "\n",
    "----"
   ]
  },
  {
   "cell_type": "markdown",
   "id": "8e2ce491-0b2d-4370-b24d-b7876ed24648",
   "metadata": {},
   "source": [
    "We have the following theorem [1]\n",
    "\n",
    "\n",
    "----\n",
    "**Theorem**\n",
    "\n",
    "Assume that $\\theta=(\\theta_1, \\dots,\\theta_q, \\theta_{q+1}, \\dots, \\theta_r)$. Let $\\Theta_0$ be the following set\n",
    "\n",
    "\\begin{equation}\n",
    "\\Theta_0 = \\{\\theta: (\\theta_{q+1}, \\dots, \\theta_r)\n",
    "\\end{equation}\n",
    "\n",
    "Under $H_0: \\theta \\in \\Theta_0$, $\\lambda$ follows $\\chi^2$. Spcecifically,\n",
    "\n",
    "\n",
    "\\begin{equation}\n",
    "\\lambda \\sim \\chi_{r-q, \\alpha}^2\n",
    "\\end{equation}\n",
    "\n",
    "where $r-q$ is the dimension of $\\Theta$ minus the dimension of $\\Theta_0$. Moreover, the $p-$value is given by\n",
    "\n",
    "\n",
    "\\begin{equation}\n",
    "p-value = P( \\chi_{r-q, \\alpha}^2 > \\lambda)\n",
    "\\end{equation}\n",
    "\n",
    "----"
   ]
  },
  {
   "cell_type": "markdown",
   "id": "895d04e3-7df4-4d41-bed1-ba8401edb5e3",
   "metadata": {},
   "source": [
    "## Summary"
   ]
  },
  {
   "cell_type": "markdown",
   "id": "4b3e60fb-88d0-494b-82ea-87c405f942fd",
   "metadata": {},
   "source": [
    "This section introduced the likelihood ratio test. This is a more general framework than Wald testing as it allows us to test\n",
    "vector-valued parameters. The likelihood ratio test is also known as the Wilks test, is the oldest of \n",
    "the three classical approaches to hypothesis testing. When the likelihood ratio test and $\\chi^2$ test are both applicable,\n",
    "they usually lead to similar results as long as the sample size i large [1]."
   ]
  },
  {
   "cell_type": "markdown",
   "id": "0fe2f7f4-fbc4-4054-ae2e-e0b5d5de6f55",
   "metadata": {},
   "source": [
    "## References"
   ]
  },
  {
   "cell_type": "markdown",
   "id": "bf28b650-ee92-4d72-8021-2d7858f87d2e",
   "metadata": {},
   "source": [
    "1. Larry Wasserman, _All of Statistics. A Concise Course in Statistical Inference_, Springer 2003."
   ]
  }
 ],
 "metadata": {
  "kernelspec": {
   "display_name": "Python 3 (ipykernel)",
   "language": "python",
   "name": "python3"
  },
  "language_info": {
   "codemirror_mode": {
    "name": "ipython",
    "version": 3
   },
   "file_extension": ".py",
   "mimetype": "text/x-python",
   "name": "python",
   "nbconvert_exporter": "python",
   "pygments_lexer": "ipython3",
   "version": "3.10.12"
  }
 },
 "nbformat": 4,
 "nbformat_minor": 5
}
