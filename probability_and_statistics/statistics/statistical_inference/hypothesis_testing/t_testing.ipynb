{
 "cells": [
  {
   "cell_type": "markdown",
   "id": "bc0e6ec3-d3de-4a87-bb83-cd6cef0fdebb",
   "metadata": {},
   "source": [
    "# Student's t-testing"
   ]
  },
  {
   "cell_type": "markdown",
   "id": "e188e1d4-1c32-4a57-8004-e604b2ed2df3",
   "metadata": {},
   "source": [
    "## Overview"
   ]
  },
  {
   "cell_type": "markdown",
   "id": "e18becf2-e93a-4e56-94c6-21b25b68d916",
   "metadata": {},
   "source": [
    "The previous section introduced the Wald test for testing hypothesis of the form\n",
    "\n",
    "\\begin{equation}\n",
    "H_0: \\theta = \\theta_0, \\text{vs}~ H_{\\alpha}: \\theta \\neq \\theta_0\n",
    "\\end{equation}\n",
    "\n",
    "This is the test approach to use to the test, for example, about the mean difference between two populations when the data is assumed to be normally distributed, the sample  size is large i.e. $n>30$.\n",
    "However, when the sample size is small i.e. $n<30$ it is better to use the <a href=\"https://en.wikipedia.org/wiki/Student's_t-test\">Student's t-test</a>."
   ]
  },
  {
   "cell_type": "markdown",
   "id": "f1552369-5821-4890-9138-7b5a6f7d2454",
   "metadata": {},
   "source": [
    "## Student's t-testing"
   ]
  },
  {
   "cell_type": "markdown",
   "id": "ba7ebe73-7d95-40ce-abc5-990f4cf125d8",
   "metadata": {},
   "source": [
    "Consider testing the hypothesis\n",
    "\n",
    "\n",
    "\\begin{equation}\n",
    "H_0: \\mu = \\mu_0, \\text{vs}~ H_{\\alpha}: \\mu \\neq \\mu_0\n",
    "\\end{equation}\n",
    "\n",
    "Further assume that the data available is Normal. For a small sample size i.e. $n<30$ we can use a $t-$test. The \n",
    "$t-$test uses the Student's $t-$statistic is defined as [1]\n",
    "\n",
    "\n",
    "\\begin{equation}\n",
    "T = \\frac{\\sqrt{n}\\left(\\bar{x} - \\mu_0\\right)}{S}\n",
    "\\end{equation}\n",
    "\n",
    "where $S$ is the sample standard deviation and $\\bar{x}$ is the sample mean."
   ]
  },
  {
   "cell_type": "markdown",
   "id": "0e6835e3-fcfa-4e5a-ae2e-9c22f700becd",
   "metadata": {},
   "source": [
    "For large samples $T\\approx N(0,1)$ under $H_0$ [1]. However, the exact distribution of $T$ under the null hypothesis is \n",
    "$t_{n-1}$ [1]. We can reject $H_0$ when \n",
    "\n",
    "\\begin{equation}\n",
    "|T| > t_{n-1,\\alpha/2}\n",
    "\\end{equation}\n",
    "\n",
    "\n",
    "----\n",
    "**Remark**\n",
    "\n",
    "When the sample size is relatively large then the $t-$test is identical to the Wald test [1].\n",
    "\n",
    "----"
   ]
  },
  {
   "cell_type": "markdown",
   "id": "2f37bcc4-9bd3-4c24-b36a-02224315d263",
   "metadata": {},
   "source": [
    "#### Example"
   ]
  },
  {
   "cell_type": "code",
   "execution_count": null,
   "id": "791cfdca-de48-43af-b3a3-e3aa876b28ad",
   "metadata": {},
   "outputs": [],
   "source": [
    "import numpy as np  \n",
    "from scipy import stats "
   ]
  },
  {
   "cell_type": "code",
   "execution_count": 4,
   "id": "91e0c051-3b81-439a-a810-55b5fec3c515",
   "metadata": {
    "tags": []
   },
   "outputs": [
    {
     "name": "stdout",
     "output_type": "stream",
     "text": [
      "t-statistic = -0.4271006547619592\n",
      "p-value = 0.6738687532323435\n"
     ]
    }
   ],
   "source": [
    "# set seed in order to be able to reproduce\n",
    "# the experiment\n",
    "np.random.seed(42)\n",
    "\n",
    "# population mean \n",
    "mu = 10\n",
    "\n",
    "# choose the sample size \n",
    "n1 = 21\n",
    "\n",
    "# generate random sample from normal distribution\n",
    "# with the given mean and standard deviation 1.0\n",
    "x = np.random.normal(mu, scale=1.0, size=n1)\n",
    "\n",
    "# Using the Stats library, compute t-statistic and p-value\n",
    "t_stat, p_val = stats.ttest_1samp(a=x, popmean = mu)\n",
    "\n",
    "\n",
    "print(\"t-statistic = \" + str(t_stat))  \n",
    "print(\"p-value = \" + str(p_val)) \n"
   ]
  },
  {
   "cell_type": "markdown",
   "id": "fa4e472d-1969-4ff8-96b2-7ea7e57090c6",
   "metadata": {},
   "source": [
    "### Comparing the means of two samples"
   ]
  },
  {
   "cell_type": "markdown",
   "id": "8ebbe765-b2c3-49fb-ae2d-dadb40fba902",
   "metadata": {},
   "source": [
    "The $t-$ test can also be used to test the hypothesis that the means of two independent samples are identical\n",
    "assuming that the populations the samples are coming from have identical variances. In particular, we want to test\n",
    "the hypothesis\n",
    "\n",
    "\n",
    "\\begin{equation}\n",
    "H_0: \\mu_1 = \\mu_2, \\text{vs}~ H_{\\alpha}: \\mu_1 \\neq \\mu_2\n",
    "\\end{equation}\n"
   ]
  },
  {
   "cell_type": "markdown",
   "id": "5cb02d9a-b770-4136-9cb5-7742cc39801d",
   "metadata": {},
   "source": [
    "The test statistic then becomes\n",
    "\n",
    "\n",
    "\\begin{equation}\n",
    "T = \\frac{\\bar{x}_1 - \\bar{x}_2}{\\sqrt{\\frac{S_{1}^2}{n_1} + \\frac{S_{2}^2}{n_2}}}\n",
    "\\end{equation}\n",
    "\n",
    "where $n_i$ is the sample size for sample $i$ and $S_{i}^2$ is its respective variance."
   ]
  },
  {
   "cell_type": "markdown",
   "id": "650acabe-63e6-443e-b8e9-293becf08fd1",
   "metadata": {},
   "source": [
    "#### Example"
   ]
  },
  {
   "cell_type": "code",
   "execution_count": null,
   "id": "aa7e68e4-0b2f-4ecb-b44d-a1d2b297fe41",
   "metadata": {},
   "outputs": [],
   "source": [
    "import numpy as np  \n",
    "from scipy import stats "
   ]
  },
  {
   "cell_type": "code",
   "execution_count": 5,
   "id": "221a4502-23db-4c1d-b9f3-d1a9ce3c7a43",
   "metadata": {
    "tags": []
   },
   "outputs": [
    {
     "name": "stdout",
     "output_type": "stream",
     "text": [
      "t-statistic = 3.149095298366158\n",
      "p-value = 0.002940881662651649\n"
     ]
    }
   ],
   "source": [
    "# sample sizes\n",
    "n1 = 21\n",
    "n2 = 25\n",
    "\n",
    "# normally distributed data with mean = 10.5 and var = 1  \n",
    "x = np.random.normal(10.5, scale=1.0, size=n1)\n",
    "\n",
    "# normally distributed data with mean = 9.5 and var = 1  \n",
    "y = np.random.normal(9.5, scale=1.0, size=n2)\n",
    "\n",
    "## Using the internal function from SciPy Package  \n",
    "t_stat, p_val = stats.ttest_ind(x, y)  \n",
    "print(\"t-statistic = \" + str(t_stat))  \n",
    "print(\"p-value = \" + str(p_val))"
   ]
  },
  {
   "cell_type": "markdown",
   "id": "cb983363-6cb1-42a9-b073-e1ed191c1b6b",
   "metadata": {},
   "source": [
    "## Summary"
   ]
  },
  {
   "cell_type": "markdown",
   "id": "1f388c24-7f79-4536-89ed-b910f25c1754",
   "metadata": {},
   "source": [
    "In this section, we reviewed Student's $t-$test. This test is used when we want to test hypothesis of the form \n",
    "\n",
    "\\begin{equation}\n",
    "H_0: \\mu = \\mu_0, \\text{vs}~ H_{\\alpha}: \\mu \\neq \\mu_0\n",
    "\\end{equation}\n",
    "\n",
    "but the sample size is small. Student's $t-$test uses the following statistic\n",
    "\n",
    "\\begin{equation}\n",
    "T = \\frac{\\sqrt{n}\\left(\\bar{x} - \\mu_0\\right)}{S}\n",
    "\\end{equation}\n",
    "\n",
    "and we reject $H_0$ when \n",
    "\n",
    "\\begin{equation}\n",
    "|T| > t_{n-1,\\alpha/2}\n",
    "\\end{equation}"
   ]
  },
  {
   "cell_type": "markdown",
   "id": "2f3cae7e-f706-4326-9070-b54bcd6ffc14",
   "metadata": {},
   "source": [
    "The $t$-test is only applicable to two data groups. \n",
    "However, in many case we want to compare more than two groups. \n",
    "In this case, we  have to resort to other tests such as ANOVA."
   ]
  },
  {
   "cell_type": "markdown",
   "id": "c8695e0e-550d-4706-980f-bd4d25241971",
   "metadata": {},
   "source": [
    "## References"
   ]
  },
  {
   "cell_type": "markdown",
   "id": "6310d21a-f1cc-4037-a062-bec9b73dcc55",
   "metadata": {},
   "source": [
    "1. Larry Wasserman, _All of Statistics. A Concise Course in Statistical Inference_, Springer 2003."
   ]
  }
 ],
 "metadata": {
  "kernelspec": {
   "display_name": "Python 3 (ipykernel)",
   "language": "python",
   "name": "python3"
  },
  "language_info": {
   "codemirror_mode": {
    "name": "ipython",
    "version": 3
   },
   "file_extension": ".py",
   "mimetype": "text/x-python",
   "name": "python",
   "nbconvert_exporter": "python",
   "pygments_lexer": "ipython3",
   "version": "3.10.12"
  }
 },
 "nbformat": 4,
 "nbformat_minor": 5
}
