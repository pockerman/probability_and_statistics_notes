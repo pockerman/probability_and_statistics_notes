{
 "cells": [
  {
   "cell_type": "markdown",
   "id": "bc0e6ec3-d3de-4a87-bb83-cd6cef0fdebb",
   "metadata": {},
   "source": [
    "# Student's t-testing"
   ]
  },
  {
   "cell_type": "markdown",
   "id": "e188e1d4-1c32-4a57-8004-e604b2ed2df3",
   "metadata": {},
   "source": [
    "## Overview"
   ]
  },
  {
   "cell_type": "markdown",
   "id": "e18becf2-e93a-4e56-94c6-21b25b68d916",
   "metadata": {},
   "source": [
    "The previous section introduced the Wald test for testing hypothesis of the form\n",
    "\n",
    "\\begin{equation}\n",
    "H_0: \\theta = \\theta_0, \\text{vs}~ H_{\\alpha}: \\theta \\neq \\theta_0\n",
    "\\end{equation}\n",
    "\n",
    "This is the test approach to use to the test, for example, about the mean difference between two populations when the data is assumed to be normally distributed, the sample  size is large i.e. $n>30$.\n",
    "However, when the sample size is small i.e. $n<30$ it is better to use the <a href=\"https://en.wikipedia.org/wiki/Student's_t-test\">Student's t-test</a>."
   ]
  },
  {
   "cell_type": "markdown",
   "id": "f1552369-5821-4890-9138-7b5a6f7d2454",
   "metadata": {},
   "source": [
    "## Student's t-testing"
   ]
  },
  {
   "cell_type": "markdown",
   "id": "ba7ebe73-7d95-40ce-abc5-990f4cf125d8",
   "metadata": {},
   "source": [
    "Consider testing the hypothesis\n",
    "\n",
    "\n",
    "\\begin{equation}\n",
    "H_0: \\mu = \\mu_0, \\text{vs}~ H_{\\alpha}: \\mu \\neq \\mu_0\n",
    "\\end{equation}\n",
    "\n",
    "Further assume that the data available is Normal. For a small sample size i.e. $n<30$ we can use a $t-$test. The \n",
    "$t-$test uses the Student's $t-$statistic is defined as [1]\n",
    "\n",
    "\n",
    "\\begin{equation}\n",
    "T = \\frac{\\sqrt{n}\\left(\\bar{x} - \\mu_0\\right)}{S}\n",
    "\\end{equation}\n",
    "\n",
    "where $S$ is the sample standard deviation and $\\bar{x}$ is the sample mean."
   ]
  },
  {
   "cell_type": "markdown",
   "id": "0e6835e3-fcfa-4e5a-ae2e-9c22f700becd",
   "metadata": {},
   "source": [
    "For large samples $T\\approx N(0,1)$ under $H_0$ [1]. However, the exact distribution of $T$ under the null hypothesis is \n",
    "$t_{n-1}$ [1]. We can reject $H_0$ when \n",
    "\n",
    "\\begin{equation}\n",
    "|T| > t_{n-1,\\alpha/2}\n",
    "\\end{equation}\n",
    "\n",
    "\n",
    "----\n",
    "**Remark**\n",
    "\n",
    "When the sample size is relatively large then the $t-$test is identical to the Wald test [1].\n",
    "\n",
    "----"
   ]
  },
  {
   "cell_type": "markdown",
   "id": "cb983363-6cb1-42a9-b073-e1ed191c1b6b",
   "metadata": {},
   "source": [
    "## Summary"
   ]
  },
  {
   "cell_type": "markdown",
   "id": "c8695e0e-550d-4706-980f-bd4d25241971",
   "metadata": {},
   "source": [
    "## References"
   ]
  },
  {
   "cell_type": "markdown",
   "id": "6310d21a-f1cc-4037-a062-bec9b73dcc55",
   "metadata": {},
   "source": [
    "1. Larry Wasserman, _All of Statistics. A Concise Course in Statistical Inference_, Springer 2003."
   ]
  }
 ],
 "metadata": {
  "kernelspec": {
   "display_name": "Python 3 (ipykernel)",
   "language": "python",
   "name": "python3"
  },
  "language_info": {
   "codemirror_mode": {
    "name": "ipython",
    "version": 3
   },
   "file_extension": ".py",
   "mimetype": "text/x-python",
   "name": "python",
   "nbconvert_exporter": "python",
   "pygments_lexer": "ipython3",
   "version": "3.10.12"
  }
 },
 "nbformat": 4,
 "nbformat_minor": 5
}
