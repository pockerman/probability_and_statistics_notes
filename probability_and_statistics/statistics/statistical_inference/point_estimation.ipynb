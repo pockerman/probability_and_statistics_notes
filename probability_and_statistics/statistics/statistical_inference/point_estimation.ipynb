{
 "cells": [
  {
   "cell_type": "markdown",
   "metadata": {},
   "source": [
    "# Point Estimation"
   ]
  },
  {
   "cell_type": "markdown",
   "metadata": {},
   "source": [
    "## Overview"
   ]
  },
  {
   "cell_type": "markdown",
   "metadata": {},
   "source": [
    "In this section we will go over point estimation. This is in contrast to the interval estimation we will encounter later. We have already seen and used point estimates. Indeed the sample mean or the sample standard deviation are point estimates of the associated population parameters. We will also look into some desired properties \n",
    "of point estimates. Namely bias and consistency. In general, we would like our estimator to be unbiased. On the other hand,\n",
    "consistency means that as the sample size increases then the estimator converges to the true parameter. "
   ]
  },
  {
   "cell_type": "markdown",
   "metadata": {},
   "source": [
    "##  Point estimation"
   ]
  },
  {
   "cell_type": "markdown",
   "metadata": {},
   "source": [
    "Point estimation is all about providing a single _best guess_ of some quantity of interest [1]. This quantity\n",
    "of interest could be a population parameter, a parameter in a parametric model, a PDF or a prediction for a future\n",
    "value of some random variable [1]."
   ]
  },
  {
   "cell_type": "markdown",
   "metadata": {},
   "source": [
    "We will denote the unknown parameter with $\\theta$ and its point estimate with $\\hat{\\theta}$.\n",
    "The former is considered as fixed but unknown. The latter depends of the data available and therefore\n",
    "it is a random variable. "
   ]
  },
  {
   "cell_type": "markdown",
   "metadata": {},
   "source": [
    "Thus, $\\hat{\\theta}$ is a function of the available data i.e."
   ]
  },
  {
   "cell_type": "markdown",
   "metadata": {},
   "source": [
    "$$\\hat{\\theta}=g(X_1,\\dots,X_n)$$"
   ]
  },
  {
   "cell_type": "markdown",
   "metadata": {},
   "source": [
    "Below we summarise some of the desired properties that point estimators should exhibit, see also [1, "
   ]
  },
  {
   "cell_type": "markdown",
   "metadata": {},
   "source": [
    "### Bias"
   ]
  },
  {
   "cell_type": "markdown",
   "metadata": {},
   "source": [
    "The bias of an estimator $\\hat{\\theta}$ is defined as [1]"
   ]
  },
  {
   "cell_type": "markdown",
   "metadata": {},
   "source": [
    "----\n",
    "**Definition.**\n",
    "\n",
    "\n",
    "\n",
    "$$Bias(\\hat{\\theta}) = E\\left[\\hat{\\theta}\\right] - \\theta$$\n",
    "\n",
    "\n",
    "----"
   ]
  },
  {
   "cell_type": "markdown",
   "metadata": {},
   "source": [
    "Thus for an unbiased estimator, we have that"
   ]
  },
  {
   "cell_type": "markdown",
   "metadata": {},
   "source": [
    "$$E\\left[\\hat{\\theta}\\right] - \\theta =0 ~~ \\text{that is} ~~ E\\left[\\hat{\\theta}\\right] = \\theta$$"
   ]
  },
  {
   "cell_type": "markdown",
   "metadata": {},
   "source": [
    "----\n",
    "**Remark.**\n",
    "\n",
    "\n",
    "The $MSE$ is can be used in order to assess the quality of a point estimate. The $MSE$ is given by\n",
    "\n",
    "$$MSE=E_{\\theta}(\\hat{\\theta}-\\theta)^2$$\n",
    "\n",
    "which can be written as [1].\n",
    "\n",
    "$$MSE=Bias^2(\\hat{\\theta}) + Var\\left[\\hat{\\theta}\\right]$$\n",
    "\n",
    "----"
   ]
  },
  {
   "cell_type": "markdown",
   "metadata": {},
   "source": [
    "### Consistency"
   ]
  },
  {
   "cell_type": "markdown",
   "metadata": {},
   "source": [
    "A reasonable requirement for an estimator is that as we collect more and more data, it converges to \n",
    "the true parameter $\\theta$. Consistency, quantifies this requirement [1]."
   ]
  },
  {
   "cell_type": "markdown",
   "metadata": {},
   "source": [
    "----\n",
    "**Definition.**\n",
    "\n",
    "A point estimator of a parameter $\\theta$ is _consistent_ if \n",
    "\n",
    "$$\\hat{\\theta} \\rightarrow_{P} \\theta$$\n",
    "\n",
    "----"
   ]
  },
  {
   "cell_type": "markdown",
   "metadata": {},
   "source": [
    "### Standard error and sampling distribution"
   ]
  },
  {
   "cell_type": "markdown",
   "metadata": {},
   "source": [
    "By using different samples to estimate $\\hat{\\theta}$ we construct a distribution for it. This distribution\n",
    "is called the sampling distribution. The standard deviation of $\\hat{\\theta}$ is called the standard error denoted by $se$"
   ]
  },
  {
   "cell_type": "markdown",
   "metadata": {},
   "source": [
    "$$se = \\sqrt{Var\\left[\\hat{\\theta}\\right]}$$"
   ]
  },
  {
   "cell_type": "markdown",
   "metadata": {},
   "source": [
    "We also denote the estimated standard error with $\\hat{se}$. The following theorem associates bias, standard error and consistency."
   ]
  },
  {
   "cell_type": "markdown",
   "metadata": {},
   "source": [
    "----\n",
    "**Theorem.** \n",
    "\n",
    "If $Bias(\\hat{\\theta}) \\rightarrow 0$ and $se \\rightarrow 0$ as the sample size $n \\rightarrow \\infty$ then $\\hat{\\theta}$\n",
    "is consistent.\n",
    "\n",
    "\n",
    "For a proof of the theorem see [1].\n",
    "\n",
    "----"
   ]
  },
  {
   "cell_type": "markdown",
   "metadata": {},
   "source": [
    "Finally, let us intorduce the following definition [1]."
   ]
  },
  {
   "cell_type": "markdown",
   "metadata": {},
   "source": [
    "----\n",
    "**Definition.** \n",
    "\n",
    "An estimator is _asymptotically normal_ if\n",
    "\n",
    "\n",
    "$$\\frac{\\hat{\\theta} - \\theta}{se} \\sim N(0,1$$\n",
    "\n",
    "----"
   ]
  },
  {
   "cell_type": "markdown",
   "metadata": {},
   "source": [
    "## Summary"
   ]
  },
  {
   "cell_type": "markdown",
   "metadata": {},
   "source": [
    "This section revised some of the properties that point estimators should satify. In particular, we saw that a point estimate is desired to be \n",
    "unbiased and consistent. The bias of an estimator is defined as the difference between the expected value of the point estimate\n",
    "and the true parameter value. Hence, it can only be calculated if we know the latter. Consistency means that the estomator converges to the\n",
    "the true parameter as the sample size increases. These two properties are linked via the standard error $se$."
   ]
  },
  {
   "cell_type": "markdown",
   "metadata": {},
   "source": [
    "## References"
   ]
  },
  {
   "cell_type": "markdown",
   "metadata": {},
   "source": [
    "1. Larry Wasserman, _All of Statistics. A Concise Course in Statistical Inference_, Springer 2003."
   ]
  }
 ],
 "metadata": {
  "kernelspec": {
   "display_name": "Python 3 (ipykernel)",
   "language": "python",
   "name": "python3"
  },
  "language_info": {
   "codemirror_mode": {
    "name": "ipython",
    "version": 3
   },
   "file_extension": ".py",
   "mimetype": "text/x-python",
   "name": "python",
   "nbconvert_exporter": "python",
   "pygments_lexer": "ipython3",
   "version": "3.10.6"
  }
 },
 "nbformat": 4,
 "nbformat_minor": 4
}
