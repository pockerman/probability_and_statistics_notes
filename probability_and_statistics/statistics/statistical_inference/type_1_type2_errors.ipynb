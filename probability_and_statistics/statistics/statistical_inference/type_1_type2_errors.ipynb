{
 "cells": [
  {
   "cell_type": "markdown",
   "metadata": {},
   "source": [
    "# Type I and Type II errors"
   ]
  },
  {
   "cell_type": "markdown",
   "metadata": {},
   "source": [
    "## <a name=\"overview\"></a> Overview"
   ]
  },
  {
   "cell_type": "markdown",
   "metadata": {},
   "source": [
    "The previous section went over a general framework for testing statistical significance. We named this framework the null hypothesis framework. Unfortunately, making mistakes is part of life and therefore part of the significance testing as well. There are two types of errors associated with the null hypothesis framework; Type I error and Type II error."
   ]
  },
  {
   "cell_type": "markdown",
   "metadata": {},
   "source": [
    "## <a name=\"sec1\"></a> Type I error"
   ]
  },
  {
   "cell_type": "markdown",
   "metadata": {},
   "source": [
    "A Type I error is committed every time we reject the null hypothesis when $H_0$ is correct. In other words, we report statistical significance when this is not the case. Thus with Type I error the null hypothesis is true even though it gets rejected."
   ]
  },
  {
   "cell_type": "markdown",
   "metadata": {},
   "source": [
    "With Type I error the $p-value$ is less than the level of significance $\\alpha$ and according to what we said in the previous section, in this case we reject $H_0$."
   ]
  },
  {
   "cell_type": "markdown",
   "metadata": {},
   "source": [
    "### <a name=\"subsec1\"></a> Comparison-wise Type I error rate"
   ]
  },
  {
   "cell_type": "markdown",
   "metadata": {},
   "source": [
    "The **comparison-wise Type I error rate** $\\alpha_{PC}$ is the probability of making  Type I error when performing just one specific significance test i.e. just one comparison [1]. We also have the <a href=\"https://en.wikipedia.org/wiki/Family-wise_error_rate\">familywise Type I error rate</a> [1]."
   ]
  },
  {
   "cell_type": "markdown",
   "metadata": {},
   "source": [
    "### <a name=\"subsec2\"></a> Familywise Type I error rate"
   ]
  },
  {
   "cell_type": "markdown",
   "metadata": {},
   "source": [
    "The **familywise Type I error rate** $\\alpha_{FW}$ is the probability of making at least one Type I error out of all of the comparison tests performed on the same data set [1]. Specifically, when the individual significance tests are independent of one another and the same level of alpha is used for each comparison, $\\alpha_{FW}$ can be estimated as [1]: "
   ]
  },
  {
   "cell_type": "markdown",
   "metadata": {},
   "source": [
    "$$\\alpha_{FW} = 1 -(1-a_{PC})^k$$"
   ]
  },
  {
   "cell_type": "markdown",
   "metadata": {},
   "source": [
    "where $k$ is the total number of comparisons to be made."
   ]
  },
  {
   "cell_type": "markdown",
   "metadata": {},
   "source": [
    "### <a name=\"subsec3\"></a> Bonferonni adjustment"
   ]
  },
  {
   "cell_type": "markdown",
   "metadata": {},
   "source": [
    "With the Bonferonni adjustment the researcher divides the desired familywise error rate by the number comparisons to be made. The result is the **adjusted alpha level** $\\alpha_{ADJ}$ [1] i.e.\n",
    "\n",
    "\n",
    "\n",
    "\n"
   ]
  },
  {
   "cell_type": "markdown",
   "metadata": {},
   "source": [
    "$$\\alpha_{ADJ} = \\frac{\\alpha_{FW}}{k}$$"
   ]
  },
  {
   "cell_type": "markdown",
   "metadata": {},
   "source": [
    "In this case the researcher views a given comparison as being statistically significant only if the obtained $p$ value is less than $\\alpha_{ADJ}$ [1]."
   ]
  },
  {
   "cell_type": "markdown",
   "metadata": {},
   "source": [
    "## <a name=\"sec2\"></a>Type II error"
   ]
  },
  {
   "cell_type": "markdown",
   "metadata": {},
   "source": [
    "A Type II error is committed every time we fail to reject $H_0$ whilst it is false. When committing a Type II error, we, incorrectly, fail to cast the results as statistically significant. "
   ]
  },
  {
   "cell_type": "markdown",
   "metadata": {},
   "source": [
    "By increasing the _power_ of the test we can minimize the probability of Type II errors. In other words, the probability of rejecting the false hypothesis is the power of the test"
   ]
  },
  {
   "cell_type": "markdown",
   "metadata": {},
   "source": [
    "$$\\beta = P(\\text{reject} ~~ H_0 | H_a ~~ \\text{is true})$$"
   ]
  },
  {
   "cell_type": "markdown",
   "metadata": {},
   "source": [
    "There are various factors that affect the power of a test as mentioned in the previous section and repeated here are "
   ]
  },
  {
   "cell_type": "markdown",
   "metadata": {},
   "source": [
    "- Actual size of the effect in the population. One definition of the effect size may be the strength of the relationship between a predictor variable and a criterion variable.\n",
    "- The $\\alpha$ level\n",
    "- Sample size"
   ]
  },
  {
   "cell_type": "markdown",
   "metadata": {},
   "source": [
    "## <a name=\"sec3\"></a> Summary"
   ]
  },
  {
   "cell_type": "markdown",
   "metadata": {},
   "source": [
    "In this section, we reviewed Type I and Type II errors. Each error occurs with a certain probability that we hope to keep small. A good test results in an erroneous decision only if the observed data are somewhat extreme. "
   ]
  },
  {
   "cell_type": "markdown",
   "metadata": {},
   "source": [
    "A type I error is often considered more dangerous and undesired than a type II error. Making\n",
    "a type I error can be compared with convicting an innocent defendant or sending a patient\n",
    "to a surgery when they do not need one."
   ]
  },
  {
   "cell_type": "markdown",
   "metadata": {},
   "source": [
    "For this reason, we design tests that bound the probability of Type I error by a preassigned small number $\\alpha$. Under this condition, we may want to minimize the probability of Type II error. "
   ]
  },
  {
   "cell_type": "markdown",
   "metadata": {},
   "source": [
    "Testing at a low level of significance, $\\alpha$, means that only a large amount of evidence can force rejection of $H_0$ . Rejecting a hypothesis at a very low level of significance\n",
    "is done with a lot of confidence that this decision is right."
   ]
  },
  {
   "cell_type": "markdown",
   "metadata": {},
   "source": [
    "## <a name=\"refs\"></a> References\n"
   ]
  },
  {
   "cell_type": "markdown",
   "metadata": {},
   "source": [
    "1. Larry Hatcher, _Advanced statistics in research. Reading, understanding and writing up data analysis results._ Shadow Finch Media LLC.\n",
    "2. <a href=\"https://www.ncbi.nlm.nih.gov/pmc/articles/PMC2996198/?report=printable\">Hypothesis testing, type I and type II errors</a>.\n",
    "3.  <a href=\"https://en.wikipedia.org/wiki/Family-wise_error_rate\">Familywise Type I error rate</a>."
   ]
  }
 ],
 "metadata": {
  "kernelspec": {
   "display_name": "Python 3 (ipykernel)",
   "language": "python",
   "name": "python3"
  },
  "language_info": {
   "codemirror_mode": {
    "name": "ipython",
    "version": 3
   },
   "file_extension": ".py",
   "mimetype": "text/x-python",
   "name": "python",
   "nbconvert_exporter": "python",
   "pygments_lexer": "ipython3",
   "version": "3.10.6"
  }
 },
 "nbformat": 4,
 "nbformat_minor": 4
}
