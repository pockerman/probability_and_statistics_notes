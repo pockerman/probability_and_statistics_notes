{
 "cells": [
  {
   "cell_type": "markdown",
   "metadata": {},
   "source": [
    "# Effect size"
   ]
  },
  {
   "cell_type": "markdown",
   "metadata": {},
   "source": [
    "## <a name=\"overview\"></a> Overview"
   ]
  },
  {
   "cell_type": "markdown",
   "metadata": {},
   "source": [
    "In this section we will go over the topic of <a href=\"https://en.wikipedia.org/wiki/Effect_size\">effect size</a>. According to Wikipedia, _...an effect size is a value measuring the strength of the relationship between two variables in a population, or a sample-based estimate of that quantity._ So an effect size is an index that shows the strength of the relationship between dependent and independent variables. "
   ]
  },
  {
   "cell_type": "markdown",
   "metadata": {},
   "source": [
    "The indices of effect size are important because they answer questions such as [1]:"
   ]
  },
  {
   "cell_type": "markdown",
   "metadata": {},
   "source": [
    "- Does the independent variable have a, powerful, effect on the dependent variable?\n",
    "- How strong is the relationship between the dependent and independent variables?\n",
    "- What is the prediction error reduction is we use scores from one variable to predict scores on another?"
   ]
  },
  {
   "cell_type": "markdown",
   "metadata": {},
   "source": [
    "## <a name=\"sec1\"></a> Effect size"
   ]
  },
  {
   "cell_type": "markdown",
   "metadata": {},
   "source": [
    "There are indeed many indices of effect size [1]: $\\eta^2$, $r^2$, $\\omega^2$ and <a href=\"https://en.wikiversity.org/wiki/Cohen%27s_d\">Cohen's $d$ statistic</a> just to name a few. These indices differ primarily with respect to the type of data they are appropriate for and the information they provide."
   ]
  },
  {
   "cell_type": "markdown",
   "metadata": {},
   "source": [
    "Compared to a null hypothesis significance test, an index of effect size may be less likely to be misinterpreted [1]. This is because the former have strong dependence on the sample size whereas the latter does not."
   ]
  },
  {
   "cell_type": "markdown",
   "metadata": {},
   "source": [
    "We have already mentioned that there is a number of indices of effect size. The majority of them can be classified in either one of the two categories [1]:"
   ]
  },
  {
   "cell_type": "markdown",
   "metadata": {},
   "source": [
    "- Standardized difference indices\n",
    "- Variance accounted for indices"
   ]
  },
  {
   "cell_type": "markdown",
   "metadata": {},
   "source": [
    "### <a name=\"subsec1\"></a> Standardized difference indices"
   ]
  },
  {
   "cell_type": "markdown",
   "metadata": {},
   "source": [
    "An index in this category, indicates the size of the difference between two means [1]. This is measured in terms of standard deviations [1]. A very common example is Cohen's $d$ statistic. For a study with two independent samples the $d$ statistic is computed as "
   ]
  },
  {
   "cell_type": "markdown",
   "metadata": {},
   "source": [
    "$$d = \\frac{\\bar{x}_1 - \\bar{x}_2}{s_p}$$"
   ]
  },
  {
   "cell_type": "markdown",
   "metadata": {},
   "source": [
    "where $s_p$ is the so called pooled estimate of the population standard deviation. Other statistics in the category include <a href=\"https://www.itl.nist.gov/div898/software/dataplot/refman2/auxillar/hedgeg.htm\">Hedge's $g$ statistic</a> and Glass's $\\Delta$ statistic."
   ]
  },
  {
   "cell_type": "markdown",
   "metadata": {},
   "source": [
    "### <a name=\"subsec2\"></a> Variance accounted for indices"
   ]
  },
  {
   "cell_type": "markdown",
   "metadata": {},
   "source": [
    "In this category, an index communicates the percent of variance in the dependent variable that is accounted for by the independent variables. Recall for example the <a herf=\"https://en.wikipedia.org/wiki/Coefficient_of_determination\">**coefficient of determination**</a> $r^2$ from simple linear regression. When the independent variable(s) does not do a good job in explaining the dependent variable, an index in this category will typically be zero. On the other hand, if the independent variables perfectly account for the scores in the dependent variable, such an index will, typically, be one or $100\\%$."
   ]
  },
  {
   "cell_type": "markdown",
   "metadata": {},
   "source": [
    "### <a name=\"subsec3\"></a> Interpreting the calculate indices"
   ]
  },
  {
   "cell_type": "markdown",
   "metadata": {},
   "source": [
    "Ok so we have calculated the index or indexes that we see fit in our study. We now need to interpret the results. We won't go much in detail here. For further insights on the topic the reader is referred to [1] and the references therein. "
   ]
  },
  {
   "cell_type": "markdown",
   "metadata": {},
   "source": [
    "For  standardized difference indices, Cohen provided several real world examples of differences. He classified these differences as small, medium and large [1]. The size of the effect would be classified as follows [1]"
   ]
  },
  {
   "cell_type": "markdown",
   "metadata": {},
   "source": [
    "| d           | Size of the effect |\n",
    "| ----------- | ------------------ |\n",
    "| $\\pm$ 0.2   | Small              |\n",
    "| $\\pm$ 0.5   | Medium             |\n",
    "| $\\pm$ 0.8   | Large              |"
   ]
  },
  {
   "cell_type": "markdown",
   "metadata": {},
   "source": [
    "Cohen also gave the following criteria for interpreting the size of the Pearson correlation coefficient [1]"
   ]
  },
  {
   "cell_type": "markdown",
   "metadata": {},
   "source": [
    "| $\\rho$           | Size of the effect |\n",
    "| ----------- | ------------------ |\n",
    "| $\\pm$ 0.1   | Small              |\n",
    "| $\\pm$ 0.3   | Medium             |\n",
    "| $\\pm$ 0.5   | Large              |"
   ]
  },
  {
   "cell_type": "markdown",
   "metadata": {},
   "source": [
    "## <a name=\"sum\"></a> Summary"
   ]
  },
  {
   "cell_type": "markdown",
   "metadata": {},
   "source": [
    "In this section we reviewed the topic of effect size. An effect size is a value measuring the strength of the relationship between two variables in a population [2]. Thus when we think effect size we should think strength [1]. There are many indices of effect size. Most of them fall in either of the two categories:"
   ]
  },
  {
   "cell_type": "markdown",
   "metadata": {},
   "source": [
    "- Standardized difference indices\n",
    "- Variance accounted for indices"
   ]
  },
  {
   "cell_type": "markdown",
   "metadata": {},
   "source": [
    "The indices of effect size are important because they answer questions such as:"
   ]
  },
  {
   "cell_type": "markdown",
   "metadata": {},
   "source": [
    "- Does the independent variable have a, powerful, effect on the dependent variable?\n",
    "- How strong is the relationship between the dependent and independent variables?\n",
    "- What is the prediction error reduction is we use scores from one variable to predict scores on another?"
   ]
  },
  {
   "cell_type": "markdown",
   "metadata": {},
   "source": [
    "## <a name=\"refs\"></a> References"
   ]
  },
  {
   "cell_type": "markdown",
   "metadata": {},
   "source": [
    "1. Larry Hatcher, _Advanced statistics in research_, Shadow Finch Media.\n",
    "2. <a href=\"https://en.wikipedia.org/wiki/Effect_size\">Effect size</a>"
   ]
  }
 ],
 "metadata": {
  "kernelspec": {
   "display_name": "Python 3 (ipykernel)",
   "language": "python",
   "name": "python3"
  },
  "language_info": {
   "codemirror_mode": {
    "name": "ipython",
    "version": 3
   },
   "file_extension": ".py",
   "mimetype": "text/x-python",
   "name": "python",
   "nbconvert_exporter": "python",
   "pygments_lexer": "ipython3",
   "version": "3.10.6"
  }
 },
 "nbformat": 4,
 "nbformat_minor": 4
}
