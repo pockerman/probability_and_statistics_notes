{
 "cells": [
  {
   "cell_type": "markdown",
   "metadata": {},
   "source": [
    "# Testing distributions"
   ]
  },
  {
   "cell_type": "markdown",
   "metadata": {},
   "source": [
    "* [Overview](#overview) \n",
    "* [Testing distributions](#sec1)\n",
    "* [Summary](#sum)\n",
    "* [References](#refs)"
   ]
  },
  {
   "cell_type": "markdown",
   "metadata": {},
   "source": [
    "## Overview"
   ]
  },
  {
   "cell_type": "markdown",
   "metadata": {},
   "source": [
    "The previous section introduced the $\\chi^2$ test. In this section we use this statistic in order to test whether the data belong to a particular distribution."
   ]
  },
  {
   "cell_type": "markdown",
   "metadata": {},
   "source": [
    "## Testing distributions"
   ]
  },
  {
   "cell_type": "markdown",
   "metadata": {},
   "source": [
    "Frequently we want to know whether the data we are working on follow a specific distribution. Surely, we can use histograms in order to get an idea of how the empirical data is distributed but histograms introduce binning bias; we may interpret the results differently depending on the number of bins we use. We can use the hypothesis testing framework we saw a few sections ago in order to test the hypothesis that the data follow a specific distribution."
   ]
  },
  {
   "cell_type": "markdown",
   "metadata": {},
   "source": [
    "More formally, consider the sample $(x_1, \\dots x_n)$ from a distribution $F$. Foe a given known distribution $F_0$, we want to test the following "
   ]
  },
  {
   "cell_type": "markdown",
   "metadata": {},
   "source": [
    "$$H_0: F = F_0 ~~\\text{vs}~~ H_a: F \\neq F_0$$"
   ]
  },
  {
   "cell_type": "markdown",
   "metadata": {},
   "source": [
    "How can we perform such a test? "
   ]
  },
  {
   "cell_type": "markdown",
   "metadata": {},
   "source": [
    "In order to conduct the test above, we take all possible values of the variable $X$ under $F_0$. We split\n",
    "these values into $N$ bins $b_1, \\dots, b_N$ [1]. In general we require that each bin has a sufficiently high expected count of values. A rule of thumb requires anywhere from 5 to 8 bins [1]. "
   ]
  },
  {
   "cell_type": "markdown",
   "metadata": {},
   "source": [
    "----\n",
    "\n",
    "**Remark**\n",
    "\n",
    "The set of all possible values of $X$ under $F_0$ is called the support of $F_0$ [1]\n",
    "\n",
    "----"
   ]
  },
  {
   "cell_type": "markdown",
   "metadata": {},
   "source": [
    "The observed count for the k-th bin is the number of $X_i$ that fall into $b_k$. More formally [1], "
   ]
  },
  {
   "cell_type": "markdown",
   "metadata": {},
   "source": [
    "$$Obs(k) = \\# \\{i=1, \\dots n: X_i \\in b_k\\}$$"
   ]
  },
  {
   "cell_type": "markdown",
   "metadata": {},
   "source": [
    "Now if the null hypothesis is true and all $X_i$ follow $F_0$ , then $Obs(k)$, i.e. the number of “successes” in $n$ trials, has Binomial distribution with parameters $n$ and $p_k$ where the latter is given by \n"
   ]
  },
  {
   "cell_type": "markdown",
   "metadata": {},
   "source": [
    "$$p_k = F_0 (b_k ) = p \\{X_i \\in b_k | H_0 \\}.$$"
   ]
  },
  {
   "cell_type": "markdown",
   "metadata": {},
   "source": [
    "Then, the corresponding expected count is the expected value of this Binomial distribution i.e. [1]"
   ]
  },
  {
   "cell_type": "markdown",
   "metadata": {},
   "source": [
    "$$Exp(k) = np_k = nF_0(b_k)$$"
   ]
  },
  {
   "cell_type": "markdown",
   "metadata": {},
   "source": [
    "Let's make the above more concrete by considering some numerical examples. We will use the example 10.1 from [1] at page 307. "
   ]
  },
  {
   "cell_type": "code",
   "execution_count": 1,
   "metadata": {},
   "outputs": [],
   "source": [
    "from scipy.stats import chisquare"
   ]
  },
  {
   "cell_type": "code",
   "execution_count": 2,
   "metadata": {},
   "outputs": [
    {
     "data": {
      "text/plain": [
       "Power_divergenceResult(statistic=5.2, pvalue=0.39196289159963393)"
      ]
     },
     "execution_count": 2,
     "metadata": {},
     "output_type": "execute_result"
    }
   ],
   "source": [
    "# The observed results 1 2 3 4 5 6\n",
    "f_obs = [20, 15, 12, 17, 9, 17]\n",
    "\n",
    "# the expected results\n",
    "f_exp = [15, 15, 15, 15, 15, 15]\n",
    "\n",
    "# compute the chi^2 statistic\n",
    "chisquare(f_obs, f_exp)"
   ]
  },
  {
   "cell_type": "markdown",
   "metadata": {},
   "source": [
    "The $p-$value is "
   ]
  },
  {
   "cell_type": "markdown",
   "metadata": {},
   "source": [
    "$$p = p(\\chi^2 \\geq 5.2) = 0.3919$$"
   ]
  },
  {
   "cell_type": "markdown",
   "metadata": {},
   "source": [
    "This means that no significant evidence exists that the die was biased."
   ]
  },
  {
   "cell_type": "markdown",
   "metadata": {},
   "source": [
    "## Summary"
   ]
  },
  {
   "cell_type": "markdown",
   "metadata": {},
   "source": [
    "In this section we reviewed one of the main use cases of a $\\chi^2$ test. Namely testing whether the data follows an assumed distribution $F_0$. "
   ]
  },
  {
   "cell_type": "markdown",
   "metadata": {},
   "source": [
    "## References"
   ]
  },
  {
   "cell_type": "markdown",
   "metadata": {},
   "source": [
    "1. Michael Baron, _Probability and statistics for computer scientists_, 2nd Edition, CRC Press."
   ]
  }
 ],
 "metadata": {
  "kernelspec": {
   "display_name": "Python 3",
   "language": "python",
   "name": "python3"
  },
  "language_info": {
   "codemirror_mode": {
    "name": "ipython",
    "version": 3
   },
   "file_extension": ".py",
   "mimetype": "text/x-python",
   "name": "python",
   "nbconvert_exporter": "python",
   "pygments_lexer": "ipython3",
   "version": "3.8.10"
  }
 },
 "nbformat": 4,
 "nbformat_minor": 4
}
