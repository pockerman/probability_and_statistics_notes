{
 "cells": [
  {
   "cell_type": "markdown",
   "id": "feb69e8e-f95d-4106-816d-e2bff503a34c",
   "metadata": {},
   "source": [
    "# Compare Two Estimators Using Risk Functions"
   ]
  },
  {
   "cell_type": "markdown",
   "id": "369166f4-c544-4562-bcb5-f16b3635e9be",
   "metadata": {},
   "source": [
    "## Overview"
   ]
  },
  {
   "cell_type": "markdown",
   "id": "2f796042-82b1-45b9-8775-5275f1110c17",
   "metadata": {},
   "source": [
    " In order to compare two estimators we can compare their risk functions. However, this does not provide always a clear answer. "
   ]
  },
  {
   "cell_type": "markdown",
   "id": "96efb04e-5e82-467f-b51b-5bdcf3b291c9",
   "metadata": {},
   "source": [
    "## Compare Two Estimators Using Risk Functions "
   ]
  },
  {
   "cell_type": "markdown",
   "id": "5517bdb1-7eb5-489f-9550-f158e748c8ec",
   "metadata": {},
   "source": [
    "Although we can compare estimators by comparing their risk functions, this may not always provide a clear answer \n",
    "to the question which estimator to choos. Let's consider the example below taken from [1]"
   ]
  },
  {
   "cell_type": "markdown",
   "id": "33626fe6-aafa-4ae1-aef7-80f877d04384",
   "metadata": {},
   "source": [
    "**Example 1**"
   ]
  },
  {
   "cell_type": "markdown",
   "id": "dcb4c7e3-092d-470c-89ff-c49b8a8eb7ff",
   "metadata": {},
   "source": [
    "The example highlights that in order to be able to compare estimators using their risk functions, we need \n",
    "one number that summarises the risk function [1]. Two such summaries are the maximum risk and Bayes risk."
   ]
  },
  {
   "cell_type": "code",
   "execution_count": null,
   "id": "c5716d19-600b-4029-ba64-c0172e015264",
   "metadata": {},
   "outputs": [],
   "source": [
    "import numpy as np"
   ]
  },
  {
   "cell_type": "code",
   "execution_count": null,
   "id": "1a1ea397-255f-42d4-94f9-989da497e353",
   "metadata": {},
   "outputs": [],
   "source": [
    "def estimator_1(x):\n",
    "    return x\n",
    "\n",
    "def estimator_2(x):\n",
    "    return 3.0\n",
    "\n",
    "def risk_1(theta):\n",
    "    pass"
   ]
  },
  {
   "cell_type": "markdown",
   "id": "511389ae-3b26-4c14-ac9e-3df4b72ab425",
   "metadata": {},
   "source": [
    "----\n",
    "**Maximum risk**\n",
    "\n",
    "The maximum risk associated with a risk function is [1]\n",
    "\n",
    "$$R_{max}(\\hat{\\theta})=sup_{\\theta}R(\\theta, \\hat{\\theta})$$\n",
    "\n",
    "----\n"
   ]
  },
  {
   "cell_type": "markdown",
   "id": "eca0571c-8b9c-4be4-b26c-7c2f3fb3a265",
   "metadata": {},
   "source": [
    "----\n",
    "**Bayes risk**\n",
    "\n",
    "The Bayes risk associated with a risk function is [1]\n",
    "\n",
    "$$r(f, \\hat{\\theta})=\\int R(\\theta, \\hat{\\theta})f(\\theta)d\\theta$$\n",
    "\n",
    "\n",
    "where $f(\\theta)$ is a prior for $\\theta$.\n",
    "\n",
    "----"
   ]
  },
  {
   "cell_type": "markdown",
   "id": "ae8d7350-f776-46bf-bb6a-abbe3af320dd",
   "metadata": {},
   "source": [
    "Both approaches provide a one number summary. However, the provided summaries may not be perfect and, \n",
    "for the case of the Bayes risk, one also have to choose the prior $f$. Un some case both approaches\n",
    "may provide qualitatively the same results. This is illustrated in the example below."
   ]
  },
  {
   "cell_type": "markdown",
   "id": "b9c84270-cdd8-4629-adc4-8131993792b7",
   "metadata": {},
   "source": [
    "**Example 2**"
   ]
  },
  {
   "cell_type": "markdown",
   "id": "51f6989c-2a32-49ec-ba30-782036f523ef",
   "metadata": {},
   "source": [
    "The two approaches to summarising risk functions suggest two different methods for devising estimators; <a href=\"https://en.wikipedia.org/wiki/Minimax_estimator\">minimax estimators</a> and <a href=\"https://en.wikipedia.org/wiki/Bayes_estimator\">Bayes' estimators</a>."
   ]
  },
  {
   "cell_type": "markdown",
   "id": "b9fb041e-d29c-4f39-a6f9-1d0dd2170d5e",
   "metadata": {},
   "source": [
    "## Summary"
   ]
  },
  {
   "cell_type": "markdown",
   "id": "b042a4e0-4277-47af-b34a-73abdb70288f",
   "metadata": {},
   "source": [
    "In this section, we illustrated why risk functions may be inadequate for comparing estimators. \n",
    "In particular we saw that following this approach may put as in a situation that the\n",
    "decision that we are making depends on the region of the parameter space we are looking at.\n"
   ]
  },
  {
   "cell_type": "markdown",
   "id": "8d8c8376-f813-4466-b542-b450b26b00d9",
   "metadata": {},
   "source": [
    "We then introduced two summaries for comparing risk functions; maximum risk and Bayes' risk.\n",
    "These approaches allow us to understand the behaviour of a risk function\n",
    "more globally. However, we saw that they are not defect free."
   ]
  },
  {
   "cell_type": "markdown",
   "id": "ae9993ad-d31c-431b-99cc-0e5fb8811bef",
   "metadata": {},
   "source": [
    "The two approaches to summarising risk functions suggest two different methods for devising estimators; <a href=\"https://en.wikipedia.org/wiki/Minimax_estimator\">minimax estimators</a> and <a href=\"https://en.wikipedia.org/wiki/Bayes_estimator\">Bayes' estimators</a>."
   ]
  },
  {
   "cell_type": "markdown",
   "id": "b93d422e-20dd-4e10-a69e-ea028bc06df4",
   "metadata": {},
   "source": [
    "## References"
   ]
  },
  {
   "cell_type": "markdown",
   "id": "d59e02e7-addc-42b4-b977-3ea94edf46bd",
   "metadata": {},
   "source": [
    "1. Larry Wasserman, _All of Statistics. A Concise Course in Statistical Inference_, Springer 2003."
   ]
  }
 ],
 "metadata": {
  "kernelspec": {
   "display_name": "Python 3 (ipykernel)",
   "language": "python",
   "name": "python3"
  },
  "language_info": {
   "codemirror_mode": {
    "name": "ipython",
    "version": 3
   },
   "file_extension": ".py",
   "mimetype": "text/x-python",
   "name": "python",
   "nbconvert_exporter": "python",
   "pygments_lexer": "ipython3",
   "version": "3.10.6"
  }
 },
 "nbformat": 4,
 "nbformat_minor": 5
}
