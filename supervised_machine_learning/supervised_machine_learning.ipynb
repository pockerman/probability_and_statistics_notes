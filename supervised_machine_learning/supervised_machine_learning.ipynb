{
 "cells": [
  {
   "cell_type": "markdown",
   "id": "90d4f050-a036-4027-8b11-767fc5b335d1",
   "metadata": {},
   "source": [
    "# Supervised Machine Learning"
   ]
  },
  {
   "cell_type": "markdown",
   "id": "c0020f89-16b1-4c0c-9eb5-bce4b844abbb",
   "metadata": {},
   "source": [
    "In this part of the notes we will look into various supervised machine learning methodologies. \n",
    "Supervised machine learning models fall into two categories; regression and classiifcation."
   ]
  },
  {
   "cell_type": "markdown",
   "id": "37cf0e72-cd64-4a0b-aa63-5d0c850e0d1c",
   "metadata": {},
   "source": [
    "In regression modelling the output is a real number whilst in classification the output will be \n",
    "an index indicating a class label."
   ]
  },
  {
   "cell_type": "markdown",
   "id": "1563795e-a69b-437f-b74c-c75417b77bd8",
   "metadata": {},
   "source": [
    "We define the error rate of a classifier as, [1],"
   ]
  },
  {
   "cell_type": "markdown",
   "id": "36ead737-b9e5-47f0-a0a6-1f0b3677de48",
   "metadata": {},
   "source": [
    "$$L(h)=P(h(X)\\neq Y)$$"
   ]
  },
  {
   "cell_type": "markdown",
   "id": "95a58112-70ee-4de4-9a34-420119db693e",
   "metadata": {},
   "source": [
    "The empirical or training error is defined as"
   ]
  },
  {
   "cell_type": "markdown",
   "id": "acdcc007-6133-48a6-8118-5247dd23adbb",
   "metadata": {},
   "source": [
    "$$\\hat{L(h)}=\\frac{1}{N}\\sum_i^NI(h(x_i)\\neq y_i)$$"
   ]
  },
  {
   "cell_type": "markdown",
   "id": "6d17176a-1b93-4f40-ae24-b844b2c8d7f9",
   "metadata": {},
   "source": []
  },
  {
   "cell_type": "markdown",
   "id": "1358ca7e-8073-4822-8be2-d86f4d1e6261",
   "metadata": {},
   "source": [
    "## References"
   ]
  },
  {
   "cell_type": "markdown",
   "id": "94016a5c-648a-446f-b92e-d348bbfabba8",
   "metadata": {},
   "source": [
    "1. Larry Wasserman, _All of Statistics. A Concise Course in Statistical Inference_, Springer 2003."
   ]
  }
 ],
 "metadata": {
  "kernelspec": {
   "display_name": "Python 3 (ipykernel)",
   "language": "python",
   "name": "python3"
  },
  "language_info": {
   "codemirror_mode": {
    "name": "ipython",
    "version": 3
   },
   "file_extension": ".py",
   "mimetype": "text/x-python",
   "name": "python",
   "nbconvert_exporter": "python",
   "pygments_lexer": "ipython3",
   "version": "3.10.6"
  }
 },
 "nbformat": 4,
 "nbformat_minor": 5
}
