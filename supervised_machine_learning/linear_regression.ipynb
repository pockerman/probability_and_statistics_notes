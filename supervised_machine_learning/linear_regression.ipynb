{
 "cells": [
  {
   "cell_type": "markdown",
   "metadata": {},
   "source": [
    "# Linear Regression"
   ]
  },
  {
   "cell_type": "markdown",
   "metadata": {},
   "source": [
    "## <a name=\"overview\"></a> Overview"
   ]
  },
  {
   "cell_type": "markdown",
   "metadata": {},
   "source": [
    "The two dominant types of models in supervised learning are <a href=\"https://en.wikipedia.org/wiki/Regression_analysis\">regression</a> \n",
    "and classification modeling. In the former, the output of the model is a real value whilst for the latter it is a class index.  More generally, in regression modeling we associate an input vector $\\mathbf{x} \\in \\mathbb{R}^N$ with a continuous variable $y\\in \\mathbb{R}$ whilst in classification modeling the vector $\\mathbf{x}$  is associated with a $y \\in \\mathbb{N}$. There are various models we can use for regression modeling e.g. k-nearest neighbors or decision trees. In this section however, we restrict attention to a more humble approach and perhaps one of the most known statistical modeling approaches i.e. the <a href=\"https://en.wikipedia.org/wiki/Linear_regression\">linear regression model</a>.  "
   ]
  },
  {
   "cell_type": "markdown",
   "metadata": {},
   "source": [
    "Linear regression was the first type of regression analysis to be studied rigorously, and to be used extensively in practical applications [1]. This is because models which depend linearly on their unknown parameters are easier to fit than models which are non-linearly related to their parameters and because the statistical properties of the resulting estimators are easier to determine [1].\n"
   ]
  },
  {
   "cell_type": "markdown",
   "metadata": {},
   "source": [
    "## <a name=\"sec1\"></a> Linear regression"
   ]
  },
  {
   "cell_type": "markdown",
   "metadata": {},
   "source": [
    "In Statistics, linear regression uses a linear model in order to represent the relationship between a scalar target \n",
    "variable  $y$ and one or more explanatory variables $x_1, \\dots, x_k $ [1]. The variables $y$ and $x_i$ are also known as dependent and independent variables respectively [1]. When only one explanatory variable is used the method is also called **simple linear regression**. When  more than one explanatory variables are involved, then the process is called **multiple linear regression** [1]. We will discuss multiple linear regression in the next section. "
   ]
  },
  {
   "cell_type": "markdown",
   "metadata": {},
   "source": [
    "----\n",
    "\n",
    "**Generalized linear models**\n",
    "\n",
    "The linear regression model that we consider in this chapter, falls under the umbrella of <a href=\"https://en.wikipedia.org/wiki/Generalized_linear_model\"> generalized linear models</a>. \n",
    "\n",
    "----"
   ]
  },
  {
   "cell_type": "markdown",
   "metadata": {},
   "source": [
    "Let's assume a given data set $\\mathbb{D}^{n \\times m}$. Our aim is to fit a linear model within this data set. In particular, we are intersted in \n",
    "fitting models of the following form"
   ]
  },
  {
   "cell_type": "markdown",
   "metadata": {},
   "source": [
    "$$y = w_0 + w_1x_1+ \\dots + w_{m}x_m + \\epsilon \\tag{1}$$"
   ]
  },
  {
   "cell_type": "markdown",
   "metadata": {},
   "source": [
    "where $\\epsilon$ represents some error term with $E\\left[\\epsilon |\\mathbb{D}^{n \\times m}\\right]=0$ and \n",
    "$Var\\left[\\epsilon |\\mathbb{D}^{n \\times m}\\right]=\\sigma^2$. Notice that we can say something about the error of the model given the data $\\mathbb{D}^{n \\times m}$. In this chapter we will assume that $\\epsilon$ follows a normal distribution:\n",
    "\n",
    "$$\\epsilon \\sim N(0, \\sigma^2)$$\n",
    "\n",
    "In this case the <a href=\"https://en.wikipedia.org/wiki/Maximum_likelihood_estimation\">maximum likelihood estimate</a> (MLE) of $\\mathbf{w}$ i.e.\n",
    "\n",
    "$$\\mathbf{\\hat{w}} = argmax_{\\mathbf{w}} log p(\\mathbb{D}^{n \\times m}|\\mathbf{w})$$\n",
    "\n",
    "coincides with the ordinary least squares estimate [4]. Where the vector  $\\mathbf{w}$ stacks the coefficients $w_i$. The term $w_0$ is the bias or interception term. \n",
    "The rest of the weights represent the amount that $y$ changes when the variable associated with that specific weight changes given that the rest of the variables remain the same."
   ]
  },
  {
   "cell_type": "markdown",
   "metadata": {},
   "source": [
    "----\n",
    "**Definition: Statndard Statistical Model**\n",
    "\n",
    "The standard statistical model says that the observed value $y$ is a linear function of $x$ plus random noise [5]\n",
    "\n",
    "$$y_i = w_0 + w_1x_i + \\epsilon_i \\label{eq:eq2}\\tag{2}$$\n",
    "\n",
    "where $\\epsilon_i$ are independent variables with \n",
    "\n",
    "$$E\\left[\\epsilon_i\\right]=0, Var\\left[\\epsilon_i\\right]=\\sigma^2$$\n",
    "\n",
    "\n",
    "Notice that the standard statistical model stipulates that the errors have constant variance that does not depent on $x$.\n",
    "Errors with this property are said to be **homoscedastic** [5].\n",
    "\n",
    "----"
   ]
  },
  {
   "cell_type": "markdown",
   "metadata": {},
   "source": [
    "----\n",
    "\n",
    "**Remark**\n",
    "\n",
    "Note that the term linear refers to the weights and not to the functional form of the features. \n",
    "Therefore, the following is also under the umbrella of the linear regression model\n",
    "\n",
    "$$y = w_0 + w_1x_{1}^2+ \\dots + w_{m}x_{m}^2 + \\epsilon$$\n",
    "\n",
    "although this is not a linear model with respect to the features.\n",
    "\n",
    "The intercept $w_0$ represents the value of the regression function at $x = 0$. \n",
    "Sometimes $w_0$ has no physical meaning e.g. we are not particularly interested in the value of a computer with 0 RAM access. \n",
    "In other cases, this term is quite important. For example, according to the Ohm’s Law $(V = R I)$\n",
    "the voltage across an ideal conductor is proportional to the current. A non-zero intercept $(V = V0 + R I)$ \n",
    "would show that the circuit is not ideal, and there is an external loss of voltage.\n",
    "\n",
    "----"
   ]
  },
  {
   "cell_type": "markdown",
   "metadata": {},
   "source": [
    "Given the assumed functional form among the independent variables, we need to estimate the weights $w_i$. This is done by fitting the model in the available data. \n",
    "We can use the least squares methodology in order to find the best fit. "
   ]
  },
  {
   "cell_type": "markdown",
   "metadata": {},
   "source": [
    "### <a name=\"sub_sec_1\"></a> Fitting the model"
   ]
  },
  {
   "cell_type": "markdown",
   "metadata": {},
   "source": [
    "Linear regression models are often fitted using the <a href=\"https://en.wikipedia.org/wiki/Least_squares\">least squares approach</a>. \n",
    "However, they may also be fitted in other ways, such as by minimizing the _lack of fit_ in some other norm (as with least absolute deviations regression), \n",
    "or by minimizing a penalized version of the least squares cost function as in ridge regression (L2-norm penalty) and lasso (L1-norm penalty) [1]. \n",
    "We will see such approaches when discussing model overfitting. We discuss ordinary least squares in  [Chapter -@sec-leastsquares], the solution from therein is "
   ]
  },
  {
   "cell_type": "markdown",
   "metadata": {},
   "source": [
    "\\begin{equation}\n",
    "\\mathbf{\\hat{w}}_{OLS} = \\left( \\mathbf{X}^T \\mathbf{X}\\right )^{-1}\\mathbf{X}^T\\mathbf{y} \\tag{2}\n",
    "\\end{equation}"
   ]
  },
  {
   "cell_type": "markdown",
   "metadata": {},
   "source": [
    "For the OLS estimate we have the following theorem [5]\n",
    "\n",
    "----\n",
    "**Theorem**\n",
    "\n",
    "Under the assumptions of the standard staistical model i.e. $E\\left[\\epsilon_i\\right]=0$ and $Var\\left[\\epsilon_i\\right]=\\sigma^2$,\n",
    "the least squares estimate $\\mathbf{\\hat{w}}_{OLS}$ is unbiased i.e.\n",
    "\n",
    "$$E\\left[\\mathbf{\\hat{w}}_{OLS}\\right]=\\mathbf{w}$$\n",
    "\n",
    "\n",
    "----"
   ]
  },
  {
   "cell_type": "markdown",
   "metadata": {},
   "source": [
    "----\n",
    "**Remark**\n",
    "\n",
    "Let's assume for a moment that we accidentally duplicate every data point, the estimate above remains unchanged.\n",
    "Indeed the matrix $\\mathbf{X}$ becomes\n",
    "\n",
    "\\begin{equation}\n",
    "\\mathbf{X} = \\begin{pmatrix}\n",
    "\\mathbf{X} \\\\\n",
    "\\mathbf{X}\n",
    "\\end{pmatrix}\n",
    "\\end{equation}\n",
    "\n",
    "so the expression above gives\n",
    "\n",
    "\\begin{equation}\n",
    "\\mathbf{\\hat{w}}_{OLS} = \\left(2\\mathbf{X}^T\\mathbf{X}\\right)^{-1}2\\mathbf{X}^T\\mathbf{y} \\label{eq:eq3}\\tag{3}\n",
    "\\end{equation}\n",
    "\n",
    "\n",
    "Thus, the estimate does not chanage. But the calculated variance matrix becomes \n",
    "\\begin{equation}\n",
    "\\frac{\\sigma^2}{2}\\left(\\mathbf{X}^T\\mathbf{X}\\right)^{−1}\n",
    "\\end{equation}\n",
    "\n",
    "This is half of the correct value. Consequently the confidence intervals will shrink with a factor of $1/\\sqrt{2}$.\n",
    "The reason behind this  is that the calculation assumes that the data is i.i.d. which is not true; the pair of doubled values obviously have a correlation equal to 1.0. Similarly, the value of the coefficient of determination remains the unchanged.\n",
    "\n",
    "\n",
    "---"
   ]
  },
  {
   "cell_type": "markdown",
   "metadata": {},
   "source": [
    "### Example 1"
   ]
  },
  {
   "cell_type": "markdown",
   "metadata": {},
   "source": [
    "Let's see an example using ```scikit-learn```."
   ]
  },
  {
   "cell_type": "code",
   "execution_count": 5,
   "metadata": {},
   "outputs": [],
   "source": [
    "%matplotlib inline\n",
    "import matplotlib.pyplot as plt\n",
    "import seaborn as sns; sns.set()\n",
    "import numpy as np\n",
    "from sklearn.metrics import r2_score\n",
    "from sklearn.linear_model import LinearRegression"
   ]
  },
  {
   "cell_type": "code",
   "execution_count": 6,
   "metadata": {},
   "outputs": [
    {
     "data": {
      "image/png": "[encoded data removed]",
      "text/plain": [
       "<Figure size 432x288 with 1 Axes>"
      ]
     },
     "metadata": {},
     "output_type": "display_data"
    }
   ],
   "source": [
    "rng = np.random.RandomState(1)\n",
    "x = 10 * rng.rand(50)\n",
    "y = 2 * x - 5 + rng.randn(50)\n",
    "plt.scatter(x, y);"
   ]
  },
  {
   "cell_type": "code",
   "execution_count": 11,
   "metadata": {},
   "outputs": [
    {
     "data": {
      "image/png": "[encoded data removed]",
      "text/plain": [
       "<Figure size 432x288 with 1 Axes>"
      ]
     },
     "metadata": {},
     "output_type": "display_data"
    }
   ],
   "source": [
    "\n",
    "model = LinearRegression(fit_intercept=True)\n",
    "\n",
    "model.fit(x[:, np.newaxis], y)\n",
    "\n",
    "xfit = np.linspace(0, 10, 50)\n",
    "yfit = model.predict(xfit[:, np.newaxis])\n",
    "\n",
    "plt.scatter(x, y)\n",
    "plt.plot(xfit, yfit);"
   ]
  },
  {
   "cell_type": "code",
   "execution_count": 15,
   "metadata": {},
   "outputs": [
    {
     "name": "stdout",
     "output_type": "stream",
     "text": [
      "Model slope:     2.0272088103606953\n",
      "Model intercept: -4.998577085553204\n"
     ]
    }
   ],
   "source": [
    "print(\"Model slope:    \", model.coef_[0])\n",
    "print(\"Model intercept:\", model.intercept_)"
   ]
  },
  {
   "cell_type": "markdown",
   "metadata": {},
   "source": [
    "The coefficient of determination, see section **Evaluating the model**, is  "
   ]
  },
  {
   "cell_type": "code",
   "execution_count": 14,
   "metadata": {},
   "outputs": [
    {
     "name": "stdout",
     "output_type": "stream",
     "text": [
      "Model r^2=-0.58735989521677\n"
     ]
    }
   ],
   "source": [
    "\n",
    "print(\"Model r^2={0}\".format(r2_score(y, yfit)))"
   ]
  },
  {
   "cell_type": "markdown",
   "metadata": {},
   "source": [
    "Let's verify that the loss function is indeed quadratic. We do so without accounting for the bias term."
   ]
  },
  {
   "cell_type": "code",
   "execution_count": 19,
   "metadata": {},
   "outputs": [
    {
     "data": {
      "image/png": "[encoded data removed]",
      "text/plain": [
       "<Figure size 432x288 with 1 Axes>"
      ]
     },
     "metadata": {},
     "output_type": "display_data"
    }
   ],
   "source": [
    "intersepts = np.linspace(-6.0, 6.0, 1000)\n",
    "loss = []\n",
    "for w in intersepts:\n",
    "    yfit = w * xfit\n",
    "    loss.append(sum((y - yfit)**2))  \n",
    "plt.scatter(intersepts, loss)  \n",
    "plt.xlabel('w')  \n",
    "plt.ylabel('L')  \n",
    "plt.show()"
   ]
  },
  {
   "cell_type": "markdown",
   "metadata": {},
   "source": [
    "### <a name=\"subsec3\"></a> Evaluating the model"
   ]
  },
  {
   "cell_type": "markdown",
   "metadata": {},
   "source": [
    "Now that we fitted the model in the data we want to know how good the fit is. \n",
    "In other words, we need some way(s) to assess the goodness of fit of the model to the presented data. \n",
    "One such metric, is the <a herf=\"https://en.wikipedia.org/wiki/Coefficient_of_determination\">**coefficient of determination**</a> $r^2$ [3]. "
   ]
  },
  {
   "cell_type": "markdown",
   "metadata": {},
   "source": [
    "The coefficient of determination indicates the percent of variance in $y$ that is explained or accounted for by the independent variable $x$. For linear regression involving just one predictor or independent variable, the coefficient of determination $r^2$ is just the Pearson correlation coefficient between $y$ and $x$ [3] i.e."
   ]
  },
  {
   "cell_type": "markdown",
   "metadata": {},
   "source": [
    "$$r^2 = (\\rho(y,x))^2 \\tag{3}$$"
   ]
  },
  {
   "cell_type": "markdown",
   "metadata": {},
   "source": [
    "The value of $r^2$ ranges between 0 and 1. A value of $r^2=0$ means that there is no fit at all between the model and the data, i.e. that no percentage of the variance in $y$ is explained by $x$. This means that knowing $x$, and using a linear model, tells us nothing about $y$ [3]. A value of $r^2=1$ means a perfect fit of the model and the data and $100\\%$ of the variance in $y$ is explained by $x$ or if we know $x$ then we fully know $y$."
   ]
  },
  {
   "cell_type": "markdown",
   "metadata": {},
   "source": [
    "----\n",
    "\n",
    "**Remark**\n",
    "\n",
    "The coefficient of determination belongs to a family of statistics called variance accounted for indices. Other notable members of this family are the $R^2$ coefficient for multiple regression and the $\\eta^2$ coefficient from ANOVA [3]. When we see any member of this family, we should think **percent improvement in predictive accuracy** [3].\n",
    "\n",
    "\n",
    "----"
   ]
  },
  {
   "cell_type": "markdown",
   "metadata": {},
   "source": [
    "We are also interested in the expected value, the variance as well as  confidence intervals for the obtained least squares estimates. These are given below, see also [4],"
   ]
  },
  {
   "cell_type": "markdown",
   "metadata": {},
   "source": [
    "\\begin{equation}\n",
    "E\\left[\\hat{\\mathbf{w}}_{OLS}| \\mathbb{D}^{n \\times m} \\right] = \\mathbf{w} \\label{eq:eq4}\\tag{4}\n",
    "\\end{equation}"
   ]
  },
  {
   "cell_type": "markdown",
   "metadata": {},
   "source": [
    "i.e. $\\hat{\\mathbf{w}}_{OLS}$ is an unbiased estimate of $\\mathbf{w}$. The variance of the estimate is [4]"
   ]
  },
  {
   "cell_type": "markdown",
   "metadata": {},
   "source": [
    "\\begin{equation}\n",
    "Var\\left[\\hat{\\mathbf{w}}_{OLS}| \\mathbb{D}^{n \\times m}\\right] = \\frac{\\sigma^2}{Ns^{2}_{X}} \\begin{pmatrix} \\frac{1}{N}\\sum x_{i}^2 & -\\bar{x} \\\\\n",
    "-\\bar{x} & 1\\end{pmatrix} \\label{eq:eq5}\\tag{5}\n",
    "\\end{equation}"
   ]
  },
  {
   "cell_type": "markdown",
   "metadata": {},
   "source": [
    "### <a name=\"subsec3\"></a> Model assumptions"
   ]
  },
  {
   "cell_type": "markdown",
   "metadata": {},
   "source": [
    "Mathematical models, being simplifications of phenomena, make certain assumptions and linear regression is not an exception. In this subsection we want to go over these assumptions. The assumptions below are taken from [3] and they should be met whenever we want to use bivariate regression for modeling purposes. These are"
   ]
  },
  {
   "cell_type": "markdown",
   "metadata": {},
   "source": [
    "- Linearity\n",
    "- Independence\n",
    "- Homogeneity of variance\n",
    "- Normality\n",
    "- Bivariate normality"
   ]
  },
  {
   "cell_type": "markdown",
   "metadata": {},
   "source": [
    "Let's briefly explain what each of these assumptions means in practice. Linearity means that $y$ should be a linear function of $x$ or at least a linear model is a good approximation of their dependence. Pearson's coefficient $\\rho$ and a scatter plot can tells us quantitatively and qualitatively whether this is the case or not. Independence, means that each observation $x_i$ should be drawn independently from the population of interest. For example, the researcher should take repeated measures on the same variable from the same participant [3].  Homogeneity of variance (or homoscedasticity) means that the variance of the dependent variable $Y$ should remain fairly constant at all values of $X$. The normality assumption refers to how the residuals are distributed. Specifically, these should be normally distributed [3]. However, violation of this assumption is only serious with relatively small samples. The final assumption is bivariate normality assumption.  This refers to the fact that any specific score on one of the variables, scores on the other variable should follow the normal distribution."
   ]
  },
  {
   "cell_type": "markdown",
   "metadata": {},
   "source": [
    "### Correlation and regression"
   ]
  },
  {
   "cell_type": "markdown",
   "metadata": {},
   "source": [
    "## <a name=\"sec2\"></a> Summary"
   ]
  },
  {
   "cell_type": "markdown",
   "metadata": {},
   "source": [
    "In this section, we reviewed the linear regression model. The inferences from linear regression are most accurate when the residuals behave like random normal numbers [4].\n",
    "\n",
    "\n",
    "Least squares are not robust against outliers which can have a large effect on the estimated coefficients and their standard errors."
   ]
  },
  {
   "cell_type": "markdown",
   "metadata": {},
   "source": [
    "## <a name=\"refs\"></a> References"
   ]
  },
  {
   "cell_type": "markdown",
   "metadata": {},
   "source": [
    "1. <a href=\"https://en.wikipedia.org/wiki/Linear_regression\">Linear regression model</a> \n",
    "2. Kevin P. Murphy, _Machine Learning A Probabilistic Perspective_, The MIT Press.\n",
    "3. Larry Hatcher, _Advanced statistics in research_, Shadow Finch Media.\n",
    "4. Larry Wasserman, _All of Statistics: A concise course in statistical inference_, Springer.\n",
    "5. John A. Rice, _Mathematical Statistics and Data Analysis_, Duxbury Press, 2nd Edition."
   ]
  }
 ],
 "metadata": {
  "kernelspec": {
   "display_name": "Python 3 (ipykernel)",
   "language": "python",
   "name": "python3"
  },
  "language_info": {
   "codemirror_mode": {
    "name": "ipython",
    "version": 3
   },
   "file_extension": ".py",
   "mimetype": "text/x-python",
   "name": "python",
   "nbconvert_exporter": "python",
   "pygments_lexer": "ipython3",
   "version": "3.10.12"
  }
 },
 "nbformat": 4,
 "nbformat_minor": 4
}
