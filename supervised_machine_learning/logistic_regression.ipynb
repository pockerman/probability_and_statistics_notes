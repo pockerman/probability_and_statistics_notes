{
 "cells": [
  {
   "cell_type": "markdown",
   "metadata": {},
   "source": [
    "# Logistic Regression"
   ]
  },
  {
   "cell_type": "markdown",
   "metadata": {},
   "source": [
    "* [Overview](#overview)\n",
    "* [Logistic regression](#sec1)\n",
    "    * [Fitting the model](#subsec1)\n",
    "    * [Evaluating the model](#subsec2)\n",
    "    * [Example](#subsec3) \n",
    "    * [LDA and logistic regression](#subsec4)\n",
    "* [Summary](#sum)\n",
    "* [References](#refs)"
   ]
  },
  {
   "cell_type": "markdown",
   "metadata": {},
   "source": [
    "## <a name=\"overview\"></a> Overview"
   ]
  },
  {
   "cell_type": "markdown",
   "metadata": {},
   "source": [
    "In this section, we review the <a href=\"https://en.wikipedia.org/wiki/Logistic_regression\">logistic regression</a> model. This is a simple linear classifier. We will go over the model by assuming that the dependent variable $Y$ is a **dichotomous variable** i.e. a variable that assumes two values or two classes. In particular, in this section we cover the following topics:"
   ]
  },
  {
   "cell_type": "markdown",
   "metadata": {},
   "source": [
    "- The logistic regression model \n",
    "- Estimating the model parameters\n",
    "- Model evaluation"
   ]
  },
  {
   "cell_type": "markdown",
   "metadata": {},
   "source": [
    "A nice introduction to the topic can be found at <a href=\"https://www.datacamp.com/tutorial/understanding-logistic-regression-python\">Understanding Logistic Regression in Python Tutorial</a>. An equally nice tutorial on logistic regression can be found at <a href=\"https://machinelearningmastery.com/logistic-regression-with-maximum-likelihood-estimation/\">A Gentle Introduction to Logistic Regression With Maximum Likelihood Estimation</a>."
   ]
  },
  {
   "cell_type": "markdown",
   "metadata": {},
   "source": [
    "## <a name=\"ekf\"></a> Logistic regression"
   ]
  },
  {
   "cell_type": "markdown",
   "metadata": {},
   "source": [
    "Let's consider the scenario where we are dealing with a binary classification problem i.e. two classes. \n",
    "We have a certain number of features $x_i$ and we want to predict $y_i$. A logistic regression model is very \n",
    "similar to a linear regression. Indeed, both techniques model the target variable with a line (or hyperplane, depending on the number of dimensions of input). The simple linear regression model (see [Linear Regression]) fits a line to the data $\\mathbb{D}^{n \\times m}$, that we can use it to predict a new quantity. Similarly, the  logistic regression model fits a line to best separate the two classes.\n",
    "Hence the logistic regression equation also consists of a bias term \n",
    "and separate logistic regression coefficients one for each independent variable [3]. The general logistic regression model therefore is"
   ]
  },
  {
   "cell_type": "markdown",
   "metadata": {},
   "source": [
    "$$y = w_0 + w_1x_{1}+ \\dots + w_{m}x_{m} + \\epsilon\n",
    "\\label{eq:eq1}\\tag{1}$$"
   ]
  },
  {
   "cell_type": "markdown",
   "metadata": {},
   "source": [
    "----\n",
    "**LDA and logistic regression**\n",
    "\n",
    "Logistic regression is very similar to <a href=\"https://en.wikipedia.org/wiki/Linear_discriminant_analysis\">linear discriminant analysis</a> or LDA in the sense that both lead to a linear classification rule [4]. We will say more about LDA in a next section. Indeed both approaches lead to models that are linear in $x$. The difference is how we estimate the model parameters [6]. Overall, in LDA we estimate the entire \n",
    "joint distribution $f(x, y)$ whereas in logistic regression we estimate $f(y|x)$ and do not bother estimating the marginal distribution $f(x)$ [6]. Because of the latter, logistic regression is consideredmore nonparametric than LDA.\n",
    "\n",
    "----"
   ]
  },
  {
   "cell_type": "markdown",
   "metadata": {},
   "source": [
    "As we already know, this model can produce a $y$ in the range $(-\\infty, +\\infty)$ and this is not suitable for us. In particular, this model does not force $y=0$ or $y=1$ despite the fact that sometimes it can produce a decent classifier [4]. Let us introduce the following transformation"
   ]
  },
  {
   "cell_type": "markdown",
   "metadata": {},
   "source": [
    "$$\n",
    "\\sigma(z) = \\frac{1}{1 + e^{-z}}\n",
    "\\label{eq:eq2}\\tag{2}$$"
   ]
  },
  {
   "cell_type": "markdown",
   "metadata": {},
   "source": [
    "Let's use Python to plot $\\sigma$"
   ]
  },
  {
   "cell_type": "code",
   "execution_count": 6,
   "metadata": {},
   "outputs": [],
   "source": [
    "import seaborn as sns\n",
    "import matplotlib.pyplot as plt\n",
    "import numpy as np\n",
    "sns.set()"
   ]
  },
  {
   "cell_type": "code",
   "execution_count": 7,
   "metadata": {},
   "outputs": [
    {
     "data": {
      "image/png": "[encoded data removed]",
      "text/plain": [
       "<Figure size 432x288 with 1 Axes>"
      ]
     },
     "metadata": {},
     "output_type": "display_data"
    }
   ],
   "source": [
    "z = np.linspace(-10.0, 10.0, 10000)\n",
    "\n",
    "def sigma(x):\n",
    "    return 1.0/(1.0 + np.exp(-x))\n",
    "\n",
    "plt.plot(z, sigma(z))\n",
    "plt.xlabel(\"z\")\n",
    "plt.ylabel(\"$\\sigma(z)$\")\n",
    "plt.show()"
   ]
  },
  {
   "cell_type": "markdown",
   "metadata": {},
   "source": [
    "Equation ([2](#mjx-eqn-sigmoid)) is called the <a href=\"https://en.wikipedia.org/wiki/Sigmoid_function\">sigmoid function</a>. The sigmoid function, also called logistic function, produces an ‘S’ shaped curve. It takes any real-valued number and map it into a value between 0 and 1. If the curve goes to positive infinity, then $y$ is predicted as 1, and if the curve goes to negative infinity, $y$ is predicted as 0. Another interesting property of the sigmoid function is that its derivative is given by equation ([3](#mjx-eqn-sigmoid))\n"
   ]
  },
  {
   "cell_type": "markdown",
   "metadata": {},
   "source": [
    "$$\\frac{d\\sigma}{dz}=\\sigma(z)(1-\\sigma(z))\n",
    "\\label{eq:eq3}\\tag{3}$$"
   ]
  },
  {
   "cell_type": "markdown",
   "metadata": {},
   "source": [
    "Thus the logistic regression model is given by equation ([4](#mjx-eqn-sigmoid))"
   ]
  },
  {
   "cell_type": "markdown",
   "metadata": {},
   "source": [
    "$$y = \\sigma(w_0 + w_1x_{1}+ \\dots + w_{k}x_{k}) + \\epsilon \\label{eq:eq4}\\tag{4}$$"
   ]
  },
  {
   "cell_type": "markdown",
   "metadata": {},
   "source": [
    "The model output $y$ is the logit function. It can be converted to  as a predicted probability for belonging to class 1 [3].  "
   ]
  },
  {
   "cell_type": "markdown",
   "metadata": {},
   "source": [
    "---\n",
    "\n",
    "**logit**\n",
    "\n",
    "The <a href=\"https://en.wikipedia.org/wiki/Logit\">logit</a> is defined as the inverse of the  sigmoid function i.e.\n",
    "\n",
    "$$logit(p) = \\sigma^{-1}(p) = ln\\left(\\frac{p}{1-p}\\right) \\label{eq:eq5}\\tag{5}$$\n",
    "\n",
    "The ratio of probabilities \n",
    "\n",
    "$$\\frac{p}{1-p} \\label{eq:eq6}\\tag{6}$$\n",
    "\n",
    "is called the odds. \n",
    "\n",
    "Since the odds often do not follow the shape of a normal distribution and they often display nonlinearities, we transform it using the natural logarithm i.e. the logit [3]. The following Python snippet illustrates the difference between the logit and the odds\n",
    "\n"
   ]
  },
  {
   "cell_type": "code",
   "execution_count": 1,
   "metadata": {},
   "outputs": [
    {
     "name": "stdout",
     "output_type": "stream",
     "text": [
      "Probability of event p=0.6\n",
      "Odds=1.4999999999999998\n",
      "Probability of event p=0.5\n",
      "Odds=1.0\n",
      "Probability of event p=0.3\n",
      "Odds=0.4285714285714286\n"
     ]
    }
   ],
   "source": [
    "p = 0.6\n",
    "print(\"Probability of event p={}\".format(p))\n",
    "print(\"Odds={}\".format(p/(1-p)))\n",
    "\n",
    "p = 0.5\n",
    "print(\"Probability of event p={}\".format(p))\n",
    "print(\"Odds={}\".format(p/(1-p)))\n",
    "\n",
    "p = 0.3\n",
    "print(\"Probability of event p={}\".format(p))\n",
    "print(\"Odds={}\".format(p/(1-p)))\n"
   ]
  },
  {
   "cell_type": "markdown",
   "metadata": {},
   "source": [
    "Thus the odds indicate how may times the event is more likely to occur. We can go from the logit function to $p$ using the following formula\n",
    "\n",
    "$$ p = \\frac{\\text{odds}}{\\text{odds + 1}} \\label{eq:eq7}\\tag{7}$$\n",
    "\n",
    "\n",
    "where the odds is given by\n",
    "\n",
    "$$\\text{odds} = exp(y) \\label{eq:eq8}\\tag{8}$$\n",
    "\n",
    "giving,\n",
    "\n",
    "$$ p =\\frac{1}{1 + exp(-y)} \\label{eq:eq9}\\tag{9}$$\n",
    "\n",
    "----"
   ]
  },
  {
   "cell_type": "markdown",
   "metadata": {},
   "source": [
    "### <a name=\"subsec3\"></a> Fitting the model"
   ]
  },
  {
   "cell_type": "markdown",
   "metadata": {},
   "source": [
    "We now turn our attention into fitting the model i.e. estimating the parameters $\\mathbf{w}$. In contrast to multiple linear regression model where we use a least-squares estimation, for logistic regression we use an iterative procedure. Indeed as mentioned above, with logistic regression, the output $y$ is the log-odd ration i.e. "
   ]
  },
  {
   "cell_type": "markdown",
   "metadata": {},
   "source": [
    "$$y = log\\left(\\frac{p}{1-p}\\right) \\label{eq:eq10}\\tag{10}$$"
   ]
  },
  {
   "cell_type": "markdown",
   "metadata": {},
   "source": [
    "Consider the function $l$:"
   ]
  },
  {
   "cell_type": "markdown",
   "metadata": {},
   "source": [
    "$$l = \\hat{y}y + (1-\\hat{y})(1-y) \\label{eq:eq11}\\tag{11}$$"
   ]
  },
  {
   "cell_type": "markdown",
   "metadata": {},
   "source": [
    "The function $l$ returns a large probability when the model is close to the matching class value, and a small value when it is far away. The following script confirms this"
   ]
  },
  {
   "cell_type": "code",
   "execution_count": 2,
   "metadata": {},
   "outputs": [],
   "source": [
    "def l(y, yhat):\n",
    "    return yhat * y + (1 - yhat) * (1 - y)"
   ]
  },
  {
   "cell_type": "code",
   "execution_count": 3,
   "metadata": {},
   "outputs": [
    {
     "name": "stdout",
     "output_type": "stream",
     "text": [
      "y=1, yhat=0.9 l=0.9\n",
      "y=1, yhat=0.1 l=0.1\n",
      "y=0, yhat=0.1 l=0.9\n",
      "y=0, yhat=0.9 l=0.09999999999999998\n"
     ]
    }
   ],
   "source": [
    "print(f\"y=1, yhat=0.9 l={l(1.0, 0.9)}\")\n",
    "print(f\"y=1, yhat=0.1 l={l(1.0, 0.1)}\")\n",
    "print(f\"y=0, yhat=0.1 l={l(0.0, 0.1)}\")\n",
    "print(f\"y=0, yhat=0.9 l={l(0.0, 0.9)}\")"
   ]
  },
  {
   "cell_type": "markdown",
   "metadata": {},
   "source": [
    "Taking the log transform gives us the following likelihood model"
   ]
  },
  {
   "cell_type": "markdown",
   "metadata": {},
   "source": [
    "$$l=log\\left(\\hat{y}\\right)y + log\\left(1-\\hat{y}\\right)(1-y) \\label{eq:eq12}\\tag{12}$$"
   ]
  },
  {
   "cell_type": "markdown",
   "metadata": {},
   "source": [
    "Summing the likelihood function across all examples in the dataset we get the loss function we will try to minimize"
   ]
  },
  {
   "cell_type": "markdown",
   "metadata": {},
   "source": [
    "$$L = \\sum_{i}^N log\\left(\\hat{y}_i\\right)y_i + log\\left(1-\\hat{y}_i\\right)(1-y_i) \\label{eq:eq13}\\tag{13}$$"
   ]
  },
  {
   "cell_type": "markdown",
   "metadata": {},
   "source": [
    "Unfortunately, this is a non-linear function resulting in a non-linear optimization problem. Hence, we cannot use ordinary least squares like we did with linear regression.  Therefore, an iterative optimization algorithm must be used like <a href=\"https://en.wikipedia.org/wiki/Gradient_descent\">gradient descent</a>."
   ]
  },
  {
   "cell_type": "markdown",
   "metadata": {},
   "source": [
    "### <a name=\"subsec3\"></a> Evaluating the model"
   ]
  },
  {
   "cell_type": "markdown",
   "metadata": {},
   "source": [
    "We now turn our attention into how to evaluate the goodness of fit. We address this question for the linear regress model and this will be a recurrent question for all the models we will discuss in this notes. One simple metric we can use in order to evaluate the performance of a classification algorithm is the accuracy achieved by the model. This is defined as the following ratio."
   ]
  },
  {
   "cell_type": "markdown",
   "metadata": {},
   "source": [
    "$$\\text{Accuracy} = \\frac{\\text{Number of correct classification}}{\\text{Total number of points}} \\label{eq:eq14}\\tag{14}$$"
   ]
  },
  {
   "cell_type": "markdown",
   "metadata": {},
   "source": [
    "Knowing the accuracy allows to calculate the error rate and vice versa as the two are related according to"
   ]
  },
  {
   "cell_type": "markdown",
   "metadata": {},
   "source": [
    "$$\\text{Error rate} = 1 - \\text{Accuracy} \\label{eq:eq15}\\tag{15}$$"
   ]
  },
  {
   "cell_type": "markdown",
   "metadata": {},
   "source": [
    "However, when we deal with imbalanced classes this metric is not enough and can even be misleading. A <a href=\"https://en.wikipedia.org/wiki/Confusion_matrix\">confusion matrix</a> allows us to visualize  various quality metrics associated with the goodness of fit."
   ]
  },
  {
   "cell_type": "markdown",
   "metadata": {},
   "source": [
    "### <a name=\"#\"></a> Example"
   ]
  },
  {
   "cell_type": "markdown",
   "metadata": {},
   "source": [
    "Now that we know how to fit the model in the data and evaluate it, let's go over a hands-on practical example. We will use scikit-learn. However, you can find examples in <a href=\"https://github.com/pockerman/comp_stats_scala\">Scala</a>. For simple Python implementations you can check <a href=\"https://machinelearningmastery.com/implement-logistic-regression-stochastic-gradient-descent-scratch-python/\">How To Implement Logistic Regression From Scratch in Python</a> or [5]. The following example is taken from the official <a href=\"https://scikit-learn.org/stable/modules/generated/sklearn.linear_model.LogisticRegression.html\">scikit-learn documentation</a>. "
   ]
  },
  {
   "cell_type": "code",
   "execution_count": 7,
   "metadata": {},
   "outputs": [],
   "source": [
    "from sklearn.linear_model import LogisticRegression\n",
    "from sklearn.datasets import load_iris"
   ]
  },
  {
   "cell_type": "code",
   "execution_count": 8,
   "metadata": {},
   "outputs": [],
   "source": [
    "# load data and classes\n",
    "X, y = load_iris(return_X_y=True)\n"
   ]
  },
  {
   "cell_type": "code",
   "execution_count": 9,
   "metadata": {},
   "outputs": [
    {
     "name": "stderr",
     "output_type": "stream",
     "text": [
      "/home/alex/.local/lib/python3.8/site-packages/sklearn/linear_model/_logistic.py:762: ConvergenceWarning: lbfgs failed to converge (status=1):\n",
      "STOP: TOTAL NO. of ITERATIONS REACHED LIMIT.\n",
      "\n",
      "Increase the number of iterations (max_iter) or scale the data as shown in:\n",
      "    https://scikit-learn.org/stable/modules/preprocessing.html\n",
      "Please also refer to the documentation for alternative solver options:\n",
      "    https://scikit-learn.org/stable/modules/linear_model.html#logistic-regression\n",
      "  n_iter_i = _check_optimize_result(\n"
     ]
    },
    {
     "data": {
      "text/plain": [
       "LogisticRegression(random_state=0)"
      ]
     },
     "execution_count": 9,
     "metadata": {},
     "output_type": "execute_result"
    }
   ],
   "source": [
    "clf = LogisticRegression(random_state=0)\n",
    "clf.fit(X, y)"
   ]
  },
  {
   "cell_type": "code",
   "execution_count": 10,
   "metadata": {},
   "outputs": [
    {
     "data": {
      "text/plain": [
       "0.9733333333333334"
      ]
     },
     "execution_count": 10,
     "metadata": {},
     "output_type": "execute_result"
    }
   ],
   "source": [
    "# the mean accuracy over the data points\n",
    "clf.score(X, y)"
   ]
  },
  {
   "cell_type": "markdown",
   "metadata": {},
   "source": [
    "## Summary"
   ]
  },
  {
   "cell_type": "markdown",
   "metadata": {},
   "source": [
    "In this section we touched upon the logistic regression model. This is simple linear classifier (in terms of the weights) that has low computational cost. It works both with numeric and nominal values. However, as a linear model, cannot handle cases where the decision boundary is non-linear. Thus, it is a model that may exhibit high bias and therefore exhibit underfitting."
   ]
  },
  {
   "cell_type": "markdown",
   "metadata": {},
   "source": [
    "The logistic regression model is similar to the linear regression equation; it consists of a bias term and separate logistic regression coefficients one for each independent variable. The logistic or sigmoid function is used in order to map the $(-\\infty, +\\infty)$ interval that typically is the range of values for the linear regression model to the $[0,1]$ range. The output of the model is the so-called logit or log-odds. "
   ]
  },
  {
   "cell_type": "markdown",
   "metadata": {},
   "source": [
    "## <a name=\"refs\"></a> References"
   ]
  },
  {
   "cell_type": "markdown",
   "metadata": {},
   "source": [
    "1. <a href=\"https://en.wikipedia.org/wiki/Logistic_regression\">Logistic regression</a> \n",
    "2. Kevin P. Murphy, _Machine learning. A probabilistic perspective_, The MIT Press.\n",
    "3. Larry Hatcher, _Advanced statistics in research_, Shadow Finch Media.\n",
    "4. Larry Wasserman, _All of Statistics: A concise course in statistical inference_, Springer.\n",
    "5. Joel Grus, _Data science from scratch. First principles with Python_, O'Reilly.\n",
    "6. Larry Wasserman, _All of Statistics. A Concise Course in Statistical Inference_, Springer 2003."
   ]
  }
 ],
 "metadata": {
  "kernelspec": {
   "display_name": "Python 3 (ipykernel)",
   "language": "python",
   "name": "python3"
  },
  "language_info": {
   "codemirror_mode": {
    "name": "ipython",
    "version": 3
   },
   "file_extension": ".py",
   "mimetype": "text/x-python",
   "name": "python",
   "nbconvert_exporter": "python",
   "pygments_lexer": "ipython3",
   "version": "3.10.6"
  }
 },
 "nbformat": 4,
 "nbformat_minor": 4
}
