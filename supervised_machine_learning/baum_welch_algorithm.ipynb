{
 "cells": [
  {
   "cell_type": "markdown",
   "metadata": {},
   "source": [
    "# The  Baum-Welch Algorithm"
   ]
  },
  {
   "cell_type": "markdown",
   "metadata": {},
   "source": [
    "## Overview"
   ]
  },
  {
   "cell_type": "markdown",
   "metadata": {},
   "source": [
    "The third problem associated with Hidden Markov models is that of learning the optimal parameters \n",
    "of the model given a set of sequences. In other words, we want to learn the optimal $\\mathbf{B}$ and $\\mathbf{A}$ that approximate the given set of sequences. An approach to do this is using the <a href=\"https://en.wikipedia.org/wiki/Expectation%E2%80%93maximization_algorithm\">Expectation–Maximization algorithm</a> or EM algorithm. In the context of HMM the algorithm bears the name <a href=\"https://en.wikipedia.org/wiki/Baum%E2%80%93Welch_algorithm\">Baum–Welch algorithm</a> which is a special instance of the EM algorithm. The following video explains the method."
   ]
  },
  {
   "cell_type": "code",
   "execution_count": 1,
   "metadata": {},
   "outputs": [
    {
     "data": {
      "image/jpeg": "[encoded data removed]",
      "text/html": [
       "\n",
       "        <iframe\n",
       "            width=\"800\"\n",
       "            height=\"300\"\n",
       "            src=\"https://www.youtube.com/embed/JRsdt05pMoI\"\n",
       "            frameborder=\"0\"\n",
       "            allowfullscreen\n",
       "            \n",
       "        ></iframe>\n",
       "        "
      ],
      "text/plain": [
       "<IPython.lib.display.YouTubeVideo at 0x7fc745157370>"
      ]
     },
     "execution_count": 1,
     "metadata": {},
     "output_type": "execute_result"
    }
   ],
   "source": [
    "from IPython.display import YouTubeVideo\n",
    "YouTubeVideo('JRsdt05pMoI', width=800, height=300)"
   ]
  },
  {
   "cell_type": "markdown",
   "metadata": {},
   "source": [
    "## Baum-Welch algorithm"
   ]
  },
  {
   "cell_type": "markdown",
   "metadata": {},
   "source": [
    "In the so-called training problem we want to calculate $\\lambda$ that maximizes the likelihood of the sample of training sequences $\\mathbf{x} = \\{O_k\\}$ i.e. we want to maximize $P(\\mathbf{X}|\\lambda)$ [1]. Let's see how this can be done. Let the variable $\\xi_t(i,j)$ denote the probability of being at $S_i$ at time $t$ and in $S_j$ at time $t+1$ given $O$ and $\\lambda$ i.e."
   ]
  },
  {
   "cell_type": "markdown",
   "metadata": {},
   "source": [
    "$$\\xi_t(i,j) = P(q_t = S_i, q_{t+1} = S_j | O, \\lambda)$$"
   ]
  },
  {
   "cell_type": "markdown",
   "metadata": {},
   "source": [
    "Note that here $O \\in \\mathbf{X}$ denotes just one observation sequence. This can be computed as [1]"
   ]
  },
  {
   "cell_type": "markdown",
   "metadata": {},
   "source": [
    "$$\\xi_t(i,j) = \\frac{\\alpha_t(i)a_{ij}b_j(O_{t+1})\\beta_{t+1}(j)}{\\sum_{k=1}^{N} \\sum_{l=1}^N \\alpha_t(k)a_{kl}b_l(O_{t+1})\\beta_{t+1}(l)}$$"
   ]
  },
  {
   "cell_type": "markdown",
   "metadata": {},
   "source": [
    "----\n",
    "**Remark**\n",
    "\n",
    "Recall that the probability $P(X,Y|Z)$ can be calculated according to\n",
    "\n",
    "$$P(X,Y|Z) = P(X|Y,Z)P(Y|Z)$$\n",
    "\n",
    "from this formula we can write:\n",
    "\n",
    "\n",
    "$$P(X|Y,Z) = \\frac{P(X,Y|Z)}{P(Y|Z)}$$\n",
    "\n",
    "Thus, \n",
    "\n",
    "$$P(q_t = S_i , q_{t+1} = S_j | O, \\lambda) = \\frac{P(q_t = S_i, q_{t+1} = S_j , O | \\lambda)}{P(O|\\lambda)}$$\n",
    "\n",
    "The numerator of the equation avove can be expressed using the forward and backward probabilities.\n",
    "\n",
    "----"
   ]
  },
  {
   "cell_type": "markdown",
   "metadata": {},
   "source": [
    "$\\alpha_t(i)$ and $\\beta_{t+1}(l)$ are simply the <a href=\"forward_algorithm.html\">forward</a> and <a href=\"backward_algorithm.html\">backward</a> variables we saw in the forward and backawrds algorithms respectively. The probability of being in state $S_i$ at time $t$, i.e. $P(q_t=S_i|O,\\lambda)$, is given  by marginalizing over the probabilities for all possible next states [1]:"
   ]
  },
  {
   "cell_type": "markdown",
   "metadata": {},
   "source": [
    "$$\\gamma_t(i) = \\sum_{j=1}^N \\xi_t(i,j)$$"
   ]
  },
  {
   "cell_type": "markdown",
   "metadata": {},
   "source": [
    "The Baum-Welch algorithm is an EM method. At each iteration we have two steps Expectation, or E-step, followed by a Maximization, or M-step.  At E-step, one  computes $\\xi_t(i,j)$ and $\\gamma_t(i)$ values given the current $\\lambda$. At the M-step we recalculate $\\lambda$ given the estimated  $\\xi_t(i,j)$ and $\\gamma_t(i)$. The E and M steps are alternated until some specified threshold is reached at which point convergence of the algorithm is proclaimed.  "
   ]
  },
  {
   "cell_type": "markdown",
   "metadata": {},
   "source": [
    "Let's introduce the following two variables [1]"
   ]
  },
  {
   "cell_type": "markdown",
   "metadata": {},
   "source": [
    "$$z_{i}^{t} = \\begin{cases} 1, \\text{if}~ q_t = S_i \\\\ 0, \\text{otherwise}\\end{cases}$$"
   ]
  },
  {
   "cell_type": "markdown",
   "metadata": {},
   "source": [
    "and "
   ]
  },
  {
   "cell_type": "markdown",
   "metadata": {},
   "source": [
    "$$Z_{i,j}^{t} = \\begin{cases} 1, \\text{if}~ q_t = S_i ~ \\text{and}~ q_{t+1}=S_j \\\\ 0, \\text{otherwise}\\end{cases}$$"
   ]
  },
  {
   "cell_type": "markdown",
   "metadata": {},
   "source": [
    "We estimate these variables in the E-step as, see [1], "
   ]
  },
  {
   "cell_type": "markdown",
   "metadata": {},
   "source": [
    "$$E\\left[z_{i}^{t}\\right] = \\gamma_t(i)$$"
   ]
  },
  {
   "cell_type": "markdown",
   "metadata": {},
   "source": [
    "$$E\\left[Z_{ij}^{t}\\right] = \\xi_t(i,j)$$"
   ]
  },
  {
   "cell_type": "markdown",
   "metadata": {},
   "source": [
    "At the M-step, given the estimation of $\\xi$ and $\\gamma$, we calculate the parameters of $\\lambda$ as follows, see [1]:"
   ]
  },
  {
   "cell_type": "markdown",
   "metadata": {},
   "source": [
    "$$\\hat{a}_{ij} = \\frac{\\sum_{t=1}^{T-1} \\xi_t(i,j)}{\\sum_{t=1}^{T-1} \\gamma_t(i)}$$"
   ]
  },
  {
   "cell_type": "markdown",
   "metadata": {},
   "source": [
    "---\n",
    "\n",
    "**Remark**\n",
    "\n",
    "Recall that the transition probability from state $S_i$ to state $S_j$, i.e. $a_{ij}$, is the number of transitions from $S_i$ to $S_j$ divided by the totlal number of transitions from $S_i$ over all sequences:\n",
    "\n",
    "$$ a_{ij} = \\frac{\\sum_k \\sum_{t=1}^{T-1} I(q_{t}^k = S_i, q_{t+1}^k = S_j)}{\\sum_k \\sum_{t=1}^{T-1} I(q_{t}^k = S_i )}$$\n",
    "\n",
    "---"
   ]
  },
  {
   "cell_type": "markdown",
   "metadata": {},
   "source": [
    "Similarly, we calculate the probability of observing $O_m$ in $S_j$. This is the expected number of times $O_m$ is observed when the system is in $S_j$ over the total number of times the system is in $S_j$ [1]:\n"
   ]
  },
  {
   "cell_type": "markdown",
   "metadata": {},
   "source": [
    "$$\\hat{b}_j(m) = \\frac{\\sum_{t=1}^T \\gamma_t(j)I(O_t=O_m)}{\\sum_{t=1}^T \\gamma_t(j)}$$"
   ]
  },
  {
   "cell_type": "markdown",
   "metadata": {},
   "source": [
    "In the case where we have more than one observation sequences, say we have $K$ of these in total at our disposal, then the parameters are evaluated as averages over all observations in all sequences [1]:\n"
   ]
  },
  {
   "cell_type": "markdown",
   "metadata": {},
   "source": [
    "$$\\hat{a}_{ij} = \\frac{\\sum_{k=1}^K \\sum_{t=1}^{T-1} \\xi_{t}^k(i,j)}{\\sum_{k=1}^K \\sum_{t=1}^{T-1} \\gamma_{t}^k(i)}$$"
   ]
  },
  {
   "cell_type": "markdown",
   "metadata": {},
   "source": [
    "$$\\hat{b}_j(m) = \\frac{\\sum_{k=1}^K \\sum_{t=1}^T \\gamma_{t}^k(j)I(O_{t}^{k}=O_m)}{\\sum_{k=1}^K \\sum_{t=1}^T \\gamma_{t}^{k}(j)}$$"
   ]
  },
  {
   "cell_type": "markdown",
   "metadata": {},
   "source": [
    "$$\\hat{\\pi}_i = \\frac{\\sum_{k=1}^K \\gamma_{1}^k(i)}{K}$$"
   ]
  },
  {
   "cell_type": "markdown",
   "metadata": {},
   "source": [
    "## Python example"
   ]
  },
  {
   "cell_type": "markdown",
   "metadata": {},
   "source": [
    "We will continue with the example we used in the Viterbi path notebook. "
   ]
  },
  {
   "cell_type": "code",
   "execution_count": 2,
   "metadata": {},
   "outputs": [],
   "source": [
    "import numpy as np"
   ]
  },
  {
   "cell_type": "code",
   "execution_count": 3,
   "metadata": {},
   "outputs": [],
   "source": [
    "# observation to index\n",
    "obs_to_idx = {'normal':0, 'cold': 1, 'dizzy':2}\n",
    "\n",
    "# state to index map\n",
    "state_to_idx = {'Healthy':0, 'Fever':1}"
   ]
  },
  {
   "cell_type": "code",
   "execution_count": 4,
   "metadata": {},
   "outputs": [],
   "source": [
    "# HMM parameters\n",
    "pi = np.array([0.6, 0.4])\n",
    "\n",
    "# transition probabilities\n",
    "A = np.array([[0.7, 0.3],\n",
    "              [0.4, 0.6]])\n",
    "\n",
    "# emission probabilties\n",
    "B = np.array([[0.5, 0.4, 0.1],\n",
    "              [0.1, 0.3, 0.6]])"
   ]
  },
  {
   "cell_type": "code",
   "execution_count": 5,
   "metadata": {},
   "outputs": [],
   "source": [
    "# now we have a number of observation sequences\n",
    "# the sequence\n",
    "X = [['normal', 'cold', 'dizzy'], \n",
    "     ['normal', 'cold', 'cold'],\n",
    "     ['cold', 'cold', 'dizzy'],\n",
    "     ['normal', 'normal', 'normal']]"
   ]
  },
  {
   "cell_type": "code",
   "execution_count": 6,
   "metadata": {},
   "outputs": [],
   "source": [
    "def idx_to_obs(idx):\n",
    "    global obs_to_idx\n",
    "\n",
    "    for item in obs_to_idx:\n",
    "        if obs_to_idx[item] == idx:\n",
    "            return item\n",
    "    return None"
   ]
  },
  {
   "cell_type": "code",
   "execution_count": 7,
   "metadata": {},
   "outputs": [],
   "source": [
    "# compute alpha for the given observation\n",
    "def forward(o, A, B, pi, state_to_idx, obs_to_idx):\n",
    "\n",
    "    a = np.zeros(shape=(len(o), A.shape[0]))\n",
    "    for i in range(len(state_to_idx)):\n",
    "        a[0][i] = pi[i] * B[i][obs_to_idx[o[0]]]\n",
    "\n",
    "    for t in range(1, len(o)):\n",
    "        for j in range(A.shape[0]):\n",
    "            a[t][j] = 0\n",
    "\n",
    "            # fix j = state_idx and sum over the states\n",
    "            for i in range(A.shape[0]):\n",
    "                a[t][j] += a[t - 1][i] * A[i][j]\n",
    "\n",
    "            a[t][j] *= B[j][obs_to_idx[o[t]]]\n",
    "    return a"
   ]
  },
  {
   "cell_type": "code",
   "execution_count": 8,
   "metadata": {},
   "outputs": [],
   "source": [
    "# helper function for backward algorithm\n",
    "def backward(o, A, B, obs_to_idx):\n",
    "    beta = np.zeros(shape=(len(o), A.shape[0]))\n",
    "\n",
    "    # initialize beta\n",
    "    beta[len(o) - 1] = np.ones(A.shape[0])\n",
    "\n",
    "    for t in range(len(o) - 2, -1, -1):\n",
    "        for j in range(A.shape[0]):\n",
    "            beta[t, j] = (beta[t + 1] * B[:, obs_to_idx[o[t + 1]]]).dot(A[j, :])\n",
    "\n",
    "    return beta"
   ]
  },
  {
   "cell_type": "code",
   "execution_count": 9,
   "metadata": {},
   "outputs": [],
   "source": [
    "# compute the denominator for xi calculation\n",
    "def compute_xi_denom(alpha, A, B, beta, t, idx, idx2):\n",
    "\n",
    "    denom = 0.0\n",
    "\n",
    "    for i in range(A.shape[0]):\n",
    "        for j in range(A.shape[0]):\n",
    "            denom += alpha[t, i]*A[i, j]*B[j, idx]*beta[idx2, j]\n",
    "    return denom"
   ]
  },
  {
   "cell_type": "code",
   "execution_count": 10,
   "metadata": {},
   "outputs": [],
   "source": [
    "# compute xi and gamma related to the observation sequence o\n",
    "def sequnce_xi_gamma_calculation(o, alpha, beta, A, B, obs_to_idx):\n",
    "\n",
    "    N = A.shape[0]\n",
    "    T = len(o)\n",
    "    xi = [] #[np.zeros((N, N))]*(T-1)\n",
    "    gamma = np.zeros((T-1, N))\n",
    "\n",
    "    # calculate xi and gamma for the sequence\n",
    "    for t in range(T-1):\n",
    "        local_xi = np.zeros((N, N))\n",
    "        for i in range(N):\n",
    "            for j in range(N):\n",
    "                numerator = alpha[t, i] * A[i, j] * B[j, obs_to_idx[o[t + 1]]] * beta[t + 1, j]\n",
    "                denom = compute_xi_denom(alpha=alpha, A=A, B=B, beta=beta, t=t, \n",
    "                                         idx=obs_to_idx[o[t + 1]], idx2=t+1)\n",
    "                local_xi[i, j] = numerator / denom\n",
    "\n",
    "            for k in range(N):\n",
    "                gamma[t][i] += local_xi[i][k]\n",
    "        xi.append(local_xi)\n",
    "\n",
    "    return xi, gamma"
   ]
  },
  {
   "cell_type": "code",
   "execution_count": 11,
   "metadata": {},
   "outputs": [],
   "source": [
    "# Add additional T'th element in gamma\n",
    "def get_extra_gammas(alpha, beta, A, B, obs_to_idx, X):\n",
    "\n",
    "    N = A.shape[0]\n",
    "    extra_gammas = []\n",
    "\n",
    "    for k in range(len(X)):\n",
    "\n",
    "        gamma_k = [0.0 for i in range(N)]\n",
    "\n",
    "        seq = X[k]\n",
    "        T = len(seq)\n",
    "        t = T-2\n",
    "\n",
    "        # we need to compute the xi\n",
    "        # for the last observation\n",
    "        xi_k = np.zeros(shape=(N, N))\n",
    "\n",
    "        for i in range(N):\n",
    "            for j in range(N):\n",
    "\n",
    "                numerator = alpha[t, i] * A[i, j] * B[j, obs_to_idx[seq[t + 1]]] * beta[t + 1, j] \n",
    "                denom = compute_xi_denom(alpha=alpha, A=A, B=B, beta=beta, t=t, idx=obs_to_idx[seq[t + 1]], idx2=t+1)\n",
    "                xi_k[i, j] = numerator / denom\n",
    "\n",
    "            for kg in range(N):\n",
    "                gamma_k[i] += xi_k[i][kg]\n",
    "        extra_gammas.append(gamma_k)\n",
    "\n",
    "    return extra_gammas"
   ]
  },
  {
   "cell_type": "code",
   "execution_count": 12,
   "metadata": {},
   "outputs": [],
   "source": [
    "def baum_welch(X, A, B, pi, n_iter, state_to_idx, obs_to_idx):\n",
    "\n",
    "    print(\"Number of sequences: \", len(X))\n",
    "    N = A.shape[0]\n",
    "    M = B.shape[1]\n",
    "\n",
    "    print(\"shape A: \", A.shape)\n",
    "    print(\"shape B: \", B.shape)\n",
    "\n",
    "    #import pdb\n",
    "    #pdb.set_trace()\n",
    "\n",
    "    for itr in range(n_iter):\n",
    "\n",
    "        print(\"================\")\n",
    "        print(\"Iteration: \", itr)\n",
    "\n",
    "        # collect the xis and gammas for\n",
    "        # evety sequence given in this iteration\n",
    "        xis = []\n",
    "        gammas = []\n",
    "        for seq in range(len(X)):\n",
    "\n",
    "            o = X[seq]\n",
    "            T = len(o)\n",
    "\n",
    "            alpha = forward(o, A, B, pi=pi, state_to_idx=state_to_idx, obs_to_idx=obs_to_idx)\n",
    "            beta = backward(o, A, B, obs_to_idx=obs_to_idx)\n",
    "\n",
    "            assert alpha.shape[0] == len(o), \"Invalid number of rows for alpha mat: {0} should be {1}\".format(alpha.shape[0], len(o))\n",
    "            assert alpha.shape[1] == N, \"Invalid number of columns for alpha mat: {0} should be {1}\".format(\n",
    "                alpha.shape[1], N)\n",
    "            assert beta.shape[0] == len(o), \"Invalid number of rows for beta mat: {0} should be {1}\".format(beta.shape[0],\n",
    "                                                                                                           len(o))\n",
    "            assert beta.shape[1] == N, \"Invalid number of columns for beta mat: {0} should be {1}\".format(\n",
    "                beta.shape[1], N)\n",
    "\n",
    "            # calculate xi and gamma for this observation sequence\n",
    "            xi, gamma = sequnce_xi_gamma_calculation(o=o, alpha=alpha,\n",
    "                                                     beta=beta, A=A, B=B, obs_to_idx=obs_to_idx)\n",
    "\n",
    "\n",
    "            # xi is an array of length T-1\n",
    "            assert len(xi) == T - 1, \"Invalid size of xi array: {0} should be {1}\".format(len(xi), T - 1)\n",
    "\n",
    "            # for each t we computed xi which is an NxN matrix\n",
    "            assert xi[0].shape == (N, N), \"Invalid xi matrix shape: {0} should be {1}\".format(xi[0].shape, (N,N))\n",
    "\n",
    "            # gamma is a matrix T-1 x N\n",
    "            assert gamma.shape == (T - 1, N), \"Invalid gamma matrix shape: {0} should be {1}\".format(gamma.shape, (T - 1, N))\n",
    "\n",
    "            xis.append(xi)\n",
    "            gammas.append(gamma)\n",
    "\n",
    "        assert len(gammas) == len(X), \"Invalid number of gammas {0} should be {1}\".format(len(gammas), len(X))\n",
    "\n",
    "        extra_gammas = get_extra_gammas(alpha=alpha, beta=beta, A=A, B=B, obs_to_idx=obs_to_idx, X=X)\n",
    "\n",
    "        assert len(extra_gammas) == len(X), \"Invalid number of extra gammas {0} should be {1}\".format(len(extra_gammas), len(X))\n",
    "\n",
    "      \n",
    "        # update the transition probabilities\n",
    "        # the calculations for A have up to T -1\n",
    "        for i in range(N):\n",
    "\n",
    "            denom = 0.0\n",
    "            for k in range(len(X)):\n",
    "                obs = X[k]\n",
    "                T = len(obs)\n",
    "\n",
    "                gamma_k = gammas[k]\n",
    "\n",
    "                assert gamma_k.shape == (T - 1, N), \"Invalid gamma matrix \" \\\n",
    "                                                    \"shape: {0} should be {1}\".format(gamma_k.shape, (T - 1, N))\n",
    "                for obs_item in range(T - 1):\n",
    "                    denom += gamma_k[obs_item][i]\n",
    "\n",
    "            for j in range(A.shape[1]):\n",
    "                nom = 0.0\n",
    "\n",
    "                for k in range(len(X)):\n",
    "                    obs = X[k]\n",
    "                    xi_k = xis[k]\n",
    "                    T = len(obs)\n",
    "\n",
    "                    assert len(xi_k) == T - 1, \"Invalid number of \"\\\n",
    "                                               \"xi_k's: {0} should be {1}\".format(len(xi_k), T - 1)\n",
    "\n",
    "                    for t in range(T - 1):\n",
    "                        nom += xi_k[t][i, j]\n",
    "\n",
    "                A[i, j] = nom/denom\n",
    "\n",
    "        # update the gammas so that we have the\n",
    "        # final observations\n",
    "        for k in range(len(gammas)):\n",
    "            gamma_k = gammas[k]\n",
    "            gamma_k = np.vstack([gamma_k, extra_gammas[k]])\n",
    "            gammas[k] = gamma_k\n",
    "\n",
    "        # in order to calculate B we also need the final\n",
    "        # bits for gammas\n",
    "        for i in range(N):\n",
    "\n",
    "            denom = 0.0\n",
    "            for k in range(len(X)):\n",
    "\n",
    "                seq = X[k]\n",
    "                gamma_k = gammas[k]\n",
    "\n",
    "                assert len(seq) == gamma_k.shape[0], \"Invalid number of Gamma rows {0} should be {1}\".format(gamma_k.shape[0], \n",
    "                                                                                              len(seq))\n",
    "\n",
    "                for t in range(len(seq)):\n",
    "                    denom += gamma_k[t, i]\n",
    "\n",
    "            for j in range(M):\n",
    "                nom = 0.0\n",
    "                for k in range(len(X)):\n",
    "                    seq = X[k]\n",
    "                    for t in range(len(seq)):\n",
    "                        obs = seq[t]\n",
    "\n",
    "                        if obs == idx_to_obs(j):\n",
    "                            nom += gammas[k][t, i]\n",
    "\n",
    "                B[i, j] = nom/denom\n",
    "                \n",
    "        # update the pi vector\n",
    "        for i in range(N):\n",
    "            \n",
    "            pi_val = 0.0\n",
    "            for k in range(len(X)):\n",
    "                gamma_k = gammas[k]\n",
    "                pi_val += gamma_k[0][i]\n",
    "            \n",
    "            pi[i] = pi_val/(len(X))\n",
    "        \n",
    "    return A, B, pi\n"
   ]
  },
  {
   "cell_type": "code",
   "execution_count": 13,
   "metadata": {},
   "outputs": [
    {
     "name": "stdout",
     "output_type": "stream",
     "text": [
      "Number of sequences:  4\n",
      "shape A:  (2, 2)\n",
      "shape B:  (2, 3)\n",
      "================\n",
      "Iteration:  0\n",
      "================\n",
      "Iteration:  1\n",
      "================\n",
      "Iteration:  2\n",
      "================\n",
      "Iteration:  3\n",
      "================\n",
      "Iteration:  4\n",
      "================\n",
      "Iteration:  5\n",
      "================\n",
      "Iteration:  6\n",
      "================\n",
      "Iteration:  7\n",
      "================\n",
      "Iteration:  8\n",
      "================\n",
      "Iteration:  9\n"
     ]
    },
    {
     "data": {
      "text/plain": [
       "(array([[0.60187444, 0.39812556],\n",
       "        [0.71039728, 0.28960272]]),\n",
       " array([[0.50518563, 0.30097656, 0.19383781],\n",
       "        [0.06660769, 0.87417724, 0.05921507]]),\n",
       " array([0.96748237, 0.03251763]))"
      ]
     },
     "execution_count": 13,
     "metadata": {},
     "output_type": "execute_result"
    }
   ],
   "source": [
    "baum_welch(X=X, A=A, B=B, pi=pi, n_iter=10, state_to_idx=state_to_idx, obs_to_idx=obs_to_idx)"
   ]
  },
  {
   "cell_type": "markdown",
   "metadata": {},
   "source": [
    "## References"
   ]
  },
  {
   "cell_type": "markdown",
   "metadata": {},
   "source": [
    "1. Ethem Alpaydin, ```Introduction To Machine Learning, Second Edition```, MIT Press.\n",
    "2. <a href=\"https://en.wikipedia.org/wiki/Baum%E2%80%93Welch_algorithm\">Wikipedia-Baum–Welch algorithm</a>."
   ]
  }
 ],
 "metadata": {
  "kernelspec": {
   "display_name": "Python 3 (ipykernel)",
   "language": "python",
   "name": "python3"
  },
  "language_info": {
   "codemirror_mode": {
    "name": "ipython",
    "version": 3
   },
   "file_extension": ".py",
   "mimetype": "text/x-python",
   "name": "python",
   "nbconvert_exporter": "python",
   "pygments_lexer": "ipython3",
   "version": "3.10.6"
  }
 },
 "nbformat": 4,
 "nbformat_minor": 4
}
