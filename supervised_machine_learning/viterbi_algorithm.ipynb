{
 "cells": [
  {
   "cell_type": "markdown",
   "metadata": {},
   "source": [
    "# The Viterbi Algorithm"
   ]
  },
  {
   "cell_type": "markdown",
   "metadata": {},
   "source": [
    "## The Viterbi algorithm"
   ]
  },
  {
   "cell_type": "markdown",
   "metadata": {},
   "source": [
    "The backward and forward algorithms can be used to compute $P(O|\\lambda)$. In this notebook we are interested in computing the most likely path given a sequence $O$ and a hidden Markov model $\\lambda$. The <a href=\"https://en.wikipedia.org/wiki/Viterbi_algorithm\">Viterbi algorithm</a> gives us a way to do so. The Viterbi algorithm is a dynamic programming algorithm for finding the most likely sequence of hidden states, also called the Viterbi path, that results in a sequence of observed events, especially in the context of Markov information sources and hidden Markov models (HMM) [2]. The  algorithm uses a maximum operation instead of the sum. The operation of Viterbi's algorithm can be visualized by means of a <a href=\"https://en.wikipedia.org/wiki/Convolutional_code#Trellis_diagram\">trellis diagram</a> [2]. It is essentially the shortest path through this trellis. "
   ]
  },
  {
   "cell_type": "markdown",
   "metadata": {},
   "source": [
    "Given a state sequence $Q=q_1q_2,\\cdots,q_T$ and an observation sequence $O=O_1O_2,\\cdots,O_T$ we dfine the variable $\\delta_t(i)$ as the probability of the highest probability path at time $t$ that accounts for the first $t$ observations and ends in $S_i$ [1]:"
   ]
  },
  {
   "cell_type": "markdown",
   "metadata": {},
   "source": [
    "$$\\delta_t(i) = max_{Q}p(q_1q_2,\\cdots,q_t=S_i,O_1O_2,\\cdots,O_t|\\lambda)$$"
   ]
  },
  {
   "cell_type": "markdown",
   "metadata": {},
   "source": [
    "Then we can recursively calculate $\\delta_{t+1}(i)$ and the optimal path can be read by backtracking from $T$ , choosing the most probable at each instant. The algorithm is as follows [1]:\n",
    " "
   ]
  },
  {
   "cell_type": "markdown",
   "metadata": {},
   "source": [
    "- **Initialize** "
   ]
  },
  {
   "cell_type": "markdown",
   "metadata": {},
   "source": [
    "$$\\delta_1(i) = \\pi_i b_i(O_1)$$"
   ]
  },
  {
   "cell_type": "markdown",
   "metadata": {},
   "source": [
    "This is initialization is the same as in the forward algorithm. To retrieve the state sequence we also need to keep track of the argument which maximized for each $t$ and $j$. We therefore use the array $\\psi$, and in the initialization step the first $\\psi$ variable of every state will be equal to 0 because no specific argument coming from the initial probability maximized the value of the first state."
   ]
  },
  {
   "cell_type": "markdown",
   "metadata": {},
   "source": [
    "$$\\psi_1(i) = 0$$"
   ]
  },
  {
   "cell_type": "markdown",
   "metadata": {},
   "source": [
    "- **Recurse**"
   ]
  },
  {
   "cell_type": "markdown",
   "metadata": {},
   "source": [
    "$$\\delta_t(j) = max_{i=1}^{N}\\delta_{t-1}(i)a_{ij}b_j(O_t)$$"
   ]
  },
  {
   "cell_type": "markdown",
   "metadata": {},
   "source": [
    "$$\\psi_t(j) = argmax_{i=1}^{N}\\delta_{t-1}(i)a_{ij}$$"
   ]
  },
  {
   "cell_type": "markdown",
   "metadata": {},
   "source": [
    "- **Termination**"
   ]
  },
  {
   "cell_type": "markdown",
   "metadata": {},
   "source": [
    "$$p^{*} = max_i \\delta_T(i)$$"
   ]
  },
  {
   "cell_type": "markdown",
   "metadata": {},
   "source": [
    "$$q^{*}_T = arg max_i \\delta_T(i)$$"
   ]
  },
  {
   "cell_type": "markdown",
   "metadata": {},
   "source": [
    "- **Path backtracking**"
   ]
  },
  {
   "cell_type": "markdown",
   "metadata": {},
   "source": [
    "$$q_t{*} = \\psi_{t+1}(q^{*}_{t+1}), t= T-1, T-2, \\cdots, 1$$"
   ]
  },
  {
   "cell_type": "markdown",
   "metadata": {},
   "source": [
    "$\\psi_t (j)$ keeps track of the state that maximizes $\\delta_t(j)$ at time $t-1$, that is, the best previous state. The Viterbi algorithm has the same complexity with the forward phase, where\n",
    "instead of the sum, we take the maximum at each step [1].\n"
   ]
  },
  {
   "cell_type": "markdown",
   "metadata": {},
   "source": [
    "Let's see an example applying the Viterbi algorithm. The example is taken from [2]. Some coding hints from <a href=\"http://www.adeveloperdiary.com/data-science/machine-learning/implement-viterbi-algorithm-in-hidden-markov-model-using-python-and-r/\">Implement Viterbi Algorithm in Hidden Markov Model using Python and R</a> have also been used."
   ]
  },
  {
   "cell_type": "code",
   "execution_count": 3,
   "metadata": {},
   "outputs": [],
   "source": [
    "import numpy as np"
   ]
  },
  {
   "cell_type": "code",
   "execution_count": 4,
   "metadata": {},
   "outputs": [],
   "source": [
    "# observation to index\n",
    "obs_to_idx = {'normal':0, 'cold': 1, 'dizzy':2}\n",
    "\n",
    "# state to index map\n",
    "state_to_idx = {'Healthy':0, 'Fever':1}"
   ]
  },
  {
   "cell_type": "code",
   "execution_count": 5,
   "metadata": {},
   "outputs": [],
   "source": [
    "# HMM parameters\n",
    "pi = np.array([0.6, 0.4])\n",
    "\n",
    "# transition probabilities\n",
    "A = np.array([[0.7, 0.3],\n",
    "              [0.4, 0.6]])\n",
    "\n",
    "# emission probabilties\n",
    "B = np.array([[0.5, 0.4, 0.1],\n",
    "              [0.1, 0.3, 0.6]])"
   ]
  },
  {
   "cell_type": "code",
   "execution_count": 6,
   "metadata": {},
   "outputs": [],
   "source": [
    "# the sequence\n",
    "o = ['normal', 'cold', 'dizzy']"
   ]
  },
  {
   "cell_type": "code",
   "execution_count": 7,
   "metadata": {},
   "outputs": [
    {
     "name": "stdout",
     "output_type": "stream",
     "text": [
      "[[0.3  0.04]\n",
      " [0.   0.  ]\n",
      " [0.   0.  ]]\n"
     ]
    }
   ],
   "source": [
    "delta = np.zeros(shape=(len(o), A.shape[0]))\n",
    "previous = np.zeros((len(o)-1, A.shape[0]))\n",
    "\n",
    "for st in state_to_idx:\n",
    "    state_idx = state_to_idx[st]\n",
    "    delta[0][state_idx] = pi[state_idx] * B[state_idx][obs_to_idx[o[0]]]\n",
    "    \n",
    "print(delta)"
   ]
  },
  {
   "cell_type": "code",
   "execution_count": 8,
   "metadata": {},
   "outputs": [],
   "source": [
    "# Run Viterbi when t > 0\n",
    "for t in range(1, len(o)):\n",
    "    \n",
    "    obs_idx = obs_to_idx[o[t]]\n",
    "    \n",
    "    for i in state_to_idx:\n",
    "    \n",
    "        i_st_idx = state_to_idx[i]\n",
    "        probs=[]\n",
    "        \n",
    "        for j in state_to_idx:\n",
    "            \n",
    "            j_st_idx = state_to_idx[j]\n",
    "            probs.append(delta[t - 1][j_st_idx]*A[j_st_idx][i_st_idx]*B[i_st_idx][obs_idx])\n",
    "                \n",
    "        # This is our most probable state given previous state at time t (1)\n",
    "        previous[t-1, i_st_idx] = np.argmax(probs)\n",
    "        delta[t, i_st_idx] = np.max(probs)\n",
    "        \n",
    "                              \n",
    "# Path Array\n",
    "S = np.zeros(len(o))\n",
    "\n",
    "# Find the most probable last hidden state\n",
    "last_state = np.argmax(delta[len(o) - 1, :])\n",
    "S[0] = last_state\n",
    "\n",
    "backtrack_index = 1\n",
    "for i in range(len(o) - 2, -1, -1):\n",
    "    S[backtrack_index] = previous[i, int(last_state)] \n",
    "    last_state = previous[i, int(last_state)] \n",
    "    backtrack_index += 1\n",
    "\n",
    "# Flip the path array since we were backtracking\n",
    "S = np.flip(S, axis=0)\n",
    "\n",
    "# Convert numeric values to actual hidden states\n",
    "path = []\n",
    "for s in S:\n",
    "        if s == 0:\n",
    "            path.append(\"Healthy\")\n",
    "        else:\n",
    "            path.append(\"Fever\")\n",
    " \n"
   ]
  },
  {
   "cell_type": "code",
   "execution_count": 9,
   "metadata": {},
   "outputs": [
    {
     "name": "stdout",
     "output_type": "stream",
     "text": [
      "Path is  ['Healthy', 'Healthy', 'Fever']\n"
     ]
    }
   ],
   "source": [
    "print(\"Path is \", path)"
   ]
  },
  {
   "cell_type": "markdown",
   "metadata": {},
   "source": [
    "Another way to compute the $\\delta$ matrix is the following more Pythonic way, taken from <a href=\"http://www.adeveloperdiary.com/data-science/machine-learning/implement-viterbi-algorithm-in-hidden-markov-model-using-python-and-r/\">Implement Viterbi Algorithm in Hidden Markov Model using Python and R</a>. Note the use of the log function."
   ]
  },
  {
   "cell_type": "code",
   "execution_count": 10,
   "metadata": {},
   "outputs": [
    {
     "name": "stdout",
     "output_type": "stream",
     "text": [
      "[[-1.2039728  -3.21887582]\n",
      " [ 0.          0.        ]\n",
      " [ 0.          0.        ]]\n"
     ]
    }
   ],
   "source": [
    "delta = np.zeros(shape=(len(o), A.shape[0]))\n",
    "previous = np.zeros((len(o)-1, A.shape[0]))\n",
    "\n",
    "for st in state_to_idx:\n",
    "    state_idx = state_to_idx[st]\n",
    "    delta[0, :] = np.log(pi * B[:, obs_to_idx[o[0]]])\n",
    "    \n",
    "print(delta)"
   ]
  },
  {
   "cell_type": "code",
   "execution_count": 11,
   "metadata": {},
   "outputs": [],
   "source": [
    "# Run Viterbi when t > 0\n",
    "for t in range(1, len(o)):\n",
    "    \n",
    "    obs_idx = obs_to_idx[o[t]]\n",
    "    \n",
    "    for i in state_to_idx:\n",
    "        \n",
    "        i_st_idx = state_to_idx[i]\n",
    "        \n",
    "        # Same as Forward Probability\n",
    "        probability = delta[t - 1] + np.log(A[:, i_st_idx]) + np.log(B[i_st_idx, obs_idx])\n",
    "        \n",
    "        # This is our most probable state given previous state at time t (1)\n",
    "        previous[t - 1, i_st_idx] = np.argmax(probability)\n",
    " \n",
    "        # This is the probability of the most probable state (2)\n",
    "        delta[t, i_st_idx] = np.max(probability)\n",
    "        \n",
    "                            \n",
    "# Path Array\n",
    "S = np.zeros(len(o))\n",
    "\n",
    "# Find the most probable last hidden state\n",
    "last_state = np.argmax(delta[len(o) - 1, :])\n",
    "\n",
    "S[0] = last_state\n",
    "\n",
    "backtrack_index = 1\n",
    "for i in range(len(o) - 2, -1, -1):\n",
    "    S[backtrack_index] = previous[i, int(last_state)]\n",
    "    last_state = previous[i, int(last_state)]\n",
    "    backtrack_index += 1\n",
    "\n",
    "# Flip the path array since we were backtracking\n",
    "S = np.flip(S, axis=0)\n",
    "\n",
    "# Convert numeric values to actual hidden states\n",
    "path = []\n",
    "for s in S:\n",
    "        if s == 0:\n",
    "            path.append(\"Healthy\")\n",
    "        else:\n",
    "            path.append(\"Fever\")\n",
    " \n",
    "\n"
   ]
  },
  {
   "cell_type": "code",
   "execution_count": 12,
   "metadata": {},
   "outputs": [
    {
     "name": "stdout",
     "output_type": "stream",
     "text": [
      "Path is  ['Healthy', 'Healthy', 'Fever']\n"
     ]
    }
   ],
   "source": [
    "print(\"Path is \", path)"
   ]
  },
  {
   "cell_type": "markdown",
   "metadata": {},
   "source": [
    "The following video provides a motivation behind the use of the Viterbi algorithm"
   ]
  },
  {
   "cell_type": "code",
   "execution_count": 1,
   "metadata": {},
   "outputs": [
    {
     "data": {
      "image/jpeg": "[encoded data removed]",
      "text/html": [
       "\n",
       "        <iframe\n",
       "            width=\"800\"\n",
       "            height=\"300\"\n",
       "            src=\"https://www.youtube.com/embed/MPeedE6Odj0\"\n",
       "            frameborder=\"0\"\n",
       "            allowfullscreen\n",
       "        ></iframe>\n",
       "        "
      ],
      "text/plain": [
       "<IPython.lib.display.YouTubeVideo at 0x7f6bf0116f40>"
      ]
     },
     "execution_count": 1,
     "metadata": {},
     "output_type": "execute_result"
    }
   ],
   "source": [
    "from IPython.display import YouTubeVideo\n",
    "YouTubeVideo('MPeedE6Odj0', width=800, height=300)"
   ]
  },
  {
   "cell_type": "markdown",
   "metadata": {},
   "source": [
    "The following video provides nice description of the Viterbi algorithm"
   ]
  },
  {
   "cell_type": "code",
   "execution_count": 2,
   "metadata": {},
   "outputs": [
    {
     "data": {
      "image/jpeg": "[encoded data removed]",
      "text/html": [
       "\n",
       "        <iframe\n",
       "            width=\"800\"\n",
       "            height=\"300\"\n",
       "            src=\"https://www.youtube.com/embed/s9dU3sFeE40\"\n",
       "            frameborder=\"0\"\n",
       "            allowfullscreen\n",
       "        ></iframe>\n",
       "        "
      ],
      "text/plain": [
       "<IPython.lib.display.YouTubeVideo at 0x7f6bf0133dc0>"
      ]
     },
     "execution_count": 2,
     "metadata": {},
     "output_type": "execute_result"
    }
   ],
   "source": [
    "from IPython.display import YouTubeVideo\n",
    "YouTubeVideo('s9dU3sFeE40', width=800, height=300)"
   ]
  },
  {
   "cell_type": "markdown",
   "metadata": {},
   "source": [
    "## <a name=\"refs\"></a> References"
   ]
  },
  {
   "cell_type": "markdown",
   "metadata": {},
   "source": [
    "1. Ethem Alpaydin, ```Introduction To Machine Learning, Second Edition```, MIT Press.\n",
    "2. Viterbi algorithm, <a href=\"https://en.wikipedia.org/wiki/Viterbi_algorithm\">Wikipedia</a>."
   ]
  }
 ],
 "metadata": {
  "kernelspec": {
   "display_name": "Python 3 (ipykernel)",
   "language": "python",
   "name": "python3"
  },
  "language_info": {
   "codemirror_mode": {
    "name": "ipython",
    "version": 3
   },
   "file_extension": ".py",
   "mimetype": "text/x-python",
   "name": "python",
   "nbconvert_exporter": "python",
   "pygments_lexer": "ipython3",
   "version": "3.10.6"
  }
 },
 "nbformat": 4,
 "nbformat_minor": 4
}
