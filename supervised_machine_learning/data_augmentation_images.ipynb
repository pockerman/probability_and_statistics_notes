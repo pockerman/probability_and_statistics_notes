{
 "cells": [
  {
   "cell_type": "markdown",
   "id": "ba4b5dea-29af-4c4a-b022-ffbc9f7c4c7e",
   "metadata": {},
   "source": [
    "# Data Augmentation"
   ]
  },
  {
   "cell_type": "markdown",
   "id": "b662841b-e4c0-47d8-b036-35f454f29716",
   "metadata": {},
   "source": [
    "## Overview"
   ]
  },
  {
   "cell_type": "markdown",
   "id": "7bdc6433-2ff9-4f10-9e63-04214f426887",
   "metadata": {},
   "source": [
    "Overfiting is a common problem when training machine learning models.\n",
    "Regularization techniques can be used in order to mitigate this problem.\n",
    "Another approach is to add more data. However, this is not always possible.\n",
    "One simple and inexpensive way to obtain more data is by generating new instances of the same\n",
    "data with some transformations. We call this data augmentation."
   ]
  },
  {
   "cell_type": "markdown",
   "id": "0aa10eca-5635-4b12-97bd-a17151b1e7c3",
   "metadata": {},
   "source": [
    "## Data augmentation"
   ]
  },
  {
   "cell_type": "markdown",
   "id": "77d055bf-26f9-4bfa-851b-041f379c5bb6",
   "metadata": {},
   "source": [
    "We will illustrate the idea of data augmentation by using images. You can use any other\n",
    "dataset you may like. "
   ]
  },
  {
   "cell_type": "markdown",
   "id": "dce8e002-fa06-4b1f-ad69-dd8e821d0873",
   "metadata": {},
   "source": [
    "There are many image augmentation techniques we can use; flipping, rotation, scaling, zooming, lighting conditions, and many other transformations that you can apply to your dataset to provide a variety of images to train on."
   ]
  },
  {
   "cell_type": "markdown",
   "id": "f1192222-2ea9-41c5-be88-9be5e635d3ae",
   "metadata": {},
   "source": [
    "## Summary"
   ]
  },
  {
   "cell_type": "markdown",
   "id": "e24b31f7-8181-41ba-a97d-b7bdf23c0cbe",
   "metadata": {},
   "source": [
    "## References\n"
   ]
  },
  {
   "cell_type": "code",
   "execution_count": null,
   "id": "7c9a05cd-047b-41bf-a717-87a29fad9d50",
   "metadata": {},
   "outputs": [],
   "source": []
  }
 ],
 "metadata": {
  "kernelspec": {
   "display_name": "Python 3 (ipykernel)",
   "language": "python",
   "name": "python3"
  },
  "language_info": {
   "codemirror_mode": {
    "name": "ipython",
    "version": 3
   },
   "file_extension": ".py",
   "mimetype": "text/x-python",
   "name": "python",
   "nbconvert_exporter": "python",
   "pygments_lexer": "ipython3",
   "version": "3.10.6"
  }
 },
 "nbformat": 4,
 "nbformat_minor": 5
}
