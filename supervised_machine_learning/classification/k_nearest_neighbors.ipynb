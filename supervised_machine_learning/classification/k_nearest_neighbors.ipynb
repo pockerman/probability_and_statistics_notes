{
 "cells": [
  {
   "cell_type": "markdown",
   "id": "d8ea7222-5cad-4dc7-bb57-74ac6144d26e",
   "metadata": {},
   "source": [
    "# K-Nearest Neighbors"
   ]
  },
  {
   "cell_type": "markdown",
   "id": "e832a9d7-0c9b-4843-8805-669e3c040848",
   "metadata": {},
   "source": [
    "## Overview"
   ]
  },
  {
   "cell_type": "markdown",
   "id": "dcd18d22-80a5-4fd1-9c8d-95606b769c33",
   "metadata": {},
   "source": [
    "In this section we will dive into one of the simplest algorithms to perform classification. Namely, the\n",
    "<a href=\"https://en.wikipedia.org/wiki/K-nearest_neighbors_algorithm\">k-nearest neighbors algorithm</a> or kNN for short.\n",
    "This is a non-parametric supervised learning method that it can be used for clustering, classification and regression. \n",
    "\n",
    "We will limit ourselves to the case of classification herein. In the case of classification, the input to\n",
    "the algorithm is a dataset $D$ of data points alongside their labels $Y$ and a positive integer $k$.\n",
    "The algorithm tries to find the $k$ most similar data points in $D$ in order to produce the classification output.\n"
   ]
  },
  {
   "cell_type": "markdown",
   "id": "74a5d0da-9c73-4b23-9589-c1e3d9ec126a",
   "metadata": {},
   "source": [
    "# K-Nearest Neighbors"
   ]
  },
  {
   "cell_type": "markdown",
   "id": "f054b127-a279-44b0-a3ea-37f0a9d99953",
   "metadata": {},
   "source": [
    "The kNN algorithm is fairly is to grasp. The input is a dataset $D$ a positive integer $k$ and a\n",
    "distance function that allows us to compute similarities between the points in the dataset.\n",
    "The algorithm tries to find the $k$ most similar data points in $D$ in order to produce the classification output.\n",
    "An object is classified using a plurality vote of its neighbors; the object is assigned the class most common among its $k$ nearest neighbors. If k = 1, then the object is simply assigned to the class of that single nearest neighbor."
   ]
  },
  {
   "cell_type": "markdown",
   "id": "a0280963-8e71-4a35-806c-c353b1e1be70",
   "metadata": {},
   "source": [
    "Thus, the vanilla KNN algorithm does not train any parameters although we will have to experiment \n",
    "on a different number of neighbors and possibly the distance function to use. The algorithm stores the entire\n",
    "dataset $D$ in memory something that can be really problematic for large datasets. In addition, the vanilla\n",
    "algorithm for a dataset with $N$ points each having $M$ features, requires $O(MN^2)$ time which can be prohibitive\n",
    "for large datasets. Implementations therefore of the KNN algorithm use <a href=\"https://en.wikipedia.org/wiki/K-d_tree\">k-d$ trees</a>, see e.g. [2] or <a href=\"https://en.wikipedia.org/wiki/Ball_tree\">ball trees</a> however, we will not go into details. \n"
   ]
  },
  {
   "cell_type": "markdown",
   "id": "04611b6b-6914-4656-a24b-fcc3d5a8c6dd",
   "metadata": {},
   "source": [
    "Since this algorithm relies on distance for classification, if the features represent different\n",
    "physical units or come in vastly different scales then normalizing the training data can improve its accuracy dramatically.[3]. Both for classification and regression, a useful technique can be to assign weights to the contributions of the neighbors, so that the nearer neighbors contribute more to the average than the more distant ones. For example, a common weighting scheme consists in giving each neighbor a weight of 1/d, where d is the distance to the neighbor.[4]\n",
    "\n",
    "A commonly used distance metric for continuous variables is Euclidean distance. For discrete variables, such as for text classification, another metric can be used, such as the overlap metric (or Hamming distance). In the context of gene expression microarray data, for example, k-NN has been employed with correlation coefficients, such as Pearson and Spearman, as a metric.[5] Often, the classification accuracy of k-NN can be improved significantly if the distance metric is learned with specialized algorithms such as Large Margin Nearest Neighbor or Neighbourhood components analysis."
   ]
  },
  {
   "cell_type": "markdown",
   "id": "7954531c-2ae2-47b9-9a5a-0e93fc8c9ccf",
   "metadata": {},
   "source": [
    "A drawback of the basic \"majority voting\" classification occurs when the class distribution is skewed. \n",
    "That is, examples of a more frequent class tend to dominate the prediction of the new example, because they tend to be common among the k nearest neighbors due to their large number.[6] One way to overcome this problem is to weight the classification, taking into account the distance from the test point to each of its k nearest neighbors. The class (or value, in regression problems) of each of the k nearest points is multiplied by a weight proportional to the inverse of the distance from that point to the test point. Another way to overcome skew is by abstraction in data representation. For example, in a self-organizing map (SOM), each node is a representative (a center) of a cluster of similar points, regardless of their density in the original training data. K-NN can then be applied to the SOM."
   ]
  },
  {
   "cell_type": "markdown",
   "id": "56705efd-7eb6-4567-8410-d1fd0ca7280b",
   "metadata": {},
   "source": [
    "The best choice of k depends upon the data; generally, larger values of \n",
    "k reduces effect of the noise on the classification,[7] but make boundaries between classes less distinct. A good k can be selected by various heuristic techniques (see hyperparameter optimization). The special case where the class is predicted to be the class of the closest training sample (i.e. when k = 1) is called the nearest neighbor algorithm.\n",
    "\n",
    "The accuracy of the k-NN algorithm can be severely degraded by the presence of noisy or irrelevant features, or if the feature scales are not consistent with their importance. Much research effort has been put into selecting or scaling features to improve classification. A particularly popular[citation needed] approach is the use of evolutionary algorithms to optimize feature scaling.[8] Another popular approach is to scale features by the mutual information of the training data with the training classes.[citation needed]\n",
    "\n",
    "In binary (two class) classification problems, it is helpful to choose k to be an odd number as this avoids tied votes. One popular way of choosing the empirically optimal k in this setting is via bootstrap method.[9]"
   ]
  },
  {
   "cell_type": "markdown",
   "id": "dc30aa44-53bb-4ab1-9e5b-d771bf701f59",
   "metadata": {},
   "source": [
    "## Computational example"
   ]
  },
  {
   "cell_type": "markdown",
   "id": "4908c160-d217-4d1c-926f-6e4d10658c75",
   "metadata": {},
   "source": [
    "Let's perform vessel classification using KNN. We will use the implementation in the <a href=\"https://scikit-learn.org/stable/index.html\">sklearn</a> library."
   ]
  },
  {
   "cell_type": "code",
   "execution_count": 6,
   "id": "23fc0ee8-935e-4c51-9f0f-41a9f108b477",
   "metadata": {
    "tags": []
   },
   "outputs": [],
   "source": [
    "from sklearn.datasets import load_iris\n",
    "from sklearn.model_selection import train_test_split\n",
    "from sklearn.decomposition import PCA\n",
    "import numpy as np\n",
    "import matplotlib.pyplot as plt"
   ]
  },
  {
   "cell_type": "code",
   "execution_count": 7,
   "id": "0dc55a65-dc85-493e-b223-286a4f95e60d",
   "metadata": {
    "tags": []
   },
   "outputs": [
    {
     "name": "stdout",
     "output_type": "stream",
     "text": [
      "We have 150 labeled examples across the following 3 classes:\n",
      "{0, 1, 2}\n",
      "\n",
      "First four feature rows:\n",
      "[[5.1 3.5 1.4 0.2]\n",
      " [4.9 3.  1.4 0.2]\n",
      " [4.7 3.2 1.3 0.2]\n",
      " [4.6 3.1 1.5 0.2]]\n",
      "\n",
      "First four labels:\n",
      "[0 0 0 0]\n"
     ]
    }
   ],
   "source": [
    "X, y = load_iris(return_X_y=True)\n",
    "num_classes = len(set(y))\n",
    "print(f\"We have {y.size} labeled examples across the following \"\n",
    "      f\"{num_classes} classes:\\n{set(y)}\\n\")\n",
    "print(f\"First four feature rows:\\n{X[:4]}\")\n",
    "print(f\"\\nFirst four labels:\\n{y[:4]}\")"
   ]
  },
  {
   "cell_type": "code",
   "execution_count": 8,
   "id": "f5f0c61c-6440-453d-94ef-cdac0fdf2762",
   "metadata": {
    "tags": []
   },
   "outputs": [
    {
     "name": "stdout",
     "output_type": "stream",
     "text": [
      "Training set labels:\n",
      "[0 2 1 2 1 0 2 0 2 0 0 2 0 2 1 1 1 2 2 1 1 0 1 2 2 0 1 1 1 1 0 0 0 2 1 2 0]\n"
     ]
    }
   ],
   "source": [
    "np.random.seed(0)\n",
    "X_train, X_test, y_train, y_test = train_test_split(X, y, train_size=0.25)\n",
    "print(f\"Training set labels:\\n{y_train}\")"
   ]
  },
  {
   "cell_type": "code",
   "execution_count": 9,
   "id": "64e587ef-3e18-44ec-8dfb-ac628913577f",
   "metadata": {
    "tags": []
   },
   "outputs": [
    {
     "data": {
      "image/png": "[encoded data removed]",
      "text/plain": [
       "<Figure size 432x288 with 1 Axes>"
      ]
     },
     "metadata": {
      "needs_background": "light"
     },
     "output_type": "display_data"
    }
   ],
   "source": [
    "pca_model = PCA()\n",
    "transformed_data_2D = pca_model.fit_transform(X_train)\n",
    " \n",
    "unlabeled_data = pca_model.transform(X_test)\n",
    "plt.scatter(unlabeled_data[:,0], unlabeled_data[:,1],\n",
    "            color='khaki', marker='^', label='test')\n",
    " \n",
    "for label in range(3):\n",
    "    data_subset = transformed_data_2D[y_train == label]\n",
    "    plt.scatter(data_subset[:,0], data_subset[:,1],\n",
    "            color=['r', 'k', 'b'][label], label=f'train: {label}')\n",
    " \n",
    "plt.legend()\n",
    "plt.show()"
   ]
  },
  {
   "cell_type": "markdown",
   "id": "3251bef2-68d1-459f-a134-084e5ce9e162",
   "metadata": {},
   "source": [
    "## Summary"
   ]
  },
  {
   "cell_type": "markdown",
   "id": "f2d26ce9-c17b-452d-9771-7eab8af867c3",
   "metadata": {},
   "source": [
    "## References"
   ]
  },
  {
   "cell_type": "markdown",
   "id": "4d1ca46b-b6a7-4ca4-b501-3ed8745116f0",
   "metadata": {},
   "source": [
    "1. <a href=\"https://en.wikipedia.org/wiki/K-nearest_neighbors_algorithm\">k-nearest neighbors algorithm</a>\n",
    "2. Marcello La Rocca, _Advanced algorithms and data structures_, Manning Publications."
   ]
  }
 ],
 "metadata": {
  "kernelspec": {
   "display_name": "Python 3 (ipykernel)",
   "language": "python",
   "name": "python3"
  },
  "language_info": {
   "codemirror_mode": {
    "name": "ipython",
    "version": 3
   },
   "file_extension": ".py",
   "mimetype": "text/x-python",
   "name": "python",
   "nbconvert_exporter": "python",
   "pygments_lexer": "ipython3",
   "version": "3.10.12"
  }
 },
 "nbformat": 4,
 "nbformat_minor": 5
}
