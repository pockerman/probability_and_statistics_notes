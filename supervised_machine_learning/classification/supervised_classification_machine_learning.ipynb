{
 "cells": [
  {
   "cell_type": "markdown",
   "id": "8d13be73-c0e1-4d44-a302-f88565f5e120",
   "metadata": {},
   "source": [
    "# Supervised Machine Learning-Classification"
   ]
  }
 ],
 "metadata": {
  "kernelspec": {
   "display_name": "Python 3 (ipykernel)",
   "language": "python",
   "name": "python3"
  },
  "language_info": {
   "codemirror_mode": {
    "name": "ipython",
    "version": 3
   },
   "file_extension": ".py",
   "mimetype": "text/x-python",
   "name": "python",
   "nbconvert_exporter": "python",
   "pygments_lexer": "ipython3",
   "version": "3.10.12"
  }
 },
 "nbformat": 4,
 "nbformat_minor": 5
}
