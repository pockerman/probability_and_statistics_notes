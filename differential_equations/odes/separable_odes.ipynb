{
 "cells": [
  {
   "cell_type": "markdown",
   "metadata": {},
   "source": [
    "# Variable Separation Method"
   ]
  },
  {
   "cell_type": "markdown",
   "metadata": {},
   "source": [
    "## Overview"
   ]
  },
  {
   "cell_type": "markdown",
   "metadata": {},
   "source": [
    "This item discusses the <a href=\"https://en.wikipedia.org/wiki/Separation_of_variables\">separation of variables method</a>. \n",
    "The separation of variables (also known as the Fourier method) is one of several methods for solving ordinary and partial differential equations. \n",
    "It allows one to rewrite an equation so that each of two variables occurs on a different side of the equation [2]. \n",
    "This is a very simple method provided \n",
    "we can factor the right hand side $f$ into a product of two function \n",
    "each of which depends on only one of the two independent variables."
   ]
  },
  {
   "cell_type": "markdown",
   "metadata": {},
   "source": [
    "In addition this section also introduces <a href=\"https://docs.sympy.org/latest/index.html\">sympy</a> a Python package for\n",
    "symbolic computing in Python. This package will help us immensenly to compute solutions of ODEs and then visualize the solution."
   ]
  },
  {
   "cell_type": "markdown",
   "metadata": {},
   "source": [
    "## Variable separation method"
   ]
  },
  {
   "cell_type": "markdown",
   "metadata": {},
   "source": [
    "Let's consider the model"
   ]
  },
  {
   "cell_type": "markdown",
   "metadata": {},
   "source": [
    "$$\\frac{dx}{dt}=f(t,x)$$"
   ]
  },
  {
   "cell_type": "markdown",
   "metadata": {},
   "source": [
    "Further, assume that the right hand side can be factored into a product of two function seach of which \n",
    "is dependent on one variable only i.e.\n"
   ]
  },
  {
   "cell_type": "markdown",
   "metadata": {},
   "source": [
    "$$f(t,x)=g(t)h(x)$$"
   ]
  },
  {
   "cell_type": "markdown",
   "metadata": {},
   "source": [
    "This is an important assumption as, in this case, we can rewrite the original model as"
   ]
  },
  {
   "cell_type": "markdown",
   "metadata": {},
   "source": [
    "$$\\frac{1}{h(x)}\\frac{dx}{dt}=g(t)$$"
   ]
  },
  {
   "cell_type": "markdown",
   "metadata": {},
   "source": [
    "or "
   ]
  },
  {
   "cell_type": "markdown",
   "metadata": {},
   "source": [
    "$$\\frac{1}{h(x)}dx=g(t)dt$$"
   ]
  },
  {
   "cell_type": "markdown",
   "metadata": {},
   "source": [
    "In fact this is the assumption that allows us to separate the variables involve. We can now use integration "
   ]
  },
  {
   "cell_type": "markdown",
   "metadata": {},
   "source": [
    "$$\\int \\frac{1}{h(x)}dx=\\int g(t)dt$$"
   ]
  },
  {
   "cell_type": "markdown",
   "metadata": {},
   "source": [
    "## Example"
   ]
  },
  {
   "cell_type": "markdown",
   "metadata": {},
   "source": [
    "Lets see an example on how to solve and ODE using the variables separation method. Consider the equation"
   ]
  },
  {
   "cell_type": "markdown",
   "metadata": {},
   "source": [
    "$$\\frac{dx}{dt}=\\frac{t}{x^2}$$"
   ]
  },
  {
   "cell_type": "markdown",
   "metadata": {},
   "source": [
    "The right hand side can be factored into a product of functions of $t$ and $x$:"
   ]
  },
  {
   "cell_type": "markdown",
   "metadata": {},
   "source": [
    "$$\\frac{dx}{dt}=\\frac{t}{x^2}=g(t)h(x)$$"
   ]
  },
  {
   "cell_type": "markdown",
   "metadata": {},
   "source": [
    "where $g(t)=t$ and $h(x)=1/x^2$. We can use separation of variables to solve the ODE"
   ]
  },
  {
   "cell_type": "markdown",
   "metadata": {},
   "source": [
    "$$\\int x^2 dx=\\int t dt$$"
   ]
  },
  {
   "cell_type": "markdown",
   "metadata": {},
   "source": [
    "which gives"
   ]
  },
  {
   "cell_type": "markdown",
   "metadata": {},
   "source": [
    "$$\\frac{x^3}{3}=\\frac{t^2}{2} + C$$"
   ]
  },
  {
   "cell_type": "markdown",
   "metadata": {},
   "source": [
    "Let's now use symbolic Python to solve the model above. You will need the <a href=\"https://docs.sympy.org/latest/index.html\">sympy</a> Python package installed."
   ]
  },
  {
   "cell_type": "code",
   "execution_count": 7,
   "metadata": {},
   "outputs": [],
   "source": [
    "import sympy\n",
    "sympy.init_printing()"
   ]
  },
  {
   "cell_type": "markdown",
   "metadata": {},
   "source": [
    "We need to introduce the symbols we will be using"
   ]
  },
  {
   "cell_type": "code",
   "execution_count": 8,
   "metadata": {},
   "outputs": [],
   "source": [
    "xdot, t = sympy.symbols('xdot, t')\n",
    "x = sympy.Function('x')"
   ]
  },
  {
   "cell_type": "markdown",
   "metadata": {},
   "source": [
    "Now define the equation that we want to solve"
   ]
  },
  {
   "cell_type": "code",
   "execution_count": 9,
   "metadata": {},
   "outputs": [],
   "source": [
    "equation = sympy.Derivative(x(t), t, 1) - t / x(t)**2 "
   ]
  },
  {
   "cell_type": "markdown",
   "metadata": {},
   "source": [
    "Use ```dsolve``` to solve the equation"
   ]
  },
  {
   "cell_type": "code",
   "execution_count": 10,
   "metadata": {},
   "outputs": [
    {
     "data": {
      "image/png": "[encoded data removed]",
      "text/latex": [
       "$\\displaystyle \\left[ x{\\left(t \\right)} = \\sqrt[3]{C_{1} + \\frac{3 t^{2}}{2}}, \\  x{\\left(t \\right)} = \\frac{\\left(-1 - \\sqrt{3} i\\right) \\sqrt[3]{C_{1} + \\frac{3 t^{2}}{2}}}{2}, \\  x{\\left(t \\right)} = \\frac{\\left(-1 + \\sqrt{3} i\\right) \\sqrt[3]{C_{1} + \\frac{3 t^{2}}{2}}}{2}\\right]$"
      ],
      "text/plain": [
       "⎡                                                 ___________                 \n",
       "⎢                                                ╱         2                  \n",
       "⎢            ___________                        ╱       3⋅t                   \n",
       "⎢           ╱         2          (-1 - √3⋅ⅈ)⋅3 ╱   C₁ + ────          (-1 + √3\n",
       "⎢          ╱       3⋅t                       ╲╱          2                    \n",
       "⎢x(t) = 3 ╱   C₁ + ──── , x(t) = ────────────────────────────, x(t) = ────────\n",
       "⎣       ╲╱          2                         2                               \n",
       "\n",
       "         ___________⎤\n",
       "        ╱         2 ⎥\n",
       "       ╱       3⋅t  ⎥\n",
       "⋅ⅈ)⋅3 ╱   C₁ + ──── ⎥\n",
       "    ╲╱          2   ⎥\n",
       "────────────────────⎥\n",
       "     2              ⎦"
      ]
     },
     "execution_count": 10,
     "metadata": {},
     "output_type": "execute_result"
    }
   ],
   "source": [
    "sol = sympy.dsolve(equation, hint='separable')\n",
    "sol"
   ]
  },
  {
   "cell_type": "markdown",
   "metadata": {},
   "source": [
    "## Summary"
   ]
  },
  {
   "cell_type": "markdown",
   "metadata": {},
   "source": [
    "In this section we reviewed the separation of variables method for solving ODEs of the form "
   ]
  },
  {
   "cell_type": "markdown",
   "metadata": {},
   "source": [
    "$$\\frac{dx}{dt}=f(t,x)$$"
   ]
  },
  {
   "cell_type": "markdown",
   "metadata": {},
   "source": [
    "In this approach we assume that the right hand side can be factored into a product of functions each of which depends \n",
    "on one independent variable only i.e. "
   ]
  },
  {
   "cell_type": "markdown",
   "metadata": {},
   "source": [
    "$$f(t,x)=g(t)h(x)$$"
   ]
  },
  {
   "cell_type": "markdown",
   "metadata": {},
   "source": [
    "The method then proceeds by collecting every term depending on each variable on separate sides of the equation and perform the\n",
    "integration."
   ]
  },
  {
   "cell_type": "markdown",
   "metadata": {},
   "source": [
    "## <a name=\"refs\"></a> References"
   ]
  },
  {
   "cell_type": "markdown",
   "metadata": {},
   "source": [
    "1. Stephen Lynch, _Dynamical Systems with Applications using Python_, Birkhauser\n",
    "2. <a href=\"https://en.wikipedia.org/wiki/Separation_of_variables\">Separation of variables method</a>"
   ]
  }
 ],
 "metadata": {
  "kernelspec": {
   "display_name": "Python 3 (ipykernel)",
   "language": "python",
   "name": "python3"
  },
  "language_info": {
   "codemirror_mode": {
    "name": "ipython",
    "version": 3
   },
   "file_extension": ".py",
   "mimetype": "text/x-python",
   "name": "python",
   "nbconvert_exporter": "python",
   "pygments_lexer": "ipython3",
   "version": "3.10.6"
  }
 },
 "nbformat": 4,
 "nbformat_minor": 4
}
