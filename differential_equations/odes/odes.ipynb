{
 "cells": [
  {
   "cell_type": "markdown",
   "metadata": {},
   "source": [
    "# Ordinary Differential Equations "
   ]
  },
  {
   "cell_type": "markdown",
   "metadata": {},
   "source": [
    "In this chapter we look at basic ODE models. A quite large number of real-world systems  can be described in terms of state variables. These state variables correspond to important system properties such as velocity, acceleration, position or even battery levels in an autonomous system. "
   ]
  },
  {
   "cell_type": "markdown",
   "metadata": {},
   "source": [
    "Mathematical modelling of such systems is typically needed and it is not always easy to come up with accurate and descriptive models. In fact, as <a href=\"https://en.wikipedia.org/wiki/George_E._P._Box\">George Box</a> said <a href=\"https://en.wikipedia.org/wiki/All_models_are_wrong\">all models are wrong but some are useful</a>. Nonetheless, the simplest models of such systems are given in terms of ordinary differential equations (ODEs) describing the rates of change of the state variables in terms of time."
   ]
  },
  {
   "cell_type": "markdown",
   "metadata": {},
   "source": [
    "For a system involving $N$ state variables, the mathematical model can be writtern as"
   ]
  },
  {
   "cell_type": "markdown",
   "metadata": {},
   "source": [
    "$$\\frac{d\\mathbf{x}}{dt} = \\mathbf{f}(\\mathbf{x},t), ~~ \\mathbf{x}(0) = \\mathbf{x}_0$$"
   ]
  },
  {
   "cell_type": "markdown",
   "metadata": {},
   "source": [
    "where $\\mathbf{x}$ is the state vector i.e."
   ]
  },
  {
   "cell_type": "markdown",
   "metadata": {},
   "source": [
    "$$\\mathbf{x} = (x_1(t), x_2(t), \\dots, x_N(t)) \\in R^N$$"
   ]
  },
  {
   "cell_type": "markdown",
   "metadata": {},
   "source": [
    "The system starts at the initial state $\\mathbf{x}(0)$. Each state $x_i$,  is associated with a the rate function $f_i$. We collect these in the vector $\\mathbf{f}$ i.e."
   ]
  },
  {
   "cell_type": "markdown",
   "metadata": {},
   "source": [
    "$$\\mathbf{f} = (f_1, f_2, \\dots, f_N)$$"
   ]
  },
  {
   "cell_type": "markdown",
   "metadata": {},
   "source": [
    "Note that each $f_i$ can potentially depend on all of the state variables [1]."
   ]
  },
  {
   "cell_type": "markdown",
   "metadata": {},
   "source": [
    "When the rate functions $f_i$ have an explicit dependence on the time variable $t$, the system above is called <a href=\"https://en.wikipedia.org/wiki/Non-autonomous_system_(mathematics)\">non-autonomous</a> [1]. On the other hand, if the there is no such a dependence the system is called <a href=\"https://en.wikipedia.org/wiki/Autonomous_system_(mathematics)\">autonomous</a> [1]. Thus, in an autonomous system the rate functions depend only the current state of the system. In this case the system has the form [1]"
   ]
  },
  {
   "cell_type": "markdown",
   "metadata": {},
   "source": [
    "$$\\frac{d\\mathbf{x}}{dt} = \\mathbf{f}(\\mathbf{x}), ~~ \\mathbf{x}(0) = \\mathbf{x}_0$$"
   ]
  },
  {
   "cell_type": "markdown",
   "metadata": {},
   "source": [
    "Systems that can be stated in the form above are called dynamical systems [1]. Given a dynamical system, we are mainly interested in two fundamental issues [1]"
   ]
  },
  {
   "cell_type": "markdown",
   "metadata": {},
   "source": [
    "- Dynamics\n",
    "- Stability"
   ]
  },
  {
   "cell_type": "markdown",
   "metadata": {},
   "source": [
    "The first issue is concerned with the behaviour of the solution for $t>0$ starting form $\\mathbf{x}_0$. Is this oscillatory? Exponentially decreasing? Stability is concenrned with the following question: _Can the system's behaviour be predicted starting from broad sets of initial conditions? [1]_"
   ]
  },
  {
   "cell_type": "markdown",
   "metadata": {},
   "source": [
    "When $N=1$ or $N=2$ the complete behaviour of the system can be understood from local properties of the rate functions  and geometric descriptions of the set of solutions [1]. This can yield a complete characterisation of the dynamics without the need to attempt to exlicitly construct the solutions. In particular, when $N=2$ the geometric approach is called <a href=\"https://en.wikipedia.org/wiki/Phase_plane\">phase plane analysis</a>.   "
   ]
  },
  {
   "cell_type": "markdown",
   "metadata": {},
   "source": [
    "## <a name=\"refs\"></a> References"
   ]
  },
  {
   "cell_type": "markdown",
   "metadata": {},
   "source": [
    "1. Thomas Witelski and Mark Bowen, ```Methods of Mathematical Modelling. Continuous Systems and Differential Equations```, Springer\n",
    "2. <a href=\"https://en.wikipedia.org/wiki/George_E._P._Box\">George Box</a>\n",
    "3. <a href=\"https://en.wikipedia.org/wiki/All_models_are_wrong\">All models are wrong but some are useful</a>\n",
    "4. <a href=\"https://en.wikipedia.org/wiki/Non-autonomous_system_(mathematics)\">Non-autonomous system</a>\n",
    "5. <a href=\"https://en.wikipedia.org/wiki/Autonomous_system_(mathematics)\">Autonomous system</a>\n",
    "6. <a href=\"https://en.wikipedia.org/wiki/Phase_plane\">Phase plane analysis</a>"
   ]
  }
 ],
 "metadata": {
  "kernelspec": {
   "display_name": "Python 3 (ipykernel)",
   "language": "python",
   "name": "python3"
  },
  "language_info": {
   "codemirror_mode": {
    "name": "ipython",
    "version": 3
   },
   "file_extension": ".py",
   "mimetype": "text/x-python",
   "name": "python",
   "nbconvert_exporter": "python",
   "pygments_lexer": "ipython3",
   "version": "3.10.6"
  }
 },
 "nbformat": 4,
 "nbformat_minor": 4
}
