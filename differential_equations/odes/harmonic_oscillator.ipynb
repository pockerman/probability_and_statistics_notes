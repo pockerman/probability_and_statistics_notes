{
 "cells": [
  {
   "cell_type": "markdown",
   "id": "e2f62ee4-28b2-4947-b8a9-a59271f2c624",
   "metadata": {},
   "source": [
    "# Harmonic Oscillator"
   ]
  },
  {
   "cell_type": "markdown",
   "id": "94a13f91-5af0-4dfe-9b73-f044d533f0f1",
   "metadata": {},
   "source": [
    "## Overview"
   ]
  },
  {
   "cell_type": "markdown",
   "id": "c1b51b32-ffae-4a6c-97f6-d8df277b90b7",
   "metadata": {},
   "source": [
    "In this section we will look into one of the fundamental ODE for physics, mechanical and electrical engineering namely the \n",
    "periodically forced, damped <a href=\"https://en.wikipedia.org/wiki/Harmonic_oscillator\">harmonic oscillator</a> i.e."
   ]
  },
  {
   "cell_type": "markdown",
   "id": "badeb05a-c7ba-419f-893e-1b9e49facda0",
   "metadata": {},
   "source": [
    "## The harmonic oscillator"
   ]
  },
  {
   "cell_type": "markdown",
   "id": "51240956-16b5-46c7-b292-ec70dce16040",
   "metadata": {},
   "source": [
    "$$m\\ddot{x}+\\alpha\\dot{x} + kx= Asin(\\Omega t + \\rho)$$"
   ]
  },
  {
   "cell_type": "markdown",
   "id": "529f306f-d34a-46b4-b6b2-1199eae7f032",
   "metadata": {},
   "source": [
    "The interpretation of the variable $x$ depends on the application field. In a mechanical application, this will\n",
    "typically represent dispacement. $m$ is a prescribed mass, $\\alpha$ is a viscous damping coefficient, $k$ is the spring constant \n",
    "from <a href=\"https://en.wikipedia.org/wiki/Hooke's_law\">Hooke's force law</a>, $Asin(\\Omega t + \\rho)$ is a sinusoidal external force with amplitude $A$, circular frequency $\\Omega$ and phase shift $\\rho$"
   ]
  },
  {
   "cell_type": "markdown",
   "id": "e3931cbf-0583-437e-82dd-b4188bdcf765",
   "metadata": {},
   "source": [
    "## Analytic solution"
   ]
  },
  {
   "cell_type": "markdown",
   "id": "46a97cdf-6b74-42fd-9eb7-e709ad5b80a6",
   "metadata": {},
   "source": [
    "Let's use the Python package ```sympy``` to analitically solve a simplified version of the harmonic oscillator i.e."
   ]
  },
  {
   "cell_type": "markdown",
   "id": "3736faab-8f9f-4fa7-8412-0799769bb182",
   "metadata": {},
   "source": [
    "$$m\\ddot{x}+\\alpha\\dot{x} + kx= 0$$"
   ]
  },
  {
   "cell_type": "code",
   "execution_count": 7,
   "id": "759e2e02-f811-44e5-85e7-3f3ce0d04e8c",
   "metadata": {},
   "outputs": [],
   "source": [
    "import sympy\n",
    "\n",
    "sympy.init_printing()"
   ]
  },
  {
   "cell_type": "markdown",
   "id": "b9b34181-ec1d-4f97-847b-da17020da40e",
   "metadata": {},
   "source": [
    "With ```sympy``` we first need to define that we will be using."
   ]
  },
  {
   "cell_type": "code",
   "execution_count": 2,
   "id": "668fd951-cc08-4595-baac-1434ebdea3bc",
   "metadata": {},
   "outputs": [],
   "source": [
    "\n",
    "m, k, x_0, xdot_0, omega_0, t = sympy.symbols('m, k, x_0, xdot_0, omega_0, t')\n",
    "x = sympy.Function('x')"
   ]
  },
  {
   "cell_type": "markdown",
   "id": "488ebf1d-c437-498d-bd38-9a38953e1a43",
   "metadata": {},
   "source": [
    "We can then use ```dsolve``` in order to solve the equation:"
   ]
  },
  {
   "cell_type": "code",
   "execution_count": 3,
   "id": "25b2beb8-8ba4-469b-b903-bdd703a48e72",
   "metadata": {},
   "outputs": [
    {
     "data": {
      "image/png": "[encoded data removed]",
      "text/latex": [
       "$\\displaystyle x{\\left(t \\right)} = C_{1} e^{- i \\omega_{0} t} + C_{2} e^{i \\omega_{0} t}$"
      ],
      "text/plain": [
       "           -ⅈ⋅ω₀⋅t       ⅈ⋅ω₀⋅t\n",
       "x(t) = C₁⋅ℯ        + C₂⋅ℯ      "
      ]
     },
     "execution_count": 3,
     "metadata": {},
     "output_type": "execute_result"
    }
   ],
   "source": [
    "sol = sympy.dsolve(sympy.Derivative(x(t), t, 2) + omega_0**2 * x(t))\n",
    "sol"
   ]
  },
  {
   "cell_type": "markdown",
   "id": "c7458624-2cf6-4fef-a2a9-62be70eea1e2",
   "metadata": {},
   "source": [
    "Note that this has left two unspecified constants. This is because we did not provide any initial conditions\n",
    "in order to constraint the system. Moreover, we know that the general solution of this equation involves periodic functions\n",
    "which in our case are sines and cosines [1].  Indeed, recall <a href=\"https://en.wikipedia.org/wiki/Euler's_formula\">Euler's formula</a>:"
   ]
  },
  {
   "cell_type": "markdown",
   "id": "a508be3b-6356-48ef-a726-995483169889",
   "metadata": {},
   "source": [
    "$$e^{ix} = cos(x) + isin(x)$$"
   ]
  },
  {
   "cell_type": "code",
   "execution_count": 4,
   "id": "095e89ac-1d8a-4485-962c-59409eb49a4c",
   "metadata": {},
   "outputs": [
    {
     "data": {
      "image/png": "[encoded data removed]",
      "text/latex": [
       "$\\displaystyle \\left[ C_{1} + C_{2} = x_{0}, \\  - i C_{1} \\omega_{0} + i C_{2} \\omega_{0} = \\dot{x}_{0}\\right]$"
      ],
      "text/plain": [
       "[C₁ + C₂ = x₀, -ⅈ⋅C₁⋅ω₀ + ⅈ⋅C₂⋅ω₀ = ẋ₀]"
      ]
     },
     "execution_count": 4,
     "metadata": {},
     "output_type": "execute_result"
    }
   ],
   "source": [
    "init_conds = [sympy.Eq(sol.args[1].subs(t, 0), x_0), sympy.Eq(sol.args[1].diff(t).subs(t, 0), xdot_0)]\n",
    "init_conds"
   ]
  },
  {
   "cell_type": "code",
   "execution_count": 6,
   "id": "c83db7bf-a85e-410d-a0b8-f4c68012243e",
   "metadata": {},
   "outputs": [
    {
     "data": {
      "image/png": "[encoded data removed]",
      "text/latex": [
       "$\\displaystyle \\left[ \\left\\{ C_{1} : \\frac{\\omega_{0} x_{0} + i \\dot{x}_{0}}{2 \\omega_{0}}, \\  C_{2} : \\frac{\\omega_{0} x_{0} - i \\dot{x}_{0}}{2 \\omega_{0}}\\right\\}\\right]$"
      ],
      "text/plain": [
       "⎡⎧    ω₀⋅x₀ + ⅈ⋅ẋ₀      ω₀⋅x₀ - ⅈ⋅ẋ₀⎫⎤\n",
       "⎢⎨C₁: ────────────, C₂: ────────────⎬⎥\n",
       "⎣⎩        2⋅ω₀              2⋅ω₀    ⎭⎦"
      ]
     },
     "execution_count": 6,
     "metadata": {},
     "output_type": "execute_result"
    }
   ],
   "source": [
    "solved_init_conds = sympy.solve(init_conds)\n",
    "solved_init_conds"
   ]
  },
  {
   "cell_type": "markdown",
   "id": "0754bb10-1e3a-49bc-a48f-7af6efefbc2f",
   "metadata": {},
   "source": [
    "The full solution is"
   ]
  },
  {
   "cell_type": "code",
   "execution_count": 8,
   "id": "e80961b0-76dc-471a-a92a-178cb0f99d1f",
   "metadata": {},
   "outputs": [
    {
     "data": {
      "image/png": "[encoded data removed]",
      "text/latex": [
       "$\\displaystyle x{\\left(t \\right)} = \\frac{\\left(\\omega_{0} x_{0} - i \\dot{x}_{0}\\right) e^{i \\omega_{0} t}}{2 \\omega_{0}} + \\frac{\\left(\\omega_{0} x_{0} + i \\dot{x}_{0}\\right) e^{- i \\omega_{0} t}}{2 \\omega_{0}}$"
      ],
      "text/plain": [
       "                       ⅈ⋅ω₀⋅t                   -ⅈ⋅ω₀⋅t\n",
       "       (ω₀⋅x₀ - ⅈ⋅ẋ₀)⋅ℯ         (ω₀⋅x₀ + ⅈ⋅ẋ₀)⋅ℯ       \n",
       "x(t) = ────────────────────── + ───────────────────────\n",
       "                2⋅ω₀                      2⋅ω₀         "
      ]
     },
     "execution_count": 8,
     "metadata": {},
     "output_type": "execute_result"
    }
   ],
   "source": [
    "full_solution = sol.subs(solved_init_conds[0])\n",
    "full_solution"
   ]
  },
  {
   "cell_type": "markdown",
   "id": "e1a4bc75-badf-4847-90ae-26cea448901c",
   "metadata": {},
   "source": [
    "## Summary"
   ]
  },
  {
   "cell_type": "markdown",
   "id": "4172e923-faa3-4387-95f4-f20ff572632f",
   "metadata": {},
   "source": [
    "## References"
   ]
  },
  {
   "cell_type": "markdown",
   "id": "70de289a-9695-4d0d-842c-35eaeca2a894",
   "metadata": {},
   "source": [
    "1. Carmen Chicone, _Invitation to Applied Mathematics Differential Equations, Modeling and Computation_, Elsevier, 2017."
   ]
  }
 ],
 "metadata": {
  "kernelspec": {
   "display_name": "Python 3 (ipykernel)",
   "language": "python",
   "name": "python3"
  },
  "language_info": {
   "codemirror_mode": {
    "name": "ipython",
    "version": 3
   },
   "file_extension": ".py",
   "mimetype": "text/x-python",
   "name": "python",
   "nbconvert_exporter": "python",
   "pygments_lexer": "ipython3",
   "version": "3.10.6"
  }
 },
 "nbformat": 4,
 "nbformat_minor": 5
}
