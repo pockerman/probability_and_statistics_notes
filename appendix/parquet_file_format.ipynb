{
 "cells": [
  {
   "cell_type": "markdown",
   "id": "4e4213be-3ed2-488b-b54d-e44a66f92d13",
   "metadata": {},
   "source": [
    "# Parquet File Format"
   ]
  },
  {
   "cell_type": "markdown",
   "id": "85efb407-df2b-454c-a673-1bca68689729",
   "metadata": {},
   "source": [
    "Storing data in CSV format is very popular. However, the CSV format has some\n",
    "severe limitations when considering big data. For example it cannot accommodate column types which leads to the problem of unexpected values. Moreover, numbers are represented via text although these can be represented more compactly in binary form.\n",
    "Traversing a CSV file is difficult as each row in a CSV file can vary in size. This means that it is not possible to compute the \n",
    "location of a row.\n"
   ]
  },
  {
   "cell_type": "markdown",
   "id": "6289443b-1be4-48ee-8777-014b9537b75a",
   "metadata": {},
   "source": [
    "In this appendix, we will go over the <a href=\"https://parquet.apache.org/\">Parquet file format</a>.\n",
    "This is probably the most efficiently format of storing heterogeneous data at the time of writing these notes."
   ]
  },
  {
   "cell_type": "code",
   "execution_count": null,
   "id": "997704ed-14d3-475f-bf35-525757aafbf8",
   "metadata": {},
   "outputs": [],
   "source": []
  }
 ],
 "metadata": {
  "kernelspec": {
   "display_name": "Python 3 (ipykernel)",
   "language": "python",
   "name": "python3"
  },
  "language_info": {
   "codemirror_mode": {
    "name": "ipython",
    "version": 3
   },
   "file_extension": ".py",
   "mimetype": "text/x-python",
   "name": "python",
   "nbconvert_exporter": "python",
   "pygments_lexer": "ipython3",
   "version": "3.10.12"
  }
 },
 "nbformat": 4,
 "nbformat_minor": 5
}
