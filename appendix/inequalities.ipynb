{
 "cells": [
  {
   "cell_type": "markdown",
   "id": "e7fd9baf-16bb-42ce-910b-0edeb76cdd20",
   "metadata": {},
   "source": [
    "# Inequalities {#sec-inequalites}"
   ]
  },
  {
   "cell_type": "markdown",
   "id": "d25a5488-6976-465f-9757-7151fb7ab883",
   "metadata": {},
   "source": [
    "## Overview\n",
    "\n",
    "In this appendix, we will give a review of some frequently used inqualities in probability theory and statistics.\n",
    "Sometimes it is hard to compute quantities of interest exactly therefore we would like to know their bounding behaviour.\n",
    "Inqualities provide to us such a knowledge. \n",
    "\n",
    "In particular, this appendix discusses the following inequalities\n",
    "\n",
    "- <a href=\"https://en.wikipedia.org/wiki/Markov's_inequality\">Markov's inequality</a>\n",
    "- <a href=\"https://en.wikipedia.org/wiki/Chebyshev's_inequality\">Chebyshev's inequality</a>\n",
    "- <a href=\"https://en.wikipedia.org/wiki/Hoeffding's_inequality\">Hoeffding's inequality</a>\n",
    "\n",
    "The material in this appendix is taken from [1]\n"
   ]
  },
  {
   "cell_type": "markdown",
   "id": "95f2b67c-86ad-4536-bf5f-f2092350236a",
   "metadata": {},
   "source": [
    "## Markov's inequality\n",
    "\n",
    "The first bound we will look into  is perhaps the most basic of all probability inequalities,\n",
    "and it is known as <a href=\"https://en.wikipedia.org/wiki/Markov's_inequality\">Markov's inequality</a>.\n",
    "It provides  an upper bound on the probability that a non-negative random variable is greater than or equal to some positive constant.  Specifically, we have the following theorem\n",
    "\n",
    "----\n",
    "**Theorem Markov's inequality**\n",
    "\n",
    "Let $X$ be a non-negtaive random variable. Assume that $E\\left[X\\right]$ exists. Then for any $t>0$\n",
    "\n",
    "$$P(X>t) \\leq \\frac{E\\left[X\\right]}{t}$$\n",
    "\n",
    "----\n",
    "\n",
    "Markov's inequality is tight in the sense that for each chosen positive constant $t$, there exists a random variable such that the inequality is in fact an equality [2].\n",
    "\n",
    "## Chebyshev's inquality\n",
    "\n",
    "Chebyshev's inequality gives us an upper bound for a quantity of the form\n",
    "\n",
    "$$P(| X - \\mu |> t)$$\n",
    "\n",
    "Specifically, we have the following theorem, see [1].\n",
    "\n",
    "----\n",
    "**Theorem Chebyshev's inquality**\n",
    "\n",
    "Let the random variable $X$ with $E\\left[X\\right]= \\mu$ and $Var\\left[X\\right] = \\sigma^2$. Then\n",
    "\n",
    "$$P(| X - \\mu |> t) \\leq \\frac{\\sigma^2}{t^2}$$\n",
    "\n",
    "and \n",
    "\n",
    "$$P(| Z |> t) \\leq \\frac{1}{t^2}$$\n",
    "\n",
    "where $Z = (X - \\mu)/\\sigma$\n",
    "\n",
    "_Proof_\n",
    "\n",
    "We can use Markov's inequality to prove the theorem.\n",
    "\n",
    "----\n",
    "\n",
    "\n",
    "\n",
    "## Hoeffding's inequality\n",
    "\n"
   ]
  },
  {
   "cell_type": "markdown",
   "id": "0ef63428-a94c-416f-a65b-594ef56fc0af",
   "metadata": {},
   "source": [
    "## References\n",
    "\n",
    "1. Larry Wasserman, _All of Statistics. A Concise Course in Statistical Inference_, Springer 2003.\n",
    "2. <a href=\"https://en.wikipedia.org/wiki/Markov's_inequality\">Markov's inequality</a>\n",
    "3. <a href=\"https://en.wikipedia.org/wiki/Chebyshev's_inequality\">Chebyshev's inequality</a>\n",
    "4. <a href=\"https://en.wikipedia.org/wiki/Hoeffding's_inequality\">Hoeffding's inequality</a>"
   ]
  }
 ],
 "metadata": {
  "kernelspec": {
   "display_name": "Python 3 (ipykernel)",
   "language": "python",
   "name": "python3"
  },
  "language_info": {
   "codemirror_mode": {
    "name": "ipython",
    "version": 3
   },
   "file_extension": ".py",
   "mimetype": "text/x-python",
   "name": "python",
   "nbconvert_exporter": "python",
   "pygments_lexer": "ipython3",
   "version": "3.10.12"
  }
 },
 "nbformat": 4,
 "nbformat_minor": 5
}
