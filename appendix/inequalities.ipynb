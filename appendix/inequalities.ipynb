{
 "cells": [
  {
   "cell_type": "markdown",
   "id": "e7fd9baf-16bb-42ce-910b-0edeb76cdd20",
   "metadata": {},
   "source": [
    "# Inequalities {#sec-inequalites}"
   ]
  },
  {
   "cell_type": "markdown",
   "id": "d25a5488-6976-465f-9757-7151fb7ab883",
   "metadata": {},
   "source": [
    "## Overview\n",
    "\n",
    "In this appendix, we will give a review of some frequently used inqualities in probability theory and statistics.\n",
    "Sometimes it is hard to compute quantities of interest exactly therefore we would like to know their bounding behaviour.\n",
    "Inqualities provide to us such a knowledge.\n"
   ]
  },
  {
   "cell_type": "markdown",
   "id": "95f2b67c-86ad-4536-bf5f-f2092350236a",
   "metadata": {},
   "source": [
    "## Chebyshev's Inquality\n",
    "\n",
    "Chebyshev's inequality gives us an upper bound for a quantity of the form\n",
    "\n",
    "$$P(| X - \\mu |> t)$$\n",
    "\n",
    "Specifically, we have the following theorem, see [1].\n",
    "\n",
    "----\n",
    "**Theorem Chebyshev's inquality**\n",
    "\n",
    "Let the random variable $X$ with $E\\left[X\\right]= \\mu$ and $Var\\left[X\\right] = \\sigma^2$. Then\n",
    "\n",
    "$$P(| X - \\mu |> t) \\leq \\frac{\\sigma^2}{t^2}$$\n",
    "\n",
    "and \n",
    "\n",
    "$$P(| Z |> t) \\leq \\frac{1}{t^2}$$\n",
    "\n",
    "where $Z = (X - \\mu)/\\sigma$\n",
    "\n",
    "_Proof_\n",
    "\n",
    "We can use Markov's inequality to prove the theorem.\n",
    "\n",
    "----"
   ]
  },
  {
   "cell_type": "markdown",
   "id": "0ef63428-a94c-416f-a65b-594ef56fc0af",
   "metadata": {},
   "source": [
    "## References\n",
    "\n",
    "1. Larry Wasserman, _All of Statistics. A Concise Course in Statistical Inference_, Springer 2003."
   ]
  }
 ],
 "metadata": {
  "kernelspec": {
   "display_name": "Python 3 (ipykernel)",
   "language": "python",
   "name": "python3"
  },
  "language_info": {
   "codemirror_mode": {
    "name": "ipython",
    "version": 3
   },
   "file_extension": ".py",
   "mimetype": "text/x-python",
   "name": "python",
   "nbconvert_exporter": "python",
   "pygments_lexer": "ipython3",
   "version": "3.10.12"
  }
 },
 "nbformat": 4,
 "nbformat_minor": 5
}
