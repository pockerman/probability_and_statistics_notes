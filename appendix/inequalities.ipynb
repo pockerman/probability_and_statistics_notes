{
 "cells": [
  {
   "cell_type": "markdown",
   "id": "e7fd9baf-16bb-42ce-910b-0edeb76cdd20",
   "metadata": {},
   "source": [
    "# Inequalities {#sec-inequalites}"
   ]
  },
  {
   "cell_type": "markdown",
   "id": "d25a5488-6976-465f-9757-7151fb7ab883",
   "metadata": {},
   "source": [
    "## Overview\n",
    "\n",
    "In this appendix, we will give a review of some frequently used inqualities in probability theory and statistics.\n",
    "Sometimes it is hard to compute quantities of interest exactly therefore we would like to know their bounding behaviour.\n",
    "Inqualities provide to us such a knowledge. \n",
    "\n",
    "In particular, this appendix discusses the following inequalities\n",
    "\n",
    "- <a href=\"https://en.wikipedia.org/wiki/Markov's_inequality\">Markov's inequality</a>\n",
    "- <a href=\"https://en.wikipedia.org/wiki/Chebyshev's_inequality\">Chebyshev's inequality</a>\n",
    "- <a href=\"https://en.wikipedia.org/wiki/Hoeffding's_inequality\">Hoeffding's inequality</a>\n",
    "\n",
    "The material in this appendix is taken from [1]\n"
   ]
  },
  {
   "cell_type": "markdown",
   "id": "95f2b67c-86ad-4536-bf5f-f2092350236a",
   "metadata": {},
   "source": [
    "## Markov's inequality\n",
    "\n",
    "The first bound we will look into  is perhaps the most basic of all probability inequalities,\n",
    "and it is known as <a href=\"https://en.wikipedia.org/wiki/Markov's_inequality\">Markov's inequality</a>.\n",
    "It provides  an upper bound on the probability that a non-negative random variable is greater than or equal to some positive constant.  Specifically, we have the following theorem\n",
    "\n",
    "----\n",
    "**Theorem Markov's inequality**\n",
    "\n",
    "Let $X$ be a non-negtaive random variable. Assume that $E\\left[X\\right]$ exists. Then for any $t>0$\n",
    "\n",
    "$$P(X>t) \\leq \\frac{E\\left[X\\right]}{t}$$\n",
    "\n",
    "----\n",
    "\n",
    "Markov's inequality is tight in the sense that for each chosen positive constant $t$, there exists a random variable such that the inequality is in fact an equality [2].\n",
    "\n",
    "## Chebyshev's inquality\n",
    "\n",
    "Chebyshev's inequality gives us an upper bound for a quantity of the form\n",
    "\n",
    "$$P(| X - \\mu |> t)$$\n",
    "\n",
    "Specifically, we have the following theorem, see [1].\n",
    "\n",
    "----\n",
    "**Theorem Chebyshev's inquality**\n",
    "\n",
    "Let the random variable $X$ with $E\\left[X\\right]= \\mu$ and $Var\\left[X\\right] = \\sigma^2$. Then\n",
    "\n",
    "$$P(| X - \\mu |> t) \\leq \\frac{\\sigma^2}{t^2}$$\n",
    "\n",
    "and \n",
    "\n",
    "$$P(| Z |> t) \\leq \\frac{1}{t^2}$$\n",
    "\n",
    "where $Z = (X - \\mu)/\\sigma$\n",
    "\n",
    "_Proof_\n",
    "\n",
    "We can use Markov's inequality to prove the theorem.\n",
    "\n",
    "----\n",
    "\n",
    "\n",
    "\n",
    "## Hoeffding's inequality\n",
    "\n",
    "\n",
    "Hoeffding’s inequality is a powerful technique for bounding the probability that sums of\n",
    "bounded random variables are too large or too small. Specifically, Hoeffding's inequality provides an upper bound on the probability that the sum of bounded independent random variables deviates from its expected value by more than a certain amount. In particular,\n",
    "\n",
    "----\n",
    "**Theorem Hoeffding's inequality**\n",
    "\n",
    "Let the indepenedent random variables $X1_, \\dots , X_n$ such that $a \\leq X_i \\leq b$.\n",
    "Consider some $t \\geq 0$. Then \n",
    "\n",
    "$$P\\left(\\frac{1}{n} \\sum_i \\left(X_i - E\\left[X_i\\right]\\right) \\geq t\\right) \\leq exp \\left(-\\frac{2nt^2}{(b-a)^2}\\right)$$\n",
    "\n",
    "and \n",
    "\n",
    "\n",
    "$$P\\left(\\frac{1}{n} \\sum_i \\left(X_i - E\\left[X_i\\right]\\right) \\leq -t\\right) \\leq exp \\left(-\\frac{2nt^2}{(b-a)^2}\\right)$$\n",
    "\n",
    "----\n",
    "\n",
    "\n",
    "Note that the inequalities also hold when the Xi have been obtained using sampling without replacement; in this case the random variables are not independent anymore."
   ]
  },
  {
   "cell_type": "markdown",
   "id": "1d26f64b-8565-4241-a9bf-ba7a5a0e47b7",
   "metadata": {},
   "source": [
    "**Remark**\n",
    "\n",
    "Both Hoeffding's inequality and Chebyshev's inequalities allow us to say something about expressions of the form\n",
    "\n",
    "$$P\\left(|X - \\mu| \\geq t \\right)$$\n",
    "\n",
    "In particular, they allow us to have an upper bound for this expression. Consider for example $X_1, \\dots, X_n \\sim Bernoulli(p)$. Let $n=100$ and $t=0.2$. then we have the following upper bounds\n",
    "\n",
    "**Chebyshev's bound**\n",
    "\n",
    "$$P\\left(|\\bar{X}_n - p| \\geq 0.2 \\right) \\leq \\frac{Var\\left[ \\bar{X}_n \\right]}{0.2^2} = \\frac{p(1-p)}{n0.2^2} \\leq \\frac{1}{4n0.2^2}=0.0625$$\n",
    "\n",
    "**Hoeffding's bound**\n",
    "\n",
    "$$P\\left(|\\bar{X}_n - p| \\geq 0.2 \\right) \\leq exp \\left(-2100(0.2)^2\\right) = 0.00067$$\n"
   ]
  },
  {
   "cell_type": "markdown",
   "id": "b3a25f66-bb31-4854-aea5-8fa5ef7f1b92",
   "metadata": {},
   "source": [
    "## Mill's inequality"
   ]
  },
  {
   "cell_type": "markdown",
   "id": "0ef63428-a94c-416f-a65b-594ef56fc0af",
   "metadata": {},
   "source": [
    "## References\n",
    "\n",
    "1. Larry Wasserman, _All of Statistics. A Concise Course in Statistical Inference_, Springer 2003.\n",
    "2. <a href=\"https://en.wikipedia.org/wiki/Markov's_inequality\">Markov's inequality</a>\n",
    "3. <a href=\"https://en.wikipedia.org/wiki/Chebyshev's_inequality\">Chebyshev's inequality</a>\n",
    "4. <a href=\"https://en.wikipedia.org/wiki/Hoeffding's_inequality\">Hoeffding's inequality</a>"
   ]
  }
 ],
 "metadata": {
  "kernelspec": {
   "display_name": "Python 3 (ipykernel)",
   "language": "python",
   "name": "python3"
  },
  "language_info": {
   "codemirror_mode": {
    "name": "ipython",
    "version": 3
   },
   "file_extension": ".py",
   "mimetype": "text/x-python",
   "name": "python",
   "nbconvert_exporter": "python",
   "pygments_lexer": "ipython3",
   "version": "3.10.12"
  }
 },
 "nbformat": 4,
 "nbformat_minor": 5
}
