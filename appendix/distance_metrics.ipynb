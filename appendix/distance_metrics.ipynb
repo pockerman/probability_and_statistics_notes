{
 "cells": [
  {
   "cell_type": "markdown",
   "id": "5cb249c5-6f7d-4207-a8df-a6ff3dc3dd42",
   "metadata": {},
   "source": [
    "# Distance Metrics"
   ]
  },
  {
   "cell_type": "markdown",
   "id": "1da8b292-72d6-407f-bb41-461ce86b1da5",
   "metadata": {},
   "source": [
    "## Overview"
   ]
  },
  {
   "cell_type": "markdown",
   "id": "2de7c878-5665-412d-8174-e80cae25fc81",
   "metadata": {},
   "source": [
    "In this appendix, we want to review the notion of the distance metric. Algorithms such as K-nearest neighbours and K-means\n",
    "require a way to measure how close or far apart two data points are. This is achieved by using a distance metric. There\n",
    "is a variety of distance metrics as we will see below, and each one of these may be more appropriate than others depending of the task at hand.\n",
    "\n",
    "Closely related to the idea of the distance is the idea of similarity. We will also discuss this in this appendix"
   ]
  },
  {
   "cell_type": "markdown",
   "id": "1184687b-c2c6-4f1a-9721-c6831b7454a6",
   "metadata": {},
   "source": [
    "## Distance metrics"
   ]
  },
  {
   "cell_type": "markdown",
   "id": "ec63b14b-1aa2-4182-8978-a506a5852dfc",
   "metadata": {},
   "source": [
    "#### $L_p$ metrics"
   ]
  },
  {
   "cell_type": "markdown",
   "id": "21eada95-767a-4bd4-b0e6-d1078655a6ee",
   "metadata": {},
   "source": [
    "### Chebyshev distance"
   ]
  },
  {
   "cell_type": "code",
   "execution_count": null,
   "id": "baa224b4-ecf2-47f7-860d-09cbf104e971",
   "metadata": {},
   "outputs": [],
   "source": []
  },
  {
   "cell_type": "markdown",
   "id": "440e80fc-850a-461b-b13b-22953c90ed54",
   "metadata": {},
   "source": [
    "## Similarity"
   ]
  },
  {
   "cell_type": "markdown",
   "id": "b8af3c05-62eb-4d41-b8a1-fc0ecb0be94a",
   "metadata": {},
   "source": [
    "We have seen various distance metrics. We now we want to discuss the notion of similarity.\n",
    "Typically, similarity scores are designed to range in $[0,1]$ For example\n",
    "\n",
    "\n",
    "$$\\text{similarity} = \\frac{1}{1 + \\text{distance}}$$\n",
    "\n",
    "or \n",
    "\n",
    "\n",
    "$$\\text{similarity} = 1 - \\text{distance}$$\n",
    "\n",
    "Clearly, from the simple formulas above, we can compute the distance if we know the similarity and vice versa\n",
    "However, for similaries based on angular metrics e.g. cosine "
   ]
  },
  {
   "cell_type": "code",
   "execution_count": null,
   "id": "a606254b-4c31-4823-8a35-1ba22c28440e",
   "metadata": {},
   "outputs": [],
   "source": []
  }
 ],
 "metadata": {
  "kernelspec": {
   "display_name": "Python 3 (ipykernel)",
   "language": "python",
   "name": "python3"
  },
  "language_info": {
   "codemirror_mode": {
    "name": "ipython",
    "version": 3
   },
   "file_extension": ".py",
   "mimetype": "text/x-python",
   "name": "python",
   "nbconvert_exporter": "python",
   "pygments_lexer": "ipython3",
   "version": "3.10.12"
  }
 },
 "nbformat": 4,
 "nbformat_minor": 5
}
