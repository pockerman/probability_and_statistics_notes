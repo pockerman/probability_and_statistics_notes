{
 "cells": [
  {
   "cell_type": "markdown",
   "id": "85adcf3a-dcbe-4fe3-b77d-41a888212ed9",
   "metadata": {},
   "source": [
    "# Linear Algebra"
   ]
  },
  {
   "cell_type": "markdown",
   "id": "cd37c68a-c3ad-4bcc-8eff-2c0d0e07a898",
   "metadata": {},
   "source": [
    "In this appendix we introduce some basic components of <a href=\"https://en.wikipedia.org/wiki/Linear_algebra\">Linear algebra</a>that are needed mostly in the fields of machine learning, data analysis and computational statistics. Linear algebra and in particular \n",
    "<a href=\"https://en.wikipedia.org/wiki/Numerical_linear_algebra\">computational linear algebra</a> plays\n",
    "a key role in almost all the material that is discussed in these notes.\n",
    "\n",
    "In computational linear algebra we are concerned with the solution of linear systems of equations.\n",
    "We can express such a system in the form\n",
    "\n",
    "$$A \\mathbf{x} = \\mathbf{b}$$\n",
    "\n",
    "We will see under which conditions such a system is solvable. In any case, we when solve such a system\n",
    "we are interested in \n",
    "\n",
    "- accuracy; the algorithm stability as well as how well-conditioned the problem is play a crucial role\n",
    "- efficiency; in general we are interested in large systems of equations\n",
    "\n",
    "In general, the system of equations given above, will have a unique solution iff \n",
    "\n",
    "$$det(A) \\neq 0$$\n",
    "\n",
    "This condition implies that $A$ has linearly independent rows/columns and that A is invertible.\n",
    "In this case the system has a unique solution given by\n",
    "\n",
    "$$ \\mathbf{x} = A^{-1}\\mathbf{b}$$\n",
    "\n",
    "Notice however that for the systems we are interested in, computing the matrix inverse i.e. $A^{-1}$ is either\n",
    "computationally expensive or not feasible. So, although in theory we have a nice respresentation of the unique solution,\n",
    "in practice this may not always be very useful.\n",
    "\n",
    "\n",
    "When $$det(A) = 0$$\n",
    "\n",
    "the system may have infinite solutions or none. When $\\mathbf{b} \\in ~range(A)$\n",
    "then the system has an inifinite number of solutions. Whereas when $\\mathbf{b} \\notin ~range(A)$\n",
    "the system has no solutions."
   ]
  },
  {
   "cell_type": "markdown",
   "id": "f61134b9-1403-4b9c-9d7f-c18aa9727e78",
   "metadata": {},
   "source": [
    "## Matrix decomposition"
   ]
  },
  {
   "cell_type": "markdown",
   "id": "e2f2f933-247b-4961-aaf3-6d6ee501359c",
   "metadata": {},
   "source": [
    "Matrix decomposition, or matrix factorisation, is a way to somehow reduce a matrix into some simpler to use constiturent\n",
    "component. Thus, in general, the aim of matrix decomposition is to simplify matrix operations.\n",
    "There are many was to decompose a matrix but in this appendix we will look into the following three techniques\n",
    "\n",
    "\n",
    "- LU factorisation\n",
    "- SVD factorisation\n",
    "- QR factorisation\n",
    "- Eigenvalue decomposition"
   ]
  },
  {
   "cell_type": "markdown",
   "id": "f19e8908-516b-4715-8d25-e9b40a6c3ee4",
   "metadata": {},
   "source": [
    "### LU factorisation"
   ]
  },
  {
   "cell_type": "markdown",
   "id": "20a99ccf-021b-4e2b-bd55-d2bf4137b7a1",
   "metadata": {},
   "source": [
    "When dealing with square matrices, <a href=\"https://en.wikipedia.org/wiki/LU_decomposition\">LU factorisation</a> is an approach we can use to factor a matrix into\n",
    "its upper and lower tringular matrices i.e.\n",
    "\n",
    "\\begin{equation}\n",
    "A = LU\n",
    "\\end{equation}\n",
    "\n",
    "where $L$ is the lower triangular matrix and $U$ the upper traingular.\n",
    "\n",
    "For the matrices of interest in compuational statistics, LU decomposition is found using numerical methods.\n",
    "\n",
    "\n",
    "#### LU factorisation with partial pivoting\n",
    "\n",
    "These methods however can  fail when a matrix cannot be decomposed. Hence, numerical software, implement\n",
    "LU decomposition with partial pivoting. In this case the matrix $A$ is decomposed into\n",
    "\n",
    "\\begin{equation}\n",
    "A = LUP\n",
    "\\end{equation}\n",
    "\n",
    "In this approach to LU decomposition, the rows of the matrix $A$ are re-ordered to simplify the decomposition process.\n",
    "The $P$ matrix specifies a way to permute the result or return the result to the original order. "
   ]
  },
  {
   "cell_type": "markdown",
   "id": "9ad4ab27-e328-4e03-8251-3361f4960d86",
   "metadata": {},
   "source": [
    "### Singular Value Decomposition"
   ]
  },
  {
   "cell_type": "markdown",
   "id": "a75d7745-d410-4c61-8361-bb11cd1bcb5a",
   "metadata": {},
   "source": [
    "## References"
   ]
  },
  {
   "cell_type": "markdown",
   "id": "f50cd0b3-1427-4b5a-9f86-503008a00674",
   "metadata": {},
   "source": [
    "The following is a list of resources that have been used in one way or another in order to put this\n",
    "chapter together.\n",
    "\n",
    "- <a href=\"https://github.com/fastai/numerical-linear-algebra\">Computational Linear Algebra for Coders</a> GitHub repository with\n",
    "material related to Computational linear algebra with a focus on Machine Learning."
   ]
  }
 ],
 "metadata": {
  "kernelspec": {
   "display_name": "Python 3 (ipykernel)",
   "language": "python",
   "name": "python3"
  },
  "language_info": {
   "codemirror_mode": {
    "name": "ipython",
    "version": 3
   },
   "file_extension": ".py",
   "mimetype": "text/x-python",
   "name": "python",
   "nbconvert_exporter": "python",
   "pygments_lexer": "ipython3",
   "version": "3.10.12"
  }
 },
 "nbformat": 4,
 "nbformat_minor": 5
}
