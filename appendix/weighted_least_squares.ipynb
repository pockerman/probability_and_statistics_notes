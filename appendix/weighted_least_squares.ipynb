{
 "cells": [
  {
   "cell_type": "markdown",
   "id": "4f64cbd2-ce95-49b7-844d-2f812d8eaae1",
   "metadata": {},
   "source": [
    "# Weighted Least Squares {#sec-weighted-least-squares}"
   ]
  },
  {
   "cell_type": "markdown",
   "id": "d693316a-86b9-4279-a757-c400b6df46e9",
   "metadata": {},
   "source": [
    "## Overview\n",
    "\n",
    "Appendix @sec-least-squares introduced the idea of least squares. This is an approach that we can use when a system of equations of the form\n",
    "\n",
    "\\begin{equation}\n",
    "Ax = b \\tag{eq:1}\n",
    "\\end{equation}\n",
    "\n",
    "does not have a solution and we are interested in finding the best approximate solution. However in appeindix @sec-least-squares\n",
    "we assumed that all measurements have the same quality. This need not be the case. In this appeindix we discuss an extension\n",
    "of the idea of least squares whereby the importance of the samples is taken into account. This method is known as\n",
    "<a href=\"https://en.wikipedia.org/wiki/Weighted_least_squares\">weighted least squares</a>\n"
   ]
  },
  {
   "cell_type": "markdown",
   "id": "cec48c20-c449-4c70-b80d-ec1b61c72cc2",
   "metadata": {},
   "source": [
    "## Weighted least squares\n",
    "\n",
    "Frequently, we have measurements at our disposal about the values of some quantity of interest. However, these measurements may come from\n",
    "different sensors and therefore may not have the same quality. In this case we may want to weight more the good meausrements when\n",
    "performing the least squares approximation. But how do we know that the measurement is corrupted or of low quality?\n",
    "\n",
    "Once again we will assume a general linear model of the form\n",
    "\n",
    "\\begin{equation}\n",
    "\\mathbf{y} = A \\mathbf{w} + \\boldsymbol{\\epsilon} \\tag{eq:2}\n",
    "\\end{equation}\n",
    "\n",
    "that relates $m$ measurements with $n$ unknowns. We have seen this model in @sec-least-squares where we assumed homoscedacity of the noise terms; that is we assumed that \n",
    "\n",
    "\\begin{equation}\n",
    "E\\left[\\epsilon_i\\right] = \\sigma^2 \\tag{eq:3}\n",
    "\\end{equation}\n",
    "\n",
    "This is because we assumed that the error terms are iid; all random variable follows the same probability distribution and all the variables are mutually independent (i.e., the cross-covariance of any pair is zero). Now we want to relax this assumption and assume that \n",
    "each noise term has its variance;\n",
    "\n",
    "\n",
    "\\begin{equation}\n",
    "E\\left[\\epsilon_i\\right] = \\sigma^{2}_{i} \\tag{eq:4}\n",
    "\\end{equation}\n",
    "\n",
    "By doing so allows us to define  a weighted least squares criterion\n",
    "\n",
    "\\begin{equation}\n",
    "SSE = \\sum_i \\frac{1}{ \\sigma^{2}_{i}}(\\hat{f}(x_i) - y_i)^2 \\tag{eq:5}\n",
    "\\end{equation}\n",
    "\n",
    "\n",
    "In equation \\ref{eq:5} the lower $\\sigma^{2}_{i}$ is  the more weight is attributed to the associated squared error. That is we care less\n",
    "for errors that come from low quality or high variance measurements.\n"
   ]
  },
  {
   "cell_type": "code",
   "execution_count": null,
   "id": "a0ec8ae5-3159-43a8-aac6-e6c90c6c22a9",
   "metadata": {},
   "outputs": [],
   "source": []
  },
  {
   "cell_type": "code",
   "execution_count": null,
   "id": "090649dd-c943-4462-845f-ded454207113",
   "metadata": {},
   "outputs": [],
   "source": []
  },
  {
   "cell_type": "code",
   "execution_count": null,
   "id": "5b090e59-b581-4be1-ad43-562c355e7651",
   "metadata": {},
   "outputs": [],
   "source": []
  },
  {
   "cell_type": "code",
   "execution_count": null,
   "id": "ee953135-bd25-456b-a971-efad1b9e4052",
   "metadata": {},
   "outputs": [],
   "source": []
  },
  {
   "cell_type": "code",
   "execution_count": null,
   "id": "144e3033-246f-4092-9134-00ca3db2649c",
   "metadata": {},
   "outputs": [],
   "source": []
  },
  {
   "cell_type": "code",
   "execution_count": null,
   "id": "ffe5cfce-b665-4656-a152-de0dd9c83e42",
   "metadata": {},
   "outputs": [],
   "source": []
  },
  {
   "cell_type": "code",
   "execution_count": null,
   "id": "7c584737-a58f-4195-b414-7d107123cd14",
   "metadata": {},
   "outputs": [],
   "source": []
  },
  {
   "cell_type": "code",
   "execution_count": null,
   "id": "ff4a2ac0-68d3-493c-b034-c852ce92633d",
   "metadata": {},
   "outputs": [],
   "source": []
  },
  {
   "cell_type": "code",
   "execution_count": null,
   "id": "354c8835-1f6a-4186-92f7-5742a89bfbbb",
   "metadata": {},
   "outputs": [],
   "source": []
  },
  {
   "cell_type": "code",
   "execution_count": null,
   "id": "67ceeb72-31b5-428a-b2c8-e9c7d64e7e21",
   "metadata": {},
   "outputs": [],
   "source": []
  },
  {
   "cell_type": "code",
   "execution_count": null,
   "id": "531b997b-443b-499c-8722-3a95b4549ffe",
   "metadata": {},
   "outputs": [],
   "source": []
  },
  {
   "cell_type": "code",
   "execution_count": null,
   "id": "0e45063d-6a41-4e91-8676-bbae80595c71",
   "metadata": {},
   "outputs": [],
   "source": []
  },
  {
   "cell_type": "markdown",
   "id": "3f23243f-8ca1-4862-a2fb-3b495fcc5938",
   "metadata": {},
   "source": [
    "## References\n",
    "\n",
    "1.<a href=\"https://en.wikipedia.org/wiki/Weighted_least_squares\">Weighted least squares</a>"
   ]
  }
 ],
 "metadata": {
  "kernelspec": {
   "display_name": "Python 3 (ipykernel)",
   "language": "python",
   "name": "python3"
  },
  "language_info": {
   "codemirror_mode": {
    "name": "ipython",
    "version": 3
   },
   "file_extension": ".py",
   "mimetype": "text/x-python",
   "name": "python",
   "nbconvert_exporter": "python",
   "pygments_lexer": "ipython3",
   "version": "3.10.12"
  }
 },
 "nbformat": 4,
 "nbformat_minor": 5
}
