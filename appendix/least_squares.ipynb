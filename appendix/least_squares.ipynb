{
 "cells": [
  {
   "cell_type": "markdown",
   "id": "e6083c99",
   "metadata": {},
   "source": [
    "# Least Squares {#sec-leastsquares}"
   ]
  },
  {
   "cell_type": "markdown",
   "id": "ed6bb45b",
   "metadata": {},
   "source": [
    "## Overview"
   ]
  },
  {
   "cell_type": "markdown",
   "id": "4df24370",
   "metadata": {},
   "source": [
    "Linear regression is a simple statistical model where it relates the value of one variable $Y$, also known as the response\n",
    "variable, with the value of a number of predictor variables $\\mathbf{X}$. In order to predict the weights associated with\n",
    "the assumed functional relationship, linear in this case, one can use the  <a href=\"https://en.wikipedia.org/wiki/Least_squares\">least squares</a>\n",
    "approach and n particular linear least squares. \n",
    "\n",
    "For a model of the form \n",
    "\n",
    "$$y = w_0 + w_1x_1+ \\dots + w_{m}x_m + \\epsilon \\tag{1}$$\n",
    "\n",
    "linear least squares minimize the sum of the squared residuals i.e. it minimizes a quantity of the form\n",
    "\n",
    "\n",
    "$$J = \\sum_i \\left(y_i - \\hat{y}_i\\right)^2$$\n",
    "\n"
   ]
  },
  {
   "cell_type": "markdown",
   "id": "c0c367a3-0079-4b78-a2db-35b92734be54",
   "metadata": {},
   "source": [
    "## Least squares"
   ]
  },
  {
   "cell_type": "markdown",
   "id": "bdad9377",
   "metadata": {},
   "source": [
    "Least squares is a standard approach to use when doing regression analysis. \n",
    "In this scenario,  we want to approximate the solution of overdetermined systems [1].\n",
    "\n",
    "----\n",
    "**Overdetermined system**\n",
    "\n",
    "In linear algebra, a system of equation is called overdetermined if it involves more equations to solve for than unknowns.\n",
    "\n",
    "----\n",
    "\n",
    "\n",
    "We do so by minimizing the sum of the squares of the residuals (see below). \n",
    "It can be shown that when the residuals follow the normal distribution, the \n",
    "ordinary least squares estimate coincides with the maximum likelihood estimate. \n",
    "\n",
    "\n",
    "----\n",
    "**Residual and sum of the squares of the residuals**\n",
    "\n",
    "\n",
    "Approximating a function always involves an error. For example let's say we want to approximate the value of a  function $f$ at point $x_0$. The exact form of $f$ is unknown. Therefore, we use some sort of an assumed approximation of $f$, say $\\hat{f}$. We define the residual to be given by:\n",
    "\n",
    "\n",
    "$$e_{x_0} = \\hat{f}(x_0) - y$$\n",
    "\n",
    "where $y$ is the observed value of $f$ at $x_0$. The above may seem somehow counter intuitive as it involves the value of $f$ at $x_0$ i.e. $y$. However, for the applications we are interested in, we typically have data in the form $(x_i, y_i)$ and we are interested in a model that approximates the data generator. This type of data we call it labeled data.\n",
    "\n",
    "Now assume we have a collection of points to estimate $f$ and also assume that we know the values of it at the collected points. Then the sum of the squares is simple\n",
    "\n",
    "$$SSE = \\sum_i (\\hat{f}(x_i) - y_i)^2$$\n",
    "\n",
    "\n",
    "----\n"
   ]
  },
  {
   "cell_type": "markdown",
   "id": "d2fa4ed4",
   "metadata": {},
   "source": []
  },
  {
   "cell_type": "markdown",
   "id": "cf3c9296",
   "metadata": {},
   "source": [
    "In order to have a better understanding of the method of leats squares, we will\n",
    "assume that the data availbale to us is generated via the following function where $x \\in [0, 1]$"
   ]
  },
  {
   "cell_type": "markdown",
   "id": "df9dc0e6",
   "metadata": {},
   "source": [
    "$$f(x) = sin(2\\pi x) + \\epsilon$$"
   ]
  },
  {
   "cell_type": "markdown",
   "id": "eedbf3e1",
   "metadata": {},
   "source": [
    "where $\\epsilon$ will be some normally distributed noise term. \n",
    "Further, we will assume the follwing linear model in order to fit into the generated data."
   ]
  },
  {
   "cell_type": "markdown",
   "id": "ca130a9d",
   "metadata": {},
   "source": [
    "$$\\hat{y} = w_0 + w_1 x$$"
   ]
  },
  {
   "cell_type": "markdown",
   "id": "72fe456c",
   "metadata": {},
   "source": [
    "We know that this will not necessarily be a good fit as the data generating source \n",
    "is a non-linear function whilst we try to fit a linear model. In fact, for each observation, we commit the following error"
   ]
  },
  {
   "cell_type": "markdown",
   "id": "bc91c78e-5167-45d9-b20c-1f17ff45b9f8",
   "metadata": {},
   "source": [
    "$$e_i = \\hat{y}_i - y_i$$"
   ]
  },
  {
   "cell_type": "markdown",
   "id": "0609bfa5-13f0-45dc-a07b-7e669016c9ab",
   "metadata": {},
   "source": [
    "The total error is then given by "
   ]
  },
  {
   "cell_type": "markdown",
   "id": "bca9c9c7-b2e6-404d-8d55-ef084b89d752",
   "metadata": {},
   "source": [
    "$$e_{total} = \\sum_i e_i$$"
   ]
  },
  {
   "cell_type": "markdown",
   "id": "68346b1e-72b8-4cef-ac3c-80a79d8afbc2",
   "metadata": {},
   "source": [
    "When using least squares, our aim is to minimize the, average, error over the data set. Using the expression above is not very useful;\n",
    "the positive and negative terms can cancel each other.  A more useful error description is the _SSE_ error function we saw above.\n",
    "Thus, when using least squares, we want to minimize the _SSE_ expression. \n",
    "From calculus we know that the extremum points (maximum or minimum) are located at the end \n",
    "of the inteval the function in hand is defined and at the points where the first derivative of the function is zero. \n",
    "We want to take the derivative however with respect to the unknown coefficients. In this respect we have"
   ]
  },
  {
   "cell_type": "markdown",
   "id": "f7d77f4a",
   "metadata": {},
   "source": [
    "$$\\frac{\\partial SSE}{\\partial w_0} = 2 \\sum_i (\\hat{f}(x_i) - y_i) = 0$$\n",
    "$$\\frac{\\partial SSE}{\\partial w_1} = 2 \\sum_i (\\hat{f}(x_i) - y_i)x_i = 0$$"
   ]
  },
  {
   "cell_type": "markdown",
   "id": "0f15f7e6",
   "metadata": {},
   "source": [
    "The resilting expressions can be quite involved.  Linear algebra can be a great deal of help to us in order to simplify things, see also [3]. "
   ]
  },
  {
   "cell_type": "markdown",
   "id": "f2c5b269",
   "metadata": {},
   "source": [
    "**Theorem**\n",
    "\n",
    "Let  the $n \\times m$ matrix  and the $\\mathbf{b} \\in R^n$ vector. The following are equivalent\n",
    "\n",
    "- The system of equations \n",
    "\n",
    "$$A \\mathbf{w} = \\mathbf{b}$$\n",
    "\n",
    "has a unique least-squares solution given by\n",
    "\n",
    "$$\\hat{\\mathbf{w}} = (A^TA)^{-1}A\\mathbf{b}$$\n",
    "\n",
    "- The columns of $A$ are linearly independent \n",
    "- The matrix $A^TA$ is invertible"
   ]
  },
  {
   "cell_type": "markdown",
   "id": "ce79464d-6800-4e30-bbda-d4891aee1620",
   "metadata": {},
   "source": [
    "Hence, according to the theorem, the least squares solution is unique, provided that the  matrix $A^TA$ is invertible which means that $det(A^TA)$ should not be equal to zero. \n",
    "This is always possible if the matrix $A$ representing the data set, has full rank with respect to the columns. Specifically, if $rank(A) = m$, \n",
    "then the features are linearly independent and thus the matrix $A^TA$ has no columns or rows that \n",
    "are proportional to others (something that would lead to $det(A^TA)=0$). \n",
    "Another viewpoint about uniqueness is provided by the fact that the loss function _SSE_ is a quadratic function thus it should have a global minimum point. "
   ]
  },
  {
   "cell_type": "markdown",
   "id": "d523fa3f-6dbc-4414-8468-ddbd7bcbf1e6",
   "metadata": {},
   "source": [
    "----\n",
    "\n",
    "**Normal equations**\n",
    "\n",
    "The equations implied by the solution above i.e.\n",
    "\n",
    "$$A^TA\\mathbf{\\hat{w}} =  A^T\\mathbf{b}$$\n",
    "\n",
    "are known as the <a href=\"https://mathworld.wolfram.com/NormalEquation.html\">normal equations</a>.\n",
    "\n",
    "----"
   ]
  },
  {
   "cell_type": "markdown",
   "id": "3bc607ea",
   "metadata": {},
   "source": [
    "Let's try to materialize all the above using Python to set up a small numerical example."
   ]
  },
  {
   "cell_type": "markdown",
   "id": "e309bfba",
   "metadata": {},
   "source": [
    "## Python code"
   ]
  },
  {
   "cell_type": "markdown",
   "id": "d2945655",
   "metadata": {},
   "source": [
    "In this section, we will use Python to program linear least squares. Using the "
   ]
  },
  {
   "cell_type": "code",
   "execution_count": 2,
   "id": "ad99c791",
   "metadata": {},
   "outputs": [],
   "source": [
    "import numpy as np\n",
    "import matplotlib.pyplot as plt"
   ]
  },
  {
   "cell_type": "markdown",
   "id": "792b9ce1",
   "metadata": {},
   "source": [
    "Generate $N=50$ points."
   ]
  },
  {
   "cell_type": "code",
   "execution_count": 3,
   "id": "3138281e",
   "metadata": {},
   "outputs": [],
   "source": [
    "# generate 50 points in the interval [0, 1]\n",
    "N = 50\n",
    "x = np.linspace(0.0, 1.0, N)"
   ]
  },
  {
   "cell_type": "code",
   "execution_count": 4,
   "id": "968dc128",
   "metadata": {},
   "outputs": [],
   "source": [
    "# We add some noise in the generated observations\n",
    "mu, sigma = 0, 0.1\n",
    "\n",
    "# compute the function\n",
    "y = np.sin(2.0*np.pi*x) + np.random.normal(mu, sigma, len(x))"
   ]
  },
  {
   "cell_type": "markdown",
   "id": "e988fce7",
   "metadata": {},
   "source": [
    "Plot the data to get an idea how it looks like."
   ]
  },
  {
   "cell_type": "code",
   "execution_count": 5,
   "id": "952b5540",
   "metadata": {},
   "outputs": [
    {
     "data": {
      "image/png": "[encoded data removed]",
      "text/plain": [
       "<Figure size 432x288 with 1 Axes>"
      ]
     },
     "metadata": {
      "needs_background": "light"
     },
     "output_type": "display_data"
    }
   ],
   "source": [
    "plt.plot(x, y, 'bo')\n",
    "plt.xlabel(\"x-axis\")\n",
    "plt.ylabel(\"$sin(2\\pi x)$\")\n",
    "plt.show()"
   ]
  },
  {
   "cell_type": "markdown",
   "id": "2205665f",
   "metadata": {},
   "source": [
    "Stack the data in a matrix form to pass it in <a href=\"https://numpy.org/doc/stable/reference/generated/numpy.linalg.lstsq.html\">numpy.linalg.lstsq</a>"
   ]
  },
  {
   "cell_type": "code",
   "execution_count": 7,
   "id": "28587052",
   "metadata": {},
   "outputs": [],
   "source": [
    "A = np.vstack([x, np.ones(len(x))]).T"
   ]
  },
  {
   "cell_type": "code",
   "execution_count": 8,
   "id": "818fd599",
   "metadata": {},
   "outputs": [],
   "source": [
    "c_1, c_0 = np.linalg.lstsq(np.array(A), y, rcond=None)[0]"
   ]
  },
  {
   "cell_type": "code",
   "execution_count": 9,
   "id": "bb3fd52a",
   "metadata": {},
   "outputs": [
    {
     "name": "stdout",
     "output_type": "stream",
     "text": [
      "c_0=0.9057406822337607\n",
      "c_1=-1.7893338972841375\n"
     ]
    }
   ],
   "source": [
    "print(f\"c_0={c_0}\")\n",
    "print(f\"c_1={c_1}\")"
   ]
  },
  {
   "cell_type": "markdown",
   "id": "06f17ce4",
   "metadata": {},
   "source": [
    "Let's create a polynomial from these parameters and plot. We can use the "
   ]
  },
  {
   "cell_type": "code",
   "execution_count": 14,
   "id": "33b63f89",
   "metadata": {},
   "outputs": [],
   "source": [
    "best_fit_line = np.polynomial.Polynomial([c_0, c_1])"
   ]
  },
  {
   "cell_type": "code",
   "execution_count": 17,
   "id": "e1cf076c",
   "metadata": {},
   "outputs": [
    {
     "name": "stdout",
     "output_type": "stream",
     "text": [
      "0.9057406822337607 - 1.7893338972841375·x¹\n"
     ]
    }
   ],
   "source": [
    "print(best_fit_line)"
   ]
  },
  {
   "cell_type": "code",
   "execution_count": 15,
   "id": "9f6c616e",
   "metadata": {},
   "outputs": [],
   "source": [
    "y_hat_vals = best_fit_line(x)"
   ]
  },
  {
   "cell_type": "code",
   "execution_count": 16,
   "id": "01abbcef",
   "metadata": {},
   "outputs": [
    {
     "data": {
      "image/png": "[encoded data removed]",
      "text/plain": [
       "<Figure size 432x288 with 1 Axes>"
      ]
     },
     "metadata": {
      "needs_background": "light"
     },
     "output_type": "display_data"
    }
   ],
   "source": [
    "plt.plot(x, y, 'bo')\n",
    "plt.plot(x, y_hat_vals, 'r+')\n",
    "plt.xlabel(\"x-axis\")\n",
    "plt.ylabel(\"$sin(2\\pi x)$\")\n",
    "plt.show()"
   ]
  },
  {
   "cell_type": "markdown",
   "id": "e6f1b71a",
   "metadata": {},
   "source": [
    "## Summary"
   ]
  },
  {
   "cell_type": "markdown",
   "id": "5220e9b9",
   "metadata": {},
   "source": [
    "The present section introduced linear least squares and how to use it in order to fit a line in a data set. \n",
    "In particular, we assumed that the data set is generated by \n",
    "\n",
    "$$f(x) = sin(2\\pi x) + \\epsilon$$\n",
    "\n",
    "however in practice we won't know this. The ordinary least squares, is equivalient to the maximum likelihood estimate when $\\epsilon$ is normally distributed.\n",
    "Finally, we saw the conditions required in order to have a unique least squares solution.\n",
    "\n"
   ]
  },
  {
   "cell_type": "markdown",
   "id": "5ef0b145-3157-4063-b60b-37032ed42b23",
   "metadata": {},
   "source": [
    "One thing that this chapter did not touch is the quality of the estimated solution. We will look into how to measure the goodness of fit\n",
    "when we discuss linear regression.\n",
    "\n",
    "\n",
    "Least squares are not robust against outliers which can have a large effect on the estimated coefficients and their standard errors."
   ]
  },
  {
   "cell_type": "markdown",
   "id": "d9563dc6",
   "metadata": {},
   "source": [
    "## References\n"
   ]
  },
  {
   "cell_type": "markdown",
   "id": "e41f3083",
   "metadata": {},
   "source": [
    "1. <a href=\"https://en.wikipedia.org/wiki/Least_squares\">Least squares</a>\n",
    "2. <a href=\"https://mathworld.wolfram.com/LeastSquaresFitting.html\">Least Squares Fitting</a>\n",
    "3. <a href=\"https://textbooks.math.gatech.edu/ila/least-squares.html\">The Method of Least Squares</a>"
   ]
  }
 ],
 "metadata": {
  "kernelspec": {
   "display_name": "Python 3 (ipykernel)",
   "language": "python",
   "name": "python3"
  },
  "language_info": {
   "codemirror_mode": {
    "name": "ipython",
    "version": 3
   },
   "file_extension": ".py",
   "mimetype": "text/x-python",
   "name": "python",
   "nbconvert_exporter": "python",
   "pygments_lexer": "ipython3",
   "version": "3.10.12"
  }
 },
 "nbformat": 4,
 "nbformat_minor": 5
}
